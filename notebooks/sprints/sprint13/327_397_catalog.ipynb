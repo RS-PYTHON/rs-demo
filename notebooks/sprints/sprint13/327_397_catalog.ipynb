{
 "cells": [
  {
   "cell_type": "markdown",
   "id": "e3d48a1b",
   "metadata": {},
   "source": [
    "## This demo focuses on the following two stories:\n",
    "- RSPY-327\n",
    "- RSPY-397\n",
    "\n",
    "The goal of these stores was to identify which assets from an item already exist in the S3 catalog bucket and transfer only the new assets from the temporary S3 bucket to the final S3 bucket. When updating an item using the PUT request method, any asset present in the catalog but not included in the request is removed from the catalog and physically deleted from the S3 bucket. Additionally, the code needed to be updated (for both rs-server-catalog and rs-client-libraries) to support using the filename as the key in the `Asset` section.\n",
    "```\n",
    "\"assets\": {\n",
    "        \"first-file.EOF\": {\n",
    "            \"href\": \"https://dev-rspy.esa-copernicus.eu/catalog/collections/user:S1A_aux/items/my-item/download/first-file.EOF\",\n",
    "            \"alternate\": {\n",
    "                \"s3\": {\n",
    "                    \"href\": \"s3://rs-cluster-catalog/user/S1A_aux/first-file.EOF\"\n",
    "                }\n",
    "            },\n",
    "        \"second-file.EOF\": {\n",
    "            \"href\": \"https://dev-rspy.esa-copernicus.eu/catalog/collections/user:S1A_aux/items/my-item/download/second-file.EOF\",\n",
    "            \"alternate\": {\n",
    "                \"s3\": {\n",
    "                    \"href\": \"s3://rs-cluster-catalog/user/S1A_aux/second-file.EOF\"\n",
    "                }\n",
    "            },\n",
    "        ......\n",
    "        }\n",
    "```"
   ]
  },
  {
   "cell_type": "code",
   "execution_count": null,
   "id": "513ee19d-3941-404e-8d48-3886f590280c",
   "metadata": {},
   "outputs": [],
   "source": [
    "# Init environment before running a demo notebook.\n",
    "from resources.utils import *\n",
    "user = \"jovyan\" if not local_mode else \"user\"\n",
    "init_demo(owner_id = user)\n",
    "from resources.utils import * # reload the global vars again"
   ]
  },
  {
   "cell_type": "markdown",
   "id": "4cb1c0d6",
   "metadata": {},
   "source": [
    "## Prepare the enviornment\n",
    "A test collection needs to be created for this demo. Additionally, 4 chunks from the CADIP station will be staged in the temporary S3 bucket. By using these files, 4 assets will be also created"
   ]
  },
  {
   "cell_type": "code",
   "execution_count": null,
   "id": "f8846820-cbcd-419b-9387-dbf01cc9875d",
   "metadata": {},
   "outputs": [],
   "source": [
    "# Create a test collection \n",
    "collection = create_test_collection()\n",
    "# Download 4 files from the cadip station\n",
    "files = cadip_client.search_stations(start_date, stop_date, limit=4)\n",
    "assets:list[dict] = []\n",
    "for count, file in enumerate(files):\n",
    "        first_filename = file[\"id\"]\n",
    "        s3_path = (\n",
    "            f\"s3://{RSPY_TEMP_BUCKET}/{cadip_client.apikey_user_login}/{cadip_client.station_name}\"\n",
    "        )\n",
    "        temp_s3_file = f\"{s3_path}/{first_filename}\"        \n",
    "        local_path = None\n",
    "        # Call the staging service\n",
    "        cadip_client.staging(first_filename, s3_path=s3_path, tmp_download_path=local_path)\n",
    "        # Then we can check when the staging has finished by calling the check status service\n",
    "        while True:\n",
    "            status = cadip_client.staging_status(first_filename)\n",
    "            print(f\"Staging status for {first_filename!r}: {status.value}\")\n",
    "            if status in [EDownloadStatus.DONE, EDownloadStatus.FAILED]:\n",
    "                print(\"\\n\")\n",
    "                break\n",
    "            sleep(1)\n",
    "        assert status == EDownloadStatus.DONE, \"Staging has failed\"\n",
    "\n",
    "        # The filename from the temp s3 bucket is set as the key in the dictionary\n",
    "        assets.insert(0, {temp_s3_file.split(\"/\")[-1] : Asset(href = temp_s3_file)})\n",
    "            \n",
    "import pprint\n",
    "pprint.PrettyPrinter(indent=4).pprint(assets)"
   ]
  },
  {
   "cell_type": "markdown",
   "id": "a85f25b5",
   "metadata": {},
   "source": [
    "## Define simulated values"
   ]
  },
  {
   "cell_type": "code",
   "execution_count": null,
   "id": "f249859a",
   "metadata": {},
   "outputs": [],
   "source": [
    "HEADERS={\"x-api-key\": apikey}\n",
    "\n",
    "REQUEST_TIMEOUT = 5\n",
    "ITEM_NAME = \"CADIP_SESSION_ITEM_DEMO\"\n",
    "\n",
    "# Simulated values\n",
    "WIDTH=2500\n",
    "HEIGHT=2500\n",
    "# Create a catalog item with one asset, the first one from the list of cadip files we downloaded\n",
    "geometry = {\n",
    "    \"type\": \"Polygon\",\n",
    "    \"coordinates\": [[[-180, -90], [180, -90], [180, 90], [-180, 90], [-180, -90]]],\n",
    "}\n",
    "bbox = [-180.0, -90.0, 180.0, 90.0]\n",
    "\n",
    "properties = {\n",
    "    \"gsd\": 0.12345,\n",
    "    \"width\": WIDTH,\n",
    "    \"height\": HEIGHT,\n",
    "    \"datetime\": datetime.now(),\n",
    "    \"proj:epsg\": 3857,\n",
    "    \"orientation\": \"nadir\",\n",
    "}"
   ]
  },
  {
   "cell_type": "markdown",
   "id": "0ec90080",
   "metadata": {},
   "source": [
    "## Create an item\n",
    "The item will include only one asset, using the first asset from the assets list we previously created "
   ]
  },
  {
   "cell_type": "code",
   "execution_count": null,
   "id": "b5ded1eb",
   "metadata": {},
   "outputs": [],
   "source": [
    "import requests\n",
    "import json\n",
    "\n",
    "item = Item(\n",
    "    collection=collection.id,\n",
    "    id=ITEM_NAME,\n",
    "    geometry=geometry,\n",
    "    bbox=bbox,\n",
    "    datetime=datetime.now(),\n",
    "    properties=properties,\n",
    "    assets=assets[0])\n",
    "\n",
    "pprint.PrettyPrinter(indent=4).pprint(item.to_dict())\n",
    "\n"
   ]
  },
  {
   "cell_type": "markdown",
   "id": "79ce8cbd",
   "metadata": {},
   "source": [
    "# Send the POST request\n",
    "This action has the role to initially publish the item in the catalog"
   ]
  },
  {
   "cell_type": "code",
   "execution_count": null,
   "id": "8f98a11f",
   "metadata": {},
   "outputs": [],
   "source": [
    "# Sending the post request to publish the item\n",
    "response = requests.post(\n",
    "    f\"{stac_client.href_catalog}/catalog/collections/{collection.id}/items/\",\n",
    "    json=item.to_dict(),\n",
    "    headers=HEADERS,\n",
    "    timeout = REQUEST_TIMEOUT,\n",
    ")\n",
    "response.raise_for_status()\n",
    "\n",
    "# Reading the newly inserted item from the catalog\n",
    "print(\"Reading the item\\n\")\n",
    "filter_ = {\n",
    "        \"op\": \"and\",\n",
    "        \"args\": [\n",
    "            {\"op\": \"=\", \"args\": [{\"property\": \"collection\"}, f\"{user}_{TEST_COLLECTION}\"]},\n",
    "            {\"op\": \"=\", \"args\": [{\"property\": \"owner\"}, user]},\n",
    "            {\"op\": \"=\", \"args\": [{\"property\": \"id\"}, ITEM_NAME]},\n",
    "        ],\n",
    "    }\n",
    "\n",
    "search = stac_client.search(filter=filter_)\n",
    "assert len(list(search.items_as_dicts())) == 1\n",
    "catalog_item = list(search.items_as_dicts())[0]\n",
    "pprint.PrettyPrinter(indent=4).pprint(catalog_item)"
   ]
  },
  {
   "cell_type": "markdown",
   "id": "c7e5835d",
   "metadata": {},
   "source": [
    "## Add a new asset to the already published item. "
   ]
  },
  {
   "cell_type": "code",
   "execution_count": null,
   "id": "c44644e3-2cef-4724-98a7-2afccd39cff9",
   "metadata": {},
   "outputs": [],
   "source": [
    "# Add a new asset to the already published item\n",
    "catalog_item[\"assets\"][list(assets[1].keys())[0]] = list(assets[1].values())[0].to_dict()\n",
    "pprint.PrettyPrinter(indent=4).pprint(catalog_item)\n"
   ]
  },
  {
   "cell_type": "markdown",
   "id": "d8728d1c",
   "metadata": {},
   "source": [
    "## Send the PUT request to update the item from the catalog\n",
    "The `rs-server-catalog` should transfer only the new asset from s3://rs-temp-bucket to s3://rs-catalog-bucket. It should ignore any asset that already exists both in the catalog and physically in s3://rs-catalog-bucket. To check this behavior, we have to look in the `rs-server-catalog` logs."
   ]
  },
  {
   "cell_type": "code",
   "execution_count": null,
   "id": "53f14ed0",
   "metadata": {},
   "outputs": [],
   "source": [
    "response = requests.put(\n",
    "    f\"{stac_client.href_catalog}/catalog/collections/{TEST_COLLECTION}/items/{catalog_item['id']}\",\n",
    "    json=catalog_item,\n",
    "    **apikey_headers,\n",
    "    timeout = REQUEST_TIMEOUT,\n",
    ")\n",
    "pprint.PrettyPrinter(indent=4).pprint(json.loads(response.content))"
   ]
  },
  {
   "cell_type": "markdown",
   "id": "7c92196a",
   "metadata": {},
   "source": [
    "## Attempt to change the path of the newly inserted asset.\n",
    "An error message should come from the `rs-server-catalog`"
   ]
  },
  {
   "cell_type": "code",
   "execution_count": null,
   "id": "4fa6ed61",
   "metadata": {},
   "outputs": [],
   "source": [
    "from starlette.status import ( \n",
    "    HTTP_400_BAD_REQUEST,    \n",
    ")\n",
    "# Setting another path for the previously inserted asset\n",
    "print(\"Trying to change the path of the previoulsy inserted asset\")\n",
    "catalog_item[\"assets\"][list(assets[1].keys())[0]] = {\"href\": f\"s3://rs-cluster-temp/another/path/to/{list(assets[1].keys())[0]}\"}\n",
    "response = requests.put(\n",
    "    f\"{stac_client.href_catalog}/catalog/collections/{TEST_COLLECTION}/items/{catalog_item['id']}\",\n",
    "    json=catalog_item,\n",
    "    **apikey_headers,\n",
    "    timeout = REQUEST_TIMEOUT,\n",
    ")\n",
    "assert response.status_code == HTTP_400_BAD_REQUEST\n",
    "print(\"The response from rs-server-catalog:\\n\")\n",
    "print(json.loads(response.content))"
   ]
  },
  {
   "cell_type": "markdown",
   "id": "1611d2a7",
   "metadata": {},
   "source": [
    "## Retrieve the item from the catalog again to ensure synchronization."
   ]
  },
  {
   "cell_type": "code",
   "execution_count": null,
   "id": "45bd4305-a37b-4540-ba36-ea7dd51cdda7",
   "metadata": {},
   "outputs": [],
   "source": [
    "search = stac_client.search(filter=filter_)\n",
    "assert len(list(search.items_as_dicts())) == 1\n",
    "catalog_item = list(search.items_as_dicts())[0]\n",
    "pprint.PrettyPrinter(indent=4).pprint(catalog_item)"
   ]
  },
  {
   "cell_type": "markdown",
   "id": "d3a82a75",
   "metadata": {},
   "source": [
    "## Add two new assets to the item but exclude the first one"
   ]
  },
  {
   "cell_type": "code",
   "execution_count": null,
   "id": "2336e0a0",
   "metadata": {},
   "outputs": [],
   "source": [
    "# Delete the first item from the item\n",
    "catalog_item[\"assets\"].pop(next(iter(catalog_item[\"assets\"])))\n",
    "# Add two new assets to the item (the last two chunks from the assets list we created at the beginning)\n",
    "for asset in assets[2:]:\n",
    "    catalog_item[\"assets\"][list(asset.keys())[0]] = list(asset.values())[0].to_dict()\n",
    "pprint.PrettyPrinter(indent=4).pprint(catalog_item)"
   ]
  },
  {
   "cell_type": "markdown",
   "id": "8fd2f1c9",
   "metadata": {},
   "source": [
    "## Send the PUT request to update the item\n",
    "This request will update the item in the catalog by transferring the two newly added CADIP chunks from the temporary S3 catalog to the final S3 catalog. The non-existing asset will be removed from the catalog as well as physically from the catalog s3 bucket. This behavior can be observed by checking the `rs-server-catalog` logs."
   ]
  },
  {
   "cell_type": "code",
   "execution_count": null,
   "id": "e31acf1e",
   "metadata": {},
   "outputs": [],
   "source": [
    "response = requests.put(\n",
    "    f\"{stac_client.href_catalog}/catalog/collections/{TEST_COLLECTION}/items/{catalog_item['id']}\",\n",
    "    json=catalog_item,\n",
    "    **apikey_headers,\n",
    "    timeout = REQUEST_TIMEOUT,\n",
    ")\n",
    "response.raise_for_status() \n",
    "catalog_item = json.loads(response.content)\n",
    "pprint.PrettyPrinter(indent=4).pprint(catalog_item)"
   ]
  },
  {
   "cell_type": "code",
   "execution_count": null,
   "id": "1bac1c22-81c3-427a-ac70-16f5bcc6556e",
   "metadata": {},
   "outputs": [],
   "source": []
  }
 ],
 "metadata": {
  "kernelspec": {
   "display_name": "Python 3 (ipykernel)",
   "language": "python",
   "name": "python3"
  },
  "language_info": {
   "codemirror_mode": {
    "name": "ipython",
    "version": 3
   },
   "file_extension": ".py",
   "mimetype": "text/x-python",
   "name": "python",
   "nbconvert_exporter": "python",
   "pygments_lexer": "ipython3",
   "version": "3.11"
  }
 },
 "nbformat": 4,
 "nbformat_minor": 5
}

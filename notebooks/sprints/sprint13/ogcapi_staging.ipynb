{
 "cells": [
  {
   "cell_type": "markdown",
   "metadata": {},
   "source": [
    "Create a new staging process. Processes are defined in deployment yaml, and are triggered using a POST to /processes/{process_name}/execution."
   ]
  },
  {
   "cell_type": "code",
   "execution_count": 2,
   "metadata": {},
   "outputs": [
    {
     "name": "stdout",
     "output_type": "stream",
     "text": [
      "200\n",
      "{'job_id': '232590a4-8324-4226-b0ce-1248b8c33856', 'message': 'Process executed successfully', 'result': {}}\n"
     ]
    }
   ],
   "source": [
    "import requests\n",
    "\n",
    "url = \"https://rsserverstaging.dev-rspy.esa-copernicus.eu/processes/staging/execution\"\n",
    "headers = {\n",
    "    'Content-Type': 'application/json'\n",
    "}\n",
    "data = '{}'\n",
    "\n",
    "response = requests.post(url, headers=headers, data=data)\n",
    "\n",
    "print(response.status_code)\n",
    "print(response.json())\n",
    "job_id = response.json()['job_id']"
   ]
  },
  {
   "cell_type": "markdown",
   "metadata": {},
   "source": [
    "Staging processes implements a POC processor that directly set the status to completed. To get a job status use /jobs/{job_id}.\n"
   ]
  },
  {
   "cell_type": "code",
   "execution_count": 5,
   "metadata": {},
   "outputs": [
    {
     "name": "stdout",
     "output_type": "stream",
     "text": [
      "{'job_id': '232590a4-8324-4226-b0ce-1248b8c33856', 'status': 'completedOK'}\n",
      "completedOK\n"
     ]
    }
   ],
   "source": [
    "response = requests.get(f\"https://rsserverstaging.dev-rspy.esa-copernicus.eu/jobs/{job_id}\")\n",
    "print(response.json())\n",
    "print(response.json()['status'])"
   ]
  }
 ],
 "metadata": {
  "kernelspec": {
   "display_name": "rs-venv",
   "language": "python",
   "name": "python3"
  },
  "language_info": {
   "codemirror_mode": {
    "name": "ipython",
    "version": 3
   },
   "file_extension": ".py",
   "mimetype": "text/x-python",
   "name": "python",
   "nbconvert_exporter": "python",
   "pygments_lexer": "ipython3",
   "version": "3.12.3"
  }
 },
 "nbformat": 4,
 "nbformat_minor": 2
}

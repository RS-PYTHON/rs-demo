{
 "cells": [
  {
   "cell_type": "code",
   "execution_count": null,
   "metadata": {},
   "outputs": [],
   "source": [
    "import requests\n",
    "import os\n",
    "import pprint\n",
    "\n",
    "pp = pprint.PrettyPrinter(indent=4)\n",
    "\n",
    "if os.getenv(\"RSPY_LOCAL_MODE\") == \"1\":\n",
    "    href = \"http://rs-server-cadip:8000\"\n",
    "    HEADERS = {}\n",
    "else:\n",
    "    href = os.environ[\"RSPY_WEBSITE\"]\n",
    "    HEADERS={\"headers\": {\"x-api-key\": os.environ[\"RSPY_APIKEY\"]}}\n",
    "\n",
    "collection_id = \"cadip_session_by_interval\""
   ]
  },
  {
   "attachments": {},
   "cell_type": "markdown",
   "metadata": {},
   "source": [
    "Collections are deployed by operators in k8s cluster. The following endpoints interact with cadip - pickup point /sessions endpoint and return a stac formatted response. /cadip/collections/{collection-id} returns a Collection type response, with links to the sessionsID matching queries defined in the deployed configuration. "
   ]
  },
  {
   "cell_type": "code",
   "execution_count": null,
   "metadata": {},
   "outputs": [],
   "source": [
    "pp.pprint(requests.get(f\"{href}/cadip/collections/{collection_id}\", **HEADERS).json())"
   ]
  },
  {
   "cell_type": "markdown",
   "metadata": {},
   "source": [
    "/cadip/collections/{collection-id}/items returns a ItemCollection containing informations about the matching sessions. Item's assets are not displayed."
   ]
  },
  {
   "cell_type": "code",
   "execution_count": null,
   "metadata": {},
   "outputs": [],
   "source": [
    "pp.pprint(requests.get(f\"{href}/cadip/collections/{collection_id}/items\", **HEADERS).json())"
   ]
  },
  {
   "cell_type": "markdown",
   "metadata": {},
   "source": [
    "/cadip/collections/{collection-id}/items/{session-id} returns a Item response, containing informations about a specific session. Item assets are completly displayed."
   ]
  },
  {
   "cell_type": "code",
   "execution_count": null,
   "metadata": {},
   "outputs": [],
   "source": [
    "pp.pprint(requests.get(f\"{href}/cadip/collections/{collection_id}/items/S1A_20200105072204051312\", **HEADERS).json())"
   ]
  },
  {
   "cell_type": "markdown",
   "metadata": {},
   "source": [
    "/cadip/search?collection={collection-id} is used to modify or enhance search parameters of an existing defined collection deployed-configuration. In the example below, we've selected cadip_session_by_interval, which defines a time-interval search and then set the platform to 'S2B', therefore creating a more specific search."
   ]
  },
  {
   "cell_type": "code",
   "execution_count": null,
   "metadata": {},
   "outputs": [],
   "source": [
    "pp.pprint(requests.get(f\"{href}/cadip/search?collection=cadip_session_by_interval&platform=S2B\", **HEADERS).json())"
   ]
  },
  {
   "cell_type": "markdown",
   "metadata": {},
   "source": [
    "In the example below, the publicationDate of configuration \"cadip_session_by_interval\" is modified."
   ]
  },
  {
   "cell_type": "code",
   "execution_count": null,
   "metadata": {},
   "outputs": [],
   "source": [
    "pp.pprint(requests.get(f\"{href}/cadip/search?collection=cadip_session_by_interval&PublicationDate=2020-03-10T12:00:00Z/2024-01-01T12:00:00Z\", **HEADERS).json())"
   ]
  }
 ],
 "metadata": {
  "kernelspec": {
   "display_name": "Python 3 (ipykernel)",
   "language": "python",
   "name": "python3"
  },
  "language_info": {
   "codemirror_mode": {
    "name": "ipython",
    "version": 3
   },
   "file_extension": ".py",
   "mimetype": "text/x-python",
   "name": "python",
   "nbconvert_exporter": "python",
   "pygments_lexer": "ipython3",
   "version": "3.11"
  }
 },
 "nbformat": 4,
 "nbformat_minor": 4
}

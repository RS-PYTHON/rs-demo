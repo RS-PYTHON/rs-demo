{
 "cells": [
  {
   "cell_type": "code",
   "execution_count": null,
   "id": "9b059c25-30aa-47f1-aef2-3a8dc06e821b",
   "metadata": {},
   "outputs": [],
   "source": [
    "from resources.utils import *\n",
    "if not cluster_mode:\n",
    "    print(\"NOTE: this demo only works in cluster mode, so we don't run it in local mode.\")\n",
    "    import sys\n",
    "    sys.exit(0) # stop the papermill running"
   ]
  },
  {
   "cell_type": "code",
   "execution_count": null,
   "id": "d5babf60-241c-4a65-b411-66838b5939bf",
   "metadata": {},
   "outputs": [],
   "source": [
    "import os\n",
    "import json\n",
    "import requests\n",
    "\n",
    "# Override the RS-Server website, use the OAuth2 POC deployment\n",
    "rs_server_href = \"https://processing-oauth2.dev-rspy.esa-copernicus.eu\"\n",
    "os.environ[\"RSPY_WEBSITE\"] = rs_server_href"
   ]
  },
  {
   "cell_type": "code",
   "execution_count": null,
   "id": "8d0cda1c-9be2-402c-afaf-c278333fe7a0",
   "metadata": {},
   "outputs": [],
   "source": [
    "# Call the /auth/me (that gives user info) without any authentication: we get a 401 error\n",
    "response = requests.get (f\"{rs_server_href}/auth/me\")\n",
    "assert response.status_code == 401\n",
    "print(response.content)"
   ]
  },
  {
   "cell_type": "code",
   "execution_count": null,
   "id": "eb785fee-1187-4775-a699-2a9acfa5b157",
   "metadata": {},
   "outputs": [],
   "source": [
    "# Now do the same by using the OAuth2 session cookie passed at the JupyterHub startup\n",
    "cookie = os.environ['RSPY_OAUTH2_COOKIE']\n",
    "print(f\"Use OAuth2 cookie: '{cookie[:50]}...'\")\n",
    "\n",
    "session = requests.Session()\n",
    "session.cookies.set (\"session\", cookie)\n",
    "response = session.get (f\"{rs_server_href}/auth/me\")\n",
    "assert response.status_code == 200\n",
    "print (f\"\\nI am authenticated as: \\n{json.dumps (response.json(), indent=2)}\")"
   ]
  },
  {
   "cell_type": "code",
   "execution_count": null,
   "id": "803a5dd3-2d68-44c8-b45e-ecaff033148c",
   "metadata": {},
   "outputs": [],
   "source": [
    "# This behaviour is implemented in rs-client so it's done automatically for the end user."
   ]
  },
  {
   "cell_type": "code",
   "execution_count": null,
   "id": "8b5eab5d-2896-4fcf-b59c-7b293ae0a65f",
   "metadata": {},
   "outputs": [],
   "source": [
    "# Init environment \n",
    "from resources.utils import *\n",
    "init_demo()\n",
    "from resources.utils import * # reload the global vars again"
   ]
  },
  {
   "cell_type": "code",
   "execution_count": null,
   "id": "8f8cb8b6-363d-4a8d-81f3-de32fec28665",
   "metadata": {},
   "outputs": [],
   "source": [
    "# Check that no API key is used\n",
    "assert stac_client.rs_server_api_key is None\n",
    "\n",
    "# We are using the same OAuth2 cookie as above\n",
    "print(f\"Use OAuth2 cookie: '{stac_client.rs_server_oauth2_cookie[:50]}...'\")"
   ]
  },
  {
   "cell_type": "code",
   "execution_count": null,
   "id": "1ddd9606-ff78-409e-b654-ee8131d68404",
   "metadata": {},
   "outputs": [],
   "source": [
    "# Create a test collection and stage a test item\n",
    "collection = create_test_collection()\n",
    "item = stage_test_item()"
   ]
  },
  {
   "cell_type": "code",
   "execution_count": null,
   "id": "c52f6254-f4a6-4743-9043-4812bc8d7f2e",
   "metadata": {},
   "outputs": [],
   "source": [
    "# Print the collection\n",
    "print (json.dumps (collection.to_dict(), indent=2))"
   ]
  },
  {
   "cell_type": "code",
   "execution_count": null,
   "id": "327c11bb-999e-468b-a34a-7390127008c3",
   "metadata": {},
   "outputs": [],
   "source": []
  }
 ],
 "metadata": {
  "kernelspec": {
   "display_name": "Python 3 (ipykernel)",
   "language": "python",
   "name": "python3"
  },
  "language_info": {
   "codemirror_mode": {
    "name": "ipython",
    "version": 3
   },
   "file_extension": ".py",
   "mimetype": "text/x-python",
   "name": "python",
   "nbconvert_exporter": "python",
   "pygments_lexer": "ipython3",
   "version": "3.11"
  }
 },
 "nbformat": 4,
 "nbformat_minor": 5
}

{
 "cells": [
  {
   "cell_type": "markdown",
   "id": "e3d48a1b",
   "metadata": {},
   "source": [
    "## This demo showcases the implementation of user story 530\n",
    "\n",
    "All initiated jobs for the staging process should be stored in a persistent PostgreSQL database. This ensures that even if the rs-server-staging pod is restarted, users can still check the status of all previously submitted jobs."
   ]
  },
  {
   "cell_type": "code",
   "execution_count": 1,
   "id": "513ee19d-3941-404e-8d48-3886f590280c",
   "metadata": {},
   "outputs": [
    {
     "name": "stdout",
     "output_type": "stream",
     "text": [
      "Auxip service: http://rs-server-adgs:8000\n",
      "CADIP service: http://rs-server-cadip:8000\n",
      "Catalog service: http://rs-server-catalog:8000\n",
      "Staging service: http://rs-server-staging:8000\n"
     ]
    }
   ],
   "source": [
    "import requests\n",
    "import os\n",
    "import pprint\n",
    "import time\n",
    "# Init environment before running a demo notebook.\n",
    "from resources.utils import *\n",
    "\n",
    "pp = pprint.PrettyPrinter(indent=2, width=80, sort_dicts=False, compact=True)\n",
    "session = requests.Session()\n",
    "user = os.environ[\"JUPYTERHUB_USER\"] if cluster_mode else os.environ[\"RSPY_HOST_USER\"]\n",
    "auxip_client, cadip_client, stac_client, staging_client = init_demo(owner_id = user)\n",
    "if os.getenv(\"RSPY_LOCAL_MODE\") == \"1\":\n",
    "    href = \"http://rs-server-cadip:8000\"\n",
    "    href_adgs = \"http://rs-server-adgs:8000\"\n",
    "    href_staging = \"http://rs-server-staging:8000\"\n",
    "else:\n",
    "    href = href_adgs = os.environ[\"RSPY_WEBSITE\"]\n",
    "    href_staging = \"https://rsserverstaging.dev-rspy.esa-copernicus.eu\"\n",
    "    session.cookies.set (\"session\", os.environ[\"RSPY_OAUTH2_COOKIE\"])\n",
    "\n",
    "cadip_collection_id = \"cadip_sentinel1\" #\"cadip_s1A\"\n",
    "adgs_collection_id = \"adgs\" #\"aux_interval\"\n",
    "TIMEOUT = 10"
   ]
  },
  {
   "cell_type": "code",
   "execution_count": 2,
   "id": "b752d13b-0316-4f00-9d67-5b702d7b8bdf",
   "metadata": {},
   "outputs": [],
   "source": [
    "# Create a test collection \n",
    "collection = create_test_collection()"
   ]
  },
  {
   "cell_type": "markdown",
   "id": "f2ce641b-98ba-4221-b4e2-12cdd54190b9",
   "metadata": {},
   "source": [
    "### Check the newly created collection with the rs-server-catalog. It should be empty."
   ]
  },
  {
   "cell_type": "code",
   "execution_count": 3,
   "id": "1d3f88cc-d31b-4342-ac68-4372b6db1362",
   "metadata": {},
   "outputs": [
    {
     "name": "stdout",
     "output_type": "stream",
     "text": [
      "Number of items found in the 'my_test_collection' collection: 0\n"
     ]
    }
   ],
   "source": [
    "# Check the catalog for agrosu_my_test_collection\n",
    "result = session.get(f\"{stac_client.href_catalog}/catalog/collections/{user}:{TEST_COLLECTION}/items\")\n",
    "catalog_collection = result.json()\n",
    "assert catalog_collection.get(\"type\") == \"FeatureCollection\"\n",
    "print(f\"Number of items found in the '{TEST_COLLECTION}' collection: {catalog_collection.get('context').get('returned')}\")"
   ]
  },
  {
   "cell_type": "markdown",
   "id": "f989069a-4d84-450f-99a0-1b0b5f3b9292",
   "metadata": {},
   "source": [
    "### Getting all the sessions from the cadip_s1A collection found in the configuration of CADIP station"
   ]
  },
  {
   "cell_type": "code",
   "execution_count": 4,
   "id": "4a176170-7211-4c42-b3de-305d8782874c",
   "metadata": {},
   "outputs": [
    {
     "name": "stdout",
     "output_type": "stream",
     "text": [
      "Session S1A_20231120061537234567 has 60 assets with datetime 2023-11-20T06:15:37.234000+00:00\n",
      "Session S1A_20220715090550123456 has 40 assets with datetime 2022-07-15T09:05:50.123000+00:00\n",
      "Session S1A_20210410031928012345 has 21 assets with datetime 2021-04-10T03:39:28.012000+00:00\n",
      "Session S1A_20200105072204051312 has 60 assets with datetime 2020-01-05T18:52:26.165000+00:00\n"
     ]
    }
   ],
   "source": [
    "result = session.get(f\"{href}/cadip/collections/{cadip_collection_id}/items\")\n",
    "items_collection = result.json()\n",
    "assert items_collection.get(\"type\") == \"FeatureCollection\"\n",
    "assert len(items_collection.get(\"features\")) > 0\n",
    "for item in items_collection.get(\"features\"):\n",
    "    print(f\"Session {item.get('id')} has {len(item.get('assets'))} assets with datetime {item.get('properties').get('datetime')}\")"
   ]
  },
  {
   "cell_type": "markdown",
   "id": "9915607a",
   "metadata": {},
   "source": [
    "### Getting all the assets from the aux_interval collection found in the configuration of ADGS station\n",
    "\n",
    "We will deliberately alter the value of a download link for one of the files, causing the staging process to fail at a certain point."
   ]
  },
  {
   "cell_type": "code",
   "execution_count": 5,
   "id": "de1183f3-3861-4838-a6ce-9debf346a666",
   "metadata": {},
   "outputs": [
    {
     "name": "stdout",
     "output_type": "stream",
     "text": [
      "AUXIP asset S1A_OPER_AUX_RESORB_OPOD_20231218T110702_V20231218T071044_20231218T102814.EOF has datetime 2023-12-18T00:00:00Z\n",
      "AUXIP asset S1A_OPER_AUX_RESORB_OPOD_20230405T110702_V20230405T071044_20230405T102814.EOF has datetime 2023-04-05T00:00:00Z\n",
      "AUXIP asset S2__OPER_AUX_ECMWFD_PDMC_20230216T120000_V20190217T090000_20190217T210000.TGZ has datetime 2023-02-17T09:00:00Z\n",
      "AUXIP asset S1A_OPER_AUX_PREORB_OPOD_20230122T062732_V20230122T062732_20230122T062732.EOF has datetime 2023-01-22T00:00:00Z\n",
      "AUXIP asset S1A_OPER_MPL_ORBPRE_20210214T021411_20210221T021411_0001.EOF has datetime 2021-02-21T00:00:00Z\n",
      "AUXIP asset S1A_OPER_AUX_OBMEMC_PDMC_20210123T000000.xml has datetime 2021-01-23T00:00:00Z\n",
      "AUXIP asset S1A_OPER_AUX_PREORB_OPOD_20201002T062732_V20201002T053140_20201002T120640.EOF has datetime 2020-10-02T00:00:00Z\n",
      "AUXIP asset S1A_OPER_MPL_ORBSCT_20200829T150704_99999999T999999_0025.EOF has datetime 2020-08-29T00:00:00Z\n",
      "AUXIP asset S2__OPER_AUX_ECMWFD_PDMC_20200216T120000_V20190217T090000_20190217T210000.TGZ has datetime 2020-02-17T09:00:00Z\n",
      "AUXIP asset S2__OPER_AUX_ECMWFD_PDMC_20190216T120000_V20190217T090000_20190217T210000.TGZ has datetime 2019-02-17T09:00:00Z\n"
     ]
    }
   ],
   "source": [
    "result = session.get(f\"{href_adgs}/auxip/collections/{adgs_collection_id}/items\")\n",
    "items_collection_adgs = result.json()\n",
    "assert items_collection_adgs.get(\"type\") == \"FeatureCollection\"\n",
    "assert len(items_collection_adgs.get(\"features\")) > 0\n",
    "\n",
    "#pprint.PrettyPrinter(indent=4).pprint(items_collection_adgs)\n",
    "for item in items_collection_adgs.get(\"features\"):\n",
    "    print(f\"AUXIP asset {item.get('id')} has datetime {item.get('properties').get('datetime')}\")"
   ]
  },
  {
   "cell_type": "markdown",
   "id": "5dc62eb9-6ef5-4393-8f0f-2a6067453fc8",
   "metadata": {},
   "source": [
    "### Check the jobs table"
   ]
  },
  {
   "cell_type": "code",
   "execution_count": 6,
   "id": "cc3bb600-97eb-4939-aaab-bad886b1c757",
   "metadata": {},
   "outputs": [
    {
     "name": "stdout",
     "output_type": "stream",
     "text": [
      "{   'jobs': [   {   'created_at': '2024-12-12T14:29:16.550683',\n",
      "                    'detail': 'Finished',\n",
      "                    'identifier': '3f37262d-106d-4356-b917-e679f1124bc8',\n",
      "                    'progress': 100.0,\n",
      "                    'status': 'FINISHED',\n",
      "                    'updated_at': '2024-12-12T14:29:22.636073'},\n",
      "                {   'created_at': '2024-12-12T14:29:16.722307',\n",
      "                    'detail': 'Finished',\n",
      "                    'identifier': '00b5ea86-eb01-4a74-99e8-721f599c54f0',\n",
      "                    'progress': 100.0,\n",
      "                    'status': 'FINISHED',\n",
      "                    'updated_at': '2024-12-12T14:29:22.756080'}],\n",
      "    'numberMatched': 2}\n",
      "Deleting all the jobs...\n",
      "{'jobs': [], 'numberMatched': 0}\n"
     ]
    }
   ],
   "source": [
    "import requests\n",
    "post_response = session.get(f\"{href_staging}/jobs\",                               \n",
    "                              timeout = TIMEOUT,)\n",
    "\n",
    "jobs = json.loads(post_response.content)\n",
    "pprint.PrettyPrinter(indent=4).pprint(jobs)\n",
    "if jobs.get(\"numberMatched\") > 0:\n",
    "    delete_jobs = True\n",
    "    if os.getenv(\"RSPY_LOCAL_MODE\") != \"1\":\n",
    "        delete_jobs = input(f\"There are {jobs.get('numberMatched')} jobs in the table. Do you want to delete them all (y/n)?\").lower().strip() == 'y'\n",
    "    if delete_jobs:\n",
    "        print(\"Deleting all the jobs...\")\n",
    "        for job in jobs.get(\"jobs\"):\n",
    "            post_response = session.delete(f\"{href_staging}/jobs/{job.get('identifier')}\",                               \n",
    "                                  timeout = TIMEOUT,)\n",
    "        post_response = session.get(f\"{href_staging}/jobs\",                               \n",
    "                                  timeout = TIMEOUT,)\n",
    "    \n",
    "        jobs = json.loads(post_response.content)\n",
    "        pprint.PrettyPrinter(indent=4).pprint(jobs)"
   ]
  },
  {
   "cell_type": "markdown",
   "id": "10056077-dc68-46e9-868f-329dd37f7be5",
   "metadata": {},
   "source": [
    "### Starting 2 staging processes, one from the CADIP station and one from the ADGS station\n",
    "The staging process from the ADGS station is expected to fail because one of the assets contains an incorrect download link for the file."
   ]
  },
  {
   "cell_type": "code",
   "execution_count": 7,
   "id": "565df693-353c-4c08-94e7-be523db62331",
   "metadata": {},
   "outputs": [
    {
     "name": "stderr",
     "output_type": "stream",
     "text": [
      "14:42:22.711 [\u001b[32mINFO\u001b[0m] (rs_client.rs_client) href execute process vaut: http://rs-server-staging:8000/processes/staging/execution\n",
      "14:42:22.782 [\u001b[32mINFO\u001b[0m] (rs_client.rs_client) Response vaut: {'status': {'started': '77940909-d088-4ce0-a8b2-4db0f1834fa0'}}\n",
      "14:42:22.783 [\u001b[32mINFO\u001b[0m] (rs_client.rs_client) href execute process vaut: http://rs-server-staging:8000/processes/staging/execution\n"
     ]
    },
    {
     "name": "stdout",
     "output_type": "stream",
     "text": [
      "{'status': {'started': '77940909-d088-4ce0-a8b2-4db0f1834fa0'}}\n",
      "\n",
      "Job ID = 77940909-d088-4ce0-a8b2-4db0f1834fa0\n",
      "\n"
     ]
    },
    {
     "name": "stderr",
     "output_type": "stream",
     "text": [
      "14:42:22.978 [\u001b[32mINFO\u001b[0m] (rs_client.rs_client) Response vaut: {'status': {'started': '5eefdf22-ffcd-43f3-bab2-b242660fb768'}}\n"
     ]
    },
    {
     "name": "stdout",
     "output_type": "stream",
     "text": [
      "{'status': {'started': '5eefdf22-ffcd-43f3-bab2-b242660fb768'}}\n",
      "\n",
      "Job ID = 5eefdf22-ffcd-43f3-bab2-b242660fb768\n",
      "\n"
     ]
    }
   ],
   "source": [
    "response_list = []\n",
    "for items in [items_collection, items_collection_adgs]:\n",
    "    response_list.append(staging_client.run_staging(items, TEST_COLLECTION))"
   ]
  },
  {
   "cell_type": "code",
   "execution_count": 8,
   "id": "589c4f1e",
   "metadata": {},
   "outputs": [
    {
     "name": "stdout",
     "output_type": "stream",
     "text": [
      "{   'created_at': '2024-12-12T14:42:22.748832',\n",
      "    'detail': 'In progress',\n",
      "    'identifier': '77940909-d088-4ce0-a8b2-4db0f1834fa0',\n",
      "    'progress': 1.1,\n",
      "    'status': 'IN_PROGRESS',\n",
      "    'updated_at': '2024-12-12T14:42:23.251490'}\n",
      "\n",
      "\n",
      "{   'created_at': '2024-12-12T14:42:22.748832',\n",
      "    'detail': 'In progress',\n",
      "    'identifier': '77940909-d088-4ce0-a8b2-4db0f1834fa0',\n",
      "    'progress': 37.02,\n",
      "    'status': 'IN_PROGRESS',\n",
      "    'updated_at': '2024-12-12T14:42:25.346171'}\n",
      "\n",
      "\n",
      "{   'created_at': '2024-12-12T14:42:22.748832',\n",
      "    'detail': 'In progress',\n",
      "    'identifier': '77940909-d088-4ce0-a8b2-4db0f1834fa0',\n",
      "    'progress': 100.0,\n",
      "    'status': 'IN_PROGRESS',\n",
      "    'updated_at': '2024-12-12T14:42:26.408295'}\n",
      "\n",
      "\n",
      "{   'created_at': '2024-12-12T14:42:22.748832',\n",
      "    'detail': 'Finished',\n",
      "    'identifier': '77940909-d088-4ce0-a8b2-4db0f1834fa0',\n",
      "    'progress': 100.0,\n",
      "    'status': 'FINISHED',\n",
      "    'updated_at': '2024-12-12T14:42:28.862283'}\n",
      "\n",
      "\n",
      "Job COMPLETED\n",
      "{   'created_at': '2024-12-12T14:42:22.918459',\n",
      "    'detail': 'Finished',\n",
      "    'identifier': '5eefdf22-ffcd-43f3-bab2-b242660fb768',\n",
      "    'progress': 100.0,\n",
      "    'status': 'FINISHED',\n",
      "    'updated_at': '2024-12-12T14:42:27.691659'}\n",
      "\n",
      "\n",
      "Job COMPLETED\n"
     ]
    }
   ],
   "source": [
    "timeout = 120\n",
    "for response in response_list:\n",
    "    while timeout > 0:\n",
    "        get_response = staging_client.get_job_status(response[\"status\"][\"started\"])\n",
    "        try:\n",
    "            resp = json.loads(get_response.content)\n",
    "            pprint.PrettyPrinter(indent=4).pprint(resp)\n",
    "            print(\"\\n\")\n",
    "            if resp[\"status\"] == \"FINISHED\":\n",
    "                print(\"Job COMPLETED\")\n",
    "                break\n",
    "\n",
    "            if resp[\"status\"] == \"FAILED\":\n",
    "                print(\"Job FAILED\")\n",
    "                break\n",
    "        except (json.JSONDecodeError,):\n",
    "            continue\n",
    "        time.sleep(2)\n",
    "        timeout -= 2"
   ]
  },
  {
   "cell_type": "markdown",
   "id": "d639dafa-db71-45a9-963c-4488ef5d08f1",
   "metadata": {},
   "source": [
    "### Check the catalog for agrosu_my_test_collection. Four items should be present now"
   ]
  },
  {
   "cell_type": "code",
   "execution_count": 9,
   "id": "a77ea4cc",
   "metadata": {},
   "outputs": [
    {
     "name": "stdout",
     "output_type": "stream",
     "text": [
      "Item S1A_OPER_AUX_RESORB_OPOD_20231218T110702_V20231218T071044_20231218T102814.EOF has 1 assets\n",
      "Item S1A_20231120061537234567 has 60 assets\n",
      "Item S1A_OPER_AUX_RESORB_OPOD_20230405T110702_V20230405T071044_20230405T102814.EOF has 1 assets\n",
      "Item S2__OPER_AUX_ECMWFD_PDMC_20230216T120000_V20190217T090000_20190217T210000.TGZ has 1 assets\n",
      "Item S1A_OPER_AUX_PREORB_OPOD_20230122T062732_V20230122T062732_20230122T062732.EOF has 1 assets\n",
      "Item S1A_20220715090550123456 has 40 assets\n",
      "Item S1A_20210410031928012345 has 21 assets\n",
      "Item S1A_OPER_MPL_ORBPRE_20210214T021411_20210221T021411_0001.EOF has 1 assets\n",
      "Item S1A_OPER_AUX_OBMEMC_PDMC_20210123T000000.xml has 1 assets\n",
      "Item S1A_OPER_AUX_PREORB_OPOD_20201002T062732_V20201002T053140_20201002T120640.EOF has 1 assets\n"
     ]
    }
   ],
   "source": [
    "# Check the catalog for agrosu_my_test_collection\n",
    "result = session.get(f\"{stac_client.href_catalog}/catalog/collections/{TEST_COLLECTION}/items\")\n",
    "catalog_collection = result.json()\n",
    "assert catalog_collection.get(\"type\") == \"FeatureCollection\"\n",
    "#assert len(catalog_collection.get(\"features\")) == 4\n",
    "for item in catalog_collection.get(\"features\"):\n",
    "    print(f\"Item {item.get('id')} has {len(item.get('assets'))} assets\")    "
   ]
  },
  {
   "cell_type": "markdown",
   "id": "22c15152",
   "metadata": {},
   "source": [
    "### Check the jobs table"
   ]
  },
  {
   "cell_type": "code",
   "execution_count": 10,
   "id": "87695ce8",
   "metadata": {},
   "outputs": [
    {
     "name": "stdout",
     "output_type": "stream",
     "text": [
      "{   'jobs': [   {   'created_at': '2024-12-12T14:42:22.918459',\n",
      "                    'detail': 'Finished',\n",
      "                    'identifier': '5eefdf22-ffcd-43f3-bab2-b242660fb768',\n",
      "                    'progress': 100.0,\n",
      "                    'status': 'FINISHED',\n",
      "                    'updated_at': '2024-12-12T14:42:27.691659'},\n",
      "                {   'created_at': '2024-12-12T14:42:22.748832',\n",
      "                    'detail': 'Finished',\n",
      "                    'identifier': '77940909-d088-4ce0-a8b2-4db0f1834fa0',\n",
      "                    'progress': 100.0,\n",
      "                    'status': 'FINISHED',\n",
      "                    'updated_at': '2024-12-12T14:42:28.862283'}],\n",
      "    'numberMatched': 2}\n",
      "\n",
      "\n",
      "Summary\n",
      "5eefdf22-ffcd-43f3-bab2-b242660fb768 status is FINISHED\n",
      "77940909-d088-4ce0-a8b2-4db0f1834fa0 status is FINISHED\n"
     ]
    }
   ],
   "source": [
    "import requests\n",
    "post_response = session.get(f\"{href_staging}/jobs\",                               \n",
    "                              timeout = TIMEOUT,)\n",
    "\n",
    "jobs = json.loads(post_response.content)\n",
    "pprint.PrettyPrinter(indent=4).pprint(jobs)\n",
    "print(\"\\n\\nSummary\")\n",
    "for job in jobs.get(\"jobs\"):    \n",
    "    post_response = session.get(f\"{href_staging}/jobs/{job['identifier']}/results\",\n",
    "                                timeout = TIMEOUT,)\n",
    "    print(f\"{job['identifier']} status is {json.loads(post_response.content)}\")"
   ]
  },
  {
   "cell_type": "markdown",
   "id": "7ffe8458",
   "metadata": {},
   "source": [
    "### Delete the whole collection"
   ]
  },
  {
   "cell_type": "code",
   "execution_count": 11,
   "id": "25c93a04",
   "metadata": {},
   "outputs": [
    {
     "name": "stdout",
     "output_type": "stream",
     "text": [
      "{'deleted collection': 'my_test_collection'}\n"
     ]
    }
   ],
   "source": [
    "result = session.delete(f\"{stac_client.href_catalog}/catalog/collections/{TEST_COLLECTION}\")\n",
    "assert result.json()[\"deleted collection\"] == TEST_COLLECTION\n",
    "pp.pprint(result.json())"
   ]
  }
 ],
 "metadata": {
  "kernelspec": {
   "display_name": "Python 3 (ipykernel)",
   "language": "python",
   "name": "python3"
  },
  "language_info": {
   "codemirror_mode": {
    "name": "ipython",
    "version": 3
   },
   "file_extension": ".py",
   "mimetype": "text/x-python",
   "name": "python",
   "nbconvert_exporter": "python",
   "pygments_lexer": "ipython3",
   "version": "3.11.6"
  }
 },
 "nbformat": 4,
 "nbformat_minor": 5
}

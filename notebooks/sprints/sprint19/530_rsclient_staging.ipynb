{
 "cells": [
  {
   "cell_type": "markdown",
   "id": "e3d48a1b",
   "metadata": {},
   "source": [
    "## This demo showcases the implementation of user story 530\n",
    "\n",
    "All initiated jobs for the staging process should be stored in a persistent PostgreSQL database. This ensures that even if the rs-server-staging pod is restarted, users can still check the status of all previously submitted jobs."
   ]
  },
  {
   "cell_type": "code",
   "execution_count": 1,
   "id": "513ee19d-3941-404e-8d48-3886f590280c",
   "metadata": {},
   "outputs": [
    {
     "name": "stdout",
     "output_type": "stream",
     "text": [
      "Auxip service: http://rs-server-adgs:8000\n",
      "CADIP service: http://rs-server-cadip:8000\n",
      "Catalog service: http://rs-server-catalog:8000\n",
      "Staging service: http://rs-server-staging:8000\n"
     ]
    }
   ],
   "source": [
    "import requests\n",
    "import os\n",
    "import pprint\n",
    "import time\n",
    "# Init environment before running a demo notebook.\n",
    "from resources.utils import *\n",
    "\n",
    "pp = pprint.PrettyPrinter(indent=2, width=80, sort_dicts=False, compact=True)\n",
    "session = requests.Session()\n",
    "user = os.environ[\"JUPYTERHUB_USER\"] if cluster_mode else os.environ[\"RSPY_HOST_USER\"]\n",
    "auxip_client, cadip_client, stac_client, staging_client = init_demo(owner_id = user)\n",
    "if os.getenv(\"RSPY_LOCAL_MODE\") == \"1\":\n",
    "    href = \"http://rs-server-cadip:8000\"\n",
    "    href_adgs = \"http://rs-server-adgs:8000\"\n",
    "    href_staging = \"http://rs-server-staging:8000\"\n",
    "else:\n",
    "    href = href_adgs = os.environ[\"RSPY_WEBSITE\"]\n",
    "    href_staging = \"https://rsserverstaging.dev-rspy.esa-copernicus.eu\"\n",
    "    session.cookies.set (\"session\", os.environ[\"RSPY_OAUTH2_COOKIE\"])\n",
    "\n",
    "cadip_collection_id = \"cadip_sentinel1\" #\"cadip_s1A\"\n",
    "adgs_collection_id = \"adgs\" #\"aux_interval\"\n",
    "TIMEOUT = 10"
   ]
  },
  {
   "cell_type": "code",
   "execution_count": 2,
   "id": "b752d13b-0316-4f00-9d67-5b702d7b8bdf",
   "metadata": {},
   "outputs": [],
   "source": [
    "# Create a test collection \n",
    "collection = create_test_collection()"
   ]
  },
  {
   "cell_type": "markdown",
   "id": "f2ce641b-98ba-4221-b4e2-12cdd54190b9",
   "metadata": {},
   "source": [
    "### Check the newly created collection with the rs-server-catalog. It should be empty."
   ]
  },
  {
   "cell_type": "code",
   "execution_count": 3,
   "id": "1d3f88cc-d31b-4342-ac68-4372b6db1362",
   "metadata": {},
   "outputs": [
    {
     "name": "stdout",
     "output_type": "stream",
     "text": [
      "Number of items found in the 'my_test_collection' collection: 0\n"
     ]
    }
   ],
   "source": [
    "# Check the catalog for agrosu_my_test_collection\n",
    "result = session.get(f\"{stac_client.href_catalog}/catalog/collections/{user}:{TEST_COLLECTION}/items\")\n",
    "catalog_collection = result.json()\n",
    "assert catalog_collection.get(\"type\") == \"FeatureCollection\"\n",
    "print(f\"Number of items found in the '{TEST_COLLECTION}' collection: {catalog_collection.get('context').get('returned')}\")"
   ]
  },
  {
   "cell_type": "markdown",
   "id": "f989069a-4d84-450f-99a0-1b0b5f3b9292",
   "metadata": {},
   "source": [
    "### Getting all the sessions from the cadip_s1A collection found in the configuration of CADIP station"
   ]
  },
  {
   "cell_type": "code",
   "execution_count": 4,
   "id": "4a176170-7211-4c42-b3de-305d8782874c",
   "metadata": {},
   "outputs": [
    {
     "name": "stdout",
     "output_type": "stream",
     "text": [
      "Session S1A_20231120061537234567 has 60 assets with datetime 2023-11-20T06:15:37.234000+00:00\n",
      "Session S1A_20220715090550123456 has 40 assets with datetime 2022-07-15T09:05:50.123000+00:00\n",
      "Session S1A_20210410031928012345 has 21 assets with datetime 2021-04-10T03:39:28.012000+00:00\n",
      "Session S1A_20200105072204051312 has 60 assets with datetime 2020-01-05T18:52:26.165000+00:00\n"
     ]
    }
   ],
   "source": [
    "result = session.get(f\"{href}/cadip/collections/{cadip_collection_id}/items\")\n",
    "items_collection = result.json()\n",
    "assert items_collection.get(\"type\") == \"FeatureCollection\"\n",
    "assert len(items_collection.get(\"features\")) > 0\n",
    "for item in items_collection.get(\"features\"):\n",
    "    print(f\"Session {item.get('id')} has {len(item.get('assets'))} assets with datetime {item.get('properties').get('datetime')}\")"
   ]
  },
  {
   "cell_type": "markdown",
   "id": "9915607a",
   "metadata": {},
   "source": [
    "### Getting all the assets from the aux_interval collection found in the configuration of ADGS station\n",
    "\n",
    "We will deliberately alter the value of a download link for one of the files, causing the staging process to fail at a certain point."
   ]
  },
  {
   "cell_type": "code",
   "execution_count": 5,
   "id": "de1183f3-3861-4838-a6ce-9debf346a666",
   "metadata": {},
   "outputs": [
    {
     "name": "stdout",
     "output_type": "stream",
     "text": [
      "AUXIP asset S1A_OPER_AUX_RESORB_OPOD_20231218T110702_V20231218T071044_20231218T102814.EOF has datetime 2023-12-18T00:00:00Z\n",
      "AUXIP asset S1A_OPER_AUX_RESORB_OPOD_20230405T110702_V20230405T071044_20230405T102814.EOF has datetime 2023-04-05T00:00:00Z\n",
      "AUXIP asset S2__OPER_AUX_ECMWFD_PDMC_20230216T120000_V20190217T090000_20190217T210000.TGZ has datetime 2023-02-17T09:00:00Z\n",
      "AUXIP asset S1A_OPER_AUX_PREORB_OPOD_20230122T062732_V20230122T062732_20230122T062732.EOF has datetime 2023-01-22T00:00:00Z\n",
      "AUXIP asset S1A_OPER_MPL_ORBPRE_20210214T021411_20210221T021411_0001.EOF has datetime 2021-02-21T00:00:00Z\n",
      "AUXIP asset S1A_OPER_AUX_OBMEMC_PDMC_20210123T000000.xml has datetime 2021-01-23T00:00:00Z\n",
      "AUXIP asset S1A_OPER_AUX_PREORB_OPOD_20201002T062732_V20201002T053140_20201002T120640.EOF has datetime 2020-10-02T00:00:00Z\n",
      "AUXIP asset S1A_OPER_MPL_ORBSCT_20200829T150704_99999999T999999_0025.EOF has datetime 2020-08-29T00:00:00Z\n",
      "AUXIP asset S2__OPER_AUX_ECMWFD_PDMC_20200216T120000_V20190217T090000_20190217T210000.TGZ has datetime 2020-02-17T09:00:00Z\n",
      "AUXIP asset S2__OPER_AUX_ECMWFD_PDMC_20190216T120000_V20190217T090000_20190217T210000.TGZ has datetime 2019-02-17T09:00:00Z\n"
     ]
    }
   ],
   "source": [
    "result = session.get(f\"{href_adgs}/auxip/collections/{adgs_collection_id}/items\")\n",
    "items_collection_adgs = result.json()\n",
    "assert items_collection_adgs.get(\"type\") == \"FeatureCollection\"\n",
    "assert len(items_collection_adgs.get(\"features\")) > 0\n",
    "\n",
    "#pprint.PrettyPrinter(indent=4).pprint(items_collection_adgs)\n",
    "for item in items_collection_adgs.get(\"features\"):\n",
    "    print(f\"AUXIP asset {item.get('id')} has datetime {item.get('properties').get('datetime')}\")"
   ]
  },
  {
   "cell_type": "markdown",
   "id": "5dc62eb9-6ef5-4393-8f0f-2a6067453fc8",
   "metadata": {},
   "source": [
    "### Check the jobs table"
   ]
  },
  {
   "cell_type": "code",
   "execution_count": 6,
   "id": "cc3bb600-97eb-4939-aaab-bad886b1c757",
   "metadata": {},
   "outputs": [
    {
     "name": "stdout",
     "output_type": "stream",
     "text": [
      "{   'jobs': [   {   'created_at': '2024-12-17T10:34:13.876800',\n",
      "                    'detail': 'Finished',\n",
      "                    'identifier': '95495db4-a744-40c0-a7f8-a15952ce51d4',\n",
      "                    'progress': 100.0,\n",
      "                    'status': 'FINISHED',\n",
      "                    'updated_at': '2024-12-17T10:34:16.023593'},\n",
      "                {   'created_at': '2024-12-16T14:13:56.961353',\n",
      "                    'detail': 'Finished',\n",
      "                    'identifier': '6f2e8af8-6691-482e-8952-f260d861a2de',\n",
      "                    'progress': 100.0,\n",
      "                    'status': 'FINISHED',\n",
      "                    'updated_at': '2024-12-16T14:13:59.970213'},\n",
      "                {   'created_at': '2024-12-15T18:11:24.536420',\n",
      "                    'detail': 'Finished without processing any tasks',\n",
      "                    'identifier': 'be06c0b1-69d6-4bbc-b8ba-ca476b4d0817',\n",
      "                    'progress': 100.0,\n",
      "                    'status': 'FINISHED',\n",
      "                    'updated_at': '2024-12-15T18:11:24.621672'},\n",
      "                {   'created_at': '2024-12-15T18:14:23.244159',\n",
      "                    'detail': 'Finished without processing any tasks',\n",
      "                    'identifier': '4df83e6b-1803-423f-8c86-bd3b9a85bf8b',\n",
      "                    'progress': 100.0,\n",
      "                    'status': 'FINISHED',\n",
      "                    'updated_at': '2024-12-15T18:14:23.339330'},\n",
      "                {   'created_at': '2024-12-16T09:45:40.976870',\n",
      "                    'detail': 'Finished without processing any tasks',\n",
      "                    'identifier': '07c299fe-0401-4b88-8294-8685a2139e57',\n",
      "                    'progress': 100.0,\n",
      "                    'status': 'FINISHED',\n",
      "                    'updated_at': '2024-12-16T09:45:41.081562'},\n",
      "                {   'created_at': '2024-12-16T14:15:30.276400',\n",
      "                    'detail': 'Finished',\n",
      "                    'identifier': '56331862-5592-4ddd-b8ce-009ce263566e',\n",
      "                    'progress': 100.0,\n",
      "                    'status': 'FINISHED',\n",
      "                    'updated_at': '2024-12-16T14:21:58.844878'},\n",
      "                {   'created_at': '2024-12-16T14:15:47.038858',\n",
      "                    'detail': \"The item S1A_20231120061537234567 couldn't be \"\n",
      "                              'published in the catalog. Cleaning up',\n",
      "                    'identifier': '326ccbbb-5ed1-4059-8456-3ddec5d9b959',\n",
      "                    'progress': 100.0,\n",
      "                    'status': 'FAILED',\n",
      "                    'updated_at': '2024-12-16T14:21:58.873675'},\n",
      "                {   'created_at': '2024-12-16T10:13:00.348657',\n",
      "                    'detail': 'Finished without processing any tasks',\n",
      "                    'identifier': '189e4f30-3e7b-4fe7-b347-32dbb1bae075',\n",
      "                    'progress': 100.0,\n",
      "                    'status': 'FINISHED',\n",
      "                    'updated_at': '2024-12-16T10:13:00.443675'},\n",
      "                {   'created_at': '2024-12-16T13:03:07.900028',\n",
      "                    'detail': 'Finished without processing any tasks',\n",
      "                    'identifier': 'fed57a2a-f0ec-436a-994a-c293541fc42d',\n",
      "                    'progress': 100.0,\n",
      "                    'status': 'FINISHED',\n",
      "                    'updated_at': '2024-12-16T13:03:07.978880'},\n",
      "                {   'created_at': '2024-12-16T13:12:39.927330',\n",
      "                    'detail': 'Finished without processing any tasks',\n",
      "                    'identifier': '2ec80de2-0802-4dbc-8b17-712f4a63ec27',\n",
      "                    'progress': 100.0,\n",
      "                    'status': 'FINISHED',\n",
      "                    'updated_at': '2024-12-16T13:12:40.014150'},\n",
      "                {   'created_at': '2024-12-16T13:15:20.128951',\n",
      "                    'detail': 'Finished without processing any tasks',\n",
      "                    'identifier': '5aeefbb2-a111-43c8-b1f9-7eecfab1ce7e',\n",
      "                    'progress': 100.0,\n",
      "                    'status': 'FINISHED',\n",
      "                    'updated_at': '2024-12-16T13:15:20.189900'},\n",
      "                {   'created_at': '2024-12-16T14:14:55.988252',\n",
      "                    'detail': 'Finished',\n",
      "                    'identifier': '1396b4dd-bbda-46d1-b283-810e1324a2d3',\n",
      "                    'progress': 100.0,\n",
      "                    'status': 'FINISHED',\n",
      "                    'updated_at': '2024-12-16T14:14:58.068153'},\n",
      "                {   'created_at': '2024-12-15T17:44:37.842562',\n",
      "                    'detail': 'Finished',\n",
      "                    'identifier': '519e6d47-d65e-4b20-93c7-19a3484fe3b2',\n",
      "                    'progress': 100.0,\n",
      "                    'status': 'FINISHED',\n",
      "                    'updated_at': '2024-12-15T17:44:42.927917'},\n",
      "                {   'created_at': '2024-12-15T18:07:35.902912',\n",
      "                    'detail': 'Finished',\n",
      "                    'identifier': '50d7708a-49c4-4e6a-b136-562b15df4dfe',\n",
      "                    'progress': 100.0,\n",
      "                    'status': 'FINISHED',\n",
      "                    'updated_at': '2024-12-15T18:07:43.426583'},\n",
      "                {   'created_at': '2024-12-17T13:38:42.281778',\n",
      "                    'detail': 'Finished',\n",
      "                    'identifier': 'fccb5a18-4f56-469a-a72e-7ab48f0dbd22',\n",
      "                    'progress': 100.0,\n",
      "                    'status': 'FINISHED',\n",
      "                    'updated_at': '2024-12-17T13:38:44.633189'},\n",
      "                {   'created_at': '2024-12-15T17:44:37.975300',\n",
      "                    'detail': 'Finished',\n",
      "                    'identifier': 'edb7fc33-ccb7-4bc4-8c5c-4e3d8b648ddb',\n",
      "                    'progress': 100.0,\n",
      "                    'status': 'FINISHED',\n",
      "                    'updated_at': '2024-12-15T17:44:40.490311'},\n",
      "                {   'created_at': '2024-12-17T10:32:43.953229',\n",
      "                    'detail': 'Finished',\n",
      "                    'identifier': '002413ca-e8ce-4baf-946b-c78b0d861ad3',\n",
      "                    'progress': 100.0,\n",
      "                    'status': 'FINISHED',\n",
      "                    'updated_at': '2024-12-17T10:32:48.022813'},\n",
      "                {   'created_at': '2024-12-16T13:27:44.787943',\n",
      "                    'detail': 'Finished',\n",
      "                    'identifier': 'afbec9b5-7e46-4251-8e71-ec38479dbb11',\n",
      "                    'progress': 100.0,\n",
      "                    'status': 'FINISHED',\n",
      "                    'updated_at': '2024-12-16T13:27:46.640572'}],\n",
      "    'numberMatched': 18}\n",
      "Deleting all the jobs...\n",
      "{'jobs': [], 'numberMatched': 0}\n"
     ]
    }
   ],
   "source": [
    "import requests\n",
    "post_response = session.get(f\"{href_staging}/jobs\",                               \n",
    "                              timeout = TIMEOUT,)\n",
    "\n",
    "jobs = json.loads(post_response.content)\n",
    "pprint.PrettyPrinter(indent=4).pprint(jobs)\n",
    "if jobs.get(\"numberMatched\") > 0:\n",
    "    delete_jobs = True\n",
    "    if os.getenv(\"RSPY_LOCAL_MODE\") != \"1\":\n",
    "        delete_jobs = input(f\"There are {jobs.get('numberMatched')} jobs in the table. Do you want to delete them all (y/n)?\").lower().strip() == 'y'\n",
    "    if delete_jobs:\n",
    "        print(\"Deleting all the jobs...\")\n",
    "        for job in jobs.get(\"jobs\"):\n",
    "            post_response = session.delete(f\"{href_staging}/jobs/{job.get('identifier')}\",                               \n",
    "                                  timeout = TIMEOUT,)\n",
    "        post_response = session.get(f\"{href_staging}/jobs\",                               \n",
    "                                  timeout = TIMEOUT,)\n",
    "    \n",
    "        jobs = json.loads(post_response.content)\n",
    "        pprint.PrettyPrinter(indent=4).pprint(jobs)"
   ]
  },
  {
   "cell_type": "markdown",
   "id": "10056077-dc68-46e9-868f-329dd37f7be5",
   "metadata": {},
   "source": [
    "### Starting 2 staging processes, one from the CADIP station and one from the ADGS station\n",
    "The staging process from the ADGS station is expected to fail because one of the assets contains an incorrect download link for the file."
   ]
  },
  {
   "cell_type": "code",
   "execution_count": 7,
   "id": "565df693-353c-4c08-94e7-be523db62331",
   "metadata": {},
   "outputs": [
    {
     "name": "stderr",
     "output_type": "stream",
     "text": [
      "15:17:16.860 [\u001b[32mINFO\u001b[0m] (rs_client.rs_client) POST response vaut: <Response [200]>\n"
     ]
    },
    {
     "name": "stdout",
     "output_type": "stream",
     "text": [
      "{'status': {'started': '36fb0789-9829-4b80-9b6a-fc7f1229568f'}}\n",
      "\n",
      "Job ID = 36fb0789-9829-4b80-9b6a-fc7f1229568f\n",
      "\n"
     ]
    },
    {
     "name": "stderr",
     "output_type": "stream",
     "text": [
      "15:17:17.070 [\u001b[32mINFO\u001b[0m] (rs_client.rs_client) POST response vaut: <Response [200]>\n"
     ]
    },
    {
     "name": "stdout",
     "output_type": "stream",
     "text": [
      "{'status': {'started': '45caa458-5886-41bd-aada-f0f64fe643b3'}}\n",
      "\n",
      "Job ID = 45caa458-5886-41bd-aada-f0f64fe643b3\n",
      "\n"
     ]
    }
   ],
   "source": [
    "response_list = []\n",
    "for items in [items_collection, items_collection_adgs]:\n",
    "    response_list.append(staging_client.run_staging(items, TEST_COLLECTION))"
   ]
  },
  {
   "cell_type": "code",
   "execution_count": null,
   "id": "589c4f1e",
   "metadata": {},
   "outputs": [
    {
     "ename": "TypeError",
     "evalue": "tuple indices must be integers or slices, not str",
     "output_type": "error",
     "traceback": [
      "\u001b[0;31m---------------------------------------------------------------------------\u001b[0m",
      "\u001b[0;31mTypeError\u001b[0m                                 Traceback (most recent call last)",
      "Cell \u001b[0;32mIn[8], line 4\u001b[0m\n\u001b[1;32m      2\u001b[0m \u001b[38;5;28;01mfor\u001b[39;00m response \u001b[38;5;129;01min\u001b[39;00m response_list:\n\u001b[1;32m      3\u001b[0m     \u001b[38;5;28;01mwhile\u001b[39;00m timeout \u001b[38;5;241m>\u001b[39m \u001b[38;5;241m0\u001b[39m:\n\u001b[0;32m----> 4\u001b[0m         get_response \u001b[38;5;241m=\u001b[39m staging_client\u001b[38;5;241m.\u001b[39mget_job_status(\u001b[43mresponse\u001b[49m\u001b[43m[\u001b[49m\u001b[38;5;124;43m\"\u001b[39;49m\u001b[38;5;124;43mstatus\u001b[39;49m\u001b[38;5;124;43m\"\u001b[39;49m\u001b[43m]\u001b[49m[\u001b[38;5;124m\"\u001b[39m\u001b[38;5;124mstarted\u001b[39m\u001b[38;5;124m\"\u001b[39m])\n\u001b[1;32m      5\u001b[0m         \u001b[38;5;28;01mtry\u001b[39;00m:\n\u001b[1;32m      6\u001b[0m             resp \u001b[38;5;241m=\u001b[39m json\u001b[38;5;241m.\u001b[39mloads(get_response\u001b[38;5;241m.\u001b[39mcontent)\n",
      "\u001b[0;31mTypeError\u001b[0m: tuple indices must be integers or slices, not str"
     ]
    }
   ],
   "source": [
    "timeout = 120\n",
    "for response in response_list:\n",
    "    while timeout > 0:\n",
    "        get_response = staging_client.get_job_status(response[1])\n",
    "        try:\n",
    "            resp = json.loads(get_response.content)\n",
    "            pprint.PrettyPrinter(indent=4).pprint(resp)\n",
    "            print(\"\\n\")\n",
    "            if resp[\"status\"] == \"FINISHED\":\n",
    "                print(\"Job COMPLETED\")\n",
    "                break\n",
    "\n",
    "            if resp[\"status\"] == \"FAILED\":\n",
    "                print(\"Job FAILED\")\n",
    "                break\n",
    "        except (json.JSONDecodeError,):\n",
    "            continue\n",
    "        time.sleep(2)\n",
    "        timeout -= 2"
   ]
  },
  {
   "cell_type": "markdown",
   "id": "d639dafa-db71-45a9-963c-4488ef5d08f1",
   "metadata": {},
   "source": [
    "### Check the catalog for agrosu_my_test_collection. Four items should be present now"
   ]
  },
  {
   "cell_type": "code",
   "execution_count": null,
   "id": "a77ea4cc",
   "metadata": {},
   "outputs": [],
   "source": [
    "# Check the catalog for agrosu_my_test_collection\n",
    "result = session.get(f\"{stac_client.href_catalog}/catalog/collections/{TEST_COLLECTION}/items\")\n",
    "catalog_collection = result.json()\n",
    "assert catalog_collection.get(\"type\") == \"FeatureCollection\"\n",
    "#assert len(catalog_collection.get(\"features\")) == 4\n",
    "for item in catalog_collection.get(\"features\"):\n",
    "    print(f\"Item {item.get('id')} has {len(item.get('assets'))} assets\")    "
   ]
  },
  {
   "cell_type": "markdown",
   "id": "22c15152",
   "metadata": {},
   "source": [
    "### Check the jobs table"
   ]
  },
  {
   "cell_type": "code",
   "execution_count": null,
   "id": "87695ce8",
   "metadata": {},
   "outputs": [],
   "source": [
    "post_response = session.get(f\"{href_staging}/jobs\",                               \n",
    "                              timeout = TIMEOUT,)\n",
    "\n",
    "jobs = json.loads(post_response.content)\n",
    "pprint.PrettyPrinter(indent=4).pprint(jobs)\n",
    "print(\"\\n\\nSummary\")\n",
    "for job in jobs.get(\"jobs\"):    \n",
    "    post_response = session.get(f\"{href_staging}/jobs/{job['identifier']}/results\",\n",
    "                                timeout = TIMEOUT,)\n",
    "    print(f\"{job['identifier']} status is {json.loads(post_response.content)}\")"
   ]
  },
  {
   "cell_type": "markdown",
   "id": "7ffe8458",
   "metadata": {},
   "source": [
    "### Delete the whole collection"
   ]
  },
  {
   "cell_type": "code",
   "execution_count": null,
   "id": "25c93a04",
   "metadata": {},
   "outputs": [],
   "source": [
    "result = session.delete(f\"{stac_client.href_catalog}/catalog/collections/{TEST_COLLECTION}\")\n",
    "assert result.json()[\"deleted collection\"] == TEST_COLLECTION\n",
    "pp.pprint(result.json())"
   ]
  }
 ],
 "metadata": {
  "kernelspec": {
   "display_name": "Python 3 (ipykernel)",
   "language": "python",
   "name": "python3"
  },
  "language_info": {
   "codemirror_mode": {
    "name": "ipython",
    "version": 3
   },
   "file_extension": ".py",
   "mimetype": "text/x-python",
   "name": "python",
   "nbconvert_exporter": "python",
   "pygments_lexer": "ipython3",
   "version": "3.11.6"
  }
 },
 "nbformat": 4,
 "nbformat_minor": 5
}

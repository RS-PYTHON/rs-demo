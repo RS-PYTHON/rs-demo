{
 "cells": [
  {
   "cell_type": "markdown",
   "id": "e3d48a1b",
   "metadata": {},
   "source": [
    "## This demo showcases the implementation of user story 530\n",
    "\n",
    "All initiated jobs for the staging process should be stored in a persistent PostgreSQL database. This ensures that even if the rs-server-staging pod is restarted, users can still check the status of all previously submitted jobs."
   ]
  },
  {
   "cell_type": "code",
   "execution_count": null,
   "id": "513ee19d-3941-404e-8d48-3886f590280c",
   "metadata": {},
   "outputs": [
    {
     "name": "stdout",
     "output_type": "stream",
     "text": [
      "Auxip service: http://rs-server-adgs:8000\n",
      "CADIP service: http://rs-server-cadip:8000\n",
      "Catalog service: http://rs-server-catalog:8000\n",
      "Staging service: http://rs-server-staging:8000\n"
     ]
    }
   ],
   "source": [
    "import requests\n",
    "import os\n",
    "import pprint\n",
    "import time\n",
    "# Init environment before running a demo notebook.\n",
    "from resources.utils import *\n",
    "\n",
    "pp = pprint.PrettyPrinter(indent=2, width=80, sort_dicts=False, compact=True)\n",
    "session = requests.Session()\n",
    "auxip_client, cadip_client, stac_client, staging_client = init_demo()\n",
    "\n",
    "if os.getenv(\"RSPY_LOCAL_MODE\") == \"1\":\n",
    "    href_cadip = \"http://rs-server-cadip:8000\"\n",
    "    href_adgs = \"http://rs-server-adgs:8000\"\n",
    "else:\n",
    "    href_cadip = href_adgs = os.environ[\"RSPY_WEBSITE\"]\n",
    "    session.cookies.set (\"session\", os.environ[\"RSPY_OAUTH2_COOKIE\"])\n",
    "\n",
    "cadip_collection_id = \"cadip_sentinel1\" #\"cadip_s1A\"\n",
    "adgs_collection_id = \"adgs\" #\"aux_interval\"\n",
    "TIMEOUT = 10"
   ]
  },
  {
   "cell_type": "code",
   "execution_count": 29,
   "id": "b752d13b-0316-4f00-9d67-5b702d7b8bdf",
   "metadata": {},
   "outputs": [],
   "source": [
    "# Create a test collection \n",
    "collection = create_test_collection()"
   ]
  },
  {
   "cell_type": "markdown",
   "id": "f2ce641b-98ba-4221-b4e2-12cdd54190b9",
   "metadata": {},
   "source": [
    "### Check the newly created collection with the rs-server-catalog. It should be empty."
   ]
  },
  {
   "cell_type": "code",
   "execution_count": 30,
   "id": "1d3f88cc-d31b-4342-ac68-4372b6db1362",
   "metadata": {},
   "outputs": [],
   "source": [
    "# Check the catalog for my_test_collection\n",
    "collection = stac_client.get_collection(TEST_COLLECTION)\n",
    "for item in collection.get_items():\n",
    "    print(f\"Item {item.id} has {len(item.assets)} assets\")"
   ]
  },
  {
   "cell_type": "markdown",
   "id": "f989069a-4d84-450f-99a0-1b0b5f3b9292",
   "metadata": {},
   "source": [
    "### Getting all the sessions from the input collection found in the configuration of CADIP station"
   ]
  },
  {
   "cell_type": "code",
   "execution_count": null,
   "id": "4a176170-7211-4c42-b3de-305d8782874c",
   "metadata": {},
   "outputs": [
    {
     "name": "stdout",
     "output_type": "stream",
     "text": [
      "Session S1A_20231120061537234567 has 60 assets with datetime 2023-11-20T06:15:37.234000+00:00\n",
      "Session S1A_20220715090550123456 has 40 assets with datetime 2022-07-15T09:05:50.123000+00:00\n",
      "Session S1A_20210410031928012345 has 21 assets with datetime 2021-04-10T03:39:28.012000+00:00\n",
      "Session S1A_20200105072204051312 has 60 assets with datetime 2020-01-05T18:52:26.165000+00:00\n"
     ]
    }
   ],
   "source": [
    "# TODO: CadipClient should inherit pystac_client.Client so we can use its wrapped functions\n",
    "result = session.get(f\"{href_cadip}/cadip/collections/{cadip_collection_id}/items\")\n",
    "items_collection_cadip = result.json()\n",
    "assert items_collection_cadip.get(\"type\") == \"FeatureCollection\"\n",
    "assert len(items_collection_cadip.get(\"features\")) > 0\n",
    "for item in items_collection_cadip.get(\"features\"):\n",
    "    print(f\"Session {item.get('id')} has {len(item.get('assets'))} assets with datetime {item.get('properties').get('datetime')}\")"
   ]
  },
  {
   "cell_type": "markdown",
   "id": "9915607a",
   "metadata": {},
   "source": [
    "### Getting all the assets from the input collection found in the configuration of ADGS station\n",
    "\n",
    "We will deliberately alter the value of a download link for one of the files, causing the staging process to fail at a certain point."
   ]
  },
  {
   "cell_type": "code",
   "execution_count": 32,
   "id": "de1183f3-3861-4838-a6ce-9debf346a666",
   "metadata": {},
   "outputs": [
    {
     "name": "stdout",
     "output_type": "stream",
     "text": [
      "AUXIP asset S1A_OPER_AUX_RESORB_OPOD_20231218T110702_V20231218T071044_20231218T102814.EOF has datetime 2023-12-18T00:00:00Z\n",
      "AUXIP asset S1A_OPER_AUX_RESORB_OPOD_20230405T110702_V20230405T071044_20230405T102814.EOF has datetime 2023-04-05T00:00:00Z\n",
      "AUXIP asset S2__OPER_AUX_ECMWFD_PDMC_20230216T120000_V20190217T090000_20190217T210000.TGZ has datetime 2023-02-17T09:00:00Z\n",
      "AUXIP asset S1A_OPER_AUX_PREORB_OPOD_20230122T062732_V20230122T062732_20230122T062732.EOF has datetime 2023-01-22T00:00:00Z\n",
      "AUXIP asset S1A_OPER_MPL_ORBPRE_20210214T021411_20210221T021411_0001.EOF has datetime 2021-02-21T00:00:00Z\n",
      "AUXIP asset S1A_OPER_AUX_OBMEMC_PDMC_20210123T000000.xml has datetime 2021-01-23T00:00:00Z\n",
      "AUXIP asset S1A_OPER_AUX_PREORB_OPOD_20201002T062732_V20201002T053140_20201002T120640.EOF has datetime 2020-10-02T00:00:00Z\n",
      "AUXIP asset S1A_OPER_MPL_ORBSCT_20200829T150704_99999999T999999_0025.EOF has datetime 2020-08-29T00:00:00Z\n",
      "AUXIP asset S2__OPER_AUX_ECMWFD_PDMC_20200216T120000_V20190217T090000_20190217T210000.TGZ has datetime 2020-02-17T09:00:00Z\n",
      "AUXIP asset S2__OPER_AUX_ECMWFD_PDMC_20190216T120000_V20190217T090000_20190217T210000.TGZ has datetime 2019-02-17T09:00:00Z\n"
     ]
    }
   ],
   "source": [
    "# TODO: AuxipClient should inherit pystac_client.Client so we can use its wrapped functions\n",
    "result = session.get(f\"{href_adgs}/auxip/collections/{adgs_collection_id}/items\")\n",
    "\n",
    "items_collection_adgs = result.json()\n",
    "assert items_collection_adgs.get(\"type\") == \"FeatureCollection\"\n",
    "assert len(items_collection_adgs.get(\"features\")) > 0\n",
    "\n",
    "#pprint.PrettyPrinter(indent=4).pprint(items_collection_adgs)\n",
    "for item in items_collection_adgs.get(\"features\"):\n",
    "    print(f\"AUXIP asset {item.get('id')} has datetime {item.get('properties').get('datetime')}\")"
   ]
  },
  {
   "cell_type": "markdown",
   "id": "5dc62eb9-6ef5-4393-8f0f-2a6067453fc8",
   "metadata": {},
   "source": [
    "### Check the jobs table"
   ]
  },
  {
   "cell_type": "code",
   "execution_count": 33,
   "id": "cc3bb600-97eb-4939-aaab-bad886b1c757",
   "metadata": {},
   "outputs": [
    {
     "name": "stdout",
     "output_type": "stream",
     "text": [
      "{   'jobs': [   {   'created_at': '2024-12-20T10:58:49.022547',\n",
      "                    'detail': 'Finished',\n",
      "                    'identifier': '61865947-3dc3-422c-9e51-01e67b426421',\n",
      "                    'progress': 100.0,\n",
      "                    'status': 'FINISHED',\n",
      "                    'updated_at': '2024-12-20T10:58:54.397269'},\n",
      "                {   'created_at': '2024-12-20T10:21:43.453341',\n",
      "                    'detail': 'Finished',\n",
      "                    'identifier': '09db8072-05b5-4c8e-9dd3-32e23657abe5',\n",
      "                    'progress': 100.0,\n",
      "                    'status': 'FINISHED',\n",
      "                    'updated_at': '2024-12-20T10:21:46.066332'},\n",
      "                {   'created_at': '2024-12-20T10:21:43.320987',\n",
      "                    'detail': 'Finished',\n",
      "                    'identifier': 'e616a550-57df-4845-8b91-631effdb995a',\n",
      "                    'progress': 100.0,\n",
      "                    'status': 'FINISHED',\n",
      "                    'updated_at': '2024-12-20T10:21:48.609662'},\n",
      "                {   'created_at': '2024-12-20T10:57:45.567361',\n",
      "                    'detail': 'Finished',\n",
      "                    'identifier': '97288a1b-83ff-4778-970f-003071b6538a',\n",
      "                    'progress': 100.0,\n",
      "                    'status': 'FINISHED',\n",
      "                    'updated_at': '2024-12-20T10:57:48.389693'},\n",
      "                {   'created_at': '2024-12-20T10:57:45.402864',\n",
      "                    'detail': 'Finished',\n",
      "                    'identifier': '27d5fd22-b4b7-42db-a4f8-3c119d21f5af',\n",
      "                    'progress': 100.0,\n",
      "                    'status': 'FINISHED',\n",
      "                    'updated_at': '2024-12-20T10:57:50.815176'},\n",
      "                {   'created_at': '2024-12-20T10:39:14.796138',\n",
      "                    'detail': 'Finished',\n",
      "                    'identifier': '3fd9fa9f-13f1-423f-8df6-0297ecc841d7',\n",
      "                    'progress': 100.0,\n",
      "                    'status': 'FINISHED',\n",
      "                    'updated_at': '2024-12-20T10:39:19.961044'},\n",
      "                {   'created_at': '2024-12-20T10:39:15.059874',\n",
      "                    'detail': 'Finished',\n",
      "                    'identifier': '6ee37dff-fabb-450f-83af-c47aeb72c5f7',\n",
      "                    'progress': 100.0,\n",
      "                    'status': 'FINISHED',\n",
      "                    'updated_at': '2024-12-20T10:39:17.708459'},\n",
      "                {   'created_at': '2024-12-20T15:25:13.415009',\n",
      "                    'detail': 'Finished',\n",
      "                    'identifier': 'ac4f9d41-9ae5-42bf-9ea6-cbbebd213505',\n",
      "                    'progress': 100.0,\n",
      "                    'status': 'FINISHED',\n",
      "                    'updated_at': '2024-12-20T15:25:16.298856'},\n",
      "                {   'created_at': '2025-01-06T17:09:23.564140',\n",
      "                    'detail': 'Finished',\n",
      "                    'identifier': 'b78fa86b-b562-4976-b355-c50d34674fae',\n",
      "                    'progress': 100.0,\n",
      "                    'status': 'FINISHED',\n",
      "                    'updated_at': '2025-01-06T17:09:30.935438'},\n",
      "                {   'created_at': '2025-01-06T17:09:23.779078',\n",
      "                    'detail': 'Finished',\n",
      "                    'identifier': '879894b8-ca33-4827-b570-0aae6eebf525',\n",
      "                    'progress': 100.0,\n",
      "                    'status': 'FINISHED',\n",
      "                    'updated_at': '2025-01-06T17:09:31.365086'},\n",
      "                {   'created_at': '2024-12-20T15:25:13.247767',\n",
      "                    'detail': 'Finished',\n",
      "                    'identifier': '9eed5836-ca47-4afb-b3bd-c247a799aff9',\n",
      "                    'progress': 100.0,\n",
      "                    'status': 'FINISHED',\n",
      "                    'updated_at': '2024-12-20T15:25:18.607422'},\n",
      "                {   'created_at': '2024-12-20T10:58:49.155482',\n",
      "                    'detail': 'Finished',\n",
      "                    'identifier': '57c4949f-5a1b-42e4-822c-6bc910862d40',\n",
      "                    'progress': 100.0,\n",
      "                    'status': 'FINISHED',\n",
      "                    'updated_at': '2024-12-20T10:58:52.113943'}],\n",
      "    'numberMatched': 12}\n"
     ]
    },
    {
     "name": "stdout",
     "output_type": "stream",
     "text": [
      "There are 12 jobs in the table. Do you want to delete them all (y/n)? n\n"
     ]
    }
   ],
   "source": [
    "import requests\n",
    "\n",
    "post_response = staging_client.get_jobs()\n",
    "\n",
    "jobs = json.loads(post_response.content)\n",
    "pprint.PrettyPrinter(indent=4).pprint(jobs)\n",
    "if jobs.get(\"numberMatched\") > 0:\n",
    "    delete_jobs = True\n",
    "    if cluster_mode != \"1\":\n",
    "        delete_jobs = input(f\"There are {jobs.get('numberMatched')} jobs in the table. Do you want to delete them all (y/n)?\").lower().strip() == 'y'\n",
    "    if delete_jobs:\n",
    "        print(\"Deleting all the jobs...\")\n",
    "        for job in jobs.get(\"jobs\"):\n",
    "            post_response = staging_client.delete_job(job.get('identifier'))\n",
    "        # Check that the jobs have been deleted\n",
    "        post_response = staging_client.get_jobs()\n",
    "        jobs = json.loads(post_response.content)\n",
    "        pprint.PrettyPrinter(indent=4).pprint(jobs)"
   ]
  },
  {
   "cell_type": "markdown",
   "id": "10056077-dc68-46e9-868f-329dd37f7be5",
   "metadata": {},
   "source": [
    "### Starting 2 staging processes, one from the CADIP station and one from the ADGS station\n",
    "The staging process from the ADGS station is expected to fail because one of the assets contains an incorrect download link for the file."
   ]
  },
  {
   "cell_type": "code",
   "execution_count": 34,
   "id": "565df693-353c-4c08-94e7-be523db62331",
   "metadata": {},
   "outputs": [
    {
     "name": "stderr",
     "output_type": "stream",
     "text": [
      "08:39:44.338 [\u001b[32mINFO\u001b[0m] (rs_client.rs_client) Staging job b1d1885d-3974-4d22-b2a7-19a9af0e2269 successfully launched !\n",
      "08:39:44.560 [\u001b[32mINFO\u001b[0m] (rs_client.rs_client) Staging job dff9d530-b5aa-4edb-9e66-b847d5149ed1 successfully launched !\n"
     ]
    }
   ],
   "source": [
    "response_list = []\n",
    "for items in [items_collection_cadip, items_collection_adgs]:\n",
    "    response_list.append(staging_client.run_staging(items, TEST_COLLECTION))"
   ]
  },
  {
   "cell_type": "code",
   "execution_count": 35,
   "id": "589c4f1e",
   "metadata": {},
   "outputs": [
    {
     "name": "stdout",
     "output_type": "stream",
     "text": [
      "{   'created_at': '2025-01-07T08:39:44.293604',\n",
      "    'detail': 'In progress',\n",
      "    'identifier': 'b1d1885d-3974-4d22-b2a7-19a9af0e2269',\n",
      "    'progress': 1.66,\n",
      "    'status': 'IN_PROGRESS',\n",
      "    'updated_at': '2025-01-07T08:39:44.749319'}\n",
      "\n",
      "\n",
      "{   'created_at': '2025-01-07T08:39:44.293604',\n",
      "    'detail': 'In progress',\n",
      "    'identifier': 'b1d1885d-3974-4d22-b2a7-19a9af0e2269',\n",
      "    'progress': 44.75,\n",
      "    'status': 'IN_PROGRESS',\n",
      "    'updated_at': '2025-01-07T08:39:46.782557'}\n",
      "\n",
      "\n",
      "{   'created_at': '2025-01-07T08:39:44.293604',\n",
      "    'detail': 'In progress',\n",
      "    'identifier': 'b1d1885d-3974-4d22-b2a7-19a9af0e2269',\n",
      "    'progress': 100.0,\n",
      "    'status': 'IN_PROGRESS',\n",
      "    'updated_at': '2025-01-07T08:39:47.540492'}\n",
      "\n",
      "\n",
      "{   'created_at': '2025-01-07T08:39:44.293604',\n",
      "    'detail': 'Finished',\n",
      "    'identifier': 'b1d1885d-3974-4d22-b2a7-19a9af0e2269',\n",
      "    'progress': 100.0,\n",
      "    'status': 'FINISHED',\n",
      "    'updated_at': '2025-01-07T08:39:49.700315'}\n",
      "\n",
      "\n",
      "Job COMPLETED\n",
      "{   'created_at': '2025-01-07T08:39:44.472602',\n",
      "    'detail': 'Finished',\n",
      "    'identifier': 'dff9d530-b5aa-4edb-9e66-b847d5149ed1',\n",
      "    'progress': 100.0,\n",
      "    'status': 'FINISHED',\n",
      "    'updated_at': '2025-01-07T08:39:47.194003'}\n",
      "\n",
      "\n",
      "Job COMPLETED\n"
     ]
    }
   ],
   "source": [
    "timeout = 120\n",
    "for response in response_list:\n",
    "    while timeout > 0:\n",
    "        get_response = staging_client.get_job_info(response[1])\n",
    "        try:\n",
    "            resp = json.loads(get_response.content)\n",
    "            pprint.PrettyPrinter(indent=4).pprint(resp)\n",
    "            print(\"\\n\")\n",
    "            if resp[\"status\"] == \"FINISHED\":\n",
    "                print(\"Job COMPLETED\")\n",
    "                break\n",
    "\n",
    "            if resp[\"status\"] == \"FAILED\":\n",
    "                print(\"Job FAILED\")\n",
    "                break\n",
    "        except (json.JSONDecodeError,):\n",
    "            continue\n",
    "        time.sleep(2)\n",
    "        timeout -= 2"
   ]
  },
  {
   "cell_type": "markdown",
   "id": "d639dafa-db71-45a9-963c-4488ef5d08f1",
   "metadata": {},
   "source": [
    "### Check the catalog for my_test_collection. Four items should be present now"
   ]
  },
  {
   "cell_type": "code",
   "execution_count": 36,
   "id": "a77ea4cc",
   "metadata": {},
   "outputs": [
    {
     "name": "stdout",
     "output_type": "stream",
     "text": [
      "Item S1A_OPER_AUX_RESORB_OPOD_20231218T110702_V20231218T071044_20231218T102814.EOF has 1 assets\n",
      "Item S1A_20231120061537234567 has 60 assets\n",
      "Item S1A_OPER_AUX_RESORB_OPOD_20230405T110702_V20230405T071044_20230405T102814.EOF has 1 assets\n",
      "Item S2__OPER_AUX_ECMWFD_PDMC_20230216T120000_V20190217T090000_20190217T210000.TGZ has 1 assets\n",
      "Item S1A_OPER_AUX_PREORB_OPOD_20230122T062732_V20230122T062732_20230122T062732.EOF has 1 assets\n",
      "Item S1A_20220715090550123456 has 40 assets\n",
      "Item S1A_20210410031928012345 has 21 assets\n",
      "Item S1A_OPER_MPL_ORBPRE_20210214T021411_20210221T021411_0001.EOF has 1 assets\n",
      "Item S1A_OPER_AUX_OBMEMC_PDMC_20210123T000000.xml has 1 assets\n",
      "Item S1A_OPER_AUX_PREORB_OPOD_20201002T062732_V20201002T053140_20201002T120640.EOF has 1 assets\n"
     ]
    }
   ],
   "source": [
    "result = session.get(f\"{stac_client.href_catalog}/catalog/collections/{user}:{TEST_COLLECTION}/items\")\n",
    "catalog_collection = result.json()\n",
    "for item in catalog_collection.get(\"features\"):\n",
    "    print(f\"Item {item.get('id')} has {len(item.get('assets'))} assets\")"
   ]
  },
  {
   "cell_type": "code",
   "execution_count": 37,
   "id": "71ae5d8a-d333-4a1e-b15f-25c2e9ddcb9e",
   "metadata": {},
   "outputs": [],
   "source": [
    "result = stac_client.get_collection(TEST_COLLECTION)"
   ]
  },
  {
   "cell_type": "code",
   "execution_count": 41,
   "id": "67141e7a-dde4-44f7-a321-090006c5044f",
   "metadata": {},
   "outputs": [
    {
     "ename": "APIError",
     "evalue": "\"Invalid endpoint.\"",
     "output_type": "error",
     "traceback": [
      "\u001b[0;31m---------------------------------------------------------------------------\u001b[0m",
      "\u001b[0;31mAPIError\u001b[0m                                  Traceback (most recent call last)",
      "Cell \u001b[0;32mIn[41], line 2\u001b[0m\n\u001b[1;32m      1\u001b[0m \u001b[38;5;66;03m# Check the catalog for my_test_collection\u001b[39;00m\n\u001b[0;32m----> 2\u001b[0m result \u001b[38;5;241m=\u001b[39m \u001b[38;5;28;43mlist\u001b[39;49m\u001b[43m(\u001b[49m\u001b[43mstac_client\u001b[49m\u001b[38;5;241;43m.\u001b[39;49m\u001b[43mget_collection\u001b[49m\u001b[43m(\u001b[49m\u001b[43mTEST_COLLECTION\u001b[49m\u001b[43m)\u001b[49m\u001b[38;5;241;43m.\u001b[39;49m\u001b[43mget_items\u001b[49m\u001b[43m(\u001b[49m\u001b[43m)\u001b[49m\u001b[43m)\u001b[49m\n\u001b[1;32m      3\u001b[0m \u001b[38;5;28mprint\u001b[39m (\u001b[38;5;124mf\u001b[39m\u001b[38;5;124m\"\u001b[39m\u001b[38;5;132;01m{\u001b[39;00m\u001b[38;5;28mlen\u001b[39m(result)\u001b[38;5;132;01m}\u001b[39;00m\u001b[38;5;124m items before removing\u001b[39m\u001b[38;5;124m\"\u001b[39m)\n\u001b[1;32m      4\u001b[0m \u001b[38;5;66;03m# for item in result:\u001b[39;00m\n\u001b[1;32m      5\u001b[0m \u001b[38;5;66;03m#     print(f\"Item {item.id} has {len(item.assets)} assets\")\u001b[39;00m\n",
      "File \u001b[0;32m/opt/conda/lib/python3.11/site-packages/pystac_client/collection_client.py:151\u001b[0m, in \u001b[0;36mCollectionClient.get_items\u001b[0;34m(self, recursive, *ids)\u001b[0m\n\u001b[1;32m    141\u001b[0m     url \u001b[38;5;241m=\u001b[39m root\u001b[38;5;241m.\u001b[39m_search_href() \u001b[38;5;28;01mif\u001b[39;00m ids \u001b[38;5;28;01melse\u001b[39;00m \u001b[38;5;28mself\u001b[39m\u001b[38;5;241m.\u001b[39m_items_href()\n\u001b[1;32m    143\u001b[0m     search \u001b[38;5;241m=\u001b[39m ItemSearch(\n\u001b[1;32m    144\u001b[0m         url\u001b[38;5;241m=\u001b[39murl,\n\u001b[1;32m    145\u001b[0m         method\u001b[38;5;241m=\u001b[39m\u001b[38;5;124m\"\u001b[39m\u001b[38;5;124mGET\u001b[39m\u001b[38;5;124m\"\u001b[39m,\n\u001b[0;32m   (...)\u001b[0m\n\u001b[1;32m    149\u001b[0m         modifier\u001b[38;5;241m=\u001b[39m\u001b[38;5;28mself\u001b[39m\u001b[38;5;241m.\u001b[39mmodifier,\n\u001b[1;32m    150\u001b[0m     )\n\u001b[0;32m--> 151\u001b[0m     \u001b[38;5;28;01myield from\u001b[39;00m search\u001b[38;5;241m.\u001b[39mitems()\n\u001b[1;32m    152\u001b[0m \u001b[38;5;28;01melse\u001b[39;00m:\n\u001b[1;32m    153\u001b[0m     root\u001b[38;5;241m.\u001b[39m_warn_about_fallback(\u001b[38;5;124m\"\u001b[39m\u001b[38;5;124mITEM_SEARCH\u001b[39m\u001b[38;5;124m\"\u001b[39m)\n",
      "File \u001b[0;32m/opt/conda/lib/python3.11/site-packages/pystac_client/item_search.py:746\u001b[0m, in \u001b[0;36mItemSearch.items\u001b[0;34m(self)\u001b[0m\n\u001b[1;32m    739\u001b[0m \u001b[38;5;28;01mdef\u001b[39;00m \u001b[38;5;21mitems\u001b[39m(\u001b[38;5;28mself\u001b[39m) \u001b[38;5;241m-\u001b[39m\u001b[38;5;241m>\u001b[39m Iterator[Item]:\n\u001b[1;32m    740\u001b[0m \u001b[38;5;250m    \u001b[39m\u001b[38;5;124;03m\"\"\"Iterator that yields :class:`pystac.Item` instances for each item matching\u001b[39;00m\n\u001b[1;32m    741\u001b[0m \u001b[38;5;124;03m    the given search parameters.\u001b[39;00m\n\u001b[1;32m    742\u001b[0m \n\u001b[1;32m    743\u001b[0m \u001b[38;5;124;03m    Yields:\u001b[39;00m\n\u001b[1;32m    744\u001b[0m \u001b[38;5;124;03m        Item : each Item matching the search criteria\u001b[39;00m\n\u001b[1;32m    745\u001b[0m \u001b[38;5;124;03m    \"\"\"\u001b[39;00m\n\u001b[0;32m--> 746\u001b[0m     \u001b[38;5;28;01mfor\u001b[39;00m item \u001b[38;5;129;01min\u001b[39;00m \u001b[38;5;28mself\u001b[39m\u001b[38;5;241m.\u001b[39mitems_as_dicts():\n\u001b[1;32m    747\u001b[0m         \u001b[38;5;66;03m# already signed in items_as_dicts\u001b[39;00m\n\u001b[1;32m    748\u001b[0m         \u001b[38;5;28;01myield\u001b[39;00m Item\u001b[38;5;241m.\u001b[39mfrom_dict(item, root\u001b[38;5;241m=\u001b[39m\u001b[38;5;28mself\u001b[39m\u001b[38;5;241m.\u001b[39mclient, preserve_dict\u001b[38;5;241m=\u001b[39m\u001b[38;5;28;01mFalse\u001b[39;00m)\n",
      "File \u001b[0;32m/opt/conda/lib/python3.11/site-packages/pystac_client/item_search.py:757\u001b[0m, in \u001b[0;36mItemSearch.items_as_dicts\u001b[0;34m(self)\u001b[0m\n\u001b[1;32m    750\u001b[0m \u001b[38;5;28;01mdef\u001b[39;00m \u001b[38;5;21mitems_as_dicts\u001b[39m(\u001b[38;5;28mself\u001b[39m) \u001b[38;5;241m-\u001b[39m\u001b[38;5;241m>\u001b[39m Iterator[Dict[\u001b[38;5;28mstr\u001b[39m, Any]]:\n\u001b[1;32m    751\u001b[0m \u001b[38;5;250m    \u001b[39m\u001b[38;5;124;03m\"\"\"Iterator that yields :class:`dict` instances for each item matching\u001b[39;00m\n\u001b[1;32m    752\u001b[0m \u001b[38;5;124;03m    the given search parameters.\u001b[39;00m\n\u001b[1;32m    753\u001b[0m \n\u001b[1;32m    754\u001b[0m \u001b[38;5;124;03m    Yields:\u001b[39;00m\n\u001b[1;32m    755\u001b[0m \u001b[38;5;124;03m        Item : each Item matching the search criteria\u001b[39;00m\n\u001b[1;32m    756\u001b[0m \u001b[38;5;124;03m    \"\"\"\u001b[39;00m\n\u001b[0;32m--> 757\u001b[0m     \u001b[38;5;28;01mfor\u001b[39;00m page \u001b[38;5;129;01min\u001b[39;00m \u001b[38;5;28mself\u001b[39m\u001b[38;5;241m.\u001b[39mpages_as_dicts():\n\u001b[1;32m    758\u001b[0m         \u001b[38;5;28;01mfor\u001b[39;00m item \u001b[38;5;129;01min\u001b[39;00m page\u001b[38;5;241m.\u001b[39mget(\u001b[38;5;124m\"\u001b[39m\u001b[38;5;124mfeatures\u001b[39m\u001b[38;5;124m\"\u001b[39m, []):\n\u001b[1;32m    759\u001b[0m             \u001b[38;5;66;03m# already signed in pages_as_dicts\u001b[39;00m\n\u001b[1;32m    760\u001b[0m             \u001b[38;5;28;01myield\u001b[39;00m item\n",
      "File \u001b[0;32m/opt/conda/lib/python3.11/site-packages/pystac_client/item_search.py:789\u001b[0m, in \u001b[0;36mItemSearch.pages_as_dicts\u001b[0;34m(self)\u001b[0m\n\u001b[1;32m    787\u001b[0m \u001b[38;5;28;01mif\u001b[39;00m \u001b[38;5;28misinstance\u001b[39m(\u001b[38;5;28mself\u001b[39m\u001b[38;5;241m.\u001b[39m_stac_io, StacApiIO):\n\u001b[1;32m    788\u001b[0m     num_items \u001b[38;5;241m=\u001b[39m \u001b[38;5;241m0\u001b[39m\n\u001b[0;32m--> 789\u001b[0m     \u001b[38;5;28;01mfor\u001b[39;00m page \u001b[38;5;129;01min\u001b[39;00m \u001b[38;5;28mself\u001b[39m\u001b[38;5;241m.\u001b[39m_stac_io\u001b[38;5;241m.\u001b[39mget_pages(\n\u001b[1;32m    790\u001b[0m         \u001b[38;5;28mself\u001b[39m\u001b[38;5;241m.\u001b[39murl, \u001b[38;5;28mself\u001b[39m\u001b[38;5;241m.\u001b[39mmethod, \u001b[38;5;28mself\u001b[39m\u001b[38;5;241m.\u001b[39mget_parameters()\n\u001b[1;32m    791\u001b[0m     ):\n\u001b[1;32m    792\u001b[0m         call_modifier(\u001b[38;5;28mself\u001b[39m\u001b[38;5;241m.\u001b[39mmodifier, page)\n\u001b[1;32m    793\u001b[0m         features \u001b[38;5;241m=\u001b[39m page\u001b[38;5;241m.\u001b[39mget(\u001b[38;5;124m\"\u001b[39m\u001b[38;5;124mfeatures\u001b[39m\u001b[38;5;124m\"\u001b[39m, [])\n",
      "File \u001b[0;32m/opt/conda/lib/python3.11/site-packages/pystac_client/stac_api_io.py:318\u001b[0m, in \u001b[0;36mStacApiIO.get_pages\u001b[0;34m(self, url, method, parameters)\u001b[0m\n\u001b[1;32m    316\u001b[0m \u001b[38;5;28;01mwhile\u001b[39;00m next_link:\n\u001b[1;32m    317\u001b[0m     link \u001b[38;5;241m=\u001b[39m Link\u001b[38;5;241m.\u001b[39mfrom_dict(next_link)\n\u001b[0;32m--> 318\u001b[0m     page \u001b[38;5;241m=\u001b[39m \u001b[38;5;28;43mself\u001b[39;49m\u001b[38;5;241;43m.\u001b[39;49m\u001b[43mread_json\u001b[49m\u001b[43m(\u001b[49m\u001b[43mlink\u001b[49m\u001b[43m,\u001b[49m\u001b[43m \u001b[49m\u001b[43mparameters\u001b[49m\u001b[38;5;241;43m=\u001b[39;49m\u001b[43mparameters\u001b[49m\u001b[43m)\u001b[49m\n\u001b[1;32m    319\u001b[0m     \u001b[38;5;28;01mif\u001b[39;00m \u001b[38;5;129;01mnot\u001b[39;00m (page\u001b[38;5;241m.\u001b[39mget(\u001b[38;5;124m\"\u001b[39m\u001b[38;5;124mfeatures\u001b[39m\u001b[38;5;124m\"\u001b[39m) \u001b[38;5;129;01mor\u001b[39;00m page\u001b[38;5;241m.\u001b[39mget(\u001b[38;5;124m\"\u001b[39m\u001b[38;5;124mcollections\u001b[39m\u001b[38;5;124m\"\u001b[39m)):\n\u001b[1;32m    320\u001b[0m         \u001b[38;5;28;01mreturn\u001b[39;00m \u001b[38;5;28;01mNone\u001b[39;00m\n",
      "File \u001b[0;32m/opt/conda/lib/python3.11/site-packages/pystac/stac_io.py:206\u001b[0m, in \u001b[0;36mStacIO.read_json\u001b[0;34m(self, source, *args, **kwargs)\u001b[0m\n\u001b[1;32m    189\u001b[0m \u001b[38;5;28;01mdef\u001b[39;00m \u001b[38;5;21mread_json\u001b[39m(\u001b[38;5;28mself\u001b[39m, source: HREF, \u001b[38;5;241m*\u001b[39margs: Any, \u001b[38;5;241m*\u001b[39m\u001b[38;5;241m*\u001b[39mkwargs: Any) \u001b[38;5;241m-\u001b[39m\u001b[38;5;241m>\u001b[39m \u001b[38;5;28mdict\u001b[39m[\u001b[38;5;28mstr\u001b[39m, Any]:\n\u001b[1;32m    190\u001b[0m \u001b[38;5;250m    \u001b[39m\u001b[38;5;124;03m\"\"\"Read a dict from the given source.\u001b[39;00m\n\u001b[1;32m    191\u001b[0m \n\u001b[1;32m    192\u001b[0m \u001b[38;5;124;03m    See :func:`StacIO.read_text <pystac.StacIO.read_text>` for usage of\u001b[39;00m\n\u001b[0;32m   (...)\u001b[0m\n\u001b[1;32m    204\u001b[0m \u001b[38;5;124;03m        given source.\u001b[39;00m\n\u001b[1;32m    205\u001b[0m \u001b[38;5;124;03m    \"\"\"\u001b[39;00m\n\u001b[0;32m--> 206\u001b[0m     txt \u001b[38;5;241m=\u001b[39m \u001b[38;5;28;43mself\u001b[39;49m\u001b[38;5;241;43m.\u001b[39;49m\u001b[43mread_text\u001b[49m\u001b[43m(\u001b[49m\u001b[43msource\u001b[49m\u001b[43m,\u001b[49m\u001b[43m \u001b[49m\u001b[38;5;241;43m*\u001b[39;49m\u001b[43margs\u001b[49m\u001b[43m,\u001b[49m\u001b[43m \u001b[49m\u001b[38;5;241;43m*\u001b[39;49m\u001b[38;5;241;43m*\u001b[39;49m\u001b[43mkwargs\u001b[49m\u001b[43m)\u001b[49m\n\u001b[1;32m    207\u001b[0m     \u001b[38;5;28;01mreturn\u001b[39;00m \u001b[38;5;28mself\u001b[39m\u001b[38;5;241m.\u001b[39mjson_loads(txt)\n",
      "File \u001b[0;32m/opt/conda/lib/python3.11/site-packages/pystac_client/stac_api_io.py:165\u001b[0m, in \u001b[0;36mStacApiIO.read_text\u001b[0;34m(self, source, *args, **kwargs)\u001b[0m\n\u001b[1;32m    161\u001b[0m     \u001b[38;5;28;01melse\u001b[39;00m:\n\u001b[1;32m    162\u001b[0m         \u001b[38;5;66;03m# parameters are already in the link href\u001b[39;00m\n\u001b[1;32m    163\u001b[0m         parameters \u001b[38;5;241m=\u001b[39m {}\n\u001b[0;32m--> 165\u001b[0m     \u001b[38;5;28;01mreturn\u001b[39;00m \u001b[38;5;28;43mself\u001b[39;49m\u001b[38;5;241;43m.\u001b[39;49m\u001b[43mrequest\u001b[49m\u001b[43m(\u001b[49m\n\u001b[1;32m    166\u001b[0m \u001b[43m        \u001b[49m\u001b[43mhref\u001b[49m\u001b[43m,\u001b[49m\u001b[43m \u001b[49m\u001b[43mmethod\u001b[49m\u001b[38;5;241;43m=\u001b[39;49m\u001b[43mmethod\u001b[49m\u001b[43m,\u001b[49m\u001b[43m \u001b[49m\u001b[43mheaders\u001b[49m\u001b[38;5;241;43m=\u001b[39;49m\u001b[43mheaders\u001b[49m\u001b[43m,\u001b[49m\u001b[43m \u001b[49m\u001b[43mparameters\u001b[49m\u001b[38;5;241;43m=\u001b[39;49m\u001b[43mparameters\u001b[49m\n\u001b[1;32m    167\u001b[0m \u001b[43m    \u001b[49m\u001b[43m)\u001b[49m\n\u001b[1;32m    168\u001b[0m \u001b[38;5;28;01melse\u001b[39;00m:  \u001b[38;5;66;03m# str or something that can be str'ed\u001b[39;00m\n\u001b[1;32m    169\u001b[0m     href \u001b[38;5;241m=\u001b[39m \u001b[38;5;28mstr\u001b[39m(source)\n",
      "File \u001b[0;32m/opt/conda/lib/python3.11/site-packages/pystac_client/stac_api_io.py:223\u001b[0m, in \u001b[0;36mStacApiIO.request\u001b[0;34m(self, href, method, headers, parameters)\u001b[0m\n\u001b[1;32m    221\u001b[0m     \u001b[38;5;28;01mraise\u001b[39;00m APIError(\u001b[38;5;28mstr\u001b[39m(err))\n\u001b[1;32m    222\u001b[0m \u001b[38;5;28;01mif\u001b[39;00m resp\u001b[38;5;241m.\u001b[39mstatus_code \u001b[38;5;241m!=\u001b[39m \u001b[38;5;241m200\u001b[39m:\n\u001b[0;32m--> 223\u001b[0m     \u001b[38;5;28;01mraise\u001b[39;00m APIError\u001b[38;5;241m.\u001b[39mfrom_response(resp)\n\u001b[1;32m    224\u001b[0m \u001b[38;5;28;01mtry\u001b[39;00m:\n\u001b[1;32m    225\u001b[0m     \u001b[38;5;28;01mreturn\u001b[39;00m resp\u001b[38;5;241m.\u001b[39mcontent\u001b[38;5;241m.\u001b[39mdecode(\u001b[38;5;124m\"\u001b[39m\u001b[38;5;124mutf-8\u001b[39m\u001b[38;5;124m\"\u001b[39m)\n",
      "\u001b[0;31mAPIError\u001b[0m: \"Invalid endpoint.\""
     ]
    }
   ],
   "source": [
    "# Check the catalog for my_test_collection\n",
    "result = list(stac_client.get_collection(TEST_COLLECTION).get_items())\n",
    "print (f\"{len(result)} items before removing\")\n",
    "# for item in result:\n",
    "#     print(f\"Item {item.id} has {len(item.assets)} assets\")"
   ]
  },
  {
   "cell_type": "markdown",
   "id": "22c15152",
   "metadata": {},
   "source": [
    "### Check the jobs table"
   ]
  },
  {
   "cell_type": "code",
   "execution_count": null,
   "id": "87695ce8",
   "metadata": {},
   "outputs": [],
   "source": [
    "post_response = staging_client.get_jobs()\n",
    "jobs = json.loads(post_response.content)\n",
    "\n",
    "pprint.PrettyPrinter(indent=4).pprint(jobs)\n",
    "print(\"\\n\\nSummary\")\n",
    "\n",
    "for job in jobs.get(\"jobs\"):    \n",
    "    post_response = staging_client.get_job_results(job[\"identifier\"])\n",
    "    print(f\"{job['identifier']} status is {json.loads(post_response.content)}\")"
   ]
  },
  {
   "cell_type": "markdown",
   "id": "7ffe8458",
   "metadata": {},
   "source": [
    "### Delete the whole collection"
   ]
  },
  {
   "cell_type": "code",
   "execution_count": null,
   "id": "a11dad2b-562c-48d0-a47c-69ea6a5dcf73",
   "metadata": {},
   "outputs": [],
   "source": [
    "result = stac_client.remove_collection(TEST_COLLECTION)\n",
    "assert result.json()[\"deleted collection\"] == TEST_COLLECTION\n",
    "pp.pprint(result.json())"
   ]
  }
 ],
 "metadata": {
  "kernelspec": {
   "display_name": "Python 3 (ipykernel)",
   "language": "python",
   "name": "python3"
  },
  "language_info": {
   "codemirror_mode": {
    "name": "ipython",
    "version": 3
   },
   "file_extension": ".py",
   "mimetype": "text/x-python",
   "name": "python",
   "nbconvert_exporter": "python",
   "pygments_lexer": "ipython3",
   "version": "3.11.6"
  }
 },
 "nbformat": 4,
 "nbformat_minor": 5
}

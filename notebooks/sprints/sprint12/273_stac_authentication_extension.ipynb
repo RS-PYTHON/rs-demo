{
 "cells": [
  {
   "cell_type": "code",
   "execution_count": null,
   "id": "513ee19d-3941-404e-8d48-3886f590280c",
   "metadata": {},
   "outputs": [],
   "source": [
    "# Init environment before running a demo notebook.\n",
    "from resources.utils import *\n",
    "init_demo()\n",
    "from resources.utils import * # reload the global vars again"
   ]
  },
  {
   "cell_type": "code",
   "execution_count": null,
   "id": "f8846820-cbcd-419b-9387-dbf01cc9875d",
   "metadata": {},
   "outputs": [],
   "source": [
    "# Create a test collection and stage a test item\n",
    "collection = create_test_collection()\n",
    "item = stage_test_item()"
   ]
  },
  {
   "cell_type": "code",
   "execution_count": null,
   "id": "0d48632e-c26d-4136-8bd3-74eb2ec4df17",
   "metadata": {},
   "outputs": [],
   "source": [
    "import requests\n",
    "\n",
    "openapi_endpoint = \"/api\" if local_mode else \"/docs/openapi.json\"\n",
    "\n",
    "openapi = requests.get(f\"{stac_client.href_catalog}{openapi_endpoint}\", **apikey_headers).json()\n",
    "\n",
    "ignore = [\n",
    "    \"/catalog/api\",\n",
    "    \"/catalog/api.html\",\n",
    "    \"/catalog/docs/oauth2-redirect\",\n",
    "    \"/catalog/conformance\",\n",
    "    \"/catalog/search\",\n",
    "    \"/catalog/queryables\",\n",
    "    \"/catalog/collections/{owner_id}:{collection_id}/queryables\",\n",
    "    \"/catalog/collections/{collection_id}/queryables\",\n",
    "]\n",
    "\n",
    "catalog_endpoints = [\n",
    "    key\n",
    "    for key, value in openapi[\"paths\"].items()\n",
    "    if key.startswith(\"/catalog\") and (\"get\" in value)\n",
    "]\n",
    "\n",
    "if True:\n",
    "    implicit_ownerid = []\n",
    "    for endpoint in catalog_endpoints:\n",
    "         implicit_ownerid.append(endpoint)\n",
    "         if \"{owner_id}:{collection_id}\" in endpoint:\n",
    "             implicit_ownerid.append(endpoint.replace(\"{owner_id}:{collection_id}\", \"{collection_id}\"))\n",
    "    catalog_endpoints = implicit_ownerid\n",
    "\n",
    "for endpoint in catalog_endpoints:\n",
    "\n",
    "    if endpoint in ignore:\n",
    "        print(f\"{endpoint}\\n(ignored)\\n\")\n",
    "        continue\n",
    "\n",
    "    endpoint = endpoint.format(\n",
    "        owner_id=stac_client.owner_id, collection_id=collection.id, item_id=item.id,\n",
    "    )\n",
    "    print(endpoint)\n",
    "\n",
    "    stac = requests.get(f\"{stac_client.href_catalog}{endpoint}\", **apikey_headers).json()\n",
    "\n",
    "    for field in \"stac_extensions\", \"auth:schemes\", \"links\", \"assets\":\n",
    "        value = stac.get(field, None)\n",
    "        if value:\n",
    "            print(f\"{field}: {json.dumps(value, indent=2)}\")\n",
    "    print()\n",
    "\n",
    "    assert \"https://stac-extensions.github.io/authentication/v1.1.0/schema.json\" in stac[\"stac_extensions\"]\n",
    "    assert \"auth:schemes\" in stac\n",
    "\n",
    "    for link in stac.get(\"links\", []):\n",
    "        assert link[\"auth:refs\"] == [\"apikey\"]\n",
    "\n",
    "    for asset in stac.get(\"assets\", {}).values():\n",
    "        assert asset[\"auth:refs\"] == [\"apikey\"]"
   ]
  },
  {
   "cell_type": "code",
   "execution_count": null,
   "id": "a8abd3fd-684d-4a24-9a40-99d7a2bea785",
   "metadata": {},
   "outputs": [],
   "source": []
  }
 ],
 "metadata": {
  "kernelspec": {
   "display_name": "Python 3 (ipykernel)",
   "language": "python",
   "name": "python3"
  },
  "language_info": {
   "codemirror_mode": {
    "name": "ipython",
    "version": 3
   },
   "file_extension": ".py",
   "mimetype": "text/x-python",
   "name": "python",
   "nbconvert_exporter": "python",
   "pygments_lexer": "ipython3",
   "version": "3.11"
  }
 },
 "nbformat": 4,
 "nbformat_minor": 5
}

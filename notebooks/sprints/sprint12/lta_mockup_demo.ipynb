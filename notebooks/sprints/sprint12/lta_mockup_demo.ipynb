{
 "cells": [
  {
   "cell_type": "code",
   "execution_count": null,
   "metadata": {},
   "outputs": [],
   "source": [
    "import json\n",
    "import requests\n",
    "import pprint\n",
    "import os\n",
    "import getpass\n",
    "\n",
    "pp = pprint.PrettyPrinter(indent=4)\n",
    "os.environ[\"RSPY_LOCAL_MODE\"] = \"0\"\n",
    "\n",
    "if os.getenv(\"RSPY_LOCAL_MODE\") == \"1\":\n",
    "    endpoint=f\"http://0.0.0.0:5003\"\n",
    "    HEADERS={}\n",
    "    local_mode = True\n",
    "else:\n",
    "    os.environ[\"RSPY_WEBSITE\"] = \"http://mockup-station-lta-svc.processing.svc.cluster.local:8080\"\n",
    "    apikey = getpass.getpass(\"Enter your API key:\")\n",
    "    endpoint = os.environ[\"RSPY_WEBSITE\"]\n",
    "\n",
    "print(f\"Using: {endpoint}\")"
   ]
  },
  {
   "cell_type": "markdown",
   "metadata": {},
   "source": [
    "Search LTA products by using \"contains\" name-filter."
   ]
  },
  {
   "cell_type": "code",
   "execution_count": null,
   "metadata": {},
   "outputs": [],
   "source": [
    "pp.pprint(json.loads(requests.get(f\"{endpoint}/Products?$filter=contains(Name,'S1A_IW_SLC__1SDV_2016')\").content))"
   ]
  },
  {
   "cell_type": "markdown",
   "metadata": {},
   "source": [
    "Search LTA products by using \"startswith\" name-filter."
   ]
  },
  {
   "cell_type": "code",
   "execution_count": null,
   "metadata": {},
   "outputs": [],
   "source": [
    "pp.pprint(json.loads(requests.get(f\"{endpoint}/Products?$filter=startswith(Name,'S1A')\").content))"
   ]
  },
  {
   "cell_type": "markdown",
   "metadata": {},
   "source": [
    "Search LTA products by using time filters."
   ]
  },
  {
   "cell_type": "code",
   "execution_count": null,
   "metadata": {},
   "outputs": [],
   "source": [
    "pp.pprint(json.loads(requests.get(f\"{endpoint}/Products?$filter=PublicationDate gt 2018-01-15T00:00:00.000Z and PublicationDate lt 2018-01-19T00:00:00.000Z\").content))"
   ]
  },
  {
   "cell_type": "markdown",
   "metadata": {},
   "source": [
    "After receiving product id, send an download order request."
   ]
  },
  {
   "cell_type": "code",
   "execution_count": null,
   "metadata": {},
   "outputs": [],
   "source": [
    "pp.pprint(requests.get(f\"{endpoint}/Products(2b17b57d-fff4-4645-b539-91f305c27c69)\").content)"
   ]
  },
  {
   "cell_type": "markdown",
   "metadata": {},
   "source": [
    "Check order status. (Can be done using order ID or order status)"
   ]
  },
  {
   "cell_type": "code",
   "execution_count": null,
   "metadata": {},
   "outputs": [],
   "source": [
    "pp.pprint(json.loads(requests.get(f\"{endpoint}/Orders?$filter=Id eq 2b17b57d-fff4-4645-b539-91f305c27c69\").content))"
   ]
  },
  {
   "cell_type": "code",
   "execution_count": null,
   "metadata": {},
   "outputs": [],
   "source": [
    "pp.pprint(json.loads(requests.get(f\"{endpoint}/Orders?$filter=Status eq completed\").content))"
   ]
  },
  {
   "cell_type": "markdown",
   "metadata": {},
   "source": [
    "Download the product only when order status is set to \"completed\""
   ]
  },
  {
   "cell_type": "code",
   "execution_count": null,
   "metadata": {},
   "outputs": [],
   "source": [
    "requests.get(f\"{endpoint}/Products(2b17b57d-fff4-4645-b539-91f305c27c69)/$value\").status_code"
   ]
  }
 ],
 "metadata": {
  "kernelspec": {
   "display_name": "Python 3 (ipykernel)",
   "language": "python",
   "name": "python3"
  },
  "language_info": {
   "codemirror_mode": {
    "name": "ipython",
    "version": 3
   },
   "file_extension": ".py",
   "mimetype": "text/x-python",
   "name": "python",
   "nbconvert_exporter": "python",
   "pygments_lexer": "ipython3",
   "version": "3.11.9"
  }
 },
 "nbformat": 4,
 "nbformat_minor": 4
}

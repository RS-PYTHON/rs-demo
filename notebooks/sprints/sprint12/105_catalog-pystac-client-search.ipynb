{
 "cells": [
  {
   "cell_type": "markdown",
   "id": "3e7782a6-cfb7-4933-a2aa-df6aaa689cb9",
   "metadata": {},
   "source": [
    "## Demo for user story 105\n",
    "\n",
    "The following scenario demonstrates the implementation of user story 105 for the RS Server Catalog.\n",
    "\n",
    "The goal of this user story is to add a new search endpoint that can only search inside a collection,\n",
    "so that the user can search easily for STAC items in a specific collections.\n",
    "\n",
    "The following endpoints may now be called with an optional usage of the OwnerId parameter:\n",
    "* GET /catalog/collections/{ownerId:collectionId}/search\n",
    "* POST /catalog/collections/{ownerId:collectionId}/search\n",
    "\n",
    "There is also a new fonction in the stac_client called \"search_inside_collection\" that can only search inside a collection."
   ]
  },
  {
   "cell_type": "markdown",
   "id": "700715b2-84fb-4607-8274-7bf870234c79",
   "metadata": {},
   "source": [
    "### Initialisation"
   ]
  },
  {
   "cell_type": "code",
   "execution_count": null,
   "id": "513ee19d-3941-404e-8d48-3886f590280c",
   "metadata": {},
   "outputs": [],
   "source": [
    "# Init environment before running a demo notebook.\n",
    "from resources.utils import *\n",
    "init_demo()\n",
    "from resources.utils import * # reload the global vars again"
   ]
  },
  {
   "cell_type": "markdown",
   "id": "bc74d311-4802-4c4b-90a1-e465a8b3cad8",
   "metadata": {},
   "source": [
    "### Create a collection and 5 items to serve as a base for the demo"
   ]
  },
  {
   "cell_type": "code",
   "execution_count": null,
   "id": "53bf3373-11f5-4fc2-8a3e-d93cb449a20b",
   "metadata": {},
   "outputs": [],
   "source": [
    "# Create a test collection and stage test items\n",
    "collection = create_test_collection()\n",
    "items = stage_test_several_items()"
   ]
  },
  {
   "cell_type": "code",
   "execution_count": null,
   "id": "0d48632e-c26d-4136-8bd3-74eb2ec4df17",
   "metadata": {},
   "outputs": [],
   "source": [
    "import requests\n",
    "\n",
    "HEADERS={\"x-api-key\": apikey}"
   ]
  },
  {
   "cell_type": "markdown",
   "id": "5253e434-1244-41c7-af07-7a9816f98b89",
   "metadata": {},
   "source": [
    "### Calling the endpoint GET /catalog/collections/{ownerId:collectionId}/search"
   ]
  },
  {
   "cell_type": "markdown",
   "id": "9508b605-9dfa-4ced-b6eb-356133cfe308",
   "metadata": {},
   "source": [
    "Filter with projection epsg 4326"
   ]
  },
  {
   "cell_type": "code",
   "execution_count": null,
   "id": "da5c59b5-9a94-4238-abd2-ca840b431a98",
   "metadata": {},
   "outputs": [],
   "source": [
    "import json\n",
    "\n",
    "test_params = {\"filter\": \"proj:epsg=4326\"}\n",
    "\n",
    "response = requests.get(f\"{stac_client.href_catalog}/catalog/collections/{stac_client.owner_id}:{collection.id}/search\", params=test_params, headers=HEADERS)\n",
    "response.raise_for_status()\n",
    "\n",
    "content = json.loads(response.content)\n",
    "content"
   ]
  },
  {
   "cell_type": "markdown",
   "id": "4add4646-0dc2-4f4f-aa78-40fa32561a0a",
   "metadata": {},
   "source": [
    "Filter with width "
   ]
  },
  {
   "cell_type": "code",
   "execution_count": null,
   "id": "4e086d86-13e9-4258-8e05-6cd8a1c25598",
   "metadata": {},
   "outputs": [],
   "source": [
    "import json\n",
    "\n",
    "test_params = {\"filter\": \"width=2500\"}\n",
    "\n",
    "response = requests.get(f\"{stac_client.href_catalog}/catalog/collections/{stac_client.owner_id}:{collection.id}/search\", params=test_params, headers=HEADERS)\n",
    "response.raise_for_status()\n",
    "\n",
    "content = json.loads(response.content)\n",
    "content"
   ]
  },
  {
   "cell_type": "markdown",
   "id": "fa17a399-d607-4436-b9f7-d75856005827",
   "metadata": {},
   "source": [
    "### Calling the endpoint POST /catalog/collections/{ownerId:collectionId}/search"
   ]
  },
  {
   "cell_type": "markdown",
   "id": "8d09a08f-9325-45b4-98bb-405a9b41d889",
   "metadata": {},
   "source": [
    "Filter with width and projection epsg 3857"
   ]
  },
  {
   "cell_type": "code",
   "execution_count": null,
   "id": "f0ae365b-506a-4c28-931b-e323e440351b",
   "metadata": {},
   "outputs": [],
   "source": [
    "WIDTH = 2500\n",
    "\n",
    "parameters = {\n",
    "            \"filter-lang\": \"cql2-json\",\n",
    "            \"filter\": {\n",
    "                \"op\": \"and\",\n",
    "                \"args\": [\n",
    "                    {\"op\": \"=\", \"args\": [{\"property\": \"width\"}, WIDTH]},\n",
    "                    {\"op\": \"=\", \"args\": [{\"property\": \"proj:epsg\"}, 3857]},\n",
    "                ],\n",
    "            },\n",
    "        }\n",
    "\n",
    "response = requests.post(f\"{stac_client.href_catalog}/catalog/collections/{stac_client.owner_id}:{collection.id}/search\", json=parameters, headers=HEADERS)\n",
    "response.raise_for_status()\n",
    "\n",
    "content = json.loads(response.content)\n",
    "content"
   ]
  },
  {
   "cell_type": "markdown",
   "id": "2dd4ba51-85fc-4485-a794-939f3f874f6a",
   "metadata": {},
   "source": [
    "### Using the new function \"search_inside_collection\" from the stac_client"
   ]
  },
  {
   "cell_type": "markdown",
   "id": "37c9d1fc-fb03-4675-8c9e-7b016783694f",
   "metadata": {},
   "source": [
    "Filter with ids"
   ]
  },
  {
   "cell_type": "code",
   "execution_count": null,
   "id": "60097964-612e-42ed-9b08-87bcc60d524f",
   "metadata": {},
   "outputs": [],
   "source": [
    "HEIGHT = 3000\n",
    "\n",
    "search = stac_client.search_inside_collection(owner_id=stac_client.owner_id, collection_id=collection.id, ids=\"DCS_01_S1A_20200105072204051312_ch1_DSDB_00002.raw\")\n",
    "results = list(search.items_as_dicts())\n",
    "print(f\"\\nFound {len(results)} results\")\n",
    "for result in results:\n",
    "    print(f\"({result['collection']}) {result['id']}\")\n",
    "\n"
   ]
  },
  {
   "cell_type": "code",
   "execution_count": null,
   "id": "57ed0782-5d84-4ded-bf59-ff3470ece829",
   "metadata": {},
   "outputs": [],
   "source": [
    "HEIGHT = 3000\n",
    "\n",
    "search = stac_client.search_inside_collection(owner_id=stac_client.owner_id, collection_id=collection.id, ids=\"DCS_01_S1A_20200105072204051312_ch1_DSDB_00002.raw\")\n",
    "results = list(search.items_as_dicts())\n",
    "print(f\"\\nFound {len(results)} results\")\n",
    "for result in results:\n",
    "    print(f\"({result['collection']}) {result['id']}\")"
   ]
  },
  {
   "cell_type": "markdown",
   "id": "6d82bdbb-0c07-4131-92d8-3f9b24645ab8",
   "metadata": {},
   "source": [
    "Filter with width and height using a filter"
   ]
  },
  {
   "cell_type": "code",
   "execution_count": null,
   "id": "546105af-3c90-4a78-b4d0-f881ac34a7c1",
   "metadata": {},
   "outputs": [],
   "source": [
    "filter = {\n",
    "    \"op\": \"and\",\n",
    "    \"args\": [\n",
    "        {\"op\": \"=\", \"args\": [{\"property\": \"width\"}, WIDTH]},\n",
    "        {\"op\": \"=\", \"args\": [{\"property\": \"height\"}, HEIGHT]},\n",
    "    ],\n",
    "}\n",
    "\n",
    "search = stac_client.search(collections=[f\"{stac_client.owner_id}_{collection.id}\"], filter=filter)\n",
    "results = list(search.items_as_dicts())\n",
    "print(f\"\\nFound {len(results)} results\")\n",
    "for result in results:\n",
    "    print(f\"({result['collection']}) {result['id']}\")"
   ]
  }
 ],
 "metadata": {
  "kernelspec": {
   "display_name": "Python 3 (ipykernel)",
   "language": "python",
   "name": "python3"
  },
  "language_info": {
   "codemirror_mode": {
    "name": "ipython",
    "version": 3
   },
   "file_extension": ".py",
   "mimetype": "text/x-python",
   "name": "python",
   "nbconvert_exporter": "python",
   "pygments_lexer": "ipython3",
   "version": "3.11"
  }
 },
 "nbformat": 4,
 "nbformat_minor": 5
}

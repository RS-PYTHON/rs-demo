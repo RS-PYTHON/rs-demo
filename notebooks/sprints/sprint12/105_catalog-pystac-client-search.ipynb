{
 "cells": [
  {
   "cell_type": "code",
   "execution_count": null,
   "id": "513ee19d-3941-404e-8d48-3886f590280c",
   "metadata": {},
   "outputs": [],
   "source": [
    "# Init environment before running a demo notebook.\n",
    "from resources.utils import *\n",
    "init_demo()\n",
    "from resources.utils import * # reload the global vars again"
   ]
  },
  {
   "cell_type": "code",
   "execution_count": null,
   "id": "f8846820-cbcd-419b-9387-dbf01cc9875d",
   "metadata": {},
   "outputs": [],
   "source": [
    "# Create a test collection and stage a test item\n",
    "collection = create_test_collection()\n",
    "item = stage_test_item()"
   ]
  },
  {
   "cell_type": "code",
   "execution_count": null,
   "id": "0d48632e-c26d-4136-8bd3-74eb2ec4df17",
   "metadata": {},
   "outputs": [],
   "source": [
    "import requests\n",
    "\n",
    "HEADERS={\"headers\": {\"x-api-key\": apikey}}\n",
    "\n",
    "print(collection.id)\n",
    "print(item.id)\n",
    "\n",
    "pretty_print(collection.to_dict())\n",
    "\n",
    "pretty_print(item.to_dict())\n",
    "\n",
    "stac_client.search() # search using rs-client\n",
    "\n",
    "requests.get(f\"{stac_client.href_catalog}/search\").status_code # search using http request"
   ]
  },
  {
   "cell_type": "code",
   "execution_count": null,
   "id": "a8abd3fd-684d-4a24-9a40-99d7a2bea785",
   "metadata": {},
   "outputs": [],
   "source": []
  }
 ],
 "metadata": {
  "kernelspec": {
   "display_name": "Python 3 (ipykernel)",
   "language": "python",
   "name": "python3"
  },
  "language_info": {
   "codemirror_mode": {
    "name": "ipython",
    "version": 3
   },
   "file_extension": ".py",
   "mimetype": "text/x-python",
   "name": "python",
   "nbconvert_exporter": "python",
   "pygments_lexer": "ipython3",
   "version": "3.11"
  }
 },
 "nbformat": 4,
 "nbformat_minor": 5
}

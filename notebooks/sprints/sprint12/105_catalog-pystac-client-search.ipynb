{
 "cells": [
  {
   "cell_type": "markdown",
   "id": "3e7782a6-cfb7-4933-a2aa-df6aaa689cb9",
   "metadata": {},
   "source": [
    "## Demo for user story 105\n",
    "\n",
    "The following scenario demonstrates the implementation of user story 105 for the RS Server Catalog.\n",
    "\n",
    "The goal of this user story is to add a new search endpoint that can only search inside a collection,\n",
    "so that the user can search easily for STAC items in a specific collections.\n",
    "\n",
    "The following endpoints may now be called with an optional usage of the OwnerId parameter:\n",
    "* GET /catalog/collections/{ownerId:collectionId}/search\n",
    "* POST /catalog/collections/{ownerId:collectionId}/search\n",
    "\n",
    "There is also a new fonction in the stac_client called \"search_inside_collection\" that can only search inside a collection."
   ]
  },
  {
   "cell_type": "markdown",
   "id": "700715b2-84fb-4607-8274-7bf870234c79",
   "metadata": {},
   "source": [
    "### Initialisation"
   ]
  },
  {
   "cell_type": "code",
   "execution_count": 1,
   "id": "513ee19d-3941-404e-8d48-3886f590280c",
   "metadata": {
    "scrolled": true
   },
   "outputs": [
    {
     "name": "stderr",
     "output_type": "stream",
     "text": [
      "WARNING: All log messages before absl::InitializeLog() is called are written to STDERR\n",
      "I0000 00:00:1720788455.337071      98 config.cc:230] gRPC experiments enabled: call_status_override_on_cancellation, event_engine_dns, event_engine_listener, http2_stats_fix, monitoring_experiment, pick_first_new, trace_record_callops, work_serializer_clears_time_cache, work_serializer_dispatch\n",
      "I0000 00:00:1720788455.337766      98 ev_epoll1_linux.cc:125] grpc epoll fd: 54\n",
      "Overriding of current TracerProvider is not allowed\n",
      "Attempting to instrument while already instrumented\n"
     ]
    },
    {
     "name": "stdout",
     "output_type": "stream",
     "text": [
      "Auxip service: http://rs-server-adgs:8000\n",
      "CADIP service: http://rs-server-cadip:8000\n",
      "Catalog service: http://rs-server-catalog:8000\n"
     ]
    },
    {
     "name": "stderr",
     "output_type": "stream",
     "text": [
      "/opt/conda/lib/python3.11/site-packages/pystac_client/client.py:180: FutureWarning: The `ignore_conformance` option is deprecated and will be removed in the next major release. Instead use `set_conforms_to` or `add_conforms_to` to control behavior.\n",
      "  warnings.warn(\n"
     ]
    }
   ],
   "source": [
    "# Init environment before running a demo notebook.\n",
    "from resources.utils import *\n",
    "init_demo()\n",
    "from resources.utils import * # reload the global vars again"
   ]
  },
  {
   "cell_type": "markdown",
   "id": "bc74d311-4802-4c4b-90a1-e465a8b3cad8",
   "metadata": {},
   "source": [
    "### Create a collection and 5 items to serve as a base for the demo"
   ]
  },
  {
   "cell_type": "code",
   "execution_count": 2,
   "id": "53bf3373-11f5-4fc2-8a3e-d93cb449a20b",
   "metadata": {},
   "outputs": [
    {
     "name": "stdout",
     "output_type": "stream",
     "text": [
      "Staging status for 'DCS_01_S1A_20200105072204051312_ch1_DSDB_00004.raw': IN_PROGRESS\n",
      "Staging status for 'DCS_01_S1A_20200105072204051312_ch1_DSDB_00004.raw': DONE\n",
      "\n",
      "\n",
      "Staging status for 'DCS_01_S1A_20200105072204051312_ch1_DSDB_00003.raw': IN_PROGRESS\n",
      "Staging status for 'DCS_01_S1A_20200105072204051312_ch1_DSDB_00003.raw': DONE\n",
      "\n",
      "\n",
      "Staging status for 'DCS_01_S1A_20200105072204051312_ch1_DSDB_00002.raw': IN_PROGRESS\n",
      "Staging status for 'DCS_01_S1A_20200105072204051312_ch1_DSDB_00002.raw': DONE\n",
      "\n",
      "\n",
      "Staging status for 'DCS_01_S1A_20200105072204051312_ch1_DSDB_00001.raw': IN_PROGRESS\n",
      "Staging status for 'DCS_01_S1A_20200105072204051312_ch1_DSDB_00001.raw': DONE\n",
      "\n",
      "\n",
      "Staging status for 'DCS_01_S1A_20200105072204051312_ch1_DSDB_00000.raw': IN_PROGRESS\n",
      "Staging status for 'DCS_01_S1A_20200105072204051312_ch1_DSDB_00000.raw': DONE\n",
      "\n",
      "\n"
     ]
    }
   ],
   "source": [
    "# Create a test collection and stage test items\n",
    "collection = create_test_collection()\n",
    "items = stage_test_several_items()"
   ]
  },
  {
   "cell_type": "code",
   "execution_count": 3,
   "id": "0d48632e-c26d-4136-8bd3-74eb2ec4df17",
   "metadata": {
    "scrolled": true
   },
   "outputs": [],
   "source": [
    "import requests\n",
    "\n",
    "HEADERS={\"headers\": {\"x-api-key\": apikey}}"
   ]
  },
  {
   "cell_type": "markdown",
   "id": "5253e434-1244-41c7-af07-7a9816f98b89",
   "metadata": {},
   "source": [
    "### Calling the endpoint GET /catalog/collections/{ownerId:collectionId}/search"
   ]
  },
  {
   "cell_type": "markdown",
   "id": "9508b605-9dfa-4ced-b6eb-356133cfe308",
   "metadata": {},
   "source": [
    "Filter with projection epsg 4326"
   ]
  },
  {
   "cell_type": "code",
   "execution_count": 10,
   "id": "da5c59b5-9a94-4238-abd2-ca840b431a98",
   "metadata": {
    "collapsed": true,
    "jupyter": {
     "outputs_hidden": true
    }
   },
   "outputs": [
    {
     "data": {
      "text/plain": [
       "{'type': 'FeatureCollection',\n",
       " 'context': {'limit': 10, 'returned': 1},\n",
       " 'features': [{'id': 'DCS_01_S1A_20200105072204051312_ch1_DSDB_00000.raw',\n",
       "   'bbox': [-180.0, -90.0, 180.0, 90.0],\n",
       "   'type': 'Feature',\n",
       "   'links': [{'rel': 'collection',\n",
       "     'type': 'application/json',\n",
       "     'href': 'http://rs-server-catalog:8000/collections/jovyan_my_test_collection'},\n",
       "    {'rel': 'parent',\n",
       "     'type': 'application/json',\n",
       "     'href': 'http://rs-server-catalog:8000/collections/jovyan_my_test_collection'},\n",
       "    {'rel': 'root',\n",
       "     'type': 'application/json',\n",
       "     'href': 'http://rs-server-catalog:8000/'},\n",
       "    {'rel': 'self',\n",
       "     'type': 'application/geo+json',\n",
       "     'href': 'http://rs-server-catalog:8000/collections/jovyan_my_test_collection/items/DCS_01_S1A_20200105072204051312_ch1_DSDB_00000.raw'}],\n",
       "   'assets': {'file': {'href': 'https://rs-server-catalog:8000/catalog/collections/jovyan:my_test_collection/items/DCS_01_S1A_20200105072204051312_ch1_DSDB_00000.raw/download/file',\n",
       "     'alternate': {'s3': {'href': 's3://rs-cluster-catalog//CADIP/DCS_01_S1A_20200105072204051312_ch1_DSDB_00000.raw'}}}},\n",
       "   'geometry': {'type': 'Polygon',\n",
       "    'coordinates': [[[-180, -90],\n",
       "      [180, -90],\n",
       "      [180, 90],\n",
       "      [-180, 90],\n",
       "      [-180, -90]]]},\n",
       "   'collection': 'jovyan_my_test_collection',\n",
       "   'properties': {'gsd': 0.12345,\n",
       "    'owner': 'jovyan',\n",
       "    'width': 2500,\n",
       "    'height': 3000,\n",
       "    'expires': '2024-08-11T12:47:47.073154Z',\n",
       "    'updated': '2024-07-12T12:47:47.073154Z',\n",
       "    'datetime': '2024-07-12T12:47:47.045477Z',\n",
       "    'proj:epsg': 4326,\n",
       "    'published': '2024-07-12T12:47:47.073151Z',\n",
       "    'orientation': 'nadir'},\n",
       "   'stac_version': '1.0.0',\n",
       "   'stac_extensions': ['https://stac-extensions.github.io/alternate-assets/v1.1.0/schema.json']}],\n",
       " 'links': [{'rel': 'root',\n",
       "   'type': 'application/json',\n",
       "   'href': 'http://rs-server-catalog:8000/'},\n",
       "  {'rel': 'self',\n",
       "   'type': 'application/json',\n",
       "   'href': 'http://rs-server-catalog:8000/catalog/search?filter=proj%3Aepsg%3D4326&collections=jovyan_my_test_collection&filter-lang=cql2-text'}]}"
      ]
     },
     "execution_count": 10,
     "metadata": {},
     "output_type": "execute_result"
    },
    {
     "name": "stderr",
     "output_type": "stream",
     "text": [
      "Failed to export metrics to tempo:4317, error code: StatusCode.UNIMPLEMENTED\n",
      "Failed to export metrics to tempo:4317, error code: StatusCode.UNIMPLEMENTED\n",
      "Failed to export metrics to tempo:4317, error code: StatusCode.UNIMPLEMENTED\n"
     ]
    }
   ],
   "source": [
    "import json\n",
    "\n",
    "test_params = {\"filter\": \"proj:epsg=4326\"}\n",
    "\n",
    "response = requests.get(f\"{stac_client.href_catalog}/catalog/collections/jovyan:{collection.id}/search\", params=test_params, **HEADERS)\n",
    "response.raise_for_status()\n",
    "\n",
    "content = json.loads(response.content)\n",
    "content"
   ]
  },
  {
   "cell_type": "markdown",
   "id": "4add4646-0dc2-4f4f-aa78-40fa32561a0a",
   "metadata": {},
   "source": [
    "Filter with width "
   ]
  },
  {
   "cell_type": "code",
   "execution_count": 4,
   "id": "4e086d86-13e9-4258-8e05-6cd8a1c25598",
   "metadata": {
    "collapsed": true,
    "jupyter": {
     "outputs_hidden": true
    }
   },
   "outputs": [
    {
     "data": {
      "text/plain": [
       "{'type': 'FeatureCollection',\n",
       " 'context': {'limit': 10, 'returned': 3},\n",
       " 'features': [{'id': 'DCS_01_S1A_20200105072204051312_ch1_DSDB_00000.raw',\n",
       "   'bbox': [-180.0, -90.0, 180.0, 90.0],\n",
       "   'type': 'Feature',\n",
       "   'links': [{'rel': 'collection',\n",
       "     'type': 'application/json',\n",
       "     'href': 'http://rs-server-catalog:8000/collections/jovyan_my_test_collection'},\n",
       "    {'rel': 'parent',\n",
       "     'type': 'application/json',\n",
       "     'href': 'http://rs-server-catalog:8000/collections/jovyan_my_test_collection'},\n",
       "    {'rel': 'root',\n",
       "     'type': 'application/json',\n",
       "     'href': 'http://rs-server-catalog:8000/'},\n",
       "    {'rel': 'self',\n",
       "     'type': 'application/geo+json',\n",
       "     'href': 'http://rs-server-catalog:8000/collections/jovyan_my_test_collection/items/DCS_01_S1A_20200105072204051312_ch1_DSDB_00000.raw'}],\n",
       "   'assets': {'file': {'href': 'https://rs-server-catalog:8000/catalog/collections/jovyan:my_test_collection/items/DCS_01_S1A_20200105072204051312_ch1_DSDB_00000.raw/download/file',\n",
       "     'alternate': {'s3': {'href': 's3://rs-cluster-catalog//CADIP/DCS_01_S1A_20200105072204051312_ch1_DSDB_00000.raw'}}}},\n",
       "   'geometry': {'type': 'Polygon',\n",
       "    'coordinates': [[[-180, -90],\n",
       "      [180, -90],\n",
       "      [180, 90],\n",
       "      [-180, 90],\n",
       "      [-180, -90]]]},\n",
       "   'collection': 'jovyan_my_test_collection',\n",
       "   'properties': {'gsd': 0.12345,\n",
       "    'owner': 'jovyan',\n",
       "    'width': 2500,\n",
       "    'height': 3000,\n",
       "    'expires': '2024-08-11T12:47:47.073154Z',\n",
       "    'updated': '2024-07-12T12:47:47.073154Z',\n",
       "    'datetime': '2024-07-12T12:47:47.045477Z',\n",
       "    'proj:epsg': 4326,\n",
       "    'published': '2024-07-12T12:47:47.073151Z',\n",
       "    'orientation': 'nadir'},\n",
       "   'stac_version': '1.0.0',\n",
       "   'stac_extensions': ['https://stac-extensions.github.io/alternate-assets/v1.1.0/schema.json']},\n",
       "  {'id': 'DCS_01_S1A_20200105072204051312_ch1_DSDB_00002.raw',\n",
       "   'bbox': [-180.0, -90.0, 180.0, 90.0],\n",
       "   'type': 'Feature',\n",
       "   'links': [{'rel': 'collection',\n",
       "     'type': 'application/json',\n",
       "     'href': 'http://rs-server-catalog:8000/collections/jovyan_my_test_collection'},\n",
       "    {'rel': 'parent',\n",
       "     'type': 'application/json',\n",
       "     'href': 'http://rs-server-catalog:8000/collections/jovyan_my_test_collection'},\n",
       "    {'rel': 'root',\n",
       "     'type': 'application/json',\n",
       "     'href': 'http://rs-server-catalog:8000/'},\n",
       "    {'rel': 'self',\n",
       "     'type': 'application/geo+json',\n",
       "     'href': 'http://rs-server-catalog:8000/collections/jovyan_my_test_collection/items/DCS_01_S1A_20200105072204051312_ch1_DSDB_00002.raw'}],\n",
       "   'assets': {'file': {'href': 'https://rs-server-catalog:8000/catalog/collections/jovyan:my_test_collection/items/DCS_01_S1A_20200105072204051312_ch1_DSDB_00002.raw/download/file',\n",
       "     'alternate': {'s3': {'href': 's3://rs-cluster-catalog//CADIP/DCS_01_S1A_20200105072204051312_ch1_DSDB_00002.raw'}}}},\n",
       "   'geometry': {'type': 'Polygon',\n",
       "    'coordinates': [[[-180, -90],\n",
       "      [180, -90],\n",
       "      [180, 90],\n",
       "      [-180, 90],\n",
       "      [-180, -90]]]},\n",
       "   'collection': 'jovyan_my_test_collection',\n",
       "   'properties': {'gsd': 0.12345,\n",
       "    'owner': 'jovyan',\n",
       "    'width': 2500,\n",
       "    'height': 3000,\n",
       "    'expires': '2024-08-11T12:47:44.373141Z',\n",
       "    'updated': '2024-07-12T12:47:44.373141Z',\n",
       "    'datetime': '2024-07-12T12:47:44.343215Z',\n",
       "    'proj:epsg': 3857,\n",
       "    'published': '2024-07-12T12:47:44.373139Z',\n",
       "    'orientation': 'nadir'},\n",
       "   'stac_version': '1.0.0',\n",
       "   'stac_extensions': ['https://stac-extensions.github.io/alternate-assets/v1.1.0/schema.json']},\n",
       "  {'id': 'DCS_01_S1A_20200105072204051312_ch1_DSDB_00004.raw',\n",
       "   'bbox': [-180.0, -90.0, 180.0, 90.0],\n",
       "   'type': 'Feature',\n",
       "   'links': [{'rel': 'collection',\n",
       "     'type': 'application/json',\n",
       "     'href': 'http://rs-server-catalog:8000/collections/jovyan_my_test_collection'},\n",
       "    {'rel': 'parent',\n",
       "     'type': 'application/json',\n",
       "     'href': 'http://rs-server-catalog:8000/collections/jovyan_my_test_collection'},\n",
       "    {'rel': 'root',\n",
       "     'type': 'application/json',\n",
       "     'href': 'http://rs-server-catalog:8000/'},\n",
       "    {'rel': 'self',\n",
       "     'type': 'application/geo+json',\n",
       "     'href': 'http://rs-server-catalog:8000/collections/jovyan_my_test_collection/items/DCS_01_S1A_20200105072204051312_ch1_DSDB_00004.raw'}],\n",
       "   'assets': {'file': {'href': 'https://rs-server-catalog:8000/catalog/collections/jovyan:my_test_collection/items/DCS_01_S1A_20200105072204051312_ch1_DSDB_00004.raw/download/file',\n",
       "     'alternate': {'s3': {'href': 's3://rs-cluster-catalog//CADIP/DCS_01_S1A_20200105072204051312_ch1_DSDB_00004.raw'}}}},\n",
       "   'geometry': {'type': 'Polygon',\n",
       "    'coordinates': [[[-180, -90],\n",
       "      [180, -90],\n",
       "      [180, 90],\n",
       "      [-180, 90],\n",
       "      [-180, -90]]]},\n",
       "   'collection': 'jovyan_my_test_collection',\n",
       "   'properties': {'gsd': 0.12345,\n",
       "    'owner': 'jovyan',\n",
       "    'width': 2500,\n",
       "    'height': 3000,\n",
       "    'expires': '2024-08-11T12:47:41.336155Z',\n",
       "    'updated': '2024-07-12T12:47:41.336155Z',\n",
       "    'datetime': '2024-07-12T12:47:41.163905Z',\n",
       "    'proj:epsg': 3857,\n",
       "    'published': '2024-07-12T12:47:41.336137Z',\n",
       "    'orientation': 'nadir'},\n",
       "   'stac_version': '1.0.0',\n",
       "   'stac_extensions': ['https://stac-extensions.github.io/alternate-assets/v1.1.0/schema.json']}],\n",
       " 'links': [{'rel': 'root',\n",
       "   'type': 'application/json',\n",
       "   'href': 'http://rs-server-catalog:8000/'},\n",
       "  {'rel': 'self',\n",
       "   'type': 'application/json',\n",
       "   'href': 'http://rs-server-catalog:8000/catalog/search?filter=width%3D2500&collections=jovyan_my_test_collection&filter-lang=cql2-text'}]}"
      ]
     },
     "execution_count": 4,
     "metadata": {},
     "output_type": "execute_result"
    }
   ],
   "source": [
    "import json\n",
    "\n",
    "test_params = {\"filter\": \"width=2500\"}\n",
    "\n",
    "response = requests.get(f\"{stac_client.href_catalog}/catalog/collections/jovyan:{collection.id}/search\", params=test_params, **HEADERS)\n",
    "response.raise_for_status()\n",
    "\n",
    "content = json.loads(response.content)\n",
    "content"
   ]
  },
  {
   "cell_type": "markdown",
   "id": "fa17a399-d607-4436-b9f7-d75856005827",
   "metadata": {},
   "source": [
    "### Calling the endpoint POST /catalog/collections/{ownerId:collectionId}/search"
   ]
  },
  {
   "cell_type": "markdown",
   "id": "8d09a08f-9325-45b4-98bb-405a9b41d889",
   "metadata": {},
   "source": [
    "Filter with width and projection epsg 3857"
   ]
  },
  {
   "cell_type": "code",
   "execution_count": 11,
   "id": "f0ae365b-506a-4c28-931b-e323e440351b",
   "metadata": {
    "collapsed": true,
    "jupyter": {
     "outputs_hidden": true
    }
   },
   "outputs": [
    {
     "data": {
      "text/plain": [
       "{'type': 'FeatureCollection',\n",
       " 'context': {'limit': 10, 'returned': 2},\n",
       " 'features': [{'id': 'DCS_01_S1A_20200105072204051312_ch1_DSDB_00002.raw',\n",
       "   'bbox': [-180.0, -90.0, 180.0, 90.0],\n",
       "   'type': 'Feature',\n",
       "   'links': [{'rel': 'collection',\n",
       "     'type': 'application/json',\n",
       "     'href': 'http://rs-server-catalog:8000/collections/jovyan_my_test_collection'},\n",
       "    {'rel': 'parent',\n",
       "     'type': 'application/json',\n",
       "     'href': 'http://rs-server-catalog:8000/collections/jovyan_my_test_collection'},\n",
       "    {'rel': 'root',\n",
       "     'type': 'application/json',\n",
       "     'href': 'http://rs-server-catalog:8000/'},\n",
       "    {'rel': 'self',\n",
       "     'type': 'application/geo+json',\n",
       "     'href': 'http://rs-server-catalog:8000/collections/jovyan_my_test_collection/items/DCS_01_S1A_20200105072204051312_ch1_DSDB_00002.raw'}],\n",
       "   'assets': {'file': {'href': 'https://rs-server-catalog:8000/catalog/collections/jovyan:my_test_collection/items/DCS_01_S1A_20200105072204051312_ch1_DSDB_00002.raw/download/file',\n",
       "     'alternate': {'s3': {'href': 's3://rs-cluster-catalog//CADIP/DCS_01_S1A_20200105072204051312_ch1_DSDB_00002.raw'}}}},\n",
       "   'geometry': {'type': 'Polygon',\n",
       "    'coordinates': [[[-180, -90],\n",
       "      [180, -90],\n",
       "      [180, 90],\n",
       "      [-180, 90],\n",
       "      [-180, -90]]]},\n",
       "   'collection': 'jovyan_my_test_collection',\n",
       "   'properties': {'gsd': 0.12345,\n",
       "    'owner': 'jovyan',\n",
       "    'width': 2500,\n",
       "    'height': 3000,\n",
       "    'expires': '2024-08-11T12:47:44.373141Z',\n",
       "    'updated': '2024-07-12T12:47:44.373141Z',\n",
       "    'datetime': '2024-07-12T12:47:44.343215Z',\n",
       "    'proj:epsg': 3857,\n",
       "    'published': '2024-07-12T12:47:44.373139Z',\n",
       "    'orientation': 'nadir'},\n",
       "   'stac_version': '1.0.0',\n",
       "   'stac_extensions': ['https://stac-extensions.github.io/alternate-assets/v1.1.0/schema.json']},\n",
       "  {'id': 'DCS_01_S1A_20200105072204051312_ch1_DSDB_00004.raw',\n",
       "   'bbox': [-180.0, -90.0, 180.0, 90.0],\n",
       "   'type': 'Feature',\n",
       "   'links': [{'rel': 'collection',\n",
       "     'type': 'application/json',\n",
       "     'href': 'http://rs-server-catalog:8000/collections/jovyan_my_test_collection'},\n",
       "    {'rel': 'parent',\n",
       "     'type': 'application/json',\n",
       "     'href': 'http://rs-server-catalog:8000/collections/jovyan_my_test_collection'},\n",
       "    {'rel': 'root',\n",
       "     'type': 'application/json',\n",
       "     'href': 'http://rs-server-catalog:8000/'},\n",
       "    {'rel': 'self',\n",
       "     'type': 'application/geo+json',\n",
       "     'href': 'http://rs-server-catalog:8000/collections/jovyan_my_test_collection/items/DCS_01_S1A_20200105072204051312_ch1_DSDB_00004.raw'}],\n",
       "   'assets': {'file': {'href': 'https://rs-server-catalog:8000/catalog/collections/jovyan:my_test_collection/items/DCS_01_S1A_20200105072204051312_ch1_DSDB_00004.raw/download/file',\n",
       "     'alternate': {'s3': {'href': 's3://rs-cluster-catalog//CADIP/DCS_01_S1A_20200105072204051312_ch1_DSDB_00004.raw'}}}},\n",
       "   'geometry': {'type': 'Polygon',\n",
       "    'coordinates': [[[-180, -90],\n",
       "      [180, -90],\n",
       "      [180, 90],\n",
       "      [-180, 90],\n",
       "      [-180, -90]]]},\n",
       "   'collection': 'jovyan_my_test_collection',\n",
       "   'properties': {'gsd': 0.12345,\n",
       "    'owner': 'jovyan',\n",
       "    'width': 2500,\n",
       "    'height': 3000,\n",
       "    'expires': '2024-08-11T12:47:41.336155Z',\n",
       "    'updated': '2024-07-12T12:47:41.336155Z',\n",
       "    'datetime': '2024-07-12T12:47:41.163905Z',\n",
       "    'proj:epsg': 3857,\n",
       "    'published': '2024-07-12T12:47:41.336137Z',\n",
       "    'orientation': 'nadir'},\n",
       "   'stac_version': '1.0.0',\n",
       "   'stac_extensions': ['https://stac-extensions.github.io/alternate-assets/v1.1.0/schema.json']}],\n",
       " 'links': [{'rel': 'root',\n",
       "   'type': 'application/json',\n",
       "   'href': 'http://rs-server-catalog:8000/'},\n",
       "  {'rel': 'self',\n",
       "   'type': 'application/json',\n",
       "   'href': 'http://rs-server-catalog:8000/catalog/search'}]}"
      ]
     },
     "execution_count": 11,
     "metadata": {},
     "output_type": "execute_result"
    },
    {
     "name": "stderr",
     "output_type": "stream",
     "text": [
      "Failed to export metrics to tempo:4317, error code: StatusCode.UNIMPLEMENTED\n",
      "Failed to export metrics to tempo:4317, error code: StatusCode.UNIMPLEMENTED\n"
     ]
    }
   ],
   "source": [
    "WIDTH = 2500\n",
    "OWNER = \"jovyan\"\n",
    "\n",
    "parameters = {\n",
    "            \"filter-lang\": \"cql2-json\",\n",
    "            \"filter\": {\n",
    "                \"op\": \"and\",\n",
    "                \"args\": [\n",
    "                    {\"op\": \"=\", \"args\": [{\"property\": \"width\"}, WIDTH]},\n",
    "                    {\"op\": \"=\", \"args\": [{\"property\": \"proj:epsg\"}, 3857]},\n",
    "                ],\n",
    "            },\n",
    "        }\n",
    "\n",
    "response = requests.post(f\"{stac_client.href_catalog}/catalog/collections/{OWNER}:{collection.id}/search\", json=parameters, **HEADERS)\n",
    "response.raise_for_status()\n",
    "\n",
    "content = json.loads(response.content)\n",
    "content"
   ]
  },
  {
   "cell_type": "markdown",
   "id": "2dd4ba51-85fc-4485-a794-939f3f874f6a",
   "metadata": {},
   "source": [
    "### Using the new function \"search_inside_collection\" from the stac_client"
   ]
  },
  {
   "cell_type": "markdown",
   "id": "37c9d1fc-fb03-4675-8c9e-7b016783694f",
   "metadata": {},
   "source": [
    "Filter with ids"
   ]
  },
  {
   "cell_type": "code",
   "execution_count": 6,
   "id": "60097964-612e-42ed-9b08-87bcc60d524f",
   "metadata": {},
   "outputs": [
    {
     "name": "stdout",
     "output_type": "stream",
     "text": [
      "\n",
      "Found 1 results\n",
      "(jovyan_my_test_collection) DCS_01_S1A_20200105072204051312_ch1_DSDB_00002.raw\n"
     ]
    },
    {
     "name": "stderr",
     "output_type": "stream",
     "text": [
      "Failed to export metrics to tempo:4317, error code: StatusCode.UNIMPLEMENTED\n"
     ]
    }
   ],
   "source": [
    "HEIGHT = 3000\n",
    "\n",
    "search = stac_client.search_inside_collection(owner_id=\"jovyan\", collection_id=\"my_test_collection\", ids=\"DCS_01_S1A_20200105072204051312_ch1_DSDB_00002.raw\")\n",
    "results = list(search.items_as_dicts())\n",
    "print(f\"\\nFound {len(results)} results\")\n",
    "for result in results:\n",
    "    print(f\"({result['collection']}) {result['id']}\")\n",
    "\n"
   ]
  },
  {
   "cell_type": "code",
   "execution_count": null,
   "id": "57ed0782-5d84-4ded-bf59-ff3470ece829",
   "metadata": {},
   "outputs": [],
   "source": [
    "HEIGHT = 3000\n",
    "\n",
    "search = stac_client.search_inside_collection(owner_id=\"toto\", collection_id=\"my_test_collection\", ids=\"DCS_01_S1A_20200105072204051312_ch1_DSDB_00002.raw\")\n",
    "results = list(search.items_as_dicts())\n",
    "print(f\"\\nFound {len(results)} results\")\n",
    "for result in results:\n",
    "    print(f\"({result['collection']}) {result['id']}\")"
   ]
  },
  {
   "cell_type": "markdown",
   "id": "6d82bdbb-0c07-4131-92d8-3f9b24645ab8",
   "metadata": {},
   "source": [
    "Filter with width and height using a filter"
   ]
  },
  {
   "cell_type": "code",
   "execution_count": 8,
   "id": "546105af-3c90-4a78-b4d0-f881ac34a7c1",
   "metadata": {},
   "outputs": [
    {
     "name": "stdout",
     "output_type": "stream",
     "text": [
      "\n",
      "Found 3 results\n",
      "(jovyan_my_test_collection) DCS_01_S1A_20200105072204051312_ch1_DSDB_00000.raw\n",
      "(jovyan_my_test_collection) DCS_01_S1A_20200105072204051312_ch1_DSDB_00002.raw\n",
      "(jovyan_my_test_collection) DCS_01_S1A_20200105072204051312_ch1_DSDB_00004.raw\n"
     ]
    },
    {
     "name": "stderr",
     "output_type": "stream",
     "text": [
      "Failed to export metrics to tempo:4317, error code: StatusCode.UNIMPLEMENTED\n",
      "Failed to export metrics to tempo:4317, error code: StatusCode.UNIMPLEMENTED\n",
      "Failed to export metrics to tempo:4317, error code: StatusCode.UNIMPLEMENTED\n",
      "Failed to export metrics to tempo:4317, error code: StatusCode.UNIMPLEMENTED\n"
     ]
    }
   ],
   "source": [
    "filter = {\n",
    "    \"op\": \"and\",\n",
    "    \"args\": [\n",
    "        {\"op\": \"=\", \"args\": [{\"property\": \"width\"}, WIDTH]},\n",
    "        {\"op\": \"=\", \"args\": [{\"property\": \"height\"}, HEIGHT]},\n",
    "    ],\n",
    "}\n",
    "\n",
    "search = stac_client.search(collections=[\"jovyan_my_test_collection\"], filter=filter)\n",
    "results = list(search.items_as_dicts())\n",
    "print(f\"\\nFound {len(results)} results\")\n",
    "for result in results:\n",
    "    print(f\"({result['collection']}) {result['id']}\")"
   ]
  }
 ],
 "metadata": {
  "kernelspec": {
   "display_name": "Python 3 (ipykernel)",
   "language": "python",
   "name": "python3"
  },
  "language_info": {
   "codemirror_mode": {
    "name": "ipython",
    "version": 3
   },
   "file_extension": ".py",
   "mimetype": "text/x-python",
   "name": "python",
   "nbconvert_exporter": "python",
   "pygments_lexer": "ipython3",
   "version": "3.11.6"
  }
 },
 "nbformat": 4,
 "nbformat_minor": 5
}

{
 "cells": [
  {
   "cell_type": "markdown",
   "metadata": {},
   "source": [
    "## This demo presents the implementation for the following stories:\n",
    "- RSPY-530 - Implement staging rs client"
   ]
  },
  {
   "cell_type": "code",
   "execution_count": null,
   "metadata": {},
   "outputs": [],
   "source": [
    "import getpass\n",
    "import json\n",
    "import os\n",
    "import pprint\n",
    "import sys\n",
    "import time\n",
    "from datetime import datetime\n",
    "from typing import Any\n",
    "\n",
    "import boto3\n",
    "import botocore\n",
    "import requests\n",
    "from pystac import Collection, Extent, SpatialExtent, TemporalExtent\n",
    "\n",
    "from rs_client.rs_client import RsClient\n",
    "from rs_client.rs_workflows.new_staging import RsStagingClient\n",
    "from rs_common.config import ECadipStation\n",
    "from rs_common.logging import Logging"
   ]
  },
  {
   "cell_type": "code",
   "execution_count": null,
   "metadata": {},
   "outputs": [],
   "source": [
    "import requests\n",
    "import os\n",
    "import pprint\n",
    "# Init environment before running a demo notebook.\n",
    "from resources.utils import *\n",
    "\n",
    "pp = pprint.PrettyPrinter(indent=2, width=80, sort_dicts=False, compact=True)\n",
    "session = requests.Session()\n",
    "user = os.environ[\"JUPYTERHUB_USER\"] if cluster_mode else os.environ[\"RSPY_HOST_USER\"]\n",
    "auxip_client, cadip_client, stac_client = init_demo(owner_id = user)\n",
    "if os.getenv(\"RSPY_LOCAL_MODE\") == \"1\":\n",
    "    href = \"http://rs-server-cadip:8000\"    \n",
    "    href_staging = \"http://rs-server-staging:8000\"\n",
    "else:\n",
    "    href = os.environ[\"RSPY_WEBSITE\"]\n",
    "    href_staging = \"https://rsserverstaging.dev-rspy.esa-copernicus.eu\"\n",
    "    session.cookies.set (\"session\", os.environ[\"RSPY_OAUTH2_COOKIE\"])\n",
    "\n",
    "cadip_collection_id = \"cadip_s1A\"\n",
    "adgs_collection_id = \"aux_interval\"\n"
   ]
  },
  {
   "cell_type": "code",
   "execution_count": null,
   "metadata": {},
   "outputs": [],
   "source": [
    "TIMEOUT = 10\n",
    "CATALOG_BUCKET = \"rs-cluster-catalog\"\n",
    "RSPY_HOST_STAGING = os.environ[\"RSPY_HOST_STAGING\"]\n",
    "\n",
    "APIKEY_HEADER = \"x-api-key\"\n",
    "COLLECTION_ID = \"cadip_s1A\"\n",
    "STAC_OUTPUT_COLL_NAME = \"cadip_s1A_staged\"\n",
    "APIKEY_VALUE = None  # \"x-api-key\" ### TODO: get apikey from frontend page\n",
    "APIKEY_HEADERS: dict = {\"headers\": {APIKEY_HEADER: APIKEY_VALUE}} if APIKEY_VALUE else {}\n",
    "user = os.getenv(\"RSPY_HOST_USER\", default=getpass.getuser())\n",
    "local_mode = os.getenv(\"RSPY_LOCAL_MODE\") == \"1\"\n",
    "rs_server_href = \"\" if local_mode else os.getenv(\"RSPY_WEBSITE\")"
   ]
  },
  {
   "cell_type": "code",
   "execution_count": null,
   "metadata": {},
   "outputs": [],
   "source": [
    " # Get client instances from the generic client\n",
    "generic_client = RsClient(\n",
    "    rs_server_href,\n",
    "    rs_server_api_key=APIKEY_VALUE,\n",
    "    owner_id=user,\n",
    "    logger=None,\n",
    ")\n",
    "stac_client = generic_client.get_stac_client()\n",
    "cadip_station = ECadipStation.CADIP  # you can also have: INS, MPS, MTI, NSG, SGS\n",
    "cadip_client = generic_client.get_cadip_client(cadip_station)\n",
    "logger = Logging.default(__name__)"
   ]
  },
  {
   "cell_type": "code",
   "execution_count": null,
   "metadata": {},
   "outputs": [],
   "source": [
    "# Create the output STAC collection if it doesn't alredy exists\n",
    "logger.info(f\"Creating a new collection {STAC_OUTPUT_COLL_NAME} in the STAC catalog...\")\n",
    "try:\n",
    "    create_coll_response = stac_client.get_collection(STAC_OUTPUT_COLL_NAME)\n",
    "    logger.info(\n",
    "        f\"Collection {STAC_OUTPUT_COLL_NAME} already exists -> staging process will use the existing one\",\n",
    "    )\n",
    "except TypeError:\n",
    "    create_coll_response = stac_client.add_collection(\n",
    "        Collection(\n",
    "            id=STAC_OUTPUT_COLL_NAME,\n",
    "            description=None,  # rs-client will provide a default description for us\n",
    "            extent=Extent(\n",
    "                spatial=SpatialExtent(bboxes=[-180.0, -90.0, 180.0, 90.0]),\n",
    "                temporal=TemporalExtent(\n",
    "                    [datetime(2000, 1, 1), datetime(2030, 1, 1)],\n",
    "                ),\n",
    "            ),\n",
    "        ),\n",
    "    )\n",
    "    logger.info(\n",
    "        f\"Resp status: {create_coll_response.status_code} | Message: {create_coll_response.reason}\",\n",
    "    )"
   ]
  },
  {
   "cell_type": "code",
   "execution_count": null,
   "metadata": {},
   "outputs": [],
   "source": [
    "# Create a bucket to store staged data\n",
    "PREFIX = \"stream/\"\n",
    "s3_session = boto3.session.Session()\n",
    "s3_client = s3_session.client(\n",
    "    service_name=\"s3\",\n",
    "    aws_access_key_id=os.environ[\"S3_ACCESSKEY\"],\n",
    "    aws_secret_access_key=os.environ[\"S3_SECRETKEY\"],\n",
    "    endpoint_url=os.environ[\"S3_ENDPOINT\"],\n",
    "    region_name=os.environ[\"S3_REGION\"],\n",
    ")\n",
    "try:\n",
    "    s3_client.head_bucket(Bucket=CATALOG_BUCKET)\n",
    "    logger.info(f\"The bucket {CATALOG_BUCKET} already exists\")\n",
    "except botocore.client.ClientError as error:\n",
    "    if int(error.response[\"Error\"][\"Code\"]) == 404:\n",
    "        try:\n",
    "            s3_client.create_bucket(Bucket=CATALOG_BUCKET)\n",
    "        except botocore.exceptions.ClientError as e:\n",
    "            logger.info(f\"Bucket CATALOG_BUCKET error: {e}\")\n",
    "            sys.exit(-1)\n",
    "    else:\n",
    "        logger.info(\"PANIC: Could not get bucket info. Exiting\")\n",
    "        sys.exit(-1)\n",
    "# Delete all existing objects from rs-server-catalog\n",
    "if PREFIX:\n",
    "    response = s3_client.list_objects_v2(Bucket=CATALOG_BUCKET, Prefix=PREFIX)\n",
    "    if response.get(\"Contents\", None):\n",
    "        for elem in response[\"Contents\"]:\n",
    "            logger.info(f\"Deleting {elem['Key']}\")\n",
    "            s3_client.delete_object(Bucket=CATALOG_BUCKET, Key=elem[\"Key\"])\n",
    "\n",
    "# Apply a request to get information about sessions that you want to stage\n",
    "session = requests.Session()\n",
    "search_result = session.get(f\"{os.getenv('RSPY_HOST_CADIP')}/cadip/collections/{COLLECTION_ID}/items\").json()"
   ]
  },
  {
   "cell_type": "code",
   "execution_count": null,
   "metadata": {},
   "outputs": [],
   "source": [
    "# Launch staging \n",
    "staging_client = RsStagingClient()\n",
    "staging_client.run_staging(APIKEY_HEADERS, search_result, STAC_OUTPUT_COLL_NAME, TIMEOUT)"
   ]
  }
 ],
 "metadata": {
  "kernelspec": {
   "display_name": "rs-client-libraries-DrjUBScr-py3.11",
   "language": "python",
   "name": "python3"
  },
  "language_info": {
   "name": "python",
   "version": "3.11.7"
  }
 },
 "nbformat": 4,
 "nbformat_minor": 2
}

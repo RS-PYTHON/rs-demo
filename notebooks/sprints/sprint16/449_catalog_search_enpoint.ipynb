{
 "cells": [
  {
   "cell_type": "markdown",
   "id": "9ac8c8e1-109d-43b8-adf5-bf7157aab938",
   "metadata": {},
   "source": [
    "### `rs-client-libraries` installation"
   ]
  },
  {
   "cell_type": "code",
   "execution_count": 100,
   "id": "e6255faa-063d-415d-baff-2d4d7fe13fe1",
   "metadata": {},
   "outputs": [],
   "source": [
    "import rs_client\n",
    "import rs_common\n",
    "import rs_workflows\n",
    "\n",
    "# Set logger level to info\n",
    "import logging\n",
    "rs_common.logging.Logging.level = logging.INFO"
   ]
  },
  {
   "cell_type": "markdown",
   "id": "5a8e4fe4-e5b6-4a9e-a193-b26a5c0a6d68",
   "metadata": {},
   "source": [
    "### Environment"
   ]
  },
  {
   "cell_type": "code",
   "execution_count": 101,
   "id": "61b11e1b-dc7e-4417-92ef-58e794510622",
   "metadata": {},
   "outputs": [],
   "source": [
    "import os\n",
    "\n",
    "# In local mode, all your services are running locally.\n",
    "# In hybrid or cluster mode, we use the services deployed on the RS-Server website.\n",
    "# This configuration is set in an environment variable.\n",
    "local_mode = (os.getenv(\"RSPY_LOCAL_MODE\") == \"1\")\n",
    "\n",
    "# In local mode, the service URLs are hardcoded in the docker-compose file\n",
    "if local_mode:\n",
    "    rs_server_href = None # not used\n",
    "    RSPY_HOST_AUXIP = \"http://localhost:8001/docs\"\n",
    "    RSPY_HOST_CADIP = \"http://localhost:8002/docs\"\n",
    "    RSPY_HOST_CATALOG = \"http://localhost:8003/catalog/api.html\"\n",
    "\n",
    "# In hybrid or cluster mode, they are set in an environment variables\n",
    "else:\n",
    "    rs_server_href = os.environ[\"RSPY_WEBSITE\"]"
   ]
  },
  {
   "cell_type": "markdown",
   "id": "9ace8f34-282e-4655-90e7-239f3763ff89",
   "metadata": {},
   "source": [
    "# Create client + S3 bucket storage"
   ]
  },
  {
   "cell_type": "code",
   "execution_count": 102,
   "id": "abf5d230-956c-47c1-a6e8-8204e2aa4799",
   "metadata": {},
   "outputs": [
    {
     "name": "stdout",
     "output_type": "stream",
     "text": [
      "STAC catalog owner: 'jovyan'\n",
      "Temporary bucket: 'rs-cluster-temp'\n",
      "Final bucket: 'rs-cluster-catalog'\n"
     ]
    }
   ],
   "source": [
    "import json\n",
    "from rs_client.rs_client import RsClient\n",
    "from rs_common.config import ECadipStation\n",
    "\n",
    "# Create client instances\n",
    "generic_client = RsClient(rs_server_href, rs_server_api_key=None, owner_id=None, logger=None)\n",
    "print(f\"STAC catalog owner: {generic_client.owner_id!r}\")\n",
    "\n",
    "# From this generic instance, get an Auxip client instance\n",
    "auxip_client = generic_client.get_auxip_client()\n",
    "\n",
    "# Or get a Cadip client instance. Pass the cadip station.\n",
    "cadip_station = ECadipStation.CADIP # you can also have: INS, MPS, MTI, NSG, SGS\n",
    "cadip_client = generic_client.get_cadip_client(cadip_station)\n",
    "\n",
    "# Or get a Stac client to access the catalog\n",
    "stac_client = generic_client.get_stac_client()\n",
    "\n",
    "# Create S3 bucket storage\n",
    "# We use these bucket names that are deployed on the cluster. \n",
    "# RS-Server has read/write access to these buckets, but as an end-user, you won't manipulate them directly.\n",
    "RSPY_TEMP_BUCKET = os.environ[\"RSPY_TEMP_BUCKET\"]\n",
    "RSPY_CATALOG_BUCKET = os.environ[\"RSPY_CATALOG_BUCKET\"]\n",
    "print(f\"Temporary bucket: {RSPY_TEMP_BUCKET!r}\")\n",
    "print(f\"Final bucket: {RSPY_CATALOG_BUCKET!r}\")\n",
    "\n",
    "# Except in local mode, where we use a local MinIO object storage instance.\n",
    "# We need to manually create the buckets.\n",
    "if local_mode:\n",
    "    from resources.utils import create_s3_buckets\n",
    "    create_s3_buckets()"
   ]
  },
  {
   "cell_type": "code",
   "execution_count": 103,
   "id": "9aafd252-625e-4977-9629-70c29cc98c21",
   "metadata": {},
   "outputs": [],
   "source": [
    "# In hybrid or cluster mode, show information from the user account\n",
    "if not local_mode:\n",
    "    print(f\"User login: {generic_client.oauth2_user_login!r}\")\n",
    "    iam_roles = \"\\n\".join (sorted (generic_client.oauth2_iam_roles))\n",
    "    print(f\"\\nAPI key IAM roles: \\n{iam_roles}\")"
   ]
  },
  {
   "cell_type": "markdown",
   "id": "24f4d5c3-6695-4083-9d47-dc11c24df097",
   "metadata": {},
   "source": [
    "# Create collections and items"
   ]
  },
  {
   "cell_type": "code",
   "execution_count": 104,
   "id": "ecec9c2d-9294-40c3-97f0-aa1be0da0005",
   "metadata": {},
   "outputs": [],
   "source": [
    "# Stage files\n",
    "from datetime import datetime\n",
    "import json\n",
    "from time import sleep\n",
    "from rs_common.config import EDownloadStatus, EPlatform\n",
    "\n",
    "# Define a search interval\n",
    "start_date = datetime(2010, 1, 1, 12, 0, 0)\n",
    "stop_date = datetime(2024, 1, 2, 16, 0, 0)\n",
    "\n",
    "# We use this bucket name that is deployed on the cluster. \n",
    "# RS-Server has read/write access to this bucket, but as an end-user, you won't manipulate it directly.\n",
    "RSPY_TEMP_BUCKET = os.environ[\"RSPY_TEMP_BUCKET\"]"
   ]
  },
  {
   "cell_type": "code",
   "execution_count": 105,
   "id": "e2e81678-08b6-4068-b323-2ece24e6042c",
   "metadata": {},
   "outputs": [
    {
     "name": "stdout",
     "output_type": "stream",
     "text": [
      "Staging status for 'S2__OPER_AUX_ECMWFD_PDMC_20200216T120000_V20190217T090000_20190217T210000.TGZ': IN_PROGRESS\n",
      "Staging status for 'S2__OPER_AUX_ECMWFD_PDMC_20200216T120000_V20190217T090000_20190217T210000.TGZ': DONE\n",
      "\n",
      "\n",
      "Staging status for 'S2__OPER_AUX_ECMWFD_PDMC_20190216T120000_V20190217T090000_20190217T210000.TGZ': IN_PROGRESS\n",
      "Staging status for 'S2__OPER_AUX_ECMWFD_PDMC_20190216T120000_V20190217T090000_20190217T210000.TGZ': DONE\n",
      "\n",
      "\n"
     ]
    }
   ],
   "source": [
    "# Stage files from auxip and cadip stations\n",
    "temp_s3_files = []\n",
    "for client in [auxip_client]: ###cadip_client\n",
    "    files = client.search_stations(start_date, stop_date, limit=2)\n",
    "    ###assert len(files) == 1\n",
    "    file_id_list = [x[\"id\"] for x in files]\n",
    "    s3_path = f\"s3://{RSPY_TEMP_BUCKET}/{client.owner_id}/{client.station_name}\"\n",
    "\n",
    "    for file_id in file_id_list:\n",
    "        temp_s3_files.append (f\"{s3_path}/{file_id}\") # save it for later\n",
    "        local_path = None\n",
    "        client.staging(file_id, s3_path=s3_path, tmp_download_path=local_path)\n",
    "        while True:\n",
    "            status = client.staging_status(file_id)\n",
    "            print (f\"Staging status for {file_id!r}: {status.value}\")\n",
    "            if status in [EDownloadStatus.DONE, EDownloadStatus.FAILED]:\n",
    "                print(\"\\n\")\n",
    "                break\n",
    "            sleep(1)        \n",
    "        assert status == EDownloadStatus.DONE, \"Staging has failed\""
   ]
  },
  {
   "cell_type": "code",
   "execution_count": 106,
   "id": "e1568d46-5c1f-44ef-8025-0b8bec779182",
   "metadata": {},
   "outputs": [
    {
     "name": "stdout",
     "output_type": "stream",
     "text": [
      "I have collection: <CollectionClient id=jovyan_S1_L1> at http://rs-server-catalog:8000/catalog/collections/jovyan:S1_L1\n",
      "I have collection: <CollectionClient id=jovyan_S2_L1> at http://rs-server-catalog:8000/catalog/collections/jovyan:S2_L1\n"
     ]
    }
   ],
   "source": [
    "# Create 2 new collections\n",
    "from pystac import Collection, Extent, SpatialExtent, TemporalExtent\n",
    "\n",
    "COLLECTION_LIST = [\"S1_L1\", \"S2_L1\"]\n",
    "# Clean the existing collection, if any\n",
    "for collection in COLLECTION_LIST:\n",
    "    stac_client.remove_collection(collection)\n",
    "\n",
    "for collection in COLLECTION_LIST:\n",
    "    response = stac_client.add_collection(\n",
    "        Collection(\n",
    "            id=collection,\n",
    "            description=None, # rs-client will provide a default description for us\n",
    "            extent=Extent(\n",
    "                spatial=SpatialExtent(bboxes=[-180.0, -90.0, 180.0, 90.0]),\n",
    "                temporal=TemporalExtent([start_date, stop_date])\n",
    "            )\n",
    "        ))\n",
    "    response.raise_for_status()\n",
    "\n",
    "# See all my personal catalog collections\n",
    "for collection in stac_client.get_collections():\n",
    "    print(f\"I have collection: {collection} at {collection.self_href}\")"
   ]
  },
  {
   "cell_type": "code",
   "execution_count": 107,
   "id": "98718b2d-d7b7-4c83-909d-ab458ce57682",
   "metadata": {},
   "outputs": [
    {
     "name": "stdout",
     "output_type": "stream",
     "text": [
      "Add catalog item from: 's3://rs-cluster-temp/jovyan/AUXIP/S2__OPER_AUX_ECMWFD_PDMC_20200216T120000_V20190217T090000_20190217T210000.TGZ'\n",
      "Add catalog item from: 's3://rs-cluster-temp/jovyan/AUXIP/S2__OPER_AUX_ECMWFD_PDMC_20190216T120000_V20190217T090000_20190217T210000.TGZ'\n"
     ]
    }
   ],
   "source": [
    "from pystac.asset import Asset\n",
    "from pystac.item import Item\n",
    "\n",
    "# Simulated values\n",
    "WIDTH=2500\n",
    "HEIGHT=2500\n",
    "\n",
    "# We will add one Auxip and one Cadip file that were staged from the previous notebook\n",
    "for i, temp_s3_file in enumerate(temp_s3_files):\n",
    "    print(f\"Add catalog item from: {temp_s3_file!r}\")\n",
    "    item_id = os.path.basename(temp_s3_file)\n",
    "    assets = {temp_s3_file.split(\"/\")[-1]: Asset(href=temp_s3_file)}\n",
    "    # Other hardcoded parameters for this demo\n",
    "    geometry = {\n",
    "        \"type\": \"Polygon\",\n",
    "        \"coordinates\": [[[-180, -90], [180, -90], [180, 90], [-180, 90], [-180, -90]]],\n",
    "    }\n",
    "    bbox = [-180.0, -90.0, 180.0, 90.0]\n",
    "    now = datetime.now()\n",
    "    properties = {\n",
    "        \"gsd\": 0.12345,\n",
    "        \"width\": WIDTH,\n",
    "        \"height\": HEIGHT,\n",
    "        \"datetime\": datetime.now(),\n",
    "        \"proj:epsg\": 3857,\n",
    "        \"orientation\": \"nadir\",\n",
    "    }\n",
    "\n",
    "    # Add item to the STAC catalog collection, check status is OK\n",
    "    # NOTE: in future versions, this pystac Item object will be returned automatically by rs-client-libraries.\n",
    "    item = Item(\n",
    "        id=item_id,\n",
    "        geometry=geometry,\n",
    "        bbox=bbox,\n",
    "        datetime=now,\n",
    "        properties=properties,\n",
    "        assets=assets)\n",
    "    response = stac_client.add_item(COLLECTION_LIST[i], item)\n",
    "    response.raise_for_status()"
   ]
  },
  {
   "cell_type": "markdown",
   "id": "4ad336cf-4895-4883-a0ab-597cafa54f3f",
   "metadata": {},
   "source": [
    "### Search endpoint using multiple collections + implicit naming mechanism"
   ]
  },
  {
   "cell_type": "markdown",
   "id": "f085c26d-68d3-4eb3-ad1b-942bad89c3d0",
   "metadata": {},
   "source": [
    "![title](resources/search_demo.png)"
   ]
  },
  {
   "cell_type": "markdown",
   "id": "5a557843-e144-4224-9094-44e6c42950db",
   "metadata": {},
   "source": [
    "- Possibility to specify or not the owner_id at the beginning  of the collection name or you can specify the owner_id in the filter\n",
    "- First check to see if collection exist -> if not concatenate the owner_id to the collection name\n",
    "- If the owner id is neither defined in the collection name nor in the filter, the default owner_id is selected"
   ]
  },
  {
   "cell_type": "markdown",
   "id": "37c6a4c7-7483-4e48-b4bb-c590a12ca597",
   "metadata": {},
   "source": [
    "**Case 1:** you can choose to specify the owner_id directly in the name of the collection. If the collection exists, the items validating the search request will be returned:"
   ]
  },
  {
   "cell_type": "code",
   "execution_count": 116,
   "id": "46de93aa-cb88-450b-8058-b39d215e1638",
   "metadata": {},
   "outputs": [
    {
     "name": "stdout",
     "output_type": "stream",
     "text": [
      "Error: HTTPConnectionPool(host='rs-server-catalog', port=8000): Read timed out. (read timeout=30)\n"
     ]
    }
   ],
   "source": [
    "# Search collection - POST method - owner_id specified in the name of the collection\n",
    "\n",
    "WIDTH=2500\n",
    "HEIGHT=2500\n",
    "\n",
    "my_collections = ['jovyan_S1_L1', 'jovyan_S2_L1']\n",
    "filter_on_dimensions = {\n",
    "    \"op\": \"and\",\n",
    "    \"args\": [\n",
    "        {\"op\": \"=\", \"args\" : [{\"property\": \"orientation\"}, \"nadir\"]},\n",
    "        {\"op\": \"=\", \"args\" : [{\"property\": \"width\"}, WIDTH]},\n",
    "        {\"op\": \"=\", \"args\" : [{\"property\": \"height\"}, HEIGHT]},\n",
    "    ]\n",
    "}\n",
    "\n",
    "try:\n",
    "    search = stac_client.search(method='POST', filter_lang=\"cql2-json\", filter=filter_on_dimensions, collections=my_collections)\n",
    "    results = list(search.items_as_dicts())\n",
    "    assert results, f\"There should be at least one item for width={WIDTH} height={HEIGHT}\"\n",
    "    print(f\"\\nFound {len(results)} results for width={WIDTH} height={HEIGHT}\")\n",
    "    for result in results:\n",
    "        print(f\"({result['collection']}) {result['id']}\")\n",
    "except Exception as e:\n",
    "    print(f\"Error: {e}\")"
   ]
  },
  {
   "cell_type": "markdown",
   "id": "2d88acd6-2c7a-4a52-99a5-3b8c72d85288",
   "metadata": {},
   "source": [
    "**Case 2:** If the user is not specified in the name of the collection but is specified in the filter, the catalog will first check if the collection exists as it is defined. If not, the owner_id defined in the filter will be automaticlly concatenated to the name of the collection, and the search process will be applied using this new concatenated name.\n",
    "In the example below, we have one collection name that contains the owner_id and one that doesn't, and we can see that we are still able to retrieve the same number of items in the result."
   ]
  },
  {
   "cell_type": "code",
   "execution_count": 109,
   "id": "c67a49fb-a6bb-44b9-847a-7563a9c112fc",
   "metadata": {},
   "outputs": [
    {
     "name": "stdout",
     "output_type": "stream",
     "text": [
      "\n",
      "Found 2 results for width=2500 height=2500\n",
      "(S2_L1) S2__OPER_AUX_ECMWFD_PDMC_20190216T120000_V20190217T090000_20190217T210000.TGZ\n",
      "(S1_L1) S2__OPER_AUX_ECMWFD_PDMC_20200216T120000_V20190217T090000_20190217T210000.TGZ\n"
     ]
    }
   ],
   "source": [
    "# Search collection - POST method - owner_id specified both in one of the collection name and in the filter\n",
    "WIDTH=2500\n",
    "HEIGHT=2500\n",
    "\n",
    "my_collections = ['jovyan_S1_L1', 'S2_L1']\n",
    "filter_on_dimensions = {\n",
    "    \"op\": \"and\",\n",
    "    \"args\": [\n",
    "        {\"op\": \"=\", \"args\" : [{\"property\": \"owner\"}, \"jovyan\"]},\n",
    "        {\"op\": \"=\", \"args\" : [{\"property\": \"orientation\"}, \"nadir\"]},\n",
    "        {\"op\": \"=\", \"args\" : [{\"property\": \"width\"}, WIDTH]},\n",
    "        {\"op\": \"=\", \"args\" : [{\"property\": \"height\"}, HEIGHT]},\n",
    "    ]\n",
    "}\n",
    "try:\n",
    "    search = stac_client.search(method='POST', filter_lang=\"cql2-json\", filter=filter_on_dimensions, collections=my_collections)\n",
    "    results = list(search.items_as_dicts())\n",
    "    assert results, f\"There should be at least one item for width={WIDTH} height={HEIGHT}\"\n",
    "    print(f\"\\nFound {len(results)} results for width={WIDTH} height={HEIGHT}\")\n",
    "    for result in results:\n",
    "        print(f\"({result['collection']}) {result['id']}\")\n",
    "except Exception as e:\n",
    "    print(f\"Error: {e}\")"
   ]
  },
  {
   "cell_type": "markdown",
   "id": "c065ba3a-3520-434b-93b2-331a53386fb5",
   "metadata": {},
   "source": [
    "**Case 3:** If the user is neither specified in the name of the collection nor in the filter, the catalog first check for each collection if it exists, and if it is not the case\n",
    "the default owner id (local/cluster user login according to the current mode) is concatenated  to the name of the collection (here \"user\"). In our example, there are no collection belonging \n",
    "to the owner \"user\" so we will get an error in this case. "
   ]
  },
  {
   "cell_type": "code",
   "execution_count": 110,
   "id": "17e2234d-d6bd-46ae-8467-1210aec703e0",
   "metadata": {},
   "outputs": [
    {
     "name": "stdout",
     "output_type": "stream",
     "text": [
      "Error: {\"error\":\"Collection user_S1_L1 not found.\"}\n"
     ]
    }
   ],
   "source": [
    "# If owner_id is not specified -> take the default one: here \"user\"\n",
    "\n",
    "# Search collection - POST method\n",
    "WIDTH=2500\n",
    "HEIGHT=2500\n",
    "\n",
    "my_collections = ['S1_L1', 'S2_L1']\n",
    "filter_on_dimensions = {\n",
    "    \"op\": \"and\",\n",
    "    \"args\": [\n",
    "        {\"op\": \"=\", \"args\" : [{\"property\": \"orientation\"}, \"nadir\"]},\n",
    "        {\"op\": \"=\", \"args\" : [{\"property\": \"width\"}, WIDTH]},\n",
    "        {\"op\": \"=\", \"args\" : [{\"property\": \"height\"}, HEIGHT]},\n",
    "    ]\n",
    "}\n",
    "try:\n",
    "    search = stac_client.search(method='POST', filter_lang=\"cql2-json\", filter=filter_on_dimensions, collections=my_collections)\n",
    "    results = list(search.items_as_dicts())\n",
    "    assert results, f\"There should be at least one item for width={WIDTH} height={HEIGHT}\"\n",
    "    print(f\"\\nFound {len(results)} results for width={WIDTH} height={HEIGHT}\")\n",
    "    for result in results:\n",
    "        print(f\"({result['collection']}) {result['id']}\")\n",
    "except Exception as e:\n",
    "    print(f\"Error: {e}\")"
   ]
  },
  {
   "cell_type": "markdown",
   "id": "a37f1085-e7e6-45e9-80d0-f5b02bd870e0",
   "metadata": {},
   "source": [
    "The same tests can be done with the GET method. Here is an example:"
   ]
  },
  {
   "cell_type": "code",
   "execution_count": 111,
   "id": "c2de374d-6677-4d5c-923e-161f22a91dbd",
   "metadata": {},
   "outputs": [
    {
     "name": "stdout",
     "output_type": "stream",
     "text": [
      "\n",
      "Found 2 results for width=2500 height=2500\n",
      "(S2_L1) S2__OPER_AUX_ECMWFD_PDMC_20190216T120000_V20190217T090000_20190217T210000.TGZ\n",
      "(S1_L1) S2__OPER_AUX_ECMWFD_PDMC_20200216T120000_V20190217T090000_20190217T210000.TGZ\n"
     ]
    }
   ],
   "source": [
    "# Search collection - GET method\n",
    "filter_on_dimensions = \"width=2500 AND owner='jovyan'\"\n",
    "collections = \"S1_L1,toto_S2_L1\"\n",
    "\n",
    "search = stac_client.search(method='GET', filter_lang=\"cql2-text\", filter=filter_on_dimensions, collections=my_collections)\n",
    "results = list(search.items_as_dicts())\n",
    "assert results, f\"There should be at least one item for width={WIDTH} height={HEIGHT}\"\n",
    "print(f\"\\nFound {len(results)} results for width={WIDTH} height={HEIGHT}\")\n",
    "for result in results:\n",
    "    print(f\"({result['collection']}) {result['id']}\")"
   ]
  }
 ],
 "metadata": {
  "kernelspec": {
   "display_name": "Python 3 (ipykernel)",
   "language": "python",
   "name": "python3"
  },
  "language_info": {
   "codemirror_mode": {
    "name": "ipython",
    "version": 3
   },
   "file_extension": ".py",
   "mimetype": "text/x-python",
   "name": "python",
   "nbconvert_exporter": "python",
   "pygments_lexer": "ipython3",
   "version": "3.11.6"
  }
 },
 "nbformat": 4,
 "nbformat_minor": 5
}

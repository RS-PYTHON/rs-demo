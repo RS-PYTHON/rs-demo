{
 "cells": [
  {
   "cell_type": "markdown",
   "id": "9ac8c8e1-109d-43b8-adf5-bf7157aab938",
   "metadata": {},
   "source": [
    "### `rs-client-libraries` installation"
   ]
  },
  {
   "cell_type": "code",
   "execution_count": 105,
   "id": "e6255faa-063d-415d-baff-2d4d7fe13fe1",
   "metadata": {},
   "outputs": [],
   "source": [
    "import rs_client\n",
    "import rs_common\n",
    "import rs_workflows\n",
    "\n",
    "# Set logger level to info\n",
    "import logging\n",
    "rs_common.logging.Logging.level = logging.INFO"
   ]
  },
  {
   "cell_type": "markdown",
   "id": "5a8e4fe4-e5b6-4a9e-a193-b26a5c0a6d68",
   "metadata": {},
   "source": [
    "### Environment"
   ]
  },
  {
   "cell_type": "code",
   "execution_count": 106,
   "id": "61b11e1b-dc7e-4417-92ef-58e794510622",
   "metadata": {},
   "outputs": [],
   "source": [
    "import os\n",
    "\n",
    "# In local mode, all your services are running locally.\n",
    "# In hybrid or cluster mode, we use the services deployed on the RS-Server website.\n",
    "# This configuration is set in an environment variable.\n",
    "local_mode = (os.getenv(\"RSPY_LOCAL_MODE\") == \"1\")\n",
    "\n",
    "# In local mode, the service URLs are hardcoded in the docker-compose file\n",
    "if local_mode:\n",
    "    rs_server_href = None # not used\n",
    "    RSPY_HOST_AUXIP = \"http://localhost:8001/docs\"\n",
    "    RSPY_HOST_CADIP = \"http://localhost:8002/docs\"\n",
    "    RSPY_HOST_CATALOG = \"http://localhost:8003/catalog/api.html\"\n",
    "\n",
    "# In hybrid or cluster mode, they are set in an environment variables\n",
    "else:\n",
    "    rs_server_href = os.environ[\"RSPY_WEBSITE\"]"
   ]
  },
  {
   "cell_type": "code",
   "execution_count": 107,
   "id": "abf5d230-956c-47c1-a6e8-8204e2aa4799",
   "metadata": {},
   "outputs": [
    {
     "name": "stdout",
     "output_type": "stream",
     "text": [
      "STAC catalog owner: 'jovyan'\n"
     ]
    }
   ],
   "source": [
    "import json\n",
    "from rs_client.rs_client import RsClient\n",
    "from rs_common.config import ECadipStation\n",
    "\n",
    "# Init a generic RS-Client instance. Pass the:\n",
    "#   - RS-Server website URL\n",
    "#   - API key\n",
    "#   - ID of the owner of the STAC catalog collections.\n",
    "#     By default, this is the user login from the keycloak account, associated to the API key.\n",
    "#     Or, in local mode, this is the local system username.\n",
    "#     Else, your API Key must give you the rights to read/write on this catalog owner (see next cell).\n",
    "#   - Logger (optional, a default one can be used)\n",
    "generic_client = RsClient(rs_server_href, rs_server_api_key=None, owner_id=None, logger=None)\n",
    "print(f\"STAC catalog owner: {generic_client.owner_id!r}\")\n",
    "\n",
    "# From this generic instance, get an Auxip client instance\n",
    "auxip_client = generic_client.get_auxip_client()\n",
    "\n",
    "# Or get a Cadip client instance. Pass the cadip station.\n",
    "cadip_station = ECadipStation.CADIP # you can also have: INS, MPS, MTI, NSG, SGS\n",
    "cadip_client = generic_client.get_cadip_client(cadip_station)\n",
    "\n",
    "# Or get a Stac client to access the catalog\n",
    "stac_client = generic_client.get_stac_client()"
   ]
  },
  {
   "cell_type": "markdown",
   "id": "24f4d5c3-6695-4083-9d47-dc11c24df097",
   "metadata": {},
   "source": [
    "# Create collections and items"
   ]
  },
  {
   "cell_type": "code",
   "execution_count": null,
   "id": "e5c57fec-d34f-4652-9f17-5c8cd34359a2",
   "metadata": {},
   "outputs": [],
   "source": []
  },
  {
   "cell_type": "markdown",
   "id": "4ad336cf-4895-4883-a0ab-597cafa54f3f",
   "metadata": {},
   "source": [
    "### Search endpoint using multiple collections + implicit naming mechanism"
   ]
  },
  {
   "cell_type": "markdown",
   "id": "8e01d429-da0c-4251-a9b3-0539a2fa9d7e",
   "metadata": {},
   "source": [
    "![title](search_img/search_demo.png)"
   ]
  },
  {
   "cell_type": "markdown",
   "id": "5a557843-e144-4224-9094-44e6c42950db",
   "metadata": {},
   "source": [
    "- Possibility to specify or not the owner_id at the beginning  of the collection name or you can specify the owner_id in the filter\n",
    "- First check to see if collection exist -> if not concatenate the owner_id to the collection name\n",
    "- If the owner id is neither defined in the collection name nor in the filter, the default owner_id is selected"
   ]
  },
  {
   "cell_type": "code",
   "execution_count": null,
   "id": "46de93aa-cb88-450b-8058-b39d215e1638",
   "metadata": {},
   "outputs": [],
   "source": [
    "# Search collection - POST method\n",
    "WIDTH=2500\n",
    "HEIGHT=2500\n",
    "\n",
    "my_collections = ['S1_L1', 'S2_L1']\n",
    "filter_on_dimensions = {\n",
    "    \"op\": \"and\",\n",
    "    \"args\": [\n",
    "        {\"op\": \"=\", \"args\" : [{\"property\": \"owner\"}, \"toto\"]},\n",
    "        {\"op\": \"=\", \"args\" : [{\"property\": \"orientation\"}, \"nadir\"]},\n",
    "        {\"op\": \"=\", \"args\" : [{\"property\": \"width\"}, WIDTH]},\n",
    "        {\"op\": \"=\", \"args\" : [{\"property\": \"height\"}, HEIGHT]},\n",
    "    ]\n",
    "}\n",
    "\n",
    "search = stac_client.search(method='POST', filter_lang=\"cql2-json\", filter=filter_on_dimensions, collections=my_collections)\n",
    "results = list(search.items_as_dicts())\n",
    "# assert results, f\"No results\"\n",
    "# print(f\"\\nFound {len(results)} results for width={WIDTH} height={HEIGHT}\")\n",
    "for result in results:\n",
    "    print(f\"({result['collection']}) {result['id']}\")\n"
   ]
  },
  {
   "cell_type": "code",
   "execution_count": null,
   "id": "a24a75b4-2e55-423a-8b28-f9532d82089b",
   "metadata": {},
   "outputs": [],
   "source": [
    "# Search collection - GET method\n",
    "filter_on_dimensions = \"width=2500 AND owner='toto'\"\n",
    "collections = \"S1_L1,toto_S2_L1\"\n",
    "\n",
    "search = stac_client.search(method='GET', filter_lang=\"cql2-text\", filter=filter_on_dimensions, collections=my_collections)\n",
    "results = list(search.items_as_dicts())\n",
    "assert results, f\"There should be at least one item for width={WIDTH} height={HEIGHT}\"\n",
    "print(f\"\\nFound {len(results)} results for width={WIDTH} height={HEIGHT}\")\n",
    "for result in results:\n",
    "    print(f\"({result['collection']}) {result['id']}\")"
   ]
  },
  {
   "cell_type": "code",
   "execution_count": 100,
   "id": "c67a49fb-a6bb-44b9-847a-7563a9c112fc",
   "metadata": {},
   "outputs": [
    {
     "name": "stdout",
     "output_type": "stream",
     "text": [
      "Error: {\"error\":\"Collection user_S1_L1 not found.\"}\n"
     ]
    }
   ],
   "source": [
    "# If owner_id is not specified -> take the default one: here \"user\"\n",
    "\n",
    "# Search collection - POST method\n",
    "WIDTH=2500\n",
    "HEIGHT=2500\n",
    "\n",
    "my_collections = ['S1_L1', 'S2_L1']\n",
    "filter_on_dimensions = {\n",
    "    \"op\": \"and\",\n",
    "    \"args\": [\n",
    "        {\"op\": \"=\", \"args\" : [{\"property\": \"orientation\"}, \"nadir\"]},\n",
    "        {\"op\": \"=\", \"args\" : [{\"property\": \"width\"}, WIDTH]},\n",
    "        {\"op\": \"=\", \"args\" : [{\"property\": \"height\"}, HEIGHT]},\n",
    "    ]\n",
    "}\n",
    "try:\n",
    "    search = stac_client.search(method='POST', filter_lang=\"cql2-json\", filter=filter_on_dimensions, collections=my_collections)\n",
    "    results = list(search.items_as_dicts())\n",
    "    assert results, f\"There should be at least one item for width={WIDTH} height={HEIGHT}\"\n",
    "    print(f\"\\nFound {len(results)} results for width={WIDTH} height={HEIGHT}\")\n",
    "    for result in results:\n",
    "        print(f\"({result['collection']}) {result['id']}\")\n",
    "except Exception as e:\n",
    "    print(f\"Error: {e}\")"
   ]
  },
  {
   "cell_type": "code",
   "execution_count": null,
   "id": "c2de374d-6677-4d5c-923e-161f22a91dbd",
   "metadata": {},
   "outputs": [],
   "source": []
  }
 ],
 "metadata": {
  "kernelspec": {
   "display_name": "Python 3 (ipykernel)",
   "language": "python",
   "name": "python3"
  },
  "language_info": {
   "codemirror_mode": {
    "name": "ipython",
    "version": 3
   },
   "file_extension": ".py",
   "mimetype": "text/x-python",
   "name": "python",
   "nbconvert_exporter": "python",
   "pygments_lexer": "ipython3",
   "version": "3.11.6"
  }
 },
 "nbformat": 4,
 "nbformat_minor": 5
}

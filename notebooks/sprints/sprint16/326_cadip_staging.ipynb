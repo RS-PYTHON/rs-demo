{
 "cells": [
  {
   "cell_type": "markdown",
   "id": "e3d48a1b",
   "metadata": {},
   "source": [
    "## This demo presents the implementation for the following stories:\n",
    "- RSPY-326 - The staging process for cadip in cluster mode\n",
    "- RSPY-475 - The deletion of the s3 files from the s3 bucket beside the deletion of the info from the catalog"
   ]
  },
  {
   "cell_type": "code",
   "execution_count": null,
   "id": "513ee19d-3941-404e-8d48-3886f590280c",
   "metadata": {},
   "outputs": [],
   "source": [
    "import requests\n",
    "import os\n",
    "import pprint\n",
    "# Init environment before running a demo notebook.\n",
    "from resources.utils import *\n",
    "\n",
    "pp = pprint.PrettyPrinter(indent=2, width=80, sort_dicts=False, compact=True)\n",
    "session = requests.Session()\n",
    "user = os.environ[\"JUPYTERHUB_USER\"] if cluster_mode else os.environ[\"RSPY_HOST_USER\"]\n",
    "auxip_client, cadip_client, stac_client, staging_client = init_demo(owner_id = user)\n",
    "if os.getenv(\"RSPY_LOCAL_MODE\") == \"1\":\n",
    "    href = \"http://rs-server-cadip:8000\"    \n",
    "    href_staging = \"http://rs-server-staging:8000\"\n",
    "else:\n",
    "    href = os.environ[\"RSPY_WEBSITE\"]\n",
    "    href_staging = \"https://rsserverstaging.dev-rspy.esa-copernicus.eu\"\n",
    "    session.cookies.set (\"session\", os.environ[\"RSPY_OAUTH2_COOKIE\"])\n",
    "\n",
    "cadip_collection_id = \"cadip\"\n",
    "adgs_collection_id = \"adgs\"\n"
   ]
  },
  {
   "cell_type": "code",
   "execution_count": null,
   "id": "b752d13b-0316-4f00-9d67-5b702d7b8bdf",
   "metadata": {},
   "outputs": [],
   "source": [
    "# Create a test collection \n",
    "collection = create_test_collection()"
   ]
  },
  {
   "cell_type": "markdown",
   "id": "f2ce641b-98ba-4221-b4e2-12cdd54190b9",
   "metadata": {},
   "source": [
    "### Check the added collection with the rs-server-catalog. This collection should be empty."
   ]
  },
  {
   "cell_type": "code",
   "execution_count": null,
   "id": "1d3f88cc-d31b-4342-ac68-4372b6db1362",
   "metadata": {},
   "outputs": [],
   "source": [
    "# Check the catalog for agrosu_my_test_collection\n",
    "result = session.get(f\"{stac_client.href_catalog}/catalog/collections/{user}:{TEST_COLLECTION}/items\")\n",
    "catalog_collection = result.json()\n",
    "assert catalog_collection.get(\"type\") == \"FeatureCollection\"\n",
    "assert catalog_collection.get(\"context\").get(\"returned\") == 0\n",
    "print(f\"No items found in the '{TEST_COLLECTION}' collection\")"
   ]
  },
  {
   "cell_type": "markdown",
   "id": "f989069a-4d84-450f-99a0-1b0b5f3b9292",
   "metadata": {},
   "source": [
    "### Getting all the sessions from cadip_s1A collection found in the configuration of CADIP station"
   ]
  },
  {
   "cell_type": "code",
   "execution_count": null,
   "id": "4a176170-7211-4c42-b3de-305d8782874c",
   "metadata": {},
   "outputs": [],
   "source": [
    "result = session.get(f\"{href}/cadip/collections/{cadip_collection_id}/items\")\n",
    "items_collection = result.json()\n",
    "assert items_collection.get(\"type\") == \"FeatureCollection\"\n",
    "assert len(items_collection.get(\"features\")) > 0\n",
    "for item in items_collection.get(\"features\"):\n",
    "    print(f\"Session {item.get('id')} has {len(item.get('assets'))} assets with datetime {item.get('properties').get('datetime')}\")    "
   ]
  },
  {
   "cell_type": "markdown",
   "id": "10056077-dc68-46e9-868f-329dd37f7be5",
   "metadata": {},
   "source": [
    "### Creating a staging body to start the staging process"
   ]
  },
  {
   "cell_type": "code",
   "execution_count": null,
   "id": "565df693-353c-4c08-94e7-be523db62331",
   "metadata": {},
   "outputs": [],
   "source": [
    "TIMEOUT = 10\n",
    "staging_body = {\n",
    "    \"version\": \"0.2.0\",\n",
    "    \"id\": \"staging\",\n",
    "    \"title\": {\n",
    "        \"en\": \"Staging\"\n",
    "    },\n",
    "    \"description\": {\n",
    "        \"en\": \"A process that takes an external STAC ItemCollection, asynchronously download its assets into the RS catalog bucket and creates the corresponding STAC items in the RS catalog.\"\n",
    "    },\n",
    "    \"jobControlOptions\": [\n",
    "        \"async-execute\"\n",
    "    ],\n",
    "    \"keywords\": [\n",
    "        \"stac\",\n",
    "        \"staging\"\n",
    "    ],\n",
    "    \"links\": [\n",
    "        {\n",
    "            \"type\": \"text/html\",\n",
    "            \"rel\": \"about\",\n",
    "            \"title\": \"documentation\",\n",
    "            \"href\": \"https://home.rs-python.eu/rs-documentation/rs-server/docs/doc/users/functionalities/#staging\",\n",
    "            \"hreflang\": \"en-US\"\n",
    "        }\n",
    "    ],\n",
    "    \"inputs\": {\n",
    "        \"collection\": {\n",
    "            \"title\": \"Target collection\",\n",
    "            \"description\": \"The target collection identifier in the RS catalog\",\n",
    "            \"id\": TEST_COLLECTION,\n",
    "            \"schema\": {\n",
    "                \"type\": \"string\"\n",
    "            },\n",
    "            \"minOccurs\": 1,\n",
    "            \"maxOccurs\": 1\n",
    "        },\n",
    "        \"items\": items_collection,\n",
    "        \"provider\": \"cadip\"\n",
    "    },\n",
    "    \"outputs\": {\n",
    "        \"result\": {\n",
    "            \"title\": \"Output STAC items\",\n",
    "            \"id\": \"some_output_id\",\n",
    "            \"description\": \"The staged STAC ItemCollection\",\n",
    "            \"schema\": \"false\",\n",
    "            \"minOccurs\": 1,\n",
    "            \"maxOccurs\": 1\n",
    "        }\n",
    "    }\n",
    "}\n",
    "\n",
    "import requests\n",
    "post_response = session.post(f\"{href_staging}/processes/staging/execution\", \n",
    "                              json=staging_body,                              \n",
    "                              timeout = TIMEOUT,)\n",
    "\n",
    "resp = json.loads(post_response.content)\n",
    "pprint.PrettyPrinter(indent=4).pprint(resp)\n",
    "\n",
    "job_id = resp[\"status\"][\"started\"]\n",
    "print(f\"\\nThe job_id = {job_id}\\n\")\n",
    "\n",
    "import time\n",
    "timeout = 120\n",
    "while timeout > 0:\n",
    "    post_response = requests.get(f\"{href_staging}/jobs/{job_id}\",\n",
    "                              **apikey_headers,\n",
    "                              timeout = TIMEOUT,)\n",
    "    try:\n",
    "        resp = json.loads(post_response.content)\n",
    "        pprint.PrettyPrinter(indent=4).pprint(resp)\n",
    "        print(\"\\n\")\n",
    "        if resp[\"status\"] == \"FINISHED\":\n",
    "            print(\"Job COMPLETED\")\n",
    "            break\n",
    "            \n",
    "        if resp[\"status\"] == \"FAILED\":\n",
    "            print(\"Job FAILED\")\n",
    "            break\n",
    "    except (    \n",
    "            json.JSONDecodeError,\n",
    "        ):        \n",
    "        continue\n",
    "    time.sleep(2)\n",
    "    timeout -= 2"
   ]
  },
  {
   "cell_type": "markdown",
   "id": "d639dafa-db71-45a9-963c-4488ef5d08f1",
   "metadata": {},
   "source": [
    "### Check the catalog for agrosu_my_test_collection. Four items should be present now"
   ]
  },
  {
   "cell_type": "code",
   "execution_count": null,
   "id": "a77ea4cc",
   "metadata": {},
   "outputs": [],
   "source": [
    "# Check the catalog for agrosu_my_test_collection\n",
    "result = session.get(f\"{stac_client.href_catalog}/catalog/collections/{TEST_COLLECTION}/items\")\n",
    "catalog_collection = result.json()\n",
    "assert catalog_collection.get(\"type\") == \"FeatureCollection\"\n",
    "assert len(catalog_collection.get(\"features\")) == 5\n",
    "for item in catalog_collection.get(\"features\"):\n",
    "    print(f\"Item {item.get('id')} has {len(item.get('assets'))} assets\")    "
   ]
  },
  {
   "cell_type": "markdown",
   "id": "282842f2-8047-4cde-9d54-2bdb23b09407",
   "metadata": {},
   "source": [
    "### Delete one item from the collection"
   ]
  },
  {
   "cell_type": "code",
   "execution_count": null,
   "id": "3cce330a-5ef8-4b46-b2b3-1d826a51eda4",
   "metadata": {},
   "outputs": [],
   "source": [
    "item_to_delete = \"S1A_20220715090550123456\"\n",
    "result = session.delete(f\"{stac_client.href_catalog}/catalog/collections/{TEST_COLLECTION}/items/{item_to_delete}\")\n",
    "assert result.json()[\"deleted item\"] == \"S1A_20220715090550123456\"\n",
    "pp.pprint(result.json())"
   ]
  },
  {
   "cell_type": "markdown",
   "id": "baef5aa0-9f13-4727-b732-51728e22b5ca",
   "metadata": {},
   "source": [
    "### Delete the whole collection"
   ]
  },
  {
   "cell_type": "code",
   "execution_count": null,
   "id": "7b10b19f-5519-4a3c-a193-395c6e6b6a68",
   "metadata": {},
   "outputs": [],
   "source": [
    "result = session.delete(f\"{stac_client.href_catalog}/catalog/collections/{TEST_COLLECTION}\")\n",
    "assert result.json()[\"deleted collection\"] == TEST_COLLECTION\n",
    "pp.pprint(result.json())"
   ]
  },
  {
   "cell_type": "code",
   "execution_count": null,
   "id": "da3ab83a-a627-4c5b-8e0a-bc7e111b9bc7",
   "metadata": {},
   "outputs": [],
   "source": []
  }
 ],
 "metadata": {
  "kernelspec": {
   "display_name": "Python 3 (ipykernel)",
   "language": "python",
   "name": "python3"
  },
  "language_info": {
   "codemirror_mode": {
    "name": "ipython",
    "version": 3
   },
   "file_extension": ".py",
   "mimetype": "text/x-python",
   "name": "python",
   "nbconvert_exporter": "python",
   "pygments_lexer": "ipython3",
   "version": "3.11"
  }
 },
 "nbformat": 4,
 "nbformat_minor": 5
}

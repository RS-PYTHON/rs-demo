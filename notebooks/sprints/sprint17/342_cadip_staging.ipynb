{
 "cells": [
  {
   "cell_type": "markdown",
   "id": "e3d48a1b",
   "metadata": {},
   "source": [
    "## This demo showcases the implementation of user story 342\n",
    "\n",
    "All initiated jobs for the staging process should be stored in a persistent PostgreSQL database. This ensures that even if the rs-server-staging pod is restarted, users can still check the status of all previously submitted jobs."
   ]
  },
  {
   "cell_type": "code",
   "execution_count": null,
   "id": "513ee19d-3941-404e-8d48-3886f590280c",
   "metadata": {},
   "outputs": [],
   "source": [
    "import requests\n",
    "import os\n",
    "import pprint\n",
    "# Init environment before running a demo notebook.\n",
    "from resources.utils import *\n",
    "\n",
    "def update_href(data, new_href, pos = None):\n",
    "    id = 0\n",
    "    for feature in data.get('features', []):\n",
    "        id += 1\n",
    "        if pos and (id - 1) != pos:\n",
    "            continue\n",
    "        assets = feature.get('assets', {})\n",
    "        for key, asset in assets.items():\n",
    "            if 'href' in asset:\n",
    "                asset['href'] = new_href\n",
    "    return data\n",
    "\n",
    "pp = pprint.PrettyPrinter(indent=2, width=80, sort_dicts=False, compact=True)\n",
    "session = requests.Session()\n",
    "user = os.environ[\"JUPYTERHUB_USER\"] if cluster_mode else os.environ[\"RSPY_HOST_USER\"]\n",
    "auxip_client, cadip_client, stac_client, staging_client = init_demo(owner_id = user)\n",
    "if os.getenv(\"RSPY_LOCAL_MODE\") == \"1\":\n",
    "    href = \"http://rs-server-cadip:8000\"\n",
    "    href_adgs = \"http://rs-server-adgs:8000\"\n",
    "    href_staging = \"http://rs-server-staging:8000\"\n",
    "else:\n",
    "    href = href_adgs = os.environ[\"RSPY_WEBSITE\"]\n",
    "    href_staging = \"https://rsserverstaging.dev-rspy.esa-copernicus.eu\"\n",
    "    session.cookies.set (\"session\", os.environ[\"RSPY_OAUTH2_COOKIE\"])\n",
    "\n",
    "cadip_collection_id = \"cadip\"\n",
    "adgs_collection_id = \"adgs\"\n",
    "TIMEOUT = 10\n"
   ]
  },
  {
   "cell_type": "code",
   "execution_count": null,
   "id": "b752d13b-0316-4f00-9d67-5b702d7b8bdf",
   "metadata": {},
   "outputs": [],
   "source": [
    "# Create a test collection \n",
    "collection = create_test_collection()"
   ]
  },
  {
   "cell_type": "markdown",
   "id": "f2ce641b-98ba-4221-b4e2-12cdd54190b9",
   "metadata": {},
   "source": [
    "### Check the newly created collection with the rs-server-catalog. It should be empty."
   ]
  },
  {
   "cell_type": "code",
   "execution_count": null,
   "id": "1d3f88cc-d31b-4342-ac68-4372b6db1362",
   "metadata": {},
   "outputs": [],
   "source": [
    "# Check the catalog for agrosu_my_test_collection\n",
    "result = session.get(f\"{stac_client.href_catalog}/catalog/collections/{user}:{TEST_COLLECTION}/items\")\n",
    "catalog_collection = result.json()\n",
    "assert catalog_collection.get(\"type\") == \"FeatureCollection\"\n",
    "print(f\"Number of items found in the '{TEST_COLLECTION}' collection: {catalog_collection.get('context').get('returned')}\")"
   ]
  },
  {
   "cell_type": "markdown",
   "id": "f989069a-4d84-450f-99a0-1b0b5f3b9292",
   "metadata": {},
   "source": [
    "### Getting all the sessions from the cadip_s1A collection found in the configuration of CADIP station"
   ]
  },
  {
   "cell_type": "code",
   "execution_count": null,
   "id": "4a176170-7211-4c42-b3de-305d8782874c",
   "metadata": {},
   "outputs": [],
   "source": [
    "result = session.get(f\"{href}/cadip/collections/{cadip_collection_id}/items\")\n",
    "items_collection = result.json()\n",
    "assert items_collection.get(\"type\") == \"FeatureCollection\"\n",
    "assert len(items_collection.get(\"features\")) > 0\n",
    "for item in items_collection.get(\"features\"):\n",
    "    print(f\"Session {item.get('id')} has {len(item.get('assets'))} assets with datetime {item.get('properties').get('datetime')}\")"
   ]
  },
  {
   "cell_type": "markdown",
   "id": "9915607a",
   "metadata": {},
   "source": [
    "### Getting all the assets from the aux_interval collection found in the configuration of ADGS station\n",
    "\n",
    "We will deliberately alter the value of a download link for one of the files, causing the staging process to fail at a certain point."
   ]
  },
  {
   "cell_type": "code",
   "execution_count": null,
   "id": "de1183f3-3861-4838-a6ce-9debf346a666",
   "metadata": {},
   "outputs": [],
   "source": [
    "result = session.get(f\"{href_adgs}/auxip/collections/{adgs_collection_id}/items\")\n",
    "items_collection_adgs = result.json()\n",
    "assert items_collection_adgs.get(\"type\") == \"FeatureCollection\"\n",
    "assert len(items_collection_adgs.get(\"features\")) > 0\n",
    "# alter an asset, expect the staging process to fail afterwards for auxip\n",
    "items_collection_adgs = update_href(items_collection_adgs, 'http://fake-auxip', 2)\n",
    "#pprint.PrettyPrinter(indent=4).pprint(items_collection_adgs)\n",
    "for item in items_collection_adgs.get(\"features\"):\n",
    "    print(f\"AUXIP asset {item.get('id')} has datetime {item.get('properties').get('datetime')}\")"
   ]
  },
  {
   "cell_type": "markdown",
   "id": "5dc62eb9-6ef5-4393-8f0f-2a6067453fc8",
   "metadata": {},
   "source": [
    "### Check the jobs table"
   ]
  },
  {
   "cell_type": "code",
   "execution_count": null,
   "id": "cc3bb600-97eb-4939-aaab-bad886b1c757",
   "metadata": {},
   "outputs": [],
   "source": [
    "import requests\n",
    "post_response = session.get(f\"{href_staging}/jobs\",                               \n",
    "                              timeout = TIMEOUT,)\n",
    "\n",
    "jobs = json.loads(post_response.content)\n",
    "pprint.PrettyPrinter(indent=4).pprint(jobs)\n",
    "if jobs.get(\"numberMatched\") > 0:\n",
    "    delete_jobs = True\n",
    "    if os.getenv(\"RSPY_LOCAL_MODE\") != \"1\":\n",
    "        delete_jobs = input(f\"There are {jobs.get('numberMatched')} jobs in the table. Do you want to delete them all (y/n)?\").lower().strip() == 'y'\n",
    "    if delete_jobs:\n",
    "        print(\"Deleting all the jobs...\")\n",
    "        for job in jobs.get(\"jobs\"):\n",
    "            post_response = session.delete(f\"{href_staging}/jobs/{job.get('identifier')}\",                               \n",
    "                                  timeout = TIMEOUT,)\n",
    "        post_response = session.get(f\"{href_staging}/jobs\",                               \n",
    "                                  timeout = TIMEOUT,)\n",
    "    \n",
    "        jobs = json.loads(post_response.content)\n",
    "        pprint.PrettyPrinter(indent=4).pprint(jobs)"
   ]
  },
  {
   "cell_type": "markdown",
   "id": "10056077-dc68-46e9-868f-329dd37f7be5",
   "metadata": {},
   "source": [
    "### Starting 2 staging processes, one from the CADIP station and one from the ADGS station\n",
    "The staging process from the ADGS station is expected to fail because one of the assets contains an incorrect download link for the file."
   ]
  },
  {
   "cell_type": "code",
   "execution_count": null,
   "id": "565df693-353c-4c08-94e7-be523db62331",
   "metadata": {},
   "outputs": [],
   "source": [
    "for items in [items_collection, items_collection_adgs]:\n",
    "    staging_body = {\n",
    "        \"version\": \"0.2.0\",\n",
    "        \"id\": \"staging\",\n",
    "        \"title\": {\n",
    "            \"en\": \"Staging\"\n",
    "        },\n",
    "        \"description\": {\n",
    "            \"en\": \"A process that takes an external STAC ItemCollection, asynchronously download its assets into the RS catalog bucket and creates the corresponding STAC items in the RS catalog.\"\n",
    "        },\n",
    "        \"jobControlOptions\": [\n",
    "            \"async-execute\"\n",
    "        ],\n",
    "        \"keywords\": [\n",
    "            \"stac\",\n",
    "            \"staging\"\n",
    "        ],\n",
    "        \"links\": [\n",
    "            {\n",
    "                \"type\": \"text/html\",\n",
    "                \"rel\": \"about\",\n",
    "                \"title\": \"documentation\",\n",
    "                \"href\": \"https://home.rs-python.eu/rs-documentation/rs-server/docs/doc/users/functionalities/#staging\",\n",
    "                \"hreflang\": \"en-US\"\n",
    "            }\n",
    "        ],\n",
    "        \"inputs\": {\n",
    "            \"collection\": {\n",
    "                \"title\": \"Target collection\",\n",
    "                \"description\": \"The target collection identifier in the RS catalog\",\n",
    "                \"id\": TEST_COLLECTION,\n",
    "                \"schema\": {\n",
    "                    \"type\": \"string\"\n",
    "                },\n",
    "                \"minOccurs\": 1,\n",
    "                \"maxOccurs\": 1\n",
    "            },\n",
    "            \"items\": items,\n",
    "            \"provider\": \"cadip\"\n",
    "        },\n",
    "        \"outputs\": {\n",
    "            \"result\": {\n",
    "                \"title\": \"Output STAC items\",\n",
    "                \"id\": \"some_output_id\",\n",
    "                \"description\": \"The staged STAC ItemCollection\",\n",
    "                \"schema\": \"false\",\n",
    "                \"minOccurs\": 1,\n",
    "                \"maxOccurs\": 1\n",
    "            }\n",
    "        }\n",
    "    }\n",
    "    \n",
    "    \n",
    "    post_response = session.post(f\"{href_staging}/processes/staging/execution\", \n",
    "                                  json=staging_body,                              \n",
    "                                  timeout = TIMEOUT,)\n",
    "    \n",
    "    resp = json.loads(post_response.content)\n",
    "    pprint.PrettyPrinter(indent=4).pprint(resp)\n",
    "    assert post_response.status_code == 200\n",
    "    if not resp[\"status\"].get(\"started\", None):        \n",
    "        assert False, \"Check the collection\"    \n",
    "    \n",
    "    job_id = resp[\"status\"][\"started\"]\n",
    "    print(f\"\\nThe job_id = {job_id} started\\n\")\n",
    "    \n",
    "    import time\n",
    "    timeout = 120\n",
    "    while timeout > 0:\n",
    "        post_response = requests.get(f\"{href_staging}/jobs/{job_id}\",\n",
    "                                  **apikey_headers,\n",
    "                                  timeout = TIMEOUT,)\n",
    "        try:\n",
    "            resp = json.loads(post_response.content)\n",
    "            pprint.PrettyPrinter(indent=4).pprint(resp)\n",
    "            print(\"\\n\")\n",
    "            if resp[\"status\"] == \"FINISHED\":\n",
    "                print(\"Job COMPLETED\\n\")\n",
    "                break\n",
    "                \n",
    "            if resp[\"status\"] == \"FAILED\":\n",
    "                print(\"Job FAILED\")\n",
    "                break\n",
    "        except (    \n",
    "                json.JSONDecodeError,\n",
    "            ):        \n",
    "            continue\n",
    "        time.sleep(2)\n",
    "        timeout -= 2"
   ]
  },
  {
   "cell_type": "markdown",
   "id": "d639dafa-db71-45a9-963c-4488ef5d08f1",
   "metadata": {},
   "source": [
    "### Check the my_test_collection, it should have five items now"
   ]
  },
  {
   "cell_type": "code",
   "execution_count": null,
   "id": "a77ea4cc",
   "metadata": {},
   "outputs": [],
   "source": [
    "# Check the catalog for agrosu_my_test_collection\n",
    "result = session.get(f\"{stac_client.href_catalog}/catalog/collections/{TEST_COLLECTION}/items\")\n",
    "catalog_collection = result.json()\n",
    "assert catalog_collection.get(\"type\") == \"FeatureCollection\"\n",
    "assert len(catalog_collection.get(\"features\")) == 5\n",
    "for item in catalog_collection.get(\"features\"):\n",
    "    print(f\"Item {item.get('id')} has {len(item.get('assets'))} assets\")    "
   ]
  },
  {
   "cell_type": "markdown",
   "id": "22c15152",
   "metadata": {},
   "source": [
    "### Check the jobs table"
   ]
  },
  {
   "cell_type": "code",
   "execution_count": null,
   "id": "87695ce8",
   "metadata": {},
   "outputs": [],
   "source": [
    "import requests\n",
    "post_response = session.get(f\"{href_staging}/jobs\",                               \n",
    "                              timeout = TIMEOUT,)\n",
    "\n",
    "jobs = json.loads(post_response.content)\n",
    "pprint.PrettyPrinter(indent=4).pprint(jobs)\n",
    "print(\"\\n\\nSummary\")\n",
    "for job in jobs.get(\"jobs\"):    \n",
    "    post_response = session.get(f\"{href_staging}/jobs/{job['identifier']}/results\",\n",
    "                                timeout = TIMEOUT,)\n",
    "    print(f\"{job['identifier']} status is {json.loads(post_response.content)}\")"
   ]
  },
  {
   "cell_type": "markdown",
   "id": "7ffe8458",
   "metadata": {},
   "source": [
    "### Delete the whole collection"
   ]
  },
  {
   "cell_type": "code",
   "execution_count": null,
   "id": "25c93a04",
   "metadata": {},
   "outputs": [],
   "source": [
    "result = session.delete(f\"{stac_client.href_catalog}/catalog/collections/{TEST_COLLECTION}\")\n",
    "assert result.json()[\"deleted collection\"] == TEST_COLLECTION\n",
    "pp.pprint(result.json())"
   ]
  }
 ],
 "metadata": {
  "kernelspec": {
   "display_name": "Python 3 (ipykernel)",
   "language": "python",
   "name": "python3"
  },
  "language_info": {
   "codemirror_mode": {
    "name": "ipython",
    "version": 3
   },
   "file_extension": ".py",
   "mimetype": "text/x-python",
   "name": "python",
   "nbconvert_exporter": "python",
   "pygments_lexer": "ipython3",
   "version": "3.11.6"
  }
 },
 "nbformat": 4,
 "nbformat_minor": 5
}

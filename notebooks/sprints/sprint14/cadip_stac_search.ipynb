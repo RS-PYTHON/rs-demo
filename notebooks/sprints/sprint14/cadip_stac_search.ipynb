{
 "cells": [
  {
   "cell_type": "code",
   "execution_count": null,
   "metadata": {},
   "outputs": [],
   "source": [
    "import requests\n",
    "import os\n",
    "import pprint\n",
    "\n",
    "pp = pprint.PrettyPrinter(indent=2, width=80, sort_dicts=False, compact=True)\n",
    "session = requests.Session()\n",
    "\n",
    "if os.getenv(\"RSPY_LOCAL_MODE\") == \"1\":\n",
    "    href = \"http://rs-server-cadip:8000\"\n",
    "else:\n",
    "    href = os.environ[\"RSPY_WEBSITE\"]\n",
    "    session.cookies.set (\"session\", os.environ[\"RSPY_OAUTH2_COOKIE\"])\n",
    "\n",
    "collection_id = \"cadip\""
   ]
  },
  {
   "cell_type": "markdown",
   "metadata": {},
   "source": [
    "Collections are deployed by operators in k8s cluster. The following endpoints interact with cadip - pickup point /sessions endpoint and return a stac formatted response. /cadip/collections/{collection-id} returns a Collection type response, with links to the sessionsID matching queries defined in the deployed configuration. "
   ]
  },
  {
   "cell_type": "code",
   "execution_count": null,
   "metadata": {},
   "outputs": [],
   "source": [
    "pp.pprint(session.get(f\"{href}/cadip/collections/{collection_id}\").json())"
   ]
  },
  {
   "cell_type": "markdown",
   "metadata": {},
   "source": [
    "/cadip/collections/{collection-id}/items returns a ItemCollection containing informations about the matching sessions."
   ]
  },
  {
   "cell_type": "code",
   "execution_count": null,
   "metadata": {},
   "outputs": [],
   "source": [
    "pp.pprint(session.get(f\"{href}/cadip/collections/{collection_id}/items\").json())"
   ]
  },
  {
   "cell_type": "markdown",
   "metadata": {},
   "source": [
    "/cadip/collections/{collection-id}/items/{session-id} returns a Item response, containing informations about a specific session. Item assets are completly displayed."
   ]
  },
  {
   "cell_type": "code",
   "execution_count": null,
   "metadata": {},
   "outputs": [],
   "source": [
    "pp.pprint(session.get(f\"{href}/cadip/collections/{collection_id}/items/S1A_20200105072204051312\").json())"
   ]
  },
  {
   "cell_type": "markdown",
   "metadata": {},
   "source": [
    "/cadip/search?collection={collection-id} is used to modify or enhance search parameters of an existing defined collection deployed-configuration. In the example below, we've selected cadip_session_by_interval, which defines a time-interval search and then set the platform to 'S2B', therefore creating a more specific search."
   ]
  },
  {
   "cell_type": "code",
   "execution_count": null,
   "metadata": {},
   "outputs": [],
   "source": [
    "pp.pprint(session.get(f\"{href}/cadip/search?collection={collection_id}&platform=S2B\").json())"
   ]
  },
  {
   "cell_type": "markdown",
   "metadata": {},
   "source": [
    "In the example below, the publicationDate of configuration \"cadip_session_by_interval\" is modified."
   ]
  },
  {
   "cell_type": "code",
   "execution_count": null,
   "metadata": {},
   "outputs": [],
   "source": [
    "pp.pprint(session.get(f\"{href}/cadip/search?collection={collection_id}&PublicationDate=2020-03-10T12:00:00Z/2024-01-01T12:00:00Z\").json())"
   ]
  },
  {
   "cell_type": "markdown",
   "metadata": {},
   "source": [
    "Cadip search landing page, contains a link to /collection endpoint."
   ]
  },
  {
   "cell_type": "code",
   "execution_count": null,
   "metadata": {},
   "outputs": [],
   "source": [
    "pp.pprint(session.get(f\"{href}/cadip\").json())"
   ]
  },
  {
   "cell_type": "markdown",
   "metadata": {},
   "source": [
    "Based on the user roles in KeyCloak, the /cadip/collection endpoint performs a search and generates all collections accessible to the user. The rs-server retrieves all roles with cadip_*_read permissions and matches them against the search configuration to provide only the collections the user is allowed to access."
   ]
  },
  {
   "cell_type": "code",
   "execution_count": null,
   "metadata": {},
   "outputs": [],
   "source": [
    "pp.pprint(session.get(f\"{href}/cadip/collections\").json())"
   ]
  },
  {
   "cell_type": "markdown",
   "metadata": {},
   "source": [
    "Endpoint used to generate all cadip search allowed queryables. For now, only SessionId, PublicationDate and Satellite."
   ]
  },
  {
   "cell_type": "code",
   "execution_count": null,
   "metadata": {},
   "outputs": [],
   "source": [
    "pp.pprint(session.get(f\"{href}/cadip/queryables\").json())"
   ]
  },
  {
   "cell_type": "markdown",
   "metadata": {},
   "source": [
    "This endpoint generates the queryables available for a specific collection. If the Satellite query is defined in the CADIP search deployment configuration for the collection, only the PublicationDate and SessionId queryables will be displayed."
   ]
  },
  {
   "cell_type": "code",
   "execution_count": null,
   "metadata": {},
   "outputs": [],
   "source": [
    "pp.pprint(session.get(f\"{href}/cadip/collections/{collection_id}/queryables\").json())"
   ]
  },
  {
   "cell_type": "code",
   "execution_count": null,
   "metadata": {},
   "outputs": [],
   "source": []
  }
 ],
 "metadata": {
  "kernelspec": {
   "display_name": "Python 3 (ipykernel)",
   "language": "python",
   "name": "python3"
  },
  "language_info": {
   "codemirror_mode": {
    "name": "ipython",
    "version": 3
   },
   "file_extension": ".py",
   "mimetype": "text/x-python",
   "name": "python",
   "nbconvert_exporter": "python",
   "pygments_lexer": "ipython3",
   "version": "3.11"
  }
 },
 "nbformat": 4,
 "nbformat_minor": 4
}

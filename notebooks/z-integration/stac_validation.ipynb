{
 "cells": [
  {
   "cell_type": "markdown",
   "id": "37942998-3422-434d-83be-129a60515c17",
   "metadata": {},
   "source": [
    "# STAC validation of auxip, cadip, catalog services"
   ]
  },
  {
   "cell_type": "code",
   "execution_count": null,
   "id": "ad2e058e-39a5-4a87-8ae5-7f2db89f9e94",
   "metadata": {},
   "outputs": [],
   "source": [
    "# Init environment before running a demo notebook.\n",
    "from resources.utils import *\n",
    "init_demo()\n",
    "from resources.utils import * # reload the global vars again"
   ]
  },
  {
   "cell_type": "code",
   "execution_count": null,
   "id": "312db2ce-aafe-460f-828c-eb70f54912e1",
   "metadata": {},
   "outputs": [],
   "source": [
    "print(\"STAC catalog validation\")\n",
    "stac_client.validate_all()"
   ]
  },
  {
   "cell_type": "code",
   "execution_count": null,
   "id": "96ce02c0-cbe2-4976-8297-2fdc1eacbf94",
   "metadata": {},
   "outputs": [],
   "source": [
    "# Before https://pforge-exchange2.astrium.eads.net/jira/browse/RSPY-404 is implemented, \n",
    "# use some hack code to validate the auxip and cadip STAC collections\n",
    "\n",
    "# Same as in rs-client-libraries/rs_client/stac_client.py\n",
    "\n",
    "import sys\n",
    "from pystac_client import Client\n",
    "from pystac_client.stac_api_io import StacApiIO\n",
    "\n",
    "stac_io = None\n",
    "\n",
    "# In cluster mode, save the OAuth2 authentication cookie in the pystac client cookies\n",
    "if not local_mode:\n",
    "    rs_server_oauth2_cookie = os.environ[\"RSPY_OAUTH2_COOKIE\"]\n",
    "    stac_io = StacApiIO() # This is what is done in pystac_client/client.py::from_file\n",
    "    stac_io.session.cookies.set(\"session\", rs_server_oauth2_cookie)"
   ]
  },
  {
   "cell_type": "code",
   "execution_count": null,
   "id": "9e55dd5c-fe62-45f0-858a-0ae8cfc7aa4c",
   "metadata": {},
   "outputs": [],
   "source": [
    "print(\"STAC auxip validation\")\n",
    "stac_auxip_client: Client = Client.open(auxip_client.href_adgs + \"/auxip/\", stac_io=stac_io)\n",
    "stac_auxip_client.validate_all()"
   ]
  },
  {
   "cell_type": "code",
   "execution_count": null,
   "id": "8cc13771-82f8-4840-9481-5a049fb747df",
   "metadata": {},
   "outputs": [],
   "source": [
    "print(\"STAC cadip validation\")\n",
    "stac_cadip_client: Client = Client.open(cadip_client.href_cadip + \"/cadip/\", stac_io=stac_io)\n",
    "stac_cadip_client.validate_all()"
   ]
  },
  {
   "cell_type": "code",
   "execution_count": null,
   "id": "65441230-88bb-4760-873a-37ced8eb83ff",
   "metadata": {},
   "outputs": [],
   "source": []
  }
 ],
 "metadata": {
  "kernelspec": {
   "display_name": "Python 3 (ipykernel)",
   "language": "python",
   "name": "python3"
  },
  "language_info": {
   "codemirror_mode": {
    "name": "ipython",
    "version": 3
   },
   "file_extension": ".py",
   "mimetype": "text/x-python",
   "name": "python",
   "nbconvert_exporter": "python",
   "pygments_lexer": "ipython3",
   "version": "3.11"
  }
 },
 "nbformat": 4,
 "nbformat_minor": 5
}

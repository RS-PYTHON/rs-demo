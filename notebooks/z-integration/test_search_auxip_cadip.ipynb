{
 "cells": [
  {
   "cell_type": "markdown",
   "id": "dca37ce2-b9cf-4f3e-8ad0-c83f6c0fc975",
   "metadata": {},
   "source": [
    "## Test the /search endpoints for auxip and cadip"
   ]
  },
  {
   "cell_type": "code",
   "execution_count": 4,
   "id": "70d1cb06-a7b6-40f9-b9f6-1ae0bf1025ff",
   "metadata": {},
   "outputs": [
    {
     "name": "stdout",
     "output_type": "stream",
     "text": [
      "Auxip service: http://rs-server-adgs:8000\n",
      "CADIP service: http://rs-server-cadip:8000\n",
      "Catalog service: http://rs-server-catalog:8000\n"
     ]
    }
   ],
   "source": [
    "# Init environment before running a demo notebook.\n",
    "from resources.utils import *\n",
    "init_demo()\n",
    "from resources.utils import * # reload the global vars again"
   ]
  },
  {
   "cell_type": "code",
   "execution_count": 5,
   "id": "2cc00c73",
   "metadata": {},
   "outputs": [
    {
     "name": "stdout",
     "output_type": "stream",
     "text": [
      "Requirement already satisfied: iso8601 in /opt/conda/lib/python3.11/site-packages (2.1.0)\n",
      "Requirement already satisfied: rfc3339 in /opt/conda/lib/python3.11/site-packages (6.2)\n"
     ]
    }
   ],
   "source": [
    "\n",
    "import itertools\n",
    "import json\n",
    "import sys\n",
    "from dataclasses import dataclass\n",
    "from datetime import timedelta\n",
    "from urllib.parse import unquote\n",
    "\n",
    "!pip install iso8601 rfc3339\n",
    "import iso8601\n",
    "import rfc3339"
   ]
  },
  {
   "cell_type": "code",
   "execution_count": 6,
   "id": "9b848f35",
   "metadata": {},
   "outputs": [],
   "source": [
    "@dataclass\n",
    "class Error:\n",
    "    \"\"\"Errors in this tests.\"\"\"\n",
    "\n",
    "    endpoint: str\n",
    "    params: dict\n",
    "    messages: list[str]\n",
    "\n",
    "    def __repr__(self):\n",
    "        sep = \"\\n  - \"\n",
    "        return (\n",
    "            f\"\\nPOST {self.endpoint!r}\\n{json.dumps(self.params, indent=2)}\\n\"\n",
    "            f\"Error(s):{sep}{sep.join(self.messages)}\\n\"\n",
    "        )\n",
    "    \n",
    "errors: list[Error] = []\n",
    "\n",
    "def save_error(*args) -> None:\n",
    "    \"\"\"Print and save an error\"\"\"\n",
    "    error = Error(*args)\n",
    "    print(error, file=sys.stderr)\n",
    "    errors.append(error)\n"
   ]
  },
  {
   "cell_type": "code",
   "execution_count": 7,
   "id": "1b5517e9",
   "metadata": {},
   "outputs": [],
   "source": [
    "# Collections to search. If None: search all collections.\n",
    "adgs_collections = None  #[\"adgs\", \"adgs2\"]\n",
    "cadip_collections = None\n",
    "collections = None\n",
    "\n",
    "def search_and_check(endpoint, in_feature=None, search_properties=[], pagination={}):\n",
    "    \"\"\"Call the /search endpoint, check the results, return features.\"\"\"\n",
    "\n",
    "    # Build the query parameters\n",
    "    params = {\"query\": {}}\n",
    "    if collections:\n",
    "        params[\"collections\"] = collections\n",
    "    for property in search_properties:\n",
    "        in_value = in_feature.get(property) or in_feature[\"properties\"].get(property)\n",
    "\n",
    "        if property == \"id\":\n",
    "            params[\"ids\"] = [in_value]\n",
    "\n",
    "        # Date interval start and stop use the input feature date.\n",
    "        # We need to remove 1 second from the start, and add 1 to the stop.\n",
    "        elif property == \"datetime\":\n",
    "            dt = iso8601.parse_date(in_value)\n",
    "            start = rfc3339.rfc3339(dt + timedelta(seconds=-1))\n",
    "            stop = rfc3339.rfc3339(dt + timedelta(seconds=1))\n",
    "            params[property] = f\"{start}/{stop}\".replace(\"+00:00\", \"Z\")\n",
    "\n",
    "        # query parameters\n",
    "        else:\n",
    "            params[\"query\"][property] = {\"eq\": in_value}\n",
    "\n",
    "    # Add pagination\n",
    "    for property, value in pagination.items():\n",
    "        params[property] = value\n",
    "\n",
    "    print(f\"Call POST {endpoint!r} with params: {list(search_properties) + list(pagination.keys())}\")\n",
    "\n",
    "    # Call the search endpoint, read the returned features\n",
    "    response = http_session.post(endpoint, json=params)\n",
    "\n",
    "    if response.status_code != 200:\n",
    "        save_error(endpoint, params, [f\"Status code: {response.status_code}\\n{unquote(response.content)}\"])\n",
    "        return\n",
    "\n",
    "    ret_features = response.json()[\"features\"]\n",
    "    if not ret_features:\n",
    "        save_error(endpoint, params, [f\"No features returned\"])\n",
    "        return\n",
    "\n",
    "    # Check that each returned feature property on which we filtered,\n",
    "    # has the same value than in the input feature.\n",
    "    messages: list[str] = []\n",
    "    for property in search_properties:\n",
    "        for ret_feature in ret_features:\n",
    "            in_value = in_feature.get(property) or in_feature[\"properties\"].get(property)\n",
    "            ret_value = ret_feature.get(property) or ret_feature[\"properties\"].get(property)\n",
    "\n",
    "            if in_value != ret_value:\n",
    "                messages.append(f\"Wrong {property}: {ret_value!r}, expected: {in_value!r}\")\n",
    "                break  # only print error for first wrong feature\n",
    "\n",
    "    if messages:\n",
    "        save_error(endpoint, params, messages)\n",
    "    return ret_features"
   ]
  },
  {
   "cell_type": "code",
   "execution_count": 8,
   "id": "fa01e358-0cd9-4605-afa5-f211a0df13d4",
   "metadata": {},
   "outputs": [
    {
     "name": "stdout",
     "output_type": "stream",
     "text": [
      "Call POST 'http://rs-server-adgs:8000/auxip/search' with params: ['limit']\n",
      "Call POST 'http://rs-server-adgs:8000/auxip/search' with params: ['id']\n",
      "Call POST 'http://rs-server-adgs:8000/auxip/search' with params: ['datetime']\n",
      "Call POST 'http://rs-server-adgs:8000/auxip/search' with params: ['platform']\n"
     ]
    },
    {
     "name": "stderr",
     "output_type": "stream",
     "text": [
      "\n",
      "POST 'http://rs-server-adgs:8000/auxip/search'\n",
      "{\n",
      "  \"query\": {\n",
      "    \"platform\": {\n",
      "      \"eq\": \"sentinel-1a\"\n",
      "    }\n",
      "  }\n",
      "}\n",
      "Error(s):\n",
      "  - Status code: 503\n",
      "{\"detail\":\"General failure: ('Skipping error while searching for adgs ODataV4Search instance', \\\"400 Client Error: BAD REQUEST for url: http://adgs-station:5000/Products?$filter=Attributes/OData.CSC.StringAttribute/any(att:att/Name eq 'productType' and att/OData.CSC.StringAttribute/Value eq 'AUX_PP2') and Attributes/OData.CSC.StringAttribute/any(att:att/Name eq 'platformSerialIdentifier' and att/OData.CSC.StringAttribute/Value eq 'A') and Attributes/OData.CSC.StringAttribute/any(att:att/Name eq 'platformShortName' and att/OData.CSC.StringAttribute/Value eq 'sentinel-1')&$orderby=PublicationDate desc&$top=10000&$skip=0&$expand=Attributes\\\")\"}\n",
      "\n"
     ]
    },
    {
     "name": "stdout",
     "output_type": "stream",
     "text": [
      "Call POST 'http://rs-server-adgs:8000/auxip/search' with params: ['constellation']\n"
     ]
    },
    {
     "name": "stderr",
     "output_type": "stream",
     "text": [
      "\n",
      "POST 'http://rs-server-adgs:8000/auxip/search'\n",
      "{\n",
      "  \"query\": {\n",
      "    \"constellation\": {\n",
      "      \"eq\": \"sentinel-1\"\n",
      "    }\n",
      "  }\n",
      "}\n",
      "Error(s):\n",
      "  - Status code: 503\n",
      "{\"detail\":\"General failure: ('Skipping error while searching for adgs ODataV4Search instance', \\\"400 Client Error: BAD REQUEST for url: http://adgs-station:5000/Products?$filter=Attributes/OData.CSC.StringAttribute/any(att:att/Name eq 'productType' and att/OData.CSC.StringAttribute/Value eq 'AUX_PP2') and Attributes/OData.CSC.StringAttribute/any(att:att/Name eq 'platformShortName' and att/OData.CSC.StringAttribute/Value eq 'sentinel-1')&$orderby=PublicationDate desc&$top=10000&$skip=0&$expand=Attributes\\\")\"}\n",
      "\n"
     ]
    },
    {
     "name": "stdout",
     "output_type": "stream",
     "text": [
      "Call POST 'http://rs-server-adgs:8000/auxip/search' with params: ['product:type']\n"
     ]
    },
    {
     "name": "stderr",
     "output_type": "stream",
     "text": [
      "\n",
      "POST 'http://rs-server-adgs:8000/auxip/search'\n",
      "{\n",
      "  \"query\": {\n",
      "    \"product:type\": {\n",
      "      \"eq\": \"OPER_MPL_ORBSCT\"\n",
      "    }\n",
      "  }\n",
      "}\n",
      "Error(s):\n",
      "  - Wrong product:type: 'AUX_PP2', expected: 'OPER_MPL_ORBSCT'\n",
      "\n"
     ]
    },
    {
     "name": "stdout",
     "output_type": "stream",
     "text": [
      "Call POST 'http://rs-server-adgs:8000/auxip/search' with params: ['id', 'datetime']\n",
      "Call POST 'http://rs-server-adgs:8000/auxip/search' with params: ['id', 'platform']\n"
     ]
    },
    {
     "name": "stderr",
     "output_type": "stream",
     "text": [
      "\n",
      "POST 'http://rs-server-adgs:8000/auxip/search'\n",
      "{\n",
      "  \"query\": {\n",
      "    \"platform\": {\n",
      "      \"eq\": \"sentinel-1a\"\n",
      "    }\n",
      "  },\n",
      "  \"ids\": [\n",
      "    \"S1A_OPER_MPL_ORBSCT_20240514T150704_99999999T999999_0025.EOF\"\n",
      "  ]\n",
      "}\n",
      "Error(s):\n",
      "  - Status code: 503\n",
      "{\"detail\":\"General failure: ('Skipping error while searching for adgs ODataV4Search instance', \\\"500 Server Error: INTERNAL SERVER ERROR for url: http://adgs-station:5000/Products?$filter=contains(Name, 'S1A_OPER_MPL_ORBSCT_20240514T150704_99999999T999999_0025.EOF') and Attributes/OData.CSC.StringAttribute/any(att:att/Name eq 'productType' and att/OData.CSC.StringAttribute/Value eq 'AUX_PP2') and Attributes/OData.CSC.StringAttribute/any(att:att/Name eq 'platformSerialIdentifier' and att/OData.CSC.StringAttribute/Value eq 'A') and Attributes/OData.CSC.StringAttribute/any(att:att/Name eq 'platformShortName' and att/OData.CSC.StringAttribute/Value eq 'sentinel-1')&$orderby=PublicationDate desc&$top=10000&$skip=0&$expand=Attributes\\\")\"}\n",
      "\n"
     ]
    },
    {
     "name": "stdout",
     "output_type": "stream",
     "text": [
      "Call POST 'http://rs-server-adgs:8000/auxip/search' with params: ['id', 'constellation']\n"
     ]
    },
    {
     "name": "stderr",
     "output_type": "stream",
     "text": [
      "\n",
      "POST 'http://rs-server-adgs:8000/auxip/search'\n",
      "{\n",
      "  \"query\": {\n",
      "    \"constellation\": {\n",
      "      \"eq\": \"sentinel-1\"\n",
      "    }\n",
      "  },\n",
      "  \"ids\": [\n",
      "    \"S1A_OPER_MPL_ORBSCT_20240514T150704_99999999T999999_0025.EOF\"\n",
      "  ]\n",
      "}\n",
      "Error(s):\n",
      "  - Status code: 503\n",
      "{\"detail\":\"General failure: ('Skipping error while searching for adgs ODataV4Search instance', \\\"500 Server Error: INTERNAL SERVER ERROR for url: http://adgs-station:5000/Products?$filter=contains(Name, 'S1A_OPER_MPL_ORBSCT_20240514T150704_99999999T999999_0025.EOF') and Attributes/OData.CSC.StringAttribute/any(att:att/Name eq 'productType' and att/OData.CSC.StringAttribute/Value eq 'AUX_PP2') and Attributes/OData.CSC.StringAttribute/any(att:att/Name eq 'platformShortName' and att/OData.CSC.StringAttribute/Value eq 'sentinel-1')&$orderby=PublicationDate desc&$top=10000&$skip=0&$expand=Attributes\\\")\"}\n",
      "\n"
     ]
    },
    {
     "name": "stdout",
     "output_type": "stream",
     "text": [
      "Call POST 'http://rs-server-adgs:8000/auxip/search' with params: ['id', 'product:type']\n",
      "Call POST 'http://rs-server-adgs:8000/auxip/search' with params: ['datetime', 'platform']\n"
     ]
    },
    {
     "name": "stderr",
     "output_type": "stream",
     "text": [
      "\n",
      "POST 'http://rs-server-adgs:8000/auxip/search'\n",
      "{\n",
      "  \"query\": {\n",
      "    \"platform\": {\n",
      "      \"eq\": \"sentinel-1a\"\n",
      "    }\n",
      "  },\n",
      "  \"datetime\": \"2024-05-13T23:59:59Z/2024-05-14T00:00:01Z\"\n",
      "}\n",
      "Error(s):\n",
      "  - Status code: 503\n",
      "{\"detail\":\"General failure: ('Skipping error while searching for adgs ODataV4Search instance', \\\"500 Server Error: INTERNAL SERVER ERROR for url: http://adgs-station:5000/Products?$filter=PublicationDate gt 2024-05-13T23:59:59.000Z and PublicationDate lt 2024-05-14T00:00:01.000Z and Attributes/OData.CSC.StringAttribute/any(att:att/Name eq 'productType' and att/OData.CSC.StringAttribute/Value eq 'AUX_PP2') and Attributes/OData.CSC.StringAttribute/any(att:att/Name eq 'platformSerialIdentifier' and att/OData.CSC.StringAttribute/Value eq 'A') and Attributes/OData.CSC.StringAttribute/any(att:att/Name eq 'platformShortName' and att/OData.CSC.StringAttribute/Value eq 'sentinel-1')&$orderby=PublicationDate desc&$top=10000&$skip=0&$expand=Attributes\\\")\"}\n",
      "\n"
     ]
    },
    {
     "name": "stdout",
     "output_type": "stream",
     "text": [
      "Call POST 'http://rs-server-adgs:8000/auxip/search' with params: ['datetime', 'constellation']\n"
     ]
    },
    {
     "name": "stderr",
     "output_type": "stream",
     "text": [
      "\n",
      "POST 'http://rs-server-adgs:8000/auxip/search'\n",
      "{\n",
      "  \"query\": {\n",
      "    \"constellation\": {\n",
      "      \"eq\": \"sentinel-1\"\n",
      "    }\n",
      "  },\n",
      "  \"datetime\": \"2024-05-13T23:59:59Z/2024-05-14T00:00:01Z\"\n",
      "}\n",
      "Error(s):\n",
      "  - Status code: 503\n",
      "{\"detail\":\"General failure: ('Skipping error while searching for adgs ODataV4Search instance', \\\"500 Server Error: INTERNAL SERVER ERROR for url: http://adgs-station:5000/Products?$filter=PublicationDate gt 2024-05-13T23:59:59.000Z and PublicationDate lt 2024-05-14T00:00:01.000Z and Attributes/OData.CSC.StringAttribute/any(att:att/Name eq 'productType' and att/OData.CSC.StringAttribute/Value eq 'AUX_PP2') and Attributes/OData.CSC.StringAttribute/any(att:att/Name eq 'platformShortName' and att/OData.CSC.StringAttribute/Value eq 'sentinel-1')&$orderby=PublicationDate desc&$top=10000&$skip=0&$expand=Attributes\\\")\"}\n",
      "\n"
     ]
    },
    {
     "name": "stdout",
     "output_type": "stream",
     "text": [
      "Call POST 'http://rs-server-adgs:8000/auxip/search' with params: ['datetime', 'product:type']\n",
      "Call POST 'http://rs-server-adgs:8000/auxip/search' with params: ['platform', 'constellation']\n"
     ]
    },
    {
     "name": "stderr",
     "output_type": "stream",
     "text": [
      "\n",
      "POST 'http://rs-server-adgs:8000/auxip/search'\n",
      "{\n",
      "  \"query\": {\n",
      "    \"platform\": {\n",
      "      \"eq\": \"sentinel-1a\"\n",
      "    },\n",
      "    \"constellation\": {\n",
      "      \"eq\": \"sentinel-1\"\n",
      "    }\n",
      "  }\n",
      "}\n",
      "Error(s):\n",
      "  - Status code: 503\n",
      "{\"detail\":\"General failure: ('Skipping error while searching for adgs ODataV4Search instance', \\\"400 Client Error: BAD REQUEST for url: http://adgs-station:5000/Products?$filter=Attributes/OData.CSC.StringAttribute/any(att:att/Name eq 'productType' and att/OData.CSC.StringAttribute/Value eq 'AUX_PP2') and Attributes/OData.CSC.StringAttribute/any(att:att/Name eq 'platformShortName' and att/OData.CSC.StringAttribute/Value eq 'sentinel-1')&$orderby=PublicationDate desc&$top=10000&$skip=0&$expand=Attributes\\\")\"}\n",
      "\n"
     ]
    },
    {
     "name": "stdout",
     "output_type": "stream",
     "text": [
      "Call POST 'http://rs-server-adgs:8000/auxip/search' with params: ['platform', 'product:type']\n"
     ]
    },
    {
     "name": "stderr",
     "output_type": "stream",
     "text": [
      "\n",
      "POST 'http://rs-server-adgs:8000/auxip/search'\n",
      "{\n",
      "  \"query\": {\n",
      "    \"platform\": {\n",
      "      \"eq\": \"sentinel-1a\"\n",
      "    },\n",
      "    \"product:type\": {\n",
      "      \"eq\": \"OPER_MPL_ORBSCT\"\n",
      "    }\n",
      "  }\n",
      "}\n",
      "Error(s):\n",
      "  - Status code: 503\n",
      "{\"detail\":\"General failure: ('Skipping error while searching for adgs ODataV4Search instance', \\\"400 Client Error: BAD REQUEST for url: http://adgs-station:5000/Products?$filter=Attributes/OData.CSC.StringAttribute/any(att:att/Name eq 'productType' and att/OData.CSC.StringAttribute/Value eq 'AUX_PP2') and Attributes/OData.CSC.StringAttribute/any(att:att/Name eq 'platformSerialIdentifier' and att/OData.CSC.StringAttribute/Value eq 'A') and Attributes/OData.CSC.StringAttribute/any(att:att/Name eq 'platformShortName' and att/OData.CSC.StringAttribute/Value eq 'sentinel-1')&$orderby=PublicationDate desc&$top=10000&$skip=0&$expand=Attributes\\\")\"}\n",
      "\n"
     ]
    },
    {
     "name": "stdout",
     "output_type": "stream",
     "text": [
      "Call POST 'http://rs-server-adgs:8000/auxip/search' with params: ['constellation', 'product:type']\n"
     ]
    },
    {
     "name": "stderr",
     "output_type": "stream",
     "text": [
      "\n",
      "POST 'http://rs-server-adgs:8000/auxip/search'\n",
      "{\n",
      "  \"query\": {\n",
      "    \"constellation\": {\n",
      "      \"eq\": \"sentinel-1\"\n",
      "    },\n",
      "    \"product:type\": {\n",
      "      \"eq\": \"OPER_MPL_ORBSCT\"\n",
      "    }\n",
      "  }\n",
      "}\n",
      "Error(s):\n",
      "  - Status code: 503\n",
      "{\"detail\":\"General failure: ('Skipping error while searching for adgs ODataV4Search instance', \\\"400 Client Error: BAD REQUEST for url: http://adgs-station:5000/Products?$filter=Attributes/OData.CSC.StringAttribute/any(att:att/Name eq 'productType' and att/OData.CSC.StringAttribute/Value eq 'AUX_PP2') and Attributes/OData.CSC.StringAttribute/any(att:att/Name eq 'platformShortName' and att/OData.CSC.StringAttribute/Value eq 'sentinel-1')&$orderby=PublicationDate desc&$top=10000&$skip=0&$expand=Attributes\\\")\"}\n",
      "\n"
     ]
    },
    {
     "name": "stdout",
     "output_type": "stream",
     "text": [
      "Call POST 'http://rs-server-adgs:8000/auxip/search' with params: ['id', 'datetime', 'platform']\n",
      "Call POST 'http://rs-server-adgs:8000/auxip/search' with params: ['id', 'datetime', 'constellation']\n",
      "Call POST 'http://rs-server-adgs:8000/auxip/search' with params: ['id', 'datetime', 'product:type']\n",
      "Call POST 'http://rs-server-adgs:8000/auxip/search' with params: ['id', 'platform', 'constellation']\n"
     ]
    },
    {
     "name": "stderr",
     "output_type": "stream",
     "text": [
      "\n",
      "POST 'http://rs-server-adgs:8000/auxip/search'\n",
      "{\n",
      "  \"query\": {\n",
      "    \"platform\": {\n",
      "      \"eq\": \"sentinel-1a\"\n",
      "    },\n",
      "    \"constellation\": {\n",
      "      \"eq\": \"sentinel-1\"\n",
      "    }\n",
      "  },\n",
      "  \"ids\": [\n",
      "    \"S1A_OPER_MPL_ORBSCT_20240514T150704_99999999T999999_0025.EOF\"\n",
      "  ]\n",
      "}\n",
      "Error(s):\n",
      "  - Status code: 503\n",
      "{\"detail\":\"General failure: ('Skipping error while searching for adgs ODataV4Search instance', \\\"500 Server Error: INTERNAL SERVER ERROR for url: http://adgs-station:5000/Products?$filter=contains(Name, 'S1A_OPER_MPL_ORBSCT_20240514T150704_99999999T999999_0025.EOF') and Attributes/OData.CSC.StringAttribute/any(att:att/Name eq 'productType' and att/OData.CSC.StringAttribute/Value eq 'AUX_PP2') and Attributes/OData.CSC.StringAttribute/any(att:att/Name eq 'platformShortName' and att/OData.CSC.StringAttribute/Value eq 'sentinel-1')&$orderby=PublicationDate desc&$top=10000&$skip=0&$expand=Attributes\\\")\"}\n",
      "\n"
     ]
    },
    {
     "name": "stdout",
     "output_type": "stream",
     "text": [
      "Call POST 'http://rs-server-adgs:8000/auxip/search' with params: ['id', 'platform', 'product:type']\n"
     ]
    },
    {
     "name": "stderr",
     "output_type": "stream",
     "text": [
      "\n",
      "POST 'http://rs-server-adgs:8000/auxip/search'\n",
      "{\n",
      "  \"query\": {\n",
      "    \"platform\": {\n",
      "      \"eq\": \"sentinel-1a\"\n",
      "    },\n",
      "    \"product:type\": {\n",
      "      \"eq\": \"OPER_MPL_ORBSCT\"\n",
      "    }\n",
      "  },\n",
      "  \"ids\": [\n",
      "    \"S1A_OPER_MPL_ORBSCT_20240514T150704_99999999T999999_0025.EOF\"\n",
      "  ]\n",
      "}\n",
      "Error(s):\n",
      "  - Status code: 503\n",
      "{\"detail\":\"General failure: ('Skipping error while searching for adgs ODataV4Search instance', \\\"500 Server Error: INTERNAL SERVER ERROR for url: http://adgs-station:5000/Products?$filter=contains(Name, 'S1A_OPER_MPL_ORBSCT_20240514T150704_99999999T999999_0025.EOF') and Attributes/OData.CSC.StringAttribute/any(att:att/Name eq 'productType' and att/OData.CSC.StringAttribute/Value eq 'AUX_PP2') and Attributes/OData.CSC.StringAttribute/any(att:att/Name eq 'platformSerialIdentifier' and att/OData.CSC.StringAttribute/Value eq 'A') and Attributes/OData.CSC.StringAttribute/any(att:att/Name eq 'platformShortName' and att/OData.CSC.StringAttribute/Value eq 'sentinel-1')&$orderby=PublicationDate desc&$top=10000&$skip=0&$expand=Attributes\\\")\"}\n",
      "\n"
     ]
    },
    {
     "name": "stdout",
     "output_type": "stream",
     "text": [
      "Call POST 'http://rs-server-adgs:8000/auxip/search' with params: ['id', 'constellation', 'product:type']\n"
     ]
    },
    {
     "name": "stderr",
     "output_type": "stream",
     "text": [
      "\n",
      "POST 'http://rs-server-adgs:8000/auxip/search'\n",
      "{\n",
      "  \"query\": {\n",
      "    \"constellation\": {\n",
      "      \"eq\": \"sentinel-1\"\n",
      "    },\n",
      "    \"product:type\": {\n",
      "      \"eq\": \"OPER_MPL_ORBSCT\"\n",
      "    }\n",
      "  },\n",
      "  \"ids\": [\n",
      "    \"S1A_OPER_MPL_ORBSCT_20240514T150704_99999999T999999_0025.EOF\"\n",
      "  ]\n",
      "}\n",
      "Error(s):\n",
      "  - Status code: 503\n",
      "{\"detail\":\"General failure: ('Skipping error while searching for adgs ODataV4Search instance', \\\"500 Server Error: INTERNAL SERVER ERROR for url: http://adgs-station:5000/Products?$filter=contains(Name, 'S1A_OPER_MPL_ORBSCT_20240514T150704_99999999T999999_0025.EOF') and Attributes/OData.CSC.StringAttribute/any(att:att/Name eq 'productType' and att/OData.CSC.StringAttribute/Value eq 'AUX_PP2') and Attributes/OData.CSC.StringAttribute/any(att:att/Name eq 'platformShortName' and att/OData.CSC.StringAttribute/Value eq 'sentinel-1')&$orderby=PublicationDate desc&$top=10000&$skip=0&$expand=Attributes\\\")\"}\n",
      "\n"
     ]
    },
    {
     "name": "stdout",
     "output_type": "stream",
     "text": [
      "Call POST 'http://rs-server-adgs:8000/auxip/search' with params: ['datetime', 'platform', 'constellation']\n"
     ]
    },
    {
     "name": "stderr",
     "output_type": "stream",
     "text": [
      "\n",
      "POST 'http://rs-server-adgs:8000/auxip/search'\n",
      "{\n",
      "  \"query\": {\n",
      "    \"platform\": {\n",
      "      \"eq\": \"sentinel-1a\"\n",
      "    },\n",
      "    \"constellation\": {\n",
      "      \"eq\": \"sentinel-1\"\n",
      "    }\n",
      "  },\n",
      "  \"datetime\": \"2024-05-13T23:59:59Z/2024-05-14T00:00:01Z\"\n",
      "}\n",
      "Error(s):\n",
      "  - Status code: 503\n",
      "{\"detail\":\"General failure: ('Skipping error while searching for adgs ODataV4Search instance', \\\"500 Server Error: INTERNAL SERVER ERROR for url: http://adgs-station:5000/Products?$filter=PublicationDate gt 2024-05-13T23:59:59.000Z and PublicationDate lt 2024-05-14T00:00:01.000Z and Attributes/OData.CSC.StringAttribute/any(att:att/Name eq 'productType' and att/OData.CSC.StringAttribute/Value eq 'AUX_PP2') and Attributes/OData.CSC.StringAttribute/any(att:att/Name eq 'platformShortName' and att/OData.CSC.StringAttribute/Value eq 'sentinel-1')&$orderby=PublicationDate desc&$top=10000&$skip=0&$expand=Attributes\\\")\"}\n",
      "\n"
     ]
    },
    {
     "name": "stdout",
     "output_type": "stream",
     "text": [
      "Call POST 'http://rs-server-adgs:8000/auxip/search' with params: ['datetime', 'platform', 'product:type']\n"
     ]
    },
    {
     "name": "stderr",
     "output_type": "stream",
     "text": [
      "\n",
      "POST 'http://rs-server-adgs:8000/auxip/search'\n",
      "{\n",
      "  \"query\": {\n",
      "    \"platform\": {\n",
      "      \"eq\": \"sentinel-1a\"\n",
      "    },\n",
      "    \"product:type\": {\n",
      "      \"eq\": \"OPER_MPL_ORBSCT\"\n",
      "    }\n",
      "  },\n",
      "  \"datetime\": \"2024-05-13T23:59:59Z/2024-05-14T00:00:01Z\"\n",
      "}\n",
      "Error(s):\n",
      "  - Status code: 503\n",
      "{\"detail\":\"General failure: ('Skipping error while searching for adgs ODataV4Search instance', \\\"500 Server Error: INTERNAL SERVER ERROR for url: http://adgs-station:5000/Products?$filter=PublicationDate gt 2024-05-13T23:59:59.000Z and PublicationDate lt 2024-05-14T00:00:01.000Z and Attributes/OData.CSC.StringAttribute/any(att:att/Name eq 'productType' and att/OData.CSC.StringAttribute/Value eq 'AUX_PP2') and Attributes/OData.CSC.StringAttribute/any(att:att/Name eq 'platformSerialIdentifier' and att/OData.CSC.StringAttribute/Value eq 'A') and Attributes/OData.CSC.StringAttribute/any(att:att/Name eq 'platformShortName' and att/OData.CSC.StringAttribute/Value eq 'sentinel-1')&$orderby=PublicationDate desc&$top=10000&$skip=0&$expand=Attributes\\\")\"}\n",
      "\n"
     ]
    },
    {
     "name": "stdout",
     "output_type": "stream",
     "text": [
      "Call POST 'http://rs-server-adgs:8000/auxip/search' with params: ['datetime', 'constellation', 'product:type']\n"
     ]
    },
    {
     "name": "stderr",
     "output_type": "stream",
     "text": [
      "\n",
      "POST 'http://rs-server-adgs:8000/auxip/search'\n",
      "{\n",
      "  \"query\": {\n",
      "    \"constellation\": {\n",
      "      \"eq\": \"sentinel-1\"\n",
      "    },\n",
      "    \"product:type\": {\n",
      "      \"eq\": \"OPER_MPL_ORBSCT\"\n",
      "    }\n",
      "  },\n",
      "  \"datetime\": \"2024-05-13T23:59:59Z/2024-05-14T00:00:01Z\"\n",
      "}\n",
      "Error(s):\n",
      "  - Status code: 503\n",
      "{\"detail\":\"General failure: ('Skipping error while searching for adgs ODataV4Search instance', \\\"500 Server Error: INTERNAL SERVER ERROR for url: http://adgs-station:5000/Products?$filter=PublicationDate gt 2024-05-13T23:59:59.000Z and PublicationDate lt 2024-05-14T00:00:01.000Z and Attributes/OData.CSC.StringAttribute/any(att:att/Name eq 'productType' and att/OData.CSC.StringAttribute/Value eq 'AUX_PP2') and Attributes/OData.CSC.StringAttribute/any(att:att/Name eq 'platformShortName' and att/OData.CSC.StringAttribute/Value eq 'sentinel-1')&$orderby=PublicationDate desc&$top=10000&$skip=0&$expand=Attributes\\\")\"}\n",
      "\n"
     ]
    },
    {
     "name": "stdout",
     "output_type": "stream",
     "text": [
      "Call POST 'http://rs-server-adgs:8000/auxip/search' with params: ['platform', 'constellation', 'product:type']\n"
     ]
    },
    {
     "name": "stderr",
     "output_type": "stream",
     "text": [
      "\n",
      "POST 'http://rs-server-adgs:8000/auxip/search'\n",
      "{\n",
      "  \"query\": {\n",
      "    \"platform\": {\n",
      "      \"eq\": \"sentinel-1a\"\n",
      "    },\n",
      "    \"constellation\": {\n",
      "      \"eq\": \"sentinel-1\"\n",
      "    },\n",
      "    \"product:type\": {\n",
      "      \"eq\": \"OPER_MPL_ORBSCT\"\n",
      "    }\n",
      "  }\n",
      "}\n",
      "Error(s):\n",
      "  - Status code: 503\n",
      "{\"detail\":\"General failure: ('Skipping error while searching for adgs ODataV4Search instance', \\\"400 Client Error: BAD REQUEST for url: http://adgs-station:5000/Products?$filter=Attributes/OData.CSC.StringAttribute/any(att:att/Name eq 'productType' and att/OData.CSC.StringAttribute/Value eq 'AUX_PP2') and Attributes/OData.CSC.StringAttribute/any(att:att/Name eq 'platformShortName' and att/OData.CSC.StringAttribute/Value eq 'sentinel-1')&$orderby=PublicationDate desc&$top=10000&$skip=0&$expand=Attributes\\\")\"}\n",
      "\n"
     ]
    },
    {
     "name": "stdout",
     "output_type": "stream",
     "text": [
      "Call POST 'http://rs-server-adgs:8000/auxip/search' with params: ['id', 'datetime', 'platform', 'constellation']\n",
      "Call POST 'http://rs-server-adgs:8000/auxip/search' with params: ['id', 'datetime', 'platform', 'product:type']\n",
      "Call POST 'http://rs-server-adgs:8000/auxip/search' with params: ['id', 'datetime', 'constellation', 'product:type']\n",
      "Call POST 'http://rs-server-adgs:8000/auxip/search' with params: ['id', 'platform', 'constellation', 'product:type']\n"
     ]
    },
    {
     "name": "stderr",
     "output_type": "stream",
     "text": [
      "\n",
      "POST 'http://rs-server-adgs:8000/auxip/search'\n",
      "{\n",
      "  \"query\": {\n",
      "    \"platform\": {\n",
      "      \"eq\": \"sentinel-1a\"\n",
      "    },\n",
      "    \"constellation\": {\n",
      "      \"eq\": \"sentinel-1\"\n",
      "    },\n",
      "    \"product:type\": {\n",
      "      \"eq\": \"OPER_MPL_ORBSCT\"\n",
      "    }\n",
      "  },\n",
      "  \"ids\": [\n",
      "    \"S1A_OPER_MPL_ORBSCT_20240514T150704_99999999T999999_0025.EOF\"\n",
      "  ]\n",
      "}\n",
      "Error(s):\n",
      "  - Status code: 503\n",
      "{\"detail\":\"General failure: ('Skipping error while searching for adgs ODataV4Search instance', \\\"500 Server Error: INTERNAL SERVER ERROR for url: http://adgs-station:5000/Products?$filter=contains(Name, 'S1A_OPER_MPL_ORBSCT_20240514T150704_99999999T999999_0025.EOF') and Attributes/OData.CSC.StringAttribute/any(att:att/Name eq 'productType' and att/OData.CSC.StringAttribute/Value eq 'AUX_PP2') and Attributes/OData.CSC.StringAttribute/any(att:att/Name eq 'platformShortName' and att/OData.CSC.StringAttribute/Value eq 'sentinel-1')&$orderby=PublicationDate desc&$top=10000&$skip=0&$expand=Attributes\\\")\"}\n",
      "\n"
     ]
    },
    {
     "name": "stdout",
     "output_type": "stream",
     "text": [
      "Call POST 'http://rs-server-adgs:8000/auxip/search' with params: ['datetime', 'platform', 'constellation', 'product:type']\n"
     ]
    },
    {
     "name": "stderr",
     "output_type": "stream",
     "text": [
      "\n",
      "POST 'http://rs-server-adgs:8000/auxip/search'\n",
      "{\n",
      "  \"query\": {\n",
      "    \"platform\": {\n",
      "      \"eq\": \"sentinel-1a\"\n",
      "    },\n",
      "    \"constellation\": {\n",
      "      \"eq\": \"sentinel-1\"\n",
      "    },\n",
      "    \"product:type\": {\n",
      "      \"eq\": \"OPER_MPL_ORBSCT\"\n",
      "    }\n",
      "  },\n",
      "  \"datetime\": \"2024-05-13T23:59:59Z/2024-05-14T00:00:01Z\"\n",
      "}\n",
      "Error(s):\n",
      "  - Status code: 503\n",
      "{\"detail\":\"General failure: ('Skipping error while searching for adgs ODataV4Search instance', \\\"500 Server Error: INTERNAL SERVER ERROR for url: http://adgs-station:5000/Products?$filter=PublicationDate gt 2024-05-13T23:59:59.000Z and PublicationDate lt 2024-05-14T00:00:01.000Z and Attributes/OData.CSC.StringAttribute/any(att:att/Name eq 'productType' and att/OData.CSC.StringAttribute/Value eq 'AUX_PP2') and Attributes/OData.CSC.StringAttribute/any(att:att/Name eq 'platformShortName' and att/OData.CSC.StringAttribute/Value eq 'sentinel-1')&$orderby=PublicationDate desc&$top=10000&$skip=0&$expand=Attributes\\\")\"}\n",
      "\n"
     ]
    },
    {
     "name": "stdout",
     "output_type": "stream",
     "text": [
      "Call POST 'http://rs-server-adgs:8000/auxip/search' with params: ['id', 'datetime', 'platform', 'constellation', 'product:type']\n",
      "Call POST 'http://rs-server-cadip:8000/cadip/search' with params: ['limit']\n",
      "Call POST 'http://rs-server-cadip:8000/cadip/search' with params: ['id']\n"
     ]
    },
    {
     "name": "stderr",
     "output_type": "stream",
     "text": [
      "\n",
      "POST 'http://rs-server-cadip:8000/cadip/search'\n",
      "{\n",
      "  \"query\": {},\n",
      "  \"ids\": [\n",
      "    \"S2B_20231117033237234567\"\n",
      "  ]\n",
      "}\n",
      "Error(s):\n",
      "  - Status code: 503\n",
      "{\"detail\":\"General failure: ('Skipping error while searching for sgs_session ODataV4Search instance', \\\"404 Client Error: NOT FOUND for url: http://cadip-station:5000/Sessions?$filter=SessionId eq 'S2B_20231117033237234567' and Satellite in ('S3A', 'S3B')&$orderby=PublicationDate desc&$top=10000&$skip=0\\\")\"}\n",
      "\n"
     ]
    },
    {
     "name": "stdout",
     "output_type": "stream",
     "text": [
      "Call POST 'http://rs-server-cadip:8000/cadip/search' with params: ['datetime']\n"
     ]
    },
    {
     "name": "stderr",
     "output_type": "stream",
     "text": [
      "\n",
      "POST 'http://rs-server-cadip:8000/cadip/search'\n",
      "{\n",
      "  \"query\": {},\n",
      "  \"datetime\": \"2023-11-17T06:15:36Z/2023-11-17T06:15:38Z\"\n",
      "}\n",
      "Error(s):\n",
      "  - Status code: 503\n",
      "{\"detail\":\"General failure: ('Skipping error while searching for sgs_session ODataV4Search instance', \\\"404 Client Error: NOT FOUND for url: http://cadip-station:5000/Sessions?$filter=Satellite in ('S3A', 'S3B') and PublicationDate gt 2023-11-17T06:15:36.000Z and PublicationDate lt 2023-11-17T06:15:38.000Z&$orderby=PublicationDate desc&$top=10000&$skip=0\\\")\"}\n",
      "\n"
     ]
    },
    {
     "name": "stdout",
     "output_type": "stream",
     "text": [
      "Call POST 'http://rs-server-cadip:8000/cadip/search' with params: ['platform']\n"
     ]
    },
    {
     "name": "stderr",
     "output_type": "stream",
     "text": [
      "\n",
      "POST 'http://rs-server-cadip:8000/cadip/search'\n",
      "{\n",
      "  \"query\": {\n",
      "    \"platform\": {\n",
      "      \"eq\": \"sentinel-2b\"\n",
      "    }\n",
      "  }\n",
      "}\n",
      "Error(s):\n",
      "  - Wrong platform: 'sentinel-1a', expected: 'sentinel-2b'\n",
      "\n"
     ]
    },
    {
     "name": "stdout",
     "output_type": "stream",
     "text": [
      "Call POST 'http://rs-server-cadip:8000/cadip/search' with params: ['id', 'datetime']\n",
      "Call POST 'http://rs-server-cadip:8000/cadip/search' with params: ['id', 'platform']\n"
     ]
    },
    {
     "name": "stderr",
     "output_type": "stream",
     "text": [
      "\n",
      "POST 'http://rs-server-cadip:8000/cadip/search'\n",
      "{\n",
      "  \"query\": {\n",
      "    \"platform\": {\n",
      "      \"eq\": \"sentinel-2b\"\n",
      "    }\n",
      "  },\n",
      "  \"ids\": [\n",
      "    \"S2B_20231117033237234567\"\n",
      "  ]\n",
      "}\n",
      "Error(s):\n",
      "  - Status code: 503\n",
      "{\"detail\":\"General failure: ('Skipping error while searching for sgs_session ODataV4Search instance', \\\"404 Client Error: NOT FOUND for url: http://cadip-station:5000/Sessions?$filter=SessionId eq 'S2B_20231117033237234567' and Satellite in ('S3A', 'S3B')&$orderby=PublicationDate desc&$top=10000&$skip=0\\\")\"}\n",
      "\n"
     ]
    },
    {
     "name": "stdout",
     "output_type": "stream",
     "text": [
      "Call POST 'http://rs-server-cadip:8000/cadip/search' with params: ['datetime', 'platform']\n"
     ]
    },
    {
     "name": "stderr",
     "output_type": "stream",
     "text": [
      "\n",
      "POST 'http://rs-server-cadip:8000/cadip/search'\n",
      "{\n",
      "  \"query\": {\n",
      "    \"platform\": {\n",
      "      \"eq\": \"sentinel-2b\"\n",
      "    }\n",
      "  },\n",
      "  \"datetime\": \"2023-11-17T06:15:36Z/2023-11-17T06:15:38Z\"\n",
      "}\n",
      "Error(s):\n",
      "  - Status code: 503\n",
      "{\"detail\":\"General failure: ('Skipping error while searching for sgs_session ODataV4Search instance', \\\"404 Client Error: NOT FOUND for url: http://cadip-station:5000/Sessions?$filter=Satellite in ('S3A', 'S3B') and PublicationDate gt 2023-11-17T06:15:36.000Z and PublicationDate lt 2023-11-17T06:15:38.000Z&$orderby=PublicationDate desc&$top=10000&$skip=0\\\")\"}\n",
      "\n"
     ]
    },
    {
     "name": "stdout",
     "output_type": "stream",
     "text": [
      "Call POST 'http://rs-server-cadip:8000/cadip/search' with params: ['id', 'datetime', 'platform']\n"
     ]
    },
    {
     "name": "stderr",
     "output_type": "stream",
     "text": [
      "\n",
      "POST 'http://rs-server-cadip:8000/cadip/search'\n",
      "{\n",
      "  \"query\": {\n",
      "    \"platform\": {\n",
      "      \"eq\": \"sentinel-2b\"\n",
      "    }\n",
      "  },\n",
      "  \"ids\": [\n",
      "    \"S2B_20231117033237234567\"\n",
      "  ],\n",
      "  \"datetime\": \"2023-11-17T06:15:36Z/2023-11-17T06:15:38Z\"\n",
      "}\n",
      "Error(s):\n",
      "  - No features returned\n",
      "\n"
     ]
    },
    {
     "ename": "RuntimeError",
     "evalue": "\n## Error message start ##\n\nPOST 'http://rs-server-adgs:8000/auxip/search'\n{\n  \"query\": {\n    \"platform\": {\n      \"eq\": \"sentinel-1a\"\n    }\n  }\n}\nError(s):\n  - Status code: 503\n{\"detail\":\"General failure: ('Skipping error while searching for adgs ODataV4Search instance', \\\"400 Client Error: BAD REQUEST for url: http://adgs-station:5000/Products?$filter=Attributes/OData.CSC.StringAttribute/any(att:att/Name eq 'productType' and att/OData.CSC.StringAttribute/Value eq 'AUX_PP2') and Attributes/OData.CSC.StringAttribute/any(att:att/Name eq 'platformSerialIdentifier' and att/OData.CSC.StringAttribute/Value eq 'A') and Attributes/OData.CSC.StringAttribute/any(att:att/Name eq 'platformShortName' and att/OData.CSC.StringAttribute/Value eq 'sentinel-1')&$orderby=PublicationDate desc&$top=10000&$skip=0&$expand=Attributes\\\")\"}\n\nPOST 'http://rs-server-adgs:8000/auxip/search'\n{\n  \"query\": {\n    \"constellation\": {\n      \"eq\": \"sentinel-1\"\n    }\n  }\n}\nError(s):\n  - Status code: 503\n{\"detail\":\"General failure: ('Skipping error while searching for adgs ODataV4Search instance', \\\"400 Client Error: BAD REQUEST for url: http://adgs-station:5000/Products?$filter=Attributes/OData.CSC.StringAttribute/any(att:att/Name eq 'productType' and att/OData.CSC.StringAttribute/Value eq 'AUX_PP2') and Attributes/OData.CSC.StringAttribute/any(att:att/Name eq 'platformShortName' and att/OData.CSC.StringAttribute/Value eq 'sentinel-1')&$orderby=PublicationDate desc&$top=10000&$skip=0&$expand=Attributes\\\")\"}\n\nPOST 'http://rs-server-adgs:8000/auxip/search'\n{\n  \"query\": {\n    \"product:type\": {\n      \"eq\": \"OPER_MPL_ORBSCT\"\n    }\n  }\n}\nError(s):\n  - Wrong product:type: 'AUX_PP2', expected: 'OPER_MPL_ORBSCT'\n\nPOST 'http://rs-server-adgs:8000/auxip/search'\n{\n  \"query\": {\n    \"platform\": {\n      \"eq\": \"sentinel-1a\"\n    }\n  },\n  \"ids\": [\n    \"S1A_OPER_MPL_ORBSCT_20240514T150704_99999999T999999_0025.EOF\"\n  ]\n}\nError(s):\n  - Status code: 503\n{\"detail\":\"General failure: ('Skipping error while searching for adgs ODataV4Search instance', \\\"500 Server Error: INTERNAL SERVER ERROR for url: http://adgs-station:5000/Products?$filter=contains(Name, 'S1A_OPER_MPL_ORBSCT_20240514T150704_99999999T999999_0025.EOF') and Attributes/OData.CSC.StringAttribute/any(att:att/Name eq 'productType' and att/OData.CSC.StringAttribute/Value eq 'AUX_PP2') and Attributes/OData.CSC.StringAttribute/any(att:att/Name eq 'platformSerialIdentifier' and att/OData.CSC.StringAttribute/Value eq 'A') and Attributes/OData.CSC.StringAttribute/any(att:att/Name eq 'platformShortName' and att/OData.CSC.StringAttribute/Value eq 'sentinel-1')&$orderby=PublicationDate desc&$top=10000&$skip=0&$expand=Attributes\\\")\"}\n\nPOST 'http://rs-server-adgs:8000/auxip/search'\n{\n  \"query\": {\n    \"constellation\": {\n      \"eq\": \"sentinel-1\"\n    }\n  },\n  \"ids\": [\n    \"S1A_OPER_MPL_ORBSCT_20240514T150704_99999999T999999_0025.EOF\"\n  ]\n}\nError(s):\n  - Status code: 503\n{\"detail\":\"General failure: ('Skipping error while searching for adgs ODataV4Search instance', \\\"500 Server Error: INTERNAL SERVER ERROR for url: http://adgs-station:5000/Products?$filter=contains(Name, 'S1A_OPER_MPL_ORBSCT_20240514T150704_99999999T999999_0025.EOF') and Attributes/OData.CSC.StringAttribute/any(att:att/Name eq 'productType' and att/OData.CSC.StringAttribute/Value eq 'AUX_PP2') and Attributes/OData.CSC.StringAttribute/any(att:att/Name eq 'platformShortName' and att/OData.CSC.StringAttribute/Value eq 'sentinel-1')&$orderby=PublicationDate desc&$top=10000&$skip=0&$expand=Attributes\\\")\"}\n\nPOST 'http://rs-server-adgs:8000/auxip/search'\n{\n  \"query\": {\n    \"platform\": {\n      \"eq\": \"sentinel-1a\"\n    }\n  },\n  \"datetime\": \"2024-05-13T23:59:59Z/2024-05-14T00:00:01Z\"\n}\nError(s):\n  - Status code: 503\n{\"detail\":\"General failure: ('Skipping error while searching for adgs ODataV4Search instance', \\\"500 Server Error: INTERNAL SERVER ERROR for url: http://adgs-station:5000/Products?$filter=PublicationDate gt 2024-05-13T23:59:59.000Z and PublicationDate lt 2024-05-14T00:00:01.000Z and Attributes/OData.CSC.StringAttribute/any(att:att/Name eq 'productType' and att/OData.CSC.StringAttribute/Value eq 'AUX_PP2') and Attributes/OData.CSC.StringAttribute/any(att:att/Name eq 'platformSerialIdentifier' and att/OData.CSC.StringAttribute/Value eq 'A') and Attributes/OData.CSC.StringAttribute/any(att:att/Name eq 'platformShortName' and att/OData.CSC.StringAttribute/Value eq 'sentinel-1')&$orderby=PublicationDate desc&$top=10000&$skip=0&$expand=Attributes\\\")\"}\n\nPOST 'http://rs-server-adgs:8000/auxip/search'\n{\n  \"query\": {\n    \"constellation\": {\n      \"eq\": \"sentinel-1\"\n    }\n  },\n  \"datetime\": \"2024-05-13T23:59:59Z/2024-05-14T00:00:01Z\"\n}\nError(s):\n  - Status code: 503\n{\"detail\":\"General failure: ('Skipping error while searching for adgs ODataV4Search instance', \\\"500 Server Error: INTERNAL SERVER ERROR for url: http://adgs-station:5000/Products?$filter=PublicationDate gt 2024-05-13T23:59:59.000Z and PublicationDate lt 2024-05-14T00:00:01.000Z and Attributes/OData.CSC.StringAttribute/any(att:att/Name eq 'productType' and att/OData.CSC.StringAttribute/Value eq 'AUX_PP2') and Attributes/OData.CSC.StringAttribute/any(att:att/Name eq 'platformShortName' and att/OData.CSC.StringAttribute/Value eq 'sentinel-1')&$orderby=PublicationDate desc&$top=10000&$skip=0&$expand=Attributes\\\")\"}\n\nPOST 'http://rs-server-adgs:8000/auxip/search'\n{\n  \"query\": {\n    \"platform\": {\n      \"eq\": \"sentinel-1a\"\n    },\n    \"constellation\": {\n      \"eq\": \"sentinel-1\"\n    }\n  }\n}\nError(s):\n  - Status code: 503\n{\"detail\":\"General failure: ('Skipping error while searching for adgs ODataV4Search instance', \\\"400 Client Error: BAD REQUEST for url: http://adgs-station:5000/Products?$filter=Attributes/OData.CSC.StringAttribute/any(att:att/Name eq 'productType' and att/OData.CSC.StringAttribute/Value eq 'AUX_PP2') and Attributes/OData.CSC.StringAttribute/any(att:att/Name eq 'platformShortName' and att/OData.CSC.StringAttribute/Value eq 'sentinel-1')&$orderby=PublicationDate desc&$top=10000&$skip=0&$expand=Attributes\\\")\"}\n\nPOST 'http://rs-server-adgs:8000/auxip/search'\n{\n  \"query\": {\n    \"platform\": {\n      \"eq\": \"sentinel-1a\"\n    },\n    \"product:type\": {\n      \"eq\": \"OPER_MPL_ORBSCT\"\n    }\n  }\n}\nError(s):\n  - Status code: 503\n{\"detail\":\"General failure: ('Skipping error while searching for adgs ODataV4Search instance', \\\"400 Client Error: BAD REQUEST for url: http://adgs-station:5000/Products?$filter=Attributes/OData.CSC.StringAttribute/any(att:att/Name eq 'productType' and att/OData.CSC.StringAttribute/Value eq 'AUX_PP2') and Attributes/OData.CSC.StringAttribute/any(att:att/Name eq 'platformSerialIdentifier' and att/OData.CSC.StringAttribute/Value eq 'A') and Attributes/OData.CSC.StringAttribute/any(att:att/Name eq 'platformShortName' and att/OData.CSC.StringAttribute/Value eq 'sentinel-1')&$orderby=PublicationDate desc&$top=10000&$skip=0&$expand=Attributes\\\")\"}\n\nPOST 'http://rs-server-adgs:8000/auxip/search'\n{\n  \"query\": {\n    \"constellation\": {\n      \"eq\": \"sentinel-1\"\n    },\n    \"product:type\": {\n      \"eq\": \"OPER_MPL_ORBSCT\"\n    }\n  }\n}\nError(s):\n  - Status code: 503\n{\"detail\":\"General failure: ('Skipping error while searching for adgs ODataV4Search instance', \\\"400 Client Error: BAD REQUEST for url: http://adgs-station:5000/Products?$filter=Attributes/OData.CSC.StringAttribute/any(att:att/Name eq 'productType' and att/OData.CSC.StringAttribute/Value eq 'AUX_PP2') and Attributes/OData.CSC.StringAttribute/any(att:att/Name eq 'platformShortName' and att/OData.CSC.StringAttribute/Value eq 'sentinel-1')&$orderby=PublicationDate desc&$top=10000&$skip=0&$expand=Attributes\\\")\"}\n\nPOST 'http://rs-server-adgs:8000/auxip/search'\n{\n  \"query\": {\n    \"platform\": {\n      \"eq\": \"sentinel-1a\"\n    },\n    \"constellation\": {\n      \"eq\": \"sentinel-1\"\n    }\n  },\n  \"ids\": [\n    \"S1A_OPER_MPL_ORBSCT_20240514T150704_99999999T999999_0025.EOF\"\n  ]\n}\nError(s):\n  - Status code: 503\n{\"detail\":\"General failure: ('Skipping error while searching for adgs ODataV4Search instance', \\\"500 Server Error: INTERNAL SERVER ERROR for url: http://adgs-station:5000/Products?$filter=contains(Name, 'S1A_OPER_MPL_ORBSCT_20240514T150704_99999999T999999_0025.EOF') and Attributes/OData.CSC.StringAttribute/any(att:att/Name eq 'productType' and att/OData.CSC.StringAttribute/Value eq 'AUX_PP2') and Attributes/OData.CSC.StringAttribute/any(att:att/Name eq 'platformShortName' and att/OData.CSC.StringAttribute/Value eq 'sentinel-1')&$orderby=PublicationDate desc&$top=10000&$skip=0&$expand=Attributes\\\")\"}\n\nPOST 'http://rs-server-adgs:8000/auxip/search'\n{\n  \"query\": {\n    \"platform\": {\n      \"eq\": \"sentinel-1a\"\n    },\n    \"product:type\": {\n      \"eq\": \"OPER_MPL_ORBSCT\"\n    }\n  },\n  \"ids\": [\n    \"S1A_OPER_MPL_ORBSCT_20240514T150704_99999999T999999_0025.EOF\"\n  ]\n}\nError(s):\n  - Status code: 503\n{\"detail\":\"General failure: ('Skipping error while searching for adgs ODataV4Search instance', \\\"500 Server Error: INTERNAL SERVER ERROR for url: http://adgs-station:5000/Products?$filter=contains(Name, 'S1A_OPER_MPL_ORBSCT_20240514T150704_99999999T999999_0025.EOF') and Attributes/OData.CSC.StringAttribute/any(att:att/Name eq 'productType' and att/OData.CSC.StringAttribute/Value eq 'AUX_PP2') and Attributes/OData.CSC.StringAttribute/any(att:att/Name eq 'platformSerialIdentifier' and att/OData.CSC.StringAttribute/Value eq 'A') and Attributes/OData.CSC.StringAttribute/any(att:att/Name eq 'platformShortName' and att/OData.CSC.StringAttribute/Value eq 'sentinel-1')&$orderby=PublicationDate desc&$top=10000&$skip=0&$expand=Attributes\\\")\"}\n\nPOST 'http://rs-server-adgs:8000/auxip/search'\n{\n  \"query\": {\n    \"constellation\": {\n      \"eq\": \"sentinel-1\"\n    },\n    \"product:type\": {\n      \"eq\": \"OPER_MPL_ORBSCT\"\n    }\n  },\n  \"ids\": [\n    \"S1A_OPER_MPL_ORBSCT_20240514T150704_99999999T999999_0025.EOF\"\n  ]\n}\nError(s):\n  - Status code: 503\n{\"detail\":\"General failure: ('Skipping error while searching for adgs ODataV4Search instance', \\\"500 Server Error: INTERNAL SERVER ERROR for url: http://adgs-station:5000/Products?$filter=contains(Name, 'S1A_OPER_MPL_ORBSCT_20240514T150704_99999999T999999_0025.EOF') and Attributes/OData.CSC.StringAttribute/any(att:att/Name eq 'productType' and att/OData.CSC.StringAttribute/Value eq 'AUX_PP2') and Attributes/OData.CSC.StringAttribute/any(att:att/Name eq 'platformShortName' and att/OData.CSC.StringAttribute/Value eq 'sentinel-1')&$orderby=PublicationDate desc&$top=10000&$skip=0&$expand=Attributes\\\")\"}\n\nPOST 'http://rs-server-adgs:8000/auxip/search'\n{\n  \"query\": {\n    \"platform\": {\n      \"eq\": \"sentinel-1a\"\n    },\n    \"constellation\": {\n      \"eq\": \"sentinel-1\"\n    }\n  },\n  \"datetime\": \"2024-05-13T23:59:59Z/2024-05-14T00:00:01Z\"\n}\nError(s):\n  - Status code: 503\n{\"detail\":\"General failure: ('Skipping error while searching for adgs ODataV4Search instance', \\\"500 Server Error: INTERNAL SERVER ERROR for url: http://adgs-station:5000/Products?$filter=PublicationDate gt 2024-05-13T23:59:59.000Z and PublicationDate lt 2024-05-14T00:00:01.000Z and Attributes/OData.CSC.StringAttribute/any(att:att/Name eq 'productType' and att/OData.CSC.StringAttribute/Value eq 'AUX_PP2') and Attributes/OData.CSC.StringAttribute/any(att:att/Name eq 'platformShortName' and att/OData.CSC.StringAttribute/Value eq 'sentinel-1')&$orderby=PublicationDate desc&$top=10000&$skip=0&$expand=Attributes\\\")\"}\n\nPOST 'http://rs-server-adgs:8000/auxip/search'\n{\n  \"query\": {\n    \"platform\": {\n      \"eq\": \"sentinel-1a\"\n    },\n    \"product:type\": {\n      \"eq\": \"OPER_MPL_ORBSCT\"\n    }\n  },\n  \"datetime\": \"2024-05-13T23:59:59Z/2024-05-14T00:00:01Z\"\n}\nError(s):\n  - Status code: 503\n{\"detail\":\"General failure: ('Skipping error while searching for adgs ODataV4Search instance', \\\"500 Server Error: INTERNAL SERVER ERROR for url: http://adgs-station:5000/Products?$filter=PublicationDate gt 2024-05-13T23:59:59.000Z and PublicationDate lt 2024-05-14T00:00:01.000Z and Attributes/OData.CSC.StringAttribute/any(att:att/Name eq 'productType' and att/OData.CSC.StringAttribute/Value eq 'AUX_PP2') and Attributes/OData.CSC.StringAttribute/any(att:att/Name eq 'platformSerialIdentifier' and att/OData.CSC.StringAttribute/Value eq 'A') and Attributes/OData.CSC.StringAttribute/any(att:att/Name eq 'platformShortName' and att/OData.CSC.StringAttribute/Value eq 'sentinel-1')&$orderby=PublicationDate desc&$top=10000&$skip=0&$expand=Attributes\\\")\"}\n\nPOST 'http://rs-server-adgs:8000/auxip/search'\n{\n  \"query\": {\n    \"constellation\": {\n      \"eq\": \"sentinel-1\"\n    },\n    \"product:type\": {\n      \"eq\": \"OPER_MPL_ORBSCT\"\n    }\n  },\n  \"datetime\": \"2024-05-13T23:59:59Z/2024-05-14T00:00:01Z\"\n}\nError(s):\n  - Status code: 503\n{\"detail\":\"General failure: ('Skipping error while searching for adgs ODataV4Search instance', \\\"500 Server Error: INTERNAL SERVER ERROR for url: http://adgs-station:5000/Products?$filter=PublicationDate gt 2024-05-13T23:59:59.000Z and PublicationDate lt 2024-05-14T00:00:01.000Z and Attributes/OData.CSC.StringAttribute/any(att:att/Name eq 'productType' and att/OData.CSC.StringAttribute/Value eq 'AUX_PP2') and Attributes/OData.CSC.StringAttribute/any(att:att/Name eq 'platformShortName' and att/OData.CSC.StringAttribute/Value eq 'sentinel-1')&$orderby=PublicationDate desc&$top=10000&$skip=0&$expand=Attributes\\\")\"}\n\nPOST 'http://rs-server-adgs:8000/auxip/search'\n{\n  \"query\": {\n    \"platform\": {\n      \"eq\": \"sentinel-1a\"\n    },\n    \"constellation\": {\n      \"eq\": \"sentinel-1\"\n    },\n    \"product:type\": {\n      \"eq\": \"OPER_MPL_ORBSCT\"\n    }\n  }\n}\nError(s):\n  - Status code: 503\n{\"detail\":\"General failure: ('Skipping error while searching for adgs ODataV4Search instance', \\\"400 Client Error: BAD REQUEST for url: http://adgs-station:5000/Products?$filter=Attributes/OData.CSC.StringAttribute/any(att:att/Name eq 'productType' and att/OData.CSC.StringAttribute/Value eq 'AUX_PP2') and Attributes/OData.CSC.StringAttribute/any(att:att/Name eq 'platformShortName' and att/OData.CSC.StringAttribute/Value eq 'sentinel-1')&$orderby=PublicationDate desc&$top=10000&$skip=0&$expand=Attributes\\\")\"}\n\nPOST 'http://rs-server-adgs:8000/auxip/search'\n{\n  \"query\": {\n    \"platform\": {\n      \"eq\": \"sentinel-1a\"\n    },\n    \"constellation\": {\n      \"eq\": \"sentinel-1\"\n    },\n    \"product:type\": {\n      \"eq\": \"OPER_MPL_ORBSCT\"\n    }\n  },\n  \"ids\": [\n    \"S1A_OPER_MPL_ORBSCT_20240514T150704_99999999T999999_0025.EOF\"\n  ]\n}\nError(s):\n  - Status code: 503\n{\"detail\":\"General failure: ('Skipping error while searching for adgs ODataV4Search instance', \\\"500 Server Error: INTERNAL SERVER ERROR for url: http://adgs-station:5000/Products?$filter=contains(Name, 'S1A_OPER_MPL_ORBSCT_20240514T150704_99999999T999999_0025.EOF') and Attributes/OData.CSC.StringAttribute/any(att:att/Name eq 'productType' and att/OData.CSC.StringAttribute/Value eq 'AUX_PP2') and Attributes/OData.CSC.StringAttribute/any(att:att/Name eq 'platformShortName' and att/OData.CSC.StringAttribute/Value eq 'sentinel-1')&$orderby=PublicationDate desc&$top=10000&$skip=0&$expand=Attributes\\\")\"}\n\nPOST 'http://rs-server-adgs:8000/auxip/search'\n{\n  \"query\": {\n    \"platform\": {\n      \"eq\": \"sentinel-1a\"\n    },\n    \"constellation\": {\n      \"eq\": \"sentinel-1\"\n    },\n    \"product:type\": {\n      \"eq\": \"OPER_MPL_ORBSCT\"\n    }\n  },\n  \"datetime\": \"2024-05-13T23:59:59Z/2024-05-14T00:00:01Z\"\n}\nError(s):\n  - Status code: 503\n{\"detail\":\"General failure: ('Skipping error while searching for adgs ODataV4Search instance', \\\"500 Server Error: INTERNAL SERVER ERROR for url: http://adgs-station:5000/Products?$filter=PublicationDate gt 2024-05-13T23:59:59.000Z and PublicationDate lt 2024-05-14T00:00:01.000Z and Attributes/OData.CSC.StringAttribute/any(att:att/Name eq 'productType' and att/OData.CSC.StringAttribute/Value eq 'AUX_PP2') and Attributes/OData.CSC.StringAttribute/any(att:att/Name eq 'platformShortName' and att/OData.CSC.StringAttribute/Value eq 'sentinel-1')&$orderby=PublicationDate desc&$top=10000&$skip=0&$expand=Attributes\\\")\"}\n\nPOST 'http://rs-server-cadip:8000/cadip/search'\n{\n  \"query\": {},\n  \"ids\": [\n    \"S2B_20231117033237234567\"\n  ]\n}\nError(s):\n  - Status code: 503\n{\"detail\":\"General failure: ('Skipping error while searching for sgs_session ODataV4Search instance', \\\"404 Client Error: NOT FOUND for url: http://cadip-station:5000/Sessions?$filter=SessionId eq 'S2B_20231117033237234567' and Satellite in ('S3A', 'S3B')&$orderby=PublicationDate desc&$top=10000&$skip=0\\\")\"}\n\nPOST 'http://rs-server-cadip:8000/cadip/search'\n{\n  \"query\": {},\n  \"datetime\": \"2023-11-17T06:15:36Z/2023-11-17T06:15:38Z\"\n}\nError(s):\n  - Status code: 503\n{\"detail\":\"General failure: ('Skipping error while searching for sgs_session ODataV4Search instance', \\\"404 Client Error: NOT FOUND for url: http://cadip-station:5000/Sessions?$filter=Satellite in ('S3A', 'S3B') and PublicationDate gt 2023-11-17T06:15:36.000Z and PublicationDate lt 2023-11-17T06:15:38.000Z&$orderby=PublicationDate desc&$top=10000&$skip=0\\\")\"}\n\nPOST 'http://rs-server-cadip:8000/cadip/search'\n{\n  \"query\": {\n    \"platform\": {\n      \"eq\": \"sentinel-2b\"\n    }\n  }\n}\nError(s):\n  - Wrong platform: 'sentinel-1a', expected: 'sentinel-2b'\n\nPOST 'http://rs-server-cadip:8000/cadip/search'\n{\n  \"query\": {\n    \"platform\": {\n      \"eq\": \"sentinel-2b\"\n    }\n  },\n  \"ids\": [\n    \"S2B_20231117033237234567\"\n  ]\n}\nError(s):\n  - Status code: 503\n{\"detail\":\"General failure: ('Skipping error while searching for sgs_session ODataV4Search instance', \\\"404 Client Error: NOT FOUND for url: http://cadip-station:5000/Sessions?$filter=SessionId eq 'S2B_20231117033237234567' and Satellite in ('S3A', 'S3B')&$orderby=PublicationDate desc&$top=10000&$skip=0\\\")\"}\n\nPOST 'http://rs-server-cadip:8000/cadip/search'\n{\n  \"query\": {\n    \"platform\": {\n      \"eq\": \"sentinel-2b\"\n    }\n  },\n  \"datetime\": \"2023-11-17T06:15:36Z/2023-11-17T06:15:38Z\"\n}\nError(s):\n  - Status code: 503\n{\"detail\":\"General failure: ('Skipping error while searching for sgs_session ODataV4Search instance', \\\"404 Client Error: NOT FOUND for url: http://cadip-station:5000/Sessions?$filter=Satellite in ('S3A', 'S3B') and PublicationDate gt 2023-11-17T06:15:36.000Z and PublicationDate lt 2023-11-17T06:15:38.000Z&$orderby=PublicationDate desc&$top=10000&$skip=0\\\")\"}\n\nPOST 'http://rs-server-cadip:8000/cadip/search'\n{\n  \"query\": {\n    \"platform\": {\n      \"eq\": \"sentinel-2b\"\n    }\n  },\n  \"ids\": [\n    \"S2B_20231117033237234567\"\n  ],\n  \"datetime\": \"2023-11-17T06:15:36Z/2023-11-17T06:15:38Z\"\n}\nError(s):\n  - No features returned\n\n## Error message finish ##\n",
     "output_type": "error",
     "traceback": [
      "\u001b[0;31m---------------------------------------------------------------------------\u001b[0m",
      "\u001b[0;31mRuntimeError\u001b[0m                              Traceback (most recent call last)",
      "Cell \u001b[0;32mIn[8], line 41\u001b[0m\n\u001b[1;32m     39\u001b[0m     message \u001b[38;5;241m+\u001b[39m\u001b[38;5;241m=\u001b[39m \u001b[38;5;28mstr\u001b[39m(error)\n\u001b[1;32m     40\u001b[0m message \u001b[38;5;241m+\u001b[39m\u001b[38;5;241m=\u001b[39m \u001b[38;5;124m\"\u001b[39m\u001b[38;5;130;01m\\n\u001b[39;00m\u001b[38;5;124m## Error message finish ##\u001b[39m\u001b[38;5;130;01m\\n\u001b[39;00m\u001b[38;5;124m\"\u001b[39m\n\u001b[0;32m---> 41\u001b[0m \u001b[38;5;28;01mraise\u001b[39;00m \u001b[38;5;167;01mRuntimeError\u001b[39;00m(message)\n",
      "\u001b[0;31mRuntimeError\u001b[0m: \n## Error message start ##\n\nPOST 'http://rs-server-adgs:8000/auxip/search'\n{\n  \"query\": {\n    \"platform\": {\n      \"eq\": \"sentinel-1a\"\n    }\n  }\n}\nError(s):\n  - Status code: 503\n{\"detail\":\"General failure: ('Skipping error while searching for adgs ODataV4Search instance', \\\"400 Client Error: BAD REQUEST for url: http://adgs-station:5000/Products?$filter=Attributes/OData.CSC.StringAttribute/any(att:att/Name eq 'productType' and att/OData.CSC.StringAttribute/Value eq 'AUX_PP2') and Attributes/OData.CSC.StringAttribute/any(att:att/Name eq 'platformSerialIdentifier' and att/OData.CSC.StringAttribute/Value eq 'A') and Attributes/OData.CSC.StringAttribute/any(att:att/Name eq 'platformShortName' and att/OData.CSC.StringAttribute/Value eq 'sentinel-1')&$orderby=PublicationDate desc&$top=10000&$skip=0&$expand=Attributes\\\")\"}\n\nPOST 'http://rs-server-adgs:8000/auxip/search'\n{\n  \"query\": {\n    \"constellation\": {\n      \"eq\": \"sentinel-1\"\n    }\n  }\n}\nError(s):\n  - Status code: 503\n{\"detail\":\"General failure: ('Skipping error while searching for adgs ODataV4Search instance', \\\"400 Client Error: BAD REQUEST for url: http://adgs-station:5000/Products?$filter=Attributes/OData.CSC.StringAttribute/any(att:att/Name eq 'productType' and att/OData.CSC.StringAttribute/Value eq 'AUX_PP2') and Attributes/OData.CSC.StringAttribute/any(att:att/Name eq 'platformShortName' and att/OData.CSC.StringAttribute/Value eq 'sentinel-1')&$orderby=PublicationDate desc&$top=10000&$skip=0&$expand=Attributes\\\")\"}\n\nPOST 'http://rs-server-adgs:8000/auxip/search'\n{\n  \"query\": {\n    \"product:type\": {\n      \"eq\": \"OPER_MPL_ORBSCT\"\n    }\n  }\n}\nError(s):\n  - Wrong product:type: 'AUX_PP2', expected: 'OPER_MPL_ORBSCT'\n\nPOST 'http://rs-server-adgs:8000/auxip/search'\n{\n  \"query\": {\n    \"platform\": {\n      \"eq\": \"sentinel-1a\"\n    }\n  },\n  \"ids\": [\n    \"S1A_OPER_MPL_ORBSCT_20240514T150704_99999999T999999_0025.EOF\"\n  ]\n}\nError(s):\n  - Status code: 503\n{\"detail\":\"General failure: ('Skipping error while searching for adgs ODataV4Search instance', \\\"500 Server Error: INTERNAL SERVER ERROR for url: http://adgs-station:5000/Products?$filter=contains(Name, 'S1A_OPER_MPL_ORBSCT_20240514T150704_99999999T999999_0025.EOF') and Attributes/OData.CSC.StringAttribute/any(att:att/Name eq 'productType' and att/OData.CSC.StringAttribute/Value eq 'AUX_PP2') and Attributes/OData.CSC.StringAttribute/any(att:att/Name eq 'platformSerialIdentifier' and att/OData.CSC.StringAttribute/Value eq 'A') and Attributes/OData.CSC.StringAttribute/any(att:att/Name eq 'platformShortName' and att/OData.CSC.StringAttribute/Value eq 'sentinel-1')&$orderby=PublicationDate desc&$top=10000&$skip=0&$expand=Attributes\\\")\"}\n\nPOST 'http://rs-server-adgs:8000/auxip/search'\n{\n  \"query\": {\n    \"constellation\": {\n      \"eq\": \"sentinel-1\"\n    }\n  },\n  \"ids\": [\n    \"S1A_OPER_MPL_ORBSCT_20240514T150704_99999999T999999_0025.EOF\"\n  ]\n}\nError(s):\n  - Status code: 503\n{\"detail\":\"General failure: ('Skipping error while searching for adgs ODataV4Search instance', \\\"500 Server Error: INTERNAL SERVER ERROR for url: http://adgs-station:5000/Products?$filter=contains(Name, 'S1A_OPER_MPL_ORBSCT_20240514T150704_99999999T999999_0025.EOF') and Attributes/OData.CSC.StringAttribute/any(att:att/Name eq 'productType' and att/OData.CSC.StringAttribute/Value eq 'AUX_PP2') and Attributes/OData.CSC.StringAttribute/any(att:att/Name eq 'platformShortName' and att/OData.CSC.StringAttribute/Value eq 'sentinel-1')&$orderby=PublicationDate desc&$top=10000&$skip=0&$expand=Attributes\\\")\"}\n\nPOST 'http://rs-server-adgs:8000/auxip/search'\n{\n  \"query\": {\n    \"platform\": {\n      \"eq\": \"sentinel-1a\"\n    }\n  },\n  \"datetime\": \"2024-05-13T23:59:59Z/2024-05-14T00:00:01Z\"\n}\nError(s):\n  - Status code: 503\n{\"detail\":\"General failure: ('Skipping error while searching for adgs ODataV4Search instance', \\\"500 Server Error: INTERNAL SERVER ERROR for url: http://adgs-station:5000/Products?$filter=PublicationDate gt 2024-05-13T23:59:59.000Z and PublicationDate lt 2024-05-14T00:00:01.000Z and Attributes/OData.CSC.StringAttribute/any(att:att/Name eq 'productType' and att/OData.CSC.StringAttribute/Value eq 'AUX_PP2') and Attributes/OData.CSC.StringAttribute/any(att:att/Name eq 'platformSerialIdentifier' and att/OData.CSC.StringAttribute/Value eq 'A') and Attributes/OData.CSC.StringAttribute/any(att:att/Name eq 'platformShortName' and att/OData.CSC.StringAttribute/Value eq 'sentinel-1')&$orderby=PublicationDate desc&$top=10000&$skip=0&$expand=Attributes\\\")\"}\n\nPOST 'http://rs-server-adgs:8000/auxip/search'\n{\n  \"query\": {\n    \"constellation\": {\n      \"eq\": \"sentinel-1\"\n    }\n  },\n  \"datetime\": \"2024-05-13T23:59:59Z/2024-05-14T00:00:01Z\"\n}\nError(s):\n  - Status code: 503\n{\"detail\":\"General failure: ('Skipping error while searching for adgs ODataV4Search instance', \\\"500 Server Error: INTERNAL SERVER ERROR for url: http://adgs-station:5000/Products?$filter=PublicationDate gt 2024-05-13T23:59:59.000Z and PublicationDate lt 2024-05-14T00:00:01.000Z and Attributes/OData.CSC.StringAttribute/any(att:att/Name eq 'productType' and att/OData.CSC.StringAttribute/Value eq 'AUX_PP2') and Attributes/OData.CSC.StringAttribute/any(att:att/Name eq 'platformShortName' and att/OData.CSC.StringAttribute/Value eq 'sentinel-1')&$orderby=PublicationDate desc&$top=10000&$skip=0&$expand=Attributes\\\")\"}\n\nPOST 'http://rs-server-adgs:8000/auxip/search'\n{\n  \"query\": {\n    \"platform\": {\n      \"eq\": \"sentinel-1a\"\n    },\n    \"constellation\": {\n      \"eq\": \"sentinel-1\"\n    }\n  }\n}\nError(s):\n  - Status code: 503\n{\"detail\":\"General failure: ('Skipping error while searching for adgs ODataV4Search instance', \\\"400 Client Error: BAD REQUEST for url: http://adgs-station:5000/Products?$filter=Attributes/OData.CSC.StringAttribute/any(att:att/Name eq 'productType' and att/OData.CSC.StringAttribute/Value eq 'AUX_PP2') and Attributes/OData.CSC.StringAttribute/any(att:att/Name eq 'platformShortName' and att/OData.CSC.StringAttribute/Value eq 'sentinel-1')&$orderby=PublicationDate desc&$top=10000&$skip=0&$expand=Attributes\\\")\"}\n\nPOST 'http://rs-server-adgs:8000/auxip/search'\n{\n  \"query\": {\n    \"platform\": {\n      \"eq\": \"sentinel-1a\"\n    },\n    \"product:type\": {\n      \"eq\": \"OPER_MPL_ORBSCT\"\n    }\n  }\n}\nError(s):\n  - Status code: 503\n{\"detail\":\"General failure: ('Skipping error while searching for adgs ODataV4Search instance', \\\"400 Client Error: BAD REQUEST for url: http://adgs-station:5000/Products?$filter=Attributes/OData.CSC.StringAttribute/any(att:att/Name eq 'productType' and att/OData.CSC.StringAttribute/Value eq 'AUX_PP2') and Attributes/OData.CSC.StringAttribute/any(att:att/Name eq 'platformSerialIdentifier' and att/OData.CSC.StringAttribute/Value eq 'A') and Attributes/OData.CSC.StringAttribute/any(att:att/Name eq 'platformShortName' and att/OData.CSC.StringAttribute/Value eq 'sentinel-1')&$orderby=PublicationDate desc&$top=10000&$skip=0&$expand=Attributes\\\")\"}\n\nPOST 'http://rs-server-adgs:8000/auxip/search'\n{\n  \"query\": {\n    \"constellation\": {\n      \"eq\": \"sentinel-1\"\n    },\n    \"product:type\": {\n      \"eq\": \"OPER_MPL_ORBSCT\"\n    }\n  }\n}\nError(s):\n  - Status code: 503\n{\"detail\":\"General failure: ('Skipping error while searching for adgs ODataV4Search instance', \\\"400 Client Error: BAD REQUEST for url: http://adgs-station:5000/Products?$filter=Attributes/OData.CSC.StringAttribute/any(att:att/Name eq 'productType' and att/OData.CSC.StringAttribute/Value eq 'AUX_PP2') and Attributes/OData.CSC.StringAttribute/any(att:att/Name eq 'platformShortName' and att/OData.CSC.StringAttribute/Value eq 'sentinel-1')&$orderby=PublicationDate desc&$top=10000&$skip=0&$expand=Attributes\\\")\"}\n\nPOST 'http://rs-server-adgs:8000/auxip/search'\n{\n  \"query\": {\n    \"platform\": {\n      \"eq\": \"sentinel-1a\"\n    },\n    \"constellation\": {\n      \"eq\": \"sentinel-1\"\n    }\n  },\n  \"ids\": [\n    \"S1A_OPER_MPL_ORBSCT_20240514T150704_99999999T999999_0025.EOF\"\n  ]\n}\nError(s):\n  - Status code: 503\n{\"detail\":\"General failure: ('Skipping error while searching for adgs ODataV4Search instance', \\\"500 Server Error: INTERNAL SERVER ERROR for url: http://adgs-station:5000/Products?$filter=contains(Name, 'S1A_OPER_MPL_ORBSCT_20240514T150704_99999999T999999_0025.EOF') and Attributes/OData.CSC.StringAttribute/any(att:att/Name eq 'productType' and att/OData.CSC.StringAttribute/Value eq 'AUX_PP2') and Attributes/OData.CSC.StringAttribute/any(att:att/Name eq 'platformShortName' and att/OData.CSC.StringAttribute/Value eq 'sentinel-1')&$orderby=PublicationDate desc&$top=10000&$skip=0&$expand=Attributes\\\")\"}\n\nPOST 'http://rs-server-adgs:8000/auxip/search'\n{\n  \"query\": {\n    \"platform\": {\n      \"eq\": \"sentinel-1a\"\n    },\n    \"product:type\": {\n      \"eq\": \"OPER_MPL_ORBSCT\"\n    }\n  },\n  \"ids\": [\n    \"S1A_OPER_MPL_ORBSCT_20240514T150704_99999999T999999_0025.EOF\"\n  ]\n}\nError(s):\n  - Status code: 503\n{\"detail\":\"General failure: ('Skipping error while searching for adgs ODataV4Search instance', \\\"500 Server Error: INTERNAL SERVER ERROR for url: http://adgs-station:5000/Products?$filter=contains(Name, 'S1A_OPER_MPL_ORBSCT_20240514T150704_99999999T999999_0025.EOF') and Attributes/OData.CSC.StringAttribute/any(att:att/Name eq 'productType' and att/OData.CSC.StringAttribute/Value eq 'AUX_PP2') and Attributes/OData.CSC.StringAttribute/any(att:att/Name eq 'platformSerialIdentifier' and att/OData.CSC.StringAttribute/Value eq 'A') and Attributes/OData.CSC.StringAttribute/any(att:att/Name eq 'platformShortName' and att/OData.CSC.StringAttribute/Value eq 'sentinel-1')&$orderby=PublicationDate desc&$top=10000&$skip=0&$expand=Attributes\\\")\"}\n\nPOST 'http://rs-server-adgs:8000/auxip/search'\n{\n  \"query\": {\n    \"constellation\": {\n      \"eq\": \"sentinel-1\"\n    },\n    \"product:type\": {\n      \"eq\": \"OPER_MPL_ORBSCT\"\n    }\n  },\n  \"ids\": [\n    \"S1A_OPER_MPL_ORBSCT_20240514T150704_99999999T999999_0025.EOF\"\n  ]\n}\nError(s):\n  - Status code: 503\n{\"detail\":\"General failure: ('Skipping error while searching for adgs ODataV4Search instance', \\\"500 Server Error: INTERNAL SERVER ERROR for url: http://adgs-station:5000/Products?$filter=contains(Name, 'S1A_OPER_MPL_ORBSCT_20240514T150704_99999999T999999_0025.EOF') and Attributes/OData.CSC.StringAttribute/any(att:att/Name eq 'productType' and att/OData.CSC.StringAttribute/Value eq 'AUX_PP2') and Attributes/OData.CSC.StringAttribute/any(att:att/Name eq 'platformShortName' and att/OData.CSC.StringAttribute/Value eq 'sentinel-1')&$orderby=PublicationDate desc&$top=10000&$skip=0&$expand=Attributes\\\")\"}\n\nPOST 'http://rs-server-adgs:8000/auxip/search'\n{\n  \"query\": {\n    \"platform\": {\n      \"eq\": \"sentinel-1a\"\n    },\n    \"constellation\": {\n      \"eq\": \"sentinel-1\"\n    }\n  },\n  \"datetime\": \"2024-05-13T23:59:59Z/2024-05-14T00:00:01Z\"\n}\nError(s):\n  - Status code: 503\n{\"detail\":\"General failure: ('Skipping error while searching for adgs ODataV4Search instance', \\\"500 Server Error: INTERNAL SERVER ERROR for url: http://adgs-station:5000/Products?$filter=PublicationDate gt 2024-05-13T23:59:59.000Z and PublicationDate lt 2024-05-14T00:00:01.000Z and Attributes/OData.CSC.StringAttribute/any(att:att/Name eq 'productType' and att/OData.CSC.StringAttribute/Value eq 'AUX_PP2') and Attributes/OData.CSC.StringAttribute/any(att:att/Name eq 'platformShortName' and att/OData.CSC.StringAttribute/Value eq 'sentinel-1')&$orderby=PublicationDate desc&$top=10000&$skip=0&$expand=Attributes\\\")\"}\n\nPOST 'http://rs-server-adgs:8000/auxip/search'\n{\n  \"query\": {\n    \"platform\": {\n      \"eq\": \"sentinel-1a\"\n    },\n    \"product:type\": {\n      \"eq\": \"OPER_MPL_ORBSCT\"\n    }\n  },\n  \"datetime\": \"2024-05-13T23:59:59Z/2024-05-14T00:00:01Z\"\n}\nError(s):\n  - Status code: 503\n{\"detail\":\"General failure: ('Skipping error while searching for adgs ODataV4Search instance', \\\"500 Server Error: INTERNAL SERVER ERROR for url: http://adgs-station:5000/Products?$filter=PublicationDate gt 2024-05-13T23:59:59.000Z and PublicationDate lt 2024-05-14T00:00:01.000Z and Attributes/OData.CSC.StringAttribute/any(att:att/Name eq 'productType' and att/OData.CSC.StringAttribute/Value eq 'AUX_PP2') and Attributes/OData.CSC.StringAttribute/any(att:att/Name eq 'platformSerialIdentifier' and att/OData.CSC.StringAttribute/Value eq 'A') and Attributes/OData.CSC.StringAttribute/any(att:att/Name eq 'platformShortName' and att/OData.CSC.StringAttribute/Value eq 'sentinel-1')&$orderby=PublicationDate desc&$top=10000&$skip=0&$expand=Attributes\\\")\"}\n\nPOST 'http://rs-server-adgs:8000/auxip/search'\n{\n  \"query\": {\n    \"constellation\": {\n      \"eq\": \"sentinel-1\"\n    },\n    \"product:type\": {\n      \"eq\": \"OPER_MPL_ORBSCT\"\n    }\n  },\n  \"datetime\": \"2024-05-13T23:59:59Z/2024-05-14T00:00:01Z\"\n}\nError(s):\n  - Status code: 503\n{\"detail\":\"General failure: ('Skipping error while searching for adgs ODataV4Search instance', \\\"500 Server Error: INTERNAL SERVER ERROR for url: http://adgs-station:5000/Products?$filter=PublicationDate gt 2024-05-13T23:59:59.000Z and PublicationDate lt 2024-05-14T00:00:01.000Z and Attributes/OData.CSC.StringAttribute/any(att:att/Name eq 'productType' and att/OData.CSC.StringAttribute/Value eq 'AUX_PP2') and Attributes/OData.CSC.StringAttribute/any(att:att/Name eq 'platformShortName' and att/OData.CSC.StringAttribute/Value eq 'sentinel-1')&$orderby=PublicationDate desc&$top=10000&$skip=0&$expand=Attributes\\\")\"}\n\nPOST 'http://rs-server-adgs:8000/auxip/search'\n{\n  \"query\": {\n    \"platform\": {\n      \"eq\": \"sentinel-1a\"\n    },\n    \"constellation\": {\n      \"eq\": \"sentinel-1\"\n    },\n    \"product:type\": {\n      \"eq\": \"OPER_MPL_ORBSCT\"\n    }\n  }\n}\nError(s):\n  - Status code: 503\n{\"detail\":\"General failure: ('Skipping error while searching for adgs ODataV4Search instance', \\\"400 Client Error: BAD REQUEST for url: http://adgs-station:5000/Products?$filter=Attributes/OData.CSC.StringAttribute/any(att:att/Name eq 'productType' and att/OData.CSC.StringAttribute/Value eq 'AUX_PP2') and Attributes/OData.CSC.StringAttribute/any(att:att/Name eq 'platformShortName' and att/OData.CSC.StringAttribute/Value eq 'sentinel-1')&$orderby=PublicationDate desc&$top=10000&$skip=0&$expand=Attributes\\\")\"}\n\nPOST 'http://rs-server-adgs:8000/auxip/search'\n{\n  \"query\": {\n    \"platform\": {\n      \"eq\": \"sentinel-1a\"\n    },\n    \"constellation\": {\n      \"eq\": \"sentinel-1\"\n    },\n    \"product:type\": {\n      \"eq\": \"OPER_MPL_ORBSCT\"\n    }\n  },\n  \"ids\": [\n    \"S1A_OPER_MPL_ORBSCT_20240514T150704_99999999T999999_0025.EOF\"\n  ]\n}\nError(s):\n  - Status code: 503\n{\"detail\":\"General failure: ('Skipping error while searching for adgs ODataV4Search instance', \\\"500 Server Error: INTERNAL SERVER ERROR for url: http://adgs-station:5000/Products?$filter=contains(Name, 'S1A_OPER_MPL_ORBSCT_20240514T150704_99999999T999999_0025.EOF') and Attributes/OData.CSC.StringAttribute/any(att:att/Name eq 'productType' and att/OData.CSC.StringAttribute/Value eq 'AUX_PP2') and Attributes/OData.CSC.StringAttribute/any(att:att/Name eq 'platformShortName' and att/OData.CSC.StringAttribute/Value eq 'sentinel-1')&$orderby=PublicationDate desc&$top=10000&$skip=0&$expand=Attributes\\\")\"}\n\nPOST 'http://rs-server-adgs:8000/auxip/search'\n{\n  \"query\": {\n    \"platform\": {\n      \"eq\": \"sentinel-1a\"\n    },\n    \"constellation\": {\n      \"eq\": \"sentinel-1\"\n    },\n    \"product:type\": {\n      \"eq\": \"OPER_MPL_ORBSCT\"\n    }\n  },\n  \"datetime\": \"2024-05-13T23:59:59Z/2024-05-14T00:00:01Z\"\n}\nError(s):\n  - Status code: 503\n{\"detail\":\"General failure: ('Skipping error while searching for adgs ODataV4Search instance', \\\"500 Server Error: INTERNAL SERVER ERROR for url: http://adgs-station:5000/Products?$filter=PublicationDate gt 2024-05-13T23:59:59.000Z and PublicationDate lt 2024-05-14T00:00:01.000Z and Attributes/OData.CSC.StringAttribute/any(att:att/Name eq 'productType' and att/OData.CSC.StringAttribute/Value eq 'AUX_PP2') and Attributes/OData.CSC.StringAttribute/any(att:att/Name eq 'platformShortName' and att/OData.CSC.StringAttribute/Value eq 'sentinel-1')&$orderby=PublicationDate desc&$top=10000&$skip=0&$expand=Attributes\\\")\"}\n\nPOST 'http://rs-server-cadip:8000/cadip/search'\n{\n  \"query\": {},\n  \"ids\": [\n    \"S2B_20231117033237234567\"\n  ]\n}\nError(s):\n  - Status code: 503\n{\"detail\":\"General failure: ('Skipping error while searching for sgs_session ODataV4Search instance', \\\"404 Client Error: NOT FOUND for url: http://cadip-station:5000/Sessions?$filter=SessionId eq 'S2B_20231117033237234567' and Satellite in ('S3A', 'S3B')&$orderby=PublicationDate desc&$top=10000&$skip=0\\\")\"}\n\nPOST 'http://rs-server-cadip:8000/cadip/search'\n{\n  \"query\": {},\n  \"datetime\": \"2023-11-17T06:15:36Z/2023-11-17T06:15:38Z\"\n}\nError(s):\n  - Status code: 503\n{\"detail\":\"General failure: ('Skipping error while searching for sgs_session ODataV4Search instance', \\\"404 Client Error: NOT FOUND for url: http://cadip-station:5000/Sessions?$filter=Satellite in ('S3A', 'S3B') and PublicationDate gt 2023-11-17T06:15:36.000Z and PublicationDate lt 2023-11-17T06:15:38.000Z&$orderby=PublicationDate desc&$top=10000&$skip=0\\\")\"}\n\nPOST 'http://rs-server-cadip:8000/cadip/search'\n{\n  \"query\": {\n    \"platform\": {\n      \"eq\": \"sentinel-2b\"\n    }\n  }\n}\nError(s):\n  - Wrong platform: 'sentinel-1a', expected: 'sentinel-2b'\n\nPOST 'http://rs-server-cadip:8000/cadip/search'\n{\n  \"query\": {\n    \"platform\": {\n      \"eq\": \"sentinel-2b\"\n    }\n  },\n  \"ids\": [\n    \"S2B_20231117033237234567\"\n  ]\n}\nError(s):\n  - Status code: 503\n{\"detail\":\"General failure: ('Skipping error while searching for sgs_session ODataV4Search instance', \\\"404 Client Error: NOT FOUND for url: http://cadip-station:5000/Sessions?$filter=SessionId eq 'S2B_20231117033237234567' and Satellite in ('S3A', 'S3B')&$orderby=PublicationDate desc&$top=10000&$skip=0\\\")\"}\n\nPOST 'http://rs-server-cadip:8000/cadip/search'\n{\n  \"query\": {\n    \"platform\": {\n      \"eq\": \"sentinel-2b\"\n    }\n  },\n  \"datetime\": \"2023-11-17T06:15:36Z/2023-11-17T06:15:38Z\"\n}\nError(s):\n  - Status code: 503\n{\"detail\":\"General failure: ('Skipping error while searching for sgs_session ODataV4Search instance', \\\"404 Client Error: NOT FOUND for url: http://cadip-station:5000/Sessions?$filter=Satellite in ('S3A', 'S3B') and PublicationDate gt 2023-11-17T06:15:36.000Z and PublicationDate lt 2023-11-17T06:15:38.000Z&$orderby=PublicationDate desc&$top=10000&$skip=0\\\")\"}\n\nPOST 'http://rs-server-cadip:8000/cadip/search'\n{\n  \"query\": {\n    \"platform\": {\n      \"eq\": \"sentinel-2b\"\n    }\n  },\n  \"ids\": [\n    \"S2B_20231117033237234567\"\n  ],\n  \"datetime\": \"2023-11-17T06:15:36Z/2023-11-17T06:15:38Z\"\n}\nError(s):\n  - No features returned\n\n## Error message finish ##\n"
     ]
    }
   ],
   "source": [
    "#############\n",
    "# Main code #\n",
    "#############\n",
    "\n",
    "for service in \"auxip\", \"cadip\":\n",
    "\n",
    "    # For better readability\n",
    "    auxip = service == \"auxip\"\n",
    "    cadip = service == \"cadip\"\n",
    "\n",
    "    # Init\n",
    "    if auxip:\n",
    "        endpoint = f\"{auxip_client.href_adgs}/auxip/search\"\n",
    "        collections = adgs_collections\n",
    "    elif cadip:\n",
    "        endpoint = f\"{cadip_client.href_cadip}/cadip/search\"\n",
    "        collections = cadip_collections\n",
    "\n",
    "    # Get all auxip products or cadip sessions\n",
    "    features = search_and_check(endpoint, pagination={\"limit\": 10000})\n",
    "\n",
    "    # We take any existing feature returned by the stations, filter on its properties,\n",
    "    # and check that the filter was applied.\n",
    "    feature = features[1]\n",
    "\n",
    "    # All properties on which we can filter\n",
    "    properties = [\"id\", \"datetime\", \"platform\"]\n",
    "    if auxip:\n",
    "        properties += [\"constellation\", \"product:type\"]\n",
    "\n",
    "    # Test all combinations of n properties\n",
    "    for length in range(1, len(properties) + 1):\n",
    "        for search_properties in itertools.combinations(properties, length):\n",
    "            search_and_check(endpoint, feature, search_properties)\n",
    "\n",
    "if errors:\n",
    "    message = \"\\n## Error message start ##\\n\"\n",
    "    for error in errors:\n",
    "        message += str(error)\n",
    "    message += \"\\n## Error message finish ##\\n\"\n",
    "    raise RuntimeError(message)"
   ]
  },
  {
   "cell_type": "code",
   "execution_count": null,
   "id": "a862c143-8e67-47ad-9fe8-700fcef9383e",
   "metadata": {},
   "outputs": [],
   "source": []
  }
 ],
 "metadata": {
  "kernelspec": {
   "display_name": "Python 3 (ipykernel)",
   "language": "python",
   "name": "python3"
  },
  "language_info": {
   "codemirror_mode": {
    "name": "ipython",
    "version": 3
   },
   "file_extension": ".py",
   "mimetype": "text/x-python",
   "name": "python",
   "nbconvert_exporter": "python",
   "pygments_lexer": "ipython3",
   "version": "3.11.6"
  }
 },
 "nbformat": 4,
 "nbformat_minor": 5
}

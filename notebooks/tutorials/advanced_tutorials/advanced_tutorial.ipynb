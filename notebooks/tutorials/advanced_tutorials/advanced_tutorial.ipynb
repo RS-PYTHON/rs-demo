{
 "cells": [
  {
   "cell_type": "markdown",
   "id": "64975ae9-24dc-4bf0-8e56-bb516a3af7ad",
   "metadata": {},
   "source": [
    "<div class=\"alert alert-info\" role=\"alert\">\n",
    "\n",
    "## Check your installation\n",
    "\n",
    "In this section, we will check that your Jupyter Notebook environment is correctly set.\n",
    "\n",
    "[Back to top](#Contents)\n",
    "\n",
    "</div>"
   ]
  },
  {
   "cell_type": "markdown",
   "id": "b19e8c96-d446-4f5e-a25b-070f2bc48852",
   "metadata": {},
   "source": [
    "### `rs-client-libraries` installation\n",
    "\n",
    "The `rs-client-libraries` Python library is the preferred way to access the RS-Server services from your environment. It is automatically installed in this notebook.\n",
    "\n",
    "**Note**: don't worry about these OpenTelemetry messages for now, they will be fixed in a later version:\n",
    "```\n",
    "Overriding of current TracerProvider is not allowed\n",
    "Attempting to instrument while already instrumented\n",
    "Transient error StatusCode.UNAVAILABLE encountered while exporting metrics to ..., retrying in ...s\n",
    "Failed to export metrics to ..., error code: StatusCode.UNIMPLEMENTED\n",
    "```"
   ]
  },
  {
   "cell_type": "code",
   "execution_count": null,
   "id": "ca4100d2-8062-451a-b864-35e5afe70cee",
   "metadata": {},
   "outputs": [],
   "source": [
    "import rs_client\n",
    "import rs_common\n",
    "\n",
    "# Set logger level to info\n",
    "import logging\n",
    "rs_common.logging.Logging.level = logging.INFO"
   ]
  },
  {
   "cell_type": "markdown",
   "id": "55639d17-8e92-4eb9-b749-69f4d06c430c",
   "metadata": {},
   "source": [
    "### Environment"
   ]
  },
  {
   "cell_type": "code",
   "execution_count": null,
   "id": "66d9f4e9-3385-4cad-a561-704cac4a9c5a",
   "metadata": {},
   "outputs": [],
   "source": [
    "import os\n",
    "\n",
    "# In local mode, all your services are running locally.\n",
    "# In hybrid or cluster mode, we use the services deployed on the RS-Server website.\n",
    "# This configuration is set in an environment variable.\n",
    "local_mode = (os.getenv(\"RSPY_LOCAL_MODE\") == \"1\")\n",
    "\n",
    "# In local mode, the service URLs are hardcoded in the docker-compose file\n",
    "if local_mode:\n",
    "    rs_server_href = None # not used\n",
    "    RSPY_HOST_AUXIP = \"http://localhost:8001/docs\"\n",
    "    RSPY_HOST_CADIP = \"http://localhost:8002/docs\"\n",
    "    RSPY_HOST_CATALOG = \"http://localhost:8003/catalog/api.html\"\n",
    "\n",
    "# In hybrid or cluster mode, they are set in an environment variables\n",
    "else:\n",
    "    rs_server_href = os.environ[\"RSPY_WEBSITE\"]"
   ]
  },
  {
   "cell_type": "markdown",
   "id": "4ed78598-5503-40b4-b08f-762aa874ee58",
   "metadata": {},
   "source": [
    "<div class=\"alert alert-info\" role=\"alert\">\n",
    "\n",
    "## RsClient initialisation\n",
    "\n",
    "Initialise Python RsClient class instances to access the RS-Server services.\n",
    "\n",
    "[Back to top](#Contents)\n",
    "\n",
    "</div>"
   ]
  },
  {
   "cell_type": "code",
   "execution_count": null,
   "id": "f9c85d36-c11e-4f4d-8d27-48d1b698d74e",
   "metadata": {},
   "outputs": [],
   "source": [
    "import json\n",
    "from rs_client.rs_client import RsClient\n",
    "from rs_common.config import ECadipStation\n",
    "\n",
    "# Init a generic RS-Client instance. Pass the:\n",
    "#   - RS-Server website URL\n",
    "#   - API key\n",
    "#   - ID of the owner of the STAC catalog collections.\n",
    "#     By default, this is the user login from the keycloak account, associated to the API key.\n",
    "#     Or, in local mode, this is the local system username.\n",
    "#     Else, your API Key must give you the rights to read/write on this catalog owner (see next cell).\n",
    "#   - Logger (optional, a default one can be used)\n",
    "generic_client = RsClient(rs_server_href, rs_server_api_key=None, owner_id=None, logger=None)\n",
    "print(f\"STAC catalog owner: {generic_client.owner_id!r}\")\n",
    "\n",
    "# From this generic instance, get an Auxip client instance\n",
    "auxip_client = generic_client.get_auxip_client()\n",
    "\n",
    "# Or get a Cadip client instance. Pass the cadip station.\n",
    "cadip_station = ECadipStation.CADIP # you can also have: INS, MPS, MTI, NSG, SGS\n",
    "cadip_client = generic_client.get_cadip_client(cadip_station)\n",
    "\n",
    "# Or get a Stac client to access the catalog\n",
    "stac_client = generic_client.get_stac_client()\n",
    "\n",
    "print(\"\\nDisplay the Stac catalog as a treeview in notebook:\")\n",
    "display(stac_client)\n",
    "\n",
    "print(\"\\nOr just display all its contents at once:\")\n",
    "print(json.dumps(stac_client.to_dict(), indent=2))"
   ]
  },
  {
   "cell_type": "markdown",
   "id": "8587619e-acc0-49c1-99c9-f10706067010",
   "metadata": {},
   "source": [
    "**Note**: nothing more is done in this tutorial for now"
   ]
  },
  {
   "cell_type": "code",
   "execution_count": null,
   "id": "62d703ba-e121-48aa-86e0-884cd9d6a659",
   "metadata": {},
   "outputs": [],
   "source": []
  }
 ],
 "metadata": {
  "kernelspec": {
   "display_name": "Python 3 (ipykernel)",
   "language": "python",
   "name": "python3"
  },
  "language_info": {
   "codemirror_mode": {
    "name": "ipython",
    "version": 3
   },
   "file_extension": ".py",
   "mimetype": "text/x-python",
   "name": "python",
   "nbconvert_exporter": "python",
   "pygments_lexer": "ipython3",
   "version": "3.11"
  }
 },
 "nbformat": 4,
 "nbformat_minor": 5
}

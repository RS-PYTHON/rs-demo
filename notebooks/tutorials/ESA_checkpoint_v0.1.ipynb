{
 "cells": [
  {
   "cell_type": "markdown",
   "id": "29bf9681-d649-4b33-8c79-021e39e4dd1b",
   "metadata": {},
   "source": [
    "# Introduction\n",
    "\n",
    "In this notebook we will see how to stage files, save them in the catalog, do it from a Prefect flow, run a simulated S1L0 processing from a Prefect flow  ... \n",
    "<mark>TODO: link to existing documentation that already explains these concepts ? Or copy/paste the documentation here ? \n",
    "Or write a simplified documentation here ?</mark>"
   ]
  },
  {
   "cell_type": "markdown",
   "id": "daf81275-831c-48e8-bca0-1086434dcbc4",
   "metadata": {},
   "source": [
    "# Check your installation"
   ]
  },
  {
   "cell_type": "markdown",
   "id": "1d069303-fd50-49ea-9c47-9d23749806bd",
   "metadata": {},
   "source": [
    "## `rs-client-libraries` installation\n",
    "\n",
    "The `rs-client-libraries` Python library is the preferred way to access the RS-Server services from your environment. It is automatically installed in this notebook."
   ]
  },
  {
   "cell_type": "code",
   "execution_count": null,
   "id": "69708f8f-84ca-45fc-9379-313f193c44ca",
   "metadata": {},
   "outputs": [],
   "source": [
    "import rs_client\n",
    "import rs_common\n",
    "import rs_workflows"
   ]
  },
  {
   "cell_type": "markdown",
   "id": "7ffce11f-fcf3-4514-a425-5ae2ecfca3b1",
   "metadata": {},
   "source": [
    "## Environment"
   ]
  },
  {
   "cell_type": "code",
   "execution_count": null,
   "id": "656cc16b-3dff-4909-9f72-2fb40834b72d",
   "metadata": {},
   "outputs": [],
   "source": [
    "import os\n",
    "\n",
    "# In local mode, all your services are running locally.\n",
    "# In hybrid or cluster mode, we use the services deployed on the RS-Server website.\n",
    "# This configuration is set in an environment variable.\n",
    "local_mode = (os.getenv(\"RSPY_LOCAL_MODE\") == \"1\")\n",
    "\n",
    "# In local mode, print the services URL\n",
    "if local_mode:\n",
    "    print (f\"ADGS service: http://localhost:8001/docs\")\n",
    "    print (f\"CADIP service: http://localhost:8002/docs\")\n",
    "    print (f\"Catalog service: http://localhost:8003/api.html\")\n",
    "    print (f\"Prefect dashboard: http://localhost:4200\")\n",
    "    print (f\"Grafana dashboard: http://localhost:3000/explore\")\n",
    "    url = None # not used\n",
    "\n",
    "# In hybrid or cluster mode, the RS-Server website is set in an environment variable.\n",
    "else:\n",
    "    url = os.environ[\"RSPY_WEBSITE\"]\n",
    "    print (f\"RS-Server website: {url}\")\n",
    "    print (f\"Create an API key: {url}/docs#/API-Key%20Manager/create_api_key_apikeymanager_auth_api_key_new_get\")"
   ]
  },
  {
   "cell_type": "markdown",
   "id": "fc9dd47a-36d5-405c-b993-5b21c1c6446f",
   "metadata": {},
   "source": [
    "---\n",
    "**<mark>TO BE DISCUSSED</mark>**\n",
    "\n",
    "In local mode, is it a good advice to tell the end-users to go to the Prefect and Grafana dashboard ? Should we also give the links to the Minio S3 bucket ?\n",
    "\n",
    "Same question in hybrid/cluster mode, should we give these links and how to pass them ? (env variables ?)\n",
    "\n",
    "---"
   ]
  },
  {
   "cell_type": "markdown",
   "id": "5a23fe1d-8b50-488a-97d9-89af32a66ef5",
   "metadata": {},
   "source": [
    "## API key\n",
    "\n",
    "In hybrid and cluster mode, you need an API key to access the RS-Server services. You can create one from the link displayed in the previous cell, then enter it manually in the cell below. \n",
    "\n",
    "If you prefer to load it automatically in all your notebooks, you can: \n",
    "\n",
    "  * From your JupyterHub workspace, open the text file `~/.rspy` <mark>(TODO: name to be defined)</mark>\n",
    "  * Save your API key using this syntax:\n",
    "\n",
    "    ```bash\n",
    "    export RSPY_APIKEY=xxxxxxxx-xxxx-xxxx-xxxx-xxxxxxxxxxxx # replace by your value\n",
    "    ```\n",
    "\n",
    "  * Save and close the file.\n",
    "  * <mark>TO BE CONFIRMED: Reload your JupyterHub session from Menu -> File -> Log Out / or just</mark>\n",
    "  * <mark>Reload this notebook kernel from Menu -> Kernel -> Restart Kernel.</mark>"
   ]
  },
  {
   "cell_type": "code",
   "execution_count": null,
   "id": "5e32c2ed-f3ad-4adc-9642-bbbfe6985f24",
   "metadata": {},
   "outputs": [],
   "source": [
    "apikey = os.getenv(\"RSPY_APIKEY\")\n",
    "if (not local_mode) and (not apikey):\n",
    "    import getpass\n",
    "    apikey = getpass.getpass(f\"Enter your API key:\")"
   ]
  },
  {
   "cell_type": "markdown",
   "id": "6862e220-e83a-4a9f-aa37-d384347ced05",
   "metadata": {},
   "source": [
    "# RsClient initialisation\n",
    "\n",
    "We are using Python RsClient instances to access the RS-Server services."
   ]
  },
  {
   "cell_type": "code",
   "execution_count": null,
   "id": "4e1ca29b-1292-498b-94de-9191fc9458b7",
   "metadata": {},
   "outputs": [],
   "source": [
    "from rs_client.rs_client import RsClient\n",
    "from rs_common.config import ECadipStation\n",
    "\n",
    "# Init a generic RS-Client instance. Pass the:\n",
    "#   - RS-Server website URL\n",
    "#   - API key\n",
    "#   - Logger (optional, a default one can be used)\n",
    "generic_client = RsClient(url, apikey, logger=None)\n",
    "\n",
    "# From this generic instance, get an Auxip client instance\n",
    "auxip_client = generic_client.get_auxip_client()\n",
    "\n",
    "# Or get a Cadip client instance. Pass the cadip station.\n",
    "cadip_station = ECadipStation.CADIP\n",
    "cadip_client = generic_client.get_cadip_client(cadip_station)"
   ]
  },
  {
   "cell_type": "markdown",
   "id": "8074e987-dda7-463c-9bd8-26e150cd870f",
   "metadata": {},
   "source": [
    "# Call services manually\n",
    "\n",
    "In this section, we will see how to call manually these services: \n",
    "\n",
    "  * Search Auxip and Cadip stations for new files\n",
    "  * Stage these files\n",
    "  * Check the staging status\n",
    "  * Search Cadip sessions"
   ]
  },
  {
   "cell_type": "code",
   "execution_count": null,
   "id": "f068b294-713f-4b25-b6b2-1b7db9a9c77b",
   "metadata": {},
   "outputs": [],
   "source": [
    "from datetime import datetime\n",
    "import json\n",
    "\n",
    "from rs_common.config import EPlatform\n",
    "\n",
    "# Define a search interval\n",
    "start_date = datetime(2014, 1, 1, 12, 0, 0)\n",
    "stop_date = datetime(2024, 1, 1, 12, 0, 0)\n",
    "\n",
    "# Timeout in seconds for the endpoints\n",
    "TIMEOUT = 30"
   ]
  },
  {
   "cell_type": "markdown",
   "id": "8d5f05d1-1c37-4abd-acd2-118490c25bd9",
   "metadata": {},
   "source": [
    "## Search Auxip and Cadip stations"
   ]
  },
  {
   "cell_type": "code",
   "execution_count": null,
   "id": "4a113ddc-b3b1-4b35-98ab-86e586f9cac9",
   "metadata": {},
   "outputs": [],
   "source": [
    "# Do this using the Auxip then the Cadip client\n",
    "for client in [auxip_client, cadip_client]:\n",
    "\n",
    "    # Search stations for new files in the date interval.\n",
    "    files = client.search_stations(start_date, stop_date, TIMEOUT)\n",
    "    \n",
    "    file_count = len(files)\n",
    "    assert file_count, f\"We should have at least one {client.station_name} file\"\n",
    "    print (f\"Found {file_count} {client.station_name} files\\n\")\n",
    "\n",
    "    # Print the first file. It is in the STAC format.\n",
    "    print(f\"First {client.station_name} file:\\n{json.dumps(files[0], indent=2)}\\n\")\n",
    "\n",
    "    # By default, the files are returned sorted by the most recent first.    \n",
    "    ids=\"\\n\".join([f\"{f['properties']['datetime']} - {f['id']}\" for f in files[:10]])\n",
    "    print(f\"Most recent {client.station_name} IDs and datetimes:\\n{ids}\\n\")"
   ]
  },
  {
   "cell_type": "code",
   "execution_count": null,
   "id": "bd078a49-5768-4291-99cb-1885de815391",
   "metadata": {},
   "outputs": [],
   "source": [
    "# We can sort by +/- any property, e.g. by datetime ascending = the oldest first.\n",
    "for client in [auxip_client, cadip_client]:    \n",
    "    files = client.search_stations(start_date, stop_date, TIMEOUT, sortby=\"+datetime\")\n",
    "    ids=\"\\n\".join([f\"{f['properties']['datetime']} - {f['id']}\" for f in files[:10]])\n",
    "    print(f\"Oldest {client.station_name} IDs and datetimes:\\n{ids}\\n\")"
   ]
  },
  {
   "cell_type": "code",
   "execution_count": null,
   "id": "6eb9238c-13fe-4116-b87e-513903a18813",
   "metadata": {},
   "outputs": [],
   "source": [
    "# We can also limit the number of returned results\n",
    "limit = 10\n",
    "for client in [auxip_client, cadip_client]:\n",
    "    files = client.search_stations(start_date, stop_date, TIMEOUT, limit=limit)\n",
    "    assert len(files) == limit    "
   ]
  },
  {
   "cell_type": "markdown",
   "id": "983961bd-610d-4063-b2fa-ad9a3e293e97",
   "metadata": {},
   "source": [
    "## Search Cadip sessions"
   ]
  },
  {
   "cell_type": "code",
   "execution_count": null,
   "id": "81869f26-c21e-4359-a959-29534798e263",
   "metadata": {},
   "outputs": [],
   "source": [
    "# Search cadip sessions by date interval and platforms\n",
    "platforms = [EPlatform.S1A, EPlatform.S2B]\n",
    "sessions = cadip_client.search_sessions(TIMEOUT, start_date=start_date, stop_date=stop_date, platforms=platforms)\n",
    "\n",
    "session_count = len(sessions)\n",
    "assert session_count, \"We should have at least one Cadip session\"\n",
    "print (f\"Found {session_count} Cadip sessions\")"
   ]
  },
  {
   "cell_type": "code",
   "execution_count": null,
   "id": "45253518-999f-4f2e-8759-d9a7f39a71cd",
   "metadata": {},
   "outputs": [],
   "source": [
    "# Print the first cadip session. It is in the STAC format.\n",
    "print(f\"First Cadip session:\\n{json.dumps(sessions[0], indent=2)}\\n\")"
   ]
  },
  {
   "cell_type": "code",
   "execution_count": null,
   "id": "7c6c7920-3942-4156-88a3-f503ddf7230d",
   "metadata": {},
   "outputs": [],
   "source": [
    "# Print all the Cadip sessions ID\n",
    "ids=\"\\n\".join([s[\"id\"] for s in sessions])\n",
    "print(f\"Cadip sessions ID:\\n{ids}\")"
   ]
  },
  {
   "cell_type": "code",
   "execution_count": null,
   "id": "a711fe8e-0cb6-4e9a-b0bd-42f76c97c5ad",
   "metadata": {},
   "outputs": [],
   "source": [
    "# We can also search Cadip sessions by specific sessions ID, \n",
    "# rather than by date interval and platforms\n",
    "# e.g. get information for the cadip sessions #2 and #3\n",
    "search_ids=ids[1:3]\n",
    "search_sessions = cadip_client.search_sessions(TIMEOUT, session_ids=search_ids)\n",
    "print(f\"Cadip sessions information:\\n{json.dumps(search_sessions, indent=2)}\\n\")"
   ]
  },
  {
   "cell_type": "code",
   "execution_count": null,
   "id": "d24bb318-c25c-4f9f-b236-88edbbf19c59",
   "metadata": {},
   "outputs": [],
   "source": []
  }
 ],
 "metadata": {
  "kernelspec": {
   "display_name": "Python 3 (ipykernel)",
   "language": "python",
   "name": "python3"
  },
  "language_info": {
   "codemirror_mode": {
    "name": "ipython",
    "version": 3
   },
   "file_extension": ".py",
   "mimetype": "text/x-python",
   "name": "python",
   "nbconvert_exporter": "python",
   "pygments_lexer": "ipython3",
   "version": "3.11.6"
  }
 },
 "nbformat": 4,
 "nbformat_minor": 5
}

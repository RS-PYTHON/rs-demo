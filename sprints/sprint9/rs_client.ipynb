{
 "cells": [
  {
   "cell_type": "markdown",
   "id": "200c3c67-263d-417b-8005-414d0452a503",
   "metadata": {},
   "source": [
    "# RS-Client\n",
    "\n",
    "In this demo we will see how to use the RS-Client Python library to call RS-Server."
   ]
  },
  {
   "cell_type": "markdown",
   "id": "6bdc9d9e-8237-4fec-a541-8f07c85cc927",
   "metadata": {},
   "source": [
    "## Configuration"
   ]
  },
  {
   "cell_type": "code",
   "execution_count": null,
   "id": "73053192-cf77-46fb-b2bb-2be2868a2d6b",
   "metadata": {},
   "outputs": [],
   "source": [
    "import getpass\n",
    "import os\n",
    "\n",
    "# Get the RS-Server website URL. \n",
    "# Note: this is None in local mode, we rather use the env vars RSPY_HOST_CADIP, RSPY_HOST_CATALOG, ...\n",
    "url = os.getenv(\"RSPY_WEBSITE\")\n",
    "\n",
    "# Local mode or hybrid/cluster\n",
    "local_mode = (os.getenv(\"RSPY_LOCAL_MODE\") == \"1\")\n",
    "\n",
    "# In hybrid/cluster mode: read the API key\n",
    "apikey = os.getenv(\"RSPY_APIKEY\")\n",
    "if (not local_mode) and (not apikey):\n",
    "    apikey = getpass.getpass(f\"Enter your API key from {url!r}:\")"
   ]
  },
  {
   "cell_type": "code",
   "execution_count": null,
   "id": "dadc2e0e-8397-473b-8172-6f3ddb60088c",
   "metadata": {},
   "outputs": [],
   "source": [
    "# In local mode, install rs-client if missing\n",
    "if local_mode:\n",
    "    try:\n",
    "        import rs_client\n",
    "    except ModuleNotFoundError:\n",
    "        !(cd $RSPY_WHL_DIR && pip install rs_client_libraries-*.whl)\n",
    "        !opentelemetry-bootstrap -a install # install opentelemetry instrumentation for deps"
   ]
  },
  {
   "cell_type": "markdown",
   "id": "c44c18f9-ba1e-4848-b1ce-34ec80671677",
   "metadata": {},
   "source": [
    "## Initialisation"
   ]
  },
  {
   "cell_type": "code",
   "execution_count": null,
   "id": "12b4ee28-d4b3-4241-aa82-33772636d9a6",
   "metadata": {},
   "outputs": [],
   "source": [
    "from rs_client.rs_client import RsClient\n",
    "from rs_common.config import ECadipStation, EPlatform\n",
    "\n",
    "# Define the owner/user ID to read/write catalog collections.\n",
    "# Your API key must give you the read/write permissions for this owner ID.\n",
    "owner_id = \"DemoUser\"\n",
    "\n",
    "# Init a generic RS-Client instance. Pass the:\n",
    "#   - RS-Server website URL\n",
    "#   - API key\n",
    "#   - Owner ID\n",
    "#   - Logger (optional, a default one can be used)\n",
    "generic_client = RsClient(url, apikey, owner_id, logger=None)\n",
    "\n",
    "# From this generic instance, get an Auxip client instance\n",
    "auxip_client = generic_client.get_auxip_client()\n",
    "\n",
    "# Or get a Cadip client instance. Pass the cadip station and the platforms.\n",
    "cadip_station = ECadipStation.CADIP\n",
    "platforms = [EPlatform.S1A]\n",
    "cadip_client = generic_client.get_cadip_client(cadip_station, platforms)"
   ]
  },
  {
   "cell_type": "markdown",
   "id": "43ec2f47-ee81-4443-958c-612129c2eb3c",
   "metadata": {},
   "source": [
    "## Call single endpoints"
   ]
  },
  {
   "cell_type": "code",
   "execution_count": null,
   "id": "9a59be84-7b86-4151-b961-a8e7e0ad9d20",
   "metadata": {},
   "outputs": [],
   "source": [
    "from datetime import datetime\n",
    "import json\n",
    "from time import sleep\n",
    "from rs_common.config import EDownloadStatus\n",
    "\n",
    "# Define some parameters\n",
    "start_date = datetime(2014, 1, 1, 12, 0, 0)\n",
    "stop_date = datetime(2024, 1, 1, 12, 0, 0)\n",
    "\n",
    "# Timeout in seconds for the endpoints\n",
    "TIMEOUT = 30\n",
    "\n",
    "# Call the auxip and cadip endpoints\n",
    "for client in [auxip_client, cadip_client]:\n",
    "\n",
    "    # From these instances, we can e.g. search stations for products. \n",
    "    # We can limit to n products. The default sorting is by descending datetime (\"-datetime\")\n",
    "    limit=5\n",
    "    products = client.search_stations(start_date, stop_date, TIMEOUT, limit=limit)\n",
    "    assert (len(products) == limit)\n",
    "    print(f\"First {client.station_name!r} product:\\n{json.dumps(products[0], indent=2)}\\n\")\n",
    "\n",
    "    filenames=\"\\n\".join([p[\"id\"] for p in products])\n",
    "    print(f\"First {limit} {client.station_name!r} product names:\\n{filenames}\\n\")\n",
    "\n",
    "    # To sort e.g. by ascending datetimes:\n",
    "    products = client.search_stations(start_date, stop_date, TIMEOUT, limit=5, sortby=\"+datetime\")\n",
    "    datetimes = \"\\n\".join([p[\"properties\"][\"datetime\"] for p in products])\n",
    "    print(f\"Ascending datetimes:\\n{datetimes}\\n\")\n",
    "\n",
    "    # We can stage e.g. the first product = download it from the station into the s3 object storage.\n",
    "    # We can also download it locally into the server drive, but this is useful only in local mode.\n",
    "    one_product_filename = products[0][\"id\"]\n",
    "    client.staging(one_product_filename, TIMEOUT, s3_path=None, tmp_download_path=None)\n",
    "\n",
    "    # Then we can check when the staging has finished\n",
    "    while True:\n",
    "        status = client.staging_status(one_product_filename, TIMEOUT)\n",
    "        print (f\"Staging status for {one_product_filename!r}: {status.value}\")\n",
    "        if status in [EDownloadStatus.DONE, EDownloadStatus.FAILED]:\n",
    "            print(\"\\n\")\n",
    "            break\n",
    "        sleep(1)"
   ]
  },
  {
   "cell_type": "code",
   "execution_count": null,
   "id": "01bd416a-46f8-4b95-8a21-ceb7a379fc21",
   "metadata": {},
   "outputs": [],
   "source": [
    "# Search cadip sessions by date interval\n",
    "sessions = cadip_client.search_sessions(TIMEOUT, start_date=start_date, stop_date=stop_date)\n",
    "print(f\"First Cadip session:\\n{json.dumps(sessions[0], indent=2)}\\n\")\n",
    "ids=[s[\"id\"] for s in sessions]\n",
    "print_ids=\"\\n\".join(ids)\n",
    "print(f\"Session IDs for {platforms!r}:\\n{print_ids}\\n\")\n",
    "\n",
    "# Or get information for the cadip sessions e.g. #2 and #3\n",
    "search_ids=ids[1:3]\n",
    "search_sessions = cadip_client.search_sessions(TIMEOUT, session_ids=search_ids)\n",
    "print(f\"Cadip sessions information:\\n{json.dumps(search_sessions, indent=2)}\\n\")"
   ]
  }
 ],
 "metadata": {
  "kernelspec": {
   "display_name": "Python 3 (ipykernel)",
   "language": "python",
   "name": "python3"
  },
  "language_info": {
   "codemirror_mode": {
    "name": "ipython",
    "version": 3
   },
   "file_extension": ".py",
   "mimetype": "text/x-python",
   "name": "python",
   "nbconvert_exporter": "python",
   "pygments_lexer": "ipython3",
   "version": "3.11"
  }
 },
 "nbformat": 4,
 "nbformat_minor": 5
}

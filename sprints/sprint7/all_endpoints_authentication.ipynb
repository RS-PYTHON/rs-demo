{
 "cells": [
  {
   "cell_type": "markdown",
   "id": "16ee306c-92c7-4a7e-8502-484815f44628",
   "metadata": {},
   "source": [
    "# Test all the endpoints authentication\n",
    "\n",
    "On cluster mode, all the HTTP endpoints need an API Key authentication."
   ]
  },
  {
   "cell_type": "code",
   "execution_count": 1,
   "id": "6cf5a299-52c7-4421-89e3-0efddf523b38",
   "metadata": {},
   "outputs": [
    {
     "name": "stdout",
     "output_type": "stream",
     "text": [
      "Test: [GET] /adgs/aux/search\n",
      "Test: [GET] /adgs/aux\n",
      "Test: [GET] /adgs/aux/status\n",
      "Test: [GET] /cadip/{station}/cadu/search\n",
      "Test: [GET] /cadip/{station}/cadu\n",
      "Test: [GET] /cadip/{station}/cadu/status\n",
      "Test: [GET] /catalog/{owner_id}\n",
      "Test: [GET] /catalog/{owner_id}/conformance\n",
      "Test: [GET] /catalog/{owner_id}/collections/{collection_id}/items/{item_id}\n",
      "Test: [PUT] /catalog/{owner_id}/collections/{collection_id}/items/{item_id}\n",
      "Test: [DELETE] /catalog/{owner_id}/collections/{collection_id}/items/{item_id}\n",
      "Test: [GET] /catalog/search\n",
      "Test: [POST] /catalog/search\n",
      "Test: [GET] /catalog/{owner_id}/collections\n",
      "Test: [PUT] /catalog/{owner_id}/collections\n",
      "Test: [POST] /catalog/{owner_id}/collections\n",
      "Test: [GET] /catalog/{owner_id}/collections/{collection_id}\n",
      "Test: [DELETE] /catalog/{owner_id}/collections/{collection_id}\n",
      "Test: [GET] /catalog/{owner_id}/collections/{collection_id}/items\n",
      "Test: [POST] /catalog/{owner_id}/collections/{collection_id}/items\n",
      "Test: [GET] /catalog/{owner_id}/queryables\n",
      "Test: [GET] /catalog/{owner_id}/collections/{collection_id}/queryables\n",
      "Test: [POST] /catalog/{owner_id}/collections/{collection_id}/bulk_items\n",
      "All endpoints were tested\n"
     ]
    }
   ],
   "source": [
    "import os\n",
    "import requests\n",
    "\n",
    "# Test only on cluster mode\n",
    "if os.getenv(\"RSPY_LOCAL_MODE\") == \"0\":\n",
    "\n",
    "    # Read configuration\n",
    "    RSPY_WEBSITE = os.environ[\"RSPY_WEBSITE\"]\n",
    "    HEADERS={\"headers\": {\"x-api-key\": os.environ[\"RSPY_APIKEY\"]}}\n",
    "\n",
    "    # For each endpoint and associated method.\n",
    "    # Use dummy params, it's not important.\n",
    "    for method, endpoint in [\n",
    "        [\"GET\", \"/adgs/aux/search\"],\n",
    "        [\"GET\", \"/adgs/aux\"],\n",
    "        [\"GET\", \"/adgs/aux/status\"],\n",
    "        [\"GET\", \"/cadip/{station}/cadu/search\"],\n",
    "        [\"GET\", \"/cadip/{station}/cadu\"],\n",
    "        [\"GET\", \"/cadip/{station}/cadu/status\"],\n",
    "        [\"GET\", \"/catalog/{owner_id}\"],\n",
    "        [\"GET\", \"/catalog/{owner_id}/conformance\"],\n",
    "        [\"GET\", \"/catalog/{owner_id}/collections/{collection_id}/items/{item_id}\"],\n",
    "        [\"PUT\", \"/catalog/{owner_id}/collections/{collection_id}/items/{item_id}\"],\n",
    "        [\"DELETE\", \"/catalog/{owner_id}/collections/{collection_id}/items/{item_id}\"],\n",
    "        [\"GET\", \"/catalog/search\"],\n",
    "        [\"POST\", \"/catalog/search\"],\n",
    "        [\"GET\", \"/catalog/{owner_id}/collections\"],\n",
    "        [\"PUT\", \"/catalog/{owner_id}/collections\"],\n",
    "        [\"POST\", \"/catalog/{owner_id}/collections\"],\n",
    "        [\"GET\", \"/catalog/{owner_id}/collections/{collection_id}\"],\n",
    "        [\"DELETE\", \"/catalog/{owner_id}/collections/{collection_id}\"],\n",
    "        [\"GET\", \"/catalog/{owner_id}/collections/{collection_id}/items\"],\n",
    "        [\"POST\", \"/catalog/{owner_id}/collections/{collection_id}/items\"],\n",
    "        [\"GET\", \"/catalog/{owner_id}/queryables\"],\n",
    "        [\"GET\", \"/catalog/{owner_id}/collections/{collection_id}/queryables\"],\n",
    "        [\"POST\", \"/catalog/{owner_id}/collections/{collection_id}/bulk_items\"],\n",
    "    ]:\n",
    "        print(f\"Test: [{method}] {endpoint}\")\n",
    "        \n",
    "        # Assert that we have a 403: Not authenticated\n",
    "        response = requests.request (method, f\"{RSPY_WEBSITE}{endpoint}\")\n",
    "        #print (response.status_code, response.content)\n",
    "        assert (response.status_code == 403) or (\"403: Not authenticated\" in str(response.content))\n",
    "\n",
    "        # With the right API key, we should be authenticated\n",
    "        response = requests.request (method, f\"{RSPY_WEBSITE}{endpoint}\", **HEADERS)\n",
    "        # print (response.status_code, response.content)\n",
    "        # We have non-OK responses which is normal because we passed dummy parameters, but \n",
    "        # we should be authenticated. \n",
    "        # 401 = unauthorized\n",
    "        assert (response.status_code not in (401, 403)) and (\"403: Not authenticated\" not in str(response.content))\n",
    "\n",
    "    print (\"All endpoints were tested\")"
   ]
  },
  {
   "cell_type": "code",
   "execution_count": null,
   "id": "9d2f555a-7a96-4a38-9b9f-d1c737fa7e31",
   "metadata": {},
   "outputs": [],
   "source": []
  },
  {
   "cell_type": "code",
   "execution_count": null,
   "id": "c611fc1f-2fcb-42f9-af73-0ed384adc945",
   "metadata": {},
   "outputs": [],
   "source": []
  }
 ],
 "metadata": {
  "kernelspec": {
   "display_name": "Python 3 (ipykernel)",
   "language": "python",
   "name": "python3"
  },
  "language_info": {
   "codemirror_mode": {
    "name": "ipython",
    "version": 3
   },
   "file_extension": ".py",
   "mimetype": "text/x-python",
   "name": "python",
   "nbconvert_exporter": "python",
   "pygments_lexer": "ipython3",
   "version": "3.11.7"
  }
 },
 "nbformat": 4,
 "nbformat_minor": 5
}

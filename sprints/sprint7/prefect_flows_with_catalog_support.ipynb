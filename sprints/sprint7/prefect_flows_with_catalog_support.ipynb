{
 "cells": [
  {
   "cell_type": "markdown",
   "id": "d398824b",
   "metadata": {},
   "source": [
    "This demo uses the following implemented stories:\n",
    "- RSPY-25\n",
    "- RSPY-85\n",
    "- RSPY-100\n",
    "- RSPY-115\n",
    "- RSPY-139"
   ]
  },
  {
   "cell_type": "markdown",
   "id": "45a6fd57-cb01-4ed4-a9ba-fcd0a99c2a41",
   "metadata": {},
   "source": [
    "## Configuration"
   ]
  },
  {
   "cell_type": "code",
   "execution_count": 1,
   "id": "640d32d1-54e8-4ab2-9b6b-c0af28d2c620",
   "metadata": {},
   "outputs": [
    {
     "name": "stdout",
     "output_type": "stream",
     "text": [
      "Using: https://dev-rspy.esa-copernicus.eu\n"
     ]
    }
   ],
   "source": [
    "# Set local or cluster configuration\n",
    "import os\n",
    "\n",
    "if os.getenv(\"RSPY_LOCAL_MODE\") == \"1\":\n",
    "    url_catalog = \"http://rs-server-catalog:8000\"\n",
    "    HEADERS={}\n",
    "    local_mode = True\n",
    "else:\n",
    "    url_catalog = os.environ[\"RSPY_WEBSITE\"]\n",
    "    HEADERS={\"headers\": {\"x-api-key\": os.environ[\"RSPY_APIKEY\"]}}\n",
    "    local_mode = False\n",
    "\n",
    "print(f\"Using: {url_catalog}\")\n",
    "\n",
    "import requests\n",
    "import json"
   ]
  },
  {
   "cell_type": "markdown",
   "id": "b6657010",
   "metadata": {},
   "source": [
    "Install the needed libraries"
   ]
  },
  {
   "cell_type": "code",
   "execution_count": 2,
   "id": "be9b556c-b548-4428-8fe3-3cca45754287",
   "metadata": {},
   "outputs": [
    {
     "name": "stdout",
     "output_type": "stream",
     "text": [
      "Requirement already satisfied: boto3 in /home/alex/prj/refsys/env_rs_server_libraries/lib/python3.11/site-packages (1.34.41)\n",
      "Requirement already satisfied: botocore<1.35.0,>=1.34.41 in /home/alex/prj/refsys/env_rs_server_libraries/lib/python3.11/site-packages (from boto3) (1.34.41)\n",
      "Requirement already satisfied: jmespath<2.0.0,>=0.7.1 in /home/alex/prj/refsys/env_rs_server_libraries/lib/python3.11/site-packages (from boto3) (1.0.1)\n",
      "Requirement already satisfied: s3transfer<0.11.0,>=0.10.0 in /home/alex/prj/refsys/env_rs_server_libraries/lib/python3.11/site-packages (from boto3) (0.10.0)\n",
      "Requirement already satisfied: python-dateutil<3.0.0,>=2.1 in /home/alex/prj/refsys/env_rs_server_libraries/lib/python3.11/site-packages (from botocore<1.35.0,>=1.34.41->boto3) (2.9.0.post0)\n",
      "Requirement already satisfied: urllib3<2.1,>=1.25.4 in /home/alex/prj/refsys/env_rs_server_libraries/lib/python3.11/site-packages (from botocore<1.35.0,>=1.34.41->boto3) (2.0.7)\n",
      "Requirement already satisfied: six>=1.5 in /home/alex/prj/refsys/env_rs_server_libraries/lib/python3.11/site-packages (from python-dateutil<3.0.0,>=2.1->botocore<1.35.0,>=1.34.41->boto3) (1.16.0)\n",
      "\n",
      "\u001b[1m[\u001b[0m\u001b[34;49mnotice\u001b[0m\u001b[1;39;49m]\u001b[0m\u001b[39;49m A new release of pip is available: \u001b[0m\u001b[31;49m23.2.1\u001b[0m\u001b[39;49m -> \u001b[0m\u001b[32;49m24.0\u001b[0m\n",
      "\u001b[1m[\u001b[0m\u001b[34;49mnotice\u001b[0m\u001b[1;39;49m]\u001b[0m\u001b[39;49m To update, run: \u001b[0m\u001b[32;49mpip install --upgrade pip\u001b[0m\n"
     ]
    }
   ],
   "source": [
    "!pip install boto3\n",
    "if local_mode:\n",
    "    !(cd $RSPY_WHL_DIR && pip install rs_client_libraries-*.whl )"
   ]
  },
  {
   "cell_type": "code",
   "execution_count": 3,
   "id": "78f7263f-b07d-4673-b6d3-301b035e76f9",
   "metadata": {},
   "outputs": [],
   "source": [
    "# We'll use boto3 to monitor the s3 bucket. \n",
    "# Note: the S3_ACCESSKEY, S3_SECRETKEY and S3_ENDPOINT are given in the docker-compose.yml file.\n",
    "import boto3\n",
    "import os\n",
    "\n",
    "s3_session = boto3.session.Session()\n",
    "s3_client = s3_session.client(\n",
    "    service_name=\"s3\",\n",
    "    aws_access_key_id=os.environ[\"S3_ACCESSKEY\"],\n",
    "    aws_secret_access_key=os.environ[\"S3_SECRETKEY\"],\n",
    "    endpoint_url=os.environ[\"S3_ENDPOINT\"],\n",
    "    region_name=os.environ[\"S3_REGION\"],\n",
    ")\n",
    "\n",
    "buckets = [\"rs-cluster-temp\", \"rs-cluster-catalog\"] # bucket names under S3_ENDPOINT\n",
    "bucket_dir = \"stations\"\n",
    "bucket_url = f\"s3://{buckets[0]}/{bucket_dir}\"\n",
    "\n",
    "# Only in local mode\n",
    "if local_mode:\n",
    "    \n",
    "    # If the bucket is already created, clear all files to start fresh for each demo. \n",
    "    for b in buckets:\n",
    "        if b in [bucket[\"Name\"] for bucket in s3_client.list_buckets()[\"Buckets\"]]:\n",
    "            if 'Contents' in s3_client.list_objects(Bucket=b):\n",
    "                objects = s3_client.list_objects(Bucket=b)['Contents']\n",
    "                for obj in objects:\n",
    "                    # clear up the bucket\n",
    "                    s3_client.delete_object(Bucket=b, Key=obj['Key'])\n",
    "        else:\n",
    "            s3_client.create_bucket(Bucket=b)\n",
    "    for b in buckets:\n",
    "        print(f\"Is {b} empty ?: \", 'Contents' not in s3_client.list_objects(Bucket=b))\n",
    "    \n",
    "    # Truncate the items table from catalog also if this is not the first run !\n",
    "    #docker exec -it catalog-db psql -U postgres -d catalog -c \"TRUNCATE items\""
   ]
  },
  {
   "cell_type": "markdown",
   "id": "472719ef",
   "metadata": {},
   "source": [
    "The bucket \"rs-cluster-temp\" is used for this demo. Thus, the cadip and adgs prefect flows will be asking for the rs-server endpoints to download the files from the CADIP and ADGS stations and to upload them to \"s3://rs-cluster-temp/stations/\".\n",
    "After a successful upload to s3 bucket, the update stac catalog service is called to update the catalog and to transfer the files from the temp bucket to the \"rs-cluster-catalog\" bucket."
   ]
  },
  {
   "cell_type": "code",
   "execution_count": 4,
   "id": "e41ab37d",
   "metadata": {},
   "outputs": [
    {
     "data": {
      "text/plain": [
       "<Response [200]>"
      ]
     },
     "execution_count": 4,
     "metadata": {},
     "output_type": "execute_result"
    }
   ],
   "source": [
    "\"# Clean previous executions\\n\",\n",
    "requests.delete(f\"{url_catalog}/catalog/collections/DemoUser:s1_aux\", **HEADERS)"
   ]
  },
  {
   "cell_type": "code",
   "execution_count": 5,
   "id": "566b8976",
   "metadata": {},
   "outputs": [
    {
     "data": {
      "text/plain": [
       "{'id': 's1_aux',\n",
       " 'type': 'Collection',\n",
       " 'links': [{'rel': 'items',\n",
       "   'type': 'application/geo+json',\n",
       "   'href': 'https://dev-rspy.esa-copernicus.eu/catalog/DemoUser/collections/s1_aux/items'},\n",
       "  {'rel': 'parent',\n",
       "   'type': 'application/json',\n",
       "   'href': 'https://dev-rspy.esa-copernicus.eu/catalog/DemoUser'},\n",
       "  {'rel': 'root',\n",
       "   'type': 'application/json',\n",
       "   'href': 'https://dev-rspy.esa-copernicus.eu/catalog/DemoUser'},\n",
       "  {'rel': 'self',\n",
       "   'type': 'application/json',\n",
       "   'href': 'https://dev-rspy.esa-copernicus.eu/catalog/DemoUser/collections/s1_aux'},\n",
       "  {'rel': 'items',\n",
       "   'type': 'application/geo+json',\n",
       "   'href': 'http://localhost:8082/collections/s1_aux/items'},\n",
       "  {'rel': 'license',\n",
       "   'href': 'https://creativecommons.org/licenses/publicdomain/',\n",
       "   'title': 'public domain'}],\n",
       " 'extent': {'spatial': {'bbox': [[-94.6911621,\n",
       "     37.0332547,\n",
       "     -94.402771,\n",
       "     37.1077651]]},\n",
       "  'temporal': {'interval': [['2000-02-01T00:00:00Z',\n",
       "     '2000-02-12T00:00:00Z']]}},\n",
       " 'license': 'public-domain',\n",
       " 'description': 'Some description',\n",
       " 'stac_version': '1.0.0',\n",
       " 'owner': 'DemoUser'}"
      ]
     },
     "execution_count": 5,
     "metadata": {},
     "output_type": "execute_result"
    }
   ],
   "source": [
    "# Create the user's collection first (this has to be done on client side)\n",
    "\n",
    "from dataclasses import dataclass\n",
    "import requests\n",
    "\n",
    "@dataclass\n",
    "class Collection:\n",
    "    \"\"\"A collection for test purpose.\"\"\"\n",
    "\n",
    "    user: str\n",
    "    name: str\n",
    "\n",
    "    @property\n",
    "    def id_(self) -> str:\n",
    "        \"\"\"Returns the id.\"\"\"\n",
    "        return f\"{self.user}_{self.name}\"\n",
    "\n",
    "    @property\n",
    "    def properties(self):\n",
    "        \"\"\"Returns the properties.\"\"\"\n",
    "        return {\n",
    "            \"id\": self.name,\n",
    "            \"type\": \"Collection\",\n",
    "            \"links\": [\n",
    "                {\n",
    "                    \"rel\": \"items\",\n",
    "                    \"type\": \"application/geo+json\",\n",
    "                    \"href\": f\"http://localhost:8082/collections/{self.name}/items\",\n",
    "                },\n",
    "                {\"rel\": \"parent\", \"type\": \"application/json\", \"href\": \"http://localhost:8082/\"},\n",
    "                {\"rel\": \"root\", \"type\": \"application/json\", \"href\": \"http://localhost:8082/\"},\n",
    "                {\n",
    "                    \"rel\": \"self\",\n",
    "                    \"type\": \"application/json\",\n",
    "                    \"href\": f\"\"\"http://localhost:8082/collections/{self.name}\"\"\",\n",
    "                },\n",
    "                {\n",
    "                    \"rel\": \"license\",\n",
    "                    \"href\": \"https://creativecommons.org/licenses/publicdomain/\",\n",
    "                    \"title\": \"public domain\",\n",
    "                },\n",
    "            ],\n",
    "            \"extent\": {\n",
    "                \"spatial\": {\"bbox\": [[-94.6911621, 37.0332547, -94.402771, 37.1077651]]},\n",
    "                \"temporal\": {\"interval\": [[\"2000-02-01T00:00:00Z\", \"2000-02-12T00:00:00Z\"]]},\n",
    "            },\n",
    "            \"license\": \"public-domain\",\n",
    "            \"description\": \"Some description\",\n",
    "            \"stac_version\": \"1.0.0\",\n",
    "            \"owner\": user,\n",
    "        }\n",
    "    \n",
    "user = \"DemoUser\"\n",
    "mission = \"s1\"\n",
    "\n",
    "# Create the collection for DemoUser\n",
    "collection_type = Collection(user, f\"{mission}_aux\")\n",
    "response = requests.post(url_catalog + f\"/catalog/collections\", json=collection_type.properties, **HEADERS)\n",
    "response.raise_for_status()\n",
    "\n",
    "collection = json.loads(response.content)\n",
    "collection"
   ]
  },
  {
   "cell_type": "code",
   "execution_count": 6,
   "id": "e7ed1ee5-56eb-4f46-95fa-a7cb2015fb4f",
   "metadata": {},
   "outputs": [
    {
     "data": {
      "text/html": [
       "<pre style=\"white-space:pre;overflow-x:auto;line-height:normal;font-family:Menlo,'DejaVu Sans Mono',consolas,'Courier New',monospace\">11:39:35.944 | <span style=\"color: #008080; text-decoration-color: #008080\">INFO</span>    | prefect.engine - Created flow run<span style=\"color: #800080; text-decoration-color: #800080\"> 'vermilion-leech'</span> for flow<span style=\"color: #800080; text-decoration-color: #800080; font-weight: bold\"> 'download-flow'</span>\n",
       "</pre>\n"
      ],
      "text/plain": [
       "11:39:35.944 | \u001b[36mINFO\u001b[0m    | prefect.engine - Created flow run\u001b[35m 'vermilion-leech'\u001b[0m for flow\u001b[1;35m 'download-flow'\u001b[0m\n"
      ]
     },
     "metadata": {},
     "output_type": "display_data"
    },
    {
     "data": {
      "text/html": [
       "<pre style=\"white-space:pre;overflow-x:auto;line-height:normal;font-family:Menlo,'DejaVu Sans Mono',consolas,'Courier New',monospace\">11:39:35.946 | <span style=\"color: #008080; text-decoration-color: #008080\">INFO</span>    | prefect.task_runner.dask - Creating a new Dask cluster with `distributed.deploy.local.LocalCluster`\n",
       "</pre>\n"
      ],
      "text/plain": [
       "11:39:35.946 | \u001b[36mINFO\u001b[0m    | prefect.task_runner.dask - Creating a new Dask cluster with `distributed.deploy.local.LocalCluster`\n"
      ]
     },
     "metadata": {},
     "output_type": "display_data"
    },
    {
     "data": {
      "text/html": [
       "<pre style=\"white-space:pre;overflow-x:auto;line-height:normal;font-family:Menlo,'DejaVu Sans Mono',consolas,'Courier New',monospace\">11:39:35.959 | <span style=\"color: #008080; text-decoration-color: #008080\">INFO</span>    | distributed.http.proxy - To route to workers diagnostics web server please install jupyter-server-proxy: python -m pip install jupyter-server-proxy\n",
       "</pre>\n"
      ],
      "text/plain": [
       "11:39:35.959 | \u001b[36mINFO\u001b[0m    | distributed.http.proxy - To route to workers diagnostics web server please install jupyter-server-proxy: python -m pip install jupyter-server-proxy\n"
      ]
     },
     "metadata": {},
     "output_type": "display_data"
    },
    {
     "data": {
      "text/html": [
       "<pre style=\"white-space:pre;overflow-x:auto;line-height:normal;font-family:Menlo,'DejaVu Sans Mono',consolas,'Courier New',monospace\">11:39:35.962 | <span style=\"color: #008080; text-decoration-color: #008080\">INFO</span>    | distributed.scheduler - State start\n",
       "</pre>\n"
      ],
      "text/plain": [
       "11:39:35.962 | \u001b[36mINFO\u001b[0m    | distributed.scheduler - State start\n"
      ]
     },
     "metadata": {},
     "output_type": "display_data"
    },
    {
     "data": {
      "text/html": [
       "<pre style=\"white-space:pre;overflow-x:auto;line-height:normal;font-family:Menlo,'DejaVu Sans Mono',consolas,'Courier New',monospace\">11:39:35.967 | <span style=\"color: #008080; text-decoration-color: #008080\">INFO</span>    | distributed.scheduler -   Scheduler at:     tcp://127.0.0.1:33545\n",
       "</pre>\n"
      ],
      "text/plain": [
       "11:39:35.967 | \u001b[36mINFO\u001b[0m    | distributed.scheduler -   Scheduler at:     tcp://127.0.0.1:33545\n"
      ]
     },
     "metadata": {},
     "output_type": "display_data"
    },
    {
     "data": {
      "text/html": [
       "<pre style=\"white-space:pre;overflow-x:auto;line-height:normal;font-family:Menlo,'DejaVu Sans Mono',consolas,'Courier New',monospace\">11:39:35.968 | <span style=\"color: #008080; text-decoration-color: #008080\">INFO</span>    | distributed.scheduler -   dashboard at:  <span style=\"color: #0000ff; text-decoration-color: #0000ff\">http://127.0.0.1:8787/status</span>\n",
       "</pre>\n"
      ],
      "text/plain": [
       "11:39:35.968 | \u001b[36mINFO\u001b[0m    | distributed.scheduler -   dashboard at:  \u001b[94mhttp://127.0.0.1:8787/status\u001b[0m\n"
      ]
     },
     "metadata": {},
     "output_type": "display_data"
    },
    {
     "data": {
      "text/html": [
       "<pre style=\"white-space:pre;overflow-x:auto;line-height:normal;font-family:Menlo,'DejaVu Sans Mono',consolas,'Courier New',monospace\">11:39:35.969 | <span style=\"color: #008080; text-decoration-color: #008080\">INFO</span>    | distributed.scheduler - Registering Worker plugin shuffle\n",
       "</pre>\n"
      ],
      "text/plain": [
       "11:39:35.969 | \u001b[36mINFO\u001b[0m    | distributed.scheduler - Registering Worker plugin shuffle\n"
      ]
     },
     "metadata": {},
     "output_type": "display_data"
    },
    {
     "data": {
      "text/html": [
       "<pre style=\"white-space:pre;overflow-x:auto;line-height:normal;font-family:Menlo,'DejaVu Sans Mono',consolas,'Courier New',monospace\">11:39:35.984 | <span style=\"color: #008080; text-decoration-color: #008080\">INFO</span>    | distributed.nanny -         Start Nanny at: 'tcp://127.0.0.1:34161'\n",
       "</pre>\n"
      ],
      "text/plain": [
       "11:39:35.984 | \u001b[36mINFO\u001b[0m    | distributed.nanny -         Start Nanny at: 'tcp://127.0.0.1:34161'\n"
      ]
     },
     "metadata": {},
     "output_type": "display_data"
    },
    {
     "data": {
      "text/html": [
       "<pre style=\"white-space:pre;overflow-x:auto;line-height:normal;font-family:Menlo,'DejaVu Sans Mono',consolas,'Courier New',monospace\">11:39:35.988 | <span style=\"color: #008080; text-decoration-color: #008080\">INFO</span>    | distributed.nanny -         Start Nanny at: 'tcp://127.0.0.1:43193'\n",
       "</pre>\n"
      ],
      "text/plain": [
       "11:39:35.988 | \u001b[36mINFO\u001b[0m    | distributed.nanny -         Start Nanny at: 'tcp://127.0.0.1:43193'\n"
      ]
     },
     "metadata": {},
     "output_type": "display_data"
    },
    {
     "data": {
      "text/html": [
       "<pre style=\"white-space:pre;overflow-x:auto;line-height:normal;font-family:Menlo,'DejaVu Sans Mono',consolas,'Courier New',monospace\">11:39:35.991 | <span style=\"color: #008080; text-decoration-color: #008080\">INFO</span>    | distributed.nanny -         Start Nanny at: 'tcp://127.0.0.1:32835'\n",
       "</pre>\n"
      ],
      "text/plain": [
       "11:39:35.991 | \u001b[36mINFO\u001b[0m    | distributed.nanny -         Start Nanny at: 'tcp://127.0.0.1:32835'\n"
      ]
     },
     "metadata": {},
     "output_type": "display_data"
    },
    {
     "data": {
      "text/html": [
       "<pre style=\"white-space:pre;overflow-x:auto;line-height:normal;font-family:Menlo,'DejaVu Sans Mono',consolas,'Courier New',monospace\">11:39:35.994 | <span style=\"color: #008080; text-decoration-color: #008080\">INFO</span>    | distributed.nanny -         Start Nanny at: 'tcp://127.0.0.1:35683'\n",
       "</pre>\n"
      ],
      "text/plain": [
       "11:39:35.994 | \u001b[36mINFO\u001b[0m    | distributed.nanny -         Start Nanny at: 'tcp://127.0.0.1:35683'\n"
      ]
     },
     "metadata": {},
     "output_type": "display_data"
    },
    {
     "data": {
      "text/html": [
       "<pre style=\"white-space:pre;overflow-x:auto;line-height:normal;font-family:Menlo,'DejaVu Sans Mono',consolas,'Courier New',monospace\">11:39:36.364 | <span style=\"color: #008080; text-decoration-color: #008080\">INFO</span>    | distributed.scheduler - Register worker &lt;WorkerState 'tcp://127.0.0.1:36287', name: 2, status: init, memory: 0, processing: 0&gt;\n",
       "</pre>\n"
      ],
      "text/plain": [
       "11:39:36.364 | \u001b[36mINFO\u001b[0m    | distributed.scheduler - Register worker <WorkerState 'tcp://127.0.0.1:36287', name: 2, status: init, memory: 0, processing: 0>\n"
      ]
     },
     "metadata": {},
     "output_type": "display_data"
    },
    {
     "data": {
      "text/html": [
       "<pre style=\"white-space:pre;overflow-x:auto;line-height:normal;font-family:Menlo,'DejaVu Sans Mono',consolas,'Courier New',monospace\">11:39:36.367 | <span style=\"color: #008080; text-decoration-color: #008080\">INFO</span>    | distributed.scheduler - Starting worker compute stream, tcp://127.0.0.1:36287\n",
       "</pre>\n"
      ],
      "text/plain": [
       "11:39:36.367 | \u001b[36mINFO\u001b[0m    | distributed.scheduler - Starting worker compute stream, tcp://127.0.0.1:36287\n"
      ]
     },
     "metadata": {},
     "output_type": "display_data"
    },
    {
     "data": {
      "text/html": [
       "<pre style=\"white-space:pre;overflow-x:auto;line-height:normal;font-family:Menlo,'DejaVu Sans Mono',consolas,'Courier New',monospace\">11:39:36.368 | <span style=\"color: #008080; text-decoration-color: #008080\">INFO</span>    | distributed.core - Starting established connection to tcp://127.0.0.1:40448\n",
       "</pre>\n"
      ],
      "text/plain": [
       "11:39:36.368 | \u001b[36mINFO\u001b[0m    | distributed.core - Starting established connection to tcp://127.0.0.1:40448\n"
      ]
     },
     "metadata": {},
     "output_type": "display_data"
    },
    {
     "data": {
      "text/html": [
       "<pre style=\"white-space:pre;overflow-x:auto;line-height:normal;font-family:Menlo,'DejaVu Sans Mono',consolas,'Courier New',monospace\">11:39:36.375 | <span style=\"color: #008080; text-decoration-color: #008080\">INFO</span>    | distributed.scheduler - Register worker &lt;WorkerState 'tcp://127.0.0.1:36083', name: 3, status: init, memory: 0, processing: 0&gt;\n",
       "</pre>\n"
      ],
      "text/plain": [
       "11:39:36.375 | \u001b[36mINFO\u001b[0m    | distributed.scheduler - Register worker <WorkerState 'tcp://127.0.0.1:36083', name: 3, status: init, memory: 0, processing: 0>\n"
      ]
     },
     "metadata": {},
     "output_type": "display_data"
    },
    {
     "data": {
      "text/html": [
       "<pre style=\"white-space:pre;overflow-x:auto;line-height:normal;font-family:Menlo,'DejaVu Sans Mono',consolas,'Courier New',monospace\">11:39:36.376 | <span style=\"color: #008080; text-decoration-color: #008080\">INFO</span>    | distributed.scheduler - Starting worker compute stream, tcp://127.0.0.1:36083\n",
       "</pre>\n"
      ],
      "text/plain": [
       "11:39:36.376 | \u001b[36mINFO\u001b[0m    | distributed.scheduler - Starting worker compute stream, tcp://127.0.0.1:36083\n"
      ]
     },
     "metadata": {},
     "output_type": "display_data"
    },
    {
     "data": {
      "text/html": [
       "<pre style=\"white-space:pre;overflow-x:auto;line-height:normal;font-family:Menlo,'DejaVu Sans Mono',consolas,'Courier New',monospace\">11:39:36.377 | <span style=\"color: #008080; text-decoration-color: #008080\">INFO</span>    | distributed.core - Starting established connection to tcp://127.0.0.1:40462\n",
       "</pre>\n"
      ],
      "text/plain": [
       "11:39:36.377 | \u001b[36mINFO\u001b[0m    | distributed.core - Starting established connection to tcp://127.0.0.1:40462\n"
      ]
     },
     "metadata": {},
     "output_type": "display_data"
    },
    {
     "data": {
      "text/html": [
       "<pre style=\"white-space:pre;overflow-x:auto;line-height:normal;font-family:Menlo,'DejaVu Sans Mono',consolas,'Courier New',monospace\">11:39:36.383 | <span style=\"color: #008080; text-decoration-color: #008080\">INFO</span>    | distributed.scheduler - Register worker &lt;WorkerState 'tcp://127.0.0.1:36197', name: 1, status: init, memory: 0, processing: 0&gt;\n",
       "</pre>\n"
      ],
      "text/plain": [
       "11:39:36.383 | \u001b[36mINFO\u001b[0m    | distributed.scheduler - Register worker <WorkerState 'tcp://127.0.0.1:36197', name: 1, status: init, memory: 0, processing: 0>\n"
      ]
     },
     "metadata": {},
     "output_type": "display_data"
    },
    {
     "data": {
      "text/html": [
       "<pre style=\"white-space:pre;overflow-x:auto;line-height:normal;font-family:Menlo,'DejaVu Sans Mono',consolas,'Courier New',monospace\">11:39:36.384 | <span style=\"color: #008080; text-decoration-color: #008080\">INFO</span>    | distributed.scheduler - Starting worker compute stream, tcp://127.0.0.1:36197\n",
       "</pre>\n"
      ],
      "text/plain": [
       "11:39:36.384 | \u001b[36mINFO\u001b[0m    | distributed.scheduler - Starting worker compute stream, tcp://127.0.0.1:36197\n"
      ]
     },
     "metadata": {},
     "output_type": "display_data"
    },
    {
     "data": {
      "text/html": [
       "<pre style=\"white-space:pre;overflow-x:auto;line-height:normal;font-family:Menlo,'DejaVu Sans Mono',consolas,'Courier New',monospace\">11:39:36.385 | <span style=\"color: #008080; text-decoration-color: #008080\">INFO</span>    | distributed.core - Starting established connection to tcp://127.0.0.1:40466\n",
       "</pre>\n"
      ],
      "text/plain": [
       "11:39:36.385 | \u001b[36mINFO\u001b[0m    | distributed.core - Starting established connection to tcp://127.0.0.1:40466\n"
      ]
     },
     "metadata": {},
     "output_type": "display_data"
    },
    {
     "data": {
      "text/html": [
       "<pre style=\"white-space:pre;overflow-x:auto;line-height:normal;font-family:Menlo,'DejaVu Sans Mono',consolas,'Courier New',monospace\">11:39:36.386 | <span style=\"color: #008080; text-decoration-color: #008080\">INFO</span>    | distributed.scheduler - Register worker &lt;WorkerState 'tcp://127.0.0.1:38509', name: 0, status: init, memory: 0, processing: 0&gt;\n",
       "</pre>\n"
      ],
      "text/plain": [
       "11:39:36.386 | \u001b[36mINFO\u001b[0m    | distributed.scheduler - Register worker <WorkerState 'tcp://127.0.0.1:38509', name: 0, status: init, memory: 0, processing: 0>\n"
      ]
     },
     "metadata": {},
     "output_type": "display_data"
    },
    {
     "data": {
      "text/html": [
       "<pre style=\"white-space:pre;overflow-x:auto;line-height:normal;font-family:Menlo,'DejaVu Sans Mono',consolas,'Courier New',monospace\">11:39:36.387 | <span style=\"color: #008080; text-decoration-color: #008080\">INFO</span>    | distributed.scheduler - Starting worker compute stream, tcp://127.0.0.1:38509\n",
       "</pre>\n"
      ],
      "text/plain": [
       "11:39:36.387 | \u001b[36mINFO\u001b[0m    | distributed.scheduler - Starting worker compute stream, tcp://127.0.0.1:38509\n"
      ]
     },
     "metadata": {},
     "output_type": "display_data"
    },
    {
     "data": {
      "text/html": [
       "<pre style=\"white-space:pre;overflow-x:auto;line-height:normal;font-family:Menlo,'DejaVu Sans Mono',consolas,'Courier New',monospace\">11:39:36.388 | <span style=\"color: #008080; text-decoration-color: #008080\">INFO</span>    | distributed.core - Starting established connection to tcp://127.0.0.1:40468\n",
       "</pre>\n"
      ],
      "text/plain": [
       "11:39:36.388 | \u001b[36mINFO\u001b[0m    | distributed.core - Starting established connection to tcp://127.0.0.1:40468\n"
      ]
     },
     "metadata": {},
     "output_type": "display_data"
    },
    {
     "data": {
      "text/html": [
       "<pre style=\"white-space:pre;overflow-x:auto;line-height:normal;font-family:Menlo,'DejaVu Sans Mono',consolas,'Courier New',monospace\">11:39:36.410 | <span style=\"color: #008080; text-decoration-color: #008080\">INFO</span>    | distributed.scheduler - Receive client connection: Client-de3757fb-f25e-11ee-98d3-177fde9e489e\n",
       "</pre>\n"
      ],
      "text/plain": [
       "11:39:36.410 | \u001b[36mINFO\u001b[0m    | distributed.scheduler - Receive client connection: Client-de3757fb-f25e-11ee-98d3-177fde9e489e\n"
      ]
     },
     "metadata": {},
     "output_type": "display_data"
    },
    {
     "data": {
      "text/html": [
       "<pre style=\"white-space:pre;overflow-x:auto;line-height:normal;font-family:Menlo,'DejaVu Sans Mono',consolas,'Courier New',monospace\">11:39:36.412 | <span style=\"color: #008080; text-decoration-color: #008080\">INFO</span>    | distributed.core - Starting established connection to tcp://127.0.0.1:40480\n",
       "</pre>\n"
      ],
      "text/plain": [
       "11:39:36.412 | \u001b[36mINFO\u001b[0m    | distributed.core - Starting established connection to tcp://127.0.0.1:40480\n"
      ]
     },
     "metadata": {},
     "output_type": "display_data"
    },
    {
     "data": {
      "text/html": [
       "<pre style=\"white-space:pre;overflow-x:auto;line-height:normal;font-family:Menlo,'DejaVu Sans Mono',consolas,'Courier New',monospace\">11:39:36.413 | <span style=\"color: #008080; text-decoration-color: #008080\">INFO</span>    | prefect.task_runner.dask - The Dask dashboard is available at <span style=\"color: #0000ff; text-decoration-color: #0000ff\">http://127.0.0.1:8787/status</span>\n",
       "</pre>\n"
      ],
      "text/plain": [
       "11:39:36.413 | \u001b[36mINFO\u001b[0m    | prefect.task_runner.dask - The Dask dashboard is available at \u001b[94mhttp://127.0.0.1:8787/status\u001b[0m\n"
      ]
     },
     "metadata": {},
     "output_type": "display_data"
    },
    {
     "data": {
      "text/html": [
       "<pre style=\"white-space:pre;overflow-x:auto;line-height:normal;font-family:Menlo,'DejaVu Sans Mono',consolas,'Courier New',monospace\">11:39:38.784 | DEBUG   | Flow run<span style=\"color: #800080; text-decoration-color: #800080\"> 'vermilion-leech'</span> - Files found in the catalog (0): [] \n",
       "</pre>\n"
      ],
      "text/plain": [
       "11:39:38.784 | DEBUG   | Flow run\u001b[35m 'vermilion-leech'\u001b[0m - Files found in the catalog (0): [] \n"
      ]
     },
     "metadata": {},
     "output_type": "display_data"
    },
    {
     "data": {
      "text/html": [
       "<pre style=\"white-space:pre;overflow-x:auto;line-height:normal;font-family:Menlo,'DejaVu Sans Mono',consolas,'Courier New',monospace\">11:39:38.789 | <span style=\"color: #008080; text-decoration-color: #008080\">INFO</span>    | Flow run<span style=\"color: #800080; text-decoration-color: #800080\"> 'vermilion-leech'</span> - List with files to be downloaded (after filtering against the catalog)\n",
       "</pre>\n"
      ],
      "text/plain": [
       "11:39:38.789 | \u001b[36mINFO\u001b[0m    | Flow run\u001b[35m 'vermilion-leech'\u001b[0m - List with files to be downloaded (after filtering against the catalog)\n"
      ]
     },
     "metadata": {},
     "output_type": "display_data"
    },
    {
     "data": {
      "text/html": [
       "<pre style=\"white-space:pre;overflow-x:auto;line-height:normal;font-family:Menlo,'DejaVu Sans Mono',consolas,'Courier New',monospace\">11:39:38.791 | <span style=\"color: #008080; text-decoration-color: #008080\">INFO</span>    | Flow run<span style=\"color: #800080; text-decoration-color: #800080\"> 'vermilion-leech'</span> -       DCS_04_S1A_20231121072204051312_ch1_DSDB_00001.raw\n",
       "</pre>\n"
      ],
      "text/plain": [
       "11:39:38.791 | \u001b[36mINFO\u001b[0m    | Flow run\u001b[35m 'vermilion-leech'\u001b[0m -       DCS_04_S1A_20231121072204051312_ch1_DSDB_00001.raw\n"
      ]
     },
     "metadata": {},
     "output_type": "display_data"
    },
    {
     "data": {
      "text/html": [
       "<pre style=\"white-space:pre;overflow-x:auto;line-height:normal;font-family:Menlo,'DejaVu Sans Mono',consolas,'Courier New',monospace\">11:39:38.793 | <span style=\"color: #008080; text-decoration-color: #008080\">INFO</span>    | Flow run<span style=\"color: #800080; text-decoration-color: #800080\"> 'vermilion-leech'</span> -       DCS_04_S1A_20231121072204051312_ch1_DSDB_00002.raw\n",
       "</pre>\n"
      ],
      "text/plain": [
       "11:39:38.793 | \u001b[36mINFO\u001b[0m    | Flow run\u001b[35m 'vermilion-leech'\u001b[0m -       DCS_04_S1A_20231121072204051312_ch1_DSDB_00002.raw\n"
      ]
     },
     "metadata": {},
     "output_type": "display_data"
    },
    {
     "data": {
      "text/html": [
       "<pre style=\"white-space:pre;overflow-x:auto;line-height:normal;font-family:Menlo,'DejaVu Sans Mono',consolas,'Courier New',monospace\">11:39:38.794 | <span style=\"color: #008080; text-decoration-color: #008080\">INFO</span>    | Flow run<span style=\"color: #800080; text-decoration-color: #800080\"> 'vermilion-leech'</span> -       DCS_04_S1A_20231121072204051312_ch1_DSDB_00003.raw\n",
       "</pre>\n"
      ],
      "text/plain": [
       "11:39:38.794 | \u001b[36mINFO\u001b[0m    | Flow run\u001b[35m 'vermilion-leech'\u001b[0m -       DCS_04_S1A_20231121072204051312_ch1_DSDB_00003.raw\n"
      ]
     },
     "metadata": {},
     "output_type": "display_data"
    },
    {
     "data": {
      "text/html": [
       "<pre style=\"white-space:pre;overflow-x:auto;line-height:normal;font-family:Menlo,'DejaVu Sans Mono',consolas,'Courier New',monospace\">11:39:38.795 | <span style=\"color: #008080; text-decoration-color: #008080\">INFO</span>    | Flow run<span style=\"color: #800080; text-decoration-color: #800080\"> 'vermilion-leech'</span> -       DCS_04_S1A_20231121072204051312_ch1_DSDB_00004.raw\n",
       "</pre>\n"
      ],
      "text/plain": [
       "11:39:38.795 | \u001b[36mINFO\u001b[0m    | Flow run\u001b[35m 'vermilion-leech'\u001b[0m -       DCS_04_S1A_20231121072204051312_ch1_DSDB_00004.raw\n"
      ]
     },
     "metadata": {},
     "output_type": "display_data"
    },
    {
     "data": {
      "text/html": [
       "<pre style=\"white-space:pre;overflow-x:auto;line-height:normal;font-family:Menlo,'DejaVu Sans Mono',consolas,'Courier New',monospace\">11:39:38.797 | <span style=\"color: #008080; text-decoration-color: #008080\">INFO</span>    | Flow run<span style=\"color: #800080; text-decoration-color: #800080\"> 'vermilion-leech'</span> -       DCS_04_S1A_20231121072204051312_ch1_DSDB_00005.raw\n",
       "</pre>\n"
      ],
      "text/plain": [
       "11:39:38.797 | \u001b[36mINFO\u001b[0m    | Flow run\u001b[35m 'vermilion-leech'\u001b[0m -       DCS_04_S1A_20231121072204051312_ch1_DSDB_00005.raw\n"
      ]
     },
     "metadata": {},
     "output_type": "display_data"
    },
    {
     "data": {
      "text/html": [
       "<pre style=\"white-space:pre;overflow-x:auto;line-height:normal;font-family:Menlo,'DejaVu Sans Mono',consolas,'Courier New',monospace\">11:39:38.798 | <span style=\"color: #008080; text-decoration-color: #008080\">INFO</span>    | Flow run<span style=\"color: #800080; text-decoration-color: #800080\"> 'vermilion-leech'</span> -       DCS_04_S1A_20231121072204051312_ch1_DSDB_00006.raw\n",
       "</pre>\n"
      ],
      "text/plain": [
       "11:39:38.798 | \u001b[36mINFO\u001b[0m    | Flow run\u001b[35m 'vermilion-leech'\u001b[0m -       DCS_04_S1A_20231121072204051312_ch1_DSDB_00006.raw\n"
      ]
     },
     "metadata": {},
     "output_type": "display_data"
    },
    {
     "data": {
      "text/html": [
       "<pre style=\"white-space:pre;overflow-x:auto;line-height:normal;font-family:Menlo,'DejaVu Sans Mono',consolas,'Courier New',monospace\">11:39:38.799 | <span style=\"color: #008080; text-decoration-color: #008080\">INFO</span>    | Flow run<span style=\"color: #800080; text-decoration-color: #800080\"> 'vermilion-leech'</span> -       DCS_04_S1A_20231121072204051312_ch1_DSDB_00007.raw\n",
       "</pre>\n"
      ],
      "text/plain": [
       "11:39:38.799 | \u001b[36mINFO\u001b[0m    | Flow run\u001b[35m 'vermilion-leech'\u001b[0m -       DCS_04_S1A_20231121072204051312_ch1_DSDB_00007.raw\n"
      ]
     },
     "metadata": {},
     "output_type": "display_data"
    },
    {
     "data": {
      "text/html": [
       "<pre style=\"white-space:pre;overflow-x:auto;line-height:normal;font-family:Menlo,'DejaVu Sans Mono',consolas,'Courier New',monospace\">11:39:38.800 | <span style=\"color: #008080; text-decoration-color: #008080\">INFO</span>    | Flow run<span style=\"color: #800080; text-decoration-color: #800080\"> 'vermilion-leech'</span> -       DCS_04_S1A_20231121072204051312_ch1_DSDB_00060.raw\n",
       "</pre>\n"
      ],
      "text/plain": [
       "11:39:38.800 | \u001b[36mINFO\u001b[0m    | Flow run\u001b[35m 'vermilion-leech'\u001b[0m -       DCS_04_S1A_20231121072204051312_ch1_DSDB_00060.raw\n"
      ]
     },
     "metadata": {},
     "output_type": "display_data"
    },
    {
     "data": {
      "text/html": [
       "<pre style=\"white-space:pre;overflow-x:auto;line-height:normal;font-family:Menlo,'DejaVu Sans Mono',consolas,'Courier New',monospace\">11:39:38.801 | <span style=\"color: #008080; text-decoration-color: #008080\">INFO</span>    | Flow run<span style=\"color: #800080; text-decoration-color: #800080\"> 'vermilion-leech'</span> -       DCS_04_S1A_20231121072204051312_ch2_DSDB_00046.raw\n",
       "</pre>\n"
      ],
      "text/plain": [
       "11:39:38.801 | \u001b[36mINFO\u001b[0m    | Flow run\u001b[35m 'vermilion-leech'\u001b[0m -       DCS_04_S1A_20231121072204051312_ch2_DSDB_00046.raw\n"
      ]
     },
     "metadata": {},
     "output_type": "display_data"
    },
    {
     "data": {
      "text/html": [
       "<pre style=\"white-space:pre;overflow-x:auto;line-height:normal;font-family:Menlo,'DejaVu Sans Mono',consolas,'Courier New',monospace\">11:39:38.802 | <span style=\"color: #008080; text-decoration-color: #008080\">INFO</span>    | Flow run<span style=\"color: #800080; text-decoration-color: #800080\"> 'vermilion-leech'</span> -       DCS_04_S1A_20231121072204051312_ch2_DSDB_00060.raw\n",
       "</pre>\n"
      ],
      "text/plain": [
       "11:39:38.802 | \u001b[36mINFO\u001b[0m    | Flow run\u001b[35m 'vermilion-leech'\u001b[0m -       DCS_04_S1A_20231121072204051312_ch2_DSDB_00060.raw\n"
      ]
     },
     "metadata": {},
     "output_type": "display_data"
    },
    {
     "data": {
      "text/html": [
       "<pre style=\"white-space:pre;overflow-x:auto;line-height:normal;font-family:Menlo,'DejaVu Sans Mono',consolas,'Courier New',monospace\">11:39:38.923 | <span style=\"color: #008080; text-decoration-color: #008080\">INFO</span>    | Flow run<span style=\"color: #800080; text-decoration-color: #800080\"> 'vermilion-leech'</span> - Created task run 'ingest_files-2' for task 'ingest_files'\n",
       "</pre>\n"
      ],
      "text/plain": [
       "11:39:38.923 | \u001b[36mINFO\u001b[0m    | Flow run\u001b[35m 'vermilion-leech'\u001b[0m - Created task run 'ingest_files-2' for task 'ingest_files'\n"
      ]
     },
     "metadata": {},
     "output_type": "display_data"
    },
    {
     "data": {
      "text/html": [
       "<pre style=\"white-space:pre;overflow-x:auto;line-height:normal;font-family:Menlo,'DejaVu Sans Mono',consolas,'Courier New',monospace\">11:39:38.928 | <span style=\"color: #008080; text-decoration-color: #008080\">INFO</span>    | Flow run<span style=\"color: #800080; text-decoration-color: #800080\"> 'vermilion-leech'</span> - Submitted task run 'ingest_files-2' for execution.\n",
       "</pre>\n"
      ],
      "text/plain": [
       "11:39:38.928 | \u001b[36mINFO\u001b[0m    | Flow run\u001b[35m 'vermilion-leech'\u001b[0m - Submitted task run 'ingest_files-2' for execution.\n"
      ]
     },
     "metadata": {},
     "output_type": "display_data"
    },
    {
     "data": {
      "text/html": [
       "<pre style=\"white-space:pre;overflow-x:auto;line-height:normal;font-family:Menlo,'DejaVu Sans Mono',consolas,'Courier New',monospace\">11:39:38.943 | <span style=\"color: #008080; text-decoration-color: #008080\">INFO</span>    | Flow run<span style=\"color: #800080; text-decoration-color: #800080\"> 'vermilion-leech'</span> - Created task run 'ingest_files-0' for task 'ingest_files'\n",
       "</pre>\n"
      ],
      "text/plain": [
       "11:39:38.943 | \u001b[36mINFO\u001b[0m    | Flow run\u001b[35m 'vermilion-leech'\u001b[0m - Created task run 'ingest_files-0' for task 'ingest_files'\n"
      ]
     },
     "metadata": {},
     "output_type": "display_data"
    },
    {
     "data": {
      "text/html": [
       "<pre style=\"white-space:pre;overflow-x:auto;line-height:normal;font-family:Menlo,'DejaVu Sans Mono',consolas,'Courier New',monospace\">11:39:38.947 | <span style=\"color: #008080; text-decoration-color: #008080\">INFO</span>    | Flow run<span style=\"color: #800080; text-decoration-color: #800080\"> 'vermilion-leech'</span> - Submitted task run 'ingest_files-0' for execution.\n",
       "</pre>\n"
      ],
      "text/plain": [
       "11:39:38.947 | \u001b[36mINFO\u001b[0m    | Flow run\u001b[35m 'vermilion-leech'\u001b[0m - Submitted task run 'ingest_files-0' for execution.\n"
      ]
     },
     "metadata": {},
     "output_type": "display_data"
    },
    {
     "data": {
      "text/html": [
       "<pre style=\"white-space:pre;overflow-x:auto;line-height:normal;font-family:Menlo,'DejaVu Sans Mono',consolas,'Courier New',monospace\">11:39:38.967 | <span style=\"color: #008080; text-decoration-color: #008080\">INFO</span>    | Flow run<span style=\"color: #800080; text-decoration-color: #800080\"> 'vermilion-leech'</span> - Created task run 'ingest_files-1' for task 'ingest_files'\n",
       "</pre>\n"
      ],
      "text/plain": [
       "11:39:38.967 | \u001b[36mINFO\u001b[0m    | Flow run\u001b[35m 'vermilion-leech'\u001b[0m - Created task run 'ingest_files-1' for task 'ingest_files'\n"
      ]
     },
     "metadata": {},
     "output_type": "display_data"
    },
    {
     "data": {
      "text/html": [
       "<pre style=\"white-space:pre;overflow-x:auto;line-height:normal;font-family:Menlo,'DejaVu Sans Mono',consolas,'Courier New',monospace\">11:39:38.971 | <span style=\"color: #008080; text-decoration-color: #008080\">INFO</span>    | Flow run<span style=\"color: #800080; text-decoration-color: #800080\"> 'vermilion-leech'</span> - Submitted task run 'ingest_files-1' for execution.\n",
       "</pre>\n"
      ],
      "text/plain": [
       "11:39:38.971 | \u001b[36mINFO\u001b[0m    | Flow run\u001b[35m 'vermilion-leech'\u001b[0m - Submitted task run 'ingest_files-1' for execution.\n"
      ]
     },
     "metadata": {},
     "output_type": "display_data"
    },
    {
     "data": {
      "text/html": [
       "<pre style=\"white-space:pre;overflow-x:auto;line-height:normal;font-family:Menlo,'DejaVu Sans Mono',consolas,'Courier New',monospace\">11:39:39.039 | <span style=\"color: #008080; text-decoration-color: #008080\">INFO</span>    | Flow run<span style=\"color: #800080; text-decoration-color: #800080\"> 'vermilion-leech'</span> - Created task run 'ingest_files-3' for task 'ingest_files'\n",
       "</pre>\n"
      ],
      "text/plain": [
       "11:39:39.039 | \u001b[36mINFO\u001b[0m    | Flow run\u001b[35m 'vermilion-leech'\u001b[0m - Created task run 'ingest_files-3' for task 'ingest_files'\n"
      ]
     },
     "metadata": {},
     "output_type": "display_data"
    },
    {
     "data": {
      "text/html": [
       "<pre style=\"white-space:pre;overflow-x:auto;line-height:normal;font-family:Menlo,'DejaVu Sans Mono',consolas,'Courier New',monospace\">11:39:39.044 | <span style=\"color: #008080; text-decoration-color: #008080\">INFO</span>    | Flow run<span style=\"color: #800080; text-decoration-color: #800080\"> 'vermilion-leech'</span> - Submitted task run 'ingest_files-3' for execution.\n",
       "</pre>\n"
      ],
      "text/plain": [
       "11:39:39.044 | \u001b[36mINFO\u001b[0m    | Flow run\u001b[35m 'vermilion-leech'\u001b[0m - Submitted task run 'ingest_files-3' for execution.\n"
      ]
     },
     "metadata": {},
     "output_type": "display_data"
    },
    {
     "name": "stderr",
     "output_type": "stream",
     "text": [
      "11:39:42.910 | \u001b[36mINFO\u001b[0m    | Task run 'ingest_files-0' - The download progress for file DCS_04_S1A_20231121072204051312_ch1_DSDB_00001.raw is IN_PROGRESS\n",
      "11:39:43.691 | \u001b[36mINFO\u001b[0m    | Task run 'ingest_files-2' - The download progress for file DCS_04_S1A_20231121072204051312_ch1_DSDB_00007.raw is IN_PROGRESS\n",
      "11:39:44.507 | \u001b[36mINFO\u001b[0m    | Task run 'ingest_files-1' - The download progress for file DCS_04_S1A_20231121072204051312_ch1_DSDB_00004.raw is IN_PROGRESS\n",
      "11:39:44.523 | \u001b[36mINFO\u001b[0m    | Task run 'ingest_files-0' - File DCS_04_S1A_20231121072204051312_ch1_DSDB_00001.raw has been properly downloaded...\n",
      "11:39:44.920 | \u001b[36mINFO\u001b[0m    | Task run 'ingest_files-2' - File DCS_04_S1A_20231121072204051312_ch1_DSDB_00007.raw has been properly downloaded...\n",
      "11:39:45.036 | \u001b[36mINFO\u001b[0m    | Task run 'ingest_files-3' - The download progress for file DCS_04_S1A_20231121072204051312_ch2_DSDB_00046.raw is IN_PROGRESS\n",
      "11:39:45.280 | \u001b[36mINFO\u001b[0m    | Task run 'ingest_files-0' - File well published: DCS_04_S1A_20231121072204051312_ch1_DSDB_00001.raw\n",
      "\n",
      "11:39:45.320 | \u001b[36mINFO\u001b[0m    | Task run 'ingest_files-2' - File well published: DCS_04_S1A_20231121072204051312_ch1_DSDB_00007.raw\n",
      "\n",
      "11:39:45.997 | \u001b[36mINFO\u001b[0m    | Task run 'ingest_files-1' - File DCS_04_S1A_20231121072204051312_ch1_DSDB_00004.raw has been properly downloaded...\n",
      "11:39:46.378 | \u001b[36mINFO\u001b[0m    | Task run 'ingest_files-3' - File DCS_04_S1A_20231121072204051312_ch2_DSDB_00046.raw has been properly downloaded...\n",
      "11:39:46.426 | \u001b[36mINFO\u001b[0m    | Task run 'ingest_files-1' - File well published: DCS_04_S1A_20231121072204051312_ch1_DSDB_00004.raw\n",
      "\n",
      "11:39:46.682 | \u001b[36mINFO\u001b[0m    | Task run 'ingest_files-0' - The download progress for file DCS_04_S1A_20231121072204051312_ch1_DSDB_00002.raw is IN_PROGRESS\n",
      "11:39:46.733 | \u001b[36mINFO\u001b[0m    | Task run 'ingest_files-3' - File well published: DCS_04_S1A_20231121072204051312_ch2_DSDB_00046.raw\n",
      "\n",
      "11:39:47.988 | \u001b[36mINFO\u001b[0m    | Task run 'ingest_files-0' - File DCS_04_S1A_20231121072204051312_ch1_DSDB_00002.raw has been properly downloaded...\n",
      "11:39:48.368 | \u001b[36mINFO\u001b[0m    | Task run 'ingest_files-0' - File well published: DCS_04_S1A_20231121072204051312_ch1_DSDB_00002.raw\n",
      "\n",
      "11:39:48.595 | \u001b[36mINFO\u001b[0m    | Task run 'ingest_files-2' - The download progress for file DCS_04_S1A_20231121072204051312_ch1_DSDB_00060.raw is IN_PROGRESS\n",
      "11:39:49.610 | \u001b[36mINFO\u001b[0m    | Task run 'ingest_files-1' - The download progress for file DCS_04_S1A_20231121072204051312_ch1_DSDB_00005.raw is IN_PROGRESS\n",
      "11:39:49.899 | \u001b[36mINFO\u001b[0m    | Task run 'ingest_files-2' - File DCS_04_S1A_20231121072204051312_ch1_DSDB_00060.raw has been properly downloaded...\n",
      "11:39:50.311 | \u001b[36mINFO\u001b[0m    | Task run 'ingest_files-2' - File well published: DCS_04_S1A_20231121072204051312_ch1_DSDB_00060.raw\n",
      "\n",
      "11:39:50.357 | \u001b[36mINFO\u001b[0m    | Task run 'ingest_files-2' - Finished in state \u001b[32mCompleted\u001b[0m()\n",
      "11:39:50.577 | \u001b[36mINFO\u001b[0m    | Task run 'ingest_files-3' - The download progress for file DCS_04_S1A_20231121072204051312_ch2_DSDB_00060.raw is IN_PROGRESS\n",
      "11:39:51.082 | \u001b[36mINFO\u001b[0m    | Task run 'ingest_files-1' - File DCS_04_S1A_20231121072204051312_ch1_DSDB_00005.raw has been properly downloaded...\n",
      "11:39:51.509 | \u001b[36mINFO\u001b[0m    | Task run 'ingest_files-0' - The download progress for file DCS_04_S1A_20231121072204051312_ch1_DSDB_00003.raw is IN_PROGRESS\n",
      "11:39:51.567 | \u001b[36mINFO\u001b[0m    | Task run 'ingest_files-1' - File well published: DCS_04_S1A_20231121072204051312_ch1_DSDB_00005.raw\n",
      "\n",
      "11:39:51.793 | \u001b[36mINFO\u001b[0m    | Task run 'ingest_files-3' - File DCS_04_S1A_20231121072204051312_ch2_DSDB_00060.raw has been properly downloaded...\n",
      "11:39:52.334 | \u001b[36mINFO\u001b[0m    | Task run 'ingest_files-3' - File well published: DCS_04_S1A_20231121072204051312_ch2_DSDB_00060.raw\n",
      "\n",
      "11:39:52.381 | \u001b[36mINFO\u001b[0m    | Task run 'ingest_files-3' - Finished in state \u001b[32mCompleted\u001b[0m()\n",
      "11:39:52.721 | \u001b[36mINFO\u001b[0m    | Task run 'ingest_files-0' - File DCS_04_S1A_20231121072204051312_ch1_DSDB_00003.raw has been properly downloaded...\n",
      "11:39:52.845 | \u001b[36mINFO\u001b[0m    | Task run 'ingest_files-1' - The download progress for file DCS_04_S1A_20231121072204051312_ch1_DSDB_00006.raw is IN_PROGRESS\n",
      "11:39:53.135 | \u001b[36mINFO\u001b[0m    | Task run 'ingest_files-0' - File well published: DCS_04_S1A_20231121072204051312_ch1_DSDB_00003.raw\n",
      "\n",
      "11:39:53.168 | \u001b[36mINFO\u001b[0m    | Task run 'ingest_files-0' - Finished in state \u001b[32mCompleted\u001b[0m()\n",
      "11:39:54.058 | \u001b[36mINFO\u001b[0m    | Task run 'ingest_files-1' - File DCS_04_S1A_20231121072204051312_ch1_DSDB_00006.raw has been properly downloaded...\n",
      "11:39:54.459 | \u001b[36mINFO\u001b[0m    | Task run 'ingest_files-1' - File well published: DCS_04_S1A_20231121072204051312_ch1_DSDB_00006.raw\n",
      "\n",
      "11:39:54.501 | \u001b[36mINFO\u001b[0m    | Task run 'ingest_files-1' - Finished in state \u001b[32mCompleted\u001b[0m()\n"
     ]
    },
    {
     "data": {
      "text/html": [
       "<pre style=\"white-space:pre;overflow-x:auto;line-height:normal;font-family:Menlo,'DejaVu Sans Mono',consolas,'Courier New',monospace\">11:39:54.557 | <span style=\"color: #008080; text-decoration-color: #008080\">INFO</span>    | distributed.scheduler - Remove client Client-de3757fb-f25e-11ee-98d3-177fde9e489e\n",
       "</pre>\n"
      ],
      "text/plain": [
       "11:39:54.557 | \u001b[36mINFO\u001b[0m    | distributed.scheduler - Remove client Client-de3757fb-f25e-11ee-98d3-177fde9e489e\n"
      ]
     },
     "metadata": {},
     "output_type": "display_data"
    },
    {
     "data": {
      "text/html": [
       "<pre style=\"white-space:pre;overflow-x:auto;line-height:normal;font-family:Menlo,'DejaVu Sans Mono',consolas,'Courier New',monospace\">11:39:54.558 | <span style=\"color: #008080; text-decoration-color: #008080\">INFO</span>    | distributed.core - Received 'close-stream' from tcp://127.0.0.1:40480; closing.\n",
       "</pre>\n"
      ],
      "text/plain": [
       "11:39:54.558 | \u001b[36mINFO\u001b[0m    | distributed.core - Received 'close-stream' from tcp://127.0.0.1:40480; closing.\n"
      ]
     },
     "metadata": {},
     "output_type": "display_data"
    },
    {
     "data": {
      "text/html": [
       "<pre style=\"white-space:pre;overflow-x:auto;line-height:normal;font-family:Menlo,'DejaVu Sans Mono',consolas,'Courier New',monospace\">11:39:54.559 | <span style=\"color: #008080; text-decoration-color: #008080\">INFO</span>    | distributed.scheduler - Remove client Client-de3757fb-f25e-11ee-98d3-177fde9e489e\n",
       "</pre>\n"
      ],
      "text/plain": [
       "11:39:54.559 | \u001b[36mINFO\u001b[0m    | distributed.scheduler - Remove client Client-de3757fb-f25e-11ee-98d3-177fde9e489e\n"
      ]
     },
     "metadata": {},
     "output_type": "display_data"
    },
    {
     "data": {
      "text/html": [
       "<pre style=\"white-space:pre;overflow-x:auto;line-height:normal;font-family:Menlo,'DejaVu Sans Mono',consolas,'Courier New',monospace\">11:39:54.560 | <span style=\"color: #008080; text-decoration-color: #008080\">INFO</span>    | distributed.scheduler - Close client connection: Client-de3757fb-f25e-11ee-98d3-177fde9e489e\n",
       "</pre>\n"
      ],
      "text/plain": [
       "11:39:54.560 | \u001b[36mINFO\u001b[0m    | distributed.scheduler - Close client connection: Client-de3757fb-f25e-11ee-98d3-177fde9e489e\n"
      ]
     },
     "metadata": {},
     "output_type": "display_data"
    },
    {
     "data": {
      "text/html": [
       "<pre style=\"white-space:pre;overflow-x:auto;line-height:normal;font-family:Menlo,'DejaVu Sans Mono',consolas,'Courier New',monospace\">11:39:54.562 | <span style=\"color: #008080; text-decoration-color: #008080\">INFO</span>    | distributed.scheduler - Retire worker addresses (0, 1, 2, 3)\n",
       "</pre>\n"
      ],
      "text/plain": [
       "11:39:54.562 | \u001b[36mINFO\u001b[0m    | distributed.scheduler - Retire worker addresses (0, 1, 2, 3)\n"
      ]
     },
     "metadata": {},
     "output_type": "display_data"
    },
    {
     "data": {
      "text/html": [
       "<pre style=\"white-space:pre;overflow-x:auto;line-height:normal;font-family:Menlo,'DejaVu Sans Mono',consolas,'Courier New',monospace\">11:39:54.563 | <span style=\"color: #008080; text-decoration-color: #008080\">INFO</span>    | distributed.nanny - Closing Nanny at 'tcp://127.0.0.1:34161'. Reason: nanny-close\n",
       "</pre>\n"
      ],
      "text/plain": [
       "11:39:54.563 | \u001b[36mINFO\u001b[0m    | distributed.nanny - Closing Nanny at 'tcp://127.0.0.1:34161'. Reason: nanny-close\n"
      ]
     },
     "metadata": {},
     "output_type": "display_data"
    },
    {
     "data": {
      "text/html": [
       "<pre style=\"white-space:pre;overflow-x:auto;line-height:normal;font-family:Menlo,'DejaVu Sans Mono',consolas,'Courier New',monospace\">11:39:54.564 | <span style=\"color: #008080; text-decoration-color: #008080\">INFO</span>    | distributed.nanny - Nanny asking worker to close. Reason: nanny-close\n",
       "</pre>\n"
      ],
      "text/plain": [
       "11:39:54.564 | \u001b[36mINFO\u001b[0m    | distributed.nanny - Nanny asking worker to close. Reason: nanny-close\n"
      ]
     },
     "metadata": {},
     "output_type": "display_data"
    },
    {
     "data": {
      "text/html": [
       "<pre style=\"white-space:pre;overflow-x:auto;line-height:normal;font-family:Menlo,'DejaVu Sans Mono',consolas,'Courier New',monospace\">11:39:54.564 | <span style=\"color: #008080; text-decoration-color: #008080\">INFO</span>    | distributed.nanny - Closing Nanny at 'tcp://127.0.0.1:43193'. Reason: nanny-close\n",
       "</pre>\n"
      ],
      "text/plain": [
       "11:39:54.564 | \u001b[36mINFO\u001b[0m    | distributed.nanny - Closing Nanny at 'tcp://127.0.0.1:43193'. Reason: nanny-close\n"
      ]
     },
     "metadata": {},
     "output_type": "display_data"
    },
    {
     "data": {
      "text/html": [
       "<pre style=\"white-space:pre;overflow-x:auto;line-height:normal;font-family:Menlo,'DejaVu Sans Mono',consolas,'Courier New',monospace\">11:39:54.565 | <span style=\"color: #008080; text-decoration-color: #008080\">INFO</span>    | distributed.nanny - Nanny asking worker to close. Reason: nanny-close\n",
       "</pre>\n"
      ],
      "text/plain": [
       "11:39:54.565 | \u001b[36mINFO\u001b[0m    | distributed.nanny - Nanny asking worker to close. Reason: nanny-close\n"
      ]
     },
     "metadata": {},
     "output_type": "display_data"
    },
    {
     "data": {
      "text/html": [
       "<pre style=\"white-space:pre;overflow-x:auto;line-height:normal;font-family:Menlo,'DejaVu Sans Mono',consolas,'Courier New',monospace\">11:39:54.566 | <span style=\"color: #008080; text-decoration-color: #008080\">INFO</span>    | distributed.nanny - Closing Nanny at 'tcp://127.0.0.1:32835'. Reason: nanny-close\n",
       "</pre>\n"
      ],
      "text/plain": [
       "11:39:54.566 | \u001b[36mINFO\u001b[0m    | distributed.nanny - Closing Nanny at 'tcp://127.0.0.1:32835'. Reason: nanny-close\n"
      ]
     },
     "metadata": {},
     "output_type": "display_data"
    },
    {
     "data": {
      "text/html": [
       "<pre style=\"white-space:pre;overflow-x:auto;line-height:normal;font-family:Menlo,'DejaVu Sans Mono',consolas,'Courier New',monospace\">11:39:54.566 | <span style=\"color: #008080; text-decoration-color: #008080\">INFO</span>    | distributed.nanny - Nanny asking worker to close. Reason: nanny-close\n",
       "</pre>\n"
      ],
      "text/plain": [
       "11:39:54.566 | \u001b[36mINFO\u001b[0m    | distributed.nanny - Nanny asking worker to close. Reason: nanny-close\n"
      ]
     },
     "metadata": {},
     "output_type": "display_data"
    },
    {
     "data": {
      "text/html": [
       "<pre style=\"white-space:pre;overflow-x:auto;line-height:normal;font-family:Menlo,'DejaVu Sans Mono',consolas,'Courier New',monospace\">11:39:54.567 | <span style=\"color: #008080; text-decoration-color: #008080\">INFO</span>    | distributed.nanny - Closing Nanny at 'tcp://127.0.0.1:35683'. Reason: nanny-close\n",
       "</pre>\n"
      ],
      "text/plain": [
       "11:39:54.567 | \u001b[36mINFO\u001b[0m    | distributed.nanny - Closing Nanny at 'tcp://127.0.0.1:35683'. Reason: nanny-close\n"
      ]
     },
     "metadata": {},
     "output_type": "display_data"
    },
    {
     "data": {
      "text/html": [
       "<pre style=\"white-space:pre;overflow-x:auto;line-height:normal;font-family:Menlo,'DejaVu Sans Mono',consolas,'Courier New',monospace\">11:39:54.568 | <span style=\"color: #008080; text-decoration-color: #008080\">INFO</span>    | distributed.nanny - Nanny asking worker to close. Reason: nanny-close\n",
       "</pre>\n"
      ],
      "text/plain": [
       "11:39:54.568 | \u001b[36mINFO\u001b[0m    | distributed.nanny - Nanny asking worker to close. Reason: nanny-close\n"
      ]
     },
     "metadata": {},
     "output_type": "display_data"
    },
    {
     "data": {
      "text/html": [
       "<pre style=\"white-space:pre;overflow-x:auto;line-height:normal;font-family:Menlo,'DejaVu Sans Mono',consolas,'Courier New',monospace\">11:39:54.571 | <span style=\"color: #008080; text-decoration-color: #008080\">INFO</span>    | distributed.core - Received 'close-stream' from tcp://127.0.0.1:40468; closing.\n",
       "</pre>\n"
      ],
      "text/plain": [
       "11:39:54.571 | \u001b[36mINFO\u001b[0m    | distributed.core - Received 'close-stream' from tcp://127.0.0.1:40468; closing.\n"
      ]
     },
     "metadata": {},
     "output_type": "display_data"
    },
    {
     "data": {
      "text/html": [
       "<pre style=\"white-space:pre;overflow-x:auto;line-height:normal;font-family:Menlo,'DejaVu Sans Mono',consolas,'Courier New',monospace\">11:39:54.572 | <span style=\"color: #008080; text-decoration-color: #008080\">INFO</span>    | distributed.core - Received 'close-stream' from tcp://127.0.0.1:40466; closing.\n",
       "</pre>\n"
      ],
      "text/plain": [
       "11:39:54.572 | \u001b[36mINFO\u001b[0m    | distributed.core - Received 'close-stream' from tcp://127.0.0.1:40466; closing.\n"
      ]
     },
     "metadata": {},
     "output_type": "display_data"
    },
    {
     "data": {
      "text/html": [
       "<pre style=\"white-space:pre;overflow-x:auto;line-height:normal;font-family:Menlo,'DejaVu Sans Mono',consolas,'Courier New',monospace\">11:39:54.573 | <span style=\"color: #008080; text-decoration-color: #008080\">INFO</span>    | distributed.core - Received 'close-stream' from tcp://127.0.0.1:40448; closing.\n",
       "</pre>\n"
      ],
      "text/plain": [
       "11:39:54.573 | \u001b[36mINFO\u001b[0m    | distributed.core - Received 'close-stream' from tcp://127.0.0.1:40448; closing.\n"
      ]
     },
     "metadata": {},
     "output_type": "display_data"
    },
    {
     "data": {
      "text/html": [
       "<pre style=\"white-space:pre;overflow-x:auto;line-height:normal;font-family:Menlo,'DejaVu Sans Mono',consolas,'Courier New',monospace\">11:39:54.575 | <span style=\"color: #008080; text-decoration-color: #008080\">INFO</span>    | distributed.scheduler - Remove worker &lt;WorkerState 'tcp://127.0.0.1:38509', name: 0, status: closing, memory: 0, processing: 0&gt; (stimulus_id='handle-worker-cleanup-1712219994.5752857')\n",
       "</pre>\n"
      ],
      "text/plain": [
       "11:39:54.575 | \u001b[36mINFO\u001b[0m    | distributed.scheduler - Remove worker <WorkerState 'tcp://127.0.0.1:38509', name: 0, status: closing, memory: 0, processing: 0> (stimulus_id='handle-worker-cleanup-1712219994.5752857')\n"
      ]
     },
     "metadata": {},
     "output_type": "display_data"
    },
    {
     "data": {
      "text/html": [
       "<pre style=\"white-space:pre;overflow-x:auto;line-height:normal;font-family:Menlo,'DejaVu Sans Mono',consolas,'Courier New',monospace\">11:39:54.576 | <span style=\"color: #008080; text-decoration-color: #008080\">INFO</span>    | distributed.scheduler - Remove worker &lt;WorkerState 'tcp://127.0.0.1:36197', name: 1, status: closing, memory: 0, processing: 0&gt; (stimulus_id='handle-worker-cleanup-1712219994.5765898')\n",
       "</pre>\n"
      ],
      "text/plain": [
       "11:39:54.576 | \u001b[36mINFO\u001b[0m    | distributed.scheduler - Remove worker <WorkerState 'tcp://127.0.0.1:36197', name: 1, status: closing, memory: 0, processing: 0> (stimulus_id='handle-worker-cleanup-1712219994.5765898')\n"
      ]
     },
     "metadata": {},
     "output_type": "display_data"
    },
    {
     "data": {
      "text/html": [
       "<pre style=\"white-space:pre;overflow-x:auto;line-height:normal;font-family:Menlo,'DejaVu Sans Mono',consolas,'Courier New',monospace\">11:39:54.577 | <span style=\"color: #008080; text-decoration-color: #008080\">INFO</span>    | distributed.scheduler - Remove worker &lt;WorkerState 'tcp://127.0.0.1:36287', name: 2, status: closing, memory: 0, processing: 0&gt; (stimulus_id='handle-worker-cleanup-1712219994.577782')\n",
       "</pre>\n"
      ],
      "text/plain": [
       "11:39:54.577 | \u001b[36mINFO\u001b[0m    | distributed.scheduler - Remove worker <WorkerState 'tcp://127.0.0.1:36287', name: 2, status: closing, memory: 0, processing: 0> (stimulus_id='handle-worker-cleanup-1712219994.577782')\n"
      ]
     },
     "metadata": {},
     "output_type": "display_data"
    },
    {
     "data": {
      "text/html": [
       "<pre style=\"white-space:pre;overflow-x:auto;line-height:normal;font-family:Menlo,'DejaVu Sans Mono',consolas,'Courier New',monospace\">11:39:54.579 | <span style=\"color: #008080; text-decoration-color: #008080\">INFO</span>    | distributed.core - Received 'close-stream' from tcp://127.0.0.1:40462; closing.\n",
       "</pre>\n"
      ],
      "text/plain": [
       "11:39:54.579 | \u001b[36mINFO\u001b[0m    | distributed.core - Received 'close-stream' from tcp://127.0.0.1:40462; closing.\n"
      ]
     },
     "metadata": {},
     "output_type": "display_data"
    },
    {
     "data": {
      "text/html": [
       "<pre style=\"white-space:pre;overflow-x:auto;line-height:normal;font-family:Menlo,'DejaVu Sans Mono',consolas,'Courier New',monospace\">11:39:54.580 | <span style=\"color: #008080; text-decoration-color: #008080\">INFO</span>    | distributed.scheduler - Remove worker &lt;WorkerState 'tcp://127.0.0.1:36083', name: 3, status: closing, memory: 0, processing: 0&gt; (stimulus_id='handle-worker-cleanup-1712219994.5807211')\n",
       "</pre>\n"
      ],
      "text/plain": [
       "11:39:54.580 | \u001b[36mINFO\u001b[0m    | distributed.scheduler - Remove worker <WorkerState 'tcp://127.0.0.1:36083', name: 3, status: closing, memory: 0, processing: 0> (stimulus_id='handle-worker-cleanup-1712219994.5807211')\n"
      ]
     },
     "metadata": {},
     "output_type": "display_data"
    },
    {
     "data": {
      "text/html": [
       "<pre style=\"white-space:pre;overflow-x:auto;line-height:normal;font-family:Menlo,'DejaVu Sans Mono',consolas,'Courier New',monospace\">11:39:54.581 | <span style=\"color: #008080; text-decoration-color: #008080\">INFO</span>    | distributed.scheduler - Lost all workers\n",
       "</pre>\n"
      ],
      "text/plain": [
       "11:39:54.581 | \u001b[36mINFO\u001b[0m    | distributed.scheduler - Lost all workers\n"
      ]
     },
     "metadata": {},
     "output_type": "display_data"
    },
    {
     "data": {
      "text/html": [
       "<pre style=\"white-space:pre;overflow-x:auto;line-height:normal;font-family:Menlo,'DejaVu Sans Mono',consolas,'Courier New',monospace\">11:39:55.527 | <span style=\"color: #008080; text-decoration-color: #008080\">INFO</span>    | distributed.scheduler - Scheduler closing due to unknown reason...\n",
       "</pre>\n"
      ],
      "text/plain": [
       "11:39:55.527 | \u001b[36mINFO\u001b[0m    | distributed.scheduler - Scheduler closing due to unknown reason...\n"
      ]
     },
     "metadata": {},
     "output_type": "display_data"
    },
    {
     "data": {
      "text/html": [
       "<pre style=\"white-space:pre;overflow-x:auto;line-height:normal;font-family:Menlo,'DejaVu Sans Mono',consolas,'Courier New',monospace\">11:39:55.527 | <span style=\"color: #008080; text-decoration-color: #008080\">INFO</span>    | distributed.scheduler - Scheduler closing all comms\n",
       "</pre>\n"
      ],
      "text/plain": [
       "11:39:55.527 | \u001b[36mINFO\u001b[0m    | distributed.scheduler - Scheduler closing all comms\n"
      ]
     },
     "metadata": {},
     "output_type": "display_data"
    },
    {
     "data": {
      "text/html": [
       "<pre style=\"white-space:pre;overflow-x:auto;line-height:normal;font-family:Menlo,'DejaVu Sans Mono',consolas,'Courier New',monospace\">11:39:55.529 | <span style=\"color: #008080; text-decoration-color: #008080\">INFO</span>    | Flow run<span style=\"color: #800080; text-decoration-color: #800080\"> 'vermilion-leech'</span> - Finished in state <span style=\"color: #008000; text-decoration-color: #008000\">Completed</span>()\n",
       "</pre>\n"
      ],
      "text/plain": [
       "11:39:55.529 | \u001b[36mINFO\u001b[0m    | Flow run\u001b[35m 'vermilion-leech'\u001b[0m - Finished in state \u001b[32mCompleted\u001b[0m()\n"
      ]
     },
     "metadata": {},
     "output_type": "display_data"
    },
    {
     "data": {
      "text/html": [
       "<pre style=\"white-space:pre;overflow-x:auto;line-height:normal;font-family:Menlo,'DejaVu Sans Mono',consolas,'Courier New',monospace\">11:39:55.648 | <span style=\"color: #008080; text-decoration-color: #008080\">INFO</span>    | prefect.engine - Created flow run<span style=\"color: #800080; text-decoration-color: #800080\"> 'athletic-hoatzin'</span> for flow<span style=\"color: #800080; text-decoration-color: #800080; font-weight: bold\"> 'download-flow'</span>\n",
       "</pre>\n"
      ],
      "text/plain": [
       "11:39:55.648 | \u001b[36mINFO\u001b[0m    | prefect.engine - Created flow run\u001b[35m 'athletic-hoatzin'\u001b[0m for flow\u001b[1;35m 'download-flow'\u001b[0m\n"
      ]
     },
     "metadata": {},
     "output_type": "display_data"
    },
    {
     "data": {
      "text/html": [
       "<pre style=\"white-space:pre;overflow-x:auto;line-height:normal;font-family:Menlo,'DejaVu Sans Mono',consolas,'Courier New',monospace\">11:39:55.649 | <span style=\"color: #008080; text-decoration-color: #008080\">INFO</span>    | prefect.task_runner.dask - Creating a new Dask cluster with `distributed.deploy.local.LocalCluster`\n",
       "</pre>\n"
      ],
      "text/plain": [
       "11:39:55.649 | \u001b[36mINFO\u001b[0m    | prefect.task_runner.dask - Creating a new Dask cluster with `distributed.deploy.local.LocalCluster`\n"
      ]
     },
     "metadata": {},
     "output_type": "display_data"
    },
    {
     "data": {
      "text/html": [
       "<pre style=\"white-space:pre;overflow-x:auto;line-height:normal;font-family:Menlo,'DejaVu Sans Mono',consolas,'Courier New',monospace\">11:39:55.651 | <span style=\"color: #008080; text-decoration-color: #008080\">INFO</span>    | distributed.scheduler - State start\n",
       "</pre>\n"
      ],
      "text/plain": [
       "11:39:55.651 | \u001b[36mINFO\u001b[0m    | distributed.scheduler - State start\n"
      ]
     },
     "metadata": {},
     "output_type": "display_data"
    },
    {
     "data": {
      "text/html": [
       "<pre style=\"white-space:pre;overflow-x:auto;line-height:normal;font-family:Menlo,'DejaVu Sans Mono',consolas,'Courier New',monospace\">11:39:55.655 | <span style=\"color: #008080; text-decoration-color: #008080\">INFO</span>    | distributed.scheduler -   Scheduler at:     tcp://127.0.0.1:41301\n",
       "</pre>\n"
      ],
      "text/plain": [
       "11:39:55.655 | \u001b[36mINFO\u001b[0m    | distributed.scheduler -   Scheduler at:     tcp://127.0.0.1:41301\n"
      ]
     },
     "metadata": {},
     "output_type": "display_data"
    },
    {
     "data": {
      "text/html": [
       "<pre style=\"white-space:pre;overflow-x:auto;line-height:normal;font-family:Menlo,'DejaVu Sans Mono',consolas,'Courier New',monospace\">11:39:55.656 | <span style=\"color: #008080; text-decoration-color: #008080\">INFO</span>    | distributed.scheduler -   dashboard at:  <span style=\"color: #0000ff; text-decoration-color: #0000ff\">http://127.0.0.1:8787/status</span>\n",
       "</pre>\n"
      ],
      "text/plain": [
       "11:39:55.656 | \u001b[36mINFO\u001b[0m    | distributed.scheduler -   dashboard at:  \u001b[94mhttp://127.0.0.1:8787/status\u001b[0m\n"
      ]
     },
     "metadata": {},
     "output_type": "display_data"
    },
    {
     "data": {
      "text/html": [
       "<pre style=\"white-space:pre;overflow-x:auto;line-height:normal;font-family:Menlo,'DejaVu Sans Mono',consolas,'Courier New',monospace\">11:39:55.657 | <span style=\"color: #008080; text-decoration-color: #008080\">INFO</span>    | distributed.scheduler - Registering Worker plugin shuffle\n",
       "</pre>\n"
      ],
      "text/plain": [
       "11:39:55.657 | \u001b[36mINFO\u001b[0m    | distributed.scheduler - Registering Worker plugin shuffle\n"
      ]
     },
     "metadata": {},
     "output_type": "display_data"
    },
    {
     "data": {
      "text/html": [
       "<pre style=\"white-space:pre;overflow-x:auto;line-height:normal;font-family:Menlo,'DejaVu Sans Mono',consolas,'Courier New',monospace\">11:39:55.671 | <span style=\"color: #008080; text-decoration-color: #008080\">INFO</span>    | distributed.nanny -         Start Nanny at: 'tcp://127.0.0.1:42775'\n",
       "</pre>\n"
      ],
      "text/plain": [
       "11:39:55.671 | \u001b[36mINFO\u001b[0m    | distributed.nanny -         Start Nanny at: 'tcp://127.0.0.1:42775'\n"
      ]
     },
     "metadata": {},
     "output_type": "display_data"
    },
    {
     "data": {
      "text/html": [
       "<pre style=\"white-space:pre;overflow-x:auto;line-height:normal;font-family:Menlo,'DejaVu Sans Mono',consolas,'Courier New',monospace\">11:39:55.673 | <span style=\"color: #008080; text-decoration-color: #008080\">INFO</span>    | distributed.nanny -         Start Nanny at: 'tcp://127.0.0.1:35571'\n",
       "</pre>\n"
      ],
      "text/plain": [
       "11:39:55.673 | \u001b[36mINFO\u001b[0m    | distributed.nanny -         Start Nanny at: 'tcp://127.0.0.1:35571'\n"
      ]
     },
     "metadata": {},
     "output_type": "display_data"
    },
    {
     "data": {
      "text/html": [
       "<pre style=\"white-space:pre;overflow-x:auto;line-height:normal;font-family:Menlo,'DejaVu Sans Mono',consolas,'Courier New',monospace\">11:39:55.676 | <span style=\"color: #008080; text-decoration-color: #008080\">INFO</span>    | distributed.nanny -         Start Nanny at: 'tcp://127.0.0.1:44793'\n",
       "</pre>\n"
      ],
      "text/plain": [
       "11:39:55.676 | \u001b[36mINFO\u001b[0m    | distributed.nanny -         Start Nanny at: 'tcp://127.0.0.1:44793'\n"
      ]
     },
     "metadata": {},
     "output_type": "display_data"
    },
    {
     "data": {
      "text/html": [
       "<pre style=\"white-space:pre;overflow-x:auto;line-height:normal;font-family:Menlo,'DejaVu Sans Mono',consolas,'Courier New',monospace\">11:39:55.679 | <span style=\"color: #008080; text-decoration-color: #008080\">INFO</span>    | distributed.nanny -         Start Nanny at: 'tcp://127.0.0.1:36291'\n",
       "</pre>\n"
      ],
      "text/plain": [
       "11:39:55.679 | \u001b[36mINFO\u001b[0m    | distributed.nanny -         Start Nanny at: 'tcp://127.0.0.1:36291'\n"
      ]
     },
     "metadata": {},
     "output_type": "display_data"
    },
    {
     "data": {
      "text/html": [
       "<pre style=\"white-space:pre;overflow-x:auto;line-height:normal;font-family:Menlo,'DejaVu Sans Mono',consolas,'Courier New',monospace\">11:39:56.072 | <span style=\"color: #008080; text-decoration-color: #008080\">INFO</span>    | distributed.scheduler - Register worker &lt;WorkerState 'tcp://127.0.0.1:35033', name: 0, status: init, memory: 0, processing: 0&gt;\n",
       "</pre>\n"
      ],
      "text/plain": [
       "11:39:56.072 | \u001b[36mINFO\u001b[0m    | distributed.scheduler - Register worker <WorkerState 'tcp://127.0.0.1:35033', name: 0, status: init, memory: 0, processing: 0>\n"
      ]
     },
     "metadata": {},
     "output_type": "display_data"
    },
    {
     "data": {
      "text/html": [
       "<pre style=\"white-space:pre;overflow-x:auto;line-height:normal;font-family:Menlo,'DejaVu Sans Mono',consolas,'Courier New',monospace\">11:39:56.073 | <span style=\"color: #008080; text-decoration-color: #008080\">INFO</span>    | distributed.scheduler - Starting worker compute stream, tcp://127.0.0.1:35033\n",
       "</pre>\n"
      ],
      "text/plain": [
       "11:39:56.073 | \u001b[36mINFO\u001b[0m    | distributed.scheduler - Starting worker compute stream, tcp://127.0.0.1:35033\n"
      ]
     },
     "metadata": {},
     "output_type": "display_data"
    },
    {
     "data": {
      "text/html": [
       "<pre style=\"white-space:pre;overflow-x:auto;line-height:normal;font-family:Menlo,'DejaVu Sans Mono',consolas,'Courier New',monospace\">11:39:56.074 | <span style=\"color: #008080; text-decoration-color: #008080\">INFO</span>    | distributed.core - Starting established connection to tcp://127.0.0.1:50302\n",
       "</pre>\n"
      ],
      "text/plain": [
       "11:39:56.074 | \u001b[36mINFO\u001b[0m    | distributed.core - Starting established connection to tcp://127.0.0.1:50302\n"
      ]
     },
     "metadata": {},
     "output_type": "display_data"
    },
    {
     "data": {
      "text/html": [
       "<pre style=\"white-space:pre;overflow-x:auto;line-height:normal;font-family:Menlo,'DejaVu Sans Mono',consolas,'Courier New',monospace\">11:39:56.079 | <span style=\"color: #008080; text-decoration-color: #008080\">INFO</span>    | distributed.scheduler - Register worker &lt;WorkerState 'tcp://127.0.0.1:40041', name: 1, status: init, memory: 0, processing: 0&gt;\n",
       "</pre>\n"
      ],
      "text/plain": [
       "11:39:56.079 | \u001b[36mINFO\u001b[0m    | distributed.scheduler - Register worker <WorkerState 'tcp://127.0.0.1:40041', name: 1, status: init, memory: 0, processing: 0>\n"
      ]
     },
     "metadata": {},
     "output_type": "display_data"
    },
    {
     "data": {
      "text/html": [
       "<pre style=\"white-space:pre;overflow-x:auto;line-height:normal;font-family:Menlo,'DejaVu Sans Mono',consolas,'Courier New',monospace\">11:39:56.080 | <span style=\"color: #008080; text-decoration-color: #008080\">INFO</span>    | distributed.scheduler - Starting worker compute stream, tcp://127.0.0.1:40041\n",
       "</pre>\n"
      ],
      "text/plain": [
       "11:39:56.080 | \u001b[36mINFO\u001b[0m    | distributed.scheduler - Starting worker compute stream, tcp://127.0.0.1:40041\n"
      ]
     },
     "metadata": {},
     "output_type": "display_data"
    },
    {
     "data": {
      "text/html": [
       "<pre style=\"white-space:pre;overflow-x:auto;line-height:normal;font-family:Menlo,'DejaVu Sans Mono',consolas,'Courier New',monospace\">11:39:56.081 | <span style=\"color: #008080; text-decoration-color: #008080\">INFO</span>    | distributed.core - Starting established connection to tcp://127.0.0.1:50316\n",
       "</pre>\n"
      ],
      "text/plain": [
       "11:39:56.081 | \u001b[36mINFO\u001b[0m    | distributed.core - Starting established connection to tcp://127.0.0.1:50316\n"
      ]
     },
     "metadata": {},
     "output_type": "display_data"
    },
    {
     "data": {
      "text/html": [
       "<pre style=\"white-space:pre;overflow-x:auto;line-height:normal;font-family:Menlo,'DejaVu Sans Mono',consolas,'Courier New',monospace\">11:39:56.089 | <span style=\"color: #008080; text-decoration-color: #008080\">INFO</span>    | distributed.scheduler - Register worker &lt;WorkerState 'tcp://127.0.0.1:38169', name: 2, status: init, memory: 0, processing: 0&gt;\n",
       "</pre>\n"
      ],
      "text/plain": [
       "11:39:56.089 | \u001b[36mINFO\u001b[0m    | distributed.scheduler - Register worker <WorkerState 'tcp://127.0.0.1:38169', name: 2, status: init, memory: 0, processing: 0>\n"
      ]
     },
     "metadata": {},
     "output_type": "display_data"
    },
    {
     "data": {
      "text/html": [
       "<pre style=\"white-space:pre;overflow-x:auto;line-height:normal;font-family:Menlo,'DejaVu Sans Mono',consolas,'Courier New',monospace\">11:39:56.091 | <span style=\"color: #008080; text-decoration-color: #008080\">INFO</span>    | distributed.scheduler - Starting worker compute stream, tcp://127.0.0.1:38169\n",
       "</pre>\n"
      ],
      "text/plain": [
       "11:39:56.091 | \u001b[36mINFO\u001b[0m    | distributed.scheduler - Starting worker compute stream, tcp://127.0.0.1:38169\n"
      ]
     },
     "metadata": {},
     "output_type": "display_data"
    },
    {
     "data": {
      "text/html": [
       "<pre style=\"white-space:pre;overflow-x:auto;line-height:normal;font-family:Menlo,'DejaVu Sans Mono',consolas,'Courier New',monospace\">11:39:56.091 | <span style=\"color: #008080; text-decoration-color: #008080\">INFO</span>    | distributed.core - Starting established connection to tcp://127.0.0.1:50324\n",
       "</pre>\n"
      ],
      "text/plain": [
       "11:39:56.091 | \u001b[36mINFO\u001b[0m    | distributed.core - Starting established connection to tcp://127.0.0.1:50324\n"
      ]
     },
     "metadata": {},
     "output_type": "display_data"
    },
    {
     "data": {
      "text/html": [
       "<pre style=\"white-space:pre;overflow-x:auto;line-height:normal;font-family:Menlo,'DejaVu Sans Mono',consolas,'Courier New',monospace\">11:39:56.097 | <span style=\"color: #008080; text-decoration-color: #008080\">INFO</span>    | distributed.scheduler - Register worker &lt;WorkerState 'tcp://127.0.0.1:36031', name: 3, status: init, memory: 0, processing: 0&gt;\n",
       "</pre>\n"
      ],
      "text/plain": [
       "11:39:56.097 | \u001b[36mINFO\u001b[0m    | distributed.scheduler - Register worker <WorkerState 'tcp://127.0.0.1:36031', name: 3, status: init, memory: 0, processing: 0>\n"
      ]
     },
     "metadata": {},
     "output_type": "display_data"
    },
    {
     "data": {
      "text/html": [
       "<pre style=\"white-space:pre;overflow-x:auto;line-height:normal;font-family:Menlo,'DejaVu Sans Mono',consolas,'Courier New',monospace\">11:39:56.098 | <span style=\"color: #008080; text-decoration-color: #008080\">INFO</span>    | distributed.scheduler - Starting worker compute stream, tcp://127.0.0.1:36031\n",
       "</pre>\n"
      ],
      "text/plain": [
       "11:39:56.098 | \u001b[36mINFO\u001b[0m    | distributed.scheduler - Starting worker compute stream, tcp://127.0.0.1:36031\n"
      ]
     },
     "metadata": {},
     "output_type": "display_data"
    },
    {
     "data": {
      "text/html": [
       "<pre style=\"white-space:pre;overflow-x:auto;line-height:normal;font-family:Menlo,'DejaVu Sans Mono',consolas,'Courier New',monospace\">11:39:56.099 | <span style=\"color: #008080; text-decoration-color: #008080\">INFO</span>    | distributed.core - Starting established connection to tcp://127.0.0.1:50332\n",
       "</pre>\n"
      ],
      "text/plain": [
       "11:39:56.099 | \u001b[36mINFO\u001b[0m    | distributed.core - Starting established connection to tcp://127.0.0.1:50332\n"
      ]
     },
     "metadata": {},
     "output_type": "display_data"
    },
    {
     "data": {
      "text/html": [
       "<pre style=\"white-space:pre;overflow-x:auto;line-height:normal;font-family:Menlo,'DejaVu Sans Mono',consolas,'Courier New',monospace\">11:39:56.147 | <span style=\"color: #008080; text-decoration-color: #008080\">INFO</span>    | distributed.scheduler - Receive client connection: Client-e9faeb3f-f25e-11ee-98d3-177fde9e489e\n",
       "</pre>\n"
      ],
      "text/plain": [
       "11:39:56.147 | \u001b[36mINFO\u001b[0m    | distributed.scheduler - Receive client connection: Client-e9faeb3f-f25e-11ee-98d3-177fde9e489e\n"
      ]
     },
     "metadata": {},
     "output_type": "display_data"
    },
    {
     "data": {
      "text/html": [
       "<pre style=\"white-space:pre;overflow-x:auto;line-height:normal;font-family:Menlo,'DejaVu Sans Mono',consolas,'Courier New',monospace\">11:39:56.149 | <span style=\"color: #008080; text-decoration-color: #008080\">INFO</span>    | distributed.core - Starting established connection to tcp://127.0.0.1:50338\n",
       "</pre>\n"
      ],
      "text/plain": [
       "11:39:56.149 | \u001b[36mINFO\u001b[0m    | distributed.core - Starting established connection to tcp://127.0.0.1:50338\n"
      ]
     },
     "metadata": {},
     "output_type": "display_data"
    },
    {
     "data": {
      "text/html": [
       "<pre style=\"white-space:pre;overflow-x:auto;line-height:normal;font-family:Menlo,'DejaVu Sans Mono',consolas,'Courier New',monospace\">11:39:56.151 | <span style=\"color: #008080; text-decoration-color: #008080\">INFO</span>    | prefect.task_runner.dask - The Dask dashboard is available at <span style=\"color: #0000ff; text-decoration-color: #0000ff\">http://127.0.0.1:8787/status</span>\n",
       "</pre>\n"
      ],
      "text/plain": [
       "11:39:56.151 | \u001b[36mINFO\u001b[0m    | prefect.task_runner.dask - The Dask dashboard is available at \u001b[94mhttp://127.0.0.1:8787/status\u001b[0m\n"
      ]
     },
     "metadata": {},
     "output_type": "display_data"
    },
    {
     "data": {
      "text/html": [
       "<pre style=\"white-space:pre;overflow-x:auto;line-height:normal;font-family:Menlo,'DejaVu Sans Mono',consolas,'Courier New',monospace\">11:39:58.403 | DEBUG   | Flow run<span style=\"color: #800080; text-decoration-color: #800080\"> 'athletic-hoatzin'</span> - Files found in the catalog (0): [] \n",
       "</pre>\n"
      ],
      "text/plain": [
       "11:39:58.403 | DEBUG   | Flow run\u001b[35m 'athletic-hoatzin'\u001b[0m - Files found in the catalog (0): [] \n"
      ]
     },
     "metadata": {},
     "output_type": "display_data"
    },
    {
     "data": {
      "text/html": [
       "<pre style=\"white-space:pre;overflow-x:auto;line-height:normal;font-family:Menlo,'DejaVu Sans Mono',consolas,'Courier New',monospace\">11:39:58.408 | <span style=\"color: #008080; text-decoration-color: #008080\">INFO</span>    | Flow run<span style=\"color: #800080; text-decoration-color: #800080\"> 'athletic-hoatzin'</span> - List with files to be downloaded (after filtering against the catalog)\n",
       "</pre>\n"
      ],
      "text/plain": [
       "11:39:58.408 | \u001b[36mINFO\u001b[0m    | Flow run\u001b[35m 'athletic-hoatzin'\u001b[0m - List with files to be downloaded (after filtering against the catalog)\n"
      ]
     },
     "metadata": {},
     "output_type": "display_data"
    },
    {
     "data": {
      "text/html": [
       "<pre style=\"white-space:pre;overflow-x:auto;line-height:normal;font-family:Menlo,'DejaVu Sans Mono',consolas,'Courier New',monospace\">11:39:58.409 | <span style=\"color: #008080; text-decoration-color: #008080\">INFO</span>    | Flow run<span style=\"color: #800080; text-decoration-color: #800080\"> 'athletic-hoatzin'</span> -       S2__OPER_AUX_ECMWFD_PDMC_20230216T120000_V20190217T090000_20190217T210000.TGZ\n",
       "</pre>\n"
      ],
      "text/plain": [
       "11:39:58.409 | \u001b[36mINFO\u001b[0m    | Flow run\u001b[35m 'athletic-hoatzin'\u001b[0m -       S2__OPER_AUX_ECMWFD_PDMC_20230216T120000_V20190217T090000_20190217T210000.TGZ\n"
      ]
     },
     "metadata": {},
     "output_type": "display_data"
    },
    {
     "data": {
      "text/html": [
       "<pre style=\"white-space:pre;overflow-x:auto;line-height:normal;font-family:Menlo,'DejaVu Sans Mono',consolas,'Courier New',monospace\">11:39:58.411 | <span style=\"color: #008080; text-decoration-color: #008080\">INFO</span>    | Flow run<span style=\"color: #800080; text-decoration-color: #800080\"> 'athletic-hoatzin'</span> -       S2__OPER_AUX_ECMWFD_PDMC_20200216T120000_V20190217T090000_20190217T210000.TGZ\n",
       "</pre>\n"
      ],
      "text/plain": [
       "11:39:58.411 | \u001b[36mINFO\u001b[0m    | Flow run\u001b[35m 'athletic-hoatzin'\u001b[0m -       S2__OPER_AUX_ECMWFD_PDMC_20200216T120000_V20190217T090000_20190217T210000.TGZ\n"
      ]
     },
     "metadata": {},
     "output_type": "display_data"
    },
    {
     "data": {
      "text/html": [
       "<pre style=\"white-space:pre;overflow-x:auto;line-height:normal;font-family:Menlo,'DejaVu Sans Mono',consolas,'Courier New',monospace\">11:39:58.412 | <span style=\"color: #008080; text-decoration-color: #008080\">INFO</span>    | Flow run<span style=\"color: #800080; text-decoration-color: #800080\"> 'athletic-hoatzin'</span> -       S2__OPER_AUX_ECMWFD_PDMC_20190216T120000_V20190217T090000_20190217T210000.TGZ\n",
       "</pre>\n"
      ],
      "text/plain": [
       "11:39:58.412 | \u001b[36mINFO\u001b[0m    | Flow run\u001b[35m 'athletic-hoatzin'\u001b[0m -       S2__OPER_AUX_ECMWFD_PDMC_20190216T120000_V20190217T090000_20190217T210000.TGZ\n"
      ]
     },
     "metadata": {},
     "output_type": "display_data"
    },
    {
     "data": {
      "text/html": [
       "<pre style=\"white-space:pre;overflow-x:auto;line-height:normal;font-family:Menlo,'DejaVu Sans Mono',consolas,'Courier New',monospace\">11:39:58.440 | <span style=\"color: #008080; text-decoration-color: #008080\">INFO</span>    | Flow run<span style=\"color: #800080; text-decoration-color: #800080\"> 'athletic-hoatzin'</span> - Created task run 'ingest_files-1' for task 'ingest_files'\n",
       "</pre>\n"
      ],
      "text/plain": [
       "11:39:58.440 | \u001b[36mINFO\u001b[0m    | Flow run\u001b[35m 'athletic-hoatzin'\u001b[0m - Created task run 'ingest_files-1' for task 'ingest_files'\n"
      ]
     },
     "metadata": {},
     "output_type": "display_data"
    },
    {
     "data": {
      "text/html": [
       "<pre style=\"white-space:pre;overflow-x:auto;line-height:normal;font-family:Menlo,'DejaVu Sans Mono',consolas,'Courier New',monospace\">11:39:58.444 | <span style=\"color: #008080; text-decoration-color: #008080\">INFO</span>    | Flow run<span style=\"color: #800080; text-decoration-color: #800080\"> 'athletic-hoatzin'</span> - Submitted task run 'ingest_files-1' for execution.\n",
       "</pre>\n"
      ],
      "text/plain": [
       "11:39:58.444 | \u001b[36mINFO\u001b[0m    | Flow run\u001b[35m 'athletic-hoatzin'\u001b[0m - Submitted task run 'ingest_files-1' for execution.\n"
      ]
     },
     "metadata": {},
     "output_type": "display_data"
    },
    {
     "data": {
      "text/html": [
       "<pre style=\"white-space:pre;overflow-x:auto;line-height:normal;font-family:Menlo,'DejaVu Sans Mono',consolas,'Courier New',monospace\">11:39:58.454 | <span style=\"color: #008080; text-decoration-color: #008080\">INFO</span>    | Flow run<span style=\"color: #800080; text-decoration-color: #800080\"> 'athletic-hoatzin'</span> - Created task run 'ingest_files-0' for task 'ingest_files'\n",
       "</pre>\n"
      ],
      "text/plain": [
       "11:39:58.454 | \u001b[36mINFO\u001b[0m    | Flow run\u001b[35m 'athletic-hoatzin'\u001b[0m - Created task run 'ingest_files-0' for task 'ingest_files'\n"
      ]
     },
     "metadata": {},
     "output_type": "display_data"
    },
    {
     "data": {
      "text/html": [
       "<pre style=\"white-space:pre;overflow-x:auto;line-height:normal;font-family:Menlo,'DejaVu Sans Mono',consolas,'Courier New',monospace\">11:39:58.458 | <span style=\"color: #008080; text-decoration-color: #008080\">INFO</span>    | Flow run<span style=\"color: #800080; text-decoration-color: #800080\"> 'athletic-hoatzin'</span> - Submitted task run 'ingest_files-0' for execution.\n",
       "</pre>\n"
      ],
      "text/plain": [
       "11:39:58.458 | \u001b[36mINFO\u001b[0m    | Flow run\u001b[35m 'athletic-hoatzin'\u001b[0m - Submitted task run 'ingest_files-0' for execution.\n"
      ]
     },
     "metadata": {},
     "output_type": "display_data"
    },
    {
     "data": {
      "text/html": [
       "<pre style=\"white-space:pre;overflow-x:auto;line-height:normal;font-family:Menlo,'DejaVu Sans Mono',consolas,'Courier New',monospace\">11:39:58.475 | <span style=\"color: #008080; text-decoration-color: #008080\">INFO</span>    | Flow run<span style=\"color: #800080; text-decoration-color: #800080\"> 'athletic-hoatzin'</span> - Created task run 'ingest_files-2' for task 'ingest_files'\n",
       "</pre>\n"
      ],
      "text/plain": [
       "11:39:58.475 | \u001b[36mINFO\u001b[0m    | Flow run\u001b[35m 'athletic-hoatzin'\u001b[0m - Created task run 'ingest_files-2' for task 'ingest_files'\n"
      ]
     },
     "metadata": {},
     "output_type": "display_data"
    },
    {
     "data": {
      "text/html": [
       "<pre style=\"white-space:pre;overflow-x:auto;line-height:normal;font-family:Menlo,'DejaVu Sans Mono',consolas,'Courier New',monospace\">11:39:58.479 | <span style=\"color: #008080; text-decoration-color: #008080\">INFO</span>    | Flow run<span style=\"color: #800080; text-decoration-color: #800080\"> 'athletic-hoatzin'</span> - Submitted task run 'ingest_files-2' for execution.\n",
       "</pre>\n"
      ],
      "text/plain": [
       "11:39:58.479 | \u001b[36mINFO\u001b[0m    | Flow run\u001b[35m 'athletic-hoatzin'\u001b[0m - Submitted task run 'ingest_files-2' for execution.\n"
      ]
     },
     "metadata": {},
     "output_type": "display_data"
    },
    {
     "name": "stderr",
     "output_type": "stream",
     "text": [
      "11:40:02.089 | \u001b[36mINFO\u001b[0m    | Task run 'ingest_files-0' - The download progress for file S2__OPER_AUX_ECMWFD_PDMC_20230216T120000_V20190217T090000_20190217T210000.TGZ is IN_PROGRESS\n",
      "11:40:02.788 | \u001b[36mINFO\u001b[0m    | Task run 'ingest_files-2' - The download progress for file S2__OPER_AUX_ECMWFD_PDMC_20190216T120000_V20190217T090000_20190217T210000.TGZ is IN_PROGRESS\n",
      "11:40:03.302 | \u001b[36mINFO\u001b[0m    | Task run 'ingest_files-1' - The download progress for file S2__OPER_AUX_ECMWFD_PDMC_20200216T120000_V20190217T090000_20190217T210000.TGZ is IN_PROGRESS\n",
      "11:40:03.320 | \u001b[36mINFO\u001b[0m    | Task run 'ingest_files-0' - File S2__OPER_AUX_ECMWFD_PDMC_20230216T120000_V20190217T090000_20190217T210000.TGZ has been properly downloaded...\n",
      "11:40:03.976 | \u001b[36mINFO\u001b[0m    | Task run 'ingest_files-0' - File well published: S2__OPER_AUX_ECMWFD_PDMC_20230216T120000_V20190217T090000_20190217T210000.TGZ\n",
      "\n",
      "11:40:04.018 | \u001b[36mINFO\u001b[0m    | Task run 'ingest_files-0' - Finished in state \u001b[32mCompleted\u001b[0m()\n",
      "11:40:04.018 | \u001b[36mINFO\u001b[0m    | Task run 'ingest_files-2' - File S2__OPER_AUX_ECMWFD_PDMC_20190216T120000_V20190217T090000_20190217T210000.TGZ has been properly downloaded...\n",
      "11:40:04.519 | \u001b[36mINFO\u001b[0m    | Task run 'ingest_files-1' - File S2__OPER_AUX_ECMWFD_PDMC_20200216T120000_V20190217T090000_20190217T210000.TGZ has been properly downloaded...\n",
      "11:40:04.647 | \u001b[36mINFO\u001b[0m    | Task run 'ingest_files-2' - File well published: S2__OPER_AUX_ECMWFD_PDMC_20190216T120000_V20190217T090000_20190217T210000.TGZ\n",
      "\n",
      "11:40:04.694 | \u001b[36mINFO\u001b[0m    | Task run 'ingest_files-2' - Finished in state \u001b[32mCompleted\u001b[0m()\n",
      "11:40:04.905 | \u001b[36mINFO\u001b[0m    | Task run 'ingest_files-1' - File well published: S2__OPER_AUX_ECMWFD_PDMC_20200216T120000_V20190217T090000_20190217T210000.TGZ\n",
      "\n",
      "11:40:04.947 | \u001b[36mINFO\u001b[0m    | Task run 'ingest_files-1' - Finished in state \u001b[32mCompleted\u001b[0m()\n"
     ]
    },
    {
     "data": {
      "text/html": [
       "<pre style=\"white-space:pre;overflow-x:auto;line-height:normal;font-family:Menlo,'DejaVu Sans Mono',consolas,'Courier New',monospace\">11:40:04.997 | <span style=\"color: #008080; text-decoration-color: #008080\">INFO</span>    | distributed.scheduler - Remove client Client-e9faeb3f-f25e-11ee-98d3-177fde9e489e\n",
       "</pre>\n"
      ],
      "text/plain": [
       "11:40:04.997 | \u001b[36mINFO\u001b[0m    | distributed.scheduler - Remove client Client-e9faeb3f-f25e-11ee-98d3-177fde9e489e\n"
      ]
     },
     "metadata": {},
     "output_type": "display_data"
    },
    {
     "data": {
      "text/html": [
       "<pre style=\"white-space:pre;overflow-x:auto;line-height:normal;font-family:Menlo,'DejaVu Sans Mono',consolas,'Courier New',monospace\">11:40:04.998 | <span style=\"color: #008080; text-decoration-color: #008080\">INFO</span>    | distributed.core - Received 'close-stream' from tcp://127.0.0.1:50338; closing.\n",
       "</pre>\n"
      ],
      "text/plain": [
       "11:40:04.998 | \u001b[36mINFO\u001b[0m    | distributed.core - Received 'close-stream' from tcp://127.0.0.1:50338; closing.\n"
      ]
     },
     "metadata": {},
     "output_type": "display_data"
    },
    {
     "data": {
      "text/html": [
       "<pre style=\"white-space:pre;overflow-x:auto;line-height:normal;font-family:Menlo,'DejaVu Sans Mono',consolas,'Courier New',monospace\">11:40:04.999 | <span style=\"color: #008080; text-decoration-color: #008080\">INFO</span>    | distributed.scheduler - Remove client Client-e9faeb3f-f25e-11ee-98d3-177fde9e489e\n",
       "</pre>\n"
      ],
      "text/plain": [
       "11:40:04.999 | \u001b[36mINFO\u001b[0m    | distributed.scheduler - Remove client Client-e9faeb3f-f25e-11ee-98d3-177fde9e489e\n"
      ]
     },
     "metadata": {},
     "output_type": "display_data"
    },
    {
     "data": {
      "text/html": [
       "<pre style=\"white-space:pre;overflow-x:auto;line-height:normal;font-family:Menlo,'DejaVu Sans Mono',consolas,'Courier New',monospace\">11:40:05.000 | <span style=\"color: #008080; text-decoration-color: #008080\">INFO</span>    | distributed.scheduler - Close client connection: Client-e9faeb3f-f25e-11ee-98d3-177fde9e489e\n",
       "</pre>\n"
      ],
      "text/plain": [
       "11:40:05.000 | \u001b[36mINFO\u001b[0m    | distributed.scheduler - Close client connection: Client-e9faeb3f-f25e-11ee-98d3-177fde9e489e\n"
      ]
     },
     "metadata": {},
     "output_type": "display_data"
    },
    {
     "data": {
      "text/html": [
       "<pre style=\"white-space:pre;overflow-x:auto;line-height:normal;font-family:Menlo,'DejaVu Sans Mono',consolas,'Courier New',monospace\">11:40:05.002 | <span style=\"color: #008080; text-decoration-color: #008080\">INFO</span>    | distributed.scheduler - Retire worker addresses (0, 1, 2, 3)\n",
       "</pre>\n"
      ],
      "text/plain": [
       "11:40:05.002 | \u001b[36mINFO\u001b[0m    | distributed.scheduler - Retire worker addresses (0, 1, 2, 3)\n"
      ]
     },
     "metadata": {},
     "output_type": "display_data"
    },
    {
     "data": {
      "text/html": [
       "<pre style=\"white-space:pre;overflow-x:auto;line-height:normal;font-family:Menlo,'DejaVu Sans Mono',consolas,'Courier New',monospace\">11:40:05.002 | <span style=\"color: #008080; text-decoration-color: #008080\">INFO</span>    | distributed.nanny - Closing Nanny at 'tcp://127.0.0.1:42775'. Reason: nanny-close\n",
       "</pre>\n"
      ],
      "text/plain": [
       "11:40:05.002 | \u001b[36mINFO\u001b[0m    | distributed.nanny - Closing Nanny at 'tcp://127.0.0.1:42775'. Reason: nanny-close\n"
      ]
     },
     "metadata": {},
     "output_type": "display_data"
    },
    {
     "data": {
      "text/html": [
       "<pre style=\"white-space:pre;overflow-x:auto;line-height:normal;font-family:Menlo,'DejaVu Sans Mono',consolas,'Courier New',monospace\">11:40:05.003 | <span style=\"color: #008080; text-decoration-color: #008080\">INFO</span>    | distributed.nanny - Nanny asking worker to close. Reason: nanny-close\n",
       "</pre>\n"
      ],
      "text/plain": [
       "11:40:05.003 | \u001b[36mINFO\u001b[0m    | distributed.nanny - Nanny asking worker to close. Reason: nanny-close\n"
      ]
     },
     "metadata": {},
     "output_type": "display_data"
    },
    {
     "data": {
      "text/html": [
       "<pre style=\"white-space:pre;overflow-x:auto;line-height:normal;font-family:Menlo,'DejaVu Sans Mono',consolas,'Courier New',monospace\">11:40:05.004 | <span style=\"color: #008080; text-decoration-color: #008080\">INFO</span>    | distributed.nanny - Closing Nanny at 'tcp://127.0.0.1:35571'. Reason: nanny-close\n",
       "</pre>\n"
      ],
      "text/plain": [
       "11:40:05.004 | \u001b[36mINFO\u001b[0m    | distributed.nanny - Closing Nanny at 'tcp://127.0.0.1:35571'. Reason: nanny-close\n"
      ]
     },
     "metadata": {},
     "output_type": "display_data"
    },
    {
     "data": {
      "text/html": [
       "<pre style=\"white-space:pre;overflow-x:auto;line-height:normal;font-family:Menlo,'DejaVu Sans Mono',consolas,'Courier New',monospace\">11:40:05.004 | <span style=\"color: #008080; text-decoration-color: #008080\">INFO</span>    | distributed.nanny - Nanny asking worker to close. Reason: nanny-close\n",
       "</pre>\n"
      ],
      "text/plain": [
       "11:40:05.004 | \u001b[36mINFO\u001b[0m    | distributed.nanny - Nanny asking worker to close. Reason: nanny-close\n"
      ]
     },
     "metadata": {},
     "output_type": "display_data"
    },
    {
     "data": {
      "text/html": [
       "<pre style=\"white-space:pre;overflow-x:auto;line-height:normal;font-family:Menlo,'DejaVu Sans Mono',consolas,'Courier New',monospace\">11:40:05.005 | <span style=\"color: #008080; text-decoration-color: #008080\">INFO</span>    | distributed.nanny - Closing Nanny at 'tcp://127.0.0.1:44793'. Reason: nanny-close\n",
       "</pre>\n"
      ],
      "text/plain": [
       "11:40:05.005 | \u001b[36mINFO\u001b[0m    | distributed.nanny - Closing Nanny at 'tcp://127.0.0.1:44793'. Reason: nanny-close\n"
      ]
     },
     "metadata": {},
     "output_type": "display_data"
    },
    {
     "data": {
      "text/html": [
       "<pre style=\"white-space:pre;overflow-x:auto;line-height:normal;font-family:Menlo,'DejaVu Sans Mono',consolas,'Courier New',monospace\">11:40:05.006 | <span style=\"color: #008080; text-decoration-color: #008080\">INFO</span>    | distributed.nanny - Nanny asking worker to close. Reason: nanny-close\n",
       "</pre>\n"
      ],
      "text/plain": [
       "11:40:05.006 | \u001b[36mINFO\u001b[0m    | distributed.nanny - Nanny asking worker to close. Reason: nanny-close\n"
      ]
     },
     "metadata": {},
     "output_type": "display_data"
    },
    {
     "data": {
      "text/html": [
       "<pre style=\"white-space:pre;overflow-x:auto;line-height:normal;font-family:Menlo,'DejaVu Sans Mono',consolas,'Courier New',monospace\">11:40:05.007 | <span style=\"color: #008080; text-decoration-color: #008080\">INFO</span>    | distributed.nanny - Closing Nanny at 'tcp://127.0.0.1:36291'. Reason: nanny-close\n",
       "</pre>\n"
      ],
      "text/plain": [
       "11:40:05.007 | \u001b[36mINFO\u001b[0m    | distributed.nanny - Closing Nanny at 'tcp://127.0.0.1:36291'. Reason: nanny-close\n"
      ]
     },
     "metadata": {},
     "output_type": "display_data"
    },
    {
     "data": {
      "text/html": [
       "<pre style=\"white-space:pre;overflow-x:auto;line-height:normal;font-family:Menlo,'DejaVu Sans Mono',consolas,'Courier New',monospace\">11:40:05.007 | <span style=\"color: #008080; text-decoration-color: #008080\">INFO</span>    | distributed.nanny - Nanny asking worker to close. Reason: nanny-close\n",
       "</pre>\n"
      ],
      "text/plain": [
       "11:40:05.007 | \u001b[36mINFO\u001b[0m    | distributed.nanny - Nanny asking worker to close. Reason: nanny-close\n"
      ]
     },
     "metadata": {},
     "output_type": "display_data"
    },
    {
     "data": {
      "text/html": [
       "<pre style=\"white-space:pre;overflow-x:auto;line-height:normal;font-family:Menlo,'DejaVu Sans Mono',consolas,'Courier New',monospace\">11:40:05.009 | <span style=\"color: #008080; text-decoration-color: #008080\">INFO</span>    | distributed.core - Received 'close-stream' from tcp://127.0.0.1:50302; closing.\n",
       "</pre>\n"
      ],
      "text/plain": [
       "11:40:05.009 | \u001b[36mINFO\u001b[0m    | distributed.core - Received 'close-stream' from tcp://127.0.0.1:50302; closing.\n"
      ]
     },
     "metadata": {},
     "output_type": "display_data"
    },
    {
     "data": {
      "text/html": [
       "<pre style=\"white-space:pre;overflow-x:auto;line-height:normal;font-family:Menlo,'DejaVu Sans Mono',consolas,'Courier New',monospace\">11:40:05.010 | <span style=\"color: #008080; text-decoration-color: #008080\">INFO</span>    | distributed.core - Received 'close-stream' from tcp://127.0.0.1:50316; closing.\n",
       "</pre>\n"
      ],
      "text/plain": [
       "11:40:05.010 | \u001b[36mINFO\u001b[0m    | distributed.core - Received 'close-stream' from tcp://127.0.0.1:50316; closing.\n"
      ]
     },
     "metadata": {},
     "output_type": "display_data"
    },
    {
     "data": {
      "text/html": [
       "<pre style=\"white-space:pre;overflow-x:auto;line-height:normal;font-family:Menlo,'DejaVu Sans Mono',consolas,'Courier New',monospace\">11:40:05.011 | <span style=\"color: #008080; text-decoration-color: #008080\">INFO</span>    | distributed.core - Received 'close-stream' from tcp://127.0.0.1:50324; closing.\n",
       "</pre>\n"
      ],
      "text/plain": [
       "11:40:05.011 | \u001b[36mINFO\u001b[0m    | distributed.core - Received 'close-stream' from tcp://127.0.0.1:50324; closing.\n"
      ]
     },
     "metadata": {},
     "output_type": "display_data"
    },
    {
     "data": {
      "text/html": [
       "<pre style=\"white-space:pre;overflow-x:auto;line-height:normal;font-family:Menlo,'DejaVu Sans Mono',consolas,'Courier New',monospace\">11:40:05.012 | <span style=\"color: #008080; text-decoration-color: #008080\">INFO</span>    | distributed.scheduler - Remove worker &lt;WorkerState 'tcp://127.0.0.1:35033', name: 0, status: closing, memory: 0, processing: 0&gt; (stimulus_id='handle-worker-cleanup-1712220005.0122604')\n",
       "</pre>\n"
      ],
      "text/plain": [
       "11:40:05.012 | \u001b[36mINFO\u001b[0m    | distributed.scheduler - Remove worker <WorkerState 'tcp://127.0.0.1:35033', name: 0, status: closing, memory: 0, processing: 0> (stimulus_id='handle-worker-cleanup-1712220005.0122604')\n"
      ]
     },
     "metadata": {},
     "output_type": "display_data"
    },
    {
     "data": {
      "text/html": [
       "<pre style=\"white-space:pre;overflow-x:auto;line-height:normal;font-family:Menlo,'DejaVu Sans Mono',consolas,'Courier New',monospace\">11:40:05.013 | <span style=\"color: #008080; text-decoration-color: #008080\">INFO</span>    | distributed.scheduler - Remove worker &lt;WorkerState 'tcp://127.0.0.1:40041', name: 1, status: closing, memory: 0, processing: 0&gt; (stimulus_id='handle-worker-cleanup-1712220005.013217')\n",
       "</pre>\n"
      ],
      "text/plain": [
       "11:40:05.013 | \u001b[36mINFO\u001b[0m    | distributed.scheduler - Remove worker <WorkerState 'tcp://127.0.0.1:40041', name: 1, status: closing, memory: 0, processing: 0> (stimulus_id='handle-worker-cleanup-1712220005.013217')\n"
      ]
     },
     "metadata": {},
     "output_type": "display_data"
    },
    {
     "data": {
      "text/html": [
       "<pre style=\"white-space:pre;overflow-x:auto;line-height:normal;font-family:Menlo,'DejaVu Sans Mono',consolas,'Courier New',monospace\">11:40:05.014 | <span style=\"color: #008080; text-decoration-color: #008080\">INFO</span>    | distributed.scheduler - Remove worker &lt;WorkerState 'tcp://127.0.0.1:38169', name: 2, status: closing, memory: 0, processing: 0&gt; (stimulus_id='handle-worker-cleanup-1712220005.0141795')\n",
       "</pre>\n"
      ],
      "text/plain": [
       "11:40:05.014 | \u001b[36mINFO\u001b[0m    | distributed.scheduler - Remove worker <WorkerState 'tcp://127.0.0.1:38169', name: 2, status: closing, memory: 0, processing: 0> (stimulus_id='handle-worker-cleanup-1712220005.0141795')\n"
      ]
     },
     "metadata": {},
     "output_type": "display_data"
    },
    {
     "data": {
      "text/html": [
       "<pre style=\"white-space:pre;overflow-x:auto;line-height:normal;font-family:Menlo,'DejaVu Sans Mono',consolas,'Courier New',monospace\">11:40:05.015 | <span style=\"color: #008080; text-decoration-color: #008080\">INFO</span>    | distributed.core - Received 'close-stream' from tcp://127.0.0.1:50332; closing.\n",
       "</pre>\n"
      ],
      "text/plain": [
       "11:40:05.015 | \u001b[36mINFO\u001b[0m    | distributed.core - Received 'close-stream' from tcp://127.0.0.1:50332; closing.\n"
      ]
     },
     "metadata": {},
     "output_type": "display_data"
    },
    {
     "data": {
      "text/html": [
       "<pre style=\"white-space:pre;overflow-x:auto;line-height:normal;font-family:Menlo,'DejaVu Sans Mono',consolas,'Courier New',monospace\">11:40:05.016 | <span style=\"color: #008080; text-decoration-color: #008080\">INFO</span>    | distributed.scheduler - Remove worker &lt;WorkerState 'tcp://127.0.0.1:36031', name: 3, status: closing, memory: 0, processing: 0&gt; (stimulus_id='handle-worker-cleanup-1712220005.0165882')\n",
       "</pre>\n"
      ],
      "text/plain": [
       "11:40:05.016 | \u001b[36mINFO\u001b[0m    | distributed.scheduler - Remove worker <WorkerState 'tcp://127.0.0.1:36031', name: 3, status: closing, memory: 0, processing: 0> (stimulus_id='handle-worker-cleanup-1712220005.0165882')\n"
      ]
     },
     "metadata": {},
     "output_type": "display_data"
    },
    {
     "data": {
      "text/html": [
       "<pre style=\"white-space:pre;overflow-x:auto;line-height:normal;font-family:Menlo,'DejaVu Sans Mono',consolas,'Courier New',monospace\">11:40:05.017 | <span style=\"color: #008080; text-decoration-color: #008080\">INFO</span>    | distributed.scheduler - Lost all workers\n",
       "</pre>\n"
      ],
      "text/plain": [
       "11:40:05.017 | \u001b[36mINFO\u001b[0m    | distributed.scheduler - Lost all workers\n"
      ]
     },
     "metadata": {},
     "output_type": "display_data"
    },
    {
     "data": {
      "text/html": [
       "<pre style=\"white-space:pre;overflow-x:auto;line-height:normal;font-family:Menlo,'DejaVu Sans Mono',consolas,'Courier New',monospace\">11:40:05.892 | <span style=\"color: #008080; text-decoration-color: #008080\">INFO</span>    | distributed.scheduler - Scheduler closing due to unknown reason...\n",
       "</pre>\n"
      ],
      "text/plain": [
       "11:40:05.892 | \u001b[36mINFO\u001b[0m    | distributed.scheduler - Scheduler closing due to unknown reason...\n"
      ]
     },
     "metadata": {},
     "output_type": "display_data"
    },
    {
     "data": {
      "text/html": [
       "<pre style=\"white-space:pre;overflow-x:auto;line-height:normal;font-family:Menlo,'DejaVu Sans Mono',consolas,'Courier New',monospace\">11:40:05.893 | <span style=\"color: #008080; text-decoration-color: #008080\">INFO</span>    | distributed.scheduler - Scheduler closing all comms\n",
       "</pre>\n"
      ],
      "text/plain": [
       "11:40:05.893 | \u001b[36mINFO\u001b[0m    | distributed.scheduler - Scheduler closing all comms\n"
      ]
     },
     "metadata": {},
     "output_type": "display_data"
    },
    {
     "data": {
      "text/html": [
       "<pre style=\"white-space:pre;overflow-x:auto;line-height:normal;font-family:Menlo,'DejaVu Sans Mono',consolas,'Courier New',monospace\">11:40:05.895 | <span style=\"color: #008080; text-decoration-color: #008080\">INFO</span>    | Flow run<span style=\"color: #800080; text-decoration-color: #800080\"> 'athletic-hoatzin'</span> - Finished in state <span style=\"color: #008000; text-decoration-color: #008000\">Completed</span>()\n",
       "</pre>\n"
      ],
      "text/plain": [
       "11:40:05.895 | \u001b[36mINFO\u001b[0m    | Flow run\u001b[35m 'athletic-hoatzin'\u001b[0m - Finished in state \u001b[32mCompleted\u001b[0m()\n"
      ]
     },
     "metadata": {},
     "output_type": "display_data"
    }
   ],
   "source": [
    "\n",
    "\n",
    "from datetime import datetime\n",
    "\n",
    "from rs_workflows.common import (\n",
    "    PrefectFlowConfig,\n",
    "    download_flow,\n",
    ")\n",
    "\n",
    "def run_flow(user, url, url_catalog, station, mission, tmp_local_download, bucket_url, api_key, no_of_tasks, start_date, stop_date):\n",
    "    # start the prefect flow\n",
    "    download_flow(PrefectFlowConfig(user,\n",
    "                                    url,\n",
    "                                    url_catalog,\n",
    "                                    station,\n",
    "                                    mission,\n",
    "                                    tmp_local_download,\n",
    "                                    bucket_url,\n",
    "                                    api_key,\n",
    "                                    no_of_tasks,\n",
    "                                    datetime.strptime(start_date, \"%Y-%m-%dT%H:%M:%SZ\"),\n",
    "                                    datetime.strptime(stop_date, \"%Y-%m-%dT%H:%M:%SZ\"),                                   \n",
    "            )\n",
    ")\n",
    "\n",
    "\n",
    "stations = [\"CADIP\", \"ADGS\"]\n",
    "url = os.environ[\"RSPY_WEBSITE\"]\n",
    "\n",
    "tmp_local_download = \"/tmp/{}_tmp\"\n",
    "no_of_tasks = 4\n",
    "\n",
    "for station in stations:\n",
    "    run_flow(user,\n",
    "             url.format(station.lower()),\n",
    "             url_catalog,\n",
    "             station,\n",
    "             mission,\n",
    "             tmp_local_download.format(station),\n",
    "             bucket_url + f\"/{station}\",\n",
    "             os.environ.get(\"RSPY_APIKEY\", None),\n",
    "             no_of_tasks,\n",
    "             \"2014-01-01T12:00:00Z\",\n",
    "             \"2024-02-20T12:00:00Z\",\n",
    "             )    \n",
    "    "
   ]
  },
  {
   "cell_type": "code",
   "execution_count": null,
   "id": "f23a530a",
   "metadata": {},
   "outputs": [],
   "source": [
    "import json\n",
    "catalog_data = json.loads((requests.get(url_catalog.rstrip(\"/\") + f\"/catalog/collections/{user}:{mission}_aux/items?limit=20\", **apikey_headers).content.decode()))\n",
    "\n",
    "for feature in catalog_data['features']:\n",
    "    print(requests.get(url_catalog.rstrip(\"/\") + f\"/catalog/collections/{user}:{mission}_aux/items/{feature['id']}/download/file\", **apikey_headers).content)"
   ]
  },
  {
   "cell_type": "code",
   "execution_count": null,
   "id": "0f0e40c4-30b0-4c02-ba95-4348f347e397",
   "metadata": {},
   "outputs": [],
   "source": []
  }
 ],
 "metadata": {
  "kernelspec": {
   "display_name": "Python 3 (ipykernel)",
   "language": "python",
   "name": "python3"
  },
  "language_info": {
   "codemirror_mode": {
    "name": "ipython",
    "version": 3
   },
   "file_extension": ".py",
   "mimetype": "text/x-python",
   "name": "python",
   "nbconvert_exporter": "python",
   "pygments_lexer": "ipython3",
   "version": "3.11.7"
  }
 },
 "nbformat": 4,
 "nbformat_minor": 5
}

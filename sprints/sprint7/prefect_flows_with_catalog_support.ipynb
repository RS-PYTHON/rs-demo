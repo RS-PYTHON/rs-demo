{
 "cells": [
  {
   "cell_type": "markdown",
   "id": "d398824b",
   "metadata": {},
   "source": [
    "This demo uses the following implemented stories:\n",
    "- RSPY-25\n",
    "- RSPY-85\n",
    "- RSPY-100\n",
    "- RSPY-115\n",
    "- RSPY-139"
   ]
  },
  {
   "cell_type": "markdown",
   "id": "45a6fd57-cb01-4ed4-a9ba-fcd0a99c2a41",
   "metadata": {},
   "source": [
    "## Configuration"
   ]
  },
  {
   "cell_type": "code",
   "execution_count": 1,
   "id": "640d32d1-54e8-4ab2-9b6b-c0af28d2c620",
   "metadata": {},
   "outputs": [
    {
     "name": "stdout",
     "output_type": "stream",
     "text": [
      "Using: https://dev-rspy.esa-copernicus.eu\n"
     ]
    }
   ],
   "source": [
    "# Set local or cluster configuration\n",
    "import os\n",
    "\n",
    "if os.getenv(\"RSPY_LOCAL_MODE\") == \"1\":\n",
    "    url_catalog = \"http://rs-server-catalog:8000\"\n",
    "    HEADERS={}\n",
    "    local_mode = True\n",
    "else:\n",
    "    url_catalog = os.environ[\"RSPY_WEBSITE\"]\n",
    "    HEADERS={\"headers\": {\"x-api-key\": os.environ[\"RSPY_APIKEY\"]}}\n",
    "    local_mode = False\n",
    "\n",
    "print(f\"Using: {url_catalog}\")\n",
    "\n",
    "import requests\n",
    "import json"
   ]
  },
  {
   "cell_type": "markdown",
   "id": "b6657010",
   "metadata": {},
   "source": [
    "Install the needed libraries"
   ]
  },
  {
   "cell_type": "code",
   "execution_count": 2,
   "id": "be9b556c-b548-4428-8fe3-3cca45754287",
   "metadata": {},
   "outputs": [
    {
     "name": "stdout",
     "output_type": "stream",
     "text": [
      "Requirement already satisfied: boto3 in /home/alex/prj/refsys/env_rs_server_libraries/lib/python3.11/site-packages (1.34.41)\n",
      "Requirement already satisfied: botocore<1.35.0,>=1.34.41 in /home/alex/prj/refsys/env_rs_server_libraries/lib/python3.11/site-packages (from boto3) (1.34.41)\n",
      "Requirement already satisfied: jmespath<2.0.0,>=0.7.1 in /home/alex/prj/refsys/env_rs_server_libraries/lib/python3.11/site-packages (from boto3) (1.0.1)\n",
      "Requirement already satisfied: s3transfer<0.11.0,>=0.10.0 in /home/alex/prj/refsys/env_rs_server_libraries/lib/python3.11/site-packages (from boto3) (0.10.0)\n",
      "Requirement already satisfied: python-dateutil<3.0.0,>=2.1 in /home/alex/prj/refsys/env_rs_server_libraries/lib/python3.11/site-packages (from botocore<1.35.0,>=1.34.41->boto3) (2.9.0.post0)\n",
      "Requirement already satisfied: urllib3<2.1,>=1.25.4 in /home/alex/prj/refsys/env_rs_server_libraries/lib/python3.11/site-packages (from botocore<1.35.0,>=1.34.41->boto3) (2.0.7)\n",
      "Requirement already satisfied: six>=1.5 in /home/alex/prj/refsys/env_rs_server_libraries/lib/python3.11/site-packages (from python-dateutil<3.0.0,>=2.1->botocore<1.35.0,>=1.34.41->boto3) (1.16.0)\n",
      "\n",
      "\u001b[1m[\u001b[0m\u001b[34;49mnotice\u001b[0m\u001b[1;39;49m]\u001b[0m\u001b[39;49m A new release of pip is available: \u001b[0m\u001b[31;49m23.2.1\u001b[0m\u001b[39;49m -> \u001b[0m\u001b[32;49m24.0\u001b[0m\n",
      "\u001b[1m[\u001b[0m\u001b[34;49mnotice\u001b[0m\u001b[1;39;49m]\u001b[0m\u001b[39;49m To update, run: \u001b[0m\u001b[32;49mpip install --upgrade pip\u001b[0m\n"
     ]
    }
   ],
   "source": [
    "!pip install boto3\n",
    "if local_mode:\n",
    "    !(cd $RSPY_WHL_DIR && pip install rs_client_libraries-*.whl )"
   ]
  },
  {
   "cell_type": "code",
   "execution_count": 3,
   "id": "78f7263f-b07d-4673-b6d3-301b035e76f9",
   "metadata": {},
   "outputs": [],
   "source": [
    "# We'll use boto3 to monitor the s3 bucket. \n",
    "# Note: the S3_ACCESSKEY, S3_SECRETKEY and S3_ENDPOINT are given in the docker-compose.yml file.\n",
    "import boto3\n",
    "import os\n",
    "\n",
    "s3_session = boto3.session.Session()\n",
    "s3_client = s3_session.client(\n",
    "    service_name=\"s3\",\n",
    "    aws_access_key_id=os.environ[\"S3_ACCESSKEY\"],\n",
    "    aws_secret_access_key=os.environ[\"S3_SECRETKEY\"],\n",
    "    endpoint_url=os.environ[\"S3_ENDPOINT\"],\n",
    "    region_name=os.environ[\"S3_REGION\"],\n",
    ")\n",
    "\n",
    "buckets = [\"rs-cluster-temp\", \"rs-cluster-catalog\"] # bucket names under S3_ENDPOINT\n",
    "bucket_dir = \"stations\"\n",
    "bucket_url = f\"s3://{buckets[0]}/{bucket_dir}\"\n",
    "\n",
    "# Only in local mode\n",
    "if local_mode:\n",
    "    \n",
    "    # If the bucket is already created, clear all files to start fresh for each demo. \n",
    "    for b in buckets:\n",
    "        if b in [bucket[\"Name\"] for bucket in s3_client.list_buckets()[\"Buckets\"]]:\n",
    "            if 'Contents' in s3_client.list_objects(Bucket=b):\n",
    "                objects = s3_client.list_objects(Bucket=b)['Contents']\n",
    "                for obj in objects:\n",
    "                    # clear up the bucket\n",
    "                    s3_client.delete_object(Bucket=b, Key=obj['Key'])\n",
    "        else:\n",
    "            s3_client.create_bucket(Bucket=b)\n",
    "    for b in buckets:\n",
    "        print(f\"Is {b} empty ?: \", 'Contents' not in s3_client.list_objects(Bucket=b))\n",
    "    \n",
    "    # Truncate the items table from catalog also if this is not the first run !\n",
    "    #docker exec -it catalog-db psql -U postgres -d catalog -c \"TRUNCATE items\""
   ]
  },
  {
   "cell_type": "markdown",
   "id": "472719ef",
   "metadata": {},
   "source": [
    "The bucket \"rs-cluster-temp\" is used for this demo. Thus, the cadip and adgs prefect flows will be asking for the rs-server endpoints to download the files from the CADIP and ADGS stations and to upload them to \"s3://rs-cluster-temp/stations/\".\n",
    "After a successful upload to s3 bucket, the update stac catalog service is called to update the catalog and to transfer the files from the temp bucket to the \"rs-cluster-catalog\" bucket."
   ]
  },
  {
   "cell_type": "code",
   "execution_count": 4,
   "id": "e41ab37d",
   "metadata": {},
   "outputs": [
    {
     "data": {
      "text/plain": [
       "<Response [200]>"
      ]
     },
     "execution_count": 4,
     "metadata": {},
     "output_type": "execute_result"
    }
   ],
   "source": [
    "\"# Clean previous executions\\n\",\n",
    "requests.delete(f\"{url_catalog}/catalog/collections/DemoUser:s1_aux\", **HEADERS)"
   ]
  },
  {
   "cell_type": "code",
   "execution_count": 5,
   "id": "566b8976",
   "metadata": {},
   "outputs": [
    {
     "data": {
      "text/plain": [
       "{'id': 's1_aux',\n",
       " 'type': 'Collection',\n",
       " 'links': [{'rel': 'items',\n",
       "   'type': 'application/geo+json',\n",
       "   'href': 'https://dev-rspy.esa-copernicus.eu/catalog/DemoUser/collections/s1_aux/items'},\n",
       "  {'rel': 'parent',\n",
       "   'type': 'application/json',\n",
       "   'href': 'https://dev-rspy.esa-copernicus.eu/catalog/DemoUser'},\n",
       "  {'rel': 'root',\n",
       "   'type': 'application/json',\n",
       "   'href': 'https://dev-rspy.esa-copernicus.eu/catalog/DemoUser'},\n",
       "  {'rel': 'self',\n",
       "   'type': 'application/json',\n",
       "   'href': 'https://dev-rspy.esa-copernicus.eu/catalog/DemoUser/collections/s1_aux'},\n",
       "  {'rel': 'items',\n",
       "   'type': 'application/geo+json',\n",
       "   'href': 'http://localhost:8082/collections/s1_aux/items'},\n",
       "  {'rel': 'license',\n",
       "   'href': 'https://creativecommons.org/licenses/publicdomain/',\n",
       "   'title': 'public domain'}],\n",
       " 'extent': {'spatial': {'bbox': [[-94.6911621,\n",
       "     37.0332547,\n",
       "     -94.402771,\n",
       "     37.1077651]]},\n",
       "  'temporal': {'interval': [['2000-02-01T00:00:00Z',\n",
       "     '2000-02-12T00:00:00Z']]}},\n",
       " 'license': 'public-domain',\n",
       " 'description': 'Some description',\n",
       " 'stac_version': '1.0.0',\n",
       " 'owner': 'DemoUser'}"
      ]
     },
     "execution_count": 5,
     "metadata": {},
     "output_type": "execute_result"
    }
   ],
   "source": [
    "# Create the user's collection first (this has to be done on client side)\n",
    "\n",
    "from dataclasses import dataclass\n",
    "import requests\n",
    "\n",
    "@dataclass\n",
    "class Collection:\n",
    "    \"\"\"A collection for test purpose.\"\"\"\n",
    "\n",
    "    user: str\n",
    "    name: str\n",
    "\n",
    "    @property\n",
    "    def id_(self) -> str:\n",
    "        \"\"\"Returns the id.\"\"\"\n",
    "        return f\"{self.user}_{self.name}\"\n",
    "\n",
    "    @property\n",
    "    def properties(self):\n",
    "        \"\"\"Returns the properties.\"\"\"\n",
    "        return {\n",
    "            \"id\": self.name,\n",
    "            \"type\": \"Collection\",\n",
    "            \"links\": [\n",
    "                {\n",
    "                    \"rel\": \"items\",\n",
    "                    \"type\": \"application/geo+json\",\n",
    "                    \"href\": f\"http://localhost:8082/collections/{self.name}/items\",\n",
    "                },\n",
    "                {\"rel\": \"parent\", \"type\": \"application/json\", \"href\": \"http://localhost:8082/\"},\n",
    "                {\"rel\": \"root\", \"type\": \"application/json\", \"href\": \"http://localhost:8082/\"},\n",
    "                {\n",
    "                    \"rel\": \"self\",\n",
    "                    \"type\": \"application/json\",\n",
    "                    \"href\": f\"\"\"http://localhost:8082/collections/{self.name}\"\"\",\n",
    "                },\n",
    "                {\n",
    "                    \"rel\": \"license\",\n",
    "                    \"href\": \"https://creativecommons.org/licenses/publicdomain/\",\n",
    "                    \"title\": \"public domain\",\n",
    "                },\n",
    "            ],\n",
    "            \"extent\": {\n",
    "                \"spatial\": {\"bbox\": [[-94.6911621, 37.0332547, -94.402771, 37.1077651]]},\n",
    "                \"temporal\": {\"interval\": [[\"2000-02-01T00:00:00Z\", \"2000-02-12T00:00:00Z\"]]},\n",
    "            },\n",
    "            \"license\": \"public-domain\",\n",
    "            \"description\": \"Some description\",\n",
    "            \"stac_version\": \"1.0.0\",\n",
    "            \"owner\": user,\n",
    "        }\n",
    "    \n",
    "user = \"DemoUser\"\n",
    "mission = \"s1\"\n",
    "\n",
    "# Create the collection for DemoUser\n",
    "collection_type = Collection(user, f\"{mission}_aux\")\n",
    "response = requests.post(url_catalog + f\"/catalog/collections\", json=collection_type.properties, **HEADERS)\n",
    "response.raise_for_status()\n",
    "\n",
    "collection = json.loads(response.content)\n",
    "collection"
   ]
  },
  {
   "cell_type": "code",
   "execution_count": 6,
   "id": "e7ed1ee5-56eb-4f46-95fa-a7cb2015fb4f",
   "metadata": {},
   "outputs": [
    {
     "data": {
      "text/html": [
       "<pre style=\"white-space:pre;overflow-x:auto;line-height:normal;font-family:Menlo,'DejaVu Sans Mono',consolas,'Courier New',monospace\">12:21:29.177 | <span style=\"color: #008080; text-decoration-color: #008080\">INFO</span>    | prefect.engine - Created flow run<span style=\"color: #800080; text-decoration-color: #800080\"> 'abiding-wolf'</span> for flow<span style=\"color: #800080; text-decoration-color: #800080; font-weight: bold\"> 'download-flow'</span>\n",
       "</pre>\n"
      ],
      "text/plain": [
       "12:21:29.177 | \u001b[36mINFO\u001b[0m    | prefect.engine - Created flow run\u001b[35m 'abiding-wolf'\u001b[0m for flow\u001b[1;35m 'download-flow'\u001b[0m\n"
      ]
     },
     "metadata": {},
     "output_type": "display_data"
    },
    {
     "data": {
      "text/html": [
       "<pre style=\"white-space:pre;overflow-x:auto;line-height:normal;font-family:Menlo,'DejaVu Sans Mono',consolas,'Courier New',monospace\">12:21:29.179 | <span style=\"color: #008080; text-decoration-color: #008080\">INFO</span>    | prefect.task_runner.dask - Creating a new Dask cluster with `distributed.deploy.local.LocalCluster`\n",
       "</pre>\n"
      ],
      "text/plain": [
       "12:21:29.179 | \u001b[36mINFO\u001b[0m    | prefect.task_runner.dask - Creating a new Dask cluster with `distributed.deploy.local.LocalCluster`\n"
      ]
     },
     "metadata": {},
     "output_type": "display_data"
    },
    {
     "data": {
      "text/html": [
       "<pre style=\"white-space:pre;overflow-x:auto;line-height:normal;font-family:Menlo,'DejaVu Sans Mono',consolas,'Courier New',monospace\">12:21:29.194 | <span style=\"color: #008080; text-decoration-color: #008080\">INFO</span>    | distributed.http.proxy - To route to workers diagnostics web server please install jupyter-server-proxy: python -m pip install jupyter-server-proxy\n",
       "</pre>\n"
      ],
      "text/plain": [
       "12:21:29.194 | \u001b[36mINFO\u001b[0m    | distributed.http.proxy - To route to workers diagnostics web server please install jupyter-server-proxy: python -m pip install jupyter-server-proxy\n"
      ]
     },
     "metadata": {},
     "output_type": "display_data"
    },
    {
     "data": {
      "text/html": [
       "<pre style=\"white-space:pre;overflow-x:auto;line-height:normal;font-family:Menlo,'DejaVu Sans Mono',consolas,'Courier New',monospace\">12:21:29.197 | <span style=\"color: #008080; text-decoration-color: #008080\">INFO</span>    | distributed.scheduler - State start\n",
       "</pre>\n"
      ],
      "text/plain": [
       "12:21:29.197 | \u001b[36mINFO\u001b[0m    | distributed.scheduler - State start\n"
      ]
     },
     "metadata": {},
     "output_type": "display_data"
    },
    {
     "data": {
      "text/html": [
       "<pre style=\"white-space:pre;overflow-x:auto;line-height:normal;font-family:Menlo,'DejaVu Sans Mono',consolas,'Courier New',monospace\">12:21:29.202 | <span style=\"color: #008080; text-decoration-color: #008080\">INFO</span>    | distributed.scheduler -   Scheduler at:     tcp://127.0.0.1:39459\n",
       "</pre>\n"
      ],
      "text/plain": [
       "12:21:29.202 | \u001b[36mINFO\u001b[0m    | distributed.scheduler -   Scheduler at:     tcp://127.0.0.1:39459\n"
      ]
     },
     "metadata": {},
     "output_type": "display_data"
    },
    {
     "data": {
      "text/html": [
       "<pre style=\"white-space:pre;overflow-x:auto;line-height:normal;font-family:Menlo,'DejaVu Sans Mono',consolas,'Courier New',monospace\">12:21:29.203 | <span style=\"color: #008080; text-decoration-color: #008080\">INFO</span>    | distributed.scheduler -   dashboard at:  <span style=\"color: #0000ff; text-decoration-color: #0000ff\">http://127.0.0.1:8787/status</span>\n",
       "</pre>\n"
      ],
      "text/plain": [
       "12:21:29.203 | \u001b[36mINFO\u001b[0m    | distributed.scheduler -   dashboard at:  \u001b[94mhttp://127.0.0.1:8787/status\u001b[0m\n"
      ]
     },
     "metadata": {},
     "output_type": "display_data"
    },
    {
     "data": {
      "text/html": [
       "<pre style=\"white-space:pre;overflow-x:auto;line-height:normal;font-family:Menlo,'DejaVu Sans Mono',consolas,'Courier New',monospace\">12:21:29.204 | <span style=\"color: #008080; text-decoration-color: #008080\">INFO</span>    | distributed.scheduler - Registering Worker plugin shuffle\n",
       "</pre>\n"
      ],
      "text/plain": [
       "12:21:29.204 | \u001b[36mINFO\u001b[0m    | distributed.scheduler - Registering Worker plugin shuffle\n"
      ]
     },
     "metadata": {},
     "output_type": "display_data"
    },
    {
     "data": {
      "text/html": [
       "<pre style=\"white-space:pre;overflow-x:auto;line-height:normal;font-family:Menlo,'DejaVu Sans Mono',consolas,'Courier New',monospace\">12:21:29.220 | <span style=\"color: #008080; text-decoration-color: #008080\">INFO</span>    | distributed.nanny -         Start Nanny at: 'tcp://127.0.0.1:37149'\n",
       "</pre>\n"
      ],
      "text/plain": [
       "12:21:29.220 | \u001b[36mINFO\u001b[0m    | distributed.nanny -         Start Nanny at: 'tcp://127.0.0.1:37149'\n"
      ]
     },
     "metadata": {},
     "output_type": "display_data"
    },
    {
     "data": {
      "text/html": [
       "<pre style=\"white-space:pre;overflow-x:auto;line-height:normal;font-family:Menlo,'DejaVu Sans Mono',consolas,'Courier New',monospace\">12:21:29.223 | <span style=\"color: #008080; text-decoration-color: #008080\">INFO</span>    | distributed.nanny -         Start Nanny at: 'tcp://127.0.0.1:35203'\n",
       "</pre>\n"
      ],
      "text/plain": [
       "12:21:29.223 | \u001b[36mINFO\u001b[0m    | distributed.nanny -         Start Nanny at: 'tcp://127.0.0.1:35203'\n"
      ]
     },
     "metadata": {},
     "output_type": "display_data"
    },
    {
     "data": {
      "text/html": [
       "<pre style=\"white-space:pre;overflow-x:auto;line-height:normal;font-family:Menlo,'DejaVu Sans Mono',consolas,'Courier New',monospace\">12:21:29.227 | <span style=\"color: #008080; text-decoration-color: #008080\">INFO</span>    | distributed.nanny -         Start Nanny at: 'tcp://127.0.0.1:37469'\n",
       "</pre>\n"
      ],
      "text/plain": [
       "12:21:29.227 | \u001b[36mINFO\u001b[0m    | distributed.nanny -         Start Nanny at: 'tcp://127.0.0.1:37469'\n"
      ]
     },
     "metadata": {},
     "output_type": "display_data"
    },
    {
     "data": {
      "text/html": [
       "<pre style=\"white-space:pre;overflow-x:auto;line-height:normal;font-family:Menlo,'DejaVu Sans Mono',consolas,'Courier New',monospace\">12:21:29.230 | <span style=\"color: #008080; text-decoration-color: #008080\">INFO</span>    | distributed.nanny -         Start Nanny at: 'tcp://127.0.0.1:40471'\n",
       "</pre>\n"
      ],
      "text/plain": [
       "12:21:29.230 | \u001b[36mINFO\u001b[0m    | distributed.nanny -         Start Nanny at: 'tcp://127.0.0.1:40471'\n"
      ]
     },
     "metadata": {},
     "output_type": "display_data"
    },
    {
     "data": {
      "text/html": [
       "<pre style=\"white-space:pre;overflow-x:auto;line-height:normal;font-family:Menlo,'DejaVu Sans Mono',consolas,'Courier New',monospace\">12:21:29.595 | <span style=\"color: #008080; text-decoration-color: #008080\">INFO</span>    | distributed.scheduler - Register worker &lt;WorkerState 'tcp://127.0.0.1:36473', name: 0, status: init, memory: 0, processing: 0&gt;\n",
       "</pre>\n"
      ],
      "text/plain": [
       "12:21:29.595 | \u001b[36mINFO\u001b[0m    | distributed.scheduler - Register worker <WorkerState 'tcp://127.0.0.1:36473', name: 0, status: init, memory: 0, processing: 0>\n"
      ]
     },
     "metadata": {},
     "output_type": "display_data"
    },
    {
     "data": {
      "text/html": [
       "<pre style=\"white-space:pre;overflow-x:auto;line-height:normal;font-family:Menlo,'DejaVu Sans Mono',consolas,'Courier New',monospace\">12:21:29.597 | <span style=\"color: #008080; text-decoration-color: #008080\">INFO</span>    | distributed.scheduler - Starting worker compute stream, tcp://127.0.0.1:36473\n",
       "</pre>\n"
      ],
      "text/plain": [
       "12:21:29.597 | \u001b[36mINFO\u001b[0m    | distributed.scheduler - Starting worker compute stream, tcp://127.0.0.1:36473\n"
      ]
     },
     "metadata": {},
     "output_type": "display_data"
    },
    {
     "data": {
      "text/html": [
       "<pre style=\"white-space:pre;overflow-x:auto;line-height:normal;font-family:Menlo,'DejaVu Sans Mono',consolas,'Courier New',monospace\">12:21:29.598 | <span style=\"color: #008080; text-decoration-color: #008080\">INFO</span>    | distributed.core - Starting established connection to tcp://127.0.0.1:54854\n",
       "</pre>\n"
      ],
      "text/plain": [
       "12:21:29.598 | \u001b[36mINFO\u001b[0m    | distributed.core - Starting established connection to tcp://127.0.0.1:54854\n"
      ]
     },
     "metadata": {},
     "output_type": "display_data"
    },
    {
     "data": {
      "text/html": [
       "<pre style=\"white-space:pre;overflow-x:auto;line-height:normal;font-family:Menlo,'DejaVu Sans Mono',consolas,'Courier New',monospace\">12:21:29.604 | <span style=\"color: #008080; text-decoration-color: #008080\">INFO</span>    | distributed.scheduler - Register worker &lt;WorkerState 'tcp://127.0.0.1:36727', name: 2, status: init, memory: 0, processing: 0&gt;\n",
       "</pre>\n"
      ],
      "text/plain": [
       "12:21:29.604 | \u001b[36mINFO\u001b[0m    | distributed.scheduler - Register worker <WorkerState 'tcp://127.0.0.1:36727', name: 2, status: init, memory: 0, processing: 0>\n"
      ]
     },
     "metadata": {},
     "output_type": "display_data"
    },
    {
     "data": {
      "text/html": [
       "<pre style=\"white-space:pre;overflow-x:auto;line-height:normal;font-family:Menlo,'DejaVu Sans Mono',consolas,'Courier New',monospace\">12:21:29.605 | <span style=\"color: #008080; text-decoration-color: #008080\">INFO</span>    | distributed.scheduler - Starting worker compute stream, tcp://127.0.0.1:36727\n",
       "</pre>\n"
      ],
      "text/plain": [
       "12:21:29.605 | \u001b[36mINFO\u001b[0m    | distributed.scheduler - Starting worker compute stream, tcp://127.0.0.1:36727\n"
      ]
     },
     "metadata": {},
     "output_type": "display_data"
    },
    {
     "data": {
      "text/html": [
       "<pre style=\"white-space:pre;overflow-x:auto;line-height:normal;font-family:Menlo,'DejaVu Sans Mono',consolas,'Courier New',monospace\">12:21:29.606 | <span style=\"color: #008080; text-decoration-color: #008080\">INFO</span>    | distributed.core - Starting established connection to tcp://127.0.0.1:54856\n",
       "</pre>\n"
      ],
      "text/plain": [
       "12:21:29.606 | \u001b[36mINFO\u001b[0m    | distributed.core - Starting established connection to tcp://127.0.0.1:54856\n"
      ]
     },
     "metadata": {},
     "output_type": "display_data"
    },
    {
     "data": {
      "text/html": [
       "<pre style=\"white-space:pre;overflow-x:auto;line-height:normal;font-family:Menlo,'DejaVu Sans Mono',consolas,'Courier New',monospace\">12:21:29.614 | <span style=\"color: #008080; text-decoration-color: #008080\">INFO</span>    | distributed.scheduler - Register worker &lt;WorkerState 'tcp://127.0.0.1:43683', name: 1, status: init, memory: 0, processing: 0&gt;\n",
       "</pre>\n"
      ],
      "text/plain": [
       "12:21:29.614 | \u001b[36mINFO\u001b[0m    | distributed.scheduler - Register worker <WorkerState 'tcp://127.0.0.1:43683', name: 1, status: init, memory: 0, processing: 0>\n"
      ]
     },
     "metadata": {},
     "output_type": "display_data"
    },
    {
     "data": {
      "text/html": [
       "<pre style=\"white-space:pre;overflow-x:auto;line-height:normal;font-family:Menlo,'DejaVu Sans Mono',consolas,'Courier New',monospace\">12:21:29.615 | <span style=\"color: #008080; text-decoration-color: #008080\">INFO</span>    | distributed.scheduler - Starting worker compute stream, tcp://127.0.0.1:43683\n",
       "</pre>\n"
      ],
      "text/plain": [
       "12:21:29.615 | \u001b[36mINFO\u001b[0m    | distributed.scheduler - Starting worker compute stream, tcp://127.0.0.1:43683\n"
      ]
     },
     "metadata": {},
     "output_type": "display_data"
    },
    {
     "data": {
      "text/html": [
       "<pre style=\"white-space:pre;overflow-x:auto;line-height:normal;font-family:Menlo,'DejaVu Sans Mono',consolas,'Courier New',monospace\">12:21:29.616 | <span style=\"color: #008080; text-decoration-color: #008080\">INFO</span>    | distributed.core - Starting established connection to tcp://127.0.0.1:54864\n",
       "</pre>\n"
      ],
      "text/plain": [
       "12:21:29.616 | \u001b[36mINFO\u001b[0m    | distributed.core - Starting established connection to tcp://127.0.0.1:54864\n"
      ]
     },
     "metadata": {},
     "output_type": "display_data"
    },
    {
     "data": {
      "text/html": [
       "<pre style=\"white-space:pre;overflow-x:auto;line-height:normal;font-family:Menlo,'DejaVu Sans Mono',consolas,'Courier New',monospace\">12:21:29.618 | <span style=\"color: #008080; text-decoration-color: #008080\">INFO</span>    | distributed.scheduler - Register worker &lt;WorkerState 'tcp://127.0.0.1:37851', name: 3, status: init, memory: 0, processing: 0&gt;\n",
       "</pre>\n"
      ],
      "text/plain": [
       "12:21:29.618 | \u001b[36mINFO\u001b[0m    | distributed.scheduler - Register worker <WorkerState 'tcp://127.0.0.1:37851', name: 3, status: init, memory: 0, processing: 0>\n"
      ]
     },
     "metadata": {},
     "output_type": "display_data"
    },
    {
     "data": {
      "text/html": [
       "<pre style=\"white-space:pre;overflow-x:auto;line-height:normal;font-family:Menlo,'DejaVu Sans Mono',consolas,'Courier New',monospace\">12:21:29.619 | <span style=\"color: #008080; text-decoration-color: #008080\">INFO</span>    | distributed.scheduler - Starting worker compute stream, tcp://127.0.0.1:37851\n",
       "</pre>\n"
      ],
      "text/plain": [
       "12:21:29.619 | \u001b[36mINFO\u001b[0m    | distributed.scheduler - Starting worker compute stream, tcp://127.0.0.1:37851\n"
      ]
     },
     "metadata": {},
     "output_type": "display_data"
    },
    {
     "data": {
      "text/html": [
       "<pre style=\"white-space:pre;overflow-x:auto;line-height:normal;font-family:Menlo,'DejaVu Sans Mono',consolas,'Courier New',monospace\">12:21:29.619 | <span style=\"color: #008080; text-decoration-color: #008080\">INFO</span>    | distributed.core - Starting established connection to tcp://127.0.0.1:54868\n",
       "</pre>\n"
      ],
      "text/plain": [
       "12:21:29.619 | \u001b[36mINFO\u001b[0m    | distributed.core - Starting established connection to tcp://127.0.0.1:54868\n"
      ]
     },
     "metadata": {},
     "output_type": "display_data"
    },
    {
     "data": {
      "text/html": [
       "<pre style=\"white-space:pre;overflow-x:auto;line-height:normal;font-family:Menlo,'DejaVu Sans Mono',consolas,'Courier New',monospace\">12:21:29.646 | <span style=\"color: #008080; text-decoration-color: #008080\">INFO</span>    | distributed.scheduler - Receive client connection: Client-b838c255-f264-11ee-90bd-177fde9e489e\n",
       "</pre>\n"
      ],
      "text/plain": [
       "12:21:29.646 | \u001b[36mINFO\u001b[0m    | distributed.scheduler - Receive client connection: Client-b838c255-f264-11ee-90bd-177fde9e489e\n"
      ]
     },
     "metadata": {},
     "output_type": "display_data"
    },
    {
     "data": {
      "text/html": [
       "<pre style=\"white-space:pre;overflow-x:auto;line-height:normal;font-family:Menlo,'DejaVu Sans Mono',consolas,'Courier New',monospace\">12:21:29.647 | <span style=\"color: #008080; text-decoration-color: #008080\">INFO</span>    | distributed.core - Starting established connection to tcp://127.0.0.1:54874\n",
       "</pre>\n"
      ],
      "text/plain": [
       "12:21:29.647 | \u001b[36mINFO\u001b[0m    | distributed.core - Starting established connection to tcp://127.0.0.1:54874\n"
      ]
     },
     "metadata": {},
     "output_type": "display_data"
    },
    {
     "data": {
      "text/html": [
       "<pre style=\"white-space:pre;overflow-x:auto;line-height:normal;font-family:Menlo,'DejaVu Sans Mono',consolas,'Courier New',monospace\">12:21:29.648 | <span style=\"color: #008080; text-decoration-color: #008080\">INFO</span>    | prefect.task_runner.dask - The Dask dashboard is available at <span style=\"color: #0000ff; text-decoration-color: #0000ff\">http://127.0.0.1:8787/status</span>\n",
       "</pre>\n"
      ],
      "text/plain": [
       "12:21:29.648 | \u001b[36mINFO\u001b[0m    | prefect.task_runner.dask - The Dask dashboard is available at \u001b[94mhttp://127.0.0.1:8787/status\u001b[0m\n"
      ]
     },
     "metadata": {},
     "output_type": "display_data"
    },
    {
     "data": {
      "text/html": [
       "<pre style=\"white-space:pre;overflow-x:auto;line-height:normal;font-family:Menlo,'DejaVu Sans Mono',consolas,'Courier New',monospace\">12:21:32.324 | DEBUG   | Flow run<span style=\"color: #800080; text-decoration-color: #800080\"> 'abiding-wolf'</span> - Files found in the catalog (0): [] \n",
       "</pre>\n"
      ],
      "text/plain": [
       "12:21:32.324 | DEBUG   | Flow run\u001b[35m 'abiding-wolf'\u001b[0m - Files found in the catalog (0): [] \n"
      ]
     },
     "metadata": {},
     "output_type": "display_data"
    },
    {
     "data": {
      "text/html": [
       "<pre style=\"white-space:pre;overflow-x:auto;line-height:normal;font-family:Menlo,'DejaVu Sans Mono',consolas,'Courier New',monospace\">12:21:32.327 | <span style=\"color: #008080; text-decoration-color: #008080\">INFO</span>    | Flow run<span style=\"color: #800080; text-decoration-color: #800080\"> 'abiding-wolf'</span> - List with files to be downloaded (after filtering against the catalog)\n",
       "</pre>\n"
      ],
      "text/plain": [
       "12:21:32.327 | \u001b[36mINFO\u001b[0m    | Flow run\u001b[35m 'abiding-wolf'\u001b[0m - List with files to be downloaded (after filtering against the catalog)\n"
      ]
     },
     "metadata": {},
     "output_type": "display_data"
    },
    {
     "data": {
      "text/html": [
       "<pre style=\"white-space:pre;overflow-x:auto;line-height:normal;font-family:Menlo,'DejaVu Sans Mono',consolas,'Courier New',monospace\">12:21:32.328 | <span style=\"color: #008080; text-decoration-color: #008080\">INFO</span>    | Flow run<span style=\"color: #800080; text-decoration-color: #800080\"> 'abiding-wolf'</span> -       DCS_04_S1A_20231121072204051312_ch1_DSDB_00001.raw\n",
       "</pre>\n"
      ],
      "text/plain": [
       "12:21:32.328 | \u001b[36mINFO\u001b[0m    | Flow run\u001b[35m 'abiding-wolf'\u001b[0m -       DCS_04_S1A_20231121072204051312_ch1_DSDB_00001.raw\n"
      ]
     },
     "metadata": {},
     "output_type": "display_data"
    },
    {
     "data": {
      "text/html": [
       "<pre style=\"white-space:pre;overflow-x:auto;line-height:normal;font-family:Menlo,'DejaVu Sans Mono',consolas,'Courier New',monospace\">12:21:32.329 | <span style=\"color: #008080; text-decoration-color: #008080\">INFO</span>    | Flow run<span style=\"color: #800080; text-decoration-color: #800080\"> 'abiding-wolf'</span> -       DCS_04_S1A_20231121072204051312_ch1_DSDB_00002.raw\n",
       "</pre>\n"
      ],
      "text/plain": [
       "12:21:32.329 | \u001b[36mINFO\u001b[0m    | Flow run\u001b[35m 'abiding-wolf'\u001b[0m -       DCS_04_S1A_20231121072204051312_ch1_DSDB_00002.raw\n"
      ]
     },
     "metadata": {},
     "output_type": "display_data"
    },
    {
     "data": {
      "text/html": [
       "<pre style=\"white-space:pre;overflow-x:auto;line-height:normal;font-family:Menlo,'DejaVu Sans Mono',consolas,'Courier New',monospace\">12:21:32.330 | <span style=\"color: #008080; text-decoration-color: #008080\">INFO</span>    | Flow run<span style=\"color: #800080; text-decoration-color: #800080\"> 'abiding-wolf'</span> -       DCS_04_S1A_20231121072204051312_ch1_DSDB_00003.raw\n",
       "</pre>\n"
      ],
      "text/plain": [
       "12:21:32.330 | \u001b[36mINFO\u001b[0m    | Flow run\u001b[35m 'abiding-wolf'\u001b[0m -       DCS_04_S1A_20231121072204051312_ch1_DSDB_00003.raw\n"
      ]
     },
     "metadata": {},
     "output_type": "display_data"
    },
    {
     "data": {
      "text/html": [
       "<pre style=\"white-space:pre;overflow-x:auto;line-height:normal;font-family:Menlo,'DejaVu Sans Mono',consolas,'Courier New',monospace\">12:21:32.331 | <span style=\"color: #008080; text-decoration-color: #008080\">INFO</span>    | Flow run<span style=\"color: #800080; text-decoration-color: #800080\"> 'abiding-wolf'</span> -       DCS_04_S1A_20231121072204051312_ch1_DSDB_00004.raw\n",
       "</pre>\n"
      ],
      "text/plain": [
       "12:21:32.331 | \u001b[36mINFO\u001b[0m    | Flow run\u001b[35m 'abiding-wolf'\u001b[0m -       DCS_04_S1A_20231121072204051312_ch1_DSDB_00004.raw\n"
      ]
     },
     "metadata": {},
     "output_type": "display_data"
    },
    {
     "data": {
      "text/html": [
       "<pre style=\"white-space:pre;overflow-x:auto;line-height:normal;font-family:Menlo,'DejaVu Sans Mono',consolas,'Courier New',monospace\">12:21:32.332 | <span style=\"color: #008080; text-decoration-color: #008080\">INFO</span>    | Flow run<span style=\"color: #800080; text-decoration-color: #800080\"> 'abiding-wolf'</span> -       DCS_04_S1A_20231121072204051312_ch1_DSDB_00005.raw\n",
       "</pre>\n"
      ],
      "text/plain": [
       "12:21:32.332 | \u001b[36mINFO\u001b[0m    | Flow run\u001b[35m 'abiding-wolf'\u001b[0m -       DCS_04_S1A_20231121072204051312_ch1_DSDB_00005.raw\n"
      ]
     },
     "metadata": {},
     "output_type": "display_data"
    },
    {
     "data": {
      "text/html": [
       "<pre style=\"white-space:pre;overflow-x:auto;line-height:normal;font-family:Menlo,'DejaVu Sans Mono',consolas,'Courier New',monospace\">12:21:32.333 | <span style=\"color: #008080; text-decoration-color: #008080\">INFO</span>    | Flow run<span style=\"color: #800080; text-decoration-color: #800080\"> 'abiding-wolf'</span> -       DCS_04_S1A_20231121072204051312_ch1_DSDB_00006.raw\n",
       "</pre>\n"
      ],
      "text/plain": [
       "12:21:32.333 | \u001b[36mINFO\u001b[0m    | Flow run\u001b[35m 'abiding-wolf'\u001b[0m -       DCS_04_S1A_20231121072204051312_ch1_DSDB_00006.raw\n"
      ]
     },
     "metadata": {},
     "output_type": "display_data"
    },
    {
     "data": {
      "text/html": [
       "<pre style=\"white-space:pre;overflow-x:auto;line-height:normal;font-family:Menlo,'DejaVu Sans Mono',consolas,'Courier New',monospace\">12:21:32.334 | <span style=\"color: #008080; text-decoration-color: #008080\">INFO</span>    | Flow run<span style=\"color: #800080; text-decoration-color: #800080\"> 'abiding-wolf'</span> -       DCS_04_S1A_20231121072204051312_ch1_DSDB_00007.raw\n",
       "</pre>\n"
      ],
      "text/plain": [
       "12:21:32.334 | \u001b[36mINFO\u001b[0m    | Flow run\u001b[35m 'abiding-wolf'\u001b[0m -       DCS_04_S1A_20231121072204051312_ch1_DSDB_00007.raw\n"
      ]
     },
     "metadata": {},
     "output_type": "display_data"
    },
    {
     "data": {
      "text/html": [
       "<pre style=\"white-space:pre;overflow-x:auto;line-height:normal;font-family:Menlo,'DejaVu Sans Mono',consolas,'Courier New',monospace\">12:21:32.335 | <span style=\"color: #008080; text-decoration-color: #008080\">INFO</span>    | Flow run<span style=\"color: #800080; text-decoration-color: #800080\"> 'abiding-wolf'</span> -       DCS_04_S1A_20231121072204051312_ch1_DSDB_00060.raw\n",
       "</pre>\n"
      ],
      "text/plain": [
       "12:21:32.335 | \u001b[36mINFO\u001b[0m    | Flow run\u001b[35m 'abiding-wolf'\u001b[0m -       DCS_04_S1A_20231121072204051312_ch1_DSDB_00060.raw\n"
      ]
     },
     "metadata": {},
     "output_type": "display_data"
    },
    {
     "data": {
      "text/html": [
       "<pre style=\"white-space:pre;overflow-x:auto;line-height:normal;font-family:Menlo,'DejaVu Sans Mono',consolas,'Courier New',monospace\">12:21:32.336 | <span style=\"color: #008080; text-decoration-color: #008080\">INFO</span>    | Flow run<span style=\"color: #800080; text-decoration-color: #800080\"> 'abiding-wolf'</span> -       DCS_04_S1A_20231121072204051312_ch2_DSDB_00046.raw\n",
       "</pre>\n"
      ],
      "text/plain": [
       "12:21:32.336 | \u001b[36mINFO\u001b[0m    | Flow run\u001b[35m 'abiding-wolf'\u001b[0m -       DCS_04_S1A_20231121072204051312_ch2_DSDB_00046.raw\n"
      ]
     },
     "metadata": {},
     "output_type": "display_data"
    },
    {
     "data": {
      "text/html": [
       "<pre style=\"white-space:pre;overflow-x:auto;line-height:normal;font-family:Menlo,'DejaVu Sans Mono',consolas,'Courier New',monospace\">12:21:32.337 | <span style=\"color: #008080; text-decoration-color: #008080\">INFO</span>    | Flow run<span style=\"color: #800080; text-decoration-color: #800080\"> 'abiding-wolf'</span> -       DCS_04_S1A_20231121072204051312_ch2_DSDB_00060.raw\n",
       "</pre>\n"
      ],
      "text/plain": [
       "12:21:32.337 | \u001b[36mINFO\u001b[0m    | Flow run\u001b[35m 'abiding-wolf'\u001b[0m -       DCS_04_S1A_20231121072204051312_ch2_DSDB_00060.raw\n"
      ]
     },
     "metadata": {},
     "output_type": "display_data"
    },
    {
     "data": {
      "text/html": [
       "<pre style=\"white-space:pre;overflow-x:auto;line-height:normal;font-family:Menlo,'DejaVu Sans Mono',consolas,'Courier New',monospace\">12:21:32.445 | <span style=\"color: #008080; text-decoration-color: #008080\">INFO</span>    | Flow run<span style=\"color: #800080; text-decoration-color: #800080\"> 'abiding-wolf'</span> - Created task run 'ingest_files-1' for task 'ingest_files'\n",
       "</pre>\n"
      ],
      "text/plain": [
       "12:21:32.445 | \u001b[36mINFO\u001b[0m    | Flow run\u001b[35m 'abiding-wolf'\u001b[0m - Created task run 'ingest_files-1' for task 'ingest_files'\n"
      ]
     },
     "metadata": {},
     "output_type": "display_data"
    },
    {
     "data": {
      "text/html": [
       "<pre style=\"white-space:pre;overflow-x:auto;line-height:normal;font-family:Menlo,'DejaVu Sans Mono',consolas,'Courier New',monospace\">12:21:32.452 | <span style=\"color: #008080; text-decoration-color: #008080\">INFO</span>    | Flow run<span style=\"color: #800080; text-decoration-color: #800080\"> 'abiding-wolf'</span> - Submitted task run 'ingest_files-1' for execution.\n",
       "</pre>\n"
      ],
      "text/plain": [
       "12:21:32.452 | \u001b[36mINFO\u001b[0m    | Flow run\u001b[35m 'abiding-wolf'\u001b[0m - Submitted task run 'ingest_files-1' for execution.\n"
      ]
     },
     "metadata": {},
     "output_type": "display_data"
    },
    {
     "data": {
      "text/html": [
       "<pre style=\"white-space:pre;overflow-x:auto;line-height:normal;font-family:Menlo,'DejaVu Sans Mono',consolas,'Courier New',monospace\">12:21:32.465 | <span style=\"color: #008080; text-decoration-color: #008080\">INFO</span>    | Flow run<span style=\"color: #800080; text-decoration-color: #800080\"> 'abiding-wolf'</span> - Created task run 'ingest_files-0' for task 'ingest_files'\n",
       "</pre>\n"
      ],
      "text/plain": [
       "12:21:32.465 | \u001b[36mINFO\u001b[0m    | Flow run\u001b[35m 'abiding-wolf'\u001b[0m - Created task run 'ingest_files-0' for task 'ingest_files'\n"
      ]
     },
     "metadata": {},
     "output_type": "display_data"
    },
    {
     "data": {
      "text/html": [
       "<pre style=\"white-space:pre;overflow-x:auto;line-height:normal;font-family:Menlo,'DejaVu Sans Mono',consolas,'Courier New',monospace\">12:21:32.469 | <span style=\"color: #008080; text-decoration-color: #008080\">INFO</span>    | Flow run<span style=\"color: #800080; text-decoration-color: #800080\"> 'abiding-wolf'</span> - Submitted task run 'ingest_files-0' for execution.\n",
       "</pre>\n"
      ],
      "text/plain": [
       "12:21:32.469 | \u001b[36mINFO\u001b[0m    | Flow run\u001b[35m 'abiding-wolf'\u001b[0m - Submitted task run 'ingest_files-0' for execution.\n"
      ]
     },
     "metadata": {},
     "output_type": "display_data"
    },
    {
     "data": {
      "text/html": [
       "<pre style=\"white-space:pre;overflow-x:auto;line-height:normal;font-family:Menlo,'DejaVu Sans Mono',consolas,'Courier New',monospace\">12:21:32.483 | <span style=\"color: #008080; text-decoration-color: #008080\">INFO</span>    | Flow run<span style=\"color: #800080; text-decoration-color: #800080\"> 'abiding-wolf'</span> - Created task run 'ingest_files-2' for task 'ingest_files'\n",
       "</pre>\n"
      ],
      "text/plain": [
       "12:21:32.483 | \u001b[36mINFO\u001b[0m    | Flow run\u001b[35m 'abiding-wolf'\u001b[0m - Created task run 'ingest_files-2' for task 'ingest_files'\n"
      ]
     },
     "metadata": {},
     "output_type": "display_data"
    },
    {
     "data": {
      "text/html": [
       "<pre style=\"white-space:pre;overflow-x:auto;line-height:normal;font-family:Menlo,'DejaVu Sans Mono',consolas,'Courier New',monospace\">12:21:32.487 | <span style=\"color: #008080; text-decoration-color: #008080\">INFO</span>    | Flow run<span style=\"color: #800080; text-decoration-color: #800080\"> 'abiding-wolf'</span> - Submitted task run 'ingest_files-2' for execution.\n",
       "</pre>\n"
      ],
      "text/plain": [
       "12:21:32.487 | \u001b[36mINFO\u001b[0m    | Flow run\u001b[35m 'abiding-wolf'\u001b[0m - Submitted task run 'ingest_files-2' for execution.\n"
      ]
     },
     "metadata": {},
     "output_type": "display_data"
    },
    {
     "data": {
      "text/html": [
       "<pre style=\"white-space:pre;overflow-x:auto;line-height:normal;font-family:Menlo,'DejaVu Sans Mono',consolas,'Courier New',monospace\">12:21:32.511 | <span style=\"color: #008080; text-decoration-color: #008080\">INFO</span>    | Flow run<span style=\"color: #800080; text-decoration-color: #800080\"> 'abiding-wolf'</span> - Created task run 'ingest_files-3' for task 'ingest_files'\n",
       "</pre>\n"
      ],
      "text/plain": [
       "12:21:32.511 | \u001b[36mINFO\u001b[0m    | Flow run\u001b[35m 'abiding-wolf'\u001b[0m - Created task run 'ingest_files-3' for task 'ingest_files'\n"
      ]
     },
     "metadata": {},
     "output_type": "display_data"
    },
    {
     "data": {
      "text/html": [
       "<pre style=\"white-space:pre;overflow-x:auto;line-height:normal;font-family:Menlo,'DejaVu Sans Mono',consolas,'Courier New',monospace\">12:21:32.514 | <span style=\"color: #008080; text-decoration-color: #008080\">INFO</span>    | Flow run<span style=\"color: #800080; text-decoration-color: #800080\"> 'abiding-wolf'</span> - Submitted task run 'ingest_files-3' for execution.\n",
       "</pre>\n"
      ],
      "text/plain": [
       "12:21:32.514 | \u001b[36mINFO\u001b[0m    | Flow run\u001b[35m 'abiding-wolf'\u001b[0m - Submitted task run 'ingest_files-3' for execution.\n"
      ]
     },
     "metadata": {},
     "output_type": "display_data"
    },
    {
     "name": "stderr",
     "output_type": "stream",
     "text": [
      "12:21:36.494 | \u001b[36mINFO\u001b[0m    | Task run 'ingest_files-0' - The download progress for file DCS_04_S1A_20231121072204051312_ch1_DSDB_00001.raw is IN_PROGRESS\n",
      "12:21:37.266 | \u001b[36mINFO\u001b[0m    | Task run 'ingest_files-1' - The download progress for file DCS_04_S1A_20231121072204051312_ch1_DSDB_00004.raw is IN_PROGRESS\n",
      "12:21:38.189 | \u001b[36mINFO\u001b[0m    | Task run 'ingest_files-0' - File DCS_04_S1A_20231121072204051312_ch1_DSDB_00001.raw has been properly downloaded...\n",
      "12:21:38.214 | \u001b[36mINFO\u001b[0m    | Task run 'ingest_files-2' - The download progress for file DCS_04_S1A_20231121072204051312_ch1_DSDB_00007.raw is IN_PROGRESS\n",
      "12:21:38.579 | \u001b[36mINFO\u001b[0m    | Task run 'ingest_files-1' - File DCS_04_S1A_20231121072204051312_ch1_DSDB_00004.raw has been properly downloaded...\n",
      "12:21:38.908 | \u001b[36mINFO\u001b[0m    | Task run 'ingest_files-3' - The download progress for file DCS_04_S1A_20231121072204051312_ch2_DSDB_00046.raw is IN_PROGRESS\n",
      "12:21:38.965 | \u001b[36mINFO\u001b[0m    | Task run 'ingest_files-0' - File well published: DCS_04_S1A_20231121072204051312_ch1_DSDB_00001.raw\n",
      "\n",
      "12:21:39.008 | \u001b[36mINFO\u001b[0m    | Task run 'ingest_files-1' - File well published: DCS_04_S1A_20231121072204051312_ch1_DSDB_00004.raw\n",
      "\n",
      "12:21:39.871 | \u001b[36mINFO\u001b[0m    | Task run 'ingest_files-2' - File DCS_04_S1A_20231121072204051312_ch1_DSDB_00007.raw has been properly downloaded...\n",
      "12:21:40.280 | \u001b[36mINFO\u001b[0m    | Task run 'ingest_files-2' - File well published: DCS_04_S1A_20231121072204051312_ch1_DSDB_00007.raw\n",
      "\n",
      "12:21:40.282 | \u001b[36mINFO\u001b[0m    | Task run 'ingest_files-3' - File DCS_04_S1A_20231121072204051312_ch2_DSDB_00046.raw has been properly downloaded...\n",
      "12:21:40.686 | \u001b[36mINFO\u001b[0m    | Task run 'ingest_files-3' - File well published: DCS_04_S1A_20231121072204051312_ch2_DSDB_00046.raw\n",
      "\n",
      "12:21:41.068 | \u001b[36mINFO\u001b[0m    | Task run 'ingest_files-0' - The download progress for file DCS_04_S1A_20231121072204051312_ch1_DSDB_00002.raw is IN_PROGRESS\n",
      "12:21:42.009 | \u001b[36mINFO\u001b[0m    | Task run 'ingest_files-1' - The download progress for file DCS_04_S1A_20231121072204051312_ch1_DSDB_00005.raw is IN_PROGRESS\n",
      "12:21:42.668 | \u001b[36mINFO\u001b[0m    | Task run 'ingest_files-0' - File DCS_04_S1A_20231121072204051312_ch1_DSDB_00002.raw has been properly downloaded...\n",
      "12:21:42.882 | \u001b[36mINFO\u001b[0m    | Task run 'ingest_files-2' - The download progress for file DCS_04_S1A_20231121072204051312_ch1_DSDB_00060.raw is IN_PROGRESS\n",
      "12:21:43.023 | \u001b[36mINFO\u001b[0m    | Task run 'ingest_files-0' - File well published: DCS_04_S1A_20231121072204051312_ch1_DSDB_00002.raw\n",
      "\n",
      "12:21:43.374 | \u001b[36mINFO\u001b[0m    | Task run 'ingest_files-1' - File DCS_04_S1A_20231121072204051312_ch1_DSDB_00005.raw has been properly downloaded...\n",
      "12:21:43.581 | \u001b[36mINFO\u001b[0m    | Task run 'ingest_files-3' - The download progress for file DCS_04_S1A_20231121072204051312_ch2_DSDB_00060.raw is IN_PROGRESS\n",
      "12:21:43.823 | \u001b[36mINFO\u001b[0m    | Task run 'ingest_files-1' - File well published: DCS_04_S1A_20231121072204051312_ch1_DSDB_00005.raw\n",
      "\n",
      "12:21:44.286 | \u001b[36mINFO\u001b[0m    | Task run 'ingest_files-2' - File DCS_04_S1A_20231121072204051312_ch1_DSDB_00060.raw has been properly downloaded...\n",
      "12:21:44.688 | \u001b[36mINFO\u001b[0m    | Task run 'ingest_files-2' - File well published: DCS_04_S1A_20231121072204051312_ch1_DSDB_00060.raw\n",
      "\n",
      "12:21:44.721 | \u001b[36mINFO\u001b[0m    | Task run 'ingest_files-2' - Finished in state \u001b[32mCompleted\u001b[0m()\n",
      "12:21:45.015 | \u001b[36mINFO\u001b[0m    | Task run 'ingest_files-3' - File DCS_04_S1A_20231121072204051312_ch2_DSDB_00060.raw has been properly downloaded...\n",
      "12:21:45.074 | \u001b[36mINFO\u001b[0m    | Task run 'ingest_files-0' - The download progress for file DCS_04_S1A_20231121072204051312_ch1_DSDB_00003.raw is IN_PROGRESS\n",
      "12:21:45.421 | \u001b[36mINFO\u001b[0m    | Task run 'ingest_files-3' - File well published: DCS_04_S1A_20231121072204051312_ch2_DSDB_00060.raw\n",
      "\n",
      "12:21:45.453 | \u001b[36mINFO\u001b[0m    | Task run 'ingest_files-3' - Finished in state \u001b[32mCompleted\u001b[0m()\n",
      "12:21:45.684 | \u001b[36mINFO\u001b[0m    | Task run 'ingest_files-1' - The download progress for file DCS_04_S1A_20231121072204051312_ch1_DSDB_00006.raw is IN_PROGRESS\n",
      "12:21:46.312 | \u001b[36mINFO\u001b[0m    | Task run 'ingest_files-0' - File DCS_04_S1A_20231121072204051312_ch1_DSDB_00003.raw has been properly downloaded...\n",
      "12:21:46.668 | \u001b[36mINFO\u001b[0m    | Task run 'ingest_files-0' - File well published: DCS_04_S1A_20231121072204051312_ch1_DSDB_00003.raw\n",
      "\n",
      "12:21:46.718 | \u001b[36mINFO\u001b[0m    | Task run 'ingest_files-0' - Finished in state \u001b[32mCompleted\u001b[0m()\n",
      "12:21:46.900 | \u001b[36mINFO\u001b[0m    | Task run 'ingest_files-1' - File DCS_04_S1A_20231121072204051312_ch1_DSDB_00006.raw has been properly downloaded...\n",
      "12:21:47.289 | \u001b[36mINFO\u001b[0m    | Task run 'ingest_files-1' - File well published: DCS_04_S1A_20231121072204051312_ch1_DSDB_00006.raw\n",
      "\n",
      "12:21:47.342 | \u001b[36mINFO\u001b[0m    | Task run 'ingest_files-1' - Finished in state \u001b[32mCompleted\u001b[0m()\n"
     ]
    },
    {
     "data": {
      "text/html": [
       "<pre style=\"white-space:pre;overflow-x:auto;line-height:normal;font-family:Menlo,'DejaVu Sans Mono',consolas,'Courier New',monospace\">12:21:47.394 | <span style=\"color: #008080; text-decoration-color: #008080\">INFO</span>    | distributed.scheduler - Remove client Client-b838c255-f264-11ee-90bd-177fde9e489e\n",
       "</pre>\n"
      ],
      "text/plain": [
       "12:21:47.394 | \u001b[36mINFO\u001b[0m    | distributed.scheduler - Remove client Client-b838c255-f264-11ee-90bd-177fde9e489e\n"
      ]
     },
     "metadata": {},
     "output_type": "display_data"
    },
    {
     "data": {
      "text/html": [
       "<pre style=\"white-space:pre;overflow-x:auto;line-height:normal;font-family:Menlo,'DejaVu Sans Mono',consolas,'Courier New',monospace\">12:21:47.396 | <span style=\"color: #008080; text-decoration-color: #008080\">INFO</span>    | distributed.core - Received 'close-stream' from tcp://127.0.0.1:54874; closing.\n",
       "</pre>\n"
      ],
      "text/plain": [
       "12:21:47.396 | \u001b[36mINFO\u001b[0m    | distributed.core - Received 'close-stream' from tcp://127.0.0.1:54874; closing.\n"
      ]
     },
     "metadata": {},
     "output_type": "display_data"
    },
    {
     "data": {
      "text/html": [
       "<pre style=\"white-space:pre;overflow-x:auto;line-height:normal;font-family:Menlo,'DejaVu Sans Mono',consolas,'Courier New',monospace\">12:21:47.397 | <span style=\"color: #008080; text-decoration-color: #008080\">INFO</span>    | distributed.scheduler - Remove client Client-b838c255-f264-11ee-90bd-177fde9e489e\n",
       "</pre>\n"
      ],
      "text/plain": [
       "12:21:47.397 | \u001b[36mINFO\u001b[0m    | distributed.scheduler - Remove client Client-b838c255-f264-11ee-90bd-177fde9e489e\n"
      ]
     },
     "metadata": {},
     "output_type": "display_data"
    },
    {
     "data": {
      "text/html": [
       "<pre style=\"white-space:pre;overflow-x:auto;line-height:normal;font-family:Menlo,'DejaVu Sans Mono',consolas,'Courier New',monospace\">12:21:47.398 | <span style=\"color: #008080; text-decoration-color: #008080\">INFO</span>    | distributed.scheduler - Close client connection: Client-b838c255-f264-11ee-90bd-177fde9e489e\n",
       "</pre>\n"
      ],
      "text/plain": [
       "12:21:47.398 | \u001b[36mINFO\u001b[0m    | distributed.scheduler - Close client connection: Client-b838c255-f264-11ee-90bd-177fde9e489e\n"
      ]
     },
     "metadata": {},
     "output_type": "display_data"
    },
    {
     "data": {
      "text/html": [
       "<pre style=\"white-space:pre;overflow-x:auto;line-height:normal;font-family:Menlo,'DejaVu Sans Mono',consolas,'Courier New',monospace\">12:21:47.400 | <span style=\"color: #008080; text-decoration-color: #008080\">INFO</span>    | distributed.scheduler - Retire worker addresses (0, 1, 2, 3)\n",
       "</pre>\n"
      ],
      "text/plain": [
       "12:21:47.400 | \u001b[36mINFO\u001b[0m    | distributed.scheduler - Retire worker addresses (0, 1, 2, 3)\n"
      ]
     },
     "metadata": {},
     "output_type": "display_data"
    },
    {
     "data": {
      "text/html": [
       "<pre style=\"white-space:pre;overflow-x:auto;line-height:normal;font-family:Menlo,'DejaVu Sans Mono',consolas,'Courier New',monospace\">12:21:47.401 | <span style=\"color: #008080; text-decoration-color: #008080\">INFO</span>    | distributed.nanny - Closing Nanny at 'tcp://127.0.0.1:37149'. Reason: nanny-close\n",
       "</pre>\n"
      ],
      "text/plain": [
       "12:21:47.401 | \u001b[36mINFO\u001b[0m    | distributed.nanny - Closing Nanny at 'tcp://127.0.0.1:37149'. Reason: nanny-close\n"
      ]
     },
     "metadata": {},
     "output_type": "display_data"
    },
    {
     "data": {
      "text/html": [
       "<pre style=\"white-space:pre;overflow-x:auto;line-height:normal;font-family:Menlo,'DejaVu Sans Mono',consolas,'Courier New',monospace\">12:21:47.402 | <span style=\"color: #008080; text-decoration-color: #008080\">INFO</span>    | distributed.nanny - Nanny asking worker to close. Reason: nanny-close\n",
       "</pre>\n"
      ],
      "text/plain": [
       "12:21:47.402 | \u001b[36mINFO\u001b[0m    | distributed.nanny - Nanny asking worker to close. Reason: nanny-close\n"
      ]
     },
     "metadata": {},
     "output_type": "display_data"
    },
    {
     "data": {
      "text/html": [
       "<pre style=\"white-space:pre;overflow-x:auto;line-height:normal;font-family:Menlo,'DejaVu Sans Mono',consolas,'Courier New',monospace\">12:21:47.403 | <span style=\"color: #008080; text-decoration-color: #008080\">INFO</span>    | distributed.nanny - Closing Nanny at 'tcp://127.0.0.1:35203'. Reason: nanny-close\n",
       "</pre>\n"
      ],
      "text/plain": [
       "12:21:47.403 | \u001b[36mINFO\u001b[0m    | distributed.nanny - Closing Nanny at 'tcp://127.0.0.1:35203'. Reason: nanny-close\n"
      ]
     },
     "metadata": {},
     "output_type": "display_data"
    },
    {
     "data": {
      "text/html": [
       "<pre style=\"white-space:pre;overflow-x:auto;line-height:normal;font-family:Menlo,'DejaVu Sans Mono',consolas,'Courier New',monospace\">12:21:47.404 | <span style=\"color: #008080; text-decoration-color: #008080\">INFO</span>    | distributed.nanny - Nanny asking worker to close. Reason: nanny-close\n",
       "</pre>\n"
      ],
      "text/plain": [
       "12:21:47.404 | \u001b[36mINFO\u001b[0m    | distributed.nanny - Nanny asking worker to close. Reason: nanny-close\n"
      ]
     },
     "metadata": {},
     "output_type": "display_data"
    },
    {
     "data": {
      "text/html": [
       "<pre style=\"white-space:pre;overflow-x:auto;line-height:normal;font-family:Menlo,'DejaVu Sans Mono',consolas,'Courier New',monospace\">12:21:47.405 | <span style=\"color: #008080; text-decoration-color: #008080\">INFO</span>    | distributed.nanny - Closing Nanny at 'tcp://127.0.0.1:37469'. Reason: nanny-close\n",
       "</pre>\n"
      ],
      "text/plain": [
       "12:21:47.405 | \u001b[36mINFO\u001b[0m    | distributed.nanny - Closing Nanny at 'tcp://127.0.0.1:37469'. Reason: nanny-close\n"
      ]
     },
     "metadata": {},
     "output_type": "display_data"
    },
    {
     "data": {
      "text/html": [
       "<pre style=\"white-space:pre;overflow-x:auto;line-height:normal;font-family:Menlo,'DejaVu Sans Mono',consolas,'Courier New',monospace\">12:21:47.406 | <span style=\"color: #008080; text-decoration-color: #008080\">INFO</span>    | distributed.nanny - Nanny asking worker to close. Reason: nanny-close\n",
       "</pre>\n"
      ],
      "text/plain": [
       "12:21:47.406 | \u001b[36mINFO\u001b[0m    | distributed.nanny - Nanny asking worker to close. Reason: nanny-close\n"
      ]
     },
     "metadata": {},
     "output_type": "display_data"
    },
    {
     "data": {
      "text/html": [
       "<pre style=\"white-space:pre;overflow-x:auto;line-height:normal;font-family:Menlo,'DejaVu Sans Mono',consolas,'Courier New',monospace\">12:21:47.407 | <span style=\"color: #008080; text-decoration-color: #008080\">INFO</span>    | distributed.nanny - Closing Nanny at 'tcp://127.0.0.1:40471'. Reason: nanny-close\n",
       "</pre>\n"
      ],
      "text/plain": [
       "12:21:47.407 | \u001b[36mINFO\u001b[0m    | distributed.nanny - Closing Nanny at 'tcp://127.0.0.1:40471'. Reason: nanny-close\n"
      ]
     },
     "metadata": {},
     "output_type": "display_data"
    },
    {
     "data": {
      "text/html": [
       "<pre style=\"white-space:pre;overflow-x:auto;line-height:normal;font-family:Menlo,'DejaVu Sans Mono',consolas,'Courier New',monospace\">12:21:47.408 | <span style=\"color: #008080; text-decoration-color: #008080\">INFO</span>    | distributed.nanny - Nanny asking worker to close. Reason: nanny-close\n",
       "</pre>\n"
      ],
      "text/plain": [
       "12:21:47.408 | \u001b[36mINFO\u001b[0m    | distributed.nanny - Nanny asking worker to close. Reason: nanny-close\n"
      ]
     },
     "metadata": {},
     "output_type": "display_data"
    },
    {
     "data": {
      "text/html": [
       "<pre style=\"white-space:pre;overflow-x:auto;line-height:normal;font-family:Menlo,'DejaVu Sans Mono',consolas,'Courier New',monospace\">12:21:47.410 | <span style=\"color: #008080; text-decoration-color: #008080\">INFO</span>    | distributed.core - Received 'close-stream' from tcp://127.0.0.1:54854; closing.\n",
       "</pre>\n"
      ],
      "text/plain": [
       "12:21:47.410 | \u001b[36mINFO\u001b[0m    | distributed.core - Received 'close-stream' from tcp://127.0.0.1:54854; closing.\n"
      ]
     },
     "metadata": {},
     "output_type": "display_data"
    },
    {
     "data": {
      "text/html": [
       "<pre style=\"white-space:pre;overflow-x:auto;line-height:normal;font-family:Menlo,'DejaVu Sans Mono',consolas,'Courier New',monospace\">12:21:47.411 | <span style=\"color: #008080; text-decoration-color: #008080\">INFO</span>    | distributed.core - Received 'close-stream' from tcp://127.0.0.1:54864; closing.\n",
       "</pre>\n"
      ],
      "text/plain": [
       "12:21:47.411 | \u001b[36mINFO\u001b[0m    | distributed.core - Received 'close-stream' from tcp://127.0.0.1:54864; closing.\n"
      ]
     },
     "metadata": {},
     "output_type": "display_data"
    },
    {
     "data": {
      "text/html": [
       "<pre style=\"white-space:pre;overflow-x:auto;line-height:normal;font-family:Menlo,'DejaVu Sans Mono',consolas,'Courier New',monospace\">12:21:47.413 | <span style=\"color: #008080; text-decoration-color: #008080\">INFO</span>    | distributed.core - Received 'close-stream' from tcp://127.0.0.1:54856; closing.\n",
       "</pre>\n"
      ],
      "text/plain": [
       "12:21:47.413 | \u001b[36mINFO\u001b[0m    | distributed.core - Received 'close-stream' from tcp://127.0.0.1:54856; closing.\n"
      ]
     },
     "metadata": {},
     "output_type": "display_data"
    },
    {
     "data": {
      "text/html": [
       "<pre style=\"white-space:pre;overflow-x:auto;line-height:normal;font-family:Menlo,'DejaVu Sans Mono',consolas,'Courier New',monospace\">12:21:47.414 | <span style=\"color: #008080; text-decoration-color: #008080\">INFO</span>    | distributed.scheduler - Remove worker &lt;WorkerState 'tcp://127.0.0.1:36473', name: 0, status: closing, memory: 0, processing: 0&gt; (stimulus_id='handle-worker-cleanup-1712222507.4144406')\n",
       "</pre>\n"
      ],
      "text/plain": [
       "12:21:47.414 | \u001b[36mINFO\u001b[0m    | distributed.scheduler - Remove worker <WorkerState 'tcp://127.0.0.1:36473', name: 0, status: closing, memory: 0, processing: 0> (stimulus_id='handle-worker-cleanup-1712222507.4144406')\n"
      ]
     },
     "metadata": {},
     "output_type": "display_data"
    },
    {
     "data": {
      "text/html": [
       "<pre style=\"white-space:pre;overflow-x:auto;line-height:normal;font-family:Menlo,'DejaVu Sans Mono',consolas,'Courier New',monospace\">12:21:47.415 | <span style=\"color: #008080; text-decoration-color: #008080\">INFO</span>    | distributed.scheduler - Remove worker &lt;WorkerState 'tcp://127.0.0.1:43683', name: 1, status: closing, memory: 0, processing: 0&gt; (stimulus_id='handle-worker-cleanup-1712222507.415806')\n",
       "</pre>\n"
      ],
      "text/plain": [
       "12:21:47.415 | \u001b[36mINFO\u001b[0m    | distributed.scheduler - Remove worker <WorkerState 'tcp://127.0.0.1:43683', name: 1, status: closing, memory: 0, processing: 0> (stimulus_id='handle-worker-cleanup-1712222507.415806')\n"
      ]
     },
     "metadata": {},
     "output_type": "display_data"
    },
    {
     "data": {
      "text/html": [
       "<pre style=\"white-space:pre;overflow-x:auto;line-height:normal;font-family:Menlo,'DejaVu Sans Mono',consolas,'Courier New',monospace\">12:21:47.416 | <span style=\"color: #008080; text-decoration-color: #008080\">INFO</span>    | distributed.scheduler - Remove worker &lt;WorkerState 'tcp://127.0.0.1:36727', name: 2, status: closing, memory: 0, processing: 0&gt; (stimulus_id='handle-worker-cleanup-1712222507.416886')\n",
       "</pre>\n"
      ],
      "text/plain": [
       "12:21:47.416 | \u001b[36mINFO\u001b[0m    | distributed.scheduler - Remove worker <WorkerState 'tcp://127.0.0.1:36727', name: 2, status: closing, memory: 0, processing: 0> (stimulus_id='handle-worker-cleanup-1712222507.416886')\n"
      ]
     },
     "metadata": {},
     "output_type": "display_data"
    },
    {
     "data": {
      "text/html": [
       "<pre style=\"white-space:pre;overflow-x:auto;line-height:normal;font-family:Menlo,'DejaVu Sans Mono',consolas,'Courier New',monospace\">12:21:47.418 | <span style=\"color: #008080; text-decoration-color: #008080\">INFO</span>    | distributed.core - Received 'close-stream' from tcp://127.0.0.1:54868; closing.\n",
       "</pre>\n"
      ],
      "text/plain": [
       "12:21:47.418 | \u001b[36mINFO\u001b[0m    | distributed.core - Received 'close-stream' from tcp://127.0.0.1:54868; closing.\n"
      ]
     },
     "metadata": {},
     "output_type": "display_data"
    },
    {
     "data": {
      "text/html": [
       "<pre style=\"white-space:pre;overflow-x:auto;line-height:normal;font-family:Menlo,'DejaVu Sans Mono',consolas,'Courier New',monospace\">12:21:47.419 | <span style=\"color: #008080; text-decoration-color: #008080\">INFO</span>    | distributed.scheduler - Remove worker &lt;WorkerState 'tcp://127.0.0.1:37851', name: 3, status: closing, memory: 0, processing: 0&gt; (stimulus_id='handle-worker-cleanup-1712222507.4191823')\n",
       "</pre>\n"
      ],
      "text/plain": [
       "12:21:47.419 | \u001b[36mINFO\u001b[0m    | distributed.scheduler - Remove worker <WorkerState 'tcp://127.0.0.1:37851', name: 3, status: closing, memory: 0, processing: 0> (stimulus_id='handle-worker-cleanup-1712222507.4191823')\n"
      ]
     },
     "metadata": {},
     "output_type": "display_data"
    },
    {
     "data": {
      "text/html": [
       "<pre style=\"white-space:pre;overflow-x:auto;line-height:normal;font-family:Menlo,'DejaVu Sans Mono',consolas,'Courier New',monospace\">12:21:47.419 | <span style=\"color: #008080; text-decoration-color: #008080\">INFO</span>    | distributed.scheduler - Lost all workers\n",
       "</pre>\n"
      ],
      "text/plain": [
       "12:21:47.419 | \u001b[36mINFO\u001b[0m    | distributed.scheduler - Lost all workers\n"
      ]
     },
     "metadata": {},
     "output_type": "display_data"
    },
    {
     "data": {
      "text/html": [
       "<pre style=\"white-space:pre;overflow-x:auto;line-height:normal;font-family:Menlo,'DejaVu Sans Mono',consolas,'Courier New',monospace\">12:21:48.392 | <span style=\"color: #008080; text-decoration-color: #008080\">INFO</span>    | distributed.scheduler - Scheduler closing due to unknown reason...\n",
       "</pre>\n"
      ],
      "text/plain": [
       "12:21:48.392 | \u001b[36mINFO\u001b[0m    | distributed.scheduler - Scheduler closing due to unknown reason...\n"
      ]
     },
     "metadata": {},
     "output_type": "display_data"
    },
    {
     "data": {
      "text/html": [
       "<pre style=\"white-space:pre;overflow-x:auto;line-height:normal;font-family:Menlo,'DejaVu Sans Mono',consolas,'Courier New',monospace\">12:21:48.393 | <span style=\"color: #008080; text-decoration-color: #008080\">INFO</span>    | distributed.scheduler - Scheduler closing all comms\n",
       "</pre>\n"
      ],
      "text/plain": [
       "12:21:48.393 | \u001b[36mINFO\u001b[0m    | distributed.scheduler - Scheduler closing all comms\n"
      ]
     },
     "metadata": {},
     "output_type": "display_data"
    },
    {
     "data": {
      "text/html": [
       "<pre style=\"white-space:pre;overflow-x:auto;line-height:normal;font-family:Menlo,'DejaVu Sans Mono',consolas,'Courier New',monospace\">12:21:48.395 | <span style=\"color: #008080; text-decoration-color: #008080\">INFO</span>    | Flow run<span style=\"color: #800080; text-decoration-color: #800080\"> 'abiding-wolf'</span> - Finished in state <span style=\"color: #008000; text-decoration-color: #008000\">Completed</span>()\n",
       "</pre>\n"
      ],
      "text/plain": [
       "12:21:48.395 | \u001b[36mINFO\u001b[0m    | Flow run\u001b[35m 'abiding-wolf'\u001b[0m - Finished in state \u001b[32mCompleted\u001b[0m()\n"
      ]
     },
     "metadata": {},
     "output_type": "display_data"
    },
    {
     "data": {
      "text/html": [
       "<pre style=\"white-space:pre;overflow-x:auto;line-height:normal;font-family:Menlo,'DejaVu Sans Mono',consolas,'Courier New',monospace\">12:21:48.501 | <span style=\"color: #008080; text-decoration-color: #008080\">INFO</span>    | prefect.engine - Created flow run<span style=\"color: #800080; text-decoration-color: #800080\"> 'transparent-angelfish'</span> for flow<span style=\"color: #800080; text-decoration-color: #800080; font-weight: bold\"> 'download-flow'</span>\n",
       "</pre>\n"
      ],
      "text/plain": [
       "12:21:48.501 | \u001b[36mINFO\u001b[0m    | prefect.engine - Created flow run\u001b[35m 'transparent-angelfish'\u001b[0m for flow\u001b[1;35m 'download-flow'\u001b[0m\n"
      ]
     },
     "metadata": {},
     "output_type": "display_data"
    },
    {
     "data": {
      "text/html": [
       "<pre style=\"white-space:pre;overflow-x:auto;line-height:normal;font-family:Menlo,'DejaVu Sans Mono',consolas,'Courier New',monospace\">12:21:48.502 | <span style=\"color: #008080; text-decoration-color: #008080\">INFO</span>    | prefect.task_runner.dask - Creating a new Dask cluster with `distributed.deploy.local.LocalCluster`\n",
       "</pre>\n"
      ],
      "text/plain": [
       "12:21:48.502 | \u001b[36mINFO\u001b[0m    | prefect.task_runner.dask - Creating a new Dask cluster with `distributed.deploy.local.LocalCluster`\n"
      ]
     },
     "metadata": {},
     "output_type": "display_data"
    },
    {
     "data": {
      "text/html": [
       "<pre style=\"white-space:pre;overflow-x:auto;line-height:normal;font-family:Menlo,'DejaVu Sans Mono',consolas,'Courier New',monospace\">12:21:48.505 | <span style=\"color: #008080; text-decoration-color: #008080\">INFO</span>    | distributed.scheduler - State start\n",
       "</pre>\n"
      ],
      "text/plain": [
       "12:21:48.505 | \u001b[36mINFO\u001b[0m    | distributed.scheduler - State start\n"
      ]
     },
     "metadata": {},
     "output_type": "display_data"
    },
    {
     "data": {
      "text/html": [
       "<pre style=\"white-space:pre;overflow-x:auto;line-height:normal;font-family:Menlo,'DejaVu Sans Mono',consolas,'Courier New',monospace\">12:21:48.511 | <span style=\"color: #008080; text-decoration-color: #008080\">INFO</span>    | distributed.scheduler -   Scheduler at:     tcp://127.0.0.1:35415\n",
       "</pre>\n"
      ],
      "text/plain": [
       "12:21:48.511 | \u001b[36mINFO\u001b[0m    | distributed.scheduler -   Scheduler at:     tcp://127.0.0.1:35415\n"
      ]
     },
     "metadata": {},
     "output_type": "display_data"
    },
    {
     "data": {
      "text/html": [
       "<pre style=\"white-space:pre;overflow-x:auto;line-height:normal;font-family:Menlo,'DejaVu Sans Mono',consolas,'Courier New',monospace\">12:21:48.512 | <span style=\"color: #008080; text-decoration-color: #008080\">INFO</span>    | distributed.scheduler -   dashboard at:  <span style=\"color: #0000ff; text-decoration-color: #0000ff\">http://127.0.0.1:8787/status</span>\n",
       "</pre>\n"
      ],
      "text/plain": [
       "12:21:48.512 | \u001b[36mINFO\u001b[0m    | distributed.scheduler -   dashboard at:  \u001b[94mhttp://127.0.0.1:8787/status\u001b[0m\n"
      ]
     },
     "metadata": {},
     "output_type": "display_data"
    },
    {
     "data": {
      "text/html": [
       "<pre style=\"white-space:pre;overflow-x:auto;line-height:normal;font-family:Menlo,'DejaVu Sans Mono',consolas,'Courier New',monospace\">12:21:48.513 | <span style=\"color: #008080; text-decoration-color: #008080\">INFO</span>    | distributed.scheduler - Registering Worker plugin shuffle\n",
       "</pre>\n"
      ],
      "text/plain": [
       "12:21:48.513 | \u001b[36mINFO\u001b[0m    | distributed.scheduler - Registering Worker plugin shuffle\n"
      ]
     },
     "metadata": {},
     "output_type": "display_data"
    },
    {
     "data": {
      "text/html": [
       "<pre style=\"white-space:pre;overflow-x:auto;line-height:normal;font-family:Menlo,'DejaVu Sans Mono',consolas,'Courier New',monospace\">12:21:48.532 | <span style=\"color: #008080; text-decoration-color: #008080\">INFO</span>    | distributed.nanny -         Start Nanny at: 'tcp://127.0.0.1:45211'\n",
       "</pre>\n"
      ],
      "text/plain": [
       "12:21:48.532 | \u001b[36mINFO\u001b[0m    | distributed.nanny -         Start Nanny at: 'tcp://127.0.0.1:45211'\n"
      ]
     },
     "metadata": {},
     "output_type": "display_data"
    },
    {
     "data": {
      "text/html": [
       "<pre style=\"white-space:pre;overflow-x:auto;line-height:normal;font-family:Menlo,'DejaVu Sans Mono',consolas,'Courier New',monospace\">12:21:48.535 | <span style=\"color: #008080; text-decoration-color: #008080\">INFO</span>    | distributed.nanny -         Start Nanny at: 'tcp://127.0.0.1:46515'\n",
       "</pre>\n"
      ],
      "text/plain": [
       "12:21:48.535 | \u001b[36mINFO\u001b[0m    | distributed.nanny -         Start Nanny at: 'tcp://127.0.0.1:46515'\n"
      ]
     },
     "metadata": {},
     "output_type": "display_data"
    },
    {
     "data": {
      "text/html": [
       "<pre style=\"white-space:pre;overflow-x:auto;line-height:normal;font-family:Menlo,'DejaVu Sans Mono',consolas,'Courier New',monospace\">12:21:48.540 | <span style=\"color: #008080; text-decoration-color: #008080\">INFO</span>    | distributed.nanny -         Start Nanny at: 'tcp://127.0.0.1:35101'\n",
       "</pre>\n"
      ],
      "text/plain": [
       "12:21:48.540 | \u001b[36mINFO\u001b[0m    | distributed.nanny -         Start Nanny at: 'tcp://127.0.0.1:35101'\n"
      ]
     },
     "metadata": {},
     "output_type": "display_data"
    },
    {
     "data": {
      "text/html": [
       "<pre style=\"white-space:pre;overflow-x:auto;line-height:normal;font-family:Menlo,'DejaVu Sans Mono',consolas,'Courier New',monospace\">12:21:48.544 | <span style=\"color: #008080; text-decoration-color: #008080\">INFO</span>    | distributed.nanny -         Start Nanny at: 'tcp://127.0.0.1:46723'\n",
       "</pre>\n"
      ],
      "text/plain": [
       "12:21:48.544 | \u001b[36mINFO\u001b[0m    | distributed.nanny -         Start Nanny at: 'tcp://127.0.0.1:46723'\n"
      ]
     },
     "metadata": {},
     "output_type": "display_data"
    },
    {
     "data": {
      "text/html": [
       "<pre style=\"white-space:pre;overflow-x:auto;line-height:normal;font-family:Menlo,'DejaVu Sans Mono',consolas,'Courier New',monospace\">12:21:48.919 | <span style=\"color: #008080; text-decoration-color: #008080\">INFO</span>    | distributed.scheduler - Register worker &lt;WorkerState 'tcp://127.0.0.1:33205', name: 0, status: init, memory: 0, processing: 0&gt;\n",
       "</pre>\n"
      ],
      "text/plain": [
       "12:21:48.919 | \u001b[36mINFO\u001b[0m    | distributed.scheduler - Register worker <WorkerState 'tcp://127.0.0.1:33205', name: 0, status: init, memory: 0, processing: 0>\n"
      ]
     },
     "metadata": {},
     "output_type": "display_data"
    },
    {
     "data": {
      "text/html": [
       "<pre style=\"white-space:pre;overflow-x:auto;line-height:normal;font-family:Menlo,'DejaVu Sans Mono',consolas,'Courier New',monospace\">12:21:48.921 | <span style=\"color: #008080; text-decoration-color: #008080\">INFO</span>    | distributed.scheduler - Starting worker compute stream, tcp://127.0.0.1:33205\n",
       "</pre>\n"
      ],
      "text/plain": [
       "12:21:48.921 | \u001b[36mINFO\u001b[0m    | distributed.scheduler - Starting worker compute stream, tcp://127.0.0.1:33205\n"
      ]
     },
     "metadata": {},
     "output_type": "display_data"
    },
    {
     "data": {
      "text/html": [
       "<pre style=\"white-space:pre;overflow-x:auto;line-height:normal;font-family:Menlo,'DejaVu Sans Mono',consolas,'Courier New',monospace\">12:21:48.921 | <span style=\"color: #008080; text-decoration-color: #008080\">INFO</span>    | distributed.core - Starting established connection to tcp://127.0.0.1:36052\n",
       "</pre>\n"
      ],
      "text/plain": [
       "12:21:48.921 | \u001b[36mINFO\u001b[0m    | distributed.core - Starting established connection to tcp://127.0.0.1:36052\n"
      ]
     },
     "metadata": {},
     "output_type": "display_data"
    },
    {
     "data": {
      "text/html": [
       "<pre style=\"white-space:pre;overflow-x:auto;line-height:normal;font-family:Menlo,'DejaVu Sans Mono',consolas,'Courier New',monospace\">12:21:48.923 | <span style=\"color: #008080; text-decoration-color: #008080\">INFO</span>    | distributed.scheduler - Register worker &lt;WorkerState 'tcp://127.0.0.1:33563', name: 2, status: init, memory: 0, processing: 0&gt;\n",
       "</pre>\n"
      ],
      "text/plain": [
       "12:21:48.923 | \u001b[36mINFO\u001b[0m    | distributed.scheduler - Register worker <WorkerState 'tcp://127.0.0.1:33563', name: 2, status: init, memory: 0, processing: 0>\n"
      ]
     },
     "metadata": {},
     "output_type": "display_data"
    },
    {
     "data": {
      "text/html": [
       "<pre style=\"white-space:pre;overflow-x:auto;line-height:normal;font-family:Menlo,'DejaVu Sans Mono',consolas,'Courier New',monospace\">12:21:48.924 | <span style=\"color: #008080; text-decoration-color: #008080\">INFO</span>    | distributed.scheduler - Starting worker compute stream, tcp://127.0.0.1:33563\n",
       "</pre>\n"
      ],
      "text/plain": [
       "12:21:48.924 | \u001b[36mINFO\u001b[0m    | distributed.scheduler - Starting worker compute stream, tcp://127.0.0.1:33563\n"
      ]
     },
     "metadata": {},
     "output_type": "display_data"
    },
    {
     "data": {
      "text/html": [
       "<pre style=\"white-space:pre;overflow-x:auto;line-height:normal;font-family:Menlo,'DejaVu Sans Mono',consolas,'Courier New',monospace\">12:21:48.924 | <span style=\"color: #008080; text-decoration-color: #008080\">INFO</span>    | distributed.core - Starting established connection to tcp://127.0.0.1:36060\n",
       "</pre>\n"
      ],
      "text/plain": [
       "12:21:48.924 | \u001b[36mINFO\u001b[0m    | distributed.core - Starting established connection to tcp://127.0.0.1:36060\n"
      ]
     },
     "metadata": {},
     "output_type": "display_data"
    },
    {
     "data": {
      "text/html": [
       "<pre style=\"white-space:pre;overflow-x:auto;line-height:normal;font-family:Menlo,'DejaVu Sans Mono',consolas,'Courier New',monospace\">12:21:48.926 | <span style=\"color: #008080; text-decoration-color: #008080\">INFO</span>    | distributed.scheduler - Register worker &lt;WorkerState 'tcp://127.0.0.1:40775', name: 3, status: init, memory: 0, processing: 0&gt;\n",
       "</pre>\n"
      ],
      "text/plain": [
       "12:21:48.926 | \u001b[36mINFO\u001b[0m    | distributed.scheduler - Register worker <WorkerState 'tcp://127.0.0.1:40775', name: 3, status: init, memory: 0, processing: 0>\n"
      ]
     },
     "metadata": {},
     "output_type": "display_data"
    },
    {
     "data": {
      "text/html": [
       "<pre style=\"white-space:pre;overflow-x:auto;line-height:normal;font-family:Menlo,'DejaVu Sans Mono',consolas,'Courier New',monospace\">12:21:48.927 | <span style=\"color: #008080; text-decoration-color: #008080\">INFO</span>    | distributed.scheduler - Starting worker compute stream, tcp://127.0.0.1:40775\n",
       "</pre>\n"
      ],
      "text/plain": [
       "12:21:48.927 | \u001b[36mINFO\u001b[0m    | distributed.scheduler - Starting worker compute stream, tcp://127.0.0.1:40775\n"
      ]
     },
     "metadata": {},
     "output_type": "display_data"
    },
    {
     "data": {
      "text/html": [
       "<pre style=\"white-space:pre;overflow-x:auto;line-height:normal;font-family:Menlo,'DejaVu Sans Mono',consolas,'Courier New',monospace\">12:21:48.927 | <span style=\"color: #008080; text-decoration-color: #008080\">INFO</span>    | distributed.core - Starting established connection to tcp://127.0.0.1:36062\n",
       "</pre>\n"
      ],
      "text/plain": [
       "12:21:48.927 | \u001b[36mINFO\u001b[0m    | distributed.core - Starting established connection to tcp://127.0.0.1:36062\n"
      ]
     },
     "metadata": {},
     "output_type": "display_data"
    },
    {
     "data": {
      "text/html": [
       "<pre style=\"white-space:pre;overflow-x:auto;line-height:normal;font-family:Menlo,'DejaVu Sans Mono',consolas,'Courier New',monospace\">12:21:48.932 | <span style=\"color: #008080; text-decoration-color: #008080\">INFO</span>    | distributed.scheduler - Register worker &lt;WorkerState 'tcp://127.0.0.1:44773', name: 1, status: init, memory: 0, processing: 0&gt;\n",
       "</pre>\n"
      ],
      "text/plain": [
       "12:21:48.932 | \u001b[36mINFO\u001b[0m    | distributed.scheduler - Register worker <WorkerState 'tcp://127.0.0.1:44773', name: 1, status: init, memory: 0, processing: 0>\n"
      ]
     },
     "metadata": {},
     "output_type": "display_data"
    },
    {
     "data": {
      "text/html": [
       "<pre style=\"white-space:pre;overflow-x:auto;line-height:normal;font-family:Menlo,'DejaVu Sans Mono',consolas,'Courier New',monospace\">12:21:48.933 | <span style=\"color: #008080; text-decoration-color: #008080\">INFO</span>    | distributed.scheduler - Starting worker compute stream, tcp://127.0.0.1:44773\n",
       "</pre>\n"
      ],
      "text/plain": [
       "12:21:48.933 | \u001b[36mINFO\u001b[0m    | distributed.scheduler - Starting worker compute stream, tcp://127.0.0.1:44773\n"
      ]
     },
     "metadata": {},
     "output_type": "display_data"
    },
    {
     "data": {
      "text/html": [
       "<pre style=\"white-space:pre;overflow-x:auto;line-height:normal;font-family:Menlo,'DejaVu Sans Mono',consolas,'Courier New',monospace\">12:21:48.934 | <span style=\"color: #008080; text-decoration-color: #008080\">INFO</span>    | distributed.core - Starting established connection to tcp://127.0.0.1:36076\n",
       "</pre>\n"
      ],
      "text/plain": [
       "12:21:48.934 | \u001b[36mINFO\u001b[0m    | distributed.core - Starting established connection to tcp://127.0.0.1:36076\n"
      ]
     },
     "metadata": {},
     "output_type": "display_data"
    },
    {
     "data": {
      "text/html": [
       "<pre style=\"white-space:pre;overflow-x:auto;line-height:normal;font-family:Menlo,'DejaVu Sans Mono',consolas,'Courier New',monospace\">12:21:48.959 | <span style=\"color: #008080; text-decoration-color: #008080\">INFO</span>    | distributed.scheduler - Receive client connection: Client-c3bb8f77-f264-11ee-90bd-177fde9e489e\n",
       "</pre>\n"
      ],
      "text/plain": [
       "12:21:48.959 | \u001b[36mINFO\u001b[0m    | distributed.scheduler - Receive client connection: Client-c3bb8f77-f264-11ee-90bd-177fde9e489e\n"
      ]
     },
     "metadata": {},
     "output_type": "display_data"
    },
    {
     "data": {
      "text/html": [
       "<pre style=\"white-space:pre;overflow-x:auto;line-height:normal;font-family:Menlo,'DejaVu Sans Mono',consolas,'Courier New',monospace\">12:21:48.961 | <span style=\"color: #008080; text-decoration-color: #008080\">INFO</span>    | distributed.core - Starting established connection to tcp://127.0.0.1:36084\n",
       "</pre>\n"
      ],
      "text/plain": [
       "12:21:48.961 | \u001b[36mINFO\u001b[0m    | distributed.core - Starting established connection to tcp://127.0.0.1:36084\n"
      ]
     },
     "metadata": {},
     "output_type": "display_data"
    },
    {
     "data": {
      "text/html": [
       "<pre style=\"white-space:pre;overflow-x:auto;line-height:normal;font-family:Menlo,'DejaVu Sans Mono',consolas,'Courier New',monospace\">12:21:48.962 | <span style=\"color: #008080; text-decoration-color: #008080\">INFO</span>    | prefect.task_runner.dask - The Dask dashboard is available at <span style=\"color: #0000ff; text-decoration-color: #0000ff\">http://127.0.0.1:8787/status</span>\n",
       "</pre>\n"
      ],
      "text/plain": [
       "12:21:48.962 | \u001b[36mINFO\u001b[0m    | prefect.task_runner.dask - The Dask dashboard is available at \u001b[94mhttp://127.0.0.1:8787/status\u001b[0m\n"
      ]
     },
     "metadata": {},
     "output_type": "display_data"
    },
    {
     "data": {
      "text/html": [
       "<pre style=\"white-space:pre;overflow-x:auto;line-height:normal;font-family:Menlo,'DejaVu Sans Mono',consolas,'Courier New',monospace\">12:21:51.255 | DEBUG   | Flow run<span style=\"color: #800080; text-decoration-color: #800080\"> 'transparent-angelfish'</span> - Files found in the catalog (0): [] \n",
       "</pre>\n"
      ],
      "text/plain": [
       "12:21:51.255 | DEBUG   | Flow run\u001b[35m 'transparent-angelfish'\u001b[0m - Files found in the catalog (0): [] \n"
      ]
     },
     "metadata": {},
     "output_type": "display_data"
    },
    {
     "data": {
      "text/html": [
       "<pre style=\"white-space:pre;overflow-x:auto;line-height:normal;font-family:Menlo,'DejaVu Sans Mono',consolas,'Courier New',monospace\">12:21:51.258 | <span style=\"color: #008080; text-decoration-color: #008080\">INFO</span>    | Flow run<span style=\"color: #800080; text-decoration-color: #800080\"> 'transparent-angelfish'</span> - List with files to be downloaded (after filtering against the catalog)\n",
       "</pre>\n"
      ],
      "text/plain": [
       "12:21:51.258 | \u001b[36mINFO\u001b[0m    | Flow run\u001b[35m 'transparent-angelfish'\u001b[0m - List with files to be downloaded (after filtering against the catalog)\n"
      ]
     },
     "metadata": {},
     "output_type": "display_data"
    },
    {
     "data": {
      "text/html": [
       "<pre style=\"white-space:pre;overflow-x:auto;line-height:normal;font-family:Menlo,'DejaVu Sans Mono',consolas,'Courier New',monospace\">12:21:51.260 | <span style=\"color: #008080; text-decoration-color: #008080\">INFO</span>    | Flow run<span style=\"color: #800080; text-decoration-color: #800080\"> 'transparent-angelfish'</span> -       S2__OPER_AUX_ECMWFD_PDMC_20230216T120000_V20190217T090000_20190217T210000.TGZ\n",
       "</pre>\n"
      ],
      "text/plain": [
       "12:21:51.260 | \u001b[36mINFO\u001b[0m    | Flow run\u001b[35m 'transparent-angelfish'\u001b[0m -       S2__OPER_AUX_ECMWFD_PDMC_20230216T120000_V20190217T090000_20190217T210000.TGZ\n"
      ]
     },
     "metadata": {},
     "output_type": "display_data"
    },
    {
     "data": {
      "text/html": [
       "<pre style=\"white-space:pre;overflow-x:auto;line-height:normal;font-family:Menlo,'DejaVu Sans Mono',consolas,'Courier New',monospace\">12:21:51.261 | <span style=\"color: #008080; text-decoration-color: #008080\">INFO</span>    | Flow run<span style=\"color: #800080; text-decoration-color: #800080\"> 'transparent-angelfish'</span> -       S2__OPER_AUX_ECMWFD_PDMC_20200216T120000_V20190217T090000_20190217T210000.TGZ\n",
       "</pre>\n"
      ],
      "text/plain": [
       "12:21:51.261 | \u001b[36mINFO\u001b[0m    | Flow run\u001b[35m 'transparent-angelfish'\u001b[0m -       S2__OPER_AUX_ECMWFD_PDMC_20200216T120000_V20190217T090000_20190217T210000.TGZ\n"
      ]
     },
     "metadata": {},
     "output_type": "display_data"
    },
    {
     "data": {
      "text/html": [
       "<pre style=\"white-space:pre;overflow-x:auto;line-height:normal;font-family:Menlo,'DejaVu Sans Mono',consolas,'Courier New',monospace\">12:21:51.262 | <span style=\"color: #008080; text-decoration-color: #008080\">INFO</span>    | Flow run<span style=\"color: #800080; text-decoration-color: #800080\"> 'transparent-angelfish'</span> -       S2__OPER_AUX_ECMWFD_PDMC_20190216T120000_V20190217T090000_20190217T210000.TGZ\n",
       "</pre>\n"
      ],
      "text/plain": [
       "12:21:51.262 | \u001b[36mINFO\u001b[0m    | Flow run\u001b[35m 'transparent-angelfish'\u001b[0m -       S2__OPER_AUX_ECMWFD_PDMC_20190216T120000_V20190217T090000_20190217T210000.TGZ\n"
      ]
     },
     "metadata": {},
     "output_type": "display_data"
    },
    {
     "data": {
      "text/html": [
       "<pre style=\"white-space:pre;overflow-x:auto;line-height:normal;font-family:Menlo,'DejaVu Sans Mono',consolas,'Courier New',monospace\">12:21:51.302 | <span style=\"color: #008080; text-decoration-color: #008080\">INFO</span>    | Flow run<span style=\"color: #800080; text-decoration-color: #800080\"> 'transparent-angelfish'</span> - Created task run 'ingest_files-2' for task 'ingest_files'\n",
       "</pre>\n"
      ],
      "text/plain": [
       "12:21:51.302 | \u001b[36mINFO\u001b[0m    | Flow run\u001b[35m 'transparent-angelfish'\u001b[0m - Created task run 'ingest_files-2' for task 'ingest_files'\n"
      ]
     },
     "metadata": {},
     "output_type": "display_data"
    },
    {
     "data": {
      "text/html": [
       "<pre style=\"white-space:pre;overflow-x:auto;line-height:normal;font-family:Menlo,'DejaVu Sans Mono',consolas,'Courier New',monospace\">12:21:51.306 | <span style=\"color: #008080; text-decoration-color: #008080\">INFO</span>    | Flow run<span style=\"color: #800080; text-decoration-color: #800080\"> 'transparent-angelfish'</span> - Submitted task run 'ingest_files-2' for execution.\n",
       "</pre>\n"
      ],
      "text/plain": [
       "12:21:51.306 | \u001b[36mINFO\u001b[0m    | Flow run\u001b[35m 'transparent-angelfish'\u001b[0m - Submitted task run 'ingest_files-2' for execution.\n"
      ]
     },
     "metadata": {},
     "output_type": "display_data"
    },
    {
     "data": {
      "text/html": [
       "<pre style=\"white-space:pre;overflow-x:auto;line-height:normal;font-family:Menlo,'DejaVu Sans Mono',consolas,'Courier New',monospace\">12:21:51.317 | <span style=\"color: #008080; text-decoration-color: #008080\">INFO</span>    | Flow run<span style=\"color: #800080; text-decoration-color: #800080\"> 'transparent-angelfish'</span> - Created task run 'ingest_files-1' for task 'ingest_files'\n",
       "</pre>\n"
      ],
      "text/plain": [
       "12:21:51.317 | \u001b[36mINFO\u001b[0m    | Flow run\u001b[35m 'transparent-angelfish'\u001b[0m - Created task run 'ingest_files-1' for task 'ingest_files'\n"
      ]
     },
     "metadata": {},
     "output_type": "display_data"
    },
    {
     "data": {
      "text/html": [
       "<pre style=\"white-space:pre;overflow-x:auto;line-height:normal;font-family:Menlo,'DejaVu Sans Mono',consolas,'Courier New',monospace\">12:21:51.321 | <span style=\"color: #008080; text-decoration-color: #008080\">INFO</span>    | Flow run<span style=\"color: #800080; text-decoration-color: #800080\"> 'transparent-angelfish'</span> - Submitted task run 'ingest_files-1' for execution.\n",
       "</pre>\n"
      ],
      "text/plain": [
       "12:21:51.321 | \u001b[36mINFO\u001b[0m    | Flow run\u001b[35m 'transparent-angelfish'\u001b[0m - Submitted task run 'ingest_files-1' for execution.\n"
      ]
     },
     "metadata": {},
     "output_type": "display_data"
    },
    {
     "data": {
      "text/html": [
       "<pre style=\"white-space:pre;overflow-x:auto;line-height:normal;font-family:Menlo,'DejaVu Sans Mono',consolas,'Courier New',monospace\">12:21:51.340 | <span style=\"color: #008080; text-decoration-color: #008080\">INFO</span>    | Flow run<span style=\"color: #800080; text-decoration-color: #800080\"> 'transparent-angelfish'</span> - Created task run 'ingest_files-0' for task 'ingest_files'\n",
       "</pre>\n"
      ],
      "text/plain": [
       "12:21:51.340 | \u001b[36mINFO\u001b[0m    | Flow run\u001b[35m 'transparent-angelfish'\u001b[0m - Created task run 'ingest_files-0' for task 'ingest_files'\n"
      ]
     },
     "metadata": {},
     "output_type": "display_data"
    },
    {
     "data": {
      "text/html": [
       "<pre style=\"white-space:pre;overflow-x:auto;line-height:normal;font-family:Menlo,'DejaVu Sans Mono',consolas,'Courier New',monospace\">12:21:51.344 | <span style=\"color: #008080; text-decoration-color: #008080\">INFO</span>    | Flow run<span style=\"color: #800080; text-decoration-color: #800080\"> 'transparent-angelfish'</span> - Submitted task run 'ingest_files-0' for execution.\n",
       "</pre>\n"
      ],
      "text/plain": [
       "12:21:51.344 | \u001b[36mINFO\u001b[0m    | Flow run\u001b[35m 'transparent-angelfish'\u001b[0m - Submitted task run 'ingest_files-0' for execution.\n"
      ]
     },
     "metadata": {},
     "output_type": "display_data"
    },
    {
     "name": "stderr",
     "output_type": "stream",
     "text": [
      "12:21:54.890 | \u001b[36mINFO\u001b[0m    | Task run 'ingest_files-2' - The download progress for file S2__OPER_AUX_ECMWFD_PDMC_20190216T120000_V20190217T090000_20190217T210000.TGZ is IN_PROGRESS\n",
      "12:21:55.580 | \u001b[36mINFO\u001b[0m    | Task run 'ingest_files-1' - The download progress for file S2__OPER_AUX_ECMWFD_PDMC_20200216T120000_V20190217T090000_20190217T210000.TGZ is IN_PROGRESS\n",
      "12:21:56.001 | \u001b[36mINFO\u001b[0m    | Task run 'ingest_files-0' - The download progress for file S2__OPER_AUX_ECMWFD_PDMC_20230216T120000_V20190217T090000_20190217T210000.TGZ is IN_PROGRESS\n",
      "12:21:56.120 | \u001b[36mINFO\u001b[0m    | Task run 'ingest_files-2' - File S2__OPER_AUX_ECMWFD_PDMC_20190216T120000_V20190217T090000_20190217T210000.TGZ has been properly downloaded...\n",
      "12:21:56.686 | \u001b[36mINFO\u001b[0m    | Task run 'ingest_files-2' - File well published: S2__OPER_AUX_ECMWFD_PDMC_20190216T120000_V20190217T090000_20190217T210000.TGZ\n",
      "\n",
      "12:21:56.731 | \u001b[36mINFO\u001b[0m    | Task run 'ingest_files-2' - Finished in state \u001b[32mCompleted\u001b[0m()\n",
      "12:21:56.799 | \u001b[36mINFO\u001b[0m    | Task run 'ingest_files-1' - File S2__OPER_AUX_ECMWFD_PDMC_20200216T120000_V20190217T090000_20190217T210000.TGZ has been properly downloaded...\n",
      "12:21:57.220 | \u001b[36mINFO\u001b[0m    | Task run 'ingest_files-0' - File S2__OPER_AUX_ECMWFD_PDMC_20230216T120000_V20190217T090000_20190217T210000.TGZ has been properly downloaded...\n",
      "12:21:57.341 | \u001b[36mINFO\u001b[0m    | Task run 'ingest_files-1' - File well published: S2__OPER_AUX_ECMWFD_PDMC_20200216T120000_V20190217T090000_20190217T210000.TGZ\n",
      "\n",
      "12:21:57.388 | \u001b[36mINFO\u001b[0m    | Task run 'ingest_files-1' - Finished in state \u001b[32mCompleted\u001b[0m()\n",
      "12:21:57.789 | \u001b[36mINFO\u001b[0m    | Task run 'ingest_files-0' - File well published: S2__OPER_AUX_ECMWFD_PDMC_20230216T120000_V20190217T090000_20190217T210000.TGZ\n",
      "\n",
      "12:21:57.842 | \u001b[36mINFO\u001b[0m    | Task run 'ingest_files-0' - Finished in state \u001b[32mCompleted\u001b[0m()\n"
     ]
    },
    {
     "data": {
      "text/html": [
       "<pre style=\"white-space:pre;overflow-x:auto;line-height:normal;font-family:Menlo,'DejaVu Sans Mono',consolas,'Courier New',monospace\">12:21:57.896 | <span style=\"color: #008080; text-decoration-color: #008080\">INFO</span>    | distributed.scheduler - Remove client Client-c3bb8f77-f264-11ee-90bd-177fde9e489e\n",
       "</pre>\n"
      ],
      "text/plain": [
       "12:21:57.896 | \u001b[36mINFO\u001b[0m    | distributed.scheduler - Remove client Client-c3bb8f77-f264-11ee-90bd-177fde9e489e\n"
      ]
     },
     "metadata": {},
     "output_type": "display_data"
    },
    {
     "data": {
      "text/html": [
       "<pre style=\"white-space:pre;overflow-x:auto;line-height:normal;font-family:Menlo,'DejaVu Sans Mono',consolas,'Courier New',monospace\">12:21:57.897 | <span style=\"color: #008080; text-decoration-color: #008080\">INFO</span>    | distributed.core - Received 'close-stream' from tcp://127.0.0.1:36084; closing.\n",
       "</pre>\n"
      ],
      "text/plain": [
       "12:21:57.897 | \u001b[36mINFO\u001b[0m    | distributed.core - Received 'close-stream' from tcp://127.0.0.1:36084; closing.\n"
      ]
     },
     "metadata": {},
     "output_type": "display_data"
    },
    {
     "data": {
      "text/html": [
       "<pre style=\"white-space:pre;overflow-x:auto;line-height:normal;font-family:Menlo,'DejaVu Sans Mono',consolas,'Courier New',monospace\">12:21:57.897 | <span style=\"color: #008080; text-decoration-color: #008080\">INFO</span>    | distributed.scheduler - Remove client Client-c3bb8f77-f264-11ee-90bd-177fde9e489e\n",
       "</pre>\n"
      ],
      "text/plain": [
       "12:21:57.897 | \u001b[36mINFO\u001b[0m    | distributed.scheduler - Remove client Client-c3bb8f77-f264-11ee-90bd-177fde9e489e\n"
      ]
     },
     "metadata": {},
     "output_type": "display_data"
    },
    {
     "data": {
      "text/html": [
       "<pre style=\"white-space:pre;overflow-x:auto;line-height:normal;font-family:Menlo,'DejaVu Sans Mono',consolas,'Courier New',monospace\">12:21:57.899 | <span style=\"color: #008080; text-decoration-color: #008080\">INFO</span>    | distributed.scheduler - Close client connection: Client-c3bb8f77-f264-11ee-90bd-177fde9e489e\n",
       "</pre>\n"
      ],
      "text/plain": [
       "12:21:57.899 | \u001b[36mINFO\u001b[0m    | distributed.scheduler - Close client connection: Client-c3bb8f77-f264-11ee-90bd-177fde9e489e\n"
      ]
     },
     "metadata": {},
     "output_type": "display_data"
    },
    {
     "data": {
      "text/html": [
       "<pre style=\"white-space:pre;overflow-x:auto;line-height:normal;font-family:Menlo,'DejaVu Sans Mono',consolas,'Courier New',monospace\">12:21:57.900 | <span style=\"color: #008080; text-decoration-color: #008080\">INFO</span>    | distributed.scheduler - Retire worker addresses (0, 1, 2, 3)\n",
       "</pre>\n"
      ],
      "text/plain": [
       "12:21:57.900 | \u001b[36mINFO\u001b[0m    | distributed.scheduler - Retire worker addresses (0, 1, 2, 3)\n"
      ]
     },
     "metadata": {},
     "output_type": "display_data"
    },
    {
     "data": {
      "text/html": [
       "<pre style=\"white-space:pre;overflow-x:auto;line-height:normal;font-family:Menlo,'DejaVu Sans Mono',consolas,'Courier New',monospace\">12:21:57.901 | <span style=\"color: #008080; text-decoration-color: #008080\">INFO</span>    | distributed.nanny - Closing Nanny at 'tcp://127.0.0.1:45211'. Reason: nanny-close\n",
       "</pre>\n"
      ],
      "text/plain": [
       "12:21:57.901 | \u001b[36mINFO\u001b[0m    | distributed.nanny - Closing Nanny at 'tcp://127.0.0.1:45211'. Reason: nanny-close\n"
      ]
     },
     "metadata": {},
     "output_type": "display_data"
    },
    {
     "data": {
      "text/html": [
       "<pre style=\"white-space:pre;overflow-x:auto;line-height:normal;font-family:Menlo,'DejaVu Sans Mono',consolas,'Courier New',monospace\">12:21:57.901 | <span style=\"color: #008080; text-decoration-color: #008080\">INFO</span>    | distributed.nanny - Nanny asking worker to close. Reason: nanny-close\n",
       "</pre>\n"
      ],
      "text/plain": [
       "12:21:57.901 | \u001b[36mINFO\u001b[0m    | distributed.nanny - Nanny asking worker to close. Reason: nanny-close\n"
      ]
     },
     "metadata": {},
     "output_type": "display_data"
    },
    {
     "data": {
      "text/html": [
       "<pre style=\"white-space:pre;overflow-x:auto;line-height:normal;font-family:Menlo,'DejaVu Sans Mono',consolas,'Courier New',monospace\">12:21:57.902 | <span style=\"color: #008080; text-decoration-color: #008080\">INFO</span>    | distributed.nanny - Closing Nanny at 'tcp://127.0.0.1:46515'. Reason: nanny-close\n",
       "</pre>\n"
      ],
      "text/plain": [
       "12:21:57.902 | \u001b[36mINFO\u001b[0m    | distributed.nanny - Closing Nanny at 'tcp://127.0.0.1:46515'. Reason: nanny-close\n"
      ]
     },
     "metadata": {},
     "output_type": "display_data"
    },
    {
     "data": {
      "text/html": [
       "<pre style=\"white-space:pre;overflow-x:auto;line-height:normal;font-family:Menlo,'DejaVu Sans Mono',consolas,'Courier New',monospace\">12:21:57.903 | <span style=\"color: #008080; text-decoration-color: #008080\">INFO</span>    | distributed.nanny - Nanny asking worker to close. Reason: nanny-close\n",
       "</pre>\n"
      ],
      "text/plain": [
       "12:21:57.903 | \u001b[36mINFO\u001b[0m    | distributed.nanny - Nanny asking worker to close. Reason: nanny-close\n"
      ]
     },
     "metadata": {},
     "output_type": "display_data"
    },
    {
     "data": {
      "text/html": [
       "<pre style=\"white-space:pre;overflow-x:auto;line-height:normal;font-family:Menlo,'DejaVu Sans Mono',consolas,'Courier New',monospace\">12:21:57.904 | <span style=\"color: #008080; text-decoration-color: #008080\">INFO</span>    | distributed.nanny - Closing Nanny at 'tcp://127.0.0.1:35101'. Reason: nanny-close\n",
       "</pre>\n"
      ],
      "text/plain": [
       "12:21:57.904 | \u001b[36mINFO\u001b[0m    | distributed.nanny - Closing Nanny at 'tcp://127.0.0.1:35101'. Reason: nanny-close\n"
      ]
     },
     "metadata": {},
     "output_type": "display_data"
    },
    {
     "data": {
      "text/html": [
       "<pre style=\"white-space:pre;overflow-x:auto;line-height:normal;font-family:Menlo,'DejaVu Sans Mono',consolas,'Courier New',monospace\">12:21:57.904 | <span style=\"color: #008080; text-decoration-color: #008080\">INFO</span>    | distributed.nanny - Nanny asking worker to close. Reason: nanny-close\n",
       "</pre>\n"
      ],
      "text/plain": [
       "12:21:57.904 | \u001b[36mINFO\u001b[0m    | distributed.nanny - Nanny asking worker to close. Reason: nanny-close\n"
      ]
     },
     "metadata": {},
     "output_type": "display_data"
    },
    {
     "data": {
      "text/html": [
       "<pre style=\"white-space:pre;overflow-x:auto;line-height:normal;font-family:Menlo,'DejaVu Sans Mono',consolas,'Courier New',monospace\">12:21:57.905 | <span style=\"color: #008080; text-decoration-color: #008080\">INFO</span>    | distributed.nanny - Closing Nanny at 'tcp://127.0.0.1:46723'. Reason: nanny-close\n",
       "</pre>\n"
      ],
      "text/plain": [
       "12:21:57.905 | \u001b[36mINFO\u001b[0m    | distributed.nanny - Closing Nanny at 'tcp://127.0.0.1:46723'. Reason: nanny-close\n"
      ]
     },
     "metadata": {},
     "output_type": "display_data"
    },
    {
     "data": {
      "text/html": [
       "<pre style=\"white-space:pre;overflow-x:auto;line-height:normal;font-family:Menlo,'DejaVu Sans Mono',consolas,'Courier New',monospace\">12:21:57.906 | <span style=\"color: #008080; text-decoration-color: #008080\">INFO</span>    | distributed.nanny - Nanny asking worker to close. Reason: nanny-close\n",
       "</pre>\n"
      ],
      "text/plain": [
       "12:21:57.906 | \u001b[36mINFO\u001b[0m    | distributed.nanny - Nanny asking worker to close. Reason: nanny-close\n"
      ]
     },
     "metadata": {},
     "output_type": "display_data"
    },
    {
     "data": {
      "text/html": [
       "<pre style=\"white-space:pre;overflow-x:auto;line-height:normal;font-family:Menlo,'DejaVu Sans Mono',consolas,'Courier New',monospace\">12:21:57.907 | <span style=\"color: #008080; text-decoration-color: #008080\">INFO</span>    | distributed.core - Received 'close-stream' from tcp://127.0.0.1:36052; closing.\n",
       "</pre>\n"
      ],
      "text/plain": [
       "12:21:57.907 | \u001b[36mINFO\u001b[0m    | distributed.core - Received 'close-stream' from tcp://127.0.0.1:36052; closing.\n"
      ]
     },
     "metadata": {},
     "output_type": "display_data"
    },
    {
     "data": {
      "text/html": [
       "<pre style=\"white-space:pre;overflow-x:auto;line-height:normal;font-family:Menlo,'DejaVu Sans Mono',consolas,'Courier New',monospace\">12:21:57.908 | <span style=\"color: #008080; text-decoration-color: #008080\">INFO</span>    | distributed.core - Received 'close-stream' from tcp://127.0.0.1:36076; closing.\n",
       "</pre>\n"
      ],
      "text/plain": [
       "12:21:57.908 | \u001b[36mINFO\u001b[0m    | distributed.core - Received 'close-stream' from tcp://127.0.0.1:36076; closing.\n"
      ]
     },
     "metadata": {},
     "output_type": "display_data"
    },
    {
     "data": {
      "text/html": [
       "<pre style=\"white-space:pre;overflow-x:auto;line-height:normal;font-family:Menlo,'DejaVu Sans Mono',consolas,'Courier New',monospace\">12:21:57.909 | <span style=\"color: #008080; text-decoration-color: #008080\">INFO</span>    | distributed.core - Received 'close-stream' from tcp://127.0.0.1:36060; closing.\n",
       "</pre>\n"
      ],
      "text/plain": [
       "12:21:57.909 | \u001b[36mINFO\u001b[0m    | distributed.core - Received 'close-stream' from tcp://127.0.0.1:36060; closing.\n"
      ]
     },
     "metadata": {},
     "output_type": "display_data"
    },
    {
     "data": {
      "text/html": [
       "<pre style=\"white-space:pre;overflow-x:auto;line-height:normal;font-family:Menlo,'DejaVu Sans Mono',consolas,'Courier New',monospace\">12:21:57.910 | <span style=\"color: #008080; text-decoration-color: #008080\">INFO</span>    | distributed.scheduler - Remove worker &lt;WorkerState 'tcp://127.0.0.1:33205', name: 0, status: closing, memory: 0, processing: 0&gt; (stimulus_id='handle-worker-cleanup-1712222517.910757')\n",
       "</pre>\n"
      ],
      "text/plain": [
       "12:21:57.910 | \u001b[36mINFO\u001b[0m    | distributed.scheduler - Remove worker <WorkerState 'tcp://127.0.0.1:33205', name: 0, status: closing, memory: 0, processing: 0> (stimulus_id='handle-worker-cleanup-1712222517.910757')\n"
      ]
     },
     "metadata": {},
     "output_type": "display_data"
    },
    {
     "data": {
      "text/html": [
       "<pre style=\"white-space:pre;overflow-x:auto;line-height:normal;font-family:Menlo,'DejaVu Sans Mono',consolas,'Courier New',monospace\">12:21:57.911 | <span style=\"color: #008080; text-decoration-color: #008080\">INFO</span>    | distributed.scheduler - Remove worker &lt;WorkerState 'tcp://127.0.0.1:44773', name: 1, status: closing, memory: 0, processing: 0&gt; (stimulus_id='handle-worker-cleanup-1712222517.9119291')\n",
       "</pre>\n"
      ],
      "text/plain": [
       "12:21:57.911 | \u001b[36mINFO\u001b[0m    | distributed.scheduler - Remove worker <WorkerState 'tcp://127.0.0.1:44773', name: 1, status: closing, memory: 0, processing: 0> (stimulus_id='handle-worker-cleanup-1712222517.9119291')\n"
      ]
     },
     "metadata": {},
     "output_type": "display_data"
    },
    {
     "data": {
      "text/html": [
       "<pre style=\"white-space:pre;overflow-x:auto;line-height:normal;font-family:Menlo,'DejaVu Sans Mono',consolas,'Courier New',monospace\">12:21:57.913 | <span style=\"color: #008080; text-decoration-color: #008080\">INFO</span>    | distributed.scheduler - Remove worker &lt;WorkerState 'tcp://127.0.0.1:33563', name: 2, status: closing, memory: 0, processing: 0&gt; (stimulus_id='handle-worker-cleanup-1712222517.9131293')\n",
       "</pre>\n"
      ],
      "text/plain": [
       "12:21:57.913 | \u001b[36mINFO\u001b[0m    | distributed.scheduler - Remove worker <WorkerState 'tcp://127.0.0.1:33563', name: 2, status: closing, memory: 0, processing: 0> (stimulus_id='handle-worker-cleanup-1712222517.9131293')\n"
      ]
     },
     "metadata": {},
     "output_type": "display_data"
    },
    {
     "data": {
      "text/html": [
       "<pre style=\"white-space:pre;overflow-x:auto;line-height:normal;font-family:Menlo,'DejaVu Sans Mono',consolas,'Courier New',monospace\">12:21:57.914 | <span style=\"color: #008080; text-decoration-color: #008080\">INFO</span>    | distributed.core - Received 'close-stream' from tcp://127.0.0.1:36062; closing.\n",
       "</pre>\n"
      ],
      "text/plain": [
       "12:21:57.914 | \u001b[36mINFO\u001b[0m    | distributed.core - Received 'close-stream' from tcp://127.0.0.1:36062; closing.\n"
      ]
     },
     "metadata": {},
     "output_type": "display_data"
    },
    {
     "data": {
      "text/html": [
       "<pre style=\"white-space:pre;overflow-x:auto;line-height:normal;font-family:Menlo,'DejaVu Sans Mono',consolas,'Courier New',monospace\">12:21:57.916 | <span style=\"color: #008080; text-decoration-color: #008080\">INFO</span>    | distributed.scheduler - Remove worker &lt;WorkerState 'tcp://127.0.0.1:40775', name: 3, status: closing, memory: 0, processing: 0&gt; (stimulus_id='handle-worker-cleanup-1712222517.9159572')\n",
       "</pre>\n"
      ],
      "text/plain": [
       "12:21:57.916 | \u001b[36mINFO\u001b[0m    | distributed.scheduler - Remove worker <WorkerState 'tcp://127.0.0.1:40775', name: 3, status: closing, memory: 0, processing: 0> (stimulus_id='handle-worker-cleanup-1712222517.9159572')\n"
      ]
     },
     "metadata": {},
     "output_type": "display_data"
    },
    {
     "data": {
      "text/html": [
       "<pre style=\"white-space:pre;overflow-x:auto;line-height:normal;font-family:Menlo,'DejaVu Sans Mono',consolas,'Courier New',monospace\">12:21:57.916 | <span style=\"color: #008080; text-decoration-color: #008080\">INFO</span>    | distributed.scheduler - Lost all workers\n",
       "</pre>\n"
      ],
      "text/plain": [
       "12:21:57.916 | \u001b[36mINFO\u001b[0m    | distributed.scheduler - Lost all workers\n"
      ]
     },
     "metadata": {},
     "output_type": "display_data"
    },
    {
     "data": {
      "text/html": [
       "<pre style=\"white-space:pre;overflow-x:auto;line-height:normal;font-family:Menlo,'DejaVu Sans Mono',consolas,'Courier New',monospace\">12:21:58.784 | <span style=\"color: #008080; text-decoration-color: #008080\">INFO</span>    | distributed.scheduler - Scheduler closing due to unknown reason...\n",
       "</pre>\n"
      ],
      "text/plain": [
       "12:21:58.784 | \u001b[36mINFO\u001b[0m    | distributed.scheduler - Scheduler closing due to unknown reason...\n"
      ]
     },
     "metadata": {},
     "output_type": "display_data"
    },
    {
     "data": {
      "text/html": [
       "<pre style=\"white-space:pre;overflow-x:auto;line-height:normal;font-family:Menlo,'DejaVu Sans Mono',consolas,'Courier New',monospace\">12:21:58.785 | <span style=\"color: #008080; text-decoration-color: #008080\">INFO</span>    | distributed.scheduler - Scheduler closing all comms\n",
       "</pre>\n"
      ],
      "text/plain": [
       "12:21:58.785 | \u001b[36mINFO\u001b[0m    | distributed.scheduler - Scheduler closing all comms\n"
      ]
     },
     "metadata": {},
     "output_type": "display_data"
    },
    {
     "data": {
      "text/html": [
       "<pre style=\"white-space:pre;overflow-x:auto;line-height:normal;font-family:Menlo,'DejaVu Sans Mono',consolas,'Courier New',monospace\">12:21:58.787 | <span style=\"color: #008080; text-decoration-color: #008080\">INFO</span>    | Flow run<span style=\"color: #800080; text-decoration-color: #800080\"> 'transparent-angelfish'</span> - Finished in state <span style=\"color: #008000; text-decoration-color: #008000\">Completed</span>()\n",
       "</pre>\n"
      ],
      "text/plain": [
       "12:21:58.787 | \u001b[36mINFO\u001b[0m    | Flow run\u001b[35m 'transparent-angelfish'\u001b[0m - Finished in state \u001b[32mCompleted\u001b[0m()\n"
      ]
     },
     "metadata": {},
     "output_type": "display_data"
    }
   ],
   "source": [
    "\n",
    "\n",
    "from datetime import datetime\n",
    "\n",
    "from rs_workflows.common import (\n",
    "    PrefectFlowConfig,\n",
    "    download_flow,\n",
    ")\n",
    "\n",
    "def run_flow(user, url, url_catalog, station, mission, tmp_local_download, bucket_url, api_key, no_of_tasks, start_date, stop_date):\n",
    "    # start the prefect flow\n",
    "    download_flow(PrefectFlowConfig(user,\n",
    "                                    url,\n",
    "                                    url_catalog,\n",
    "                                    station,\n",
    "                                    mission,\n",
    "                                    tmp_local_download,\n",
    "                                    bucket_url,\n",
    "                                    api_key,\n",
    "                                    no_of_tasks,\n",
    "                                    datetime.strptime(start_date, \"%Y-%m-%dT%H:%M:%SZ\"),\n",
    "                                    datetime.strptime(stop_date, \"%Y-%m-%dT%H:%M:%SZ\"),                                   \n",
    "            )\n",
    ")\n",
    "\n",
    "\n",
    "stations = [\"CADIP\", \"ADGS\"]\n",
    "url = os.environ[\"RSPY_WEBSITE\"]\n",
    "\n",
    "tmp_local_download = \"/tmp/{}_tmp\"\n",
    "no_of_tasks = 4\n",
    "\n",
    "for station in stations:\n",
    "    run_flow(user,\n",
    "             url.format(station.lower()),\n",
    "             url_catalog,\n",
    "             station,\n",
    "             mission,\n",
    "             tmp_local_download.format(station),\n",
    "             bucket_url + f\"/{station}\",\n",
    "             os.environ.get(\"RSPY_APIKEY\", None),\n",
    "             no_of_tasks,\n",
    "             \"2014-01-01T12:00:00Z\",\n",
    "             \"2024-02-20T12:00:00Z\",\n",
    "             )    \n",
    "    "
   ]
  },
  {
   "cell_type": "code",
   "execution_count": 7,
   "id": "f23a530a",
   "metadata": {},
   "outputs": [
    {
     "ename": "NameError",
     "evalue": "name 'apikey_headers' is not defined",
     "output_type": "error",
     "traceback": [
      "\u001b[0;31m---------------------------------------------------------------------------\u001b[0m",
      "\u001b[0;31mNameError\u001b[0m                                 Traceback (most recent call last)",
      "Cell \u001b[0;32mIn[7], line 2\u001b[0m\n\u001b[1;32m      1\u001b[0m \u001b[38;5;28;01mimport\u001b[39;00m \u001b[38;5;21;01mjson\u001b[39;00m\n\u001b[0;32m----> 2\u001b[0m catalog_data \u001b[38;5;241m=\u001b[39m json\u001b[38;5;241m.\u001b[39mloads((requests\u001b[38;5;241m.\u001b[39mget(url_catalog\u001b[38;5;241m.\u001b[39mrstrip(\u001b[38;5;124m\"\u001b[39m\u001b[38;5;124m/\u001b[39m\u001b[38;5;124m\"\u001b[39m) \u001b[38;5;241m+\u001b[39m \u001b[38;5;124mf\u001b[39m\u001b[38;5;124m\"\u001b[39m\u001b[38;5;124m/catalog/collections/\u001b[39m\u001b[38;5;132;01m{\u001b[39;00muser\u001b[38;5;132;01m}\u001b[39;00m\u001b[38;5;124m:\u001b[39m\u001b[38;5;132;01m{\u001b[39;00mmission\u001b[38;5;132;01m}\u001b[39;00m\u001b[38;5;124m_aux/items?limit=20\u001b[39m\u001b[38;5;124m\"\u001b[39m, \u001b[38;5;241m*\u001b[39m\u001b[38;5;241m*\u001b[39m\u001b[43mapikey_headers\u001b[49m)\u001b[38;5;241m.\u001b[39mcontent\u001b[38;5;241m.\u001b[39mdecode()))\n\u001b[1;32m      4\u001b[0m \u001b[38;5;28;01mfor\u001b[39;00m feature \u001b[38;5;129;01min\u001b[39;00m catalog_data[\u001b[38;5;124m'\u001b[39m\u001b[38;5;124mfeatures\u001b[39m\u001b[38;5;124m'\u001b[39m]:\n\u001b[1;32m      5\u001b[0m     \u001b[38;5;28mprint\u001b[39m(requests\u001b[38;5;241m.\u001b[39mget(url_catalog\u001b[38;5;241m.\u001b[39mrstrip(\u001b[38;5;124m\"\u001b[39m\u001b[38;5;124m/\u001b[39m\u001b[38;5;124m\"\u001b[39m) \u001b[38;5;241m+\u001b[39m \u001b[38;5;124mf\u001b[39m\u001b[38;5;124m\"\u001b[39m\u001b[38;5;124m/catalog/collections/\u001b[39m\u001b[38;5;132;01m{\u001b[39;00muser\u001b[38;5;132;01m}\u001b[39;00m\u001b[38;5;124m:\u001b[39m\u001b[38;5;132;01m{\u001b[39;00mmission\u001b[38;5;132;01m}\u001b[39;00m\u001b[38;5;124m_aux/items/\u001b[39m\u001b[38;5;132;01m{\u001b[39;00mfeature[\u001b[38;5;124m'\u001b[39m\u001b[38;5;124mid\u001b[39m\u001b[38;5;124m'\u001b[39m]\u001b[38;5;132;01m}\u001b[39;00m\u001b[38;5;124m/download/file\u001b[39m\u001b[38;5;124m\"\u001b[39m, \u001b[38;5;241m*\u001b[39m\u001b[38;5;241m*\u001b[39mapikey_headers)\u001b[38;5;241m.\u001b[39mcontent)\n",
      "\u001b[0;31mNameError\u001b[0m: name 'apikey_headers' is not defined"
     ]
    }
   ],
   "source": [
    "import json\n",
    "catalog_data = json.loads((requests.get(url_catalog.rstrip(\"/\") + f\"/catalog/collections/{user}:{mission}_aux/items?limit=20\", **HEADERS).content.decode()))\n",
    "\n",
    "for feature in catalog_data['features']:\n",
    "    print(requests.get(url_catalog.rstrip(\"/\") + f\"/catalog/collections/{user}:{mission}_aux/items/{feature['id']}/download/file\", **HEADERS).content)"
   ]
  },
  {
   "cell_type": "code",
   "execution_count": null,
   "id": "0f0e40c4-30b0-4c02-ba95-4348f347e397",
   "metadata": {},
   "outputs": [],
   "source": []
  }
 ],
 "metadata": {
  "kernelspec": {
   "display_name": "Python 3 (ipykernel)",
   "language": "python",
   "name": "python3"
  },
  "language_info": {
   "codemirror_mode": {
    "name": "ipython",
    "version": 3
   },
   "file_extension": ".py",
   "mimetype": "text/x-python",
   "name": "python",
   "nbconvert_exporter": "python",
   "pygments_lexer": "ipython3",
   "version": "3.11.7"
  }
 },
 "nbformat": 4,
 "nbformat_minor": 5
}

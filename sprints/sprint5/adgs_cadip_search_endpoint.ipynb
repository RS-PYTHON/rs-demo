{
 "cells": [
  {
   "cell_type": "markdown",
   "id": "2b445d78-b8ce-459c-a34e-11af313fe1e3",
   "metadata": {},
   "source": [
    "# ADGS / CADIP search endpoint demo\n",
    "\n",
    "In this demo we will call the rs-server ADGS and CADIP HTTP search endpoints:\n",
    "\n",
    "  * List available ADGS / CADIP products by datetime\n",
    "  * List available ADGS / CADIP products by datetime and limit the number of search results\n",
    "  * List available ADGS / CADIP products by datetime using the sort by functionality"
   ]
  },
  {
   "cell_type": "code",
   "execution_count": null,
   "id": "aa8f49d4-b62b-419a-8868-9072a40962f4",
   "metadata": {},
   "outputs": [],
   "source": [
    "# Define some variables\n",
    "endpoint_adgs=\"http://rs-server-adgs:8000/adgs/aux\" # rs-server host = the container name\n",
    "endpoint_cadip=\"http://rs-server-cadip:8000/cadip/CADIP/cadu\" # rs-server host = the container name\n",
    "datetime=\"2014-01-01T12:00:00Z/2023-12-30T12:00:00Z\""
   ]
  },
  {
   "cell_type": "code",
   "execution_count": null,
   "id": "50de3560-f30b-42b4-88ea-7ed93030fd9f",
   "metadata": {},
   "outputs": [],
   "source": [
    "# From a terminal, to list the available ADGS products, we would use the curl command:\n",
    "!set -x && curl -X GET \"{endpoint_adgs}/search?datetime={datetime}\" -H \"accept: application/json\""
   ]
  },
  {
   "cell_type": "code",
   "execution_count": null,
   "id": "a8c4ce70",
   "metadata": {},
   "outputs": [],
   "source": [
    "# From a terminal, to list the available CADIP products, we would use the curl command:\n",
    "!set -x && curl -X GET \"{endpoint_cadip}/search?datetime={datetime}\" -H \"accept: application/json\""
   ]
  },
  {
   "cell_type": "markdown",
   "id": "24b022b7-a206-48ac-81be-12264381b232",
   "metadata": {},
   "source": [
    "---\n",
    "**NOTE**\n",
    "\n",
    "You can also call the HTTP endpoints from the Swagger UI: \n",
    "\n",
    "  * ADGS: http://localhost:8001/docs\n",
    "  * CADIP: http://localhost:8002/docs\n",
    "\n",
    "---"
   ]
  },
  {
   "cell_type": "markdown",
   "id": "20b4c375-e352-4b35-ad1a-31d8ad18b2cf",
   "metadata": {},
   "source": [
    "## ADGS"
   ]
  },
  {
   "cell_type": "code",
   "execution_count": null,
   "id": "7e9e3adc-0ace-4343-8b47-3660aee4cd88",
   "metadata": {},
   "outputs": [],
   "source": [
    "# Call the ADGS search endpoint from python by using datetime only\n",
    "import requests\n",
    "import pprint \n",
    "\n",
    "# Call the \"search\" endpoint\n",
    "print (f\"Call: '{endpoint_adgs}/search' with: datetime={datetime!r}\")\n",
    "payload = {\n",
    "    \"datetime\":datetime,    \n",
    "}\n",
    "data = requests.get(f\"{endpoint_adgs}/search\", payload)\n",
    "assert data.status_code == 200\n",
    "\n",
    "# Get the returned products a list of dicts\n",
    "products = data.json()[\"features\"]\n",
    "assert len(products) == 3\n",
    "\n",
    "# Print the first n products\n",
    "print (\"Result:\")\n",
    "pprint.PrettyPrinter(indent=4).pprint(products[:3])\n",
    "print(\"...\")\n"
   ]
  },
  {
   "cell_type": "markdown",
   "id": "526836d3-ba02-44a4-8b86-8117064c56d7",
   "metadata": {},
   "source": [
    "### ADGS 'limit' parameter"
   ]
  },
  {
   "cell_type": "code",
   "execution_count": null,
   "id": "5b57335f",
   "metadata": {},
   "outputs": [],
   "source": [
    "# Get one ADGS product only using \"limit\"\n",
    "print (f\"Call: '{endpoint_adgs}/search' with: datetime={datetime!r}&limit=1\")\n",
    "payload = {\n",
    "    \"datetime\": datetime,   \n",
    "    \"limit\": 1, \n",
    "}\n",
    "data = requests.get(f\"{endpoint_adgs}/search\", payload)\n",
    "assert data.status_code == 200\n",
    "\n",
    "# Get the returned products a list of dicts\n",
    "products = data.json()[\"features\"]\n",
    "assert len(products) == 1\n",
    "\n",
    "# Print the result\n",
    "print (\"Result:\")\n",
    "pprint.PrettyPrinter(indent=4).pprint(products)\n"
   ]
  },
  {
   "cell_type": "markdown",
   "id": "fbe557a6-e272-46a2-959f-b4a948330b10",
   "metadata": {},
   "source": [
    "### ADGS 'sortby' parameter"
   ]
  },
  {
   "cell_type": "code",
   "execution_count": null,
   "id": "5592cf5c",
   "metadata": {},
   "outputs": [],
   "source": [
    "# We can sort the results recevied from the ADGS server by datetime or id, either descending or ascending\n",
    "# Call the ADGS \"search\" endpoint with a sortby set in descending order for datetime\n",
    "print (f\"Call: '{endpoint_adgs}/search' with: datetime={datetime!r}&sortby=-datetime\")\n",
    "payload = {\n",
    "    \"datetime\": datetime,   \n",
    "    \"sortby\": \"-adgs:datetime\", \n",
    "}\n",
    "data = requests.get(f\"{endpoint_adgs}/search\", payload)\n",
    "assert data.status_code == 200\n",
    "\n",
    "# Get the returned products a list of dicts\n",
    "products = data.json()[\"features\"]\n",
    "assert len(products) == 3\n",
    "\n",
    "# Print the result\n",
    "print (\"Result:\")\n",
    "pprint.PrettyPrinter(indent=4).pprint(products)\n",
    "\n",
    "# Print only the datetimes\n",
    "datetimes = '\\n'.join ([p[\"properties\"][\"datetime\"] for p in products])\n",
    "print (f\"\\nDatetimes:\\n{datetimes}\")"
   ]
  },
  {
   "cell_type": "code",
   "execution_count": null,
   "id": "aa8175dd",
   "metadata": {},
   "outputs": [],
   "source": [
    "# Call the ADGS \"search\" endpoint with a sortby set in ascending order for datetime\n",
    "print (f\"Call: '{endpoint_adgs}/search' with: datetime={datetime!r}&sortby=+datetime\")\n",
    "payload = {\n",
    "    \"datetime\": datetime,   \n",
    "    \"sortby\": \"+adgs:datetime\", \n",
    "}\n",
    "data = requests.get(f\"{endpoint_adgs}/search\", payload)\n",
    "assert data.status_code == 200\n",
    "\n",
    "# Get the returned products a list of dicts\n",
    "products = data.json()[\"features\"]\n",
    "assert len(products) == 3\n",
    "\n",
    "# Print the result\n",
    "print (\"Result:\")\n",
    "pprint.PrettyPrinter(indent=4).pprint(products)\n",
    "\n",
    "# Print only the datetimes\n",
    "datetimes = '\\n'.join ([p[\"properties\"][\"datetime\"] for p in products])\n",
    "print (f\"\\nDatetimes:\\n{datetimes}\")"
   ]
  },
  {
   "cell_type": "markdown",
   "id": "0259143b-8902-4dd1-8843-cd8fd22f91f3",
   "metadata": {},
   "source": [
    "## CADIP"
   ]
  },
  {
   "cell_type": "code",
   "execution_count": null,
   "id": "212c055e",
   "metadata": {},
   "outputs": [],
   "source": [
    "# Let's check the same behavior but from CADIP server\n",
    "# Call the CADIP search endpoint from python by using datetime only\n",
    "import requests\n",
    "import pprint \n",
    "\n",
    "# Call the \"search\" endpoint\n",
    "print (f\"Call: '{endpoint_cadip}/search' with: datetime={datetime!r}\")\n",
    "payload = {\n",
    "    \"datetime\":datetime,    \n",
    "}\n",
    "data = requests.get(f\"{endpoint_cadip}/search\", payload)\n",
    "assert data.status_code == 200\n",
    "\n",
    "# Get the returned products a list of dicts\n",
    "products = data.json()[\"features\"]\n",
    "assert len(products) == 10\n",
    "\n",
    "# Print the first n products\n",
    "print (\"Result:\")\n",
    "pprint.PrettyPrinter(indent=4).pprint(products[:6])\n",
    "print(\"...\")"
   ]
  },
  {
   "cell_type": "markdown",
   "id": "d4e966a7-f86d-41a1-841d-2cd9cf649899",
   "metadata": {},
   "source": [
    "### CADIP 'limit' parameter"
   ]
  },
  {
   "cell_type": "code",
   "execution_count": null,
   "id": "d2e76c93",
   "metadata": {},
   "outputs": [],
   "source": [
    "# Get one CADIP product only using \"limit\"\n",
    "print (f\"Call: '{endpoint_cadip}/search' with: datetime={datetime!r}&limit=1\")\n",
    "payload = {\n",
    "    \"datetime\": datetime,   \n",
    "    \"limit\": 1, \n",
    "}\n",
    "data = requests.get(f\"{endpoint_cadip}/search\", payload)\n",
    "assert data.status_code == 200\n",
    "\n",
    "# Get the returned products a list of dicts\n",
    "products = data.json()[\"features\"]\n",
    "assert len(products) == 1\n",
    "\n",
    "# Print the result\n",
    "print (\"Result:\")\n",
    "pprint.PrettyPrinter(indent=4).pprint(products)"
   ]
  },
  {
   "cell_type": "markdown",
   "id": "8c4a0cf6-6f91-4162-96e4-074d4aaa9d83",
   "metadata": {},
   "source": [
    "### CADIP 'sortby' parameter"
   ]
  },
  {
   "cell_type": "code",
   "execution_count": null,
   "id": "3ce98bd7",
   "metadata": {},
   "outputs": [],
   "source": [
    "# We can sort the results recevied from the CADIP server by datetime or id, either descending or ascending\n",
    "# Call the CADIP \"search\" endpoint with a sortby set in descending order for datetime\n",
    "print (f\"Call: '{endpoint_cadip}/search' with: datetime={datetime!r}&sortby=-datetime\")\n",
    "payload = {\n",
    "    \"datetime\": datetime,   \n",
    "    \"sortby\": \"-cadu:datetime\", \n",
    "}\n",
    "data = requests.get(f\"{endpoint_cadip}/search\", payload)\n",
    "assert data.status_code == 200\n",
    "\n",
    "# Get the returned products a list of dicts\n",
    "products = data.json()[\"features\"]\n",
    "assert len(products) == 10\n",
    "\n",
    "# Print the result\n",
    "print (\"Result:\")\n",
    "pprint.PrettyPrinter(indent=4).pprint(products)\n",
    "\n",
    "# Print only the datetimes\n",
    "datetimes = '\\n'.join ([p[\"properties\"][\"datetime\"] for p in products])\n",
    "print (f\"\\nDatetimes:\\n{datetimes}\")"
   ]
  },
  {
   "cell_type": "code",
   "execution_count": null,
   "id": "5c917a70",
   "metadata": {},
   "outputs": [],
   "source": [
    "# Call the CADIP \"search\" endpoint with a sortby set in ascending order for datetime\n",
    "print (f\"Call: '{endpoint_cadip}/search' with: datetime={datetime!r}&sortby=+datetime\")\n",
    "payload = {\n",
    "    \"datetime\": datetime,   \n",
    "    \"sortby\": \"+cadu:datetime\", \n",
    "}\n",
    "data = requests.get(f\"{endpoint_cadip}/search\", payload)\n",
    "assert data.status_code == 200\n",
    "\n",
    "# Get the returned products a list of dicts\n",
    "products = data.json()[\"features\"]\n",
    "assert len(products) == 10\n",
    "\n",
    "# Print the result\n",
    "print (\"Result:\")\n",
    "pprint.PrettyPrinter(indent=4).pprint(products)\n",
    "\n",
    "# Print only the datetimes\n",
    "datetimes = '\\n'.join ([p[\"properties\"][\"datetime\"] for p in products])\n",
    "print (f\"\\nDatetimes:\\n{datetimes}\")"
   ]
  }
 ],
 "metadata": {
  "kernelspec": {
   "display_name": "Python 3 (ipykernel)",
   "language": "python",
   "name": "python3"
  },
  "language_info": {
   "codemirror_mode": {
    "name": "ipython",
    "version": 3
   },
   "file_extension": ".py",
   "mimetype": "text/x-python",
   "name": "python",
   "nbconvert_exporter": "python",
   "pygments_lexer": "ipython3",
   "version": "3.11.6"
  }
 },
 "nbformat": 4,
 "nbformat_minor": 5
}

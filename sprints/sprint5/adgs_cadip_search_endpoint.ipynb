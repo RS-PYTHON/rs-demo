{
 "cells": [
  {
   "cell_type": "markdown",
   "id": "2b445d78-b8ce-459c-a34e-11af313fe1e3",
   "metadata": {},
   "source": [
    "# ADGS / CADIP search endpoint demo\n",
    "\n",
    "In this demo we will call the rs-server ADGS and CADIP HTTP search endpoints:\n",
    "\n",
    "  * List available ADGS / CADIP products by datetime\n",
    "  * List available ADGS / CADIP products by datetime and limit the number of search results\n",
    "  * List available ADGS / CADIP products by datetime using the sort by functionality"
   ]
  },
  {
   "cell_type": "markdown",
   "id": "c892278b-6280-4a9f-86cd-70d0cf8698c8",
   "metadata": {},
   "source": [
    "## Quick links\n",
    "\n",
    "**Swagger UI**\n",
    "\n",
    "  * http://localhost:8000/docs (local adgs)\n",
    "  * http://localhost:8001/docs (local cadip)\n",
    "  * https://dev-rspy.esa-copernicus.eu (cluster)"
   ]
  },
  {
   "cell_type": "code",
   "execution_count": 1,
   "id": "156a1c7d-9993-459f-8186-5d76120a97e9",
   "metadata": {},
   "outputs": [
    {
     "name": "stdout",
     "output_type": "stream",
     "text": [
      "Using: http://rs-server-adgs:8000/adgs/aux and http://rs-server-cadip:8000/cadip/CADIP/cadu\n"
     ]
    }
   ],
   "source": [
    "# Set local or cluster configuration\n",
    "import os\n",
    "\n",
    "if os.getenv(\"RSPY_LOCAL_MODE\") == \"1\":\n",
    "    endpoint_adgs=f\"http://rs-server-adgs:8000/adgs/aux\"\n",
    "    endpoint_cadip=f\"http://rs-server-cadip:8000/cadip/CADIP/cadu\"\n",
    "    HEADERS={}\n",
    "    local_mode = True\n",
    "else:\n",
    "    RS_SERVER_ROOT_URL = os.environ[\"RSPY_WEBSITE\"]\n",
    "    endpoint_adgs=f\"{RS_SERVER_ROOT_URL}/adgs/aux\"\n",
    "    endpoint_cadip=f\"{RS_SERVER_ROOT_URL}/cadip/CADIP/cadu\"\n",
    "    HEADERS={\"headers\": {\"x-api-key\": os.environ[\"RSPY_APIKEY\"]}}\n",
    "    local_mode = False\n",
    "\n",
    "print(f\"Using: {endpoint_adgs} and {endpoint_cadip}\")\n",
    "\n",
    "# Define some variables\n",
    "datetime=\"2014-01-01T12:00:00Z/2023-12-30T12:00:00Z\""
   ]
  },
  {
   "cell_type": "markdown",
   "id": "20b4c375-e352-4b35-ad1a-31d8ad18b2cf",
   "metadata": {},
   "source": [
    "## ADGS"
   ]
  },
  {
   "cell_type": "code",
   "execution_count": 2,
   "id": "7e9e3adc-0ace-4343-8b47-3660aee4cd88",
   "metadata": {},
   "outputs": [
    {
     "ename": "SyntaxError",
     "evalue": "invalid syntax (3006697892.py, line 9)",
     "output_type": "error",
     "traceback": [
      "\u001b[0;36m  Cell \u001b[0;32mIn[2], line 9\u001b[0;36m\u001b[0m\n\u001b[0;31m    \"limit\": 3,\u001b[0m\n\u001b[0m    ^\u001b[0m\n\u001b[0;31mSyntaxError\u001b[0m\u001b[0;31m:\u001b[0m invalid syntax\n"
     ]
    }
   ],
   "source": [
    "# Call the ADGS search endpoint from python by using datetime only\n",
    "import requests\n",
    "import json\n",
    "\n",
    "# Call the \"search\" endpoint\n",
    "print (f\"Call: '{endpoint_adgs}/search' with: datetime={datetime!r}\")\n",
    "payload = {\n",
    "    \"datetime\":datetime,\n",
    "    \"limit\": 3,\n",
    "}\n",
    "data = requests.get(f\"{endpoint_adgs}/search\", payload, **HEADERS)\n",
    "data.raise_for_status()\n",
    "\n",
    "# Get the returned products a list of dicts\n",
    "products = data.json()[\"features\"]\n",
    "assert len(products) == 3\n",
    "\n",
    "# Print the first n products\n",
    "print (\"Result:\")\n",
    "print(json.dumps(products[:3], indent=2))\n",
    "print(\"...\")\n"
   ]
  },
  {
   "cell_type": "markdown",
   "id": "526836d3-ba02-44a4-8b86-8117064c56d7",
   "metadata": {},
   "source": [
    "### ADGS 'limit' parameter"
   ]
  },
  {
   "cell_type": "code",
   "execution_count": null,
   "id": "5b57335f",
   "metadata": {},
   "outputs": [],
   "source": [
    "# Get one ADGS product only using \"limit\"\n",
    "print (f\"Call: '{endpoint_adgs}/search' with: datetime={datetime!r}&limit=1\")\n",
    "payload = {\n",
    "    \"datetime\": datetime,   \n",
    "    \"limit\": 1, \n",
    "}\n",
    "data = requests.get(f\"{endpoint_adgs}/search\", payload, **HEADERS)\n",
    "data.raise_for_status()\n",
    "\n",
    "# Get the returned products a list of dicts\n",
    "products = data.json()[\"features\"]\n",
    "assert len(products) == 1\n",
    "\n",
    "# Print the result\n",
    "print (\"Result:\")\n",
    "print(json.dumps(products, indent=2))\n"
   ]
  },
  {
   "cell_type": "markdown",
   "id": "fbe557a6-e272-46a2-959f-b4a948330b10",
   "metadata": {},
   "source": [
    "### ADGS 'sortby' parameter"
   ]
  },
  {
   "cell_type": "code",
   "execution_count": null,
   "id": "5592cf5c",
   "metadata": {},
   "outputs": [],
   "source": [
    "# We can sort the results recevied from the ADGS server by datetime or id, either descending or ascending\n",
    "# Call the ADGS \"search\" endpoint with a sortby set in descending order for datetime\n",
    "print (f\"Call: '{endpoint_adgs}/search' with: datetime={datetime!r}&sortby=-datetime\")\n",
    "payload = {\n",
    "    \"datetime\": datetime, \n",
    "    \"limit\": 3,\n",
    "    \"sortby\": \"-adgs:datetime\", \n",
    "}\n",
    "data = requests.get(f\"{endpoint_adgs}/search\", payload, **HEADERS)\n",
    "data.raise_for_status()\n",
    "\n",
    "# Get the returned products a list of dicts\n",
    "products = data.json()[\"features\"]\n",
    "assert len(products) == 3\n",
    "\n",
    "# Print the result\n",
    "print (\"Result:\")\n",
    "print(json.dumps(products, indent=2))\n",
    "\n",
    "# Print only the datetimes\n",
    "datetimes = '\\n'.join ([p[\"properties\"][\"datetime\"] for p in products])\n",
    "print (f\"\\nDatetimes:\\n{datetimes}\")"
   ]
  },
  {
   "cell_type": "code",
   "execution_count": null,
   "id": "aa8175dd",
   "metadata": {},
   "outputs": [],
   "source": [
    "# Call the ADGS \"search\" endpoint with a sortby set in ascending order for datetime\n",
    "print (f\"Call: '{endpoint_adgs}/search' with: datetime={datetime!r}&sortby=+datetime\")\n",
    "payload = {\n",
    "    \"datetime\": datetime,\n",
    "    \"limit\": 3,\n",
    "    \"sortby\": \"+adgs:datetime\", \n",
    "}\n",
    "data = requests.get(f\"{endpoint_adgs}/search\", payload, **HEADERS)\n",
    "data.raise_for_status()\n",
    "\n",
    "# Get the returned products a list of dicts\n",
    "products = data.json()[\"features\"]\n",
    "assert len(products) == 3\n",
    "\n",
    "# Print the result\n",
    "print (\"Result:\")\n",
    "print(json.dumps(products, indent=2))\n",
    "\n",
    "# Print only the datetimes\n",
    "datetimes = '\\n'.join ([p[\"properties\"][\"datetime\"] for p in products])\n",
    "print (f\"\\nDatetimes:\\n{datetimes}\")"
   ]
  },
  {
   "cell_type": "markdown",
   "id": "0259143b-8902-4dd1-8843-cd8fd22f91f3",
   "metadata": {},
   "source": [
    "## CADIP"
   ]
  },
  {
   "cell_type": "code",
   "execution_count": null,
   "id": "212c055e",
   "metadata": {},
   "outputs": [],
   "source": [
    "# Let's check the same behavior but from CADIP server\n",
    "# Call the CADIP search endpoint from python by using datetime only\n",
    "import requests\n",
    "import json \n",
    "\n",
    "# Call the \"search\" endpoint\n",
    "print (f\"Call: '{endpoint_cadip}/search' with: datetime={datetime!r}\")\n",
    "payload = {\n",
    "    \"datetime\":datetime,\n",
    "    \"limit\": 10,\n",
    "}\n",
    "data = requests.get(f\"{endpoint_cadip}/search\", payload, **HEADERS)\n",
    "data.raise_for_status()\n",
    "\n",
    "# Get the returned products a list of dicts\n",
    "products = data.json()[\"features\"]\n",
    "assert len(products) == 10\n",
    "\n",
    "# Print the first n products\n",
    "print (\"Result:\")\n",
    "print(json.dumps(products[:6], indent=2))\n",
    "print(\"...\")"
   ]
  },
  {
   "cell_type": "markdown",
   "id": "d4e966a7-f86d-41a1-841d-2cd9cf649899",
   "metadata": {},
   "source": [
    "### CADIP 'limit' parameter"
   ]
  },
  {
   "cell_type": "code",
   "execution_count": null,
   "id": "d2e76c93",
   "metadata": {},
   "outputs": [],
   "source": [
    "# Get one CADIP product only using \"limit\"\n",
    "print (f\"Call: '{endpoint_cadip}/search' with: datetime={datetime!r}&limit=1\")\n",
    "payload = {\n",
    "    \"datetime\": datetime,   \n",
    "    \"limit\": 1, \n",
    "}\n",
    "data = requests.get(f\"{endpoint_cadip}/search\", payload, **HEADERS)\n",
    "data.raise_for_status()\n",
    "\n",
    "# Get the returned products a list of dicts\n",
    "products = data.json()[\"features\"]\n",
    "assert len(products) == 1\n",
    "\n",
    "# Print the result\n",
    "print (\"Result:\")\n",
    "print(json.dumps(products, indent=2))"
   ]
  },
  {
   "cell_type": "markdown",
   "id": "8c4a0cf6-6f91-4162-96e4-074d4aaa9d83",
   "metadata": {},
   "source": [
    "### CADIP 'sortby' parameter"
   ]
  },
  {
   "cell_type": "code",
   "execution_count": null,
   "id": "3ce98bd7",
   "metadata": {},
   "outputs": [],
   "source": [
    "# We can sort the results recevied from the CADIP server by datetime or id, either descending or ascending\n",
    "# Call the CADIP \"search\" endpoint with a sortby set in descending order for datetime\n",
    "print (f\"Call: '{endpoint_cadip}/search' with: datetime={datetime!r}&sortby=-datetime\")\n",
    "payload = {\n",
    "    \"datetime\": datetime,\n",
    "    \"limit\": 10,\n",
    "    \"sortby\": \"-cadu:datetime\", \n",
    "}\n",
    "data = requests.get(f\"{endpoint_cadip}/search\", payload, **HEADERS)\n",
    "data.raise_for_status()\n",
    "\n",
    "# Get the returned products a list of dicts\n",
    "products = data.json()[\"features\"]\n",
    "assert len(products) == 10\n",
    "\n",
    "# Print the result\n",
    "print (\"Result:\")\n",
    "print(json.dumps(products, indent=2))\n",
    "\n",
    "# Print only the datetimes\n",
    "datetimes = '\\n'.join ([p[\"properties\"][\"datetime\"] for p in products])\n",
    "print (f\"\\nDatetimes:\\n{datetimes}\")"
   ]
  },
  {
   "cell_type": "code",
   "execution_count": null,
   "id": "5c917a70",
   "metadata": {},
   "outputs": [],
   "source": [
    "# Call the CADIP \"search\" endpoint with a sortby set in ascending order for datetime\n",
    "print (f\"Call: '{endpoint_cadip}/search' with: datetime={datetime!r}&sortby=+datetime\")\n",
    "payload = {\n",
    "    \"datetime\": datetime,\n",
    "    \"limit\": 10,\n",
    "    \"sortby\": \"+cadu:datetime\", \n",
    "}\n",
    "data = requests.get(f\"{endpoint_cadip}/search\", payload, **HEADERS)\n",
    "data.raise_for_status()\n",
    "\n",
    "# Get the returned products a list of dicts\n",
    "products = data.json()[\"features\"]\n",
    "assert len(products) == 10\n",
    "\n",
    "# Print the result\n",
    "print (\"Result:\")\n",
    "print(json.dumps(products, indent=2))\n",
    "\n",
    "# Print only the datetimes\n",
    "datetimes = '\\n'.join ([p[\"properties\"][\"datetime\"] for p in products])\n",
    "print (f\"\\nDatetimes:\\n{datetimes}\")"
   ]
  },
  {
   "cell_type": "code",
   "execution_count": null,
   "id": "fed467b4-c3ec-44e0-b678-75dc53e2e7c4",
   "metadata": {},
   "outputs": [],
   "source": []
  }
 ],
 "metadata": {
  "kernelspec": {
   "display_name": "Python 3 (ipykernel)",
   "language": "python",
   "name": "python3"
  },
  "language_info": {
   "codemirror_mode": {
    "name": "ipython",
    "version": 3
   },
   "file_extension": ".py",
   "mimetype": "text/x-python",
   "name": "python",
   "nbconvert_exporter": "python",
   "pygments_lexer": "ipython3",
   "version": "3.11.6"
  }
 },
 "nbformat": 4,
 "nbformat_minor": 5
}

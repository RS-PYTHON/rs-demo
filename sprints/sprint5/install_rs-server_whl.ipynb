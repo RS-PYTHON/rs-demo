{
 "cells": [
  {
   "cell_type": "markdown",
   "id": "e0b3c1ed-02e2-4a2d-b54e-bf33d8b6f9e8",
   "metadata": {},
   "source": [
    "# Deploy rs-server .whl and install them in notebooks\n",
    "\n",
    "Until RSPY-60/Deploy to PyPi implementation, we use this hack to deploy rs-server .whl packages: \n",
    "\n",
    "  * Create a docker image (e.g. for rs-server-libraries) with no services that is just used to store .whl package files\n",
    "  * Deploy this docker image into ghcr.io (https://github.com/orgs/RS-PYTHON/packages)\n",
    "  * From the demo, run this container just to copy its .whl files into a shared volume (under $RSPY_WHL_DIR)"
   ]
  },
  {
   "cell_type": "code",
   "execution_count": null,
   "id": "9a727346-0775-455f-9b0c-114871cee677",
   "metadata": {},
   "outputs": [],
   "source": [
    "!ls -alh $RSPY_WHL_DIR"
   ]
  },
  {
   "cell_type": "markdown",
   "id": "aa75070b-7bd2-4db6-8ab2-c9a9dc2cf944",
   "metadata": {},
   "source": [
    "Now we can pip install these .whl packages from the notebook: "
   ]
  },
  {
   "cell_type": "code",
   "execution_count": null,
   "id": "21ec03f6-6624-453e-b3e4-610eacbf587a",
   "metadata": {},
   "outputs": [],
   "source": [
    "!(cd $RSPY_WHL_DIR && \\\n",
    "pip install rs_client_libraries-*.whl \\\n",
    ")"
   ]
  },
  {
   "cell_type": "markdown",
   "id": "b8160cbd-87c6-44a4-8d2e-56ddc1584698",
   "metadata": {},
   "source": [
    "Now we can use these modules from python:"
   ]
  },
  {
   "cell_type": "code",
   "execution_count": null,
   "id": "b43d8738-ce94-4472-aa6f-07b75684edb5",
   "metadata": {},
   "outputs": [],
   "source": [
    "import rs_workflows\n",
    "from rs_workflows import example"
   ]
  },
  {
   "cell_type": "code",
   "execution_count": null,
   "id": "d395b92f-d29a-49ab-ac25-819dfe297dd5",
   "metadata": {},
   "outputs": [],
   "source": []
  }
 ],
 "metadata": {
  "kernelspec": {
   "display_name": "Python 3 (ipykernel)",
   "language": "python",
   "name": "python3"
  },
  "language_info": {
   "codemirror_mode": {
    "name": "ipython",
    "version": 3
   },
   "file_extension": ".py",
   "mimetype": "text/x-python",
   "name": "python",
   "nbconvert_exporter": "python",
   "pygments_lexer": "ipython3",
   "version": "3.11.6"
  }
 },
 "nbformat": 4,
 "nbformat_minor": 5
}

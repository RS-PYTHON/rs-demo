{
 "cells": [
  {
   "cell_type": "markdown",
   "id": "b8c218b6-12fd-4501-9083-20ac8a8c8f76",
   "metadata": {},
   "source": [
    "Updated search endpoint results:"
   ]
  },
  {
   "cell_type": "code",
   "execution_count": null,
   "id": "33b3a3de-1eaa-474d-ac5b-895e6dfef1a1",
   "metadata": {},
   "outputs": [],
   "source": []
  }
 ],
 "metadata": {
  "kernelspec": {
   "display_name": "Python 3 (ipykernel)",
   "language": "python",
   "name": "python3"
  },
  "language_info": {
   "codemirror_mode": {
    "name": "ipython",
    "version": 3
   },
   "file_extension": ".py",
   "mimetype": "text/x-python",
   "name": "python",
   "nbconvert_exporter": "python",
   "pygments_lexer": "ipython3",
   "version": "3.11.6"
  }
 },
 "nbformat": 4,
 "nbformat_minor": 5
}

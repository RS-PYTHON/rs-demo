{
 "cells": [
  {
   "cell_type": "markdown",
   "id": "b6657010",
   "metadata": {},
   "source": [
    "Install the needed libraries"
   ]
  },
  {
   "cell_type": "code",
   "execution_count": 1,
   "id": "be9b556c-b548-4428-8fe3-3cca45754287",
   "metadata": {},
   "outputs": [
    {
     "name": "stdout",
     "output_type": "stream",
     "text": [
      "Requirement already satisfied: boto3 in /opt/conda/lib/python3.11/site-packages (1.34.45)\n",
      "Requirement already satisfied: botocore<1.35.0,>=1.34.45 in /opt/conda/lib/python3.11/site-packages (from boto3) (1.34.45)\n",
      "Requirement already satisfied: jmespath<2.0.0,>=0.7.1 in /opt/conda/lib/python3.11/site-packages (from boto3) (1.0.1)\n",
      "Requirement already satisfied: s3transfer<0.11.0,>=0.10.0 in /opt/conda/lib/python3.11/site-packages (from boto3) (0.10.0)\n",
      "Requirement already satisfied: python-dateutil<3.0.0,>=2.1 in /opt/conda/lib/python3.11/site-packages (from botocore<1.35.0,>=1.34.45->boto3) (2.8.2)\n",
      "Requirement already satisfied: urllib3<2.1,>=1.25.4 in /opt/conda/lib/python3.11/site-packages (from botocore<1.35.0,>=1.34.45->boto3) (2.0.7)\n",
      "Requirement already satisfied: six>=1.5 in /opt/conda/lib/python3.11/site-packages (from python-dateutil<3.0.0,>=2.1->botocore<1.35.0,>=1.34.45->boto3) (1.16.0)\n",
      "Requirement already satisfied: numpy in /opt/conda/lib/python3.11/site-packages (1.26.4)\n",
      "Requirement already satisfied: prefect in /opt/conda/lib/python3.11/site-packages (2.15.0)\n",
      "Requirement already satisfied: aiosqlite>=0.17.0 in /opt/conda/lib/python3.11/site-packages (from prefect) (0.20.0)\n",
      "Requirement already satisfied: alembic<2.0.0,>=1.7.5 in /opt/conda/lib/python3.11/site-packages (from prefect) (1.12.0)\n",
      "Requirement already satisfied: apprise<2.0.0,>=1.1.0 in /opt/conda/lib/python3.11/site-packages (from prefect) (1.7.2)\n",
      "Requirement already satisfied: asyncpg>=0.23 in /opt/conda/lib/python3.11/site-packages (from prefect) (0.29.0)\n",
      "Requirement already satisfied: click<8.2,>=8.0 in /opt/conda/lib/python3.11/site-packages (from prefect) (8.1.7)\n",
      "Requirement already satisfied: cryptography>=36.0.1 in /opt/conda/lib/python3.11/site-packages (from prefect) (41.0.4)\n",
      "Requirement already satisfied: dateparser<2.0.0,>=1.1.1 in /opt/conda/lib/python3.11/site-packages (from prefect) (1.2.0)\n",
      "Requirement already satisfied: docker<7.0,>=4.0 in /opt/conda/lib/python3.11/site-packages (from prefect) (6.1.3)\n",
      "Requirement already satisfied: graphviz>=0.20.1 in /opt/conda/lib/python3.11/site-packages (from prefect) (0.20.1)\n",
      "Requirement already satisfied: griffe>=0.20.0 in /opt/conda/lib/python3.11/site-packages (from prefect) (0.40.1)\n",
      "Requirement already satisfied: greenback>=1.2.0 in /opt/conda/lib/python3.11/site-packages (from prefect) (1.2.0)\n",
      "Requirement already satisfied: jinja2<4.0.0,>=3.0.0 in /opt/conda/lib/python3.11/site-packages (from prefect) (3.1.2)\n",
      "Requirement already satisfied: kubernetes<30.0.0,>=24.2.0 in /opt/conda/lib/python3.11/site-packages (from prefect) (29.0.0)\n",
      "Requirement already satisfied: pytz<2025,>=2021.1 in /opt/conda/lib/python3.11/site-packages (from prefect) (2023.3.post1)\n",
      "Requirement already satisfied: readchar<5.0.0,>=4.0.0 in /opt/conda/lib/python3.11/site-packages (from prefect) (4.0.5)\n",
      "Requirement already satisfied: sqlalchemy!=1.4.33,<3.0.0,>=1.4.22 in /opt/conda/lib/python3.11/site-packages (from sqlalchemy[asyncio]!=1.4.33,<3.0.0,>=1.4.22->prefect) (2.0.22)\n",
      "Requirement already satisfied: typer>=0.4.2 in /opt/conda/lib/python3.11/site-packages (from prefect) (0.9.0)\n",
      "Requirement already satisfied: anyio<4.0.0,>=3.7.1 in /opt/conda/lib/python3.11/site-packages (from prefect) (3.7.1)\n",
      "Requirement already satisfied: asgi-lifespan<3.0,>=1.0 in /opt/conda/lib/python3.11/site-packages (from prefect) (2.1.0)\n",
      "Requirement already satisfied: cachetools<6.0,>=5.3 in /opt/conda/lib/python3.11/site-packages (from prefect) (5.3.2)\n",
      "Requirement already satisfied: cloudpickle<4.0,>=2.0 in /opt/conda/lib/python3.11/site-packages (from prefect) (3.0.0)\n",
      "Requirement already satisfied: coolname<3.0.0,>=1.0.4 in /opt/conda/lib/python3.11/site-packages (from prefect) (2.2.0)\n",
      "Requirement already satisfied: croniter<3.0.0,>=1.0.12 in /opt/conda/lib/python3.11/site-packages (from prefect) (2.0.1)\n",
      "Requirement already satisfied: fsspec>=2022.5.0 in /opt/conda/lib/python3.11/site-packages (from prefect) (2024.2.0)\n",
      "Requirement already satisfied: httpcore<2.0.0,>=0.15.0 in /opt/conda/lib/python3.11/site-packages (from prefect) (1.0.3)\n",
      "Requirement already satisfied: httpx!=0.23.2,>=0.23 in /opt/conda/lib/python3.11/site-packages (from httpx[http2]!=0.23.2,>=0.23->prefect) (0.26.0)\n",
      "Requirement already satisfied: jsonpatch<2.0,>=1.32 in /opt/conda/lib/python3.11/site-packages (from prefect) (1.33)\n",
      "Requirement already satisfied: jsonschema<5.0.0,>=3.2.0 in /opt/conda/lib/python3.11/site-packages (from prefect) (4.19.1)\n",
      "Requirement already satisfied: orjson<4.0,>=3.7 in /opt/conda/lib/python3.11/site-packages (from prefect) (3.9.14)\n",
      "Requirement already satisfied: packaging<24.3,>=21.3 in /opt/conda/lib/python3.11/site-packages (from prefect) (23.2)\n",
      "Requirement already satisfied: pathspec>=0.8.0 in /opt/conda/lib/python3.11/site-packages (from prefect) (0.12.1)\n",
      "Requirement already satisfied: pydantic!=2.0.0,!=2.0.1,!=2.1.0,<3.0.0,>=1.10.0 in /opt/conda/lib/python3.11/site-packages (from pydantic[email]!=2.0.0,!=2.0.1,!=2.1.0,<3.0.0,>=1.10.0->prefect) (2.6.1)\n",
      "Requirement already satisfied: python-dateutil<3.0.0,>=2.8.2 in /opt/conda/lib/python3.11/site-packages (from prefect) (2.8.2)\n",
      "Requirement already satisfied: python-slugify<9.0,>=5.0 in /opt/conda/lib/python3.11/site-packages (from prefect) (8.0.4)\n",
      "Requirement already satisfied: pyyaml<7.0.0,>=5.4.1 in /opt/conda/lib/python3.11/site-packages (from prefect) (6.0.1)\n",
      "Requirement already satisfied: rich<14.0,>=11.0 in /opt/conda/lib/python3.11/site-packages (from prefect) (13.7.0)\n",
      "Requirement already satisfied: ruamel.yaml>=0.17.0 in /opt/conda/lib/python3.11/site-packages (from prefect) (0.17.39)\n",
      "Requirement already satisfied: sniffio<2.0.0,>=1.3.0 in /opt/conda/lib/python3.11/site-packages (from prefect) (1.3.0)\n",
      "Requirement already satisfied: toml>=0.10.0 in /opt/conda/lib/python3.11/site-packages (from prefect) (0.10.2)\n",
      "Requirement already satisfied: typing-extensions<5.0.0,>=4.5.0 in /opt/conda/lib/python3.11/site-packages (from prefect) (4.8.0)\n",
      "Requirement already satisfied: ujson<6.0.0,>=5.8.0 in /opt/conda/lib/python3.11/site-packages (from prefect) (5.9.0)\n",
      "Requirement already satisfied: uvicorn>=0.14.0 in /opt/conda/lib/python3.11/site-packages (from prefect) (0.27.1)\n",
      "Requirement already satisfied: websockets<13.0,>=10.4 in /opt/conda/lib/python3.11/site-packages (from prefect) (12.0)\n",
      "Requirement already satisfied: itsdangerous in /opt/conda/lib/python3.11/site-packages (from prefect) (2.1.2)\n",
      "Requirement already satisfied: python-multipart>=0.0.7 in /opt/conda/lib/python3.11/site-packages (from prefect) (0.0.9)\n",
      "Requirement already satisfied: pendulum<3.0 in /opt/conda/lib/python3.11/site-packages (from prefect) (2.1.2)\n",
      "Requirement already satisfied: Mako in /opt/conda/lib/python3.11/site-packages (from alembic<2.0.0,>=1.7.5->prefect) (1.2.4)\n",
      "Requirement already satisfied: idna>=2.8 in /opt/conda/lib/python3.11/site-packages (from anyio<4.0.0,>=3.7.1->prefect) (3.4)\n",
      "Requirement already satisfied: certifi in /opt/conda/lib/python3.11/site-packages (from apprise<2.0.0,>=1.1.0->prefect) (2023.7.22)\n",
      "Requirement already satisfied: requests in /opt/conda/lib/python3.11/site-packages (from apprise<2.0.0,>=1.1.0->prefect) (2.31.0)\n",
      "Requirement already satisfied: requests-oauthlib in /opt/conda/lib/python3.11/site-packages (from apprise<2.0.0,>=1.1.0->prefect) (1.3.1)\n",
      "Requirement already satisfied: markdown in /opt/conda/lib/python3.11/site-packages (from apprise<2.0.0,>=1.1.0->prefect) (3.5.2)\n",
      "Requirement already satisfied: async-timeout>=4.0.3 in /opt/conda/lib/python3.11/site-packages (from asyncpg>=0.23->prefect) (4.0.3)\n",
      "Requirement already satisfied: cffi>=1.12 in /opt/conda/lib/python3.11/site-packages (from cryptography>=36.0.1->prefect) (1.16.0)\n",
      "Requirement already satisfied: regex!=2019.02.19,!=2021.8.27 in /opt/conda/lib/python3.11/site-packages (from dateparser<2.0.0,>=1.1.1->prefect) (2023.12.25)\n",
      "Requirement already satisfied: tzlocal in /opt/conda/lib/python3.11/site-packages (from dateparser<2.0.0,>=1.1.1->prefect) (5.2)\n",
      "Requirement already satisfied: urllib3>=1.26.0 in /opt/conda/lib/python3.11/site-packages (from docker<7.0,>=4.0->prefect) (2.0.7)\n",
      "Requirement already satisfied: websocket-client>=0.32.0 in /opt/conda/lib/python3.11/site-packages (from docker<7.0,>=4.0->prefect) (1.6.4)\n",
      "Requirement already satisfied: greenlet!=0.4.17 in /opt/conda/lib/python3.11/site-packages (from greenback>=1.2.0->prefect) (3.0.0)\n",
      "Requirement already satisfied: outcome in /opt/conda/lib/python3.11/site-packages (from greenback>=1.2.0->prefect) (1.3.0.post0)\n",
      "Requirement already satisfied: colorama>=0.4 in /opt/conda/lib/python3.11/site-packages (from griffe>=0.20.0->prefect) (0.4.6)\n",
      "Requirement already satisfied: h11<0.15,>=0.13 in /opt/conda/lib/python3.11/site-packages (from httpcore<2.0.0,>=0.15.0->prefect) (0.14.0)\n",
      "Requirement already satisfied: h2<5,>=3 in /opt/conda/lib/python3.11/site-packages (from httpx[http2]!=0.23.2,>=0.23->prefect) (4.1.0)\n",
      "Requirement already satisfied: MarkupSafe>=2.0 in /opt/conda/lib/python3.11/site-packages (from jinja2<4.0.0,>=3.0.0->prefect) (2.1.3)\n",
      "Requirement already satisfied: jsonpointer>=1.9 in /opt/conda/lib/python3.11/site-packages (from jsonpatch<2.0,>=1.32->prefect) (2.4)\n",
      "Requirement already satisfied: attrs>=22.2.0 in /opt/conda/lib/python3.11/site-packages (from jsonschema<5.0.0,>=3.2.0->prefect) (23.1.0)\n",
      "Requirement already satisfied: jsonschema-specifications>=2023.03.6 in /opt/conda/lib/python3.11/site-packages (from jsonschema<5.0.0,>=3.2.0->prefect) (2023.7.1)\n",
      "Requirement already satisfied: referencing>=0.28.4 in /opt/conda/lib/python3.11/site-packages (from jsonschema<5.0.0,>=3.2.0->prefect) (0.30.2)\n",
      "Requirement already satisfied: rpds-py>=0.7.1 in /opt/conda/lib/python3.11/site-packages (from jsonschema<5.0.0,>=3.2.0->prefect) (0.10.6)\n",
      "Requirement already satisfied: six>=1.9.0 in /opt/conda/lib/python3.11/site-packages (from kubernetes<30.0.0,>=24.2.0->prefect) (1.16.0)\n",
      "Requirement already satisfied: google-auth>=1.0.1 in /opt/conda/lib/python3.11/site-packages (from kubernetes<30.0.0,>=24.2.0->prefect) (2.28.0)\n",
      "Requirement already satisfied: oauthlib>=3.2.2 in /opt/conda/lib/python3.11/site-packages (from kubernetes<30.0.0,>=24.2.0->prefect) (3.2.2)\n",
      "Requirement already satisfied: pytzdata>=2020.1 in /opt/conda/lib/python3.11/site-packages (from pendulum<3.0->prefect) (2020.1)\n",
      "Requirement already satisfied: annotated-types>=0.4.0 in /opt/conda/lib/python3.11/site-packages (from pydantic!=2.0.0,!=2.0.1,!=2.1.0,<3.0.0,>=1.10.0->pydantic[email]!=2.0.0,!=2.0.1,!=2.1.0,<3.0.0,>=1.10.0->prefect) (0.6.0)\n",
      "Requirement already satisfied: pydantic-core==2.16.2 in /opt/conda/lib/python3.11/site-packages (from pydantic!=2.0.0,!=2.0.1,!=2.1.0,<3.0.0,>=1.10.0->pydantic[email]!=2.0.0,!=2.0.1,!=2.1.0,<3.0.0,>=1.10.0->prefect) (2.16.2)\n",
      "Requirement already satisfied: email-validator>=2.0.0 in /opt/conda/lib/python3.11/site-packages (from pydantic[email]!=2.0.0,!=2.0.1,!=2.1.0,<3.0.0,>=1.10.0->prefect) (2.1.0.post1)\n",
      "Requirement already satisfied: text-unidecode>=1.3 in /opt/conda/lib/python3.11/site-packages (from python-slugify<9.0,>=5.0->prefect) (1.3)\n",
      "Requirement already satisfied: setuptools>=41.0 in /opt/conda/lib/python3.11/site-packages (from readchar<5.0.0,>=4.0.0->prefect) (68.2.2)\n",
      "Requirement already satisfied: markdown-it-py>=2.2.0 in /opt/conda/lib/python3.11/site-packages (from rich<14.0,>=11.0->prefect) (3.0.0)\n",
      "Requirement already satisfied: pygments<3.0.0,>=2.13.0 in /opt/conda/lib/python3.11/site-packages (from rich<14.0,>=11.0->prefect) (2.16.1)\n",
      "Requirement already satisfied: ruamel.yaml.clib>=0.2.7 in /opt/conda/lib/python3.11/site-packages (from ruamel.yaml>=0.17.0->prefect) (0.2.7)\n",
      "Requirement already satisfied: pycparser in /opt/conda/lib/python3.11/site-packages (from cffi>=1.12->cryptography>=36.0.1->prefect) (2.21)\n",
      "Requirement already satisfied: dnspython>=2.0.0 in /opt/conda/lib/python3.11/site-packages (from email-validator>=2.0.0->pydantic[email]!=2.0.0,!=2.0.1,!=2.1.0,<3.0.0,>=1.10.0->prefect) (2.6.1)\n",
      "Requirement already satisfied: pyasn1-modules>=0.2.1 in /opt/conda/lib/python3.11/site-packages (from google-auth>=1.0.1->kubernetes<30.0.0,>=24.2.0->prefect) (0.3.0)\n",
      "Requirement already satisfied: rsa<5,>=3.1.4 in /opt/conda/lib/python3.11/site-packages (from google-auth>=1.0.1->kubernetes<30.0.0,>=24.2.0->prefect) (4.9)\n",
      "Requirement already satisfied: hyperframe<7,>=6.0 in /opt/conda/lib/python3.11/site-packages (from h2<5,>=3->httpx[http2]!=0.23.2,>=0.23->prefect) (6.0.1)\n",
      "Requirement already satisfied: hpack<5,>=4.0 in /opt/conda/lib/python3.11/site-packages (from h2<5,>=3->httpx[http2]!=0.23.2,>=0.23->prefect) (4.0.0)\n",
      "Requirement already satisfied: mdurl~=0.1 in /opt/conda/lib/python3.11/site-packages (from markdown-it-py>=2.2.0->rich<14.0,>=11.0->prefect) (0.1.2)\n",
      "Requirement already satisfied: charset-normalizer<4,>=2 in /opt/conda/lib/python3.11/site-packages (from requests->apprise<2.0.0,>=1.1.0->prefect) (3.3.0)\n",
      "Requirement already satisfied: pyasn1<0.6.0,>=0.4.6 in /opt/conda/lib/python3.11/site-packages (from pyasn1-modules>=0.2.1->google-auth>=1.0.1->kubernetes<30.0.0,>=24.2.0->prefect) (0.5.1)\n",
      "Requirement already satisfied: prefect_dask in /opt/conda/lib/python3.11/site-packages (0.2.6)\n",
      "Requirement already satisfied: prefect>=2.13.5 in /opt/conda/lib/python3.11/site-packages (from prefect_dask) (2.15.0)\n",
      "Requirement already satisfied: distributed!=2023.3.2,!=2023.3.2.1,!=2023.4.*,!=2023.5.*,>=2022.5.0 in /opt/conda/lib/python3.11/site-packages (from prefect_dask) (2024.2.0)\n",
      "Requirement already satisfied: click>=8.0 in /opt/conda/lib/python3.11/site-packages (from distributed!=2023.3.2,!=2023.3.2.1,!=2023.4.*,!=2023.5.*,>=2022.5.0->prefect_dask) (8.1.7)\n",
      "Requirement already satisfied: cloudpickle>=1.5.0 in /opt/conda/lib/python3.11/site-packages (from distributed!=2023.3.2,!=2023.3.2.1,!=2023.4.*,!=2023.5.*,>=2022.5.0->prefect_dask) (3.0.0)\n",
      "Requirement already satisfied: dask==2024.2.0 in /opt/conda/lib/python3.11/site-packages (from distributed!=2023.3.2,!=2023.3.2.1,!=2023.4.*,!=2023.5.*,>=2022.5.0->prefect_dask) (2024.2.0)\n",
      "Requirement already satisfied: jinja2>=2.10.3 in /opt/conda/lib/python3.11/site-packages (from distributed!=2023.3.2,!=2023.3.2.1,!=2023.4.*,!=2023.5.*,>=2022.5.0->prefect_dask) (3.1.2)\n",
      "Requirement already satisfied: locket>=1.0.0 in /opt/conda/lib/python3.11/site-packages (from distributed!=2023.3.2,!=2023.3.2.1,!=2023.4.*,!=2023.5.*,>=2022.5.0->prefect_dask) (1.0.0)\n",
      "Requirement already satisfied: msgpack>=1.0.0 in /opt/conda/lib/python3.11/site-packages (from distributed!=2023.3.2,!=2023.3.2.1,!=2023.4.*,!=2023.5.*,>=2022.5.0->prefect_dask) (1.0.7)\n",
      "Requirement already satisfied: packaging>=20.0 in /opt/conda/lib/python3.11/site-packages (from distributed!=2023.3.2,!=2023.3.2.1,!=2023.4.*,!=2023.5.*,>=2022.5.0->prefect_dask) (23.2)\n",
      "Requirement already satisfied: psutil>=5.7.2 in /opt/conda/lib/python3.11/site-packages (from distributed!=2023.3.2,!=2023.3.2.1,!=2023.4.*,!=2023.5.*,>=2022.5.0->prefect_dask) (5.9.5)\n",
      "Requirement already satisfied: pyyaml>=5.3.1 in /opt/conda/lib/python3.11/site-packages (from distributed!=2023.3.2,!=2023.3.2.1,!=2023.4.*,!=2023.5.*,>=2022.5.0->prefect_dask) (6.0.1)\n",
      "Requirement already satisfied: sortedcontainers>=2.0.5 in /opt/conda/lib/python3.11/site-packages (from distributed!=2023.3.2,!=2023.3.2.1,!=2023.4.*,!=2023.5.*,>=2022.5.0->prefect_dask) (2.4.0)\n",
      "Requirement already satisfied: tblib>=1.6.0 in /opt/conda/lib/python3.11/site-packages (from distributed!=2023.3.2,!=2023.3.2.1,!=2023.4.*,!=2023.5.*,>=2022.5.0->prefect_dask) (3.0.0)\n",
      "Requirement already satisfied: toolz>=0.10.0 in /opt/conda/lib/python3.11/site-packages (from distributed!=2023.3.2,!=2023.3.2.1,!=2023.4.*,!=2023.5.*,>=2022.5.0->prefect_dask) (0.12.1)\n",
      "Requirement already satisfied: tornado>=6.0.4 in /opt/conda/lib/python3.11/site-packages (from distributed!=2023.3.2,!=2023.3.2.1,!=2023.4.*,!=2023.5.*,>=2022.5.0->prefect_dask) (6.3.3)\n",
      "Requirement already satisfied: urllib3>=1.24.3 in /opt/conda/lib/python3.11/site-packages (from distributed!=2023.3.2,!=2023.3.2.1,!=2023.4.*,!=2023.5.*,>=2022.5.0->prefect_dask) (2.0.7)\n",
      "Requirement already satisfied: zict>=3.0.0 in /opt/conda/lib/python3.11/site-packages (from distributed!=2023.3.2,!=2023.3.2.1,!=2023.4.*,!=2023.5.*,>=2022.5.0->prefect_dask) (3.0.0)\n",
      "Requirement already satisfied: fsspec>=2021.09.0 in /opt/conda/lib/python3.11/site-packages (from dask==2024.2.0->distributed!=2023.3.2,!=2023.3.2.1,!=2023.4.*,!=2023.5.*,>=2022.5.0->prefect_dask) (2024.2.0)\n",
      "Requirement already satisfied: partd>=1.2.0 in /opt/conda/lib/python3.11/site-packages (from dask==2024.2.0->distributed!=2023.3.2,!=2023.3.2.1,!=2023.4.*,!=2023.5.*,>=2022.5.0->prefect_dask) (1.4.1)\n",
      "Requirement already satisfied: importlib-metadata>=4.13.0 in /opt/conda/lib/python3.11/site-packages (from dask==2024.2.0->distributed!=2023.3.2,!=2023.3.2.1,!=2023.4.*,!=2023.5.*,>=2022.5.0->prefect_dask) (6.8.0)\n",
      "Requirement already satisfied: aiosqlite>=0.17.0 in /opt/conda/lib/python3.11/site-packages (from prefect>=2.13.5->prefect_dask) (0.20.0)\n",
      "Requirement already satisfied: alembic<2.0.0,>=1.7.5 in /opt/conda/lib/python3.11/site-packages (from prefect>=2.13.5->prefect_dask) (1.12.0)\n",
      "Requirement already satisfied: apprise<2.0.0,>=1.1.0 in /opt/conda/lib/python3.11/site-packages (from prefect>=2.13.5->prefect_dask) (1.7.2)\n",
      "Requirement already satisfied: asyncpg>=0.23 in /opt/conda/lib/python3.11/site-packages (from prefect>=2.13.5->prefect_dask) (0.29.0)\n",
      "Requirement already satisfied: cryptography>=36.0.1 in /opt/conda/lib/python3.11/site-packages (from prefect>=2.13.5->prefect_dask) (41.0.4)\n",
      "Requirement already satisfied: dateparser<2.0.0,>=1.1.1 in /opt/conda/lib/python3.11/site-packages (from prefect>=2.13.5->prefect_dask) (1.2.0)\n",
      "Requirement already satisfied: docker<7.0,>=4.0 in /opt/conda/lib/python3.11/site-packages (from prefect>=2.13.5->prefect_dask) (6.1.3)\n",
      "Requirement already satisfied: graphviz>=0.20.1 in /opt/conda/lib/python3.11/site-packages (from prefect>=2.13.5->prefect_dask) (0.20.1)\n",
      "Requirement already satisfied: griffe>=0.20.0 in /opt/conda/lib/python3.11/site-packages (from prefect>=2.13.5->prefect_dask) (0.40.1)\n",
      "Requirement already satisfied: greenback>=1.2.0 in /opt/conda/lib/python3.11/site-packages (from prefect>=2.13.5->prefect_dask) (1.2.0)\n",
      "Requirement already satisfied: kubernetes<30.0.0,>=24.2.0 in /opt/conda/lib/python3.11/site-packages (from prefect>=2.13.5->prefect_dask) (29.0.0)\n",
      "Requirement already satisfied: pytz<2025,>=2021.1 in /opt/conda/lib/python3.11/site-packages (from prefect>=2.13.5->prefect_dask) (2023.3.post1)\n",
      "Requirement already satisfied: readchar<5.0.0,>=4.0.0 in /opt/conda/lib/python3.11/site-packages (from prefect>=2.13.5->prefect_dask) (4.0.5)\n",
      "Requirement already satisfied: sqlalchemy!=1.4.33,<3.0.0,>=1.4.22 in /opt/conda/lib/python3.11/site-packages (from sqlalchemy[asyncio]!=1.4.33,<3.0.0,>=1.4.22->prefect>=2.13.5->prefect_dask) (2.0.22)\n",
      "Requirement already satisfied: typer>=0.4.2 in /opt/conda/lib/python3.11/site-packages (from prefect>=2.13.5->prefect_dask) (0.9.0)\n",
      "Requirement already satisfied: anyio<4.0.0,>=3.7.1 in /opt/conda/lib/python3.11/site-packages (from prefect>=2.13.5->prefect_dask) (3.7.1)\n",
      "Requirement already satisfied: asgi-lifespan<3.0,>=1.0 in /opt/conda/lib/python3.11/site-packages (from prefect>=2.13.5->prefect_dask) (2.1.0)\n",
      "Requirement already satisfied: cachetools<6.0,>=5.3 in /opt/conda/lib/python3.11/site-packages (from prefect>=2.13.5->prefect_dask) (5.3.2)\n",
      "Requirement already satisfied: coolname<3.0.0,>=1.0.4 in /opt/conda/lib/python3.11/site-packages (from prefect>=2.13.5->prefect_dask) (2.2.0)\n",
      "Requirement already satisfied: croniter<3.0.0,>=1.0.12 in /opt/conda/lib/python3.11/site-packages (from prefect>=2.13.5->prefect_dask) (2.0.1)\n",
      "Requirement already satisfied: httpcore<2.0.0,>=0.15.0 in /opt/conda/lib/python3.11/site-packages (from prefect>=2.13.5->prefect_dask) (1.0.3)\n",
      "Requirement already satisfied: httpx!=0.23.2,>=0.23 in /opt/conda/lib/python3.11/site-packages (from httpx[http2]!=0.23.2,>=0.23->prefect>=2.13.5->prefect_dask) (0.26.0)\n",
      "Requirement already satisfied: jsonpatch<2.0,>=1.32 in /opt/conda/lib/python3.11/site-packages (from prefect>=2.13.5->prefect_dask) (1.33)\n",
      "Requirement already satisfied: jsonschema<5.0.0,>=3.2.0 in /opt/conda/lib/python3.11/site-packages (from prefect>=2.13.5->prefect_dask) (4.19.1)\n",
      "Requirement already satisfied: orjson<4.0,>=3.7 in /opt/conda/lib/python3.11/site-packages (from prefect>=2.13.5->prefect_dask) (3.9.14)\n",
      "Requirement already satisfied: pathspec>=0.8.0 in /opt/conda/lib/python3.11/site-packages (from prefect>=2.13.5->prefect_dask) (0.12.1)\n",
      "Requirement already satisfied: pydantic!=2.0.0,!=2.0.1,!=2.1.0,<3.0.0,>=1.10.0 in /opt/conda/lib/python3.11/site-packages (from pydantic[email]!=2.0.0,!=2.0.1,!=2.1.0,<3.0.0,>=1.10.0->prefect>=2.13.5->prefect_dask) (2.6.1)\n",
      "Requirement already satisfied: python-dateutil<3.0.0,>=2.8.2 in /opt/conda/lib/python3.11/site-packages (from prefect>=2.13.5->prefect_dask) (2.8.2)\n",
      "Requirement already satisfied: python-slugify<9.0,>=5.0 in /opt/conda/lib/python3.11/site-packages (from prefect>=2.13.5->prefect_dask) (8.0.4)\n",
      "Requirement already satisfied: rich<14.0,>=11.0 in /opt/conda/lib/python3.11/site-packages (from prefect>=2.13.5->prefect_dask) (13.7.0)\n",
      "Requirement already satisfied: ruamel.yaml>=0.17.0 in /opt/conda/lib/python3.11/site-packages (from prefect>=2.13.5->prefect_dask) (0.17.39)\n",
      "Requirement already satisfied: sniffio<2.0.0,>=1.3.0 in /opt/conda/lib/python3.11/site-packages (from prefect>=2.13.5->prefect_dask) (1.3.0)\n",
      "Requirement already satisfied: toml>=0.10.0 in /opt/conda/lib/python3.11/site-packages (from prefect>=2.13.5->prefect_dask) (0.10.2)\n",
      "Requirement already satisfied: typing-extensions<5.0.0,>=4.5.0 in /opt/conda/lib/python3.11/site-packages (from prefect>=2.13.5->prefect_dask) (4.8.0)\n",
      "Requirement already satisfied: ujson<6.0.0,>=5.8.0 in /opt/conda/lib/python3.11/site-packages (from prefect>=2.13.5->prefect_dask) (5.9.0)\n",
      "Requirement already satisfied: uvicorn>=0.14.0 in /opt/conda/lib/python3.11/site-packages (from prefect>=2.13.5->prefect_dask) (0.27.1)\n",
      "Requirement already satisfied: websockets<13.0,>=10.4 in /opt/conda/lib/python3.11/site-packages (from prefect>=2.13.5->prefect_dask) (12.0)\n",
      "Requirement already satisfied: itsdangerous in /opt/conda/lib/python3.11/site-packages (from prefect>=2.13.5->prefect_dask) (2.1.2)\n",
      "Requirement already satisfied: python-multipart>=0.0.7 in /opt/conda/lib/python3.11/site-packages (from prefect>=2.13.5->prefect_dask) (0.0.9)\n",
      "Requirement already satisfied: pendulum<3.0 in /opt/conda/lib/python3.11/site-packages (from prefect>=2.13.5->prefect_dask) (2.1.2)\n",
      "Requirement already satisfied: Mako in /opt/conda/lib/python3.11/site-packages (from alembic<2.0.0,>=1.7.5->prefect>=2.13.5->prefect_dask) (1.2.4)\n",
      "Requirement already satisfied: idna>=2.8 in /opt/conda/lib/python3.11/site-packages (from anyio<4.0.0,>=3.7.1->prefect>=2.13.5->prefect_dask) (3.4)\n",
      "Requirement already satisfied: certifi in /opt/conda/lib/python3.11/site-packages (from apprise<2.0.0,>=1.1.0->prefect>=2.13.5->prefect_dask) (2023.7.22)\n",
      "Requirement already satisfied: requests in /opt/conda/lib/python3.11/site-packages (from apprise<2.0.0,>=1.1.0->prefect>=2.13.5->prefect_dask) (2.31.0)\n",
      "Requirement already satisfied: requests-oauthlib in /opt/conda/lib/python3.11/site-packages (from apprise<2.0.0,>=1.1.0->prefect>=2.13.5->prefect_dask) (1.3.1)\n",
      "Requirement already satisfied: markdown in /opt/conda/lib/python3.11/site-packages (from apprise<2.0.0,>=1.1.0->prefect>=2.13.5->prefect_dask) (3.5.2)\n",
      "Requirement already satisfied: async-timeout>=4.0.3 in /opt/conda/lib/python3.11/site-packages (from asyncpg>=0.23->prefect>=2.13.5->prefect_dask) (4.0.3)\n",
      "Requirement already satisfied: cffi>=1.12 in /opt/conda/lib/python3.11/site-packages (from cryptography>=36.0.1->prefect>=2.13.5->prefect_dask) (1.16.0)\n",
      "Requirement already satisfied: regex!=2019.02.19,!=2021.8.27 in /opt/conda/lib/python3.11/site-packages (from dateparser<2.0.0,>=1.1.1->prefect>=2.13.5->prefect_dask) (2023.12.25)\n",
      "Requirement already satisfied: tzlocal in /opt/conda/lib/python3.11/site-packages (from dateparser<2.0.0,>=1.1.1->prefect>=2.13.5->prefect_dask) (5.2)\n",
      "Requirement already satisfied: websocket-client>=0.32.0 in /opt/conda/lib/python3.11/site-packages (from docker<7.0,>=4.0->prefect>=2.13.5->prefect_dask) (1.6.4)\n",
      "Requirement already satisfied: greenlet!=0.4.17 in /opt/conda/lib/python3.11/site-packages (from greenback>=1.2.0->prefect>=2.13.5->prefect_dask) (3.0.0)\n",
      "Requirement already satisfied: outcome in /opt/conda/lib/python3.11/site-packages (from greenback>=1.2.0->prefect>=2.13.5->prefect_dask) (1.3.0.post0)\n",
      "Requirement already satisfied: colorama>=0.4 in /opt/conda/lib/python3.11/site-packages (from griffe>=0.20.0->prefect>=2.13.5->prefect_dask) (0.4.6)\n",
      "Requirement already satisfied: h11<0.15,>=0.13 in /opt/conda/lib/python3.11/site-packages (from httpcore<2.0.0,>=0.15.0->prefect>=2.13.5->prefect_dask) (0.14.0)\n",
      "Requirement already satisfied: h2<5,>=3 in /opt/conda/lib/python3.11/site-packages (from httpx[http2]!=0.23.2,>=0.23->prefect>=2.13.5->prefect_dask) (4.1.0)\n",
      "Requirement already satisfied: MarkupSafe>=2.0 in /opt/conda/lib/python3.11/site-packages (from jinja2>=2.10.3->distributed!=2023.3.2,!=2023.3.2.1,!=2023.4.*,!=2023.5.*,>=2022.5.0->prefect_dask) (2.1.3)\n",
      "Requirement already satisfied: jsonpointer>=1.9 in /opt/conda/lib/python3.11/site-packages (from jsonpatch<2.0,>=1.32->prefect>=2.13.5->prefect_dask) (2.4)\n",
      "Requirement already satisfied: attrs>=22.2.0 in /opt/conda/lib/python3.11/site-packages (from jsonschema<5.0.0,>=3.2.0->prefect>=2.13.5->prefect_dask) (23.1.0)\n",
      "Requirement already satisfied: jsonschema-specifications>=2023.03.6 in /opt/conda/lib/python3.11/site-packages (from jsonschema<5.0.0,>=3.2.0->prefect>=2.13.5->prefect_dask) (2023.7.1)\n",
      "Requirement already satisfied: referencing>=0.28.4 in /opt/conda/lib/python3.11/site-packages (from jsonschema<5.0.0,>=3.2.0->prefect>=2.13.5->prefect_dask) (0.30.2)\n",
      "Requirement already satisfied: rpds-py>=0.7.1 in /opt/conda/lib/python3.11/site-packages (from jsonschema<5.0.0,>=3.2.0->prefect>=2.13.5->prefect_dask) (0.10.6)\n",
      "Requirement already satisfied: six>=1.9.0 in /opt/conda/lib/python3.11/site-packages (from kubernetes<30.0.0,>=24.2.0->prefect>=2.13.5->prefect_dask) (1.16.0)\n",
      "Requirement already satisfied: google-auth>=1.0.1 in /opt/conda/lib/python3.11/site-packages (from kubernetes<30.0.0,>=24.2.0->prefect>=2.13.5->prefect_dask) (2.28.0)\n",
      "Requirement already satisfied: oauthlib>=3.2.2 in /opt/conda/lib/python3.11/site-packages (from kubernetes<30.0.0,>=24.2.0->prefect>=2.13.5->prefect_dask) (3.2.2)\n",
      "Requirement already satisfied: pytzdata>=2020.1 in /opt/conda/lib/python3.11/site-packages (from pendulum<3.0->prefect>=2.13.5->prefect_dask) (2020.1)\n",
      "Requirement already satisfied: annotated-types>=0.4.0 in /opt/conda/lib/python3.11/site-packages (from pydantic!=2.0.0,!=2.0.1,!=2.1.0,<3.0.0,>=1.10.0->pydantic[email]!=2.0.0,!=2.0.1,!=2.1.0,<3.0.0,>=1.10.0->prefect>=2.13.5->prefect_dask) (0.6.0)\n",
      "Requirement already satisfied: pydantic-core==2.16.2 in /opt/conda/lib/python3.11/site-packages (from pydantic!=2.0.0,!=2.0.1,!=2.1.0,<3.0.0,>=1.10.0->pydantic[email]!=2.0.0,!=2.0.1,!=2.1.0,<3.0.0,>=1.10.0->prefect>=2.13.5->prefect_dask) (2.16.2)\n",
      "Requirement already satisfied: email-validator>=2.0.0 in /opt/conda/lib/python3.11/site-packages (from pydantic[email]!=2.0.0,!=2.0.1,!=2.1.0,<3.0.0,>=1.10.0->prefect>=2.13.5->prefect_dask) (2.1.0.post1)\n",
      "Requirement already satisfied: text-unidecode>=1.3 in /opt/conda/lib/python3.11/site-packages (from python-slugify<9.0,>=5.0->prefect>=2.13.5->prefect_dask) (1.3)\n",
      "Requirement already satisfied: setuptools>=41.0 in /opt/conda/lib/python3.11/site-packages (from readchar<5.0.0,>=4.0.0->prefect>=2.13.5->prefect_dask) (68.2.2)\n",
      "Requirement already satisfied: markdown-it-py>=2.2.0 in /opt/conda/lib/python3.11/site-packages (from rich<14.0,>=11.0->prefect>=2.13.5->prefect_dask) (3.0.0)\n",
      "Requirement already satisfied: pygments<3.0.0,>=2.13.0 in /opt/conda/lib/python3.11/site-packages (from rich<14.0,>=11.0->prefect>=2.13.5->prefect_dask) (2.16.1)\n",
      "Requirement already satisfied: ruamel.yaml.clib>=0.2.7 in /opt/conda/lib/python3.11/site-packages (from ruamel.yaml>=0.17.0->prefect>=2.13.5->prefect_dask) (0.2.7)\n",
      "Requirement already satisfied: pycparser in /opt/conda/lib/python3.11/site-packages (from cffi>=1.12->cryptography>=36.0.1->prefect>=2.13.5->prefect_dask) (2.21)\n",
      "Requirement already satisfied: dnspython>=2.0.0 in /opt/conda/lib/python3.11/site-packages (from email-validator>=2.0.0->pydantic[email]!=2.0.0,!=2.0.1,!=2.1.0,<3.0.0,>=1.10.0->prefect>=2.13.5->prefect_dask) (2.6.1)\n",
      "Requirement already satisfied: pyasn1-modules>=0.2.1 in /opt/conda/lib/python3.11/site-packages (from google-auth>=1.0.1->kubernetes<30.0.0,>=24.2.0->prefect>=2.13.5->prefect_dask) (0.3.0)\n",
      "Requirement already satisfied: rsa<5,>=3.1.4 in /opt/conda/lib/python3.11/site-packages (from google-auth>=1.0.1->kubernetes<30.0.0,>=24.2.0->prefect>=2.13.5->prefect_dask) (4.9)\n",
      "Requirement already satisfied: hyperframe<7,>=6.0 in /opt/conda/lib/python3.11/site-packages (from h2<5,>=3->httpx[http2]!=0.23.2,>=0.23->prefect>=2.13.5->prefect_dask) (6.0.1)\n",
      "Requirement already satisfied: hpack<5,>=4.0 in /opt/conda/lib/python3.11/site-packages (from h2<5,>=3->httpx[http2]!=0.23.2,>=0.23->prefect>=2.13.5->prefect_dask) (4.0.0)\n",
      "Requirement already satisfied: zipp>=0.5 in /opt/conda/lib/python3.11/site-packages (from importlib-metadata>=4.13.0->dask==2024.2.0->distributed!=2023.3.2,!=2023.3.2.1,!=2023.4.*,!=2023.5.*,>=2022.5.0->prefect_dask) (3.17.0)\n",
      "Requirement already satisfied: mdurl~=0.1 in /opt/conda/lib/python3.11/site-packages (from markdown-it-py>=2.2.0->rich<14.0,>=11.0->prefect>=2.13.5->prefect_dask) (0.1.2)\n",
      "Requirement already satisfied: charset-normalizer<4,>=2 in /opt/conda/lib/python3.11/site-packages (from requests->apprise<2.0.0,>=1.1.0->prefect>=2.13.5->prefect_dask) (3.3.0)\n",
      "Requirement already satisfied: pyasn1<0.6.0,>=0.4.6 in /opt/conda/lib/python3.11/site-packages (from pyasn1-modules>=0.2.1->google-auth>=1.0.1->kubernetes<30.0.0,>=24.2.0->prefect>=2.13.5->prefect_dask) (0.5.1)\n"
     ]
    }
   ],
   "source": [
    "!pip install boto3\n",
    "!pip install numpy\n",
    "!pip install prefect\n",
    "!pip install prefect_dask"
   ]
  },
  {
   "cell_type": "code",
   "execution_count": 2,
   "id": "78f7263f-b07d-4673-b6d3-301b035e76f9",
   "metadata": {},
   "outputs": [
    {
     "name": "stdout",
     "output_type": "stream",
     "text": [
      "Is bucket empty now ?:  True\n"
     ]
    }
   ],
   "source": [
    "# We'll use boto3 to monitor the s3 bucket. \n",
    "# Note: the S3_ACCESSKEY, S3_SECRETKEY and S3_ENDPOINT are given in the docker-compose.yml file.\n",
    "import boto3\n",
    "import os\n",
    "\n",
    "s3_session = boto3.session.Session()\n",
    "s3_client = s3_session.client(\n",
    "    service_name=\"s3\",\n",
    "    aws_access_key_id=os.environ[\"S3_ACCESSKEY\"],\n",
    "    aws_secret_access_key=os.environ[\"S3_SECRETKEY\"],\n",
    "    endpoint_url=os.environ[\"S3_ENDPOINT\"],\n",
    "    region_name=os.environ[\"S3_REGION\"],\n",
    ")\n",
    "bucket_name = \"tmp-download\"\n",
    "bucket_dir = \"stations\"\n",
    "bucket_url = f\"s3://{bucket_name}/{bucket_dir}\"\n",
    "\n",
    "# If bucket is already created, clear all files in order to start fresh for each demo. \n",
    "if bucket_name in [bucket[\"Name\"] for bucket in s3_client.list_buckets()[\"Buckets\"]]:\n",
    "    if 'Contents' in s3_client.list_objects(Bucket=bucket_name):\n",
    "        objects = s3_client.list_objects(Bucket=bucket_name)['Contents']\n",
    "        for obj in objects:\n",
    "            # clear up the bucket\n",
    "            s3_client.delete_object(Bucket=bucket_name, Key=obj['Key'])\n",
    "else:\n",
    "    s3_client.create_bucket(Bucket=bucket_name)\n",
    "\n",
    "print(\"Is bucket empty now ?: \", 'Contents' not in s3_client.list_objects(Bucket=bucket_name))"
   ]
  },
  {
   "cell_type": "markdown",
   "id": "472719ef",
   "metadata": {},
   "source": [
    "A bucket \"tmp-download\" is created for the purpose of this demo. Thus, the cadip and adgs prefect flows will be asking for the rs-server endpoints to download the files from CADIP and ADGS stations and to upload them to s3://auxiliary-files/stations/<station_name>\n",
    "After a succesfull upload to s3 bucket, the stac catalog is updated with the info related to that file. "
   ]
  },
  {
   "cell_type": "code",
   "execution_count": 3,
   "id": "e7ed1ee5-56eb-4f46-95fa-a7cb2015fb4f",
   "metadata": {},
   "outputs": [
    {
     "name": "stderr",
     "output_type": "stream",
     "text": [
      "15:13:42.622 | ERROR   | MainThread   | prefect._internal.concurrency - Detected unsafe call to `from_sync` from thread with event loop. Use `await greenback.ensure_portal()` to allow call to run without blocking the event loop.\n"
     ]
    },
    {
     "data": {
      "text/html": [
       "<pre style=\"white-space:pre;overflow-x:auto;line-height:normal;font-family:Menlo,'DejaVu Sans Mono',consolas,'Courier New',monospace\">15:13:42.672 | <span style=\"color: #008080; text-decoration-color: #008080\">INFO</span>    | prefect.engine - Created flow run<span style=\"color: #800080; text-decoration-color: #800080\"> 'archetypal-bustard'</span> for flow<span style=\"color: #800080; text-decoration-color: #800080; font-weight: bold\"> 'download-flow'</span>\n",
       "</pre>\n"
      ],
      "text/plain": [
       "15:13:42.672 | \u001b[36mINFO\u001b[0m    | prefect.engine - Created flow run\u001b[35m 'archetypal-bustard'\u001b[0m for flow\u001b[1;35m 'download-flow'\u001b[0m\n"
      ]
     },
     "metadata": {},
     "output_type": "display_data"
    },
    {
     "data": {
      "text/html": [
       "<pre style=\"white-space:pre;overflow-x:auto;line-height:normal;font-family:Menlo,'DejaVu Sans Mono',consolas,'Courier New',monospace\">15:13:42.675 | <span style=\"color: #008080; text-decoration-color: #008080\">INFO</span>    | Flow run<span style=\"color: #800080; text-decoration-color: #800080\"> 'archetypal-bustard'</span> - View at <span style=\"color: #0000ff; text-decoration-color: #0000ff\">http://prefect-server:4200/flow-runs/flow-run/fe7bbf1d-8620-40c4-a84c-5be08ab1077c</span>\n",
       "</pre>\n"
      ],
      "text/plain": [
       "15:13:42.675 | \u001b[36mINFO\u001b[0m    | Flow run\u001b[35m 'archetypal-bustard'\u001b[0m - View at \u001b[94mhttp://prefect-server:4200/flow-runs/flow-run/fe7bbf1d-8620-40c4-a84c-5be08ab1077c\u001b[0m\n"
      ]
     },
     "metadata": {},
     "output_type": "display_data"
    },
    {
     "data": {
      "text/html": [
       "<pre style=\"white-space:pre;overflow-x:auto;line-height:normal;font-family:Menlo,'DejaVu Sans Mono',consolas,'Courier New',monospace\">15:13:42.676 | <span style=\"color: #008080; text-decoration-color: #008080\">INFO</span>    | prefect.task_runner.dask - Creating a new Dask cluster with `distributed.deploy.local.LocalCluster`\n",
       "</pre>\n"
      ],
      "text/plain": [
       "15:13:42.676 | \u001b[36mINFO\u001b[0m    | prefect.task_runner.dask - Creating a new Dask cluster with `distributed.deploy.local.LocalCluster`\n"
      ]
     },
     "metadata": {},
     "output_type": "display_data"
    },
    {
     "data": {
      "text/html": [
       "<pre style=\"white-space:pre;overflow-x:auto;line-height:normal;font-family:Menlo,'DejaVu Sans Mono',consolas,'Courier New',monospace\">15:13:42.752 | <span style=\"color: #008080; text-decoration-color: #008080\">INFO</span>    | distributed.http.proxy - To route to workers diagnostics web server please install jupyter-server-proxy: python -m pip install jupyter-server-proxy\n",
       "</pre>\n"
      ],
      "text/plain": [
       "15:13:42.752 | \u001b[36mINFO\u001b[0m    | distributed.http.proxy - To route to workers diagnostics web server please install jupyter-server-proxy: python -m pip install jupyter-server-proxy\n"
      ]
     },
     "metadata": {},
     "output_type": "display_data"
    },
    {
     "data": {
      "text/html": [
       "<pre style=\"white-space:pre;overflow-x:auto;line-height:normal;font-family:Menlo,'DejaVu Sans Mono',consolas,'Courier New',monospace\">15:13:42.754 | <span style=\"color: #008080; text-decoration-color: #008080\">INFO</span>    | distributed.scheduler - State start\n",
       "</pre>\n"
      ],
      "text/plain": [
       "15:13:42.754 | \u001b[36mINFO\u001b[0m    | distributed.scheduler - State start\n"
      ]
     },
     "metadata": {},
     "output_type": "display_data"
    },
    {
     "data": {
      "text/html": [
       "<pre style=\"white-space:pre;overflow-x:auto;line-height:normal;font-family:Menlo,'DejaVu Sans Mono',consolas,'Courier New',monospace\">15:13:42.760 | <span style=\"color: #008080; text-decoration-color: #008080\">INFO</span>    | distributed.scheduler -   Scheduler at:     tcp://127.0.0.1:44953\n",
       "</pre>\n"
      ],
      "text/plain": [
       "15:13:42.760 | \u001b[36mINFO\u001b[0m    | distributed.scheduler -   Scheduler at:     tcp://127.0.0.1:44953\n"
      ]
     },
     "metadata": {},
     "output_type": "display_data"
    },
    {
     "data": {
      "text/html": [
       "<pre style=\"white-space:pre;overflow-x:auto;line-height:normal;font-family:Menlo,'DejaVu Sans Mono',consolas,'Courier New',monospace\">15:13:42.761 | <span style=\"color: #008080; text-decoration-color: #008080\">INFO</span>    | distributed.scheduler -   dashboard at:  <span style=\"color: #0000ff; text-decoration-color: #0000ff\">http://127.0.0.1:8787/status</span>\n",
       "</pre>\n"
      ],
      "text/plain": [
       "15:13:42.761 | \u001b[36mINFO\u001b[0m    | distributed.scheduler -   dashboard at:  \u001b[94mhttp://127.0.0.1:8787/status\u001b[0m\n"
      ]
     },
     "metadata": {},
     "output_type": "display_data"
    },
    {
     "data": {
      "text/html": [
       "<pre style=\"white-space:pre;overflow-x:auto;line-height:normal;font-family:Menlo,'DejaVu Sans Mono',consolas,'Courier New',monospace\">15:13:42.762 | <span style=\"color: #008080; text-decoration-color: #008080\">INFO</span>    | distributed.scheduler - Registering Worker plugin shuffle\n",
       "</pre>\n"
      ],
      "text/plain": [
       "15:13:42.762 | \u001b[36mINFO\u001b[0m    | distributed.scheduler - Registering Worker plugin shuffle\n"
      ]
     },
     "metadata": {},
     "output_type": "display_data"
    },
    {
     "data": {
      "text/html": [
       "<pre style=\"white-space:pre;overflow-x:auto;line-height:normal;font-family:Menlo,'DejaVu Sans Mono',consolas,'Courier New',monospace\">15:13:42.781 | <span style=\"color: #008080; text-decoration-color: #008080\">INFO</span>    | distributed.nanny -         Start Nanny at: 'tcp://127.0.0.1:40757'\n",
       "</pre>\n"
      ],
      "text/plain": [
       "15:13:42.781 | \u001b[36mINFO\u001b[0m    | distributed.nanny -         Start Nanny at: 'tcp://127.0.0.1:40757'\n"
      ]
     },
     "metadata": {},
     "output_type": "display_data"
    },
    {
     "data": {
      "text/html": [
       "<pre style=\"white-space:pre;overflow-x:auto;line-height:normal;font-family:Menlo,'DejaVu Sans Mono',consolas,'Courier New',monospace\">15:13:42.785 | <span style=\"color: #008080; text-decoration-color: #008080\">INFO</span>    | distributed.nanny -         Start Nanny at: 'tcp://127.0.0.1:44397'\n",
       "</pre>\n"
      ],
      "text/plain": [
       "15:13:42.785 | \u001b[36mINFO\u001b[0m    | distributed.nanny -         Start Nanny at: 'tcp://127.0.0.1:44397'\n"
      ]
     },
     "metadata": {},
     "output_type": "display_data"
    },
    {
     "data": {
      "text/html": [
       "<pre style=\"white-space:pre;overflow-x:auto;line-height:normal;font-family:Menlo,'DejaVu Sans Mono',consolas,'Courier New',monospace\">15:13:42.788 | <span style=\"color: #008080; text-decoration-color: #008080\">INFO</span>    | distributed.nanny -         Start Nanny at: 'tcp://127.0.0.1:33609'\n",
       "</pre>\n"
      ],
      "text/plain": [
       "15:13:42.788 | \u001b[36mINFO\u001b[0m    | distributed.nanny -         Start Nanny at: 'tcp://127.0.0.1:33609'\n"
      ]
     },
     "metadata": {},
     "output_type": "display_data"
    },
    {
     "data": {
      "text/html": [
       "<pre style=\"white-space:pre;overflow-x:auto;line-height:normal;font-family:Menlo,'DejaVu Sans Mono',consolas,'Courier New',monospace\">15:13:42.791 | <span style=\"color: #008080; text-decoration-color: #008080\">INFO</span>    | distributed.nanny -         Start Nanny at: 'tcp://127.0.0.1:37681'\n",
       "</pre>\n"
      ],
      "text/plain": [
       "15:13:42.791 | \u001b[36mINFO\u001b[0m    | distributed.nanny -         Start Nanny at: 'tcp://127.0.0.1:37681'\n"
      ]
     },
     "metadata": {},
     "output_type": "display_data"
    },
    {
     "data": {
      "text/html": [
       "<pre style=\"white-space:pre;overflow-x:auto;line-height:normal;font-family:Menlo,'DejaVu Sans Mono',consolas,'Courier New',monospace\">15:13:43.152 | <span style=\"color: #008080; text-decoration-color: #008080\">INFO</span>    | distributed.scheduler - Register worker &lt;WorkerState 'tcp://127.0.0.1:36873', name: 0, status: init, memory: 0, processing: 0&gt;\n",
       "</pre>\n"
      ],
      "text/plain": [
       "15:13:43.152 | \u001b[36mINFO\u001b[0m    | distributed.scheduler - Register worker <WorkerState 'tcp://127.0.0.1:36873', name: 0, status: init, memory: 0, processing: 0>\n"
      ]
     },
     "metadata": {},
     "output_type": "display_data"
    },
    {
     "data": {
      "text/html": [
       "<pre style=\"white-space:pre;overflow-x:auto;line-height:normal;font-family:Menlo,'DejaVu Sans Mono',consolas,'Courier New',monospace\">15:13:43.154 | <span style=\"color: #008080; text-decoration-color: #008080\">INFO</span>    | distributed.scheduler - Starting worker compute stream, tcp://127.0.0.1:36873\n",
       "</pre>\n"
      ],
      "text/plain": [
       "15:13:43.154 | \u001b[36mINFO\u001b[0m    | distributed.scheduler - Starting worker compute stream, tcp://127.0.0.1:36873\n"
      ]
     },
     "metadata": {},
     "output_type": "display_data"
    },
    {
     "data": {
      "text/html": [
       "<pre style=\"white-space:pre;overflow-x:auto;line-height:normal;font-family:Menlo,'DejaVu Sans Mono',consolas,'Courier New',monospace\">15:13:43.155 | <span style=\"color: #008080; text-decoration-color: #008080\">INFO</span>    | distributed.core - Starting established connection to tcp://127.0.0.1:51712\n",
       "</pre>\n"
      ],
      "text/plain": [
       "15:13:43.155 | \u001b[36mINFO\u001b[0m    | distributed.core - Starting established connection to tcp://127.0.0.1:51712\n"
      ]
     },
     "metadata": {},
     "output_type": "display_data"
    },
    {
     "data": {
      "text/html": [
       "<pre style=\"white-space:pre;overflow-x:auto;line-height:normal;font-family:Menlo,'DejaVu Sans Mono',consolas,'Courier New',monospace\">15:13:43.168 | <span style=\"color: #008080; text-decoration-color: #008080\">INFO</span>    | distributed.scheduler - Register worker &lt;WorkerState 'tcp://127.0.0.1:36879', name: 2, status: init, memory: 0, processing: 0&gt;\n",
       "</pre>\n"
      ],
      "text/plain": [
       "15:13:43.168 | \u001b[36mINFO\u001b[0m    | distributed.scheduler - Register worker <WorkerState 'tcp://127.0.0.1:36879', name: 2, status: init, memory: 0, processing: 0>\n"
      ]
     },
     "metadata": {},
     "output_type": "display_data"
    },
    {
     "data": {
      "text/html": [
       "<pre style=\"white-space:pre;overflow-x:auto;line-height:normal;font-family:Menlo,'DejaVu Sans Mono',consolas,'Courier New',monospace\">15:13:43.170 | <span style=\"color: #008080; text-decoration-color: #008080\">INFO</span>    | distributed.scheduler - Starting worker compute stream, tcp://127.0.0.1:36879\n",
       "</pre>\n"
      ],
      "text/plain": [
       "15:13:43.170 | \u001b[36mINFO\u001b[0m    | distributed.scheduler - Starting worker compute stream, tcp://127.0.0.1:36879\n"
      ]
     },
     "metadata": {},
     "output_type": "display_data"
    },
    {
     "data": {
      "text/html": [
       "<pre style=\"white-space:pre;overflow-x:auto;line-height:normal;font-family:Menlo,'DejaVu Sans Mono',consolas,'Courier New',monospace\">15:13:43.171 | <span style=\"color: #008080; text-decoration-color: #008080\">INFO</span>    | distributed.core - Starting established connection to tcp://127.0.0.1:51722\n",
       "</pre>\n"
      ],
      "text/plain": [
       "15:13:43.171 | \u001b[36mINFO\u001b[0m    | distributed.core - Starting established connection to tcp://127.0.0.1:51722\n"
      ]
     },
     "metadata": {},
     "output_type": "display_data"
    },
    {
     "data": {
      "text/html": [
       "<pre style=\"white-space:pre;overflow-x:auto;line-height:normal;font-family:Menlo,'DejaVu Sans Mono',consolas,'Courier New',monospace\">15:13:43.172 | <span style=\"color: #008080; text-decoration-color: #008080\">INFO</span>    | distributed.scheduler - Register worker &lt;WorkerState 'tcp://127.0.0.1:42183', name: 1, status: init, memory: 0, processing: 0&gt;\n",
       "</pre>\n"
      ],
      "text/plain": [
       "15:13:43.172 | \u001b[36mINFO\u001b[0m    | distributed.scheduler - Register worker <WorkerState 'tcp://127.0.0.1:42183', name: 1, status: init, memory: 0, processing: 0>\n"
      ]
     },
     "metadata": {},
     "output_type": "display_data"
    },
    {
     "data": {
      "text/html": [
       "<pre style=\"white-space:pre;overflow-x:auto;line-height:normal;font-family:Menlo,'DejaVu Sans Mono',consolas,'Courier New',monospace\">15:13:43.174 | <span style=\"color: #008080; text-decoration-color: #008080\">INFO</span>    | distributed.scheduler - Starting worker compute stream, tcp://127.0.0.1:42183\n",
       "</pre>\n"
      ],
      "text/plain": [
       "15:13:43.174 | \u001b[36mINFO\u001b[0m    | distributed.scheduler - Starting worker compute stream, tcp://127.0.0.1:42183\n"
      ]
     },
     "metadata": {},
     "output_type": "display_data"
    },
    {
     "data": {
      "text/html": [
       "<pre style=\"white-space:pre;overflow-x:auto;line-height:normal;font-family:Menlo,'DejaVu Sans Mono',consolas,'Courier New',monospace\">15:13:43.175 | <span style=\"color: #008080; text-decoration-color: #008080\">INFO</span>    | distributed.core - Starting established connection to tcp://127.0.0.1:51736\n",
       "</pre>\n"
      ],
      "text/plain": [
       "15:13:43.175 | \u001b[36mINFO\u001b[0m    | distributed.core - Starting established connection to tcp://127.0.0.1:51736\n"
      ]
     },
     "metadata": {},
     "output_type": "display_data"
    },
    {
     "data": {
      "text/html": [
       "<pre style=\"white-space:pre;overflow-x:auto;line-height:normal;font-family:Menlo,'DejaVu Sans Mono',consolas,'Courier New',monospace\">15:13:43.180 | <span style=\"color: #008080; text-decoration-color: #008080\">INFO</span>    | distributed.scheduler - Register worker &lt;WorkerState 'tcp://127.0.0.1:40401', name: 3, status: init, memory: 0, processing: 0&gt;\n",
       "</pre>\n"
      ],
      "text/plain": [
       "15:13:43.180 | \u001b[36mINFO\u001b[0m    | distributed.scheduler - Register worker <WorkerState 'tcp://127.0.0.1:40401', name: 3, status: init, memory: 0, processing: 0>\n"
      ]
     },
     "metadata": {},
     "output_type": "display_data"
    },
    {
     "data": {
      "text/html": [
       "<pre style=\"white-space:pre;overflow-x:auto;line-height:normal;font-family:Menlo,'DejaVu Sans Mono',consolas,'Courier New',monospace\">15:13:43.181 | <span style=\"color: #008080; text-decoration-color: #008080\">INFO</span>    | distributed.scheduler - Starting worker compute stream, tcp://127.0.0.1:40401\n",
       "</pre>\n"
      ],
      "text/plain": [
       "15:13:43.181 | \u001b[36mINFO\u001b[0m    | distributed.scheduler - Starting worker compute stream, tcp://127.0.0.1:40401\n"
      ]
     },
     "metadata": {},
     "output_type": "display_data"
    },
    {
     "data": {
      "text/html": [
       "<pre style=\"white-space:pre;overflow-x:auto;line-height:normal;font-family:Menlo,'DejaVu Sans Mono',consolas,'Courier New',monospace\">15:13:43.182 | <span style=\"color: #008080; text-decoration-color: #008080\">INFO</span>    | distributed.core - Starting established connection to tcp://127.0.0.1:51744\n",
       "</pre>\n"
      ],
      "text/plain": [
       "15:13:43.182 | \u001b[36mINFO\u001b[0m    | distributed.core - Starting established connection to tcp://127.0.0.1:51744\n"
      ]
     },
     "metadata": {},
     "output_type": "display_data"
    },
    {
     "data": {
      "text/html": [
       "<pre style=\"white-space:pre;overflow-x:auto;line-height:normal;font-family:Menlo,'DejaVu Sans Mono',consolas,'Courier New',monospace\">15:13:43.212 | <span style=\"color: #008080; text-decoration-color: #008080\">INFO</span>    | distributed.scheduler - Receive client connection: Client-a2a1c9d0-d002-11ee-8647-0242c0a8c010\n",
       "</pre>\n"
      ],
      "text/plain": [
       "15:13:43.212 | \u001b[36mINFO\u001b[0m    | distributed.scheduler - Receive client connection: Client-a2a1c9d0-d002-11ee-8647-0242c0a8c010\n"
      ]
     },
     "metadata": {},
     "output_type": "display_data"
    },
    {
     "data": {
      "text/html": [
       "<pre style=\"white-space:pre;overflow-x:auto;line-height:normal;font-family:Menlo,'DejaVu Sans Mono',consolas,'Courier New',monospace\">15:13:43.213 | <span style=\"color: #008080; text-decoration-color: #008080\">INFO</span>    | distributed.core - Starting established connection to tcp://127.0.0.1:51746\n",
       "</pre>\n"
      ],
      "text/plain": [
       "15:13:43.213 | \u001b[36mINFO\u001b[0m    | distributed.core - Starting established connection to tcp://127.0.0.1:51746\n"
      ]
     },
     "metadata": {},
     "output_type": "display_data"
    },
    {
     "data": {
      "text/html": [
       "<pre style=\"white-space:pre;overflow-x:auto;line-height:normal;font-family:Menlo,'DejaVu Sans Mono',consolas,'Courier New',monospace\">15:13:43.215 | <span style=\"color: #008080; text-decoration-color: #008080\">INFO</span>    | prefect.task_runner.dask - The Dask dashboard is available at <span style=\"color: #0000ff; text-decoration-color: #0000ff\">http://127.0.0.1:8787/status</span>\n",
       "</pre>\n"
      ],
      "text/plain": [
       "15:13:43.215 | \u001b[36mINFO\u001b[0m    | prefect.task_runner.dask - The Dask dashboard is available at \u001b[94mhttp://127.0.0.1:8787/status\u001b[0m\n"
      ]
     },
     "metadata": {},
     "output_type": "display_data"
    },
    {
     "name": "stdout",
     "output_type": "stream",
     "text": [
      "response.link = http://rs-server-cadip:8000/cadip/CADIP/cadu/search?datetime=2014-01-01T12%3A00%3A00Z%2F2024-02-20T12%3A00%3A00Z\n"
     ]
    },
    {
     "data": {
      "text/html": [
       "<pre style=\"white-space:pre;overflow-x:auto;line-height:normal;font-family:Menlo,'DejaVu Sans Mono',consolas,'Courier New',monospace\">15:13:43.968 | <span style=\"color: #008080; text-decoration-color: #008080\">INFO</span>    | Flow run<span style=\"color: #800080; text-decoration-color: #800080\"> 'archetypal-bustard'</span> - List with files found in station\n",
       "</pre>\n"
      ],
      "text/plain": [
       "15:13:43.968 | \u001b[36mINFO\u001b[0m    | Flow run\u001b[35m 'archetypal-bustard'\u001b[0m - List with files found in station\n"
      ]
     },
     "metadata": {},
     "output_type": "display_data"
    },
    {
     "data": {
      "text/html": [
       "<pre style=\"white-space:pre;overflow-x:auto;line-height:normal;font-family:Menlo,'DejaVu Sans Mono',consolas,'Courier New',monospace\">15:13:43.970 | <span style=\"color: #008080; text-decoration-color: #008080\">INFO</span>    | Flow run<span style=\"color: #800080; text-decoration-color: #800080\"> 'archetypal-bustard'</span> -       DCS_04_S1A_20231121072204051312_ch1_DSDB_00001.raw\n",
       "</pre>\n"
      ],
      "text/plain": [
       "15:13:43.970 | \u001b[36mINFO\u001b[0m    | Flow run\u001b[35m 'archetypal-bustard'\u001b[0m -       DCS_04_S1A_20231121072204051312_ch1_DSDB_00001.raw\n"
      ]
     },
     "metadata": {},
     "output_type": "display_data"
    },
    {
     "data": {
      "text/html": [
       "<pre style=\"white-space:pre;overflow-x:auto;line-height:normal;font-family:Menlo,'DejaVu Sans Mono',consolas,'Courier New',monospace\">15:13:43.971 | <span style=\"color: #008080; text-decoration-color: #008080\">INFO</span>    | Flow run<span style=\"color: #800080; text-decoration-color: #800080\"> 'archetypal-bustard'</span> -       DCS_04_S1A_20231121072204051312_ch1_DSDB_00002.raw\n",
       "</pre>\n"
      ],
      "text/plain": [
       "15:13:43.971 | \u001b[36mINFO\u001b[0m    | Flow run\u001b[35m 'archetypal-bustard'\u001b[0m -       DCS_04_S1A_20231121072204051312_ch1_DSDB_00002.raw\n"
      ]
     },
     "metadata": {},
     "output_type": "display_data"
    },
    {
     "data": {
      "text/html": [
       "<pre style=\"white-space:pre;overflow-x:auto;line-height:normal;font-family:Menlo,'DejaVu Sans Mono',consolas,'Courier New',monospace\">15:13:43.972 | <span style=\"color: #008080; text-decoration-color: #008080\">INFO</span>    | Flow run<span style=\"color: #800080; text-decoration-color: #800080\"> 'archetypal-bustard'</span> -       DCS_04_S1A_20231121072204051312_ch1_DSDB_00003.raw\n",
       "</pre>\n"
      ],
      "text/plain": [
       "15:13:43.972 | \u001b[36mINFO\u001b[0m    | Flow run\u001b[35m 'archetypal-bustard'\u001b[0m -       DCS_04_S1A_20231121072204051312_ch1_DSDB_00003.raw\n"
      ]
     },
     "metadata": {},
     "output_type": "display_data"
    },
    {
     "data": {
      "text/html": [
       "<pre style=\"white-space:pre;overflow-x:auto;line-height:normal;font-family:Menlo,'DejaVu Sans Mono',consolas,'Courier New',monospace\">15:13:43.973 | <span style=\"color: #008080; text-decoration-color: #008080\">INFO</span>    | Flow run<span style=\"color: #800080; text-decoration-color: #800080\"> 'archetypal-bustard'</span> -       DCS_04_S1A_20231121072204051312_ch1_DSDB_00004.raw\n",
       "</pre>\n"
      ],
      "text/plain": [
       "15:13:43.973 | \u001b[36mINFO\u001b[0m    | Flow run\u001b[35m 'archetypal-bustard'\u001b[0m -       DCS_04_S1A_20231121072204051312_ch1_DSDB_00004.raw\n"
      ]
     },
     "metadata": {},
     "output_type": "display_data"
    },
    {
     "data": {
      "text/html": [
       "<pre style=\"white-space:pre;overflow-x:auto;line-height:normal;font-family:Menlo,'DejaVu Sans Mono',consolas,'Courier New',monospace\">15:13:43.973 | <span style=\"color: #008080; text-decoration-color: #008080\">INFO</span>    | Flow run<span style=\"color: #800080; text-decoration-color: #800080\"> 'archetypal-bustard'</span> -       DCS_04_S1A_20231121072204051312_ch1_DSDB_00005.raw\n",
       "</pre>\n"
      ],
      "text/plain": [
       "15:13:43.973 | \u001b[36mINFO\u001b[0m    | Flow run\u001b[35m 'archetypal-bustard'\u001b[0m -       DCS_04_S1A_20231121072204051312_ch1_DSDB_00005.raw\n"
      ]
     },
     "metadata": {},
     "output_type": "display_data"
    },
    {
     "data": {
      "text/html": [
       "<pre style=\"white-space:pre;overflow-x:auto;line-height:normal;font-family:Menlo,'DejaVu Sans Mono',consolas,'Courier New',monospace\">15:13:43.974 | <span style=\"color: #008080; text-decoration-color: #008080\">INFO</span>    | Flow run<span style=\"color: #800080; text-decoration-color: #800080\"> 'archetypal-bustard'</span> -       DCS_04_S1A_20231121072204051312_ch1_DSDB_00006.raw\n",
       "</pre>\n"
      ],
      "text/plain": [
       "15:13:43.974 | \u001b[36mINFO\u001b[0m    | Flow run\u001b[35m 'archetypal-bustard'\u001b[0m -       DCS_04_S1A_20231121072204051312_ch1_DSDB_00006.raw\n"
      ]
     },
     "metadata": {},
     "output_type": "display_data"
    },
    {
     "data": {
      "text/html": [
       "<pre style=\"white-space:pre;overflow-x:auto;line-height:normal;font-family:Menlo,'DejaVu Sans Mono',consolas,'Courier New',monospace\">15:13:43.975 | <span style=\"color: #008080; text-decoration-color: #008080\">INFO</span>    | Flow run<span style=\"color: #800080; text-decoration-color: #800080\"> 'archetypal-bustard'</span> -       DCS_04_S1A_20231121072204051312_ch1_DSDB_00007.raw\n",
       "</pre>\n"
      ],
      "text/plain": [
       "15:13:43.975 | \u001b[36mINFO\u001b[0m    | Flow run\u001b[35m 'archetypal-bustard'\u001b[0m -       DCS_04_S1A_20231121072204051312_ch1_DSDB_00007.raw\n"
      ]
     },
     "metadata": {},
     "output_type": "display_data"
    },
    {
     "data": {
      "text/html": [
       "<pre style=\"white-space:pre;overflow-x:auto;line-height:normal;font-family:Menlo,'DejaVu Sans Mono',consolas,'Courier New',monospace\">15:13:43.976 | <span style=\"color: #008080; text-decoration-color: #008080\">INFO</span>    | Flow run<span style=\"color: #800080; text-decoration-color: #800080\"> 'archetypal-bustard'</span> -       DCS_04_S1A_20231121072204051312_ch1_DSDB_00060.raw\n",
       "</pre>\n"
      ],
      "text/plain": [
       "15:13:43.976 | \u001b[36mINFO\u001b[0m    | Flow run\u001b[35m 'archetypal-bustard'\u001b[0m -       DCS_04_S1A_20231121072204051312_ch1_DSDB_00060.raw\n"
      ]
     },
     "metadata": {},
     "output_type": "display_data"
    },
    {
     "data": {
      "text/html": [
       "<pre style=\"white-space:pre;overflow-x:auto;line-height:normal;font-family:Menlo,'DejaVu Sans Mono',consolas,'Courier New',monospace\">15:13:43.977 | <span style=\"color: #008080; text-decoration-color: #008080\">INFO</span>    | Flow run<span style=\"color: #800080; text-decoration-color: #800080\"> 'archetypal-bustard'</span> -       DCS_04_S1A_20231121072204051312_ch2_DSDB_00046.raw\n",
       "</pre>\n"
      ],
      "text/plain": [
       "15:13:43.977 | \u001b[36mINFO\u001b[0m    | Flow run\u001b[35m 'archetypal-bustard'\u001b[0m -       DCS_04_S1A_20231121072204051312_ch2_DSDB_00046.raw\n"
      ]
     },
     "metadata": {},
     "output_type": "display_data"
    },
    {
     "data": {
      "text/html": [
       "<pre style=\"white-space:pre;overflow-x:auto;line-height:normal;font-family:Menlo,'DejaVu Sans Mono',consolas,'Courier New',monospace\">15:13:43.977 | <span style=\"color: #008080; text-decoration-color: #008080\">INFO</span>    | Flow run<span style=\"color: #800080; text-decoration-color: #800080\"> 'archetypal-bustard'</span> -       DCS_04_S1A_20231121072204051312_ch2_DSDB_00060.raw\n",
       "</pre>\n"
      ],
      "text/plain": [
       "15:13:43.977 | \u001b[36mINFO\u001b[0m    | Flow run\u001b[35m 'archetypal-bustard'\u001b[0m -       DCS_04_S1A_20231121072204051312_ch2_DSDB_00060.raw\n"
      ]
     },
     "metadata": {},
     "output_type": "display_data"
    },
    {
     "name": "stderr",
     "output_type": "stream",
     "text": [
      "15:13:43.978 | ERROR   | MainThread   | prefect._internal.concurrency - Detected unsafe call to `from_sync` from thread with event loop. Use `await greenback.ensure_portal()` to allow call to run without blocking the event loop.\n"
     ]
    },
    {
     "data": {
      "text/html": [
       "<pre style=\"white-space:pre;overflow-x:auto;line-height:normal;font-family:Menlo,'DejaVu Sans Mono',consolas,'Courier New',monospace\">15:13:44.016 | <span style=\"color: #008080; text-decoration-color: #008080\">INFO</span>    | Flow run<span style=\"color: #800080; text-decoration-color: #800080\"> 'archetypal-bustard'</span> - Created task run 'ingest_files-0' for task 'ingest_files'\n",
       "</pre>\n"
      ],
      "text/plain": [
       "15:13:44.016 | \u001b[36mINFO\u001b[0m    | Flow run\u001b[35m 'archetypal-bustard'\u001b[0m - Created task run 'ingest_files-0' for task 'ingest_files'\n"
      ]
     },
     "metadata": {},
     "output_type": "display_data"
    },
    {
     "data": {
      "text/html": [
       "<pre style=\"white-space:pre;overflow-x:auto;line-height:normal;font-family:Menlo,'DejaVu Sans Mono',consolas,'Courier New',monospace\">15:13:44.021 | <span style=\"color: #008080; text-decoration-color: #008080\">INFO</span>    | Flow run<span style=\"color: #800080; text-decoration-color: #800080\"> 'archetypal-bustard'</span> - Submitted task run 'ingest_files-0' for execution.\n",
       "</pre>\n"
      ],
      "text/plain": [
       "15:13:44.021 | \u001b[36mINFO\u001b[0m    | Flow run\u001b[35m 'archetypal-bustard'\u001b[0m - Submitted task run 'ingest_files-0' for execution.\n"
      ]
     },
     "metadata": {},
     "output_type": "display_data"
    },
    {
     "name": "stderr",
     "output_type": "stream",
     "text": [
      "15:13:45.692 | DEBUG   | Task run 'ingest_files-0' - Task 0: Files to be downloaded:\n"
     ]
    },
    {
     "name": "stdout",
     "output_type": "stream",
     "text": [
      "{   'assets': {'file': {'file:size': 36}},\n",
      "    'geometry': None,\n",
      "    'id': 'DCS_04_S1A_20231121072204051312_ch1_DSDB_00001.raw',\n",
      "    'links': [],\n",
      "    'properties': {   'cadip:block_number': 1,\n",
      "                      'cadip:channel': 1,\n",
      "                      'cadip:final_block': False,\n",
      "                      'cadip:id': '2b17b57d-fff4-4645-b539-91f305c27c69',\n",
      "                      'cadip:retransfer': False,\n",
      "                      'cadip:session_id': 'some_session_id',\n",
      "                      'datetime': '2023-11-26T17:01:39.528Z',\n",
      "                      'eviction_datetime': '2023-12-03T17:01:00Z'},\n",
      "    'stac_extensions': [   'https://stac-extensions.github.io/file/v2.1.0/schema.json'],\n",
      "    'stac_version': '1.0.0',\n",
      "    'type': 'Feature'}\n",
      "{   'assets': {'file': {'file:size': 36}},\n",
      "    'geometry': None,\n",
      "    'id': 'DCS_04_S1A_20231121072204051312_ch1_DSDB_00002.raw',\n",
      "    'links': [],\n",
      "    'properties': {   'cadip:block_number': 1,\n",
      "                      'cadip:channel': 1,\n",
      "                      'cadip:final_block': False,\n",
      "                      'cadip:id': '2b17b57d-fff4-4645-b539-91f305c27c60',\n",
      "                      'cadip:retransfer': False,\n",
      "                      'cadip:session_id': 'some_session_id',\n",
      "                      'datetime': '2023-11-26T17:01:39.528Z',\n",
      "                      'eviction_datetime': '2023-12-03T17:01:00Z'},\n",
      "    'stac_extensions': [   'https://stac-extensions.github.io/file/v2.1.0/schema.json'],\n",
      "    'stac_version': '1.0.0',\n",
      "    'type': 'Feature'}\n",
      "{   'assets': {'file': {'file:size': 36}},\n",
      "    'geometry': None,\n",
      "    'id': 'DCS_04_S1A_20231121072204051312_ch1_DSDB_00003.raw',\n",
      "    'links': [],\n",
      "    'properties': {   'cadip:block_number': 1,\n",
      "                      'cadip:channel': 1,\n",
      "                      'cadip:final_block': False,\n",
      "                      'cadip:id': '2b17b57d-fff4-4645-b539-91f305c27c61',\n",
      "                      'cadip:retransfer': False,\n",
      "                      'cadip:session_id': 'some_session_id',\n",
      "                      'datetime': '2023-11-26T17:01:39.528Z',\n",
      "                      'eviction_datetime': '2023-12-03T17:01:00Z'},\n",
      "    'stac_extensions': [   'https://stac-extensions.github.io/file/v2.1.0/schema.json'],\n",
      "    'stac_version': '1.0.0',\n",
      "    'type': 'Feature'}\n",
      "{   'assets': {'file': {'file:size': 36}},\n",
      "    'geometry': None,\n",
      "    'id': 'DCS_04_S1A_20231121072204051312_ch1_DSDB_00004.raw',\n",
      "    'links': [],\n",
      "    'properties': {   'cadip:block_number': 1,\n",
      "                      'cadip:channel': 1,\n",
      "                      'cadip:final_block': False,\n",
      "                      'cadip:id': '2b17b57d-fff4-4645-b539-91f305c27c62',\n",
      "                      'cadip:retransfer': False,\n",
      "                      'cadip:session_id': 'some_session_id',\n",
      "                      'datetime': '2023-11-26T17:01:39.528Z',\n",
      "                      'eviction_datetime': '2023-12-03T17:01:00Z'},\n",
      "    'stac_extensions': [   'https://stac-extensions.github.io/file/v2.1.0/schema.json'],\n",
      "    'stac_version': '1.0.0',\n",
      "    'type': 'Feature'}\n",
      "{   'assets': {'file': {'file:size': 36}},\n",
      "    'geometry': None,\n",
      "    'id': 'DCS_04_S1A_20231121072204051312_ch1_DSDB_00005.raw',\n",
      "    'links': [],\n",
      "    'properties': {   'cadip:block_number': 1,\n",
      "                      'cadip:channel': 1,\n",
      "                      'cadip:final_block': False,\n",
      "                      'cadip:id': '2b17b57d-fff4-4645-b539-91f305c27c63',\n",
      "                      'cadip:retransfer': False,\n",
      "                      'cadip:session_id': 'some_session_id',\n",
      "                      'datetime': '2023-11-26T17:01:39.528Z',\n",
      "                      'eviction_datetime': '2023-12-03T17:01:00Z'},\n",
      "    'stac_extensions': [   'https://stac-extensions.github.io/file/v2.1.0/schema.json'],\n",
      "    'stac_version': '1.0.0',\n",
      "    'type': 'Feature'}\n",
      "{   'assets': {'file': {'file:size': 36}},\n",
      "    'geometry': None,\n",
      "    'id': 'DCS_04_S1A_20231121072204051312_ch1_DSDB_00006.raw',\n",
      "    'links': [],\n",
      "    'properties': {   'cadip:block_number': 1,\n",
      "                      'cadip:channel': 1,\n",
      "                      'cadip:final_block': False,\n",
      "                      'cadip:id': '2b17b57d-fff4-4645-b539-91f305c27c64',\n",
      "                      'cadip:retransfer': False,\n",
      "                      'cadip:session_id': 'some_session_id',\n",
      "                      'datetime': '2023-11-26T17:01:39.528Z',\n",
      "                      'eviction_datetime': '2023-12-03T17:01:00Z'},\n",
      "    'stac_extensions': [   'https://stac-extensions.github.io/file/v2.1.0/schema.json'],\n",
      "    'stac_version': '1.0.0',\n",
      "    'type': 'Feature'}\n",
      "{   'assets': {'file': {'file:size': 36}},\n",
      "    'geometry': None,\n",
      "    'id': 'DCS_04_S1A_20231121072204051312_ch1_DSDB_00007.raw',\n",
      "    'links': [],\n",
      "    'properties': {   'cadip:block_number': 1,\n",
      "                      'cadip:channel': 1,\n",
      "                      'cadip:final_block': False,\n",
      "                      'cadip:id': '2b17b57d-fff4-4645-b539-91f305c27c65',\n",
      "                      'cadip:retransfer': False,\n",
      "                      'cadip:session_id': 'some_session_id',\n",
      "                      'datetime': '2023-11-26T17:01:39.528Z',\n",
      "                      'eviction_datetime': '2023-12-03T17:01:00Z'},\n",
      "    'stac_extensions': [   'https://stac-extensions.github.io/file/v2.1.0/schema.json'],\n",
      "    'stac_version': '1.0.0',\n",
      "    'type': 'Feature'}\n",
      "{   'assets': {'file': {'file:size': 22}},\n",
      "    'geometry': None,\n",
      "    'id': 'DCS_04_S1A_20231121072204051312_ch1_DSDB_00060.raw',\n",
      "    'links': [],\n",
      "    'properties': {   'cadip:block_number': 60,\n",
      "                      'cadip:channel': 1,\n",
      "                      'cadip:final_block': True,\n",
      "                      'cadip:id': 'some_id_2',\n",
      "                      'cadip:retransfer': False,\n",
      "                      'cadip:session_id': 'some_session_id2',\n",
      "                      'datetime': '2023-11-26T17:01:39.528Z',\n",
      "                      'eviction_datetime': '2023-12-03T17:01:00Z'},\n",
      "    'stac_extensions': [   'https://stac-extensions.github.io/file/v2.1.0/schema.json'],\n",
      "    'stac_version': '1.0.0',\n",
      "    'type': 'Feature'}\n",
      "{   'assets': {'file': {'file:size': 12}},\n",
      "    'geometry': None,\n",
      "    'id': 'DCS_04_S1A_20231121072204051312_ch2_DSDB_00046.raw',\n",
      "    'links': [],\n",
      "    'properties': {   'cadip:block_number': 46,\n",
      "                      'cadip:channel': 2,\n",
      "                      'cadip:final_block': False,\n",
      "                      'cadip:id': 'some_id_3',\n",
      "                      'cadip:retransfer': False,\n",
      "                      'cadip:session_id': 'some_session_id3',\n",
      "                      'datetime': '2023-11-26T15:20:21.433Z',\n",
      "                      'eviction_datetime': '2023-12-03T15:20:00Z'},\n",
      "    'stac_extensions': [   'https://stac-extensions.github.io/file/v2.1.0/schema.json'],\n",
      "    'stac_version': '1.0.0',\n",
      "    'type': 'Feature'}\n",
      "{   'assets': {'file': {'file:size': 28}},\n",
      "    'geometry': None,\n",
      "    'id': 'DCS_04_S1A_20231121072204051312_ch2_DSDB_00060.raw',\n",
      "    'links': [],\n",
      "    'properties': {   'cadip:block_number': 60,\n",
      "                      'cadip:channel': 2,\n",
      "                      'cadip:final_block': True,\n",
      "                      'cadip:id': 'some_id_4',\n",
      "                      'cadip:retransfer': False,\n",
      "                      'cadip:session_id': 'some_session_id4',\n",
      "                      'datetime': '2023-11-26T15:25:19.327Z',\n",
      "                      'eviction_datetime': '2023-12-03T15:25:00Z'},\n",
      "    'stac_extensions': [   'https://stac-extensions.github.io/file/v2.1.0/schema.json'],\n",
      "    'stac_version': '1.0.0',\n",
      "    'type': 'Feature'}\n"
     ]
    },
    {
     "name": "stderr",
     "output_type": "stream",
     "text": [
      "15:13:45.915 | \u001b[36mINFO\u001b[0m    | Task run 'ingest_files-0' - Task 0: The download progress for file DCS_04_S1A_20231121072204051312_ch1_DSDB_00001.raw is IN_PROGRESS\n",
      "15:13:46.935 | \u001b[36mINFO\u001b[0m    | Task run 'ingest_files-0' - Task 0: File DCS_04_S1A_20231121072204051312_ch1_DSDB_00001.raw has been properly downloaded...\n",
      "\n",
      "15:13:47.107 | \u001b[36mINFO\u001b[0m    | Task run 'ingest_files-0' - Task 0: The download progress for file DCS_04_S1A_20231121072204051312_ch1_DSDB_00002.raw is IN_PROGRESS\n",
      "15:13:48.123 | \u001b[36mINFO\u001b[0m    | Task run 'ingest_files-0' - Task 0: File DCS_04_S1A_20231121072204051312_ch1_DSDB_00002.raw has been properly downloaded...\n",
      "\n",
      "15:13:48.285 | \u001b[36mINFO\u001b[0m    | Task run 'ingest_files-0' - Task 0: The download progress for file DCS_04_S1A_20231121072204051312_ch1_DSDB_00003.raw is IN_PROGRESS\n",
      "15:13:49.305 | \u001b[36mINFO\u001b[0m    | Task run 'ingest_files-0' - Task 0: File DCS_04_S1A_20231121072204051312_ch1_DSDB_00003.raw has been properly downloaded...\n",
      "\n",
      "15:13:49.482 | \u001b[36mINFO\u001b[0m    | Task run 'ingest_files-0' - Task 0: The download progress for file DCS_04_S1A_20231121072204051312_ch1_DSDB_00004.raw is IN_PROGRESS\n",
      "15:13:50.504 | \u001b[36mINFO\u001b[0m    | Task run 'ingest_files-0' - Task 0: File DCS_04_S1A_20231121072204051312_ch1_DSDB_00004.raw has been properly downloaded...\n",
      "\n",
      "15:13:50.663 | \u001b[36mINFO\u001b[0m    | Task run 'ingest_files-0' - Task 0: The download progress for file DCS_04_S1A_20231121072204051312_ch1_DSDB_00005.raw is IN_PROGRESS\n",
      "15:13:51.685 | \u001b[36mINFO\u001b[0m    | Task run 'ingest_files-0' - Task 0: File DCS_04_S1A_20231121072204051312_ch1_DSDB_00005.raw has been properly downloaded...\n",
      "\n",
      "15:13:51.845 | \u001b[36mINFO\u001b[0m    | Task run 'ingest_files-0' - Task 0: The download progress for file DCS_04_S1A_20231121072204051312_ch1_DSDB_00006.raw is IN_PROGRESS\n",
      "15:13:52.867 | \u001b[36mINFO\u001b[0m    | Task run 'ingest_files-0' - Task 0: File DCS_04_S1A_20231121072204051312_ch1_DSDB_00006.raw has been properly downloaded...\n",
      "\n",
      "15:13:53.026 | \u001b[36mINFO\u001b[0m    | Task run 'ingest_files-0' - Task 0: The download progress for file DCS_04_S1A_20231121072204051312_ch1_DSDB_00007.raw is IN_PROGRESS\n",
      "15:13:54.042 | \u001b[36mINFO\u001b[0m    | Task run 'ingest_files-0' - Task 0: File DCS_04_S1A_20231121072204051312_ch1_DSDB_00007.raw has been properly downloaded...\n",
      "\n",
      "15:13:54.211 | \u001b[36mINFO\u001b[0m    | Task run 'ingest_files-0' - Task 0: The download progress for file DCS_04_S1A_20231121072204051312_ch1_DSDB_00060.raw is IN_PROGRESS\n",
      "15:13:55.229 | \u001b[36mINFO\u001b[0m    | Task run 'ingest_files-0' - Task 0: File DCS_04_S1A_20231121072204051312_ch1_DSDB_00060.raw has been properly downloaded...\n",
      "\n",
      "15:13:55.387 | \u001b[36mINFO\u001b[0m    | Task run 'ingest_files-0' - Task 0: The download progress for file DCS_04_S1A_20231121072204051312_ch2_DSDB_00046.raw is IN_PROGRESS\n",
      "15:13:56.408 | \u001b[36mINFO\u001b[0m    | Task run 'ingest_files-0' - Task 0: File DCS_04_S1A_20231121072204051312_ch2_DSDB_00046.raw has been properly downloaded...\n",
      "\n",
      "15:13:56.572 | \u001b[36mINFO\u001b[0m    | Task run 'ingest_files-0' - Task 0: The download progress for file DCS_04_S1A_20231121072204051312_ch2_DSDB_00060.raw is IN_PROGRESS\n",
      "15:13:57.593 | \u001b[36mINFO\u001b[0m    | Task run 'ingest_files-0' - Task 0: File DCS_04_S1A_20231121072204051312_ch2_DSDB_00060.raw has been properly downloaded...\n",
      "\n",
      "15:13:57.614 | \u001b[36mINFO\u001b[0m    | Task run 'ingest_files-0' - Finished in state \u001b[32mCompleted\u001b[0m()\n"
     ]
    },
    {
     "data": {
      "text/html": [
       "<pre style=\"white-space:pre;overflow-x:auto;line-height:normal;font-family:Menlo,'DejaVu Sans Mono',consolas,'Courier New',monospace\">15:13:57.643 | <span style=\"color: #008080; text-decoration-color: #008080\">INFO</span>    | distributed.scheduler - Remove client Client-a2a1c9d0-d002-11ee-8647-0242c0a8c010\n",
       "</pre>\n"
      ],
      "text/plain": [
       "15:13:57.643 | \u001b[36mINFO\u001b[0m    | distributed.scheduler - Remove client Client-a2a1c9d0-d002-11ee-8647-0242c0a8c010\n"
      ]
     },
     "metadata": {},
     "output_type": "display_data"
    },
    {
     "data": {
      "text/html": [
       "<pre style=\"white-space:pre;overflow-x:auto;line-height:normal;font-family:Menlo,'DejaVu Sans Mono',consolas,'Courier New',monospace\">15:13:57.644 | <span style=\"color: #008080; text-decoration-color: #008080\">INFO</span>    | distributed.core - Received 'close-stream' from tcp://127.0.0.1:51746; closing.\n",
       "</pre>\n"
      ],
      "text/plain": [
       "15:13:57.644 | \u001b[36mINFO\u001b[0m    | distributed.core - Received 'close-stream' from tcp://127.0.0.1:51746; closing.\n"
      ]
     },
     "metadata": {},
     "output_type": "display_data"
    },
    {
     "data": {
      "text/html": [
       "<pre style=\"white-space:pre;overflow-x:auto;line-height:normal;font-family:Menlo,'DejaVu Sans Mono',consolas,'Courier New',monospace\">15:13:57.645 | <span style=\"color: #008080; text-decoration-color: #008080\">INFO</span>    | distributed.scheduler - Remove client Client-a2a1c9d0-d002-11ee-8647-0242c0a8c010\n",
       "</pre>\n"
      ],
      "text/plain": [
       "15:13:57.645 | \u001b[36mINFO\u001b[0m    | distributed.scheduler - Remove client Client-a2a1c9d0-d002-11ee-8647-0242c0a8c010\n"
      ]
     },
     "metadata": {},
     "output_type": "display_data"
    },
    {
     "data": {
      "text/html": [
       "<pre style=\"white-space:pre;overflow-x:auto;line-height:normal;font-family:Menlo,'DejaVu Sans Mono',consolas,'Courier New',monospace\">15:13:57.646 | <span style=\"color: #008080; text-decoration-color: #008080\">INFO</span>    | distributed.scheduler - Close client connection: Client-a2a1c9d0-d002-11ee-8647-0242c0a8c010\n",
       "</pre>\n"
      ],
      "text/plain": [
       "15:13:57.646 | \u001b[36mINFO\u001b[0m    | distributed.scheduler - Close client connection: Client-a2a1c9d0-d002-11ee-8647-0242c0a8c010\n"
      ]
     },
     "metadata": {},
     "output_type": "display_data"
    },
    {
     "data": {
      "text/html": [
       "<pre style=\"white-space:pre;overflow-x:auto;line-height:normal;font-family:Menlo,'DejaVu Sans Mono',consolas,'Courier New',monospace\">15:13:57.648 | <span style=\"color: #008080; text-decoration-color: #008080\">INFO</span>    | distributed.nanny - Closing Nanny at 'tcp://127.0.0.1:40757'. Reason: nanny-close\n",
       "</pre>\n"
      ],
      "text/plain": [
       "15:13:57.648 | \u001b[36mINFO\u001b[0m    | distributed.nanny - Closing Nanny at 'tcp://127.0.0.1:40757'. Reason: nanny-close\n"
      ]
     },
     "metadata": {},
     "output_type": "display_data"
    },
    {
     "data": {
      "text/html": [
       "<pre style=\"white-space:pre;overflow-x:auto;line-height:normal;font-family:Menlo,'DejaVu Sans Mono',consolas,'Courier New',monospace\">15:13:57.648 | <span style=\"color: #008080; text-decoration-color: #008080\">INFO</span>    | distributed.nanny - Nanny asking worker to close. Reason: nanny-close\n",
       "</pre>\n"
      ],
      "text/plain": [
       "15:13:57.648 | \u001b[36mINFO\u001b[0m    | distributed.nanny - Nanny asking worker to close. Reason: nanny-close\n"
      ]
     },
     "metadata": {},
     "output_type": "display_data"
    },
    {
     "data": {
      "text/html": [
       "<pre style=\"white-space:pre;overflow-x:auto;line-height:normal;font-family:Menlo,'DejaVu Sans Mono',consolas,'Courier New',monospace\">15:13:57.649 | <span style=\"color: #008080; text-decoration-color: #008080\">INFO</span>    | distributed.nanny - Closing Nanny at 'tcp://127.0.0.1:44397'. Reason: nanny-close\n",
       "</pre>\n"
      ],
      "text/plain": [
       "15:13:57.649 | \u001b[36mINFO\u001b[0m    | distributed.nanny - Closing Nanny at 'tcp://127.0.0.1:44397'. Reason: nanny-close\n"
      ]
     },
     "metadata": {},
     "output_type": "display_data"
    },
    {
     "data": {
      "text/html": [
       "<pre style=\"white-space:pre;overflow-x:auto;line-height:normal;font-family:Menlo,'DejaVu Sans Mono',consolas,'Courier New',monospace\">15:13:57.650 | <span style=\"color: #008080; text-decoration-color: #008080\">INFO</span>    | distributed.nanny - Nanny asking worker to close. Reason: nanny-close\n",
       "</pre>\n"
      ],
      "text/plain": [
       "15:13:57.650 | \u001b[36mINFO\u001b[0m    | distributed.nanny - Nanny asking worker to close. Reason: nanny-close\n"
      ]
     },
     "metadata": {},
     "output_type": "display_data"
    },
    {
     "data": {
      "text/html": [
       "<pre style=\"white-space:pre;overflow-x:auto;line-height:normal;font-family:Menlo,'DejaVu Sans Mono',consolas,'Courier New',monospace\">15:13:57.650 | <span style=\"color: #008080; text-decoration-color: #008080\">INFO</span>    | distributed.nanny - Closing Nanny at 'tcp://127.0.0.1:33609'. Reason: nanny-close\n",
       "</pre>\n"
      ],
      "text/plain": [
       "15:13:57.650 | \u001b[36mINFO\u001b[0m    | distributed.nanny - Closing Nanny at 'tcp://127.0.0.1:33609'. Reason: nanny-close\n"
      ]
     },
     "metadata": {},
     "output_type": "display_data"
    },
    {
     "data": {
      "text/html": [
       "<pre style=\"white-space:pre;overflow-x:auto;line-height:normal;font-family:Menlo,'DejaVu Sans Mono',consolas,'Courier New',monospace\">15:13:57.651 | <span style=\"color: #008080; text-decoration-color: #008080\">INFO</span>    | distributed.nanny - Nanny asking worker to close. Reason: nanny-close\n",
       "</pre>\n"
      ],
      "text/plain": [
       "15:13:57.651 | \u001b[36mINFO\u001b[0m    | distributed.nanny - Nanny asking worker to close. Reason: nanny-close\n"
      ]
     },
     "metadata": {},
     "output_type": "display_data"
    },
    {
     "data": {
      "text/html": [
       "<pre style=\"white-space:pre;overflow-x:auto;line-height:normal;font-family:Menlo,'DejaVu Sans Mono',consolas,'Courier New',monospace\">15:13:57.652 | <span style=\"color: #008080; text-decoration-color: #008080\">INFO</span>    | distributed.nanny - Closing Nanny at 'tcp://127.0.0.1:37681'. Reason: nanny-close\n",
       "</pre>\n"
      ],
      "text/plain": [
       "15:13:57.652 | \u001b[36mINFO\u001b[0m    | distributed.nanny - Closing Nanny at 'tcp://127.0.0.1:37681'. Reason: nanny-close\n"
      ]
     },
     "metadata": {},
     "output_type": "display_data"
    },
    {
     "name": "stdout",
     "output_type": "stream",
     "text": [
      "Endpoint to be used to insert the item info  within the catalog: http://rs-server-cadip:8000/catalog/DemoUser/collections/s1/items/{'stac_version': '1.0.0', 'stac_extensions': ['https://stac-extensions.github.io/file/v2.1.0/schema.json'], 'type': 'Feature', 'id': 'DCS_04_S1A_20231121072204051312_ch1_DSDB_00001.raw', 'geometry': None, 'properties': {'datetime': '2023-11-26T17:01:39.528Z', 'eviction_datetime': '2023-12-03T17:01:00Z', 'cadip:id': '2b17b57d-fff4-4645-b539-91f305c27c69', 'cadip:retransfer': False, 'cadip:final_block': False, 'cadip:block_number': 1, 'cadip:channel': 1, 'cadip:session_id': 'some_session_id'}, 'links': [], 'assets': {'file': {'file:size': 36}}}\n",
      "Endpoint to be used to insert the item info  within the catalog: http://rs-server-cadip:8000/catalog/DemoUser/collections/s1/items/{'stac_version': '1.0.0', 'stac_extensions': ['https://stac-extensions.github.io/file/v2.1.0/schema.json'], 'type': 'Feature', 'id': 'DCS_04_S1A_20231121072204051312_ch1_DSDB_00002.raw', 'g"
     ]
    },
    {
     "data": {
      "text/html": [
       "<pre style=\"white-space:pre;overflow-x:auto;line-height:normal;font-family:Menlo,'DejaVu Sans Mono',consolas,'Courier New',monospace\">15:13:57.653 | <span style=\"color: #008080; text-decoration-color: #008080\">INFO</span>    | distributed.nanny - Nanny asking worker to close. Reason: nanny-close\n",
       "</pre>\n"
      ],
      "text/plain": [
       "15:13:57.653 | \u001b[36mINFO\u001b[0m    | distributed.nanny - Nanny asking worker to close. Reason: nanny-close\n"
      ]
     },
     "metadata": {},
     "output_type": "display_data"
    },
    {
     "name": "stdout",
     "output_type": "stream",
     "text": [
      "eometry': None, 'properties': {'datetime': '2023-11-26T17:01:39.528Z', 'eviction_datetime': '2023-12-03T17:01:00Z', 'cadip:id': '2b17b57d-fff4-4645-b539-91f305c27c60', 'cadip:retransfer': False, 'cadip:final_block': False, 'cadip:block_number': 1, 'cadip:channel': 1, 'cadip:session_id': 'some_session_id'}, 'links': [], 'assets': {'file': {'file:size': 36}}}\n",
      "Endpoint to be used to insert the item info  within the catalog: http://rs-server-cadip:8000/catalog/DemoUser/collections/s1/items/{'stac_version': '1.0.0', 'stac_extensions': ['https://stac-extensions.github.io/file/v2.1.0/schema.json'], 'type': 'Feature', 'id': 'DCS_04_S1A_20231121072204051312_ch1_DSDB_00003.raw', 'geometry': None, 'properties': {'datetime': '2023-11-26T17:01:39.528Z', 'eviction_datetime': '2023-12-03T17:01:00Z', 'cadip:id': '2b17b57d-fff4-4645-b539-91f305c27c61', 'cadip:retransfer': False, 'cadip:final_block': False, 'cadip:block_number': 1, 'cadip:channel': 1, 'cadip:session_id': 'some_session_id'}, 'links': [], 'assets': {'file': {'file:size': 36}}}\n",
      "Endpoint to be used to insert the item info  within the catalog: http://rs-server-cadip:8000/catalog/DemoUser/collections/s1/items/{'stac_version': '1.0.0', 'stac_extensions': ['https://stac-extensions.github.io/file/v2.1.0/schema.json'], 'type': 'Feature', 'id': 'DCS_04_S1A_20231121072204051312_ch1_DSDB_00004.raw', 'geometry': None, 'properties': {'datetime': '2023-11-26T17:01:39.528Z', 'eviction_datetime': '2023-12-03T17:01:00Z', 'cadip:id': '2b17b57d-fff4-4645-b539-91f305c27c62', 'cadip:retransfer': False, 'cadip:final_block': False, 'cadip:block_number': 1, 'cadip:channel': 1, 'cadip:session_id': 'some_session_id'}, 'links': [], 'assets': {'file': {'file:size': 36}}}\n",
      "Endpoint to be used to insert the item info  within the catalog: http://rs-server-cadip:8000/catalog/DemoUser/collections/s1/items/{'stac_version': '1.0.0', 'stac_extensions': ['https://stac-extensions.github.io/file/v2.1.0/schema.json'], 'type': 'Feature', 'id': 'DCS_04_S1A_20231121072204051312_ch1_DSDB_00005.raw', 'geometry': None, 'properties': {'datetime': '2023-11-26T17:01:39.528Z', 'eviction_datetime': '2023-12-03T17:01:00Z', 'cadip:id': '2b17b57d-fff4-4645-b539-91f305c27c63', 'cadip:retransfer': False, 'cadip:final_block': False, 'cadip:block_number': 1, 'cadip:channel': 1, 'cadip:session_id': 'some_session_id'}, 'links': [], 'assets': {'file': {'file:size': 36}}}\n",
      "Endpoint to be used to insert the item info  within the catalog: http://rs-server-cadip:8000/catalog/DemoUser/collections/s1/items/{'stac_version': '1.0.0', 'stac_extensions': ['https://stac-extensions.github.io/file/v2.1.0/schema.json'], 'type': 'Feature', 'id': 'DCS_04_S1A_20231121072204051312_ch1_DSDB_00006.raw', 'geometry': None, 'properties': {'datetime': '2023-11-26T17:01:39.528Z', 'eviction_datetime': '2023-12-03T17:01:00Z', 'cadip:id': '2b17b57d-fff4-4645-b539-91f305c27c64', 'cadip:retransfer': False, 'cadip:final_block': False, 'cadip:block_number': 1, 'cadip:channel': 1, 'cadip:session_id': 'some_session_id'}, 'links': [], 'assets': {'file': {'file:size': 36}}}\n",
      "Endpoint to be used to insert the item info  within the catalog: http://rs-server-cadip:8000/catalog/DemoUser/collections/s1/items/{'stac_version': '1.0.0', 'stac_extensions': ['https://stac-extensions.github.io/file/v2.1.0/schema.json'], 'type': 'Feature', 'id': 'DCS_04_S1A_20231121072204051312_ch1_DSDB_00007.raw', 'geometry': None, 'properties': {'datetime': '2023-11-26T17:01:39.528Z', 'eviction_datetime': '2023-12-03T17:01:00Z', 'cadip:id': '2b17b57d-fff4-4645-b539-91f305c27c65', 'cadip:retransfer': False, 'cadip:final_block': False, 'cadip:block_number': 1, 'cadip:channel': 1, 'cadip:session_id': 'some_session_id'}, 'links': [], 'assets': {'file': {'file:size': 36}}}\n",
      "Endpoint to be used to insert the item info  within the catalog: http://rs-server-cadip:8000/catalog/DemoUser/collections/s1/items/{'stac_version': '1.0.0', 'stac_extensions': ['https://stac-extensions.github.io/file/v2.1.0/schema.json'], 'type': 'Feature', 'id': 'DCS_04_S1A_20231121072204051312_ch1_DSDB_00060.raw', 'geometry': None, 'properties': {'datetime': '2023-11-26T17:01:39.528Z', 'eviction_datetime': '2023-12-03T17:01:00Z', 'cadip:id': 'some_id_2', 'cadip:retransfer': False, 'cadip:final_block': True, 'cadip:block_number': 60, 'cadip:channel': 1, 'cadip:session_id': 'some_session_id2'}, 'links': [], 'assets': {'file': {'file:size': 22}}}\n",
      "Endpoint to be used to insert the item info  within the catalog: http://rs-server-cadip:8000/catalog/DemoUser/collections/s1/items/{'stac_version': '1.0.0', 'stac_extensions': ['https://stac-extensions.github.io/file/v2.1.0/schema.json'], 'type': 'Feature', 'id': 'DCS_04_S1A_20231121072204051312_ch2_DSDB_00046.raw', 'geometry': None, 'properties': {'datetime': '2023-11-26T15:20:21.433Z', 'eviction_datetime': '2023-12-03T15:20:00Z', 'cadip:id': 'some_id_3', 'cadip:retransfer': False, 'cadip:final_block': False, 'cadip:block_number': 46, 'cadip:channel': 2, 'cadip:session_id': 'some_session_id3'}, 'links': [], 'assets': {'file': {'file:size': 12}}}\n",
      "Endpoint to be used to insert the item info  within the catalog: http://rs-server-cadip:8000/catalog/DemoUser/collections/s1/items/{'stac_version': '1.0.0', 'stac_extensions': ['https://stac-extensions.github.io/file/v2.1.0/schema.json'], 'type': 'Feature', 'id': 'DCS_04_S1A_20231121072204051312_ch2_DSDB_00060.raw', 'geometry': None, 'properties': {'datetime': '2023-11-26T15:25:19.327Z', 'eviction_datetime': '2023-12-03T15:25:00Z', 'cadip:id': 'some_id_4', 'cadip:retransfer': False, 'cadip:final_block': True, 'cadip:block_number': 60, 'cadip:channel': 2, 'cadip:session_id': 'some_session_id4'}, 'links': [], 'assets': {'file': {'file:size': 28}}}\n"
     ]
    },
    {
     "data": {
      "text/html": [
       "<pre style=\"white-space:pre;overflow-x:auto;line-height:normal;font-family:Menlo,'DejaVu Sans Mono',consolas,'Courier New',monospace\">15:13:57.655 | <span style=\"color: #008080; text-decoration-color: #008080\">INFO</span>    | distributed.core - Received 'close-stream' from tcp://127.0.0.1:51712; closing.\n",
       "</pre>\n"
      ],
      "text/plain": [
       "15:13:57.655 | \u001b[36mINFO\u001b[0m    | distributed.core - Received 'close-stream' from tcp://127.0.0.1:51712; closing.\n"
      ]
     },
     "metadata": {},
     "output_type": "display_data"
    },
    {
     "data": {
      "text/html": [
       "<pre style=\"white-space:pre;overflow-x:auto;line-height:normal;font-family:Menlo,'DejaVu Sans Mono',consolas,'Courier New',monospace\">15:13:57.657 | <span style=\"color: #008080; text-decoration-color: #008080\">INFO</span>    | distributed.core - Received 'close-stream' from tcp://127.0.0.1:51736; closing.\n",
       "</pre>\n"
      ],
      "text/plain": [
       "15:13:57.657 | \u001b[36mINFO\u001b[0m    | distributed.core - Received 'close-stream' from tcp://127.0.0.1:51736; closing.\n"
      ]
     },
     "metadata": {},
     "output_type": "display_data"
    },
    {
     "data": {
      "text/html": [
       "<pre style=\"white-space:pre;overflow-x:auto;line-height:normal;font-family:Menlo,'DejaVu Sans Mono',consolas,'Courier New',monospace\">15:13:57.658 | <span style=\"color: #008080; text-decoration-color: #008080\">INFO</span>    | distributed.core - Received 'close-stream' from tcp://127.0.0.1:51722; closing.\n",
       "</pre>\n"
      ],
      "text/plain": [
       "15:13:57.658 | \u001b[36mINFO\u001b[0m    | distributed.core - Received 'close-stream' from tcp://127.0.0.1:51722; closing.\n"
      ]
     },
     "metadata": {},
     "output_type": "display_data"
    },
    {
     "data": {
      "text/html": [
       "<pre style=\"white-space:pre;overflow-x:auto;line-height:normal;font-family:Menlo,'DejaVu Sans Mono',consolas,'Courier New',monospace\">15:13:57.659 | <span style=\"color: #008080; text-decoration-color: #008080\">INFO</span>    | distributed.scheduler - Remove worker &lt;WorkerState 'tcp://127.0.0.1:36873', name: 0, status: closing, memory: 0, processing: 0&gt; (stimulus_id='handle-worker-cleanup-1708442037.6592767')\n",
       "</pre>\n"
      ],
      "text/plain": [
       "15:13:57.659 | \u001b[36mINFO\u001b[0m    | distributed.scheduler - Remove worker <WorkerState 'tcp://127.0.0.1:36873', name: 0, status: closing, memory: 0, processing: 0> (stimulus_id='handle-worker-cleanup-1708442037.6592767')\n"
      ]
     },
     "metadata": {},
     "output_type": "display_data"
    },
    {
     "data": {
      "text/html": [
       "<pre style=\"white-space:pre;overflow-x:auto;line-height:normal;font-family:Menlo,'DejaVu Sans Mono',consolas,'Courier New',monospace\">15:13:57.660 | <span style=\"color: #008080; text-decoration-color: #008080\">INFO</span>    | distributed.scheduler - Remove worker &lt;WorkerState 'tcp://127.0.0.1:42183', name: 1, status: closing, memory: 0, processing: 0&gt; (stimulus_id='handle-worker-cleanup-1708442037.6604297')\n",
       "</pre>\n"
      ],
      "text/plain": [
       "15:13:57.660 | \u001b[36mINFO\u001b[0m    | distributed.scheduler - Remove worker <WorkerState 'tcp://127.0.0.1:42183', name: 1, status: closing, memory: 0, processing: 0> (stimulus_id='handle-worker-cleanup-1708442037.6604297')\n"
      ]
     },
     "metadata": {},
     "output_type": "display_data"
    },
    {
     "data": {
      "text/html": [
       "<pre style=\"white-space:pre;overflow-x:auto;line-height:normal;font-family:Menlo,'DejaVu Sans Mono',consolas,'Courier New',monospace\">15:13:57.661 | <span style=\"color: #008080; text-decoration-color: #008080\">INFO</span>    | distributed.scheduler - Remove worker &lt;WorkerState 'tcp://127.0.0.1:36879', name: 2, status: closing, memory: 0, processing: 0&gt; (stimulus_id='handle-worker-cleanup-1708442037.6615658')\n",
       "</pre>\n"
      ],
      "text/plain": [
       "15:13:57.661 | \u001b[36mINFO\u001b[0m    | distributed.scheduler - Remove worker <WorkerState 'tcp://127.0.0.1:36879', name: 2, status: closing, memory: 0, processing: 0> (stimulus_id='handle-worker-cleanup-1708442037.6615658')\n"
      ]
     },
     "metadata": {},
     "output_type": "display_data"
    },
    {
     "data": {
      "text/html": [
       "<pre style=\"white-space:pre;overflow-x:auto;line-height:normal;font-family:Menlo,'DejaVu Sans Mono',consolas,'Courier New',monospace\">15:13:57.663 | <span style=\"color: #008080; text-decoration-color: #008080\">INFO</span>    | distributed.core - Received 'close-stream' from tcp://127.0.0.1:51744; closing.\n",
       "</pre>\n"
      ],
      "text/plain": [
       "15:13:57.663 | \u001b[36mINFO\u001b[0m    | distributed.core - Received 'close-stream' from tcp://127.0.0.1:51744; closing.\n"
      ]
     },
     "metadata": {},
     "output_type": "display_data"
    },
    {
     "data": {
      "text/html": [
       "<pre style=\"white-space:pre;overflow-x:auto;line-height:normal;font-family:Menlo,'DejaVu Sans Mono',consolas,'Courier New',monospace\">15:13:57.664 | <span style=\"color: #008080; text-decoration-color: #008080\">INFO</span>    | distributed.scheduler - Remove worker &lt;WorkerState 'tcp://127.0.0.1:40401', name: 3, status: closing, memory: 0, processing: 0&gt; (stimulus_id='handle-worker-cleanup-1708442037.664417')\n",
       "</pre>\n"
      ],
      "text/plain": [
       "15:13:57.664 | \u001b[36mINFO\u001b[0m    | distributed.scheduler - Remove worker <WorkerState 'tcp://127.0.0.1:40401', name: 3, status: closing, memory: 0, processing: 0> (stimulus_id='handle-worker-cleanup-1708442037.664417')\n"
      ]
     },
     "metadata": {},
     "output_type": "display_data"
    },
    {
     "data": {
      "text/html": [
       "<pre style=\"white-space:pre;overflow-x:auto;line-height:normal;font-family:Menlo,'DejaVu Sans Mono',consolas,'Courier New',monospace\">15:13:57.665 | <span style=\"color: #008080; text-decoration-color: #008080\">INFO</span>    | distributed.scheduler - Lost all workers\n",
       "</pre>\n"
      ],
      "text/plain": [
       "15:13:57.665 | \u001b[36mINFO\u001b[0m    | distributed.scheduler - Lost all workers\n"
      ]
     },
     "metadata": {},
     "output_type": "display_data"
    },
    {
     "data": {
      "text/html": [
       "<pre style=\"white-space:pre;overflow-x:auto;line-height:normal;font-family:Menlo,'DejaVu Sans Mono',consolas,'Courier New',monospace\">15:13:58.147 | <span style=\"color: #008080; text-decoration-color: #008080\">INFO</span>    | distributed.scheduler - Scheduler closing due to unknown reason...\n",
       "</pre>\n"
      ],
      "text/plain": [
       "15:13:58.147 | \u001b[36mINFO\u001b[0m    | distributed.scheduler - Scheduler closing due to unknown reason...\n"
      ]
     },
     "metadata": {},
     "output_type": "display_data"
    },
    {
     "data": {
      "text/html": [
       "<pre style=\"white-space:pre;overflow-x:auto;line-height:normal;font-family:Menlo,'DejaVu Sans Mono',consolas,'Courier New',monospace\">15:13:58.148 | <span style=\"color: #008080; text-decoration-color: #008080\">INFO</span>    | distributed.scheduler - Scheduler closing all comms\n",
       "</pre>\n"
      ],
      "text/plain": [
       "15:13:58.148 | \u001b[36mINFO\u001b[0m    | distributed.scheduler - Scheduler closing all comms\n"
      ]
     },
     "metadata": {},
     "output_type": "display_data"
    },
    {
     "data": {
      "text/html": [
       "<pre style=\"white-space:pre;overflow-x:auto;line-height:normal;font-family:Menlo,'DejaVu Sans Mono',consolas,'Courier New',monospace\">15:13:58.149 | <span style=\"color: #008080; text-decoration-color: #008080\">INFO</span>    | Flow run<span style=\"color: #800080; text-decoration-color: #800080\"> 'archetypal-bustard'</span> - Finished in state <span style=\"color: #008000; text-decoration-color: #008000\">Completed</span>()\n",
       "</pre>\n"
      ],
      "text/plain": [
       "15:13:58.149 | \u001b[36mINFO\u001b[0m    | Flow run\u001b[35m 'archetypal-bustard'\u001b[0m - Finished in state \u001b[32mCompleted\u001b[0m()\n"
      ]
     },
     "metadata": {},
     "output_type": "display_data"
    },
    {
     "name": "stderr",
     "output_type": "stream",
     "text": [
      "15:13:58.165 | ERROR   | MainThread   | prefect._internal.concurrency - Detected unsafe call to `from_sync` from thread with event loop. Use `await greenback.ensure_portal()` to allow call to run without blocking the event loop.\n"
     ]
    },
    {
     "data": {
      "text/html": [
       "<pre style=\"white-space:pre;overflow-x:auto;line-height:normal;font-family:Menlo,'DejaVu Sans Mono',consolas,'Courier New',monospace\">15:13:58.201 | <span style=\"color: #008080; text-decoration-color: #008080\">INFO</span>    | prefect.engine - Created flow run<span style=\"color: #800080; text-decoration-color: #800080\"> 'mustard-crab'</span> for flow<span style=\"color: #800080; text-decoration-color: #800080; font-weight: bold\"> 'download-flow'</span>\n",
       "</pre>\n"
      ],
      "text/plain": [
       "15:13:58.201 | \u001b[36mINFO\u001b[0m    | prefect.engine - Created flow run\u001b[35m 'mustard-crab'\u001b[0m for flow\u001b[1;35m 'download-flow'\u001b[0m\n"
      ]
     },
     "metadata": {},
     "output_type": "display_data"
    },
    {
     "data": {
      "text/html": [
       "<pre style=\"white-space:pre;overflow-x:auto;line-height:normal;font-family:Menlo,'DejaVu Sans Mono',consolas,'Courier New',monospace\">15:13:58.202 | <span style=\"color: #008080; text-decoration-color: #008080\">INFO</span>    | Flow run<span style=\"color: #800080; text-decoration-color: #800080\"> 'mustard-crab'</span> - View at <span style=\"color: #0000ff; text-decoration-color: #0000ff\">http://prefect-server:4200/flow-runs/flow-run/dbaafc5f-00a6-4eff-853a-990b9733ff42</span>\n",
       "</pre>\n"
      ],
      "text/plain": [
       "15:13:58.202 | \u001b[36mINFO\u001b[0m    | Flow run\u001b[35m 'mustard-crab'\u001b[0m - View at \u001b[94mhttp://prefect-server:4200/flow-runs/flow-run/dbaafc5f-00a6-4eff-853a-990b9733ff42\u001b[0m\n"
      ]
     },
     "metadata": {},
     "output_type": "display_data"
    },
    {
     "data": {
      "text/html": [
       "<pre style=\"white-space:pre;overflow-x:auto;line-height:normal;font-family:Menlo,'DejaVu Sans Mono',consolas,'Courier New',monospace\">15:13:58.203 | <span style=\"color: #008080; text-decoration-color: #008080\">INFO</span>    | prefect.task_runner.dask - Creating a new Dask cluster with `distributed.deploy.local.LocalCluster`\n",
       "</pre>\n"
      ],
      "text/plain": [
       "15:13:58.203 | \u001b[36mINFO\u001b[0m    | prefect.task_runner.dask - Creating a new Dask cluster with `distributed.deploy.local.LocalCluster`\n"
      ]
     },
     "metadata": {},
     "output_type": "display_data"
    },
    {
     "data": {
      "text/html": [
       "<pre style=\"white-space:pre;overflow-x:auto;line-height:normal;font-family:Menlo,'DejaVu Sans Mono',consolas,'Courier New',monospace\">15:13:58.205 | <span style=\"color: #008080; text-decoration-color: #008080\">INFO</span>    | distributed.scheduler - State start\n",
       "</pre>\n"
      ],
      "text/plain": [
       "15:13:58.205 | \u001b[36mINFO\u001b[0m    | distributed.scheduler - State start\n"
      ]
     },
     "metadata": {},
     "output_type": "display_data"
    },
    {
     "data": {
      "text/html": [
       "<pre style=\"white-space:pre;overflow-x:auto;line-height:normal;font-family:Menlo,'DejaVu Sans Mono',consolas,'Courier New',monospace\">15:13:58.209 | <span style=\"color: #008080; text-decoration-color: #008080\">INFO</span>    | distributed.scheduler -   Scheduler at:     tcp://127.0.0.1:36235\n",
       "</pre>\n"
      ],
      "text/plain": [
       "15:13:58.209 | \u001b[36mINFO\u001b[0m    | distributed.scheduler -   Scheduler at:     tcp://127.0.0.1:36235\n"
      ]
     },
     "metadata": {},
     "output_type": "display_data"
    },
    {
     "data": {
      "text/html": [
       "<pre style=\"white-space:pre;overflow-x:auto;line-height:normal;font-family:Menlo,'DejaVu Sans Mono',consolas,'Courier New',monospace\">15:13:58.209 | <span style=\"color: #008080; text-decoration-color: #008080\">INFO</span>    | distributed.scheduler -   dashboard at:  <span style=\"color: #0000ff; text-decoration-color: #0000ff\">http://127.0.0.1:8787/status</span>\n",
       "</pre>\n"
      ],
      "text/plain": [
       "15:13:58.209 | \u001b[36mINFO\u001b[0m    | distributed.scheduler -   dashboard at:  \u001b[94mhttp://127.0.0.1:8787/status\u001b[0m\n"
      ]
     },
     "metadata": {},
     "output_type": "display_data"
    },
    {
     "data": {
      "text/html": [
       "<pre style=\"white-space:pre;overflow-x:auto;line-height:normal;font-family:Menlo,'DejaVu Sans Mono',consolas,'Courier New',monospace\">15:13:58.210 | <span style=\"color: #008080; text-decoration-color: #008080\">INFO</span>    | distributed.scheduler - Registering Worker plugin shuffle\n",
       "</pre>\n"
      ],
      "text/plain": [
       "15:13:58.210 | \u001b[36mINFO\u001b[0m    | distributed.scheduler - Registering Worker plugin shuffle\n"
      ]
     },
     "metadata": {},
     "output_type": "display_data"
    },
    {
     "data": {
      "text/html": [
       "<pre style=\"white-space:pre;overflow-x:auto;line-height:normal;font-family:Menlo,'DejaVu Sans Mono',consolas,'Courier New',monospace\">15:13:58.223 | <span style=\"color: #008080; text-decoration-color: #008080\">INFO</span>    | distributed.nanny -         Start Nanny at: 'tcp://127.0.0.1:35083'\n",
       "</pre>\n"
      ],
      "text/plain": [
       "15:13:58.223 | \u001b[36mINFO\u001b[0m    | distributed.nanny -         Start Nanny at: 'tcp://127.0.0.1:35083'\n"
      ]
     },
     "metadata": {},
     "output_type": "display_data"
    },
    {
     "data": {
      "text/html": [
       "<pre style=\"white-space:pre;overflow-x:auto;line-height:normal;font-family:Menlo,'DejaVu Sans Mono',consolas,'Courier New',monospace\">15:13:58.225 | <span style=\"color: #008080; text-decoration-color: #008080\">INFO</span>    | distributed.nanny -         Start Nanny at: 'tcp://127.0.0.1:46589'\n",
       "</pre>\n"
      ],
      "text/plain": [
       "15:13:58.225 | \u001b[36mINFO\u001b[0m    | distributed.nanny -         Start Nanny at: 'tcp://127.0.0.1:46589'\n"
      ]
     },
     "metadata": {},
     "output_type": "display_data"
    },
    {
     "data": {
      "text/html": [
       "<pre style=\"white-space:pre;overflow-x:auto;line-height:normal;font-family:Menlo,'DejaVu Sans Mono',consolas,'Courier New',monospace\">15:13:58.228 | <span style=\"color: #008080; text-decoration-color: #008080\">INFO</span>    | distributed.nanny -         Start Nanny at: 'tcp://127.0.0.1:34083'\n",
       "</pre>\n"
      ],
      "text/plain": [
       "15:13:58.228 | \u001b[36mINFO\u001b[0m    | distributed.nanny -         Start Nanny at: 'tcp://127.0.0.1:34083'\n"
      ]
     },
     "metadata": {},
     "output_type": "display_data"
    },
    {
     "data": {
      "text/html": [
       "<pre style=\"white-space:pre;overflow-x:auto;line-height:normal;font-family:Menlo,'DejaVu Sans Mono',consolas,'Courier New',monospace\">15:13:58.231 | <span style=\"color: #008080; text-decoration-color: #008080\">INFO</span>    | distributed.nanny -         Start Nanny at: 'tcp://127.0.0.1:33687'\n",
       "</pre>\n"
      ],
      "text/plain": [
       "15:13:58.231 | \u001b[36mINFO\u001b[0m    | distributed.nanny -         Start Nanny at: 'tcp://127.0.0.1:33687'\n"
      ]
     },
     "metadata": {},
     "output_type": "display_data"
    },
    {
     "data": {
      "text/html": [
       "<pre style=\"white-space:pre;overflow-x:auto;line-height:normal;font-family:Menlo,'DejaVu Sans Mono',consolas,'Courier New',monospace\">15:13:58.592 | <span style=\"color: #008080; text-decoration-color: #008080\">INFO</span>    | distributed.scheduler - Register worker &lt;WorkerState 'tcp://127.0.0.1:44199', name: 0, status: init, memory: 0, processing: 0&gt;\n",
       "</pre>\n"
      ],
      "text/plain": [
       "15:13:58.592 | \u001b[36mINFO\u001b[0m    | distributed.scheduler - Register worker <WorkerState 'tcp://127.0.0.1:44199', name: 0, status: init, memory: 0, processing: 0>\n"
      ]
     },
     "metadata": {},
     "output_type": "display_data"
    },
    {
     "data": {
      "text/html": [
       "<pre style=\"white-space:pre;overflow-x:auto;line-height:normal;font-family:Menlo,'DejaVu Sans Mono',consolas,'Courier New',monospace\">15:13:58.593 | <span style=\"color: #008080; text-decoration-color: #008080\">INFO</span>    | distributed.scheduler - Starting worker compute stream, tcp://127.0.0.1:44199\n",
       "</pre>\n"
      ],
      "text/plain": [
       "15:13:58.593 | \u001b[36mINFO\u001b[0m    | distributed.scheduler - Starting worker compute stream, tcp://127.0.0.1:44199\n"
      ]
     },
     "metadata": {},
     "output_type": "display_data"
    },
    {
     "data": {
      "text/html": [
       "<pre style=\"white-space:pre;overflow-x:auto;line-height:normal;font-family:Menlo,'DejaVu Sans Mono',consolas,'Courier New',monospace\">15:13:58.594 | <span style=\"color: #008080; text-decoration-color: #008080\">INFO</span>    | distributed.core - Starting established connection to tcp://127.0.0.1:54940\n",
       "</pre>\n"
      ],
      "text/plain": [
       "15:13:58.594 | \u001b[36mINFO\u001b[0m    | distributed.core - Starting established connection to tcp://127.0.0.1:54940\n"
      ]
     },
     "metadata": {},
     "output_type": "display_data"
    },
    {
     "data": {
      "text/html": [
       "<pre style=\"white-space:pre;overflow-x:auto;line-height:normal;font-family:Menlo,'DejaVu Sans Mono',consolas,'Courier New',monospace\">15:13:58.601 | <span style=\"color: #008080; text-decoration-color: #008080\">INFO</span>    | distributed.scheduler - Register worker &lt;WorkerState 'tcp://127.0.0.1:40821', name: 1, status: init, memory: 0, processing: 0&gt;\n",
       "</pre>\n"
      ],
      "text/plain": [
       "15:13:58.601 | \u001b[36mINFO\u001b[0m    | distributed.scheduler - Register worker <WorkerState 'tcp://127.0.0.1:40821', name: 1, status: init, memory: 0, processing: 0>\n"
      ]
     },
     "metadata": {},
     "output_type": "display_data"
    },
    {
     "data": {
      "text/html": [
       "<pre style=\"white-space:pre;overflow-x:auto;line-height:normal;font-family:Menlo,'DejaVu Sans Mono',consolas,'Courier New',monospace\">15:13:58.602 | <span style=\"color: #008080; text-decoration-color: #008080\">INFO</span>    | distributed.scheduler - Starting worker compute stream, tcp://127.0.0.1:40821\n",
       "</pre>\n"
      ],
      "text/plain": [
       "15:13:58.602 | \u001b[36mINFO\u001b[0m    | distributed.scheduler - Starting worker compute stream, tcp://127.0.0.1:40821\n"
      ]
     },
     "metadata": {},
     "output_type": "display_data"
    },
    {
     "data": {
      "text/html": [
       "<pre style=\"white-space:pre;overflow-x:auto;line-height:normal;font-family:Menlo,'DejaVu Sans Mono',consolas,'Courier New',monospace\">15:13:58.603 | <span style=\"color: #008080; text-decoration-color: #008080\">INFO</span>    | distributed.core - Starting established connection to tcp://127.0.0.1:54948\n",
       "</pre>\n"
      ],
      "text/plain": [
       "15:13:58.603 | \u001b[36mINFO\u001b[0m    | distributed.core - Starting established connection to tcp://127.0.0.1:54948\n"
      ]
     },
     "metadata": {},
     "output_type": "display_data"
    },
    {
     "data": {
      "text/html": [
       "<pre style=\"white-space:pre;overflow-x:auto;line-height:normal;font-family:Menlo,'DejaVu Sans Mono',consolas,'Courier New',monospace\">15:13:58.628 | <span style=\"color: #008080; text-decoration-color: #008080\">INFO</span>    | distributed.scheduler - Register worker &lt;WorkerState 'tcp://127.0.0.1:46507', name: 2, status: init, memory: 0, processing: 0&gt;\n",
       "</pre>\n"
      ],
      "text/plain": [
       "15:13:58.628 | \u001b[36mINFO\u001b[0m    | distributed.scheduler - Register worker <WorkerState 'tcp://127.0.0.1:46507', name: 2, status: init, memory: 0, processing: 0>\n"
      ]
     },
     "metadata": {},
     "output_type": "display_data"
    },
    {
     "data": {
      "text/html": [
       "<pre style=\"white-space:pre;overflow-x:auto;line-height:normal;font-family:Menlo,'DejaVu Sans Mono',consolas,'Courier New',monospace\">15:13:58.629 | <span style=\"color: #008080; text-decoration-color: #008080\">INFO</span>    | distributed.scheduler - Starting worker compute stream, tcp://127.0.0.1:46507\n",
       "</pre>\n"
      ],
      "text/plain": [
       "15:13:58.629 | \u001b[36mINFO\u001b[0m    | distributed.scheduler - Starting worker compute stream, tcp://127.0.0.1:46507\n"
      ]
     },
     "metadata": {},
     "output_type": "display_data"
    },
    {
     "data": {
      "text/html": [
       "<pre style=\"white-space:pre;overflow-x:auto;line-height:normal;font-family:Menlo,'DejaVu Sans Mono',consolas,'Courier New',monospace\">15:13:58.630 | <span style=\"color: #008080; text-decoration-color: #008080\">INFO</span>    | distributed.core - Starting established connection to tcp://127.0.0.1:54960\n",
       "</pre>\n"
      ],
      "text/plain": [
       "15:13:58.630 | \u001b[36mINFO\u001b[0m    | distributed.core - Starting established connection to tcp://127.0.0.1:54960\n"
      ]
     },
     "metadata": {},
     "output_type": "display_data"
    },
    {
     "data": {
      "text/html": [
       "<pre style=\"white-space:pre;overflow-x:auto;line-height:normal;font-family:Menlo,'DejaVu Sans Mono',consolas,'Courier New',monospace\">15:13:58.638 | <span style=\"color: #008080; text-decoration-color: #008080\">INFO</span>    | distributed.scheduler - Register worker &lt;WorkerState 'tcp://127.0.0.1:40221', name: 3, status: init, memory: 0, processing: 0&gt;\n",
       "</pre>\n"
      ],
      "text/plain": [
       "15:13:58.638 | \u001b[36mINFO\u001b[0m    | distributed.scheduler - Register worker <WorkerState 'tcp://127.0.0.1:40221', name: 3, status: init, memory: 0, processing: 0>\n"
      ]
     },
     "metadata": {},
     "output_type": "display_data"
    },
    {
     "data": {
      "text/html": [
       "<pre style=\"white-space:pre;overflow-x:auto;line-height:normal;font-family:Menlo,'DejaVu Sans Mono',consolas,'Courier New',monospace\">15:13:58.639 | <span style=\"color: #008080; text-decoration-color: #008080\">INFO</span>    | distributed.scheduler - Starting worker compute stream, tcp://127.0.0.1:40221\n",
       "</pre>\n"
      ],
      "text/plain": [
       "15:13:58.639 | \u001b[36mINFO\u001b[0m    | distributed.scheduler - Starting worker compute stream, tcp://127.0.0.1:40221\n"
      ]
     },
     "metadata": {},
     "output_type": "display_data"
    },
    {
     "data": {
      "text/html": [
       "<pre style=\"white-space:pre;overflow-x:auto;line-height:normal;font-family:Menlo,'DejaVu Sans Mono',consolas,'Courier New',monospace\">15:13:58.640 | <span style=\"color: #008080; text-decoration-color: #008080\">INFO</span>    | distributed.core - Starting established connection to tcp://127.0.0.1:54972\n",
       "</pre>\n"
      ],
      "text/plain": [
       "15:13:58.640 | \u001b[36mINFO\u001b[0m    | distributed.core - Starting established connection to tcp://127.0.0.1:54972\n"
      ]
     },
     "metadata": {},
     "output_type": "display_data"
    },
    {
     "data": {
      "text/html": [
       "<pre style=\"white-space:pre;overflow-x:auto;line-height:normal;font-family:Menlo,'DejaVu Sans Mono',consolas,'Courier New',monospace\">15:13:58.687 | <span style=\"color: #008080; text-decoration-color: #008080\">INFO</span>    | distributed.scheduler - Receive client connection: Client-abdb2215-d002-11ee-8647-0242c0a8c010\n",
       "</pre>\n"
      ],
      "text/plain": [
       "15:13:58.687 | \u001b[36mINFO\u001b[0m    | distributed.scheduler - Receive client connection: Client-abdb2215-d002-11ee-8647-0242c0a8c010\n"
      ]
     },
     "metadata": {},
     "output_type": "display_data"
    },
    {
     "data": {
      "text/html": [
       "<pre style=\"white-space:pre;overflow-x:auto;line-height:normal;font-family:Menlo,'DejaVu Sans Mono',consolas,'Courier New',monospace\">15:13:58.689 | <span style=\"color: #008080; text-decoration-color: #008080\">INFO</span>    | distributed.core - Starting established connection to tcp://127.0.0.1:54976\n",
       "</pre>\n"
      ],
      "text/plain": [
       "15:13:58.689 | \u001b[36mINFO\u001b[0m    | distributed.core - Starting established connection to tcp://127.0.0.1:54976\n"
      ]
     },
     "metadata": {},
     "output_type": "display_data"
    },
    {
     "data": {
      "text/html": [
       "<pre style=\"white-space:pre;overflow-x:auto;line-height:normal;font-family:Menlo,'DejaVu Sans Mono',consolas,'Courier New',monospace\">15:13:58.691 | <span style=\"color: #008080; text-decoration-color: #008080\">INFO</span>    | prefect.task_runner.dask - The Dask dashboard is available at <span style=\"color: #0000ff; text-decoration-color: #0000ff\">http://127.0.0.1:8787/status</span>\n",
       "</pre>\n"
      ],
      "text/plain": [
       "15:13:58.691 | \u001b[36mINFO\u001b[0m    | prefect.task_runner.dask - The Dask dashboard is available at \u001b[94mhttp://127.0.0.1:8787/status\u001b[0m\n"
      ]
     },
     "metadata": {},
     "output_type": "display_data"
    },
    {
     "name": "stdout",
     "output_type": "stream",
     "text": [
      "response.link = http://rs-server-adgs:8000/adgs/aux/search?datetime=2014-01-01T12%3A00%3A00Z%2F2024-02-20T12%3A00%3A00Z\n"
     ]
    },
    {
     "data": {
      "text/html": [
       "<pre style=\"white-space:pre;overflow-x:auto;line-height:normal;font-family:Menlo,'DejaVu Sans Mono',consolas,'Courier New',monospace\">15:13:59.466 | <span style=\"color: #008080; text-decoration-color: #008080\">INFO</span>    | Flow run<span style=\"color: #800080; text-decoration-color: #800080\"> 'mustard-crab'</span> - List with files found in station\n",
       "</pre>\n"
      ],
      "text/plain": [
       "15:13:59.466 | \u001b[36mINFO\u001b[0m    | Flow run\u001b[35m 'mustard-crab'\u001b[0m - List with files found in station\n"
      ]
     },
     "metadata": {},
     "output_type": "display_data"
    },
    {
     "data": {
      "text/html": [
       "<pre style=\"white-space:pre;overflow-x:auto;line-height:normal;font-family:Menlo,'DejaVu Sans Mono',consolas,'Courier New',monospace\">15:13:59.468 | <span style=\"color: #008080; text-decoration-color: #008080\">INFO</span>    | Flow run<span style=\"color: #800080; text-decoration-color: #800080\"> 'mustard-crab'</span> -       S2__OPER_AUX_ECMWFD_PDMC_20190216T120000_V20190217T090000_20190217T210000.TGZ\n",
       "</pre>\n"
      ],
      "text/plain": [
       "15:13:59.468 | \u001b[36mINFO\u001b[0m    | Flow run\u001b[35m 'mustard-crab'\u001b[0m -       S2__OPER_AUX_ECMWFD_PDMC_20190216T120000_V20190217T090000_20190217T210000.TGZ\n"
      ]
     },
     "metadata": {},
     "output_type": "display_data"
    },
    {
     "data": {
      "text/html": [
       "<pre style=\"white-space:pre;overflow-x:auto;line-height:normal;font-family:Menlo,'DejaVu Sans Mono',consolas,'Courier New',monospace\">15:13:59.469 | <span style=\"color: #008080; text-decoration-color: #008080\">INFO</span>    | Flow run<span style=\"color: #800080; text-decoration-color: #800080\"> 'mustard-crab'</span> -       S2__OPER_AUX_ECMWFD_PDMC_20200216T120000_V20190217T090000_20190217T210000.TGZ\n",
       "</pre>\n"
      ],
      "text/plain": [
       "15:13:59.469 | \u001b[36mINFO\u001b[0m    | Flow run\u001b[35m 'mustard-crab'\u001b[0m -       S2__OPER_AUX_ECMWFD_PDMC_20200216T120000_V20190217T090000_20190217T210000.TGZ\n"
      ]
     },
     "metadata": {},
     "output_type": "display_data"
    },
    {
     "data": {
      "text/html": [
       "<pre style=\"white-space:pre;overflow-x:auto;line-height:normal;font-family:Menlo,'DejaVu Sans Mono',consolas,'Courier New',monospace\">15:13:59.470 | <span style=\"color: #008080; text-decoration-color: #008080\">INFO</span>    | Flow run<span style=\"color: #800080; text-decoration-color: #800080\"> 'mustard-crab'</span> -       S2__OPER_AUX_ECMWFD_PDMC_20230216T120000_V20190217T090000_20190217T210000.TGZ\n",
       "</pre>\n"
      ],
      "text/plain": [
       "15:13:59.470 | \u001b[36mINFO\u001b[0m    | Flow run\u001b[35m 'mustard-crab'\u001b[0m -       S2__OPER_AUX_ECMWFD_PDMC_20230216T120000_V20190217T090000_20190217T210000.TGZ\n"
      ]
     },
     "metadata": {},
     "output_type": "display_data"
    },
    {
     "name": "stderr",
     "output_type": "stream",
     "text": [
      "15:13:59.472 | ERROR   | MainThread   | prefect._internal.concurrency - Detected unsafe call to `from_sync` from thread with event loop. Use `await greenback.ensure_portal()` to allow call to run without blocking the event loop.\n"
     ]
    },
    {
     "data": {
      "text/html": [
       "<pre style=\"white-space:pre;overflow-x:auto;line-height:normal;font-family:Menlo,'DejaVu Sans Mono',consolas,'Courier New',monospace\">15:13:59.501 | <span style=\"color: #008080; text-decoration-color: #008080\">INFO</span>    | Flow run<span style=\"color: #800080; text-decoration-color: #800080\"> 'mustard-crab'</span> - Created task run 'ingest_files-0' for task 'ingest_files'\n",
       "</pre>\n"
      ],
      "text/plain": [
       "15:13:59.501 | \u001b[36mINFO\u001b[0m    | Flow run\u001b[35m 'mustard-crab'\u001b[0m - Created task run 'ingest_files-0' for task 'ingest_files'\n"
      ]
     },
     "metadata": {},
     "output_type": "display_data"
    },
    {
     "data": {
      "text/html": [
       "<pre style=\"white-space:pre;overflow-x:auto;line-height:normal;font-family:Menlo,'DejaVu Sans Mono',consolas,'Courier New',monospace\">15:13:59.505 | <span style=\"color: #008080; text-decoration-color: #008080\">INFO</span>    | Flow run<span style=\"color: #800080; text-decoration-color: #800080\"> 'mustard-crab'</span> - Submitted task run 'ingest_files-0' for execution.\n",
       "</pre>\n"
      ],
      "text/plain": [
       "15:13:59.505 | \u001b[36mINFO\u001b[0m    | Flow run\u001b[35m 'mustard-crab'\u001b[0m - Submitted task run 'ingest_files-0' for execution.\n"
      ]
     },
     "metadata": {},
     "output_type": "display_data"
    },
    {
     "name": "stderr",
     "output_type": "stream",
     "text": [
      "15:14:01.114 | DEBUG   | Task run 'ingest_files-0' - Task 0: Files to be downloaded:\n"
     ]
    },
    {
     "name": "stdout",
     "output_type": "stream",
     "text": [
      "{   'assets': {'file': {'file:size': 8326253}},\n",
      "    'geometry': None,\n",
      "    'id': 'S2__OPER_AUX_ECMWFD_PDMC_20190216T120000_V20190217T090000_20190217T210000.TGZ',\n",
      "    'links': [],\n",
      "    'properties': {   'adgs:id': '2b17b57d-fff4-4645-b539-91f305c27c69',\n",
      "                      'datetime': '2019-02-16T12:00:00.000Z',\n",
      "                      'end_datetime': '2019-02-17T21:00:00.000Z',\n",
      "                      'start_datetime': '2019-02-17T09:00:00.000Z'},\n",
      "    'stac_extensions': [   'https://stac-extensions.github.io/file/v2.1.0/schema.json'],\n",
      "    'stac_version': '1.0.0',\n",
      "    'type': 'Feature'}\n",
      "{   'assets': {'file': {'file:size': 8326253}},\n",
      "    'geometry': None,\n",
      "    'id': 'S2__OPER_AUX_ECMWFD_PDMC_20200216T120000_V20190217T090000_20190217T210000.TGZ',\n",
      "    'links': [],\n",
      "    'properties': {   'adgs:id': 'id2',\n",
      "                      'datetime': '2020-02-16T12:00:00.000Z',\n",
      "                      'end_datetime': '2020-02-17T21:00:00.000Z',\n",
      "                      'start_datetime': '2020-02-17T09:00:00.000Z'},\n",
      "    'stac_extensions': [   'https://stac-extensions.github.io/file/v2.1.0/schema.json'],\n",
      "    'stac_version': '1.0.0',\n",
      "    'type': 'Feature'}\n",
      "{   'assets': {'file': {'file:size': 8326253}},\n",
      "    'geometry': None,\n",
      "    'id': 'S2__OPER_AUX_ECMWFD_PDMC_20230216T120000_V20190217T090000_20190217T210000.TGZ',\n",
      "    'links': [],\n",
      "    'properties': {   'adgs:id': 'id3',\n",
      "                      'datetime': '2023-02-16T12:00:00.000Z',\n",
      "                      'end_datetime': '2023-02-17T21:00:00.000Z',\n",
      "                      'start_datetime': '2023-02-17T09:00:00.000Z'},\n",
      "    'stac_extensions': [   'https://stac-extensions.github.io/file/v2.1.0/schema.json'],\n",
      "    'stac_version': '1.0.0',\n",
      "    'type': 'Feature'}\n"
     ]
    },
    {
     "name": "stderr",
     "output_type": "stream",
     "text": [
      "15:14:01.335 | \u001b[36mINFO\u001b[0m    | Task run 'ingest_files-0' - Task 0: The download progress for file S2__OPER_AUX_ECMWFD_PDMC_20190216T120000_V20190217T090000_20190217T210000.TGZ is IN_PROGRESS\n",
      "15:14:02.356 | \u001b[36mINFO\u001b[0m    | Task run 'ingest_files-0' - Task 0: File S2__OPER_AUX_ECMWFD_PDMC_20190216T120000_V20190217T090000_20190217T210000.TGZ has been properly downloaded...\n",
      "\n",
      "15:14:02.520 | \u001b[36mINFO\u001b[0m    | Task run 'ingest_files-0' - Task 0: The download progress for file S2__OPER_AUX_ECMWFD_PDMC_20200216T120000_V20190217T090000_20190217T210000.TGZ is IN_PROGRESS\n",
      "15:14:03.541 | \u001b[36mINFO\u001b[0m    | Task run 'ingest_files-0' - Task 0: File S2__OPER_AUX_ECMWFD_PDMC_20200216T120000_V20190217T090000_20190217T210000.TGZ has been properly downloaded...\n",
      "\n",
      "15:14:03.707 | \u001b[36mINFO\u001b[0m    | Task run 'ingest_files-0' - Task 0: The download progress for file S2__OPER_AUX_ECMWFD_PDMC_20230216T120000_V20190217T090000_20190217T210000.TGZ is IN_PROGRESS\n",
      "15:14:04.728 | \u001b[36mINFO\u001b[0m    | Task run 'ingest_files-0' - Task 0: File S2__OPER_AUX_ECMWFD_PDMC_20230216T120000_V20190217T090000_20190217T210000.TGZ has been properly downloaded...\n",
      "\n",
      "15:14:04.748 | \u001b[36mINFO\u001b[0m    | Task run 'ingest_files-0' - Finished in state \u001b[32mCompleted\u001b[0m()\n"
     ]
    },
    {
     "data": {
      "text/html": [
       "<pre style=\"white-space:pre;overflow-x:auto;line-height:normal;font-family:Menlo,'DejaVu Sans Mono',consolas,'Courier New',monospace\">15:14:04.794 | <span style=\"color: #008080; text-decoration-color: #008080\">INFO</span>    | distributed.scheduler - Remove client Client-abdb2215-d002-11ee-8647-0242c0a8c010\n",
       "</pre>\n"
      ],
      "text/plain": [
       "15:14:04.794 | \u001b[36mINFO\u001b[0m    | distributed.scheduler - Remove client Client-abdb2215-d002-11ee-8647-0242c0a8c010\n"
      ]
     },
     "metadata": {},
     "output_type": "display_data"
    },
    {
     "data": {
      "text/html": [
       "<pre style=\"white-space:pre;overflow-x:auto;line-height:normal;font-family:Menlo,'DejaVu Sans Mono',consolas,'Courier New',monospace\">15:14:04.795 | <span style=\"color: #008080; text-decoration-color: #008080\">INFO</span>    | distributed.core - Received 'close-stream' from tcp://127.0.0.1:54976; closing.\n",
       "</pre>\n"
      ],
      "text/plain": [
       "15:14:04.795 | \u001b[36mINFO\u001b[0m    | distributed.core - Received 'close-stream' from tcp://127.0.0.1:54976; closing.\n"
      ]
     },
     "metadata": {},
     "output_type": "display_data"
    },
    {
     "data": {
      "text/html": [
       "<pre style=\"white-space:pre;overflow-x:auto;line-height:normal;font-family:Menlo,'DejaVu Sans Mono',consolas,'Courier New',monospace\">15:14:04.796 | <span style=\"color: #008080; text-decoration-color: #008080\">INFO</span>    | distributed.scheduler - Remove client Client-abdb2215-d002-11ee-8647-0242c0a8c010\n",
       "</pre>\n"
      ],
      "text/plain": [
       "15:14:04.796 | \u001b[36mINFO\u001b[0m    | distributed.scheduler - Remove client Client-abdb2215-d002-11ee-8647-0242c0a8c010\n"
      ]
     },
     "metadata": {},
     "output_type": "display_data"
    },
    {
     "data": {
      "text/html": [
       "<pre style=\"white-space:pre;overflow-x:auto;line-height:normal;font-family:Menlo,'DejaVu Sans Mono',consolas,'Courier New',monospace\">15:14:04.797 | <span style=\"color: #008080; text-decoration-color: #008080\">INFO</span>    | distributed.scheduler - Close client connection: Client-abdb2215-d002-11ee-8647-0242c0a8c010\n",
       "</pre>\n"
      ],
      "text/plain": [
       "15:14:04.797 | \u001b[36mINFO\u001b[0m    | distributed.scheduler - Close client connection: Client-abdb2215-d002-11ee-8647-0242c0a8c010\n"
      ]
     },
     "metadata": {},
     "output_type": "display_data"
    },
    {
     "data": {
      "text/html": [
       "<pre style=\"white-space:pre;overflow-x:auto;line-height:normal;font-family:Menlo,'DejaVu Sans Mono',consolas,'Courier New',monospace\">15:14:04.799 | <span style=\"color: #008080; text-decoration-color: #008080\">INFO</span>    | distributed.nanny - Closing Nanny at 'tcp://127.0.0.1:35083'. Reason: nanny-close\n",
       "</pre>\n"
      ],
      "text/plain": [
       "15:14:04.799 | \u001b[36mINFO\u001b[0m    | distributed.nanny - Closing Nanny at 'tcp://127.0.0.1:35083'. Reason: nanny-close\n"
      ]
     },
     "metadata": {},
     "output_type": "display_data"
    },
    {
     "data": {
      "text/html": [
       "<pre style=\"white-space:pre;overflow-x:auto;line-height:normal;font-family:Menlo,'DejaVu Sans Mono',consolas,'Courier New',monospace\">15:14:04.800 | <span style=\"color: #008080; text-decoration-color: #008080\">INFO</span>    | distributed.nanny - Nanny asking worker to close. Reason: nanny-close\n",
       "</pre>\n"
      ],
      "text/plain": [
       "15:14:04.800 | \u001b[36mINFO\u001b[0m    | distributed.nanny - Nanny asking worker to close. Reason: nanny-close\n"
      ]
     },
     "metadata": {},
     "output_type": "display_data"
    },
    {
     "data": {
      "text/html": [
       "<pre style=\"white-space:pre;overflow-x:auto;line-height:normal;font-family:Menlo,'DejaVu Sans Mono',consolas,'Courier New',monospace\">15:14:04.800 | <span style=\"color: #008080; text-decoration-color: #008080\">INFO</span>    | distributed.nanny - Closing Nanny at 'tcp://127.0.0.1:46589'. Reason: nanny-close\n",
       "</pre>\n"
      ],
      "text/plain": [
       "15:14:04.800 | \u001b[36mINFO\u001b[0m    | distributed.nanny - Closing Nanny at 'tcp://127.0.0.1:46589'. Reason: nanny-close\n"
      ]
     },
     "metadata": {},
     "output_type": "display_data"
    },
    {
     "data": {
      "text/html": [
       "<pre style=\"white-space:pre;overflow-x:auto;line-height:normal;font-family:Menlo,'DejaVu Sans Mono',consolas,'Courier New',monospace\">15:14:04.801 | <span style=\"color: #008080; text-decoration-color: #008080\">INFO</span>    | distributed.nanny - Nanny asking worker to close. Reason: nanny-close\n",
       "</pre>\n"
      ],
      "text/plain": [
       "15:14:04.801 | \u001b[36mINFO\u001b[0m    | distributed.nanny - Nanny asking worker to close. Reason: nanny-close\n"
      ]
     },
     "metadata": {},
     "output_type": "display_data"
    },
    {
     "data": {
      "text/html": [
       "<pre style=\"white-space:pre;overflow-x:auto;line-height:normal;font-family:Menlo,'DejaVu Sans Mono',consolas,'Courier New',monospace\">15:14:04.802 | <span style=\"color: #008080; text-decoration-color: #008080\">INFO</span>    | distributed.nanny - Closing Nanny at 'tcp://127.0.0.1:34083'. Reason: nanny-close\n",
       "</pre>\n"
      ],
      "text/plain": [
       "15:14:04.802 | \u001b[36mINFO\u001b[0m    | distributed.nanny - Closing Nanny at 'tcp://127.0.0.1:34083'. Reason: nanny-close\n"
      ]
     },
     "metadata": {},
     "output_type": "display_data"
    },
    {
     "data": {
      "text/html": [
       "<pre style=\"white-space:pre;overflow-x:auto;line-height:normal;font-family:Menlo,'DejaVu Sans Mono',consolas,'Courier New',monospace\">15:14:04.803 | <span style=\"color: #008080; text-decoration-color: #008080\">INFO</span>    | distributed.nanny - Nanny asking worker to close. Reason: nanny-close\n",
       "</pre>\n"
      ],
      "text/plain": [
       "15:14:04.803 | \u001b[36mINFO\u001b[0m    | distributed.nanny - Nanny asking worker to close. Reason: nanny-close\n"
      ]
     },
     "metadata": {},
     "output_type": "display_data"
    },
    {
     "data": {
      "text/html": [
       "<pre style=\"white-space:pre;overflow-x:auto;line-height:normal;font-family:Menlo,'DejaVu Sans Mono',consolas,'Courier New',monospace\">15:14:04.804 | <span style=\"color: #008080; text-decoration-color: #008080\">INFO</span>    | distributed.nanny - Closing Nanny at 'tcp://127.0.0.1:33687'. Reason: nanny-close\n",
       "</pre>\n"
      ],
      "text/plain": [
       "15:14:04.804 | \u001b[36mINFO\u001b[0m    | distributed.nanny - Closing Nanny at 'tcp://127.0.0.1:33687'. Reason: nanny-close\n"
      ]
     },
     "metadata": {},
     "output_type": "display_data"
    },
    {
     "data": {
      "text/html": [
       "<pre style=\"white-space:pre;overflow-x:auto;line-height:normal;font-family:Menlo,'DejaVu Sans Mono',consolas,'Courier New',monospace\">15:14:04.805 | <span style=\"color: #008080; text-decoration-color: #008080\">INFO</span>    | distributed.nanny - Nanny asking worker to close. Reason: nanny-close\n",
       "</pre>\n"
      ],
      "text/plain": [
       "15:14:04.805 | \u001b[36mINFO\u001b[0m    | distributed.nanny - Nanny asking worker to close. Reason: nanny-close\n"
      ]
     },
     "metadata": {},
     "output_type": "display_data"
    },
    {
     "data": {
      "text/html": [
       "<pre style=\"white-space:pre;overflow-x:auto;line-height:normal;font-family:Menlo,'DejaVu Sans Mono',consolas,'Courier New',monospace\">15:14:04.807 | <span style=\"color: #008080; text-decoration-color: #008080\">INFO</span>    | distributed.core - Received 'close-stream' from tcp://127.0.0.1:54940; closing.\n",
       "</pre>\n"
      ],
      "text/plain": [
       "15:14:04.807 | \u001b[36mINFO\u001b[0m    | distributed.core - Received 'close-stream' from tcp://127.0.0.1:54940; closing.\n"
      ]
     },
     "metadata": {},
     "output_type": "display_data"
    },
    {
     "data": {
      "text/html": [
       "<pre style=\"white-space:pre;overflow-x:auto;line-height:normal;font-family:Menlo,'DejaVu Sans Mono',consolas,'Courier New',monospace\">15:14:04.808 | <span style=\"color: #008080; text-decoration-color: #008080\">INFO</span>    | distributed.core - Received 'close-stream' from tcp://127.0.0.1:54948; closing.\n",
       "</pre>\n"
      ],
      "text/plain": [
       "15:14:04.808 | \u001b[36mINFO\u001b[0m    | distributed.core - Received 'close-stream' from tcp://127.0.0.1:54948; closing.\n"
      ]
     },
     "metadata": {},
     "output_type": "display_data"
    },
    {
     "name": "stdout",
     "output_type": "stream",
     "text": [
      "Endpoint to be used to insert the item info  within the catalog: http://rs-server-adgs:8000/catalog/DemoUser/collections/s1/items/{'stac_version': '1.0.0', 'stac_extensions': ['https://stac-extensions.github.io/file/v2.1.0/schema.json'], 'type': 'Feature', 'id': 'S2__OPER_AUX_ECMWFD_PDMC_20190216T120000_V20190217T090000_20190217T210000.TGZ', 'geometry': None, 'properties': {'adgs:id': '2b17b57d-fff4-4645-b539-91f305c27c69', 'datetime': '2019-02-16T12:00:00.000Z', 'start_datetime': '2019-02-17T09:00:00.000Z', 'end_datetime': '2019-02-17T21:00:00.000Z'}, 'links': [], 'assets': {'file': {'file:size': 8326253}}}\n",
      "Endpoint to be used to insert the item info  within the catalog: http://rs-server-adgs:8000/catalog/DemoUser/collections/s1/items/{'stac_version': '1.0.0', 'stac_extensions': ['https://stac-extensions.github.io/file/v2.1.0/schema.json'], 'type': 'Feature', 'id': 'S2__OPER_AUX_ECMWFD_PDMC_20200216T120000_V20190217T090000_20190217T210000.TGZ', 'geometry': None, 'properties': {'adgs:id': 'id2', 'datetime': '2020-02-16T12:00:00.000Z', 'start_datetime': '2020-02-17T09:00:00.000Z', 'end_datetime': '2020-02-17T21:00:00.000Z'}, 'links': [], 'assets': {'file': {'file:size': 8326253}}}\n",
      "Endpoint to be used to insert the item info  within the catalog: http://rs-server-adgs:8000/catalog/DemoUser/collections/s1/items/{'stac_version': '1.0.0', 'stac_extensions': ['https://stac-extensions.github.io/file/v2.1.0/schema.json'], 'type': 'Feature', 'id': 'S2__OPER_AUX_ECMWFD_PDMC_20230216T120000_V20190217T090000_20190217T210000.TGZ', 'geometry': None, 'properties': {'adgs:id': 'id3', 'datetime': '2023-02-16T12:00:00.000Z', 'start_datetime': '2023-02-17T09:00:00.000Z', 'end_datetime': '2023-02-17T21:00:00.000Z'}, 'links': [], 'assets': {'file': {'file:size': 8326253}}}\n"
     ]
    },
    {
     "data": {
      "text/html": [
       "<pre style=\"white-space:pre;overflow-x:auto;line-height:normal;font-family:Menlo,'DejaVu Sans Mono',consolas,'Courier New',monospace\">15:14:04.809 | <span style=\"color: #008080; text-decoration-color: #008080\">INFO</span>    | distributed.core - Received 'close-stream' from tcp://127.0.0.1:54960; closing.\n",
       "</pre>\n"
      ],
      "text/plain": [
       "15:14:04.809 | \u001b[36mINFO\u001b[0m    | distributed.core - Received 'close-stream' from tcp://127.0.0.1:54960; closing.\n"
      ]
     },
     "metadata": {},
     "output_type": "display_data"
    },
    {
     "data": {
      "text/html": [
       "<pre style=\"white-space:pre;overflow-x:auto;line-height:normal;font-family:Menlo,'DejaVu Sans Mono',consolas,'Courier New',monospace\">15:14:04.811 | <span style=\"color: #008080; text-decoration-color: #008080\">INFO</span>    | distributed.scheduler - Remove worker &lt;WorkerState 'tcp://127.0.0.1:44199', name: 0, status: closing, memory: 0, processing: 0&gt; (stimulus_id='handle-worker-cleanup-1708442044.8112702')\n",
       "</pre>\n"
      ],
      "text/plain": [
       "15:14:04.811 | \u001b[36mINFO\u001b[0m    | distributed.scheduler - Remove worker <WorkerState 'tcp://127.0.0.1:44199', name: 0, status: closing, memory: 0, processing: 0> (stimulus_id='handle-worker-cleanup-1708442044.8112702')\n"
      ]
     },
     "metadata": {},
     "output_type": "display_data"
    },
    {
     "data": {
      "text/html": [
       "<pre style=\"white-space:pre;overflow-x:auto;line-height:normal;font-family:Menlo,'DejaVu Sans Mono',consolas,'Courier New',monospace\">15:14:04.812 | <span style=\"color: #008080; text-decoration-color: #008080\">INFO</span>    | distributed.scheduler - Remove worker &lt;WorkerState 'tcp://127.0.0.1:40821', name: 1, status: closing, memory: 0, processing: 0&gt; (stimulus_id='handle-worker-cleanup-1708442044.8125803')\n",
       "</pre>\n"
      ],
      "text/plain": [
       "15:14:04.812 | \u001b[36mINFO\u001b[0m    | distributed.scheduler - Remove worker <WorkerState 'tcp://127.0.0.1:40821', name: 1, status: closing, memory: 0, processing: 0> (stimulus_id='handle-worker-cleanup-1708442044.8125803')\n"
      ]
     },
     "metadata": {},
     "output_type": "display_data"
    },
    {
     "data": {
      "text/html": [
       "<pre style=\"white-space:pre;overflow-x:auto;line-height:normal;font-family:Menlo,'DejaVu Sans Mono',consolas,'Courier New',monospace\">15:14:04.813 | <span style=\"color: #008080; text-decoration-color: #008080\">INFO</span>    | distributed.scheduler - Remove worker &lt;WorkerState 'tcp://127.0.0.1:46507', name: 2, status: closing, memory: 0, processing: 0&gt; (stimulus_id='handle-worker-cleanup-1708442044.8138733')\n",
       "</pre>\n"
      ],
      "text/plain": [
       "15:14:04.813 | \u001b[36mINFO\u001b[0m    | distributed.scheduler - Remove worker <WorkerState 'tcp://127.0.0.1:46507', name: 2, status: closing, memory: 0, processing: 0> (stimulus_id='handle-worker-cleanup-1708442044.8138733')\n"
      ]
     },
     "metadata": {},
     "output_type": "display_data"
    },
    {
     "data": {
      "text/html": [
       "<pre style=\"white-space:pre;overflow-x:auto;line-height:normal;font-family:Menlo,'DejaVu Sans Mono',consolas,'Courier New',monospace\">15:14:04.815 | <span style=\"color: #008080; text-decoration-color: #008080\">INFO</span>    | distributed.core - Received 'close-stream' from tcp://127.0.0.1:54972; closing.\n",
       "</pre>\n"
      ],
      "text/plain": [
       "15:14:04.815 | \u001b[36mINFO\u001b[0m    | distributed.core - Received 'close-stream' from tcp://127.0.0.1:54972; closing.\n"
      ]
     },
     "metadata": {},
     "output_type": "display_data"
    },
    {
     "data": {
      "text/html": [
       "<pre style=\"white-space:pre;overflow-x:auto;line-height:normal;font-family:Menlo,'DejaVu Sans Mono',consolas,'Courier New',monospace\">15:14:04.817 | <span style=\"color: #008080; text-decoration-color: #008080\">INFO</span>    | distributed.scheduler - Remove worker &lt;WorkerState 'tcp://127.0.0.1:40221', name: 3, status: closing, memory: 0, processing: 0&gt; (stimulus_id='handle-worker-cleanup-1708442044.8173046')\n",
       "</pre>\n"
      ],
      "text/plain": [
       "15:14:04.817 | \u001b[36mINFO\u001b[0m    | distributed.scheduler - Remove worker <WorkerState 'tcp://127.0.0.1:40221', name: 3, status: closing, memory: 0, processing: 0> (stimulus_id='handle-worker-cleanup-1708442044.8173046')\n"
      ]
     },
     "metadata": {},
     "output_type": "display_data"
    },
    {
     "data": {
      "text/html": [
       "<pre style=\"white-space:pre;overflow-x:auto;line-height:normal;font-family:Menlo,'DejaVu Sans Mono',consolas,'Courier New',monospace\">15:14:04.818 | <span style=\"color: #008080; text-decoration-color: #008080\">INFO</span>    | distributed.scheduler - Lost all workers\n",
       "</pre>\n"
      ],
      "text/plain": [
       "15:14:04.818 | \u001b[36mINFO\u001b[0m    | distributed.scheduler - Lost all workers\n"
      ]
     },
     "metadata": {},
     "output_type": "display_data"
    },
    {
     "data": {
      "text/html": [
       "<pre style=\"white-space:pre;overflow-x:auto;line-height:normal;font-family:Menlo,'DejaVu Sans Mono',consolas,'Courier New',monospace\">15:14:05.262 | <span style=\"color: #008080; text-decoration-color: #008080\">INFO</span>    | distributed.scheduler - Scheduler closing due to unknown reason...\n",
       "</pre>\n"
      ],
      "text/plain": [
       "15:14:05.262 | \u001b[36mINFO\u001b[0m    | distributed.scheduler - Scheduler closing due to unknown reason...\n"
      ]
     },
     "metadata": {},
     "output_type": "display_data"
    },
    {
     "data": {
      "text/html": [
       "<pre style=\"white-space:pre;overflow-x:auto;line-height:normal;font-family:Menlo,'DejaVu Sans Mono',consolas,'Courier New',monospace\">15:14:05.263 | <span style=\"color: #008080; text-decoration-color: #008080\">INFO</span>    | distributed.scheduler - Scheduler closing all comms\n",
       "</pre>\n"
      ],
      "text/plain": [
       "15:14:05.263 | \u001b[36mINFO\u001b[0m    | distributed.scheduler - Scheduler closing all comms\n"
      ]
     },
     "metadata": {},
     "output_type": "display_data"
    },
    {
     "data": {
      "text/html": [
       "<pre style=\"white-space:pre;overflow-x:auto;line-height:normal;font-family:Menlo,'DejaVu Sans Mono',consolas,'Courier New',monospace\">15:14:05.265 | <span style=\"color: #008080; text-decoration-color: #008080\">INFO</span>    | Flow run<span style=\"color: #800080; text-decoration-color: #800080\"> 'mustard-crab'</span> - Finished in state <span style=\"color: #008000; text-decoration-color: #008000\">Completed</span>()\n",
       "</pre>\n"
      ],
      "text/plain": [
       "15:14:05.265 | \u001b[36mINFO\u001b[0m    | Flow run\u001b[35m 'mustard-crab'\u001b[0m - Finished in state \u001b[32mCompleted\u001b[0m()\n"
      ]
     },
     "metadata": {},
     "output_type": "display_data"
    }
   ],
   "source": [
    "\n",
    "import threading\n",
    "from datetime import datetime\n",
    "from rs_workflows.common import (\n",
    "    PrefectFlowConfig,\n",
    "    download_flow,\n",
    ")\n",
    "\n",
    "def run_flow(user, url, station, mission, tmp_local_download, bucket_url, no_of_tasks, start_date, stop_date):\n",
    "    # start the prefect flow\n",
    "    download_flow(PrefectFlowConfig(user,\n",
    "                               url,\n",
    "                               station,\n",
    "                               mission,\n",
    "                               tmp_local_download.format(station),\n",
    "                               bucket_url + f\"/{station}\",\n",
    "                               no_of_tasks,\n",
    "                               datetime.strptime(start_date, \"%Y-%m-%dT%H:%M:%SZ\"),\n",
    "                               datetime.strptime(stop_date, \"%Y-%m-%dT%H:%M:%SZ\"),                                   \n",
    "            )\n",
    ")\n",
    "\n",
    "user = \"DemoUser\"\n",
    "mission = \"s1\"\n",
    "stations = [\"CADIP\", \"ADGS\"]\n",
    "url = \"http://rs-server-{}:8000\"\n",
    "tmp_local_download = \"/tmp/{}_tmp\"\n",
    "no_of_tasks = 1\n",
    "threads = []\n",
    "\n",
    "for station in stations:\n",
    "    run_flow(user,\n",
    "             url.format(station.lower()),\n",
    "             station,\n",
    "             mission,\n",
    "             tmp_local_download.format(station),\n",
    "             bucket_url + f\"/{station}\",\n",
    "             no_of_tasks,\n",
    "             \"2014-01-01T12:00:00Z\",\n",
    "             \"2024-02-20T12:00:00Z\",\n",
    "             )\n",
    "    "
   ]
  },
  {
   "cell_type": "markdown",
   "id": "05825f0e",
   "metadata": {},
   "source": [
    "RSPY DPR Processor mockup demo:\n",
    "\n",
    "\n",
    "The DPRProcessor is a class that simulates processing part performed by eopf-cpm triggering module. The input of the processor it's a yaml config file with all the input files and expected outputs locations (local or s3).\n",
    "\n",
    "The implemented mockup performs the following actions:\n",
    "1. Check the validity of input yaml file (chunks/aux existance / naming convention)\n",
    "2. Downloads the zarr input from public s3 ovh based on product type required in payload yaml.\n",
    "3. Updates the .zattrs with our processor name (RSPY_DprMockupProcessor) and timestamp (if product is zipped, our processor updates zattrs inside .zip without extracting files)\n",
    "4. Computes the CRC of updated .zattrs\n",
    "5. Update product name VVV (as per EOPF-CPM PSD) with computed CRC, in order to call processor multiple times with same input and generated different outputs.\n",
    "6. Uploads the products to s3 server (minio for this demo).\n",
    "7. Removes the local downloaded products (if a flag is set).\n",
    "8. Retrieves the .zattrs into a serialisable format (dict) in order to upload catalog in the future step of our processing chain."
   ]
  },
  {
   "cell_type": "code",
   "execution_count": null,
   "id": "685df198-48e8-4c95-9c65-8f756bb960c4",
   "metadata": {},
   "outputs": [],
   "source": [
    "yaml_payload = \"\"\"\n",
    "general_configuration:\n",
    "  logging:\n",
    "    level: DEBUG\n",
    "  triggering__validate_run: true\n",
    "  triggering__use_default_filename: true\n",
    "  triggering__use_basic_logging: true\n",
    "  triggering__load_default_logging: false\n",
    "breakpoints:\n",
    "workflow:\n",
    "- step: 1\n",
    "  active: true\n",
    "  module: rs.dpr.mockup # string corresponding to the python path of the module\n",
    "  processing_unit: DprMockupProcessor # EOProcessingUnit class name\n",
    "  name: DprMockupProcessor # identifier for the processing unit\n",
    "  inputs:\n",
    "    in1: CADU1\n",
    "    in2: CADU2 # One CADU{N} entry by CADU chunk we want to pass as input. In this example we consider 2 chunks\n",
    "    in3: AUX1\n",
    "    in4: AUX2 # One AUX{N} entry by ADGS file we want to pass as input. In this example we consider 2 aux files\n",
    "  outputs:\n",
    "    out: outputs\n",
    "  parameters:\n",
    "    product_types: # List of EOPF product types we want to generate. In this example we simulate S1L0 processor that generates 4 products\n",
    "      - S1SSMOCN\n",
    "I/O:\n",
    "  inputs_products:\n",
    "  - id: CADU1\n",
    "    path: chunk/S1/S1A_20231121072204051312/DCS_04_S1A_20231121072204051312_ch1_DSDB_00023.raw\n",
    "    store_type: zarr\n",
    "    store_params: {}\n",
    "  - id: CADU2\n",
    "    path: chunk/S1/S1A_20231121072204051312/DCS_04_S1A_20231121072204051312_ch1_DSDB_00022.raw\n",
    "    store_type: zarr\n",
    "    store_params: {}\n",
    "  - id: AUX1\n",
    "    path: AUX/S1/S1A_OPER_AMV_ERRMAT_MPC__20201124T040009_V20000101T000000_20201123T131345.EOF.zip\n",
    "    store_type: zarr\n",
    "    store_params: {}\n",
    "  - id: AUX2\n",
    "    path: AUX/S1/S1A_AUX_PP2_V20190228T092500_G20220228T120000.SAFE.zip\n",
    "    store_type: zarr\n",
    "    store_params: {}\n",
    "  output_products:\n",
    "  - id: outputs\n",
    "    path: s3://test-data/zarr/dpr_processor_output/ # output folder or S3 bucket\n",
    "    type: folder\n",
    "    store_type: zarr\n",
    "    store_params: {}\n",
    "dask_context: {}\n",
    "logging: {}\n",
    "config: {}\n",
    "\"\"\""
   ]
  },
  {
   "cell_type": "markdown",
   "id": "db437f73-5442-49c1-8961-e7d8a498846d",
   "metadata": {},
   "source": [
    "---\n",
    "**NOTE**\n",
    "\n",
    "You can also monitor the s3 bucket using the minio console: http://127.0.0.1:9001/browser with:\n",
    "\n",
    "  * Username: _minio_\n",
    "  * Password: _Strong#Pass#1234_\n",
    "\n",
    "---"
   ]
  },
  {
   "cell_type": "code",
   "execution_count": null,
   "id": "619b2ac0-e577-4498-8fb7-897f3e31bfee",
   "metadata": {},
   "outputs": [],
   "source": [
    "# We'll use boto3 to monitor the s3 bucket.\n",
    "# Note: the S3_ACCESSKEY, S3_SECRETKEY and S3_ENDPOINT are given in the docker-compose.yml file.\n",
    "import boto3\n",
    "import os\n",
    "\n",
    "s3_session = boto3.session.Session()\n",
    "s3_client = s3_session.client(\n",
    "    service_name=\"s3\",\n",
    "    aws_access_key_id=os.environ[\"S3_ACCESSKEY\"],\n",
    "    aws_secret_access_key=os.environ[\"S3_SECRETKEY\"],\n",
    "    endpoint_url=os.environ[\"S3_ENDPOINT\"],\n",
    "    region_name=os.environ[\"S3_REGION\"],\n",
    ")\n",
    "bucket_name = \"test-data\"\n",
    "bucket_dir = \"zarr/dpr_processor_output\"\n",
    "bucket_url = f\"s3://{bucket_name}/{bucket_dir}\"\n",
    "\n",
    "# If bucket is already created, clear all files in order to start fresh for each demo. \n",
    "if bucket_name in [bucket[\"Name\"] for bucket in s3_client.list_buckets()[\"Buckets\"]]:\n",
    "    if 'Contents' in s3_client.list_objects(Bucket=bucket_name):\n",
    "        objects = s3_client.list_objects(Bucket=bucket_name)['Contents']\n",
    "        for obj in objects:\n",
    "            # clear up the bucket\n",
    "            s3_client.delete_object(Bucket=bucket_name, Key=obj['Key'])\n",
    "else:\n",
    "    s3_client.create_bucket(Bucket=bucket_name)\n",
    "\n",
    "print(\"Is bucket empty now ?: \", 'Contents' not in s3_client.list_objects(Bucket=bucket_name))"
   ]
  },
  {
   "cell_type": "markdown",
   "id": "2661b61d-e3fe-4ad3-a855-d5fc67a37adc",
   "metadata": {},
   "source": [
    "Convert yaml to json in order to post it over HTTP and call the simulator webserver endpoint.\n",
    "The output of run() method is a list of all stac-comptabile .zattrs."
   ]
  },
  {
   "cell_type": "code",
   "execution_count": null,
   "id": "9d92871a-45d2-4779-ba5b-816932ddbe67",
   "metadata": {},
   "outputs": [],
   "source": [
    "import requests\n",
    "import json\n",
    "import yaml\n",
    "import pprint\n",
    "\n",
    "yaml_data = yaml.safe_load(yaml_payload)\n",
    "json_data = json.dumps(yaml_data)\n",
    "\n",
    "dpr_simulator_endpoint = \"http://dpr-simulator:8000/run\" # rs-server host = the container name\n",
    "response = requests.post(dpr_simulator_endpoint, json=yaml_data)\n",
    "\n",
    "pp = pprint.PrettyPrinter(indent=4)\n",
    "for attr in response.json():\n",
    "    pp.pprint(attr)"
   ]
  },
  {
   "cell_type": "code",
   "execution_count": null,
   "id": "8ff4ca11-5fcf-4626-8207-8bb3368e7491",
   "metadata": {},
   "outputs": [],
   "source": [
    "s3_client.list_objects(Bucket=bucket_name)['Contents']"
   ]
  },
  {
   "cell_type": "code",
   "execution_count": null,
   "id": "77dde46c-9d3b-4e54-acfd-d2aecfbe40d6",
   "metadata": {},
   "outputs": [],
   "source": []
  }
 ],
 "metadata": {
  "kernelspec": {
   "display_name": "Python 3 (ipykernel)",
   "language": "python",
   "name": "python3"
  },
  "language_info": {
   "codemirror_mode": {
    "name": "ipython",
    "version": 3
   },
   "file_extension": ".py",
   "mimetype": "text/x-python",
   "name": "python",
   "nbconvert_exporter": "python",
   "pygments_lexer": "ipython3",
   "version": "3.11.6"
  }
 },
 "nbformat": 4,
 "nbformat_minor": 5
}

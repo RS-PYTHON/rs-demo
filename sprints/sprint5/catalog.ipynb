{
 "cells": [
  {
   "cell_type": "markdown",
   "id": "d2a7dd43-b6aa-4f52-93b4-a08e056a6082",
   "metadata": {},
   "source": [
    "# Using the rs-server catalog\n",
    "\n",
    "This tutorial is meant the basic usage of the rs-server catalog service."
   ]
  },
  {
   "cell_type": "markdown",
   "id": "35f9d479-60e5-4cf4-b4e4-1ee3c3e20c9c",
   "metadata": {},
   "source": [
    "## Introduction\n",
    "\n",
    "The rs-server catalog service exposes a REST API \n",
    "on the /catalog endpoint of the rs-server.\n",
    "\n",
    "Each user owns a dedicated STAC catalog.\n",
    "It can be accessed at the /catalog/{user} endpoint.\n",
    "Each catalog is following the STAC API.\n",
    "\n",
    "Let's illustrate all this with some examples."
   ]
  },
  {
   "cell_type": "markdown",
   "id": "0222c966-9c16-4bb5-b61e-51a0540e4dae",
   "metadata": {},
   "source": [
    "## Displays the landing page of the Esmeralda catalog"
   ]
  },
  {
   "cell_type": "code",
   "execution_count": 1,
   "id": "e2e3e34b-5a52-4e75-9bc0-a350b4d9664f",
   "metadata": {},
   "outputs": [
    {
     "data": {
      "text/plain": [
       "{'type': 'Catalog',\n",
       " 'id': 'stac-fastapi',\n",
       " 'title': 'stac-fastapi',\n",
       " 'description': 'stac-fastapi',\n",
       " 'stac_version': '1.0.0',\n",
       " 'conformsTo': ['http://www.opengis.net/spec/cql2/1.0/conf/cql2-text',\n",
       "  'http://www.opengis.net/spec/ogcapi-features-1/1.0/conf/oas30',\n",
       "  'https://api.stacspec.org/v1.0.0/item-search#query',\n",
       "  'http://www.opengis.net/spec/cql2/1.0/conf/basic-cql2',\n",
       "  'http://www.opengis.net/spec/ogcapi-features-1/1.0/conf/core',\n",
       "  'http://www.opengis.net/spec/ogcapi-features-3/1.0/conf/filter',\n",
       "  'http://www.opengis.net/spec/cql2/1.0/conf/cql2-json',\n",
       "  'http://www.opengis.net/spec/ogcapi-features-1/1.0/conf/geojson',\n",
       "  'https://api.stacspec.org/v1.0.0/core',\n",
       "  'https://api.stacspec.org/v1.0.0-rc.2/item-search#context',\n",
       "  'https://api.stacspec.org/v1.0.0-rc.3/ogcapi-features/extensions/transaction',\n",
       "  'https://api.stacspec.org/v1.0.0/item-search',\n",
       "  'https://api.stacspec.org/v1.0.0/item-search#sort',\n",
       "  'https://api.stacspec.org/v1.0.0/item-search#fields',\n",
       "  'https://api.stacspec.org/v1.0.0/collections',\n",
       "  'https://api.stacspec.org/v1.0.0-rc.2/item-search#filter',\n",
       "  'https://api.stacspec.org/v1.0.0/ogcapi-features',\n",
       "  'http://www.opengis.net/spec/ogcapi-features-3/1.0/conf/features-filter'],\n",
       " 'links': [{'rel': 'self',\n",
       "   'type': 'application/json',\n",
       "   'href': 'http://rs-server-catalog:8000/'},\n",
       "  {'rel': 'root',\n",
       "   'type': 'application/json',\n",
       "   'href': 'http://rs-server-catalog:8000/'},\n",
       "  {'rel': 'data',\n",
       "   'type': 'application/json',\n",
       "   'href': 'http://rs-server-catalog:8000/collections'},\n",
       "  {'rel': 'conformance',\n",
       "   'type': 'application/json',\n",
       "   'title': 'STAC/WFS3 conformance classes implemented by this server',\n",
       "   'href': 'http://rs-server-catalog:8000/conformance'},\n",
       "  {'rel': 'search',\n",
       "   'type': 'application/geo+json',\n",
       "   'title': 'STAC search',\n",
       "   'href': 'http://rs-server-catalog:8000/search',\n",
       "   'method': 'GET'},\n",
       "  {'rel': 'search',\n",
       "   'type': 'application/geo+json',\n",
       "   'title': 'STAC search',\n",
       "   'href': 'http://rs-server-catalog:8000/search',\n",
       "   'method': 'POST'},\n",
       "  {'rel': 'service-desc',\n",
       "   'type': 'application/vnd.oai.openapi+json;version=3.0',\n",
       "   'title': 'OpenAPI service description',\n",
       "   'href': 'http://rs-server-catalog:8000/api'},\n",
       "  {'rel': 'service-doc',\n",
       "   'type': 'text/html',\n",
       "   'title': 'OpenAPI service documentation',\n",
       "   'href': 'http://rs-server-catalog:8000/api.html'}],\n",
       " 'stac_extensions': []}"
      ]
     },
     "execution_count": 1,
     "metadata": {},
     "output_type": "execute_result"
    }
   ],
   "source": [
    "import requests\n",
    "import json\n",
    "\n",
    "RS_SERVER_ROOT_URL = \"http://rs-server-catalog:8000\"\n",
    "\n",
    "response = requests.get(f\"{RS_SERVER_ROOT_URL}/catalog/esmeralda\")\n",
    "response.raise_for_status()\n",
    "\n",
    "landing_page = json.loads(response.content)\n",
    "landing_page"
   ]
  },
  {
   "cell_type": "markdown",
   "id": "c2b25f7f-f6a6-47d9-8997-381615703c58",
   "metadata": {},
   "source": [
    "The previous commands retrieve the landing page of the \"esmeralda\" catalog and displays it.\n",
    "\n",
    "It's the classic STAC landing page showing links for navigation purpose."
   ]
  },
  {
   "cell_type": "markdown",
   "id": "05afc997-4b92-4ed1-807b-2caa902eefa9",
   "metadata": {},
   "source": [
    "## Displays the collections of the esmeralda catalog"
   ]
  },
  {
   "cell_type": "code",
   "execution_count": 2,
   "id": "dbc3e9e2-b286-43d1-983b-a87899b65e70",
   "metadata": {},
   "outputs": [
    {
     "data": {
      "text/plain": [
       "{'collections': [],\n",
       " 'links': [{'rel': 'root',\n",
       "   'type': 'application/json',\n",
       "   'href': 'http://rs-server-catalog:8000/catalog/esmeralda'},\n",
       "  {'rel': 'parent',\n",
       "   'type': 'application/json',\n",
       "   'href': 'http://rs-server-catalog:8000/catalog/esmeralda'},\n",
       "  {'rel': 'self',\n",
       "   'type': 'application/json',\n",
       "   'href': 'http://rs-server-catalog:8000/catalog/esmeralda/collections'}]}"
      ]
     },
     "execution_count": 2,
     "metadata": {},
     "output_type": "execute_result"
    }
   ],
   "source": [
    "import requests\n",
    "import json\n",
    "\n",
    "RS_SERVER_ROOT_URL = \"http://rs-server-catalog:8000\"\n",
    "\n",
    "response = requests.get(f\"{RS_SERVER_ROOT_URL}/catalog/esmeralda/collections\")\n",
    "response.raise_for_status()\n",
    "\n",
    "collections = json.loads(response.content)\n",
    "collections"
   ]
  },
  {
   "cell_type": "markdown",
   "id": "d750a66c-4c83-4414-b483-463c54d7301e",
   "metadata": {},
   "source": [
    "The previous commands retrieve the collections of the esmeralda catalog.\n",
    "\n",
    "There is no collection currently.\n",
    "Let's just add a new simple collection on it."
   ]
  },
  {
   "cell_type": "markdown",
   "id": "7e82f84b-05a2-45fb-8b0a-9ce612b28f68",
   "metadata": {},
   "source": [
    "## Add the collection S1_L1 in the esmeralda catalog"
   ]
  },
  {
   "cell_type": "code",
   "execution_count": 3,
   "id": "3f951b2d-82b8-43c3-9256-2bfac5b776b1",
   "metadata": {},
   "outputs": [
    {
     "data": {
      "text/plain": [
       "{'id': 'S1_L1',\n",
       " 'type': 'Collection',\n",
       " 'links': [{'rel': 'items',\n",
       "   'type': 'application/geo+json',\n",
       "   'href': 'http://rs-server-catalog:8000/catalog/esmeralda/collections/S1_L1/items'},\n",
       "  {'rel': 'parent',\n",
       "   'type': 'application/json',\n",
       "   'href': 'http://rs-server-catalog:8000/catalog/esmeralda'},\n",
       "  {'rel': 'root',\n",
       "   'type': 'application/json',\n",
       "   'href': 'http://rs-server-catalog:8000/catalog/esmeralda'},\n",
       "  {'rel': 'self',\n",
       "   'type': 'application/json',\n",
       "   'href': 'http://rs-server-catalog:8000/catalog/esmeralda/collections/S1_L1'},\n",
       "  {'rel': 'items',\n",
       "   'href': 'http://localhost:8082/catalog/esmeralda/collections/S1_L1/items',\n",
       "   'type': 'application/geo+json'},\n",
       "  {'rel': 'license',\n",
       "   'href': 'https://creativecommons.org/licenses/publicdomain/',\n",
       "   'title': 'public domain'}],\n",
       " 'extent': {'spatial': {'bbox': [[-94.6911621,\n",
       "     37.0332547,\n",
       "     -94.402771,\n",
       "     37.1077651]]},\n",
       "  'temporal': {'interval': [['2000-02-01T00:00:00Z',\n",
       "     '2000-02-12T00:00:00Z']]}},\n",
       " 'license': 'public-domain',\n",
       " 'description': 'Some description',\n",
       " 'stac_version': '1.0.0'}"
      ]
     },
     "execution_count": 3,
     "metadata": {},
     "output_type": "execute_result"
    }
   ],
   "source": [
    "import requests\n",
    "import json\n",
    "\n",
    "RS_SERVER_ROOT_URL = \"http://rs-server-catalog:8000\"\n",
    "\n",
    "collection = {\n",
    "            \"id\": \"esmeralda_S1_L1\",\n",
    "            \"type\": \"Collection\",\n",
    "            \"links\": [\n",
    "                {\n",
    "                    \"rel\": \"items\",\n",
    "                    \"type\": \"application/geo+json\",\n",
    "                    \"href\": \"http://localhost:8082/collections/esmeralda_S1_L1/items\",\n",
    "                },\n",
    "                {\"rel\": \"parent\", \"type\": \"application/json\", \"href\": \"http://localhost:8082/\"},\n",
    "                {\"rel\": \"root\", \"type\": \"application/json\", \"href\": \"http://localhost:8082/\"},\n",
    "                {\"rel\": \"self\", \"type\": \"application/json\", \"href\": \"http://localhost:8082/collections/esmeralda_S1_L1\"},\n",
    "                {\n",
    "                    \"rel\": \"license\",\n",
    "                    \"href\": \"https://creativecommons.org/licenses/publicdomain/\",\n",
    "                    \"title\": \"public domain\",\n",
    "                },\n",
    "            ],\n",
    "            \"extent\": {\n",
    "                \"spatial\": {\"bbox\": [[-94.6911621, 37.0332547, -94.402771, 37.1077651]]},\n",
    "                \"temporal\": {\"interval\": [[\"2000-02-01T00:00:00Z\", \"2000-02-12T00:00:00Z\"]]},\n",
    "            },\n",
    "            \"license\": \"public-domain\",\n",
    "            \"description\": \"Some description\",\n",
    "            \"stac_version\": \"1.0.0\",\n",
    "        }\n",
    "\n",
    "post_response = requests.post(f\"{RS_SERVER_ROOT_URL}/catalog/esmeralda/collections\", json=collection,)\n",
    "post_response.raise_for_status()\n",
    "\n",
    "response = requests.get(f\"{RS_SERVER_ROOT_URL}/catalog/esmeralda/collections/S1_L1\")\n",
    "response.raise_for_status()\n",
    "\n",
    "collection = json.loads(response.content)\n",
    "collection"
   ]
  },
  {
   "cell_type": "markdown",
   "id": "30de61a9-beb5-450a-a9e0-0098ab8e3f20",
   "metadata": {},
   "source": [
    "The previous commands create the S1_L1 collection in the esmeralda catalog.\n",
    "Then, it gets the esmeralda collections again.\n",
    "This time, there is the S1_L1 collection, previously added.\n",
    "\n",
    "Let's look at its content."
   ]
  },
  {
   "cell_type": "markdown",
   "id": "66b5d1f6-8bca-457c-bb73-0de00c154808",
   "metadata": {},
   "source": [
    "## Displays the features of the collection S1_L1 in the esmeralda catalog"
   ]
  },
  {
   "cell_type": "code",
   "execution_count": 4,
   "id": "b93c82ac-ffb9-4c9d-a80f-7ff8381b4ffe",
   "metadata": {},
   "outputs": [
    {
     "data": {
      "text/plain": [
       "{'type': 'FeatureCollection',\n",
       " 'context': {'limit': 10, 'returned': 0},\n",
       " 'features': [],\n",
       " 'links': [{'rel': 'collection',\n",
       "   'type': 'application/json',\n",
       "   'href': 'http://rs-server-catalog:8000/collections/esmeralda_S1_L1'},\n",
       "  {'rel': 'parent',\n",
       "   'type': 'application/json',\n",
       "   'href': 'http://rs-server-catalog:8000/collections/esmeralda_S1_L1'},\n",
       "  {'rel': 'root',\n",
       "   'type': 'application/json',\n",
       "   'href': 'http://rs-server-catalog:8000/'},\n",
       "  {'rel': 'self',\n",
       "   'type': 'application/geo+json',\n",
       "   'href': 'http://rs-server-catalog:8000/collections/esmeralda_S1_L1/items'}]}"
      ]
     },
     "execution_count": 4,
     "metadata": {},
     "output_type": "execute_result"
    }
   ],
   "source": [
    "import requests\n",
    "import json\n",
    "\n",
    "RS_SERVER_ROOT_URL = \"http://rs-server-catalog:8000\"\n",
    "\n",
    "feature_response = requests.get(f\"{RS_SERVER_ROOT_URL}/catalog/esmeralda/collections/S1_L1/items\")\n",
    "response.raise_for_status\n",
    "\n",
    "feature = json.loads(feature_response.content)\n",
    "feature"
   ]
  },
  {
   "cell_type": "markdown",
   "id": "fc977f85-5311-4104-9286-fdea0c4ffea0",
   "metadata": {},
   "source": [
    "The previous commands retrieve the features of the esmeralda S1_L1 collection.\n",
    "\n",
    "There is no features currently. Let's just add a new simple feature on it.\n"
   ]
  },
  {
   "cell_type": "markdown",
   "id": "e639ea33-a2bc-47d6-b642-6657daa60d18",
   "metadata": {},
   "source": [
    "## Add a feature in the collection S1_L1 in the esmeralda catalog"
   ]
  },
  {
   "cell_type": "code",
   "execution_count": 5,
   "id": "14f2be41-bbbe-4424-8e84-b5c2b58f21a7",
   "metadata": {},
   "outputs": [
    {
     "data": {
      "text/plain": [
       "{'type': 'FeatureCollection',\n",
       " 'context': {'limit': 10, 'returned': 1},\n",
       " 'features': [{'id': 'esmerlda',\n",
       "   'bbox': [-94.6334839, 37.0332547, -94.6005249, 37.0595608],\n",
       "   'type': 'Feature',\n",
       "   'assets': {'COG': {'href': 'https://arturo-stac-api-test-data.s3.amazonaws.com/S1_L1/images/may24C355000e4102500n.tif',\n",
       "     'type': 'image/tiff; application=geotiff; profile=cloud-optimized',\n",
       "     'title': 'NOAA STORM COG'}},\n",
       "   'geometry': {'type': 'Polygon',\n",
       "    'coordinates': [[[-94.6334839, 37.0595608],\n",
       "      [-94.6334839, 37.0332547],\n",
       "      [-94.6005249, 37.0332547],\n",
       "      [-94.6005249, 37.0595608],\n",
       "      [-94.6334839, 37.0595608]]]},\n",
       "   'collection': 'S1_L1',\n",
       "   'properties': {'gsd': 0.5971642834779395,\n",
       "    'width': 2500,\n",
       "    'height': 2500,\n",
       "    'datetime': '2000-02-02T00:00:00Z',\n",
       "    'proj:epsg': 3857,\n",
       "    'orientation': 'nadir'},\n",
       "   'stac_version': '1.0.0',\n",
       "   'stac_extensions': ['https://stac-extensions.github.io/eo/v1.0.0/schema.json',\n",
       "    'https://stac-extensions.github.io/projection/v1.0.0/schema.json'],\n",
       "   'links': [{'rel': 'collection',\n",
       "     'type': 'application/json',\n",
       "     'href': 'http://rs-server-catalog:8000/collections/esmeralda_S1_L1'},\n",
       "    {'rel': 'parent',\n",
       "     'type': 'application/json',\n",
       "     'href': 'http://rs-server-catalog:8000/collections/esmeralda_S1_L1'},\n",
       "    {'rel': 'root',\n",
       "     'type': 'application/json',\n",
       "     'href': 'http://rs-server-catalog:8000/'},\n",
       "    {'rel': 'self',\n",
       "     'type': 'application/geo+json',\n",
       "     'href': 'http://rs-server-catalog:8000/collections/esmeralda_S1_L1/items/esmerlda'}]}],\n",
       " 'links': [{'rel': 'collection',\n",
       "   'type': 'application/json',\n",
       "   'href': 'http://rs-server-catalog:8000/collections/esmeralda_S1_L1'},\n",
       "  {'rel': 'parent',\n",
       "   'type': 'application/json',\n",
       "   'href': 'http://rs-server-catalog:8000/collections/esmeralda_S1_L1'},\n",
       "  {'rel': 'root',\n",
       "   'type': 'application/json',\n",
       "   'href': 'http://rs-server-catalog:8000/'},\n",
       "  {'rel': 'self',\n",
       "   'type': 'application/geo+json',\n",
       "   'href': 'http://rs-server-catalog:8000/collections/esmeralda_S1_L1/items'}]}"
      ]
     },
     "execution_count": 5,
     "metadata": {},
     "output_type": "execute_result"
    }
   ],
   "source": [
    "import requests\n",
    "import json\n",
    "\n",
    "RS_SERVER_ROOT_URL = \"http://rs-server-catalog:8000\"\n",
    "\n",
    "feature = {\n",
    "            \"id\": \"esmerlda\",\n",
    "            \"bbox\": [-94.6334839, 37.0332547, -94.6005249, 37.0595608],\n",
    "            \"type\": \"Feature\",\n",
    "            \"assets\": {\n",
    "                \"COG\": {\n",
    "                    \"href\": f\"https://arturo-stac-api-test-data.s3.amazonaws.com/S1_L1/images/may24C355000e4102500n.tif\",\n",
    "                    \"type\": \"image/tiff; application=geotiff; profile=cloud-optimized\",\n",
    "                    \"title\": \"NOAA STORM COG\",\n",
    "                }\n",
    "            },\n",
    "            \"geometry\": {\n",
    "                \"type\": \"Polygon\",\n",
    "                \"coordinates\": [\n",
    "                    [\n",
    "                        [-94.6334839, 37.0595608],\n",
    "                        [-94.6334839, 37.0332547],\n",
    "                        [-94.6005249, 37.0332547],\n",
    "                        [-94.6005249, 37.0595608],\n",
    "                        [-94.6334839, 37.0595608],\n",
    "                    ]\n",
    "                ],\n",
    "            },\n",
    "            \"collection\": f\"esmeralda_S1_L1\",\n",
    "            \"properties\": {\n",
    "                \"gsd\": 0.5971642834779395,\n",
    "                \"width\": 2500,\n",
    "                \"height\": 2500,\n",
    "                \"datetime\": \"2000-02-02T00:00:00Z\",\n",
    "                \"proj:epsg\": 3857,\n",
    "                \"orientation\": \"nadir\",\n",
    "            },\n",
    "            \"stac_version\": \"1.0.0\",\n",
    "            \"stac_extensions\": [\n",
    "                \"https://stac-extensions.github.io/eo/v1.0.0/schema.json\",\n",
    "                \"https://stac-extensions.github.io/projection/v1.0.0/schema.json\",\n",
    "            ],\n",
    "        }\n",
    "\n",
    "post_response = requests.post(f\"{RS_SERVER_ROOT_URL}/catalog/esmeralda/collections/S1_L1/items\", json=feature,)\n",
    "\n",
    "feature_response = requests.get(f\"{RS_SERVER_ROOT_URL}/catalog/esmeralda/collections/S1_L1/items\")\n",
    "feature_response.raise_for_status()\n",
    "\n",
    "feature = json.loads(feature_response.content)\n",
    "feature"
   ]
  },
  {
   "cell_type": "markdown",
   "id": "23d6ca4a-ce02-49b7-b2c8-22e45dc4f1f9",
   "metadata": {},
   "source": [
    "The previous commands create the first feature in the esmeralda S1_L1 collection. Then, it gets the the feature created.\n",
    "\n",
    "Let's look at its content."
   ]
  },
  {
   "cell_type": "markdown",
   "id": "71318bbe-f565-408f-9259-56e1cc320ea5",
   "metadata": {},
   "source": [
    "## Displays the collections of the quasimodo catalog"
   ]
  },
  {
   "cell_type": "code",
   "execution_count": 11,
   "id": "b27a0d3c-deba-467c-9fbc-aa82192bef6c",
   "metadata": {},
   "outputs": [
    {
     "data": {
      "text/plain": [
       "{'collections': [],\n",
       " 'links': [{'rel': 'root',\n",
       "   'type': 'application/json',\n",
       "   'href': 'http://rs-server-catalog:8000/catalog/quasimodo'},\n",
       "  {'rel': 'parent',\n",
       "   'type': 'application/json',\n",
       "   'href': 'http://rs-server-catalog:8000/catalog/quasimodo'},\n",
       "  {'rel': 'self',\n",
       "   'type': 'application/json',\n",
       "   'href': 'http://rs-server-catalog:8000/catalog/quasimodo/collections'}]}"
      ]
     },
     "execution_count": 11,
     "metadata": {},
     "output_type": "execute_result"
    }
   ],
   "source": [
    "import requests\n",
    "import json\n",
    "\n",
    "RS_SERVER_ROOT_URL = \"http://rs-server-catalog:8000\"\n",
    "\n",
    "response = requests.get(f\"{RS_SERVER_ROOT_URL}/catalog/quasimodo/collections/\")\n",
    "response.raise_for_status()\n",
    "\n",
    "collections = json.loads(response.content)\n",
    "collections"
   ]
  },
  {
   "cell_type": "markdown",
   "id": "5a9882f8-e6e8-4fb1-9e57-82efe31e0a04",
   "metadata": {},
   "source": [
    "The previous commands retrieve the collections of the quasimodo catalog.\n",
    "\n",
    "There is no collection currently. Let's just add a new simple collection on it."
   ]
  },
  {
   "cell_type": "markdown",
   "id": "7efde140-7e6a-4f31-8ebe-b2da39b5f7c9",
   "metadata": {},
   "source": [
    "## Add a S1_L1 collection in the quasimodo catalog"
   ]
  },
  {
   "cell_type": "code",
   "execution_count": 14,
   "id": "c9190903-13d9-4d61-a49c-6fafa2f44290",
   "metadata": {},
   "outputs": [
    {
     "data": {
      "text/plain": [
       "{'collections': [],\n",
       " 'links': [{'rel': 'root',\n",
       "   'type': 'application/json',\n",
       "   'href': 'http://rs-server-catalog:8000/catalog/quasimodo'},\n",
       "  {'rel': 'parent',\n",
       "   'type': 'application/json',\n",
       "   'href': 'http://rs-server-catalog:8000/catalog/quasimodo'},\n",
       "  {'rel': 'self',\n",
       "   'type': 'application/json',\n",
       "   'href': 'http://rs-server-catalog:8000/catalog/quasimodo/collections'}]}"
      ]
     },
     "execution_count": 14,
     "metadata": {},
     "output_type": "execute_result"
    }
   ],
   "source": [
    "import requests\n",
    "import json\n",
    "\n",
    "RS_SERVER_ROOT_URL = \"http://rs-server-catalog:8000\"\n",
    "\n",
    "collection = {\n",
    "            \"id\": \"quasimodo_S1_L1\",\n",
    "            \"type\": \"Collection\",\n",
    "            \"links\": [\n",
    "                {\n",
    "                    \"rel\": \"items\",\n",
    "                    \"type\": \"application/geo+json\",\n",
    "                    \"href\": \"http://localhost:8082/collections/quasimodo_S1_L1/items\",\n",
    "                },\n",
    "                {\"rel\": \"parent\", \"type\": \"application/json\", \"href\": \"http://localhost:8082/\"},\n",
    "                {\"rel\": \"root\", \"type\": \"application/json\", \"href\": \"http://localhost:8082/\"},\n",
    "                {\"rel\": \"self\", \"type\": \"application/json\", \"href\": \"http://localhost:8082/collections/quasimodo_S1_L1\"},\n",
    "                {\n",
    "                    \"rel\": \"license\",\n",
    "                    \"href\": \"https://creativecommons.org/licenses/publicdomain/\",\n",
    "                    \"title\": \"public domain\",\n",
    "                },\n",
    "            ],\n",
    "            \"extent\": {\n",
    "                \"spatial\": {\"bbox\": [[-94.6911621, 37.0332547, -94.402771, 37.1077651]]},\n",
    "                \"temporal\": {\"interval\": [[\"2000-02-01T00:00:00Z\", \"2000-02-12T00:00:00Z\"]]},\n",
    "            },\n",
    "            \"license\": \"public-domain\",\n",
    "            \"description\": \"Some description\",\n",
    "            \"stac_version\": \"1.0.0\",\n",
    "        }\n",
    "\n",
    "post_response = requests.post(f\"{RS_SERVER_ROOT_URL}/catalog/quasimodo/collections\", collection)\n",
    "\n",
    "response = requests.get(f\"{RS_SERVER_ROOT_URL}/catalog/quasimodo/collections\")\n",
    "response.raise_for_status()\n",
    "\n",
    "collection = json.loads(response.content)\n",
    "collection"
   ]
  },
  {
   "cell_type": "markdown",
   "id": "f123af70-d9d5-4bd0-8912-745c5d8d9df0",
   "metadata": {},
   "source": [
    "The previous commands create the S1_L1 collection in the quasimodo catalog. Then, it gets the quasimodo collections again. \n",
    "\n",
    "Let's look at its content."
   ]
  },
  {
   "cell_type": "markdown",
   "id": "2013e77b-cd4a-4e6e-86ce-dcefe288f193",
   "metadata": {},
   "source": [
    "## To go further\n",
    "\n",
    "TODO STAC browser sur le catalog esmeralda\n",
    "TODO SwaggerUI du catalog"
   ]
  },
  {
   "cell_type": "markdown",
   "id": "ee65db40-9706-4fd2-97ff-05a66c78a459",
   "metadata": {},
   "source": [
    "---\n",
    "**NOTE**\n",
    "\n",
    "STAC Swagger UI: http://rs-server-catalog:8000/api.html\n",
    "\n",
    "---"
   ]
  },
  {
   "cell_type": "markdown",
   "id": "7d77b643-1006-4717-8475-2267b8bf3db2",
   "metadata": {},
   "source": []
  },
  {
   "cell_type": "markdown",
   "id": "8c4605db-e310-47a9-86cb-2b3f665f1674",
   "metadata": {},
   "source": []
  }
 ],
 "metadata": {
  "kernelspec": {
   "display_name": "Python 3 (ipykernel)",
   "language": "python",
   "name": "python3"
  },
  "language_info": {
   "codemirror_mode": {
    "name": "ipython",
    "version": 3
   },
   "file_extension": ".py",
   "mimetype": "text/x-python",
   "name": "python",
   "nbconvert_exporter": "python",
   "pygments_lexer": "ipython3",
   "version": "3.11.6"
  }
 },
 "nbformat": 4,
 "nbformat_minor": 5
}

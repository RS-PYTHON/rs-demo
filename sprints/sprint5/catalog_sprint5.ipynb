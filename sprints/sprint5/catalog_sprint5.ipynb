{
 "cells": [
  {
   "cell_type": "markdown",
   "id": "d2a7dd43-b6aa-4f52-93b4-a08e056a6082",
   "metadata": {},
   "source": [
    "# Using the rs-server catalog\n",
    "\n",
    "This tutorial is meant the basic usage of the rs-server catalog service."
   ]
  },
  {
   "cell_type": "markdown",
   "id": "35f9d479-60e5-4cf4-b4e4-1ee3c3e20c9c",
   "metadata": {},
   "source": [
    "## Introduction\n",
    "\n",
    "The rs-server catalog service exposes a REST API \n",
    "on the /catalog endpoint of the rs-server.\n",
    "\n",
    "Each user owns a dedicated STAC catalog.\n",
    "It can be accessed at the /catalog/{user} endpoint.\n",
    "Each catalog is following the STAC API.\n",
    "\n",
    "Let's illustrate all this with some examples."
   ]
  },
  {
   "cell_type": "markdown",
   "id": "858c7969-40cf-4fc9-bcd9-9e16ea80860b",
   "metadata": {},
   "source": [
    "## Configuration"
   ]
  },
  {
   "cell_type": "code",
   "execution_count": null,
   "id": "dd7f9e96-78aa-4d41-a042-d8e4be877fd2",
   "metadata": {},
   "outputs": [],
   "source": [
    "# Set local or cluster configuration\n",
    "import os\n",
    "\n",
    "if os.getenv(\"RSPY_LOCAL_MODE\") == \"1\":\n",
    "    RS_SERVER_ROOT_URL = \"http://rs-server-catalog:8000\"\n",
    "    HEADERS={}\n",
    "    local_mode = True\n",
    "else:\n",
    "    RS_SERVER_ROOT_URL = os.environ[\"RSPY_WEBSITE\"]\n",
    "    HEADERS={\"headers\": {\"x-api-key\": os.environ[\"RSPY_APIKEY\"]}}\n",
    "    local_mode = False\n",
    "\n",
    "print(f\"Using: {RS_SERVER_ROOT_URL}\")\n",
    "\n",
    "import requests\n",
    "import json"
   ]
  },
  {
   "cell_type": "markdown",
   "id": "6dfe8b27-b27f-4bdd-a4ff-8ea861a9e98b",
   "metadata": {},
   "source": [
    "## Clean previous executions"
   ]
  },
  {
   "cell_type": "code",
   "execution_count": null,
   "id": "d5f2edd0-b7c0-4b18-ba8b-418fd68f56f1",
   "metadata": {},
   "outputs": [],
   "source": [
    "for collection in (\"esmeralda:S1_L1\", \"quasimodo:S1_L1\"):\n",
    "    requests.delete(f\"{RS_SERVER_ROOT_URL}/catalog/collections/{collection}\", **HEADERS)"
   ]
  },
  {
   "cell_type": "markdown",
   "id": "05afc997-4b92-4ed1-807b-2caa902eefa9",
   "metadata": {},
   "source": [
    "## Displays the collections of the esmeralda catalog"
   ]
  },
  {
   "cell_type": "code",
   "execution_count": null,
   "id": "dbc3e9e2-b286-43d1-983b-a87899b65e70",
   "metadata": {},
   "outputs": [],
   "source": [
    "response = requests.get(f\"{RS_SERVER_ROOT_URL}/catalog/collections\", **HEADERS)\n",
    "response.raise_for_status()\n",
    "\n",
    "collections = json.loads(response.content)\n",
    "collections"
   ]
  },
  {
   "cell_type": "markdown",
   "id": "d750a66c-4c83-4414-b483-463c54d7301e",
   "metadata": {},
   "source": [
    "The previous commands retrieve the collections of the esmeralda catalog.\n",
    "\n",
    "There is no collection currently.\n",
    "Let's just add a new simple collection on it."
   ]
  },
  {
   "cell_type": "markdown",
   "id": "7e82f84b-05a2-45fb-8b0a-9ce612b28f68",
   "metadata": {},
   "source": [
    "## Add the collection S1_L1 in the esmeralda catalog"
   ]
  },
  {
   "cell_type": "code",
   "execution_count": null,
   "id": "3f951b2d-82b8-43c3-9256-2bfac5b776b1",
   "metadata": {},
   "outputs": [],
   "source": [
    "collection = {\n",
    "            \"id\": \"S1_L1\",\n",
    "            \"type\": \"Collection\",\n",
    "            \"description\": \"The S1_L1 collection for Esmeralda user.\",\n",
    "            \"stac_version\": \"1.0.0\",\n",
    "            \"owner\": \"esmeralda\"\n",
    "        }\n",
    "\n",
    "post_response = requests.post(f\"{RS_SERVER_ROOT_URL}/catalog/collections\", json=collection, **HEADERS)\n",
    "post_response.raise_for_status()\n",
    "\n",
    "response = requests.get(f\"{RS_SERVER_ROOT_URL}/catalog/collections/esmeralda:S1_L1\", **HEADERS)\n",
    "response.raise_for_status()\n",
    "\n",
    "collection = json.loads(response.content)\n",
    "collection"
   ]
  },
  {
   "cell_type": "markdown",
   "id": "30de61a9-beb5-450a-a9e0-0098ab8e3f20",
   "metadata": {},
   "source": [
    "The previous commands create the S1_L1 collection in the esmeralda catalog.\n",
    "Then, it gets the esmeralda collections again.\n",
    "This time, there is the S1_L1 collection, previously added.\n",
    "\n",
    "Let's look at its content."
   ]
  },
  {
   "cell_type": "markdown",
   "id": "66b5d1f6-8bca-457c-bb73-0de00c154808",
   "metadata": {},
   "source": [
    "## Displays the items of the collection S1_L1 in the esmeralda catalog"
   ]
  },
  {
   "cell_type": "code",
   "execution_count": null,
   "id": "fd234781-2228-4f04-a571-ed813ab739b0",
   "metadata": {},
   "outputs": [],
   "source": [
    "feature_response = requests.get(f\"{RS_SERVER_ROOT_URL}/catalog/collections/esmeralda:S1_L1/items\", **HEADERS)\n",
    "response.raise_for_status\n",
    "\n",
    "feature = json.loads(feature_response.content)\n",
    "feature"
   ]
  },
  {
   "cell_type": "markdown",
   "id": "fc977f85-5311-4104-9286-fdea0c4ffea0",
   "metadata": {},
   "source": [
    "The previous commands retrieve the features of the esmeralda S1_L1 collection.\n",
    "\n",
    "There is no features currently. Let's just add a new simple feature on it.\n"
   ]
  },
  {
   "cell_type": "markdown",
   "id": "e639ea33-a2bc-47d6-b642-6657daa60d18",
   "metadata": {},
   "source": [
    "## Add an item in the collection S1_L1 in the esmeralda catalog"
   ]
  },
  {
   "cell_type": "code",
   "execution_count": null,
   "id": "14f2be41-bbbe-4424-8e84-b5c2b58f21a7",
   "metadata": {},
   "outputs": [],
   "source": [
    "feature = {\n",
    "            \"id\": \"item_0\",\n",
    "            \"bbox\": [-94.6334839, 37.0332547, -94.6005249, 37.0595608],\n",
    "            \"type\": \"Feature\",\n",
    "            \"geometry\": {\n",
    "                \"type\": \"Polygon\",\n",
    "                \"coordinates\": [\n",
    "                    [\n",
    "                        [-94.6334839, 37.0595608],\n",
    "                        [-94.6334839, 37.0332547],\n",
    "                        [-94.6005249, 37.0332547],\n",
    "                        [-94.6005249, 37.0595608],\n",
    "                        [-94.6334839, 37.0595608],\n",
    "                    ]\n",
    "                ],\n",
    "            },\n",
    "            \"collection\": \"S1_L1\",\n",
    "            \"properties\": {\n",
    "                \"gsd\": 0.5971642834779395,\n",
    "                \"width\": 2500,\n",
    "                \"height\": 2500,\n",
    "                \"datetime\": \"2000-02-02T00:00:00Z\",\n",
    "                \"proj:epsg\": 3857,\n",
    "                \"orientation\": \"nadir\",\n",
    "            },\n",
    "        }\n",
    "\n",
    "post_response = requests.post(f\"{RS_SERVER_ROOT_URL}/catalog/collections/esmeralda:S1_L1/items\", json=feature, **HEADERS)\n",
    "\n",
    "item_response = requests.get(f\"{RS_SERVER_ROOT_URL}/catalog/collections/esmeralda:S1_L1/items\", **HEADERS)\n",
    "item_response.raise_for_status()\n",
    "\n",
    "item = json.loads(feature_response.content)\n",
    "item"
   ]
  },
  {
   "cell_type": "markdown",
   "id": "23d6ca4a-ce02-49b7-b2c8-22e45dc4f1f9",
   "metadata": {},
   "source": [
    "The previous commands create the first feature in the esmeralda S1_L1 collection. Then, it gets the the feature created.\n",
    "\n",
    "Let's look at its content."
   ]
  },
  {
   "cell_type": "markdown",
   "id": "71318bbe-f565-408f-9259-56e1cc320ea5",
   "metadata": {},
   "source": [
    "## Displays the collections of the quasimodo catalog"
   ]
  },
  {
   "cell_type": "code",
   "execution_count": null,
   "id": "b27a0d3c-deba-467c-9fbc-aa82192bef6c",
   "metadata": {},
   "outputs": [],
   "source": [
    "response = requests.get(f\"{RS_SERVER_ROOT_URL}/catalog/collections\", **HEADERS)\n",
    "response.raise_for_status()\n",
    "\n",
    "collections = json.loads(response.content)\n",
    "collections"
   ]
  },
  {
   "cell_type": "markdown",
   "id": "5a9882f8-e6e8-4fb1-9e57-82efe31e0a04",
   "metadata": {},
   "source": [
    "The previous commands retrieve the collections of the quasimodo catalog.\n",
    "\n",
    "There is no collection currently. Let's just add a new simple collection on it."
   ]
  },
  {
   "cell_type": "markdown",
   "id": "7efde140-7e6a-4f31-8ebe-b2da39b5f7c9",
   "metadata": {},
   "source": [
    "## Add a S1_L1 collection in the quasimodo catalog"
   ]
  },
  {
   "cell_type": "code",
   "execution_count": null,
   "id": "c9190903-13d9-4d61-a49c-6fafa2f44290",
   "metadata": {},
   "outputs": [],
   "source": [
    "collection = {\n",
    "            \"id\": \"S1_L1\",\n",
    "            \"type\": \"Collection\",\n",
    "            \"description\": \"The S1_L1 collection for Quasimodo user\",\n",
    "            \"stac_version\": \"1.0.0\",\n",
    "            \"owner\": \"quasimodo\"\n",
    "        }\n",
    "\n",
    "post_response = requests.post(f\"{RS_SERVER_ROOT_URL}/catalog/collections\", json=collection, **HEADERS)\n",
    "post_response.raise_for_status()\n",
    "\n",
    "response = requests.get(f\"{RS_SERVER_ROOT_URL}/catalog/collections\", **HEADERS)\n",
    "response.raise_for_status()\n",
    "\n",
    "collection = json.loads(response.content)\n",
    "collection"
   ]
  },
  {
   "cell_type": "markdown",
   "id": "f123af70-d9d5-4bd0-8912-745c5d8d9df0",
   "metadata": {},
   "source": [
    "The previous commands create the S1_L1 collection in the quasimodo catalog. Then, it gets the quasimodo collections again. \n",
    "\n",
    "Let's look at its content."
   ]
  },
  {
   "cell_type": "code",
   "execution_count": null,
   "id": "6a781aef-553b-4b90-9bf1-de16e17ad440",
   "metadata": {},
   "outputs": [],
   "source": [
    "to_delete = requests.delete(f\"{RS_SERVER_ROOT_URL}/catalog/collections/esmeralda:S1_L1\", **HEADERS)\n",
    "to_delete.raise_for_status()\n",
    "to_delete = requests.delete(f\"{RS_SERVER_ROOT_URL}/catalog/collections/quasimodo:S1_L1\", **HEADERS)\n",
    "to_delete.raise_for_status()"
   ]
  },
  {
   "cell_type": "markdown",
   "id": "2013e77b-cd4a-4e6e-86ce-dcefe288f193",
   "metadata": {},
   "source": [
    "## To go further\n"
   ]
  },
  {
   "cell_type": "markdown",
   "id": "ee65db40-9706-4fd2-97ff-05a66c78a459",
   "metadata": {},
   "source": [
    "---\n",
    "**NOTE**\n",
    "\n",
    "STAC Swagger UI: http://localhost:8003/api.html\n",
    "\n",
    "---"
   ]
  }
 ],
 "metadata": {
  "kernelspec": {
   "display_name": "Python 3 (ipykernel)",
   "language": "python",
   "name": "python3"
  },
  "language_info": {
   "codemirror_mode": {
    "name": "ipython",
    "version": 3
   },
   "file_extension": ".py",
   "mimetype": "text/x-python",
   "name": "python",
   "nbconvert_exporter": "python",
   "pygments_lexer": "ipython3",
   "version": "3.11.6"
  }
 },
 "nbformat": 4,
 "nbformat_minor": 5
}

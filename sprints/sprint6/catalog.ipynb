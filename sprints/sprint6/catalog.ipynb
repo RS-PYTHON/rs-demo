{
 "cells": [
  {
   "cell_type": "markdown",
   "id": "03d5dd16-26cd-451b-b248-f6e4ed9350a3",
   "metadata": {},
   "source": [
    "# Using the rs-server catalog\n",
    "\n",
    "This tutorial is meant the basic usage of the rs-server catalog service."
   ]
  },
  {
   "cell_type": "markdown",
   "id": "b756e1f7-c626-47c8-8d49-ca0373c4ca42",
   "metadata": {},
   "source": [
    "## Introduction\n",
    "\n",
    "The rs-server catalog service exposes a REST API \n",
    "on the /catalog endpoint of the rs-server.\n",
    "\n",
    "Each user owns a dedicated STAC catalog.\n",
    "It can be accessed at the /catalog/{user} endpoint.\n",
    "Each catalog is following the STAC API.\n",
    "\n",
    "Let's illustrate all this with some examples."
   ]
  },
  {
   "cell_type": "markdown",
   "id": "8c2d56ae-7bdb-4e86-9935-0b29b880c0bf",
   "metadata": {},
   "source": [
    "## Add the collection S1_L1 in the esmeralda catalog"
   ]
  },
  {
   "cell_type": "code",
   "execution_count": null,
   "id": "8f7126f9-2c90-4ef6-a5df-6f6c70750047",
   "metadata": {},
   "outputs": [],
   "source": [
    "import requests\n",
    "import json\n",
    "\n",
    "RS_SERVER_ROOT_URL = \"http://rs-server-catalog:8000\"\n",
    "\n",
    "collection = {\n",
    "            \"id\": \"S1_L1\",\n",
    "            \"type\": \"Collection\",\n",
    "            \"description\": \"The S1_L1 collection for Esmeralda user.\",\n",
    "            \"stac_version\": \"1.0.0\",\n",
    "        }\n",
    "\n",
    "post_response = requests.post(f\"{RS_SERVER_ROOT_URL}/catalog/esmeralda/collections\", json=collection,)\n",
    "post_response.raise_for_status()\n",
    "\n",
    "response = requests.get(f\"{RS_SERVER_ROOT_URL}/catalog/esmeralda/collections/S1_L1\")\n",
    "response.raise_for_status()\n",
    "\n",
    "collection = json.loads(response.content)\n",
    "collection"
   ]
  },
  {
   "cell_type": "markdown",
   "id": "7071090a-d548-4202-9625-53c243269d3e",
   "metadata": {},
   "source": [
    "The previous commands create the S1_L1 collection in the esmeralda catalog.\n",
    "Then, it gets the esmeralda collections again.\n",
    "This time, there is the S1_L1 collection, previously added.\n",
    "\n",
    "Let's look at its content."
   ]
  },
  {
   "cell_type": "markdown",
   "id": "2985eb85-696e-47e0-b211-c697e2bc9427",
   "metadata": {},
   "source": [
    "## Add an item in the collection S1_L1 in the esmeralda catalog"
   ]
  },
  {
   "cell_type": "code",
   "execution_count": null,
   "id": "6ea5dde8-cc6c-4dc0-b827-fcfef5e4ecee",
   "metadata": {},
   "outputs": [],
   "source": [
    "import requests\n",
    "import json\n",
    "\n",
    "RS_SERVER_ROOT_URL = \"http://rs-server-catalog:8000\"\n",
    "\n",
    "item_0 = {\n",
    "            \"id\": \"item_0\",\n",
    "            \"bbox\": [-94.6334839, 37.0332547, -94.6005249, 37.0595608],\n",
    "            \"type\": \"Feature\",\n",
    "            \"geometry\": {\n",
    "                \"type\": \"Polygon\",\n",
    "                \"coordinates\": [\n",
    "                    [\n",
    "                        [-94.6334839, 37.0595608],\n",
    "                        [-94.6334839, 37.0332547],\n",
    "                        [-94.6005249, 37.0332547],\n",
    "                        [-94.6005249, 37.0595608],\n",
    "                        [-94.6334839, 37.0595608],\n",
    "                    ]\n",
    "                ],\n",
    "            },\n",
    "            \"collection\": \"S1_L1\",\n",
    "            \"properties\": {\n",
    "                \"gsd\": 0.5971642834779395,\n",
    "                \"width\": 2500,\n",
    "                \"height\": 2500,\n",
    "                \"datetime\": \"2000-02-02T00:00:00Z\",\n",
    "                \"proj:epsg\": 3857,\n",
    "                \"orientation\": \"nadir\",\n",
    "            },\n",
    "        }\n",
    "\n",
    "post_response = requests.post(f\"{RS_SERVER_ROOT_URL}/catalog/esmeralda/collections/S1_L1/items\", json=item_0,)\n",
    "\n",
    "item_response = requests.get(f\"{RS_SERVER_ROOT_URL}/catalog/esmeralda/collections/S1_L1/items\")\n",
    "item_response.raise_for_status()\n",
    "\n",
    "item = json.loads(item_response.content)\n",
    "item"
   ]
  },
  {
   "cell_type": "markdown",
   "id": "b0bb4ddb-4687-4935-a22f-e68223234fa7",
   "metadata": {},
   "source": [
    "The previous commands create the first feature in the esmeralda S1_L1 collection. Then, it gets the the feature created.\n",
    "\n",
    "Let's look at its content."
   ]
  },
  {
   "cell_type": "markdown",
   "id": "47bc67e7-6d34-42ef-b001-5eaf813b5d72",
   "metadata": {},
   "source": [
    "## Get the first item from Esmeralda S1_L1 collection"
   ]
  },
  {
   "cell_type": "code",
   "execution_count": null,
   "id": "c0b5d26a-24fc-4c14-a997-735f91c5c12f",
   "metadata": {},
   "outputs": [],
   "source": [
    "import requests\n",
    "import json\n",
    "\n",
    "RS_SERVER_ROOT_URL = \"http://rs-server-catalog:8000\"\n",
    "\n",
    "get_response = requests.get(f\"{RS_SERVER_ROOT_URL}/catalog/esmeralda/collections/S1_L1/items/item_0\")\n",
    "get_response.raise_for_status()\n",
    "\n",
    "item = json.loads(get_response.content)\n",
    "item"
   ]
  },
  {
   "cell_type": "markdown",
   "id": "77290133-d0b5-476d-926a-08be8fac62c6",
   "metadata": {},
   "source": [
    "The previous commands will display a single item from esmeralda S1_L1 collection"
   ]
  },
  {
   "cell_type": "markdown",
   "id": "08434e7a-c96c-4b6a-bfde-a9e0ec2e47ba",
   "metadata": {},
   "source": [
    "## Add 2 new items in esmeralda S1_L1 collection and search all items with the datetime: "
   ]
  },
  {
   "cell_type": "code",
   "execution_count": null,
   "id": "affc850d-455b-44bf-9155-91ffd439d009",
   "metadata": {},
   "outputs": [],
   "source": [
    "import requests\n",
    "import json\n",
    "\n",
    "RS_SERVER_ROOT_URL = \"http://rs-server-catalog:8000\"\n",
    "\n",
    "item_1 = {\n",
    "            \"id\": \"item_1\",\n",
    "            \"bbox\": [-94.6334839, 37.0332547, -94.6005249, 37.0595608],\n",
    "            \"type\": \"Feature\",\n",
    "            \"geometry\": {\n",
    "                \"type\": \"Polygon\",\n",
    "                \"coordinates\": [\n",
    "                    [\n",
    "                        [-94.6334839, 37.0595608],\n",
    "                        [-94.6334839, 37.0332547],\n",
    "                        [-94.6005249, 37.0332547],\n",
    "                        [-94.6005249, 37.0595608],\n",
    "                        [-94.6334839, 37.0595608],\n",
    "                    ]\n",
    "                ],\n",
    "            },\n",
    "            \"collection\": \"S1_L1\",\n",
    "            \"properties\": {\n",
    "                \"gsd\": 0.5971642834779395,\n",
    "                \"width\": 2500,\n",
    "                \"height\": 2500,\n",
    "                \"datetime\": \"2000-03-02T00:00:00Z\",\n",
    "                \"proj:epsg\": 3857,\n",
    "                \"orientation\": \"nadir\",\n",
    "            },\n",
    "        }\n",
    "\n",
    "item_2 = {\n",
    "            \"id\": \"item_2\",\n",
    "            \"bbox\": [-94.6334839, 37.0332547, -94.6005249, 37.0595608],\n",
    "            \"type\": \"Feature\",\n",
    "            \"geometry\": {\n",
    "                \"type\": \"Polygon\",\n",
    "                \"coordinates\": [\n",
    "                    [\n",
    "                        [-94.6334839, 37.0595608],\n",
    "                        [-94.6334839, 37.0332547],\n",
    "                        [-94.6005249, 37.0332547],\n",
    "                        [-94.6005249, 37.0595608],\n",
    "                        [-94.6334839, 37.0595608],\n",
    "                    ]\n",
    "                ],\n",
    "            },\n",
    "            \"collection\": \"S1_L1\",\n",
    "            \"properties\": {\n",
    "                \"gsd\": 0.5971642834779395,\n",
    "                \"width\": 2500,\n",
    "                \"height\": 2500,\n",
    "                \"datetime\": \"2000-03-02T00:00:00Z\",\n",
    "                \"proj:epsg\": 3857,\n",
    "                \"orientation\": \"nadir\",\n",
    "            },\n",
    "        }\n",
    "\n",
    "post = requests.post(f\"{RS_SERVER_ROOT_URL}/catalog/esmeralda/collections/S1_L1/items\", json=item_1,)\n",
    "post.raise_for_status()\n",
    "post = requests.post(f\"{RS_SERVER_ROOT_URL}/catalog/esmeralda/collections/S1_L1/items\", json=item_2,)\n",
    "post.raise_for_status()"
   ]
  },
  {
   "cell_type": "code",
   "execution_count": null,
   "id": "ac046642-65bd-4c09-a330-eec683d3691e",
   "metadata": {},
   "outputs": [],
   "source": [
    "search_response = requests.get(f\"{RS_SERVER_ROOT_URL}/catalog/search?collections=esmeralda_S1_L1&datetime=2000-03-02T00%3A00%3A00Z&limit=10\")\n",
    "search_response.raise_for_status()\n",
    "\n",
    "result = json.loads(search_response.content)\n",
    "result"
   ]
  },
  {
   "cell_type": "markdown",
   "id": "96116b94-2387-4eec-9342-0258714e35f5",
   "metadata": {},
   "source": [
    "The previous command will display the result from the search endpoint with specifics parameters such as the collection name or the datetime."
   ]
  },
  {
   "cell_type": "markdown",
   "id": "bf024175-a0d7-4ef2-b84d-8d59b7c43d7f",
   "metadata": {},
   "source": [
    "## Update the item_0 from the Esmeralda S1_L1 collection"
   ]
  },
  {
   "cell_type": "code",
   "execution_count": null,
   "id": "e6c73d49-13b3-42ca-b0d8-0d34ce726ac9",
   "metadata": {},
   "outputs": [],
   "source": [
    "import requests\n",
    "import json\n",
    "\n",
    "RS_SERVER_ROOT_URL = \"http://rs-server-catalog:8000\"\n",
    "\n",
    "new_item_0 = {\n",
    "            \"id\": \"item_0\",\n",
    "            \"bbox\": [-94.6334839, 37.0332547, -94.6005249, 37.0595608],\n",
    "            \"type\": \"Feature\",\n",
    "            \"geometry\": {\n",
    "                \"type\": \"Polygon\",\n",
    "                \"coordinates\": [\n",
    "                    [\n",
    "                        [-100, 37.0595608],\n",
    "                        [-108, 37.0332547],\n",
    "                        [-100, 37.0332547],\n",
    "                        [-111, 37.0595608],\n",
    "                        [-100, 37.0595608],\n",
    "                    ]\n",
    "                ],\n",
    "            },\n",
    "            \"collection\": \"S1_L1\",\n",
    "            \"properties\": {\n",
    "                \"gsd\": 0.5971642834779395,\n",
    "                \"width\": 5000,\n",
    "                \"height\": 2500,\n",
    "                \"datetime\": \"2014-02-02T00:00:00Z\",\n",
    "                \"proj:epsg\": 3857,\n",
    "                \"orientation\": \"nadir\",\n",
    "            },\n",
    "        }\n",
    "\n",
    "update_response = requests.put(f\"{RS_SERVER_ROOT_URL}/catalog/esmeralda/collections/S1_L1/items/item_0\", json=new_item_0,)\n",
    "update_response.raise_for_status()\n",
    "\n",
    "result = json.loads(update_response.content)\n",
    "result"
   ]
  },
  {
   "cell_type": "markdown",
   "id": "54614d9c-e5cd-46ee-973b-49ac0cfffd5b",
   "metadata": {},
   "source": [
    "The previous command will update the item_0 from the Esmeralda S1_L1 collection by changing geometry, width and datetime."
   ]
  },
  {
   "cell_type": "markdown",
   "id": "491fbcdf-a46e-4993-b167-813abae9f16f",
   "metadata": {},
   "source": [
    "## Update the collection S1_L1 from the Esmeralda catalog"
   ]
  },
  {
   "cell_type": "code",
   "execution_count": null,
   "id": "1bea3dac-b851-4cc1-8765-ff9545e51860",
   "metadata": {},
   "outputs": [],
   "source": [
    "import requests\n",
    "import json\n",
    "\n",
    "RS_SERVER_ROOT_URL = \"http://rs-server-catalog:8000\"\n",
    "\n",
    "new_collection_S1_L1 = {\n",
    "            \"id\": \"S1_L1\",\n",
    "            \"type\": \"Collection\",\n",
    "            \"description\": \"This is the new description for the S1_L1 collection for Esmeralda user.\",\n",
    "            \"stac_version\": \"1.0.0\",\n",
    "        }\n",
    "\n",
    "update_response = requests.put(f\"{RS_SERVER_ROOT_URL}/catalog/esmeralda/collections\", json=new_collection_S1_L1)\n",
    "update_response.raise_for_status()\n",
    "\n",
    "result = json.loads(update_response.content)\n",
    "result"
   ]
  },
  {
   "cell_type": "markdown",
   "id": "ed15f73e-92e4-4d23-bae6-08eb1874057b",
   "metadata": {},
   "source": [
    "The previous command will update the collection S1_L1 from the Esmeralda catalog by changing the collection description."
   ]
  },
  {
   "cell_type": "markdown",
   "id": "dd95498a-13a3-4240-b75d-803bf0ef5fa1",
   "metadata": {},
   "source": [
    "## Delete an item from the Esmeralda S1_L1 collection"
   ]
  },
  {
   "cell_type": "code",
   "execution_count": null,
   "id": "ada1dbc9-886a-41a2-b0ad-62130e503837",
   "metadata": {},
   "outputs": [],
   "source": [
    "import requests\n",
    "import json\n",
    "\n",
    "RS_SERVER_ROOT_URL = \"http://rs-server-catalog:8000\"\n",
    "\n",
    "delete_response = requests.delete(f\"{RS_SERVER_ROOT_URL}/catalog/esmeralda/collections/S1_L1/items/item_2\")\n",
    "delete_response.raise_for_status()\n",
    "\n",
    "result = json.loads(delete_response.content)\n",
    "result"
   ]
  },
  {
   "cell_type": "markdown",
   "id": "7299b7b7-6cdd-4da8-81ad-1a38fb36e3cd",
   "metadata": {},
   "source": [
    "## Delete the collection S1_L1 from the Esmeralda catalog"
   ]
  },
  {
   "cell_type": "code",
   "execution_count": null,
   "id": "d9f1f714-6fd5-409f-a14c-6a479923f6ef",
   "metadata": {},
   "outputs": [],
   "source": [
    "import requests\n",
    "import json\n",
    "\n",
    "RS_SERVER_ROOT_URL = \"http://rs-server-catalog:8000\"\n",
    "\n",
    "delete_response = requests.delete(f\"{RS_SERVER_ROOT_URL}/catalog/esmeralda/collections/S1_L1\")\n",
    "delete_response.raise_for_status()\n",
    "\n",
    "result = json.loads(delete_response.content)\n",
    "result"
   ]
  },
  {
   "cell_type": "markdown",
   "id": "f66bbfbc-db56-4b28-94dc-4082f7127cd2",
   "metadata": {},
   "source": [
    "## To go further\n"
   ]
  },
  {
   "cell_type": "markdown",
   "id": "067699df-e96a-4107-8077-5cdcd30f0443",
   "metadata": {},
   "source": [
    "---\n",
    "**NOTE**\n",
    "\n",
    "STAC Swagger UI: http://localhost:8003/api.html\n",
    "\n",
    "---"
   ]
  }
 ],
 "metadata": {
  "kernelspec": {
   "display_name": "Python 3 (ipykernel)",
   "language": "python",
   "name": "python3"
  },
  "language_info": {
   "codemirror_mode": {
    "name": "ipython",
    "version": 3
   },
   "file_extension": ".py",
   "mimetype": "text/x-python",
   "name": "python",
   "nbconvert_exporter": "python",
   "pygments_lexer": "ipython3",
   "version": "3.11.6"
  }
 },
 "nbformat": 4,
 "nbformat_minor": 5
}

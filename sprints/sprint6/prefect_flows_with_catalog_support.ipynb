{
 "cells": [
  {
   "cell_type": "markdown",
   "id": "d398824b",
   "metadata": {},
   "source": [
    "This demo is using the following implemented stories:\n",
    "- RSPY-25\n",
    "- RSPY-85\n",
    "- RSPY-100\n",
    "- RSPY-115"
   ]
  },
  {
   "cell_type": "markdown",
   "id": "b6657010",
   "metadata": {},
   "source": [
    "Install the needed libraries"
   ]
  },
  {
   "cell_type": "code",
   "execution_count": 1,
   "id": "be9b556c-b548-4428-8fe3-3cca45754287",
   "metadata": {},
   "outputs": [
    {
     "name": "stdout",
     "output_type": "stream",
     "text": [
      "Collecting boto3\n",
      "  Downloading boto3-1.34.60-py3-none-any.whl.metadata (6.6 kB)\n",
      "Collecting botocore<1.35.0,>=1.34.60 (from boto3)\n",
      "  Downloading botocore-1.34.60-py3-none-any.whl.metadata (5.7 kB)\n",
      "Collecting jmespath<2.0.0,>=0.7.1 (from boto3)\n",
      "  Downloading jmespath-1.0.1-py3-none-any.whl.metadata (7.6 kB)\n",
      "Collecting s3transfer<0.11.0,>=0.10.0 (from boto3)\n",
      "  Downloading s3transfer-0.10.0-py3-none-any.whl.metadata (1.7 kB)\n",
      "Requirement already satisfied: python-dateutil<3.0.0,>=2.1 in /opt/conda/lib/python3.11/site-packages (from botocore<1.35.0,>=1.34.60->boto3) (2.8.2)\n",
      "Requirement already satisfied: urllib3<2.1,>=1.25.4 in /opt/conda/lib/python3.11/site-packages (from botocore<1.35.0,>=1.34.60->boto3) (2.0.7)\n",
      "Requirement already satisfied: six>=1.5 in /opt/conda/lib/python3.11/site-packages (from python-dateutil<3.0.0,>=2.1->botocore<1.35.0,>=1.34.60->boto3) (1.16.0)\n",
      "Downloading boto3-1.34.60-py3-none-any.whl (139 kB)\n",
      "\u001b[2K   \u001b[90m━━━━━━━━━━━━━━━━━━━━━━━━━━━━━━━━━━━━━━━━\u001b[0m \u001b[32m139.3/139.3 kB\u001b[0m \u001b[31m1.7 MB/s\u001b[0m eta \u001b[36m0:00:00\u001b[0ma \u001b[36m0:00:01\u001b[0m\n",
      "\u001b[?25hDownloading botocore-1.34.60-py3-none-any.whl (12.0 MB)\n",
      "\u001b[2K   \u001b[90m━━━━━━━━━━━━━━━━━━━━━━━━━━━━━━━━━━━━━━━━\u001b[0m \u001b[32m12.0/12.0 MB\u001b[0m \u001b[31m32.7 MB/s\u001b[0m eta \u001b[36m0:00:00\u001b[0m00:01\u001b[0m00:01\u001b[0m\n",
      "\u001b[?25hDownloading jmespath-1.0.1-py3-none-any.whl (20 kB)\n",
      "Downloading s3transfer-0.10.0-py3-none-any.whl (82 kB)\n",
      "\u001b[2K   \u001b[90m━━━━━━━━━━━━━━━━━━━━━━━━━━━━━━━━━━━━━━━━\u001b[0m \u001b[32m82.1/82.1 kB\u001b[0m \u001b[31m7.7 MB/s\u001b[0m eta \u001b[36m0:00:00\u001b[0m\n",
      "\u001b[?25hInstalling collected packages: jmespath, botocore, s3transfer, boto3\n",
      "Successfully installed boto3-1.34.60 botocore-1.34.60 jmespath-1.0.1 s3transfer-0.10.0\n",
      "Processing ./rs_server_libraries-0.0.0.post1.dev0+5fe9de7-py3-none-any.whl\n",
      "Collecting numpy<2.0.0,>=1.26.4 (from rs-server-libraries==0.0.0.post1.dev0+5fe9de7)\n",
      "  Downloading numpy-1.26.4-cp311-cp311-manylinux_2_17_x86_64.manylinux2014_x86_64.whl.metadata (61 kB)\n",
      "\u001b[2K     \u001b[90m━━━━━━━━━━━━━━━━━━━━━━━━━━━━━━━━━━━━━━━\u001b[0m \u001b[32m61.0/61.0 kB\u001b[0m \u001b[31m939.1 kB/s\u001b[0m eta \u001b[36m0:00:00\u001b[0m \u001b[36m0:00:01\u001b[0m\n",
      "\u001b[?25hCollecting prefect<3.0.0,>=2.14.21 (from rs-server-libraries==0.0.0.post1.dev0+5fe9de7)\n",
      "  Downloading prefect-2.16.3-py3-none-any.whl.metadata (10 kB)\n",
      "Collecting prefect-dask<0.3.0,>=0.2.6 (from rs-server-libraries==0.0.0.post1.dev0+5fe9de7)\n",
      "  Downloading prefect_dask-0.2.6-py3-none-any.whl.metadata (12 kB)\n",
      "Collecting aiosqlite>=0.17.0 (from prefect<3.0.0,>=2.14.21->rs-server-libraries==0.0.0.post1.dev0+5fe9de7)\n",
      "  Downloading aiosqlite-0.20.0-py3-none-any.whl.metadata (4.3 kB)\n",
      "Requirement already satisfied: alembic<2.0.0,>=1.7.5 in /opt/conda/lib/python3.11/site-packages (from prefect<3.0.0,>=2.14.21->rs-server-libraries==0.0.0.post1.dev0+5fe9de7) (1.12.0)\n",
      "Collecting apprise<2.0.0,>=1.1.0 (from prefect<3.0.0,>=2.14.21->rs-server-libraries==0.0.0.post1.dev0+5fe9de7)\n",
      "  Downloading apprise-1.7.4-py3-none-any.whl.metadata (44 kB)\n",
      "\u001b[2K     \u001b[90m━━━━━━━━━━━━━━━━━━━━━━━━━━━━━━━━━━━━━━━━\u001b[0m \u001b[32m44.5/44.5 kB\u001b[0m \u001b[31m2.3 MB/s\u001b[0m eta \u001b[36m0:00:00\u001b[0m\n",
      "\u001b[?25hCollecting asyncpg>=0.23 (from prefect<3.0.0,>=2.14.21->rs-server-libraries==0.0.0.post1.dev0+5fe9de7)\n",
      "  Downloading asyncpg-0.29.0-cp311-cp311-manylinux_2_17_x86_64.manylinux2014_x86_64.whl.metadata (4.4 kB)\n",
      "Collecting click<8.2,>=8.0 (from prefect<3.0.0,>=2.14.21->rs-server-libraries==0.0.0.post1.dev0+5fe9de7)\n",
      "  Downloading click-8.1.7-py3-none-any.whl.metadata (3.0 kB)\n",
      "Requirement already satisfied: cryptography>=36.0.1 in /opt/conda/lib/python3.11/site-packages (from prefect<3.0.0,>=2.14.21->rs-server-libraries==0.0.0.post1.dev0+5fe9de7) (41.0.4)\n",
      "Collecting dateparser<2.0.0,>=1.1.1 (from prefect<3.0.0,>=2.14.21->rs-server-libraries==0.0.0.post1.dev0+5fe9de7)\n",
      "  Downloading dateparser-1.2.0-py2.py3-none-any.whl.metadata (28 kB)\n",
      "Collecting docker<7.0,>=4.0 (from prefect<3.0.0,>=2.14.21->rs-server-libraries==0.0.0.post1.dev0+5fe9de7)\n",
      "  Downloading docker-6.1.3-py3-none-any.whl.metadata (3.5 kB)\n",
      "Collecting graphviz>=0.20.1 (from prefect<3.0.0,>=2.14.21->rs-server-libraries==0.0.0.post1.dev0+5fe9de7)\n",
      "  Downloading graphviz-0.20.1-py3-none-any.whl.metadata (12 kB)\n",
      "Collecting griffe>=0.20.0 (from prefect<3.0.0,>=2.14.21->rs-server-libraries==0.0.0.post1.dev0+5fe9de7)\n",
      "  Downloading griffe-0.42.0-py3-none-any.whl.metadata (6.2 kB)\n",
      "Requirement already satisfied: jinja2<4.0.0,>=3.0.0 in /opt/conda/lib/python3.11/site-packages (from prefect<3.0.0,>=2.14.21->rs-server-libraries==0.0.0.post1.dev0+5fe9de7) (3.1.2)\n",
      "Collecting kubernetes<30.0.0,>=24.2.0 (from prefect<3.0.0,>=2.14.21->rs-server-libraries==0.0.0.post1.dev0+5fe9de7)\n",
      "  Downloading kubernetes-29.0.0-py2.py3-none-any.whl.metadata (1.5 kB)\n",
      "Requirement already satisfied: pytz<2025,>=2021.1 in /opt/conda/lib/python3.11/site-packages (from prefect<3.0.0,>=2.14.21->rs-server-libraries==0.0.0.post1.dev0+5fe9de7) (2023.3.post1)\n",
      "Collecting readchar<5.0.0,>=4.0.0 (from prefect<3.0.0,>=2.14.21->rs-server-libraries==0.0.0.post1.dev0+5fe9de7)\n",
      "  Downloading readchar-4.0.5-py3-none-any.whl.metadata (6.2 kB)\n",
      "Requirement already satisfied: sqlalchemy!=1.4.33,<3.0.0,>=1.4.22 in /opt/conda/lib/python3.11/site-packages (from sqlalchemy[asyncio]!=1.4.33,<3.0.0,>=1.4.22->prefect<3.0.0,>=2.14.21->rs-server-libraries==0.0.0.post1.dev0+5fe9de7) (2.0.22)\n",
      "Collecting typer>=0.4.2 (from prefect<3.0.0,>=2.14.21->rs-server-libraries==0.0.0.post1.dev0+5fe9de7)\n",
      "  Downloading typer-0.9.0-py3-none-any.whl.metadata (14 kB)\n",
      "Collecting anyio<4.0.0,>=3.7.1 (from prefect<3.0.0,>=2.14.21->rs-server-libraries==0.0.0.post1.dev0+5fe9de7)\n",
      "  Downloading anyio-3.7.1-py3-none-any.whl.metadata (4.7 kB)\n",
      "Collecting asgi-lifespan<3.0,>=1.0 (from prefect<3.0.0,>=2.14.21->rs-server-libraries==0.0.0.post1.dev0+5fe9de7)\n",
      "  Downloading asgi_lifespan-2.1.0-py3-none-any.whl.metadata (10 kB)\n",
      "Collecting cachetools<6.0,>=5.3 (from prefect<3.0.0,>=2.14.21->rs-server-libraries==0.0.0.post1.dev0+5fe9de7)\n",
      "  Downloading cachetools-5.3.3-py3-none-any.whl.metadata (5.3 kB)\n",
      "Collecting cloudpickle<4.0,>=2.0 (from prefect<3.0.0,>=2.14.21->rs-server-libraries==0.0.0.post1.dev0+5fe9de7)\n",
      "  Downloading cloudpickle-3.0.0-py3-none-any.whl.metadata (7.0 kB)\n",
      "Collecting coolname<3.0.0,>=1.0.4 (from prefect<3.0.0,>=2.14.21->rs-server-libraries==0.0.0.post1.dev0+5fe9de7)\n",
      "  Downloading coolname-2.2.0-py2.py3-none-any.whl.metadata (6.2 kB)\n",
      "Collecting croniter<3.0.0,>=1.0.12 (from prefect<3.0.0,>=2.14.21->rs-server-libraries==0.0.0.post1.dev0+5fe9de7)\n",
      "  Downloading croniter-2.0.2-py2.py3-none-any.whl.metadata (24 kB)\n",
      "Collecting fsspec>=2022.5.0 (from prefect<3.0.0,>=2.14.21->rs-server-libraries==0.0.0.post1.dev0+5fe9de7)\n",
      "  Downloading fsspec-2024.2.0-py3-none-any.whl.metadata (6.8 kB)\n",
      "Collecting httpcore<2.0.0,>=0.15.0 (from prefect<3.0.0,>=2.14.21->rs-server-libraries==0.0.0.post1.dev0+5fe9de7)\n",
      "  Downloading httpcore-1.0.4-py3-none-any.whl.metadata (20 kB)\n",
      "Collecting httpx!=0.23.2,>=0.23 (from httpx[http2]!=0.23.2,>=0.23->prefect<3.0.0,>=2.14.21->rs-server-libraries==0.0.0.post1.dev0+5fe9de7)\n",
      "  Downloading httpx-0.27.0-py3-none-any.whl.metadata (7.2 kB)\n",
      "Requirement already satisfied: jsonpatch<2.0,>=1.32 in /opt/conda/lib/python3.11/site-packages (from prefect<3.0.0,>=2.14.21->rs-server-libraries==0.0.0.post1.dev0+5fe9de7) (1.33)\n",
      "Requirement already satisfied: jsonschema<5.0.0,>=3.2.0 in /opt/conda/lib/python3.11/site-packages (from prefect<3.0.0,>=2.14.21->rs-server-libraries==0.0.0.post1.dev0+5fe9de7) (4.19.1)\n",
      "Collecting orjson<4.0,>=3.7 (from prefect<3.0.0,>=2.14.21->rs-server-libraries==0.0.0.post1.dev0+5fe9de7)\n",
      "  Downloading orjson-3.9.15-cp311-cp311-manylinux_2_17_x86_64.manylinux2014_x86_64.whl.metadata (49 kB)\n",
      "\u001b[2K     \u001b[90m━━━━━━━━━━━━━━━━━━━━━━━━━━━━━━━━━━━━━━━━\u001b[0m \u001b[32m49.5/49.5 kB\u001b[0m \u001b[31m1.0 MB/s\u001b[0m eta \u001b[36m0:00:00\u001b[0mta \u001b[36m0:00:01\u001b[0m\n",
      "\u001b[?25hRequirement already satisfied: packaging<24.3,>=21.3 in /opt/conda/lib/python3.11/site-packages (from prefect<3.0.0,>=2.14.21->rs-server-libraries==0.0.0.post1.dev0+5fe9de7) (23.2)\n",
      "Collecting pathspec>=0.8.0 (from prefect<3.0.0,>=2.14.21->rs-server-libraries==0.0.0.post1.dev0+5fe9de7)\n",
      "  Downloading pathspec-0.12.1-py3-none-any.whl.metadata (21 kB)\n",
      "Collecting pydantic!=2.0.0,!=2.0.1,!=2.1.0,<3.0.0,>=1.10.0 (from pydantic[email]!=2.0.0,!=2.0.1,!=2.1.0,<3.0.0,>=1.10.0->prefect<3.0.0,>=2.14.21->rs-server-libraries==0.0.0.post1.dev0+5fe9de7)\n",
      "  Downloading pydantic-2.6.3-py3-none-any.whl.metadata (84 kB)\n",
      "\u001b[2K     \u001b[90m━━━━━━━━━━━━━━━━━━━━━━━━━━━━━━━━━━━━━━━━\u001b[0m \u001b[32m84.4/84.4 kB\u001b[0m \u001b[31m2.7 MB/s\u001b[0m eta \u001b[36m0:00:00\u001b[0m\n",
      "\u001b[?25hRequirement already satisfied: python-dateutil<3.0.0,>=2.8.2 in /opt/conda/lib/python3.11/site-packages (from prefect<3.0.0,>=2.14.21->rs-server-libraries==0.0.0.post1.dev0+5fe9de7) (2.8.2)\n",
      "Collecting python-slugify<9.0,>=5.0 (from prefect<3.0.0,>=2.14.21->rs-server-libraries==0.0.0.post1.dev0+5fe9de7)\n",
      "  Downloading python_slugify-8.0.4-py2.py3-none-any.whl.metadata (8.5 kB)\n",
      "Requirement already satisfied: pyyaml<7.0.0,>=5.4.1 in /opt/conda/lib/python3.11/site-packages (from prefect<3.0.0,>=2.14.21->rs-server-libraries==0.0.0.post1.dev0+5fe9de7) (6.0.1)\n",
      "Requirement already satisfied: rfc3339-validator<0.2.0,>=0.1.4 in /opt/conda/lib/python3.11/site-packages (from prefect<3.0.0,>=2.14.21->rs-server-libraries==0.0.0.post1.dev0+5fe9de7) (0.1.4)\n",
      "Collecting rich<14.0,>=11.0 (from prefect<3.0.0,>=2.14.21->rs-server-libraries==0.0.0.post1.dev0+5fe9de7)\n",
      "  Downloading rich-13.7.1-py3-none-any.whl.metadata (18 kB)\n",
      "Requirement already satisfied: ruamel.yaml>=0.17.0 in /opt/conda/lib/python3.11/site-packages (from prefect<3.0.0,>=2.14.21->rs-server-libraries==0.0.0.post1.dev0+5fe9de7) (0.17.39)\n",
      "Requirement already satisfied: sniffio<2.0.0,>=1.3.0 in /opt/conda/lib/python3.11/site-packages (from prefect<3.0.0,>=2.14.21->rs-server-libraries==0.0.0.post1.dev0+5fe9de7) (1.3.0)\n",
      "Collecting toml>=0.10.0 (from prefect<3.0.0,>=2.14.21->rs-server-libraries==0.0.0.post1.dev0+5fe9de7)\n",
      "  Downloading toml-0.10.2-py2.py3-none-any.whl.metadata (7.1 kB)\n",
      "Requirement already satisfied: typing-extensions<5.0.0,>=4.5.0 in /opt/conda/lib/python3.11/site-packages (from prefect<3.0.0,>=2.14.21->rs-server-libraries==0.0.0.post1.dev0+5fe9de7) (4.8.0)\n",
      "Collecting ujson<6.0.0,>=5.8.0 (from prefect<3.0.0,>=2.14.21->rs-server-libraries==0.0.0.post1.dev0+5fe9de7)\n",
      "  Downloading ujson-5.9.0-cp311-cp311-manylinux_2_17_x86_64.manylinux2014_x86_64.whl.metadata (8.7 kB)\n",
      "Collecting uvicorn>=0.14.0 (from prefect<3.0.0,>=2.14.21->rs-server-libraries==0.0.0.post1.dev0+5fe9de7)\n",
      "  Downloading uvicorn-0.28.0-py3-none-any.whl.metadata (6.3 kB)\n",
      "Collecting websockets<13.0,>=10.4 (from prefect<3.0.0,>=2.14.21->rs-server-libraries==0.0.0.post1.dev0+5fe9de7)\n",
      "  Downloading websockets-12.0-cp311-cp311-manylinux_2_5_x86_64.manylinux1_x86_64.manylinux_2_17_x86_64.manylinux2014_x86_64.whl.metadata (6.6 kB)\n",
      "Collecting itsdangerous (from prefect<3.0.0,>=2.14.21->rs-server-libraries==0.0.0.post1.dev0+5fe9de7)\n",
      "  Downloading itsdangerous-2.1.2-py3-none-any.whl.metadata (2.9 kB)\n",
      "Collecting python-multipart>=0.0.7 (from prefect<3.0.0,>=2.14.21->rs-server-libraries==0.0.0.post1.dev0+5fe9de7)\n",
      "  Downloading python_multipart-0.0.9-py3-none-any.whl.metadata (2.5 kB)\n",
      "Collecting pendulum<3.0 (from prefect<3.0.0,>=2.14.21->rs-server-libraries==0.0.0.post1.dev0+5fe9de7)\n",
      "  Downloading pendulum-2.1.2.tar.gz (81 kB)\n",
      "\u001b[2K     \u001b[90m━━━━━━━━━━━━━━━━━━━━━━━━━━━━━━━━━━━━━━━━\u001b[0m \u001b[32m81.2/81.2 kB\u001b[0m \u001b[31m5.1 MB/s\u001b[0m eta \u001b[36m0:00:00\u001b[0m\n",
      "\u001b[?25h  Installing build dependencies ... \u001b[?25ldone\n",
      "\u001b[?25h  Getting requirements to build wheel ... \u001b[?25ldone\n",
      "\u001b[?25h  Preparing metadata (pyproject.toml) ... \u001b[?25ldone\n",
      "\u001b[?25hCollecting distributed!=2023.3.2,!=2023.3.2.1,!=2023.4.*,!=2023.5.*,>=2022.5.0 (from prefect-dask<0.3.0,>=0.2.6->rs-server-libraries==0.0.0.post1.dev0+5fe9de7)\n",
      "  Downloading distributed-2024.2.1-py3-none-any.whl.metadata (3.4 kB)\n",
      "Requirement already satisfied: Mako in /opt/conda/lib/python3.11/site-packages (from alembic<2.0.0,>=1.7.5->prefect<3.0.0,>=2.14.21->rs-server-libraries==0.0.0.post1.dev0+5fe9de7) (1.2.4)\n",
      "Requirement already satisfied: idna>=2.8 in /opt/conda/lib/python3.11/site-packages (from anyio<4.0.0,>=3.7.1->prefect<3.0.0,>=2.14.21->rs-server-libraries==0.0.0.post1.dev0+5fe9de7) (3.4)\n",
      "Requirement already satisfied: certifi in /opt/conda/lib/python3.11/site-packages (from apprise<2.0.0,>=1.1.0->prefect<3.0.0,>=2.14.21->rs-server-libraries==0.0.0.post1.dev0+5fe9de7) (2023.7.22)\n",
      "Requirement already satisfied: requests in /opt/conda/lib/python3.11/site-packages (from apprise<2.0.0,>=1.1.0->prefect<3.0.0,>=2.14.21->rs-server-libraries==0.0.0.post1.dev0+5fe9de7) (2.31.0)\n",
      "Collecting requests-oauthlib (from apprise<2.0.0,>=1.1.0->prefect<3.0.0,>=2.14.21->rs-server-libraries==0.0.0.post1.dev0+5fe9de7)\n",
      "  Downloading requests_oauthlib-1.4.0-py2.py3-none-any.whl.metadata (11 kB)\n",
      "Collecting markdown (from apprise<2.0.0,>=1.1.0->prefect<3.0.0,>=2.14.21->rs-server-libraries==0.0.0.post1.dev0+5fe9de7)\n",
      "  Downloading Markdown-3.5.2-py3-none-any.whl.metadata (7.0 kB)\n",
      "Collecting async-timeout>=4.0.3 (from asyncpg>=0.23->prefect<3.0.0,>=2.14.21->rs-server-libraries==0.0.0.post1.dev0+5fe9de7)\n",
      "  Downloading async_timeout-4.0.3-py3-none-any.whl.metadata (4.2 kB)\n",
      "Requirement already satisfied: cffi>=1.12 in /opt/conda/lib/python3.11/site-packages (from cryptography>=36.0.1->prefect<3.0.0,>=2.14.21->rs-server-libraries==0.0.0.post1.dev0+5fe9de7) (1.16.0)\n",
      "Collecting regex!=2019.02.19,!=2021.8.27 (from dateparser<2.0.0,>=1.1.1->prefect<3.0.0,>=2.14.21->rs-server-libraries==0.0.0.post1.dev0+5fe9de7)\n",
      "  Downloading regex-2023.12.25-cp311-cp311-manylinux_2_17_x86_64.manylinux2014_x86_64.whl.metadata (40 kB)\n",
      "\u001b[2K     \u001b[90m━━━━━━━━━━━━━━━━━━━━━━━━━━━━━━━━━━━━━━━━\u001b[0m \u001b[32m40.9/40.9 kB\u001b[0m \u001b[31m1.8 MB/s\u001b[0m eta \u001b[36m0:00:00\u001b[0m\n",
      "\u001b[?25hCollecting tzlocal (from dateparser<2.0.0,>=1.1.1->prefect<3.0.0,>=2.14.21->rs-server-libraries==0.0.0.post1.dev0+5fe9de7)\n",
      "  Downloading tzlocal-5.2-py3-none-any.whl.metadata (7.8 kB)\n",
      "Collecting dask==2024.2.1 (from distributed!=2023.3.2,!=2023.3.2.1,!=2023.4.*,!=2023.5.*,>=2022.5.0->prefect-dask<0.3.0,>=0.2.6->rs-server-libraries==0.0.0.post1.dev0+5fe9de7)\n",
      "  Downloading dask-2024.2.1-py3-none-any.whl.metadata (3.7 kB)\n",
      "Collecting locket>=1.0.0 (from distributed!=2023.3.2,!=2023.3.2.1,!=2023.4.*,!=2023.5.*,>=2022.5.0->prefect-dask<0.3.0,>=0.2.6->rs-server-libraries==0.0.0.post1.dev0+5fe9de7)\n",
      "  Downloading locket-1.0.0-py2.py3-none-any.whl.metadata (2.8 kB)\n",
      "Collecting msgpack>=1.0.0 (from distributed!=2023.3.2,!=2023.3.2.1,!=2023.4.*,!=2023.5.*,>=2022.5.0->prefect-dask<0.3.0,>=0.2.6->rs-server-libraries==0.0.0.post1.dev0+5fe9de7)\n",
      "  Downloading msgpack-1.0.8-cp311-cp311-manylinux_2_17_x86_64.manylinux2014_x86_64.whl.metadata (9.1 kB)\n",
      "Requirement already satisfied: psutil>=5.7.2 in /opt/conda/lib/python3.11/site-packages (from distributed!=2023.3.2,!=2023.3.2.1,!=2023.4.*,!=2023.5.*,>=2022.5.0->prefect-dask<0.3.0,>=0.2.6->rs-server-libraries==0.0.0.post1.dev0+5fe9de7) (5.9.5)\n",
      "Collecting sortedcontainers>=2.0.5 (from distributed!=2023.3.2,!=2023.3.2.1,!=2023.4.*,!=2023.5.*,>=2022.5.0->prefect-dask<0.3.0,>=0.2.6->rs-server-libraries==0.0.0.post1.dev0+5fe9de7)\n",
      "  Downloading sortedcontainers-2.4.0-py2.py3-none-any.whl.metadata (10 kB)\n",
      "Collecting tblib>=1.6.0 (from distributed!=2023.3.2,!=2023.3.2.1,!=2023.4.*,!=2023.5.*,>=2022.5.0->prefect-dask<0.3.0,>=0.2.6->rs-server-libraries==0.0.0.post1.dev0+5fe9de7)\n",
      "  Downloading tblib-3.0.0-py3-none-any.whl.metadata (25 kB)\n",
      "Collecting toolz>=0.10.0 (from distributed!=2023.3.2,!=2023.3.2.1,!=2023.4.*,!=2023.5.*,>=2022.5.0->prefect-dask<0.3.0,>=0.2.6->rs-server-libraries==0.0.0.post1.dev0+5fe9de7)\n",
      "  Downloading toolz-0.12.1-py3-none-any.whl.metadata (5.1 kB)\n",
      "Requirement already satisfied: tornado>=6.0.4 in /opt/conda/lib/python3.11/site-packages (from distributed!=2023.3.2,!=2023.3.2.1,!=2023.4.*,!=2023.5.*,>=2022.5.0->prefect-dask<0.3.0,>=0.2.6->rs-server-libraries==0.0.0.post1.dev0+5fe9de7) (6.3.3)\n",
      "Requirement already satisfied: urllib3>=1.24.3 in /opt/conda/lib/python3.11/site-packages (from distributed!=2023.3.2,!=2023.3.2.1,!=2023.4.*,!=2023.5.*,>=2022.5.0->prefect-dask<0.3.0,>=0.2.6->rs-server-libraries==0.0.0.post1.dev0+5fe9de7) (2.0.7)\n",
      "Collecting zict>=3.0.0 (from distributed!=2023.3.2,!=2023.3.2.1,!=2023.4.*,!=2023.5.*,>=2022.5.0->prefect-dask<0.3.0,>=0.2.6->rs-server-libraries==0.0.0.post1.dev0+5fe9de7)\n",
      "  Downloading zict-3.0.0-py2.py3-none-any.whl.metadata (899 bytes)\n",
      "Collecting partd>=1.2.0 (from dask==2024.2.1->distributed!=2023.3.2,!=2023.3.2.1,!=2023.4.*,!=2023.5.*,>=2022.5.0->prefect-dask<0.3.0,>=0.2.6->rs-server-libraries==0.0.0.post1.dev0+5fe9de7)\n",
      "  Downloading partd-1.4.1-py3-none-any.whl.metadata (4.6 kB)\n",
      "Requirement already satisfied: importlib-metadata>=4.13.0 in /opt/conda/lib/python3.11/site-packages (from dask==2024.2.1->distributed!=2023.3.2,!=2023.3.2.1,!=2023.4.*,!=2023.5.*,>=2022.5.0->prefect-dask<0.3.0,>=0.2.6->rs-server-libraries==0.0.0.post1.dev0+5fe9de7) (6.8.0)\n",
      "Requirement already satisfied: websocket-client>=0.32.0 in /opt/conda/lib/python3.11/site-packages (from docker<7.0,>=4.0->prefect<3.0.0,>=2.14.21->rs-server-libraries==0.0.0.post1.dev0+5fe9de7) (1.6.4)\n",
      "Requirement already satisfied: colorama>=0.4 in /opt/conda/lib/python3.11/site-packages (from griffe>=0.20.0->prefect<3.0.0,>=2.14.21->rs-server-libraries==0.0.0.post1.dev0+5fe9de7) (0.4.6)\n",
      "Collecting h11<0.15,>=0.13 (from httpcore<2.0.0,>=0.15.0->prefect<3.0.0,>=2.14.21->rs-server-libraries==0.0.0.post1.dev0+5fe9de7)\n",
      "  Downloading h11-0.14.0-py3-none-any.whl.metadata (8.2 kB)\n",
      "Collecting h2<5,>=3 (from httpx[http2]!=0.23.2,>=0.23->prefect<3.0.0,>=2.14.21->rs-server-libraries==0.0.0.post1.dev0+5fe9de7)\n",
      "  Downloading h2-4.1.0-py3-none-any.whl.metadata (3.6 kB)\n",
      "Requirement already satisfied: MarkupSafe>=2.0 in /opt/conda/lib/python3.11/site-packages (from jinja2<4.0.0,>=3.0.0->prefect<3.0.0,>=2.14.21->rs-server-libraries==0.0.0.post1.dev0+5fe9de7) (2.1.3)\n",
      "Requirement already satisfied: jsonpointer>=1.9 in /opt/conda/lib/python3.11/site-packages (from jsonpatch<2.0,>=1.32->prefect<3.0.0,>=2.14.21->rs-server-libraries==0.0.0.post1.dev0+5fe9de7) (2.4)\n",
      "Requirement already satisfied: attrs>=22.2.0 in /opt/conda/lib/python3.11/site-packages (from jsonschema<5.0.0,>=3.2.0->prefect<3.0.0,>=2.14.21->rs-server-libraries==0.0.0.post1.dev0+5fe9de7) (23.1.0)\n",
      "Requirement already satisfied: jsonschema-specifications>=2023.03.6 in /opt/conda/lib/python3.11/site-packages (from jsonschema<5.0.0,>=3.2.0->prefect<3.0.0,>=2.14.21->rs-server-libraries==0.0.0.post1.dev0+5fe9de7) (2023.7.1)\n",
      "Requirement already satisfied: referencing>=0.28.4 in /opt/conda/lib/python3.11/site-packages (from jsonschema<5.0.0,>=3.2.0->prefect<3.0.0,>=2.14.21->rs-server-libraries==0.0.0.post1.dev0+5fe9de7) (0.30.2)\n",
      "Requirement already satisfied: rpds-py>=0.7.1 in /opt/conda/lib/python3.11/site-packages (from jsonschema<5.0.0,>=3.2.0->prefect<3.0.0,>=2.14.21->rs-server-libraries==0.0.0.post1.dev0+5fe9de7) (0.10.6)\n",
      "Requirement already satisfied: six>=1.9.0 in /opt/conda/lib/python3.11/site-packages (from kubernetes<30.0.0,>=24.2.0->prefect<3.0.0,>=2.14.21->rs-server-libraries==0.0.0.post1.dev0+5fe9de7) (1.16.0)\n",
      "Collecting google-auth>=1.0.1 (from kubernetes<30.0.0,>=24.2.0->prefect<3.0.0,>=2.14.21->rs-server-libraries==0.0.0.post1.dev0+5fe9de7)\n",
      "  Downloading google_auth-2.28.2-py2.py3-none-any.whl.metadata (4.7 kB)\n",
      "Requirement already satisfied: oauthlib>=3.2.2 in /opt/conda/lib/python3.11/site-packages (from kubernetes<30.0.0,>=24.2.0->prefect<3.0.0,>=2.14.21->rs-server-libraries==0.0.0.post1.dev0+5fe9de7) (3.2.2)\n",
      "Collecting pytzdata>=2020.1 (from pendulum<3.0->prefect<3.0.0,>=2.14.21->rs-server-libraries==0.0.0.post1.dev0+5fe9de7)\n",
      "  Downloading pytzdata-2020.1-py2.py3-none-any.whl.metadata (2.3 kB)\n",
      "Collecting annotated-types>=0.4.0 (from pydantic!=2.0.0,!=2.0.1,!=2.1.0,<3.0.0,>=1.10.0->pydantic[email]!=2.0.0,!=2.0.1,!=2.1.0,<3.0.0,>=1.10.0->prefect<3.0.0,>=2.14.21->rs-server-libraries==0.0.0.post1.dev0+5fe9de7)\n",
      "  Downloading annotated_types-0.6.0-py3-none-any.whl.metadata (12 kB)\n",
      "Collecting pydantic-core==2.16.3 (from pydantic!=2.0.0,!=2.0.1,!=2.1.0,<3.0.0,>=1.10.0->pydantic[email]!=2.0.0,!=2.0.1,!=2.1.0,<3.0.0,>=1.10.0->prefect<3.0.0,>=2.14.21->rs-server-libraries==0.0.0.post1.dev0+5fe9de7)\n",
      "  Downloading pydantic_core-2.16.3-cp311-cp311-manylinux_2_17_x86_64.manylinux2014_x86_64.whl.metadata (6.5 kB)\n",
      "Collecting email-validator>=2.0.0 (from pydantic[email]!=2.0.0,!=2.0.1,!=2.1.0,<3.0.0,>=1.10.0->prefect<3.0.0,>=2.14.21->rs-server-libraries==0.0.0.post1.dev0+5fe9de7)\n",
      "  Downloading email_validator-2.1.1-py3-none-any.whl.metadata (26 kB)\n",
      "Collecting text-unidecode>=1.3 (from python-slugify<9.0,>=5.0->prefect<3.0.0,>=2.14.21->rs-server-libraries==0.0.0.post1.dev0+5fe9de7)\n",
      "  Downloading text_unidecode-1.3-py2.py3-none-any.whl.metadata (2.4 kB)\n",
      "Requirement already satisfied: setuptools>=41.0 in /opt/conda/lib/python3.11/site-packages (from readchar<5.0.0,>=4.0.0->prefect<3.0.0,>=2.14.21->rs-server-libraries==0.0.0.post1.dev0+5fe9de7) (68.2.2)\n",
      "Collecting markdown-it-py>=2.2.0 (from rich<14.0,>=11.0->prefect<3.0.0,>=2.14.21->rs-server-libraries==0.0.0.post1.dev0+5fe9de7)\n",
      "  Downloading markdown_it_py-3.0.0-py3-none-any.whl.metadata (6.9 kB)\n",
      "Requirement already satisfied: pygments<3.0.0,>=2.13.0 in /opt/conda/lib/python3.11/site-packages (from rich<14.0,>=11.0->prefect<3.0.0,>=2.14.21->rs-server-libraries==0.0.0.post1.dev0+5fe9de7) (2.16.1)\n",
      "Requirement already satisfied: ruamel.yaml.clib>=0.2.7 in /opt/conda/lib/python3.11/site-packages (from ruamel.yaml>=0.17.0->prefect<3.0.0,>=2.14.21->rs-server-libraries==0.0.0.post1.dev0+5fe9de7) (0.2.7)\n",
      "Requirement already satisfied: greenlet!=0.4.17 in /opt/conda/lib/python3.11/site-packages (from sqlalchemy!=1.4.33,<3.0.0,>=1.4.22->sqlalchemy[asyncio]!=1.4.33,<3.0.0,>=1.4.22->prefect<3.0.0,>=2.14.21->rs-server-libraries==0.0.0.post1.dev0+5fe9de7) (3.0.0)\n",
      "Requirement already satisfied: pycparser in /opt/conda/lib/python3.11/site-packages (from cffi>=1.12->cryptography>=36.0.1->prefect<3.0.0,>=2.14.21->rs-server-libraries==0.0.0.post1.dev0+5fe9de7) (2.21)\n",
      "Collecting dnspython>=2.0.0 (from email-validator>=2.0.0->pydantic[email]!=2.0.0,!=2.0.1,!=2.1.0,<3.0.0,>=1.10.0->prefect<3.0.0,>=2.14.21->rs-server-libraries==0.0.0.post1.dev0+5fe9de7)\n",
      "  Downloading dnspython-2.6.1-py3-none-any.whl.metadata (5.8 kB)\n",
      "Collecting pyasn1-modules>=0.2.1 (from google-auth>=1.0.1->kubernetes<30.0.0,>=24.2.0->prefect<3.0.0,>=2.14.21->rs-server-libraries==0.0.0.post1.dev0+5fe9de7)\n",
      "  Downloading pyasn1_modules-0.3.0-py2.py3-none-any.whl.metadata (3.6 kB)\n",
      "Collecting rsa<5,>=3.1.4 (from google-auth>=1.0.1->kubernetes<30.0.0,>=24.2.0->prefect<3.0.0,>=2.14.21->rs-server-libraries==0.0.0.post1.dev0+5fe9de7)\n",
      "  Downloading rsa-4.9-py3-none-any.whl.metadata (4.2 kB)\n",
      "Collecting hyperframe<7,>=6.0 (from h2<5,>=3->httpx[http2]!=0.23.2,>=0.23->prefect<3.0.0,>=2.14.21->rs-server-libraries==0.0.0.post1.dev0+5fe9de7)\n",
      "  Downloading hyperframe-6.0.1-py3-none-any.whl.metadata (2.7 kB)\n",
      "Collecting hpack<5,>=4.0 (from h2<5,>=3->httpx[http2]!=0.23.2,>=0.23->prefect<3.0.0,>=2.14.21->rs-server-libraries==0.0.0.post1.dev0+5fe9de7)\n",
      "  Downloading hpack-4.0.0-py3-none-any.whl.metadata (2.5 kB)\n",
      "Collecting mdurl~=0.1 (from markdown-it-py>=2.2.0->rich<14.0,>=11.0->prefect<3.0.0,>=2.14.21->rs-server-libraries==0.0.0.post1.dev0+5fe9de7)\n",
      "  Downloading mdurl-0.1.2-py3-none-any.whl.metadata (1.6 kB)\n",
      "Requirement already satisfied: charset-normalizer<4,>=2 in /opt/conda/lib/python3.11/site-packages (from requests->apprise<2.0.0,>=1.1.0->prefect<3.0.0,>=2.14.21->rs-server-libraries==0.0.0.post1.dev0+5fe9de7) (3.3.0)\n",
      "Requirement already satisfied: zipp>=0.5 in /opt/conda/lib/python3.11/site-packages (from importlib-metadata>=4.13.0->dask==2024.2.1->distributed!=2023.3.2,!=2023.3.2.1,!=2023.4.*,!=2023.5.*,>=2022.5.0->prefect-dask<0.3.0,>=0.2.6->rs-server-libraries==0.0.0.post1.dev0+5fe9de7) (3.17.0)\n",
      "Collecting pyasn1<0.6.0,>=0.4.6 (from pyasn1-modules>=0.2.1->google-auth>=1.0.1->kubernetes<30.0.0,>=24.2.0->prefect<3.0.0,>=2.14.21->rs-server-libraries==0.0.0.post1.dev0+5fe9de7)\n",
      "  Downloading pyasn1-0.5.1-py2.py3-none-any.whl.metadata (8.6 kB)\n",
      "Downloading numpy-1.26.4-cp311-cp311-manylinux_2_17_x86_64.manylinux2014_x86_64.whl (18.3 MB)\n",
      "\u001b[2K   \u001b[90m━━━━━━━━━━━━━━━━━━━━━━━━━━━━━━━━━━━━━━━━\u001b[0m \u001b[32m18.3/18.3 MB\u001b[0m \u001b[31m27.7 MB/s\u001b[0m eta \u001b[36m0:00:00\u001b[0m00:01\u001b[0m00:01\u001b[0m\n",
      "\u001b[?25hDownloading prefect-2.16.3-py3-none-any.whl (2.9 MB)\n",
      "\u001b[2K   \u001b[90m━━━━━━━━━━━━━━━━━━━━━━━━━━━━━━━━━━━━━━━━\u001b[0m \u001b[32m2.9/2.9 MB\u001b[0m \u001b[31m29.0 MB/s\u001b[0m eta \u001b[36m0:00:00\u001b[0ma \u001b[36m0:00:01\u001b[0m\n",
      "\u001b[?25hDownloading prefect_dask-0.2.6-py3-none-any.whl (15 kB)\n",
      "Downloading aiosqlite-0.20.0-py3-none-any.whl (15 kB)\n",
      "Downloading anyio-3.7.1-py3-none-any.whl (80 kB)\n",
      "\u001b[2K   \u001b[90m━━━━━━━━━━━━━━━━━━━━━━━━━━━━━━━━━━━━━━━━\u001b[0m \u001b[32m80.9/80.9 kB\u001b[0m \u001b[31m7.6 MB/s\u001b[0m eta \u001b[36m0:00:00\u001b[0m\n",
      "\u001b[?25hDownloading apprise-1.7.4-py3-none-any.whl (1.2 MB)\n",
      "\u001b[2K   \u001b[90m━━━━━━━━━━━━━━━━━━━━━━━━━━━━━━━━━━━━━━━━\u001b[0m \u001b[32m1.2/1.2 MB\u001b[0m \u001b[31m34.0 MB/s\u001b[0m eta \u001b[36m0:00:00\u001b[0m00:01\u001b[0m\n",
      "\u001b[?25hDownloading asgi_lifespan-2.1.0-py3-none-any.whl (10 kB)\n",
      "Downloading asyncpg-0.29.0-cp311-cp311-manylinux_2_17_x86_64.manylinux2014_x86_64.whl (2.8 MB)\n",
      "\u001b[2K   \u001b[90m━━━━━━━━━━━━━━━━━━━━━━━━━━━━━━━━━━━━━━━━\u001b[0m \u001b[32m2.8/2.8 MB\u001b[0m \u001b[31m30.1 MB/s\u001b[0m eta \u001b[36m0:00:00\u001b[0ma \u001b[36m0:00:01\u001b[0m\n",
      "\u001b[?25hDownloading cachetools-5.3.3-py3-none-any.whl (9.3 kB)\n",
      "Downloading click-8.1.7-py3-none-any.whl (97 kB)\n",
      "\u001b[2K   \u001b[90m━━━━━━━━━━━━━━━━━━━━━━━━━━━━━━━━━━━━━━━━\u001b[0m \u001b[32m97.9/97.9 kB\u001b[0m \u001b[31m8.8 MB/s\u001b[0m eta \u001b[36m0:00:00\u001b[0m\n",
      "\u001b[?25hDownloading cloudpickle-3.0.0-py3-none-any.whl (20 kB)\n",
      "Downloading coolname-2.2.0-py2.py3-none-any.whl (37 kB)\n",
      "Downloading croniter-2.0.2-py2.py3-none-any.whl (19 kB)\n",
      "Downloading dateparser-1.2.0-py2.py3-none-any.whl (294 kB)\n",
      "\u001b[2K   \u001b[90m━━━━━━━━━━━━━━━━━━━━━━━━━━━━━━━━━━━━━━━━\u001b[0m \u001b[32m295.0/295.0 kB\u001b[0m \u001b[31m19.9 MB/s\u001b[0m eta \u001b[36m0:00:00\u001b[0m\n",
      "\u001b[?25hDownloading distributed-2024.2.1-py3-none-any.whl (1.0 MB)\n",
      "\u001b[2K   \u001b[90m━━━━━━━━━━━━━━━━━━━━━━━━━━━━━━━━━━━━━━━━\u001b[0m \u001b[32m1.0/1.0 MB\u001b[0m \u001b[31m35.0 MB/s\u001b[0m eta \u001b[36m0:00:00\u001b[0m\n",
      "\u001b[?25hDownloading dask-2024.2.1-py3-none-any.whl (1.2 MB)\n",
      "\u001b[2K   \u001b[90m━━━━━━━━━━━━━━━━━━━━━━━━━━━━━━━━━━━━━━━━\u001b[0m \u001b[32m1.2/1.2 MB\u001b[0m \u001b[31m33.8 MB/s\u001b[0m eta \u001b[36m0:00:00\u001b[0m00:01\u001b[0m\n",
      "\u001b[?25hDownloading docker-6.1.3-py3-none-any.whl (148 kB)\n",
      "\u001b[2K   \u001b[90m━━━━━━━━━━━━━━━━━━━━━━━━━━━━━━━━━━━━━━━━\u001b[0m \u001b[32m148.1/148.1 kB\u001b[0m \u001b[31m13.8 MB/s\u001b[0m eta \u001b[36m0:00:00\u001b[0m\n",
      "\u001b[?25hDownloading fsspec-2024.2.0-py3-none-any.whl (170 kB)\n",
      "\u001b[2K   \u001b[90m━━━━━━━━━━━━━━━━━━━━━━━━━━━━━━━━━━━━━━━━\u001b[0m \u001b[32m170.9/170.9 kB\u001b[0m \u001b[31m16.1 MB/s\u001b[0m eta \u001b[36m0:00:00\u001b[0m\n",
      "\u001b[?25hDownloading graphviz-0.20.1-py3-none-any.whl (47 kB)\n",
      "\u001b[2K   \u001b[90m━━━━━━━━━━━━━━━━━━━━━━━━━━━━━━━━━━━━━━━━\u001b[0m \u001b[32m47.0/47.0 kB\u001b[0m \u001b[31m4.0 MB/s\u001b[0m eta \u001b[36m0:00:00\u001b[0m\n",
      "\u001b[?25hDownloading griffe-0.42.0-py3-none-any.whl (118 kB)\n",
      "\u001b[2K   \u001b[90m━━━━━━━━━━━━━━━━━━━━━━━━━━━━━━━━━━━━━━━━\u001b[0m \u001b[32m118.2/118.2 kB\u001b[0m \u001b[31m11.0 MB/s\u001b[0m eta \u001b[36m0:00:00\u001b[0m\n",
      "\u001b[?25hDownloading httpcore-1.0.4-py3-none-any.whl (77 kB)\n",
      "\u001b[2K   \u001b[90m━━━━━━━━━━━━━━━━━━━━━━━━━━━━━━━━━━━━━━━━\u001b[0m \u001b[32m77.8/77.8 kB\u001b[0m \u001b[31m5.7 MB/s\u001b[0m eta \u001b[36m0:00:00\u001b[0m\n",
      "\u001b[?25hDownloading httpx-0.27.0-py3-none-any.whl (75 kB)\n",
      "\u001b[2K   \u001b[90m━━━━━━━━━━━━━━━━━━━━━━━━━━━━━━━━━━━━━━━━\u001b[0m \u001b[32m75.6/75.6 kB\u001b[0m \u001b[31m5.9 MB/s\u001b[0m eta \u001b[36m0:00:00\u001b[0m\n",
      "\u001b[?25hDownloading kubernetes-29.0.0-py2.py3-none-any.whl (1.6 MB)\n",
      "\u001b[2K   \u001b[90m━━━━━━━━━━━━━━━━━━━━━━━━━━━━━━━━━━━━━━━━\u001b[0m \u001b[32m1.6/1.6 MB\u001b[0m \u001b[31m32.8 MB/s\u001b[0m eta \u001b[36m0:00:00\u001b[0ma \u001b[36m0:00:01\u001b[0m\n",
      "\u001b[?25hDownloading orjson-3.9.15-cp311-cp311-manylinux_2_17_x86_64.manylinux2014_x86_64.whl (138 kB)\n",
      "\u001b[2K   \u001b[90m━━━━━━━━━━━━━━━━━━━━━━━━━━━━━━━━━━━━━━━━\u001b[0m \u001b[32m138.5/138.5 kB\u001b[0m \u001b[31m11.8 MB/s\u001b[0m eta \u001b[36m0:00:00\u001b[0m\n",
      "\u001b[?25hDownloading pathspec-0.12.1-py3-none-any.whl (31 kB)\n",
      "Downloading pydantic-2.6.3-py3-none-any.whl (395 kB)\n",
      "\u001b[2K   \u001b[90m━━━━━━━━━━━━━━━━━━━━━━━━━━━━━━━━━━━━━━━━\u001b[0m \u001b[32m395.2/395.2 kB\u001b[0m \u001b[31m20.2 MB/s\u001b[0m eta \u001b[36m0:00:00\u001b[0m\n",
      "\u001b[?25hDownloading pydantic_core-2.16.3-cp311-cp311-manylinux_2_17_x86_64.manylinux2014_x86_64.whl (2.2 MB)\n",
      "\u001b[2K   \u001b[90m━━━━━━━━━━━━━━━━━━━━━━━━━━━━━━━━━━━━━━━━\u001b[0m \u001b[32m2.2/2.2 MB\u001b[0m \u001b[31m30.7 MB/s\u001b[0m eta \u001b[36m0:00:00\u001b[0m00:01\u001b[0m00:01\u001b[0m\n",
      "\u001b[?25hDownloading python_multipart-0.0.9-py3-none-any.whl (22 kB)\n",
      "Downloading python_slugify-8.0.4-py2.py3-none-any.whl (10 kB)\n",
      "Downloading readchar-4.0.5-py3-none-any.whl (8.5 kB)\n",
      "Downloading rich-13.7.1-py3-none-any.whl (240 kB)\n",
      "\u001b[2K   \u001b[90m━━━━━━━━━━━━━━━━━━━━━━━━━━━━━━━━━━━━━━━━\u001b[0m \u001b[32m240.7/240.7 kB\u001b[0m \u001b[31m17.7 MB/s\u001b[0m eta \u001b[36m0:00:00\u001b[0m\n",
      "\u001b[?25hDownloading toml-0.10.2-py2.py3-none-any.whl (16 kB)\n",
      "Downloading typer-0.9.0-py3-none-any.whl (45 kB)\n",
      "\u001b[2K   \u001b[90m━━━━━━━━━━━━━━━━━━━━━━━━━━━━━━━━━━━━━━━━\u001b[0m \u001b[32m45.9/45.9 kB\u001b[0m \u001b[31m3.5 MB/s\u001b[0m eta \u001b[36m0:00:00\u001b[0m\n",
      "\u001b[?25hDownloading ujson-5.9.0-cp311-cp311-manylinux_2_17_x86_64.manylinux2014_x86_64.whl (53 kB)\n",
      "\u001b[2K   \u001b[90m━━━━━━━━━━━━━━━━━━━━━━━━━━━━━━━━━━━━━━━━\u001b[0m \u001b[32m53.2/53.2 kB\u001b[0m \u001b[31m4.4 MB/s\u001b[0m eta \u001b[36m0:00:00\u001b[0m\n",
      "\u001b[?25hDownloading uvicorn-0.28.0-py3-none-any.whl (60 kB)\n",
      "\u001b[2K   \u001b[90m━━━━━━━━━━━━━━━━━━━━━━━━━━━━━━━━━━━━━━━━\u001b[0m \u001b[32m60.6/60.6 kB\u001b[0m \u001b[31m5.0 MB/s\u001b[0m eta \u001b[36m0:00:00\u001b[0m\n",
      "\u001b[?25hDownloading websockets-12.0-cp311-cp311-manylinux_2_5_x86_64.manylinux1_x86_64.manylinux_2_17_x86_64.manylinux2014_x86_64.whl (130 kB)\n",
      "\u001b[2K   \u001b[90m━━━━━━━━━━━━━━━━━━━━━━━━━━━━━━━━━━━━━━━━\u001b[0m \u001b[32m130.9/130.9 kB\u001b[0m \u001b[31m11.7 MB/s\u001b[0m eta \u001b[36m0:00:00\u001b[0m\n",
      "\u001b[?25hDownloading itsdangerous-2.1.2-py3-none-any.whl (15 kB)\n",
      "Downloading annotated_types-0.6.0-py3-none-any.whl (12 kB)\n",
      "Downloading async_timeout-4.0.3-py3-none-any.whl (5.7 kB)\n",
      "Downloading email_validator-2.1.1-py3-none-any.whl (30 kB)\n",
      "Downloading google_auth-2.28.2-py2.py3-none-any.whl (186 kB)\n",
      "\u001b[2K   \u001b[90m━━━━━━━━━━━━━━━━━━━━━━━━━━━━━━━━━━━━━━━━\u001b[0m \u001b[32m186.9/186.9 kB\u001b[0m \u001b[31m14.2 MB/s\u001b[0m eta \u001b[36m0:00:00\u001b[0m\n",
      "\u001b[?25hDownloading h11-0.14.0-py3-none-any.whl (58 kB)\n",
      "\u001b[2K   \u001b[90m━━━━━━━━━━━━━━━━━━━━━━━━━━━━━━━━━━━━━━━━\u001b[0m \u001b[32m58.3/58.3 kB\u001b[0m \u001b[31m4.7 MB/s\u001b[0m eta \u001b[36m0:00:00\u001b[0m\n",
      "\u001b[?25hDownloading h2-4.1.0-py3-none-any.whl (57 kB)\n",
      "\u001b[2K   \u001b[90m━━━━━━━━━━━━━━━━━━━━━━━━━━━━━━━━━━━━━━━━\u001b[0m \u001b[32m57.5/57.5 kB\u001b[0m \u001b[31m4.9 MB/s\u001b[0m eta \u001b[36m0:00:00\u001b[0m\n",
      "\u001b[?25hDownloading locket-1.0.0-py2.py3-none-any.whl (4.4 kB)\n",
      "Downloading markdown_it_py-3.0.0-py3-none-any.whl (87 kB)\n",
      "\u001b[2K   \u001b[90m━━━━━━━━━━━━━━━━━━━━━━━━━━━━━━━━━━━━━━━━\u001b[0m \u001b[32m87.5/87.5 kB\u001b[0m \u001b[31m7.9 MB/s\u001b[0m eta \u001b[36m0:00:00\u001b[0m\n",
      "\u001b[?25hDownloading msgpack-1.0.8-cp311-cp311-manylinux_2_17_x86_64.manylinux2014_x86_64.whl (409 kB)\n",
      "\u001b[2K   \u001b[90m━━━━━━━━━━━━━━━━━━━━━━━━━━━━━━━━━━━━━━━━\u001b[0m \u001b[32m409.3/409.3 kB\u001b[0m \u001b[31m22.7 MB/s\u001b[0m eta \u001b[36m0:00:00\u001b[0m\n",
      "\u001b[?25hDownloading pytzdata-2020.1-py2.py3-none-any.whl (489 kB)\n",
      "\u001b[2K   \u001b[90m━━━━━━━━━━━━━━━━━━━━━━━━━━━━━━━━━━━━━━━━\u001b[0m \u001b[32m490.0/490.0 kB\u001b[0m \u001b[31m26.4 MB/s\u001b[0m eta \u001b[36m0:00:00\u001b[0m\n",
      "\u001b[?25hDownloading regex-2023.12.25-cp311-cp311-manylinux_2_17_x86_64.manylinux2014_x86_64.whl (785 kB)\n",
      "\u001b[2K   \u001b[90m━━━━━━━━━━━━━━━━━━━━━━━━━━━━━━━━━━━━━━━━\u001b[0m \u001b[32m785.1/785.1 kB\u001b[0m \u001b[31m31.3 MB/s\u001b[0m eta \u001b[36m0:00:00\u001b[0m\n",
      "\u001b[?25hDownloading sortedcontainers-2.4.0-py2.py3-none-any.whl (29 kB)\n",
      "Downloading tblib-3.0.0-py3-none-any.whl (12 kB)\n",
      "Downloading text_unidecode-1.3-py2.py3-none-any.whl (78 kB)\n",
      "\u001b[2K   \u001b[90m━━━━━━━━━━━━━━━━━━━━━━━━━━━━━━━━━━━━━━━━\u001b[0m \u001b[32m78.2/78.2 kB\u001b[0m \u001b[31m6.3 MB/s\u001b[0m eta \u001b[36m0:00:00\u001b[0m\n",
      "\u001b[?25hDownloading toolz-0.12.1-py3-none-any.whl (56 kB)\n",
      "\u001b[2K   \u001b[90m━━━━━━━━━━━━━━━━━━━━━━━━━━━━━━━━━━━━━━━━\u001b[0m \u001b[32m56.1/56.1 kB\u001b[0m \u001b[31m4.6 MB/s\u001b[0m eta \u001b[36m0:00:00\u001b[0m\n",
      "\u001b[?25hDownloading zict-3.0.0-py2.py3-none-any.whl (43 kB)\n",
      "\u001b[2K   \u001b[90m━━━━━━━━━━━━━━━━━━━━━━━━━━━━━━━━━━━━━━━━\u001b[0m \u001b[32m43.3/43.3 kB\u001b[0m \u001b[31m3.5 MB/s\u001b[0m eta \u001b[36m0:00:00\u001b[0m\n",
      "\u001b[?25hDownloading Markdown-3.5.2-py3-none-any.whl (103 kB)\n",
      "\u001b[2K   \u001b[90m━━━━━━━━━━━━━━━━━━━━━━━━━━━━━━━━━━━━━━━━\u001b[0m \u001b[32m103.9/103.9 kB\u001b[0m \u001b[31m9.4 MB/s\u001b[0m eta \u001b[36m0:00:00\u001b[0m\n",
      "\u001b[?25hDownloading requests_oauthlib-1.4.0-py2.py3-none-any.whl (24 kB)\n",
      "Downloading tzlocal-5.2-py3-none-any.whl (17 kB)\n",
      "Downloading dnspython-2.6.1-py3-none-any.whl (307 kB)\n",
      "\u001b[2K   \u001b[90m━━━━━━━━━━━━━━━━━━━━━━━━━━━━━━━━━━━━━━━━\u001b[0m \u001b[32m307.7/307.7 kB\u001b[0m \u001b[31m15.6 MB/s\u001b[0m eta \u001b[36m0:00:00\u001b[0m\n",
      "\u001b[?25hDownloading hpack-4.0.0-py3-none-any.whl (32 kB)\n",
      "Downloading hyperframe-6.0.1-py3-none-any.whl (12 kB)\n",
      "Downloading mdurl-0.1.2-py3-none-any.whl (10.0 kB)\n",
      "Downloading partd-1.4.1-py3-none-any.whl (18 kB)\n",
      "Downloading pyasn1_modules-0.3.0-py2.py3-none-any.whl (181 kB)\n",
      "\u001b[2K   \u001b[90m━━━━━━━━━━━━━━━━━━━━━━━━━━━━━━━━━━━━━━━━\u001b[0m \u001b[32m181.3/181.3 kB\u001b[0m \u001b[31m14.4 MB/s\u001b[0m eta \u001b[36m0:00:00\u001b[0m\n",
      "\u001b[?25hDownloading rsa-4.9-py3-none-any.whl (34 kB)\n",
      "Downloading pyasn1-0.5.1-py2.py3-none-any.whl (84 kB)\n",
      "\u001b[2K   \u001b[90m━━━━━━━━━━━━━━━━━━━━━━━━━━━━━━━━━━━━━━━━\u001b[0m \u001b[32m84.9/84.9 kB\u001b[0m \u001b[31m7.6 MB/s\u001b[0m eta \u001b[36m0:00:00\u001b[0m\n",
      "\u001b[?25hBuilding wheels for collected packages: pendulum\n",
      "  Building wheel for pendulum (pyproject.toml) ... \u001b[?25ldone\n",
      "\u001b[?25h  Created wheel for pendulum: filename=pendulum-2.1.2-cp311-cp311-manylinux_2_35_x86_64.whl size=109781 sha256=aa79b38be7e0c9a4a9316c9e8fd6a1e9a7d36e320db9a1951e9e22677575fd5f\n",
      "  Stored in directory: /home/jovyan/.cache/pip/wheels/a4/b7/10/a86f4f49b1bdf8a0cf3da42d48f499e4cb7529ebab7aad3550\n",
      "Successfully built pendulum\n",
      "Installing collected packages: text-unidecode, sortedcontainers, coolname, zict, websockets, ujson, tzlocal, toolz, toml, tblib, regex, readchar, pytzdata, python-slugify, python-multipart, pydantic-core, pyasn1, pathspec, orjson, numpy, msgpack, mdurl, markdown, locket, itsdangerous, hyperframe, hpack, h11, griffe, graphviz, fsspec, dnspython, cloudpickle, click, cachetools, async-timeout, asgi-lifespan, anyio, annotated-types, aiosqlite, uvicorn, typer, rsa, requests-oauthlib, pydantic, pyasn1-modules, pendulum, partd, markdown-it-py, httpcore, h2, email-validator, docker, dateparser, croniter, asyncpg, rich, httpx, google-auth, dask, apprise, kubernetes, distributed, prefect, prefect-dask, rs-server-libraries\n",
      "  Attempting uninstall: anyio\n",
      "    Found existing installation: anyio 4.0.0\n",
      "    Uninstalling anyio-4.0.0:\n",
      "      Successfully uninstalled anyio-4.0.0\n",
      "Successfully installed aiosqlite-0.20.0 annotated-types-0.6.0 anyio-3.7.1 apprise-1.7.4 asgi-lifespan-2.1.0 async-timeout-4.0.3 asyncpg-0.29.0 cachetools-5.3.3 click-8.1.7 cloudpickle-3.0.0 coolname-2.2.0 croniter-2.0.2 dask-2024.2.1 dateparser-1.2.0 distributed-2024.2.1 dnspython-2.6.1 docker-6.1.3 email-validator-2.1.1 fsspec-2024.2.0 google-auth-2.28.2 graphviz-0.20.1 griffe-0.42.0 h11-0.14.0 h2-4.1.0 hpack-4.0.0 httpcore-1.0.4 httpx-0.27.0 hyperframe-6.0.1 itsdangerous-2.1.2 kubernetes-29.0.0 locket-1.0.0 markdown-3.5.2 markdown-it-py-3.0.0 mdurl-0.1.2 msgpack-1.0.8 numpy-1.26.4 orjson-3.9.15 partd-1.4.1 pathspec-0.12.1 pendulum-2.1.2 prefect-2.16.3 prefect-dask-0.2.6 pyasn1-0.5.1 pyasn1-modules-0.3.0 pydantic-2.6.3 pydantic-core-2.16.3 python-multipart-0.0.9 python-slugify-8.0.4 pytzdata-2020.1 readchar-4.0.5 regex-2023.12.25 requests-oauthlib-1.4.0 rich-13.7.1 rs-server-libraries-0.0.0.post1.dev0+5fe9de7 rsa-4.9 sortedcontainers-2.4.0 tblib-3.0.0 text-unidecode-1.3 toml-0.10.2 toolz-0.12.1 typer-0.9.0 tzlocal-5.2 ujson-5.9.0 uvicorn-0.28.0 websockets-12.0 zict-3.0.0\n"
     ]
    }
   ],
   "source": [
    "!pip install boto3\n",
    "!(cd $RSPY_WHL_DIR && pip install rs_server_libraries-*.whl )"
   ]
  },
  {
   "cell_type": "code",
   "execution_count": 2,
   "id": "78f7263f-b07d-4673-b6d3-301b035e76f9",
   "metadata": {},
   "outputs": [
    {
     "name": "stdout",
     "output_type": "stream",
     "text": [
      "tmp-download empty ?:  True\n",
      "final-catalog empty ?:  True\n"
     ]
    }
   ],
   "source": [
    "# We'll use boto3 to monitor the s3 bucket. \n",
    "# Note: the S3_ACCESSKEY, S3_SECRETKEY and S3_ENDPOINT are given in the docker-compose.yml file.\n",
    "import boto3\n",
    "import os\n",
    "\n",
    "s3_session = boto3.session.Session()\n",
    "s3_client = s3_session.client(\n",
    "    service_name=\"s3\",\n",
    "    aws_access_key_id=os.environ[\"S3_ACCESSKEY\"],\n",
    "    aws_secret_access_key=os.environ[\"S3_SECRETKEY\"],\n",
    "    endpoint_url=os.environ[\"S3_ENDPOINT\"],\n",
    "    region_name=os.environ[\"S3_REGION\"],\n",
    ")\n",
    "bucket_name = \"tmp-download\"\n",
    "final_bucket_name = \"final-catalog\"\n",
    "bucket_dir = \"stations\"\n",
    "bucket_url = f\"s3://{bucket_name}/{bucket_dir}\"\n",
    "\n",
    "# If bucket is already created, clear all files in order to start fresh for each demo. \n",
    "if bucket_name in [bucket[\"Name\"] for bucket in s3_client.list_buckets()[\"Buckets\"]]:\n",
    "    if 'Contents' in s3_client.list_objects(Bucket=bucket_name):\n",
    "        objects = s3_client.list_objects(Bucket=bucket_name)['Contents']\n",
    "        for obj in objects:\n",
    "            # clear up the bucket\n",
    "            s3_client.delete_object(Bucket=bucket_name, Key=obj['Key'])\n",
    "else:\n",
    "    s3_client.create_bucket(Bucket=bucket_name)\n",
    "\n",
    "# create the final bucket\n",
    "s3_client.create_bucket(Bucket=final_bucket_name)\n",
    "\n",
    "print(f\"{bucket_name} empty ?: \", 'Contents' not in s3_client.list_objects(Bucket=bucket_name))\n",
    "print(f\"{final_bucket_name} empty ?: \", 'Contents' not in s3_client.list_objects(Bucket=final_bucket_name))"
   ]
  },
  {
   "cell_type": "markdown",
   "id": "472719ef",
   "metadata": {},
   "source": [
    "A bucket \"tmp-download\" is created for the purpose of this demo. Thus, the cadip and adgs prefect flows will be asking for the rs-server endpoints to download the files from CADIP and ADGS stations and to upload them to \"s3://tmp-download/stations/<station_name>\"\n",
    "After a succesfull upload to s3 bucket, the update stac catalog endpoint is called to update the catalog and to copy the file to the \"final-catalog\" bucket."
   ]
  },
  {
   "cell_type": "code",
   "execution_count": 3,
   "id": "566b8976",
   "metadata": {},
   "outputs": [],
   "source": [
    "from dataclasses import dataclass\n",
    "import requests\n",
    "\n",
    "@dataclass\n",
    "class Collection:\n",
    "    \"\"\"A collection for test purpose.\"\"\"\n",
    "\n",
    "    user: str\n",
    "    name: str\n",
    "\n",
    "    @property\n",
    "    def id_(self) -> str:\n",
    "        \"\"\"Returns the id.\"\"\"\n",
    "        return f\"{self.user}_{self.name}\"\n",
    "\n",
    "    @property\n",
    "    def properties(self):\n",
    "        \"\"\"Returns the properties.\"\"\"\n",
    "        return {\n",
    "            \"id\": self.name,\n",
    "            \"type\": \"Collection\",\n",
    "            \"links\": [\n",
    "                {\n",
    "                    \"rel\": \"items\",\n",
    "                    \"type\": \"application/geo+json\",\n",
    "                    \"href\": f\"http://localhost:8082/collections/{self.name}/items\",\n",
    "                },\n",
    "                {\"rel\": \"parent\", \"type\": \"application/json\", \"href\": \"http://localhost:8082/\"},\n",
    "                {\"rel\": \"root\", \"type\": \"application/json\", \"href\": \"http://localhost:8082/\"},\n",
    "                {\n",
    "                    \"rel\": \"self\",\n",
    "                    \"type\": \"application/json\",\n",
    "                    \"href\": f\"\"\"http://localhost:8082/collections/{self.name}\"\"\",\n",
    "                },\n",
    "                {\n",
    "                    \"rel\": \"license\",\n",
    "                    \"href\": \"https://creativecommons.org/licenses/publicdomain/\",\n",
    "                    \"title\": \"public domain\",\n",
    "                },\n",
    "            ],\n",
    "            \"extent\": {\n",
    "                \"spatial\": {\"bbox\": [[-94.6911621, 37.0332547, -94.402771, 37.1077651]]},\n",
    "                \"temporal\": {\"interval\": [[\"2000-02-01T00:00:00Z\", \"2000-02-12T00:00:00Z\"]]},\n",
    "            },\n",
    "            \"license\": \"public-domain\",\n",
    "            \"description\": \"Some description\",\n",
    "            \"stac_version\": \"1.0.0\",\n",
    "        }\n",
    "    \n",
    "user = \"DemoUser\"\n",
    "mission = \"s1\"\n",
    "url_catalog = \"http://rs-server-catalog:8000\"\n",
    "\n",
    "# Create the collection for DemoUser\n",
    "collection_type = Collection(user, f\"{mission}_aux\")\n",
    "response = requests.post(url_catalog + f\"/catalog/{user}/collections\", json=collection_type.properties)"
   ]
  },
  {
   "cell_type": "code",
   "execution_count": 5,
   "id": "e7ed1ee5-56eb-4f46-95fa-a7cb2015fb4f",
   "metadata": {},
   "outputs": [
    {
     "data": {
      "text/html": [
       "<pre style=\"white-space:pre;overflow-x:auto;line-height:normal;font-family:Menlo,'DejaVu Sans Mono',consolas,'Courier New',monospace\">22:12:13.268 | <span style=\"color: #008080; text-decoration-color: #008080\">INFO</span>    | prefect.engine - Created flow run<span style=\"color: #800080; text-decoration-color: #800080\"> 'divergent-heron'</span> for flow<span style=\"color: #800080; text-decoration-color: #800080; font-weight: bold\"> 'download-flow'</span>\n",
       "</pre>\n"
      ],
      "text/plain": [
       "22:12:13.268 | \u001b[36mINFO\u001b[0m    | prefect.engine - Created flow run\u001b[35m 'divergent-heron'\u001b[0m for flow\u001b[1;35m 'download-flow'\u001b[0m\n"
      ]
     },
     "metadata": {},
     "output_type": "display_data"
    },
    {
     "data": {
      "text/html": [
       "<pre style=\"white-space:pre;overflow-x:auto;line-height:normal;font-family:Menlo,'DejaVu Sans Mono',consolas,'Courier New',monospace\">22:12:13.270 | <span style=\"color: #008080; text-decoration-color: #008080\">INFO</span>    | Flow run<span style=\"color: #800080; text-decoration-color: #800080\"> 'divergent-heron'</span> - View at <span style=\"color: #0000ff; text-decoration-color: #0000ff\">http://prefect-server:4200/flow-runs/flow-run/43c9430a-15b3-44c7-999d-6ca6939d5f66</span>\n",
       "</pre>\n"
      ],
      "text/plain": [
       "22:12:13.270 | \u001b[36mINFO\u001b[0m    | Flow run\u001b[35m 'divergent-heron'\u001b[0m - View at \u001b[94mhttp://prefect-server:4200/flow-runs/flow-run/43c9430a-15b3-44c7-999d-6ca6939d5f66\u001b[0m\n"
      ]
     },
     "metadata": {},
     "output_type": "display_data"
    },
    {
     "data": {
      "text/html": [
       "<pre style=\"white-space:pre;overflow-x:auto;line-height:normal;font-family:Menlo,'DejaVu Sans Mono',consolas,'Courier New',monospace\">22:12:13.271 | <span style=\"color: #008080; text-decoration-color: #008080\">INFO</span>    | prefect.task_runner.dask - Creating a new Dask cluster with `distributed.deploy.local.LocalCluster`\n",
       "</pre>\n"
      ],
      "text/plain": [
       "22:12:13.271 | \u001b[36mINFO\u001b[0m    | prefect.task_runner.dask - Creating a new Dask cluster with `distributed.deploy.local.LocalCluster`\n"
      ]
     },
     "metadata": {},
     "output_type": "display_data"
    },
    {
     "data": {
      "text/html": [
       "<pre style=\"white-space:pre;overflow-x:auto;line-height:normal;font-family:Menlo,'DejaVu Sans Mono',consolas,'Courier New',monospace\">22:12:13.273 | <span style=\"color: #008080; text-decoration-color: #008080\">INFO</span>    | distributed.scheduler - State start\n",
       "</pre>\n"
      ],
      "text/plain": [
       "22:12:13.273 | \u001b[36mINFO\u001b[0m    | distributed.scheduler - State start\n"
      ]
     },
     "metadata": {},
     "output_type": "display_data"
    },
    {
     "data": {
      "text/html": [
       "<pre style=\"white-space:pre;overflow-x:auto;line-height:normal;font-family:Menlo,'DejaVu Sans Mono',consolas,'Courier New',monospace\">22:12:13.278 | <span style=\"color: #008080; text-decoration-color: #008080\">INFO</span>    | distributed.scheduler -   Scheduler at:     tcp://127.0.0.1:37225\n",
       "</pre>\n"
      ],
      "text/plain": [
       "22:12:13.278 | \u001b[36mINFO\u001b[0m    | distributed.scheduler -   Scheduler at:     tcp://127.0.0.1:37225\n"
      ]
     },
     "metadata": {},
     "output_type": "display_data"
    },
    {
     "data": {
      "text/html": [
       "<pre style=\"white-space:pre;overflow-x:auto;line-height:normal;font-family:Menlo,'DejaVu Sans Mono',consolas,'Courier New',monospace\">22:12:13.279 | <span style=\"color: #008080; text-decoration-color: #008080\">INFO</span>    | distributed.scheduler -   dashboard at:  <span style=\"color: #0000ff; text-decoration-color: #0000ff\">http://127.0.0.1:8787/status</span>\n",
       "</pre>\n"
      ],
      "text/plain": [
       "22:12:13.279 | \u001b[36mINFO\u001b[0m    | distributed.scheduler -   dashboard at:  \u001b[94mhttp://127.0.0.1:8787/status\u001b[0m\n"
      ]
     },
     "metadata": {},
     "output_type": "display_data"
    },
    {
     "data": {
      "text/html": [
       "<pre style=\"white-space:pre;overflow-x:auto;line-height:normal;font-family:Menlo,'DejaVu Sans Mono',consolas,'Courier New',monospace\">22:12:13.279 | <span style=\"color: #008080; text-decoration-color: #008080\">INFO</span>    | distributed.scheduler - Registering Worker plugin shuffle\n",
       "</pre>\n"
      ],
      "text/plain": [
       "22:12:13.279 | \u001b[36mINFO\u001b[0m    | distributed.scheduler - Registering Worker plugin shuffle\n"
      ]
     },
     "metadata": {},
     "output_type": "display_data"
    },
    {
     "data": {
      "text/html": [
       "<pre style=\"white-space:pre;overflow-x:auto;line-height:normal;font-family:Menlo,'DejaVu Sans Mono',consolas,'Courier New',monospace\">22:12:13.296 | <span style=\"color: #008080; text-decoration-color: #008080\">INFO</span>    | distributed.nanny -         Start Nanny at: 'tcp://127.0.0.1:35591'\n",
       "</pre>\n"
      ],
      "text/plain": [
       "22:12:13.296 | \u001b[36mINFO\u001b[0m    | distributed.nanny -         Start Nanny at: 'tcp://127.0.0.1:35591'\n"
      ]
     },
     "metadata": {},
     "output_type": "display_data"
    },
    {
     "data": {
      "text/html": [
       "<pre style=\"white-space:pre;overflow-x:auto;line-height:normal;font-family:Menlo,'DejaVu Sans Mono',consolas,'Courier New',monospace\">22:12:13.298 | <span style=\"color: #008080; text-decoration-color: #008080\">INFO</span>    | distributed.nanny -         Start Nanny at: 'tcp://127.0.0.1:42533'\n",
       "</pre>\n"
      ],
      "text/plain": [
       "22:12:13.298 | \u001b[36mINFO\u001b[0m    | distributed.nanny -         Start Nanny at: 'tcp://127.0.0.1:42533'\n"
      ]
     },
     "metadata": {},
     "output_type": "display_data"
    },
    {
     "data": {
      "text/html": [
       "<pre style=\"white-space:pre;overflow-x:auto;line-height:normal;font-family:Menlo,'DejaVu Sans Mono',consolas,'Courier New',monospace\">22:12:13.301 | <span style=\"color: #008080; text-decoration-color: #008080\">INFO</span>    | distributed.nanny -         Start Nanny at: 'tcp://127.0.0.1:44383'\n",
       "</pre>\n"
      ],
      "text/plain": [
       "22:12:13.301 | \u001b[36mINFO\u001b[0m    | distributed.nanny -         Start Nanny at: 'tcp://127.0.0.1:44383'\n"
      ]
     },
     "metadata": {},
     "output_type": "display_data"
    },
    {
     "data": {
      "text/html": [
       "<pre style=\"white-space:pre;overflow-x:auto;line-height:normal;font-family:Menlo,'DejaVu Sans Mono',consolas,'Courier New',monospace\">22:12:13.305 | <span style=\"color: #008080; text-decoration-color: #008080\">INFO</span>    | distributed.nanny -         Start Nanny at: 'tcp://127.0.0.1:45015'\n",
       "</pre>\n"
      ],
      "text/plain": [
       "22:12:13.305 | \u001b[36mINFO\u001b[0m    | distributed.nanny -         Start Nanny at: 'tcp://127.0.0.1:45015'\n"
      ]
     },
     "metadata": {},
     "output_type": "display_data"
    },
    {
     "data": {
      "text/html": [
       "<pre style=\"white-space:pre;overflow-x:auto;line-height:normal;font-family:Menlo,'DejaVu Sans Mono',consolas,'Courier New',monospace\">22:12:13.724 | <span style=\"color: #008080; text-decoration-color: #008080\">INFO</span>    | distributed.scheduler - Register worker &lt;WorkerState 'tcp://127.0.0.1:40049', name: 0, status: init, memory: 0, processing: 0&gt;\n",
       "</pre>\n"
      ],
      "text/plain": [
       "22:12:13.724 | \u001b[36mINFO\u001b[0m    | distributed.scheduler - Register worker <WorkerState 'tcp://127.0.0.1:40049', name: 0, status: init, memory: 0, processing: 0>\n"
      ]
     },
     "metadata": {},
     "output_type": "display_data"
    },
    {
     "data": {
      "text/html": [
       "<pre style=\"white-space:pre;overflow-x:auto;line-height:normal;font-family:Menlo,'DejaVu Sans Mono',consolas,'Courier New',monospace\">22:12:13.725 | <span style=\"color: #008080; text-decoration-color: #008080\">INFO</span>    | distributed.scheduler - Starting worker compute stream, tcp://127.0.0.1:40049\n",
       "</pre>\n"
      ],
      "text/plain": [
       "22:12:13.725 | \u001b[36mINFO\u001b[0m    | distributed.scheduler - Starting worker compute stream, tcp://127.0.0.1:40049\n"
      ]
     },
     "metadata": {},
     "output_type": "display_data"
    },
    {
     "data": {
      "text/html": [
       "<pre style=\"white-space:pre;overflow-x:auto;line-height:normal;font-family:Menlo,'DejaVu Sans Mono',consolas,'Courier New',monospace\">22:12:13.726 | <span style=\"color: #008080; text-decoration-color: #008080\">INFO</span>    | distributed.core - Starting established connection to tcp://127.0.0.1:51024\n",
       "</pre>\n"
      ],
      "text/plain": [
       "22:12:13.726 | \u001b[36mINFO\u001b[0m    | distributed.core - Starting established connection to tcp://127.0.0.1:51024\n"
      ]
     },
     "metadata": {},
     "output_type": "display_data"
    },
    {
     "data": {
      "text/html": [
       "<pre style=\"white-space:pre;overflow-x:auto;line-height:normal;font-family:Menlo,'DejaVu Sans Mono',consolas,'Courier New',monospace\">22:12:13.728 | <span style=\"color: #008080; text-decoration-color: #008080\">INFO</span>    | distributed.scheduler - Register worker &lt;WorkerState 'tcp://127.0.0.1:34983', name: 3, status: init, memory: 0, processing: 0&gt;\n",
       "</pre>\n"
      ],
      "text/plain": [
       "22:12:13.728 | \u001b[36mINFO\u001b[0m    | distributed.scheduler - Register worker <WorkerState 'tcp://127.0.0.1:34983', name: 3, status: init, memory: 0, processing: 0>\n"
      ]
     },
     "metadata": {},
     "output_type": "display_data"
    },
    {
     "data": {
      "text/html": [
       "<pre style=\"white-space:pre;overflow-x:auto;line-height:normal;font-family:Menlo,'DejaVu Sans Mono',consolas,'Courier New',monospace\">22:12:13.729 | <span style=\"color: #008080; text-decoration-color: #008080\">INFO</span>    | distributed.scheduler - Starting worker compute stream, tcp://127.0.0.1:34983\n",
       "</pre>\n"
      ],
      "text/plain": [
       "22:12:13.729 | \u001b[36mINFO\u001b[0m    | distributed.scheduler - Starting worker compute stream, tcp://127.0.0.1:34983\n"
      ]
     },
     "metadata": {},
     "output_type": "display_data"
    },
    {
     "data": {
      "text/html": [
       "<pre style=\"white-space:pre;overflow-x:auto;line-height:normal;font-family:Menlo,'DejaVu Sans Mono',consolas,'Courier New',monospace\">22:12:13.730 | <span style=\"color: #008080; text-decoration-color: #008080\">INFO</span>    | distributed.core - Starting established connection to tcp://127.0.0.1:51030\n",
       "</pre>\n"
      ],
      "text/plain": [
       "22:12:13.730 | \u001b[36mINFO\u001b[0m    | distributed.core - Starting established connection to tcp://127.0.0.1:51030\n"
      ]
     },
     "metadata": {},
     "output_type": "display_data"
    },
    {
     "data": {
      "text/html": [
       "<pre style=\"white-space:pre;overflow-x:auto;line-height:normal;font-family:Menlo,'DejaVu Sans Mono',consolas,'Courier New',monospace\">22:12:13.732 | <span style=\"color: #008080; text-decoration-color: #008080\">INFO</span>    | distributed.scheduler - Register worker &lt;WorkerState 'tcp://127.0.0.1:34045', name: 2, status: init, memory: 0, processing: 0&gt;\n",
       "</pre>\n"
      ],
      "text/plain": [
       "22:12:13.732 | \u001b[36mINFO\u001b[0m    | distributed.scheduler - Register worker <WorkerState 'tcp://127.0.0.1:34045', name: 2, status: init, memory: 0, processing: 0>\n"
      ]
     },
     "metadata": {},
     "output_type": "display_data"
    },
    {
     "data": {
      "text/html": [
       "<pre style=\"white-space:pre;overflow-x:auto;line-height:normal;font-family:Menlo,'DejaVu Sans Mono',consolas,'Courier New',monospace\">22:12:13.733 | <span style=\"color: #008080; text-decoration-color: #008080\">INFO</span>    | distributed.scheduler - Starting worker compute stream, tcp://127.0.0.1:34045\n",
       "</pre>\n"
      ],
      "text/plain": [
       "22:12:13.733 | \u001b[36mINFO\u001b[0m    | distributed.scheduler - Starting worker compute stream, tcp://127.0.0.1:34045\n"
      ]
     },
     "metadata": {},
     "output_type": "display_data"
    },
    {
     "data": {
      "text/html": [
       "<pre style=\"white-space:pre;overflow-x:auto;line-height:normal;font-family:Menlo,'DejaVu Sans Mono',consolas,'Courier New',monospace\">22:12:13.734 | <span style=\"color: #008080; text-decoration-color: #008080\">INFO</span>    | distributed.core - Starting established connection to tcp://127.0.0.1:51032\n",
       "</pre>\n"
      ],
      "text/plain": [
       "22:12:13.734 | \u001b[36mINFO\u001b[0m    | distributed.core - Starting established connection to tcp://127.0.0.1:51032\n"
      ]
     },
     "metadata": {},
     "output_type": "display_data"
    },
    {
     "data": {
      "text/html": [
       "<pre style=\"white-space:pre;overflow-x:auto;line-height:normal;font-family:Menlo,'DejaVu Sans Mono',consolas,'Courier New',monospace\">22:12:13.739 | <span style=\"color: #008080; text-decoration-color: #008080\">INFO</span>    | distributed.scheduler - Register worker &lt;WorkerState 'tcp://127.0.0.1:43969', name: 1, status: init, memory: 0, processing: 0&gt;\n",
       "</pre>\n"
      ],
      "text/plain": [
       "22:12:13.739 | \u001b[36mINFO\u001b[0m    | distributed.scheduler - Register worker <WorkerState 'tcp://127.0.0.1:43969', name: 1, status: init, memory: 0, processing: 0>\n"
      ]
     },
     "metadata": {},
     "output_type": "display_data"
    },
    {
     "data": {
      "text/html": [
       "<pre style=\"white-space:pre;overflow-x:auto;line-height:normal;font-family:Menlo,'DejaVu Sans Mono',consolas,'Courier New',monospace\">22:12:13.741 | <span style=\"color: #008080; text-decoration-color: #008080\">INFO</span>    | distributed.scheduler - Starting worker compute stream, tcp://127.0.0.1:43969\n",
       "</pre>\n"
      ],
      "text/plain": [
       "22:12:13.741 | \u001b[36mINFO\u001b[0m    | distributed.scheduler - Starting worker compute stream, tcp://127.0.0.1:43969\n"
      ]
     },
     "metadata": {},
     "output_type": "display_data"
    },
    {
     "data": {
      "text/html": [
       "<pre style=\"white-space:pre;overflow-x:auto;line-height:normal;font-family:Menlo,'DejaVu Sans Mono',consolas,'Courier New',monospace\">22:12:13.742 | <span style=\"color: #008080; text-decoration-color: #008080\">INFO</span>    | distributed.core - Starting established connection to tcp://127.0.0.1:51048\n",
       "</pre>\n"
      ],
      "text/plain": [
       "22:12:13.742 | \u001b[36mINFO\u001b[0m    | distributed.core - Starting established connection to tcp://127.0.0.1:51048\n"
      ]
     },
     "metadata": {},
     "output_type": "display_data"
    },
    {
     "data": {
      "text/html": [
       "<pre style=\"white-space:pre;overflow-x:auto;line-height:normal;font-family:Menlo,'DejaVu Sans Mono',consolas,'Courier New',monospace\">22:12:13.776 | <span style=\"color: #008080; text-decoration-color: #008080\">INFO</span>    | distributed.scheduler - Receive client connection: Client-69f4ed9c-dff4-11ee-8072-0242c0a8a00a\n",
       "</pre>\n"
      ],
      "text/plain": [
       "22:12:13.776 | \u001b[36mINFO\u001b[0m    | distributed.scheduler - Receive client connection: Client-69f4ed9c-dff4-11ee-8072-0242c0a8a00a\n"
      ]
     },
     "metadata": {},
     "output_type": "display_data"
    },
    {
     "data": {
      "text/html": [
       "<pre style=\"white-space:pre;overflow-x:auto;line-height:normal;font-family:Menlo,'DejaVu Sans Mono',consolas,'Courier New',monospace\">22:12:13.778 | <span style=\"color: #008080; text-decoration-color: #008080\">INFO</span>    | distributed.core - Starting established connection to tcp://127.0.0.1:51064\n",
       "</pre>\n"
      ],
      "text/plain": [
       "22:12:13.778 | \u001b[36mINFO\u001b[0m    | distributed.core - Starting established connection to tcp://127.0.0.1:51064\n"
      ]
     },
     "metadata": {},
     "output_type": "display_data"
    },
    {
     "data": {
      "text/html": [
       "<pre style=\"white-space:pre;overflow-x:auto;line-height:normal;font-family:Menlo,'DejaVu Sans Mono',consolas,'Courier New',monospace\">22:12:13.779 | <span style=\"color: #008080; text-decoration-color: #008080\">INFO</span>    | prefect.task_runner.dask - The Dask dashboard is available at <span style=\"color: #0000ff; text-decoration-color: #0000ff\">http://127.0.0.1:8787/status</span>\n",
       "</pre>\n"
      ],
      "text/plain": [
       "22:12:13.779 | \u001b[36mINFO\u001b[0m    | prefect.task_runner.dask - The Dask dashboard is available at \u001b[94mhttp://127.0.0.1:8787/status\u001b[0m\n"
      ]
     },
     "metadata": {},
     "output_type": "display_data"
    },
    {
     "data": {
      "text/html": [
       "<pre style=\"white-space:pre;overflow-x:auto;line-height:normal;font-family:Menlo,'DejaVu Sans Mono',consolas,'Courier New',monospace\">22:12:14.559 | DEBUG   | Flow run<span style=\"color: #800080; text-decoration-color: #800080\"> 'divergent-heron'</span> - request_params = {'collection': 's1_aux', 'ids': 'DCS_04_S1A_20231121072204051312_ch1_DSDB_00001.raw,DCS_04_S1A_20231121072204051312_ch1_DSDB_00002.raw,DCS_04_S1A_20231121072204051312_ch1_DSDB_00003.raw,DCS_04_S1A_20231121072204051312_ch1_DSDB_00004.raw,DCS_04_S1A_20231121072204051312_ch1_DSDB_00005.raw,DCS_04_S1A_20231121072204051312_ch1_DSDB_00006.raw,DCS_04_S1A_20231121072204051312_ch1_DSDB_00007.raw,DCS_04_S1A_20231121072204051312_ch1_DSDB_00060.raw,DCS_04_S1A_20231121072204051312_ch2_DSDB_00060.raw,DCS_04_S1A_20231121072204051312_ch2_DSDB_00046.raw', 'filter': \"owner_id='DemoUser'\"}\n",
       "</pre>\n"
      ],
      "text/plain": [
       "22:12:14.559 | DEBUG   | Flow run\u001b[35m 'divergent-heron'\u001b[0m - request_params = {'collection': 's1_aux', 'ids': 'DCS_04_S1A_20231121072204051312_ch1_DSDB_00001.raw,DCS_04_S1A_20231121072204051312_ch1_DSDB_00002.raw,DCS_04_S1A_20231121072204051312_ch1_DSDB_00003.raw,DCS_04_S1A_20231121072204051312_ch1_DSDB_00004.raw,DCS_04_S1A_20231121072204051312_ch1_DSDB_00005.raw,DCS_04_S1A_20231121072204051312_ch1_DSDB_00006.raw,DCS_04_S1A_20231121072204051312_ch1_DSDB_00007.raw,DCS_04_S1A_20231121072204051312_ch1_DSDB_00060.raw,DCS_04_S1A_20231121072204051312_ch2_DSDB_00060.raw,DCS_04_S1A_20231121072204051312_ch2_DSDB_00046.raw', 'filter': \"owner_id='DemoUser'\"}\n"
      ]
     },
     "metadata": {},
     "output_type": "display_data"
    },
    {
     "data": {
      "text/html": [
       "<pre style=\"white-space:pre;overflow-x:auto;line-height:normal;font-family:Menlo,'DejaVu Sans Mono',consolas,'Courier New',monospace\">22:12:14.589 | DEBUG   | Flow run<span style=\"color: #800080; text-decoration-color: #800080\"> 'divergent-heron'</span> - Search in catalog endpoint response.url = <span style=\"color: #0000ff; text-decoration-color: #0000ff\">http://rs-server-catalog:8000/catalog/search?collection=s1_aux&amp;ids=DCS_04_S1A_20231121072204051312_ch1_DSDB_00001.raw%2CDCS_04_S1A_20231121072204051312_ch1_DSDB_00002.raw%2CDCS_04_S1A_20231121072204051312_ch1_DSDB_00003.raw%2CDCS_04_S1A_20231121072204051312_ch1_DSDB_00004.raw%2CDCS_04_S1A_20231121072204051312_ch1_DSDB_00005.raw%2CDCS_04_S1A_20231121072204051312_ch1_DSDB_00006.raw%2CDCS_04_S1A_20231121072204051312_ch1_DSDB_00007.raw%2CDCS_04_S1A_20231121072204051312_ch1_DSDB_00060.raw%2CDCS_04_S1A_20231121072204051312_ch2_DSDB_00060.raw%2CDCS_04_S1A_20231121072204051312_ch2_DSDB_00046.raw&amp;filter=owner_id%3D%27DemoUser%27</span>\n",
       "</pre>\n"
      ],
      "text/plain": [
       "22:12:14.589 | DEBUG   | Flow run\u001b[35m 'divergent-heron'\u001b[0m - Search in catalog endpoint response.url = \u001b[94mhttp://rs-server-catalog:8000/catalog/search?collection=s1_aux&ids=DCS_04_S1A_20231121072204051312_ch1_DSDB_00001.raw%2CDCS_04_S1A_20231121072204051312_ch1_DSDB_00002.raw%2CDCS_04_S1A_20231121072204051312_ch1_DSDB_00003.raw%2CDCS_04_S1A_20231121072204051312_ch1_DSDB_00004.raw%2CDCS_04_S1A_20231121072204051312_ch1_DSDB_00005.raw%2CDCS_04_S1A_20231121072204051312_ch1_DSDB_00006.raw%2CDCS_04_S1A_20231121072204051312_ch1_DSDB_00007.raw%2CDCS_04_S1A_20231121072204051312_ch1_DSDB_00060.raw%2CDCS_04_S1A_20231121072204051312_ch2_DSDB_00060.raw%2CDCS_04_S1A_20231121072204051312_ch2_DSDB_00046.raw&filter=owner_id%3D%27DemoUser%27\u001b[0m\n"
      ]
     },
     "metadata": {},
     "output_type": "display_data"
    },
    {
     "data": {
      "text/html": [
       "<pre style=\"white-space:pre;overflow-x:auto;line-height:normal;font-family:Menlo,'DejaVu Sans Mono',consolas,'Courier New',monospace\">22:12:14.591 | DEBUG   | Flow run<span style=\"color: #800080; text-decoration-color: #800080\"> 'divergent-heron'</span> - Files found in the catalog (10): [{'id': 'DCS_04_S1A_20231121072204051312_ch1_DSDB_00060.raw', 'type': 'Feature', 'links': [{'rel': 'collection', 'type': 'application/json', 'href': '<span style=\"color: #0000ff; text-decoration-color: #0000ff\">http://rs-server-catalog:8000/collections/DemoUser_s1_aux</span>'}, {'rel': 'parent', 'type': 'application/json', 'href': '<span style=\"color: #0000ff; text-decoration-color: #0000ff\">http://rs-server-catalog:8000/collections/DemoUser_s1_aux</span>'}, {'rel': 'root', 'type': 'application/json', 'href': '<span style=\"color: #0000ff; text-decoration-color: #0000ff\">http://rs-server-catalog:8000/</span>'}, {'rel': 'self', 'type': 'application/geo+json', 'href': '<span style=\"color: #0000ff; text-decoration-color: #0000ff\">http://rs-server-catalog:8000/collections/DemoUser_s1_aux/items/DCS_04_S1A_20231121072204051312_ch1_DSDB_00060.raw</span>'}], 'assets': {'file': {'href': '<span style=\"color: #0000ff; text-decoration-color: #0000ff\">https://rs-server/catalog/DemoUser/collections/s1_aux/items/CADIPDCS_04_S1A_20231121072204051312_ch1_DSDB_00060.raw/download/file</span>', 'alternate': {'s3': {'href': 's3://final-catalog/stations/CADIPDCS_04_S1A_20231121072204051312_ch1_DSDB_00060.raw'}}, 'file:size': 22}}, 'geometry': {'type': 'Polygon', 'coordinates': [[[180, -90], [180, 90], [-180, 90], [-180, -90], [180, -90]]]}, 'collection': 'DemoUser_s1_aux', 'properties': {'owner': 'DemoUser', 'cadip:id': 'some_id_2', 'datetime': '2023-11-26T17:01:39.528Z', 'cadip:channel': 1, 'cadip:retransfer': False, 'cadip:session_id': 'some_session_id2', 'cadip:final_block': True, 'eviction_datetime': '2023-12-03T17:01:00Z', 'cadip:block_number': 60}, 'stac_version': '1.0.0', 'stac_extensions': ['<span style=\"color: #0000ff; text-decoration-color: #0000ff\">https://stac-extensions.github.io/file/v2.1.0/schema.json</span>', '<span style=\"color: #0000ff; text-decoration-color: #0000ff\">https://stac-extensions.github.io/alternate-assets/v1.1.0/schema.json</span>']}, {'id': 'DCS_04_S1A_20231121072204051312_ch1_DSDB_00007.raw', 'type': 'Feature', 'links': [{'rel': 'collection', 'type': 'application/json', 'href': '<span style=\"color: #0000ff; text-decoration-color: #0000ff\">http://rs-server-catalog:8000/collections/DemoUser_s1_aux</span>'}, {'rel': 'parent', 'type': 'application/json', 'href': '<span style=\"color: #0000ff; text-decoration-color: #0000ff\">http://rs-server-catalog:8000/collections/DemoUser_s1_aux</span>'}, {'rel': 'root', 'type': 'application/json', 'href': '<span style=\"color: #0000ff; text-decoration-color: #0000ff\">http://rs-server-catalog:8000/</span>'}, {'rel': 'self', 'type': 'application/geo+json', 'href': '<span style=\"color: #0000ff; text-decoration-color: #0000ff\">http://rs-server-catalog:8000/collections/DemoUser_s1_aux/items/DCS_04_S1A_20231121072204051312_ch1_DSDB_00007.raw</span>'}], 'assets': {'file': {'href': '<span style=\"color: #0000ff; text-decoration-color: #0000ff\">https://rs-server/catalog/DemoUser/collections/s1_aux/items/CADIPDCS_04_S1A_20231121072204051312_ch1_DSDB_00007.raw/download/file</span>', 'alternate': {'s3': {'href': 's3://final-catalog/stations/CADIPDCS_04_S1A_20231121072204051312_ch1_DSDB_00007.raw'}}, 'file:size': 36}}, 'geometry': {'type': 'Polygon', 'coordinates': [[[180, -90], [180, 90], [-180, 90], [-180, -90], [180, -90]]]}, 'collection': 'DemoUser_s1_aux', 'properties': {'owner': 'DemoUser', 'cadip:id': '2b17b57d-fff4-4645-b539-91f305c27c65', 'datetime': '2023-11-26T17:01:39.528Z', 'cadip:channel': 1, 'cadip:retransfer': False, 'cadip:session_id': 'some_session_id', 'cadip:final_block': False, 'eviction_datetime': '2023-12-03T17:01:00Z', 'cadip:block_number': 1}, 'stac_version': '1.0.0', 'stac_extensions': ['<span style=\"color: #0000ff; text-decoration-color: #0000ff\">https://stac-extensions.github.io/file/v2.1.0/schema.json</span>', '<span style=\"color: #0000ff; text-decoration-color: #0000ff\">https://stac-extensions.github.io/alternate-assets/v1.1.0/schema.json</span>']}, {'id': 'DCS_04_S1A_20231121072204051312_ch1_DSDB_00006.raw', 'type': 'Feature', 'links': [{'rel': 'collection', 'type': 'application/json', 'href': '<span style=\"color: #0000ff; text-decoration-color: #0000ff\">http://rs-server-catalog:8000/collections/DemoUser_s1_aux</span>'}, {'rel': 'parent', 'type': 'application/json', 'href': '<span style=\"color: #0000ff; text-decoration-color: #0000ff\">http://rs-server-catalog:8000/collections/DemoUser_s1_aux</span>'}, {'rel': 'root', 'type': 'application/json', 'href': '<span style=\"color: #0000ff; text-decoration-color: #0000ff\">http://rs-server-catalog:8000/</span>'}, {'rel': 'self', 'type': 'application/geo+json', 'href': '<span style=\"color: #0000ff; text-decoration-color: #0000ff\">http://rs-server-catalog:8000/collections/DemoUser_s1_aux/items/DCS_04_S1A_20231121072204051312_ch1_DSDB_00006.raw</span>'}], 'assets': {'file': {'href': '<span style=\"color: #0000ff; text-decoration-color: #0000ff\">https://rs-server/catalog/DemoUser/collections/s1_aux/items/CADIPDCS_04_S1A_20231121072204051312_ch1_DSDB_00006.raw/download/file</span>', 'alternate': {'s3': {'href': 's3://final-catalog/stations/CADIPDCS_04_S1A_20231121072204051312_ch1_DSDB_00006.raw'}}, 'file:size': 36}}, 'geometry': {'type': 'Polygon', 'coordinates': [[[180, -90], [180, 90], [-180, 90], [-180, -90], [180, -90]]]}, 'collection': 'DemoUser_s1_aux', 'properties': {'owner': 'DemoUser', 'cadip:id': '2b17b57d-fff4-4645-b539-91f305c27c64', 'datetime': '2023-11-26T17:01:39.528Z', 'cadip:channel': 1, 'cadip:retransfer': False, 'cadip:session_id': 'some_session_id', 'cadip:final_block': False, 'eviction_datetime': '2023-12-03T17:01:00Z', 'cadip:block_number': 1}, 'stac_version': '1.0.0', 'stac_extensions': ['<span style=\"color: #0000ff; text-decoration-color: #0000ff\">https://stac-extensions.github.io/file/v2.1.0/schema.json</span>', '<span style=\"color: #0000ff; text-decoration-color: #0000ff\">https://stac-extensions.github.io/alternate-assets/v1.1.0/schema.json</span>']}, {'id': 'DCS_04_S1A_20231121072204051312_ch1_DSDB_00005.raw', 'type': 'Feature', 'links': [{'rel': 'collection', 'type': 'application/json', 'href': '<span style=\"color: #0000ff; text-decoration-color: #0000ff\">http://rs-server-catalog:8000/collections/DemoUser_s1_aux</span>'}, {'rel': 'parent', 'type': 'application/json', 'href': '<span style=\"color: #0000ff; text-decoration-color: #0000ff\">http://rs-server-catalog:8000/collections/DemoUser_s1_aux</span>'}, {'rel': 'root', 'type': 'application/json', 'href': '<span style=\"color: #0000ff; text-decoration-color: #0000ff\">http://rs-server-catalog:8000/</span>'}, {'rel': 'self', 'type': 'application/geo+json', 'href': '<span style=\"color: #0000ff; text-decoration-color: #0000ff\">http://rs-server-catalog:8000/collections/DemoUser_s1_aux/items/DCS_04_S1A_20231121072204051312_ch1_DSDB_00005.raw</span>'}], 'assets': {'file': {'href': '<span style=\"color: #0000ff; text-decoration-color: #0000ff\">https://rs-server/catalog/DemoUser/collections/s1_aux/items/CADIPDCS_04_S1A_20231121072204051312_ch1_DSDB_00005.raw/download/file</span>', 'alternate': {'s3': {'href': 's3://final-catalog/stations/CADIPDCS_04_S1A_20231121072204051312_ch1_DSDB_00005.raw'}}, 'file:size': 36}}, 'geometry': {'type': 'Polygon', 'coordinates': [[[180, -90], [180, 90], [-180, 90], [-180, -90], [180, -90]]]}, 'collection': 'DemoUser_s1_aux', 'properties': {'owner': 'DemoUser', 'cadip:id': '2b17b57d-fff4-4645-b539-91f305c27c63', 'datetime': '2023-11-26T17:01:39.528Z', 'cadip:channel': 1, 'cadip:retransfer': False, 'cadip:session_id': 'some_session_id', 'cadip:final_block': False, 'eviction_datetime': '2023-12-03T17:01:00Z', 'cadip:block_number': 1}, 'stac_version': '1.0.0', 'stac_extensions': ['<span style=\"color: #0000ff; text-decoration-color: #0000ff\">https://stac-extensions.github.io/file/v2.1.0/schema.json</span>', '<span style=\"color: #0000ff; text-decoration-color: #0000ff\">https://stac-extensions.github.io/alternate-assets/v1.1.0/schema.json</span>']}, {'id': 'DCS_04_S1A_20231121072204051312_ch1_DSDB_00004.raw', 'type': 'Feature', 'links': [{'rel': 'collection', 'type': 'application/json', 'href': '<span style=\"color: #0000ff; text-decoration-color: #0000ff\">http://rs-server-catalog:8000/collections/DemoUser_s1_aux</span>'}, {'rel': 'parent', 'type': 'application/json', 'href': '<span style=\"color: #0000ff; text-decoration-color: #0000ff\">http://rs-server-catalog:8000/collections/DemoUser_s1_aux</span>'}, {'rel': 'root', 'type': 'application/json', 'href': '<span style=\"color: #0000ff; text-decoration-color: #0000ff\">http://rs-server-catalog:8000/</span>'}, {'rel': 'self', 'type': 'application/geo+json', 'href': '<span style=\"color: #0000ff; text-decoration-color: #0000ff\">http://rs-server-catalog:8000/collections/DemoUser_s1_aux/items/DCS_04_S1A_20231121072204051312_ch1_DSDB_00004.raw</span>'}], 'assets': {'file': {'href': '<span style=\"color: #0000ff; text-decoration-color: #0000ff\">https://rs-server/catalog/DemoUser/collections/s1_aux/items/CADIPDCS_04_S1A_20231121072204051312_ch1_DSDB_00004.raw/download/file</span>', 'alternate': {'s3': {'href': 's3://final-catalog/stations/CADIPDCS_04_S1A_20231121072204051312_ch1_DSDB_00004.raw'}}, 'file:size': 36}}, 'geometry': {'type': 'Polygon', 'coordinates': [[[180, -90], [180, 90], [-180, 90], [-180, -90], [180, -90]]]}, 'collection': 'DemoUser_s1_aux', 'properties': {'owner': 'DemoUser', 'cadip:id': '2b17b57d-fff4-4645-b539-91f305c27c62', 'datetime': '2023-11-26T17:01:39.528Z', 'cadip:channel': 1, 'cadip:retransfer': False, 'cadip:session_id': 'some_session_id', 'cadip:final_block': False, 'eviction_datetime': '2023-12-03T17:01:00Z', 'cadip:block_number': 1}, 'stac_version': '1.0.0', 'stac_extensions': ['<span style=\"color: #0000ff; text-decoration-color: #0000ff\">https://stac-extensions.github.io/file/v2.1.0/schema.json</span>', '<span style=\"color: #0000ff; text-decoration-color: #0000ff\">https://stac-extensions.github.io/alternate-assets/v1.1.0/schema.json</span>']}, {'id': 'DCS_04_S1A_20231121072204051312_ch1_DSDB_00003.raw', 'type': 'Feature', 'links': [{'rel': 'collection', 'type': 'application/json', 'href': '<span style=\"color: #0000ff; text-decoration-color: #0000ff\">http://rs-server-catalog:8000/collections/DemoUser_s1_aux</span>'}, {'rel': 'parent', 'type': 'application/json', 'href': '<span style=\"color: #0000ff; text-decoration-color: #0000ff\">http://rs-server-catalog:8000/collections/DemoUser_s1_aux</span>'}, {'rel': 'root', 'type': 'application/json', 'href': '<span style=\"color: #0000ff; text-decoration-color: #0000ff\">http://rs-server-catalog:8000/</span>'}, {'rel': 'self', 'type': 'application/geo+json', 'href': '<span style=\"color: #0000ff; text-decoration-color: #0000ff\">http://rs-server-catalog:8000/collections/DemoUser_s1_aux/items/DCS_04_S1A_20231121072204051312_ch1_DSDB_00003.raw</span>'}], 'assets': {'file': {'href': '<span style=\"color: #0000ff; text-decoration-color: #0000ff\">https://rs-server/catalog/DemoUser/collections/s1_aux/items/CADIPDCS_04_S1A_20231121072204051312_ch1_DSDB_00003.raw/download/file</span>', 'alternate': {'s3': {'href': 's3://final-catalog/stations/CADIPDCS_04_S1A_20231121072204051312_ch1_DSDB_00003.raw'}}, 'file:size': 36}}, 'geometry': {'type': 'Polygon', 'coordinates': [[[180, -90], [180, 90], [-180, 90], [-180, -90], [180, -90]]]}, 'collection': 'DemoUser_s1_aux', 'properties': {'owner': 'DemoUser', 'cadip:id': '2b17b57d-fff4-4645-b539-91f305c27c61', 'datetime': '2023-11-26T17:01:39.528Z', 'cadip:channel': 1, 'cadip:retransfer': False, 'cadip:session_id': 'some_session_id', 'cadip:final_block': False, 'eviction_datetime': '2023-12-03T17:01:00Z', 'cadip:block_number': 1}, 'stac_version': '1.0.0', 'stac_extensions': ['<span style=\"color: #0000ff; text-decoration-color: #0000ff\">https://stac-extensions.github.io/file/v2.1.0/schema.json</span>', '<span style=\"color: #0000ff; text-decoration-color: #0000ff\">https://stac-extensions.github.io/alternate-assets/v1.1.0/schema.json</span>']}, {'id': 'DCS_04_S1A_20231121072204051312_ch1_DSDB_00002.raw', 'type': 'Feature', 'links': [{'rel': 'collection', 'type': 'application/json', 'href': '<span style=\"color: #0000ff; text-decoration-color: #0000ff\">http://rs-server-catalog:8000/collections/DemoUser_s1_aux</span>'}, {'rel': 'parent', 'type': 'application/json', 'href': '<span style=\"color: #0000ff; text-decoration-color: #0000ff\">http://rs-server-catalog:8000/collections/DemoUser_s1_aux</span>'}, {'rel': 'root', 'type': 'application/json', 'href': '<span style=\"color: #0000ff; text-decoration-color: #0000ff\">http://rs-server-catalog:8000/</span>'}, {'rel': 'self', 'type': 'application/geo+json', 'href': '<span style=\"color: #0000ff; text-decoration-color: #0000ff\">http://rs-server-catalog:8000/collections/DemoUser_s1_aux/items/DCS_04_S1A_20231121072204051312_ch1_DSDB_00002.raw</span>'}], 'assets': {'file': {'href': '<span style=\"color: #0000ff; text-decoration-color: #0000ff\">https://rs-server/catalog/DemoUser/collections/s1_aux/items/CADIPDCS_04_S1A_20231121072204051312_ch1_DSDB_00002.raw/download/file</span>', 'alternate': {'s3': {'href': 's3://final-catalog/stations/CADIPDCS_04_S1A_20231121072204051312_ch1_DSDB_00002.raw'}}, 'file:size': 36}}, 'geometry': {'type': 'Polygon', 'coordinates': [[[180, -90], [180, 90], [-180, 90], [-180, -90], [180, -90]]]}, 'collection': 'DemoUser_s1_aux', 'properties': {'owner': 'DemoUser', 'cadip:id': '2b17b57d-fff4-4645-b539-91f305c27c60', 'datetime': '2023-11-26T17:01:39.528Z', 'cadip:channel': 1, 'cadip:retransfer': False, 'cadip:session_id': 'some_session_id', 'cadip:final_block': False, 'eviction_datetime': '2023-12-03T17:01:00Z', 'cadip:block_number': 1}, 'stac_version': '1.0.0', 'stac_extensions': ['<span style=\"color: #0000ff; text-decoration-color: #0000ff\">https://stac-extensions.github.io/file/v2.1.0/schema.json</span>', '<span style=\"color: #0000ff; text-decoration-color: #0000ff\">https://stac-extensions.github.io/alternate-assets/v1.1.0/schema.json</span>']}, {'id': 'DCS_04_S1A_20231121072204051312_ch1_DSDB_00001.raw', 'type': 'Feature', 'links': [{'rel': 'collection', 'type': 'application/json', 'href': '<span style=\"color: #0000ff; text-decoration-color: #0000ff\">http://rs-server-catalog:8000/collections/DemoUser_s1_aux</span>'}, {'rel': 'parent', 'type': 'application/json', 'href': '<span style=\"color: #0000ff; text-decoration-color: #0000ff\">http://rs-server-catalog:8000/collections/DemoUser_s1_aux</span>'}, {'rel': 'root', 'type': 'application/json', 'href': '<span style=\"color: #0000ff; text-decoration-color: #0000ff\">http://rs-server-catalog:8000/</span>'}, {'rel': 'self', 'type': 'application/geo+json', 'href': '<span style=\"color: #0000ff; text-decoration-color: #0000ff\">http://rs-server-catalog:8000/collections/DemoUser_s1_aux/items/DCS_04_S1A_20231121072204051312_ch1_DSDB_00001.raw</span>'}], 'assets': {'file': {'href': '<span style=\"color: #0000ff; text-decoration-color: #0000ff\">https://rs-server/catalog/DemoUser/collections/s1_aux/items/CADIPDCS_04_S1A_20231121072204051312_ch1_DSDB_00001.raw/download/file</span>', 'alternate': {'s3': {'href': 's3://final-catalog/stations/CADIPDCS_04_S1A_20231121072204051312_ch1_DSDB_00001.raw'}}, 'file:size': 36}}, 'geometry': {'type': 'Polygon', 'coordinates': [[[180, -90], [180, 90], [-180, 90], [-180, -90], [180, -90]]]}, 'collection': 'DemoUser_s1_aux', 'properties': {'owner': 'DemoUser', 'cadip:id': '2b17b57d-fff4-4645-b539-91f305c27c69', 'datetime': '2023-11-26T17:01:39.528Z', 'cadip:channel': 1, 'cadip:retransfer': False, 'cadip:session_id': 'some_session_id', 'cadip:final_block': False, 'eviction_datetime': '2023-12-03T17:01:00Z', 'cadip:block_number': 1}, 'stac_version': '1.0.0', 'stac_extensions': ['<span style=\"color: #0000ff; text-decoration-color: #0000ff\">https://stac-extensions.github.io/file/v2.1.0/schema.json</span>', '<span style=\"color: #0000ff; text-decoration-color: #0000ff\">https://stac-extensions.github.io/alternate-assets/v1.1.0/schema.json</span>']}, {'id': 'DCS_04_S1A_20231121072204051312_ch2_DSDB_00060.raw', 'type': 'Feature', 'links': [{'rel': 'collection', 'type': 'application/json', 'href': '<span style=\"color: #0000ff; text-decoration-color: #0000ff\">http://rs-server-catalog:8000/collections/DemoUser_s1_aux</span>'}, {'rel': 'parent', 'type': 'application/json', 'href': '<span style=\"color: #0000ff; text-decoration-color: #0000ff\">http://rs-server-catalog:8000/collections/DemoUser_s1_aux</span>'}, {'rel': 'root', 'type': 'application/json', 'href': '<span style=\"color: #0000ff; text-decoration-color: #0000ff\">http://rs-server-catalog:8000/</span>'}, {'rel': 'self', 'type': 'application/geo+json', 'href': '<span style=\"color: #0000ff; text-decoration-color: #0000ff\">http://rs-server-catalog:8000/collections/DemoUser_s1_aux/items/DCS_04_S1A_20231121072204051312_ch2_DSDB_00060.raw</span>'}], 'assets': {'file': {'href': '<span style=\"color: #0000ff; text-decoration-color: #0000ff\">https://rs-server/catalog/DemoUser/collections/s1_aux/items/CADIPDCS_04_S1A_20231121072204051312_ch2_DSDB_00060.raw/download/file</span>', 'alternate': {'s3': {'href': 's3://final-catalog/stations/CADIPDCS_04_S1A_20231121072204051312_ch2_DSDB_00060.raw'}}, 'file:size': 28}}, 'geometry': {'type': 'Polygon', 'coordinates': [[[180, -90], [180, 90], [-180, 90], [-180, -90], [180, -90]]]}, 'collection': 'DemoUser_s1_aux', 'properties': {'owner': 'DemoUser', 'cadip:id': 'some_id_4', 'datetime': '2023-11-26T15:25:19.327Z', 'cadip:channel': 2, 'cadip:retransfer': False, 'cadip:session_id': 'some_session_id4', 'cadip:final_block': True, 'eviction_datetime': '2023-12-03T15:25:00Z', 'cadip:block_number': 60}, 'stac_version': '1.0.0', 'stac_extensions': ['<span style=\"color: #0000ff; text-decoration-color: #0000ff\">https://stac-extensions.github.io/file/v2.1.0/schema.json</span>', '<span style=\"color: #0000ff; text-decoration-color: #0000ff\">https://stac-extensions.github.io/alternate-assets/v1.1.0/schema.json</span>']}, {'id': 'DCS_04_S1A_20231121072204051312_ch2_DSDB_00046.raw', 'type': 'Feature', 'links': [{'rel': 'collection', 'type': 'application/json', 'href': '<span style=\"color: #0000ff; text-decoration-color: #0000ff\">http://rs-server-catalog:8000/collections/DemoUser_s1_aux</span>'}, {'rel': 'parent', 'type': 'application/json', 'href': '<span style=\"color: #0000ff; text-decoration-color: #0000ff\">http://rs-server-catalog:8000/collections/DemoUser_s1_aux</span>'}, {'rel': 'root', 'type': 'application/json', 'href': '<span style=\"color: #0000ff; text-decoration-color: #0000ff\">http://rs-server-catalog:8000/</span>'}, {'rel': 'self', 'type': 'application/geo+json', 'href': '<span style=\"color: #0000ff; text-decoration-color: #0000ff\">http://rs-server-catalog:8000/collections/DemoUser_s1_aux/items/DCS_04_S1A_20231121072204051312_ch2_DSDB_00046.raw</span>'}], 'assets': {'file': {'href': '<span style=\"color: #0000ff; text-decoration-color: #0000ff\">https://rs-server/catalog/DemoUser/collections/s1_aux/items/CADIPDCS_04_S1A_20231121072204051312_ch2_DSDB_00046.raw/download/file</span>', 'alternate': {'s3': {'href': 's3://final-catalog/stations/CADIPDCS_04_S1A_20231121072204051312_ch2_DSDB_00046.raw'}}, 'file:size': 12}}, 'geometry': {'type': 'Polygon', 'coordinates': [[[180, -90], [180, 90], [-180, 90], [-180, -90], [180, -90]]]}, 'collection': 'DemoUser_s1_aux', 'properties': {'owner': 'DemoUser', 'cadip:id': 'some_id_3', 'datetime': '2023-11-26T15:20:21.433Z', 'cadip:channel': 2, 'cadip:retransfer': False, 'cadip:session_id': 'some_session_id3', 'cadip:final_block': False, 'eviction_datetime': '2023-12-03T15:20:00Z', 'cadip:block_number': 46}, 'stac_version': '1.0.0', 'stac_extensions': ['<span style=\"color: #0000ff; text-decoration-color: #0000ff\">https://stac-extensions.github.io/file/v2.1.0/schema.json</span>', '<span style=\"color: #0000ff; text-decoration-color: #0000ff\">https://stac-extensions.github.io/alternate-assets/v1.1.0/schema.json</span>']}]\n",
       "</pre>\n"
      ],
      "text/plain": [
       "22:12:14.591 | DEBUG   | Flow run\u001b[35m 'divergent-heron'\u001b[0m - Files found in the catalog (10): [{'id': 'DCS_04_S1A_20231121072204051312_ch1_DSDB_00060.raw', 'type': 'Feature', 'links': [{'rel': 'collection', 'type': 'application/json', 'href': '\u001b[94mhttp://rs-server-catalog:8000/collections/DemoUser_s1_aux\u001b[0m'}, {'rel': 'parent', 'type': 'application/json', 'href': '\u001b[94mhttp://rs-server-catalog:8000/collections/DemoUser_s1_aux\u001b[0m'}, {'rel': 'root', 'type': 'application/json', 'href': '\u001b[94mhttp://rs-server-catalog:8000/\u001b[0m'}, {'rel': 'self', 'type': 'application/geo+json', 'href': '\u001b[94mhttp://rs-server-catalog:8000/collections/DemoUser_s1_aux/items/DCS_04_S1A_20231121072204051312_ch1_DSDB_00060.raw\u001b[0m'}], 'assets': {'file': {'href': '\u001b[94mhttps://rs-server/catalog/DemoUser/collections/s1_aux/items/CADIPDCS_04_S1A_20231121072204051312_ch1_DSDB_00060.raw/download/file\u001b[0m', 'alternate': {'s3': {'href': 's3://final-catalog/stations/CADIPDCS_04_S1A_20231121072204051312_ch1_DSDB_00060.raw'}}, 'file:size': 22}}, 'geometry': {'type': 'Polygon', 'coordinates': [[[180, -90], [180, 90], [-180, 90], [-180, -90], [180, -90]]]}, 'collection': 'DemoUser_s1_aux', 'properties': {'owner': 'DemoUser', 'cadip:id': 'some_id_2', 'datetime': '2023-11-26T17:01:39.528Z', 'cadip:channel': 1, 'cadip:retransfer': False, 'cadip:session_id': 'some_session_id2', 'cadip:final_block': True, 'eviction_datetime': '2023-12-03T17:01:00Z', 'cadip:block_number': 60}, 'stac_version': '1.0.0', 'stac_extensions': ['\u001b[94mhttps://stac-extensions.github.io/file/v2.1.0/schema.json\u001b[0m', '\u001b[94mhttps://stac-extensions.github.io/alternate-assets/v1.1.0/schema.json\u001b[0m']}, {'id': 'DCS_04_S1A_20231121072204051312_ch1_DSDB_00007.raw', 'type': 'Feature', 'links': [{'rel': 'collection', 'type': 'application/json', 'href': '\u001b[94mhttp://rs-server-catalog:8000/collections/DemoUser_s1_aux\u001b[0m'}, {'rel': 'parent', 'type': 'application/json', 'href': '\u001b[94mhttp://rs-server-catalog:8000/collections/DemoUser_s1_aux\u001b[0m'}, {'rel': 'root', 'type': 'application/json', 'href': '\u001b[94mhttp://rs-server-catalog:8000/\u001b[0m'}, {'rel': 'self', 'type': 'application/geo+json', 'href': '\u001b[94mhttp://rs-server-catalog:8000/collections/DemoUser_s1_aux/items/DCS_04_S1A_20231121072204051312_ch1_DSDB_00007.raw\u001b[0m'}], 'assets': {'file': {'href': '\u001b[94mhttps://rs-server/catalog/DemoUser/collections/s1_aux/items/CADIPDCS_04_S1A_20231121072204051312_ch1_DSDB_00007.raw/download/file\u001b[0m', 'alternate': {'s3': {'href': 's3://final-catalog/stations/CADIPDCS_04_S1A_20231121072204051312_ch1_DSDB_00007.raw'}}, 'file:size': 36}}, 'geometry': {'type': 'Polygon', 'coordinates': [[[180, -90], [180, 90], [-180, 90], [-180, -90], [180, -90]]]}, 'collection': 'DemoUser_s1_aux', 'properties': {'owner': 'DemoUser', 'cadip:id': '2b17b57d-fff4-4645-b539-91f305c27c65', 'datetime': '2023-11-26T17:01:39.528Z', 'cadip:channel': 1, 'cadip:retransfer': False, 'cadip:session_id': 'some_session_id', 'cadip:final_block': False, 'eviction_datetime': '2023-12-03T17:01:00Z', 'cadip:block_number': 1}, 'stac_version': '1.0.0', 'stac_extensions': ['\u001b[94mhttps://stac-extensions.github.io/file/v2.1.0/schema.json\u001b[0m', '\u001b[94mhttps://stac-extensions.github.io/alternate-assets/v1.1.0/schema.json\u001b[0m']}, {'id': 'DCS_04_S1A_20231121072204051312_ch1_DSDB_00006.raw', 'type': 'Feature', 'links': [{'rel': 'collection', 'type': 'application/json', 'href': '\u001b[94mhttp://rs-server-catalog:8000/collections/DemoUser_s1_aux\u001b[0m'}, {'rel': 'parent', 'type': 'application/json', 'href': '\u001b[94mhttp://rs-server-catalog:8000/collections/DemoUser_s1_aux\u001b[0m'}, {'rel': 'root', 'type': 'application/json', 'href': '\u001b[94mhttp://rs-server-catalog:8000/\u001b[0m'}, {'rel': 'self', 'type': 'application/geo+json', 'href': '\u001b[94mhttp://rs-server-catalog:8000/collections/DemoUser_s1_aux/items/DCS_04_S1A_20231121072204051312_ch1_DSDB_00006.raw\u001b[0m'}], 'assets': {'file': {'href': '\u001b[94mhttps://rs-server/catalog/DemoUser/collections/s1_aux/items/CADIPDCS_04_S1A_20231121072204051312_ch1_DSDB_00006.raw/download/file\u001b[0m', 'alternate': {'s3': {'href': 's3://final-catalog/stations/CADIPDCS_04_S1A_20231121072204051312_ch1_DSDB_00006.raw'}}, 'file:size': 36}}, 'geometry': {'type': 'Polygon', 'coordinates': [[[180, -90], [180, 90], [-180, 90], [-180, -90], [180, -90]]]}, 'collection': 'DemoUser_s1_aux', 'properties': {'owner': 'DemoUser', 'cadip:id': '2b17b57d-fff4-4645-b539-91f305c27c64', 'datetime': '2023-11-26T17:01:39.528Z', 'cadip:channel': 1, 'cadip:retransfer': False, 'cadip:session_id': 'some_session_id', 'cadip:final_block': False, 'eviction_datetime': '2023-12-03T17:01:00Z', 'cadip:block_number': 1}, 'stac_version': '1.0.0', 'stac_extensions': ['\u001b[94mhttps://stac-extensions.github.io/file/v2.1.0/schema.json\u001b[0m', '\u001b[94mhttps://stac-extensions.github.io/alternate-assets/v1.1.0/schema.json\u001b[0m']}, {'id': 'DCS_04_S1A_20231121072204051312_ch1_DSDB_00005.raw', 'type': 'Feature', 'links': [{'rel': 'collection', 'type': 'application/json', 'href': '\u001b[94mhttp://rs-server-catalog:8000/collections/DemoUser_s1_aux\u001b[0m'}, {'rel': 'parent', 'type': 'application/json', 'href': '\u001b[94mhttp://rs-server-catalog:8000/collections/DemoUser_s1_aux\u001b[0m'}, {'rel': 'root', 'type': 'application/json', 'href': '\u001b[94mhttp://rs-server-catalog:8000/\u001b[0m'}, {'rel': 'self', 'type': 'application/geo+json', 'href': '\u001b[94mhttp://rs-server-catalog:8000/collections/DemoUser_s1_aux/items/DCS_04_S1A_20231121072204051312_ch1_DSDB_00005.raw\u001b[0m'}], 'assets': {'file': {'href': '\u001b[94mhttps://rs-server/catalog/DemoUser/collections/s1_aux/items/CADIPDCS_04_S1A_20231121072204051312_ch1_DSDB_00005.raw/download/file\u001b[0m', 'alternate': {'s3': {'href': 's3://final-catalog/stations/CADIPDCS_04_S1A_20231121072204051312_ch1_DSDB_00005.raw'}}, 'file:size': 36}}, 'geometry': {'type': 'Polygon', 'coordinates': [[[180, -90], [180, 90], [-180, 90], [-180, -90], [180, -90]]]}, 'collection': 'DemoUser_s1_aux', 'properties': {'owner': 'DemoUser', 'cadip:id': '2b17b57d-fff4-4645-b539-91f305c27c63', 'datetime': '2023-11-26T17:01:39.528Z', 'cadip:channel': 1, 'cadip:retransfer': False, 'cadip:session_id': 'some_session_id', 'cadip:final_block': False, 'eviction_datetime': '2023-12-03T17:01:00Z', 'cadip:block_number': 1}, 'stac_version': '1.0.0', 'stac_extensions': ['\u001b[94mhttps://stac-extensions.github.io/file/v2.1.0/schema.json\u001b[0m', '\u001b[94mhttps://stac-extensions.github.io/alternate-assets/v1.1.0/schema.json\u001b[0m']}, {'id': 'DCS_04_S1A_20231121072204051312_ch1_DSDB_00004.raw', 'type': 'Feature', 'links': [{'rel': 'collection', 'type': 'application/json', 'href': '\u001b[94mhttp://rs-server-catalog:8000/collections/DemoUser_s1_aux\u001b[0m'}, {'rel': 'parent', 'type': 'application/json', 'href': '\u001b[94mhttp://rs-server-catalog:8000/collections/DemoUser_s1_aux\u001b[0m'}, {'rel': 'root', 'type': 'application/json', 'href': '\u001b[94mhttp://rs-server-catalog:8000/\u001b[0m'}, {'rel': 'self', 'type': 'application/geo+json', 'href': '\u001b[94mhttp://rs-server-catalog:8000/collections/DemoUser_s1_aux/items/DCS_04_S1A_20231121072204051312_ch1_DSDB_00004.raw\u001b[0m'}], 'assets': {'file': {'href': '\u001b[94mhttps://rs-server/catalog/DemoUser/collections/s1_aux/items/CADIPDCS_04_S1A_20231121072204051312_ch1_DSDB_00004.raw/download/file\u001b[0m', 'alternate': {'s3': {'href': 's3://final-catalog/stations/CADIPDCS_04_S1A_20231121072204051312_ch1_DSDB_00004.raw'}}, 'file:size': 36}}, 'geometry': {'type': 'Polygon', 'coordinates': [[[180, -90], [180, 90], [-180, 90], [-180, -90], [180, -90]]]}, 'collection': 'DemoUser_s1_aux', 'properties': {'owner': 'DemoUser', 'cadip:id': '2b17b57d-fff4-4645-b539-91f305c27c62', 'datetime': '2023-11-26T17:01:39.528Z', 'cadip:channel': 1, 'cadip:retransfer': False, 'cadip:session_id': 'some_session_id', 'cadip:final_block': False, 'eviction_datetime': '2023-12-03T17:01:00Z', 'cadip:block_number': 1}, 'stac_version': '1.0.0', 'stac_extensions': ['\u001b[94mhttps://stac-extensions.github.io/file/v2.1.0/schema.json\u001b[0m', '\u001b[94mhttps://stac-extensions.github.io/alternate-assets/v1.1.0/schema.json\u001b[0m']}, {'id': 'DCS_04_S1A_20231121072204051312_ch1_DSDB_00003.raw', 'type': 'Feature', 'links': [{'rel': 'collection', 'type': 'application/json', 'href': '\u001b[94mhttp://rs-server-catalog:8000/collections/DemoUser_s1_aux\u001b[0m'}, {'rel': 'parent', 'type': 'application/json', 'href': '\u001b[94mhttp://rs-server-catalog:8000/collections/DemoUser_s1_aux\u001b[0m'}, {'rel': 'root', 'type': 'application/json', 'href': '\u001b[94mhttp://rs-server-catalog:8000/\u001b[0m'}, {'rel': 'self', 'type': 'application/geo+json', 'href': '\u001b[94mhttp://rs-server-catalog:8000/collections/DemoUser_s1_aux/items/DCS_04_S1A_20231121072204051312_ch1_DSDB_00003.raw\u001b[0m'}], 'assets': {'file': {'href': '\u001b[94mhttps://rs-server/catalog/DemoUser/collections/s1_aux/items/CADIPDCS_04_S1A_20231121072204051312_ch1_DSDB_00003.raw/download/file\u001b[0m', 'alternate': {'s3': {'href': 's3://final-catalog/stations/CADIPDCS_04_S1A_20231121072204051312_ch1_DSDB_00003.raw'}}, 'file:size': 36}}, 'geometry': {'type': 'Polygon', 'coordinates': [[[180, -90], [180, 90], [-180, 90], [-180, -90], [180, -90]]]}, 'collection': 'DemoUser_s1_aux', 'properties': {'owner': 'DemoUser', 'cadip:id': '2b17b57d-fff4-4645-b539-91f305c27c61', 'datetime': '2023-11-26T17:01:39.528Z', 'cadip:channel': 1, 'cadip:retransfer': False, 'cadip:session_id': 'some_session_id', 'cadip:final_block': False, 'eviction_datetime': '2023-12-03T17:01:00Z', 'cadip:block_number': 1}, 'stac_version': '1.0.0', 'stac_extensions': ['\u001b[94mhttps://stac-extensions.github.io/file/v2.1.0/schema.json\u001b[0m', '\u001b[94mhttps://stac-extensions.github.io/alternate-assets/v1.1.0/schema.json\u001b[0m']}, {'id': 'DCS_04_S1A_20231121072204051312_ch1_DSDB_00002.raw', 'type': 'Feature', 'links': [{'rel': 'collection', 'type': 'application/json', 'href': '\u001b[94mhttp://rs-server-catalog:8000/collections/DemoUser_s1_aux\u001b[0m'}, {'rel': 'parent', 'type': 'application/json', 'href': '\u001b[94mhttp://rs-server-catalog:8000/collections/DemoUser_s1_aux\u001b[0m'}, {'rel': 'root', 'type': 'application/json', 'href': '\u001b[94mhttp://rs-server-catalog:8000/\u001b[0m'}, {'rel': 'self', 'type': 'application/geo+json', 'href': '\u001b[94mhttp://rs-server-catalog:8000/collections/DemoUser_s1_aux/items/DCS_04_S1A_20231121072204051312_ch1_DSDB_00002.raw\u001b[0m'}], 'assets': {'file': {'href': '\u001b[94mhttps://rs-server/catalog/DemoUser/collections/s1_aux/items/CADIPDCS_04_S1A_20231121072204051312_ch1_DSDB_00002.raw/download/file\u001b[0m', 'alternate': {'s3': {'href': 's3://final-catalog/stations/CADIPDCS_04_S1A_20231121072204051312_ch1_DSDB_00002.raw'}}, 'file:size': 36}}, 'geometry': {'type': 'Polygon', 'coordinates': [[[180, -90], [180, 90], [-180, 90], [-180, -90], [180, -90]]]}, 'collection': 'DemoUser_s1_aux', 'properties': {'owner': 'DemoUser', 'cadip:id': '2b17b57d-fff4-4645-b539-91f305c27c60', 'datetime': '2023-11-26T17:01:39.528Z', 'cadip:channel': 1, 'cadip:retransfer': False, 'cadip:session_id': 'some_session_id', 'cadip:final_block': False, 'eviction_datetime': '2023-12-03T17:01:00Z', 'cadip:block_number': 1}, 'stac_version': '1.0.0', 'stac_extensions': ['\u001b[94mhttps://stac-extensions.github.io/file/v2.1.0/schema.json\u001b[0m', '\u001b[94mhttps://stac-extensions.github.io/alternate-assets/v1.1.0/schema.json\u001b[0m']}, {'id': 'DCS_04_S1A_20231121072204051312_ch1_DSDB_00001.raw', 'type': 'Feature', 'links': [{'rel': 'collection', 'type': 'application/json', 'href': '\u001b[94mhttp://rs-server-catalog:8000/collections/DemoUser_s1_aux\u001b[0m'}, {'rel': 'parent', 'type': 'application/json', 'href': '\u001b[94mhttp://rs-server-catalog:8000/collections/DemoUser_s1_aux\u001b[0m'}, {'rel': 'root', 'type': 'application/json', 'href': '\u001b[94mhttp://rs-server-catalog:8000/\u001b[0m'}, {'rel': 'self', 'type': 'application/geo+json', 'href': '\u001b[94mhttp://rs-server-catalog:8000/collections/DemoUser_s1_aux/items/DCS_04_S1A_20231121072204051312_ch1_DSDB_00001.raw\u001b[0m'}], 'assets': {'file': {'href': '\u001b[94mhttps://rs-server/catalog/DemoUser/collections/s1_aux/items/CADIPDCS_04_S1A_20231121072204051312_ch1_DSDB_00001.raw/download/file\u001b[0m', 'alternate': {'s3': {'href': 's3://final-catalog/stations/CADIPDCS_04_S1A_20231121072204051312_ch1_DSDB_00001.raw'}}, 'file:size': 36}}, 'geometry': {'type': 'Polygon', 'coordinates': [[[180, -90], [180, 90], [-180, 90], [-180, -90], [180, -90]]]}, 'collection': 'DemoUser_s1_aux', 'properties': {'owner': 'DemoUser', 'cadip:id': '2b17b57d-fff4-4645-b539-91f305c27c69', 'datetime': '2023-11-26T17:01:39.528Z', 'cadip:channel': 1, 'cadip:retransfer': False, 'cadip:session_id': 'some_session_id', 'cadip:final_block': False, 'eviction_datetime': '2023-12-03T17:01:00Z', 'cadip:block_number': 1}, 'stac_version': '1.0.0', 'stac_extensions': ['\u001b[94mhttps://stac-extensions.github.io/file/v2.1.0/schema.json\u001b[0m', '\u001b[94mhttps://stac-extensions.github.io/alternate-assets/v1.1.0/schema.json\u001b[0m']}, {'id': 'DCS_04_S1A_20231121072204051312_ch2_DSDB_00060.raw', 'type': 'Feature', 'links': [{'rel': 'collection', 'type': 'application/json', 'href': '\u001b[94mhttp://rs-server-catalog:8000/collections/DemoUser_s1_aux\u001b[0m'}, {'rel': 'parent', 'type': 'application/json', 'href': '\u001b[94mhttp://rs-server-catalog:8000/collections/DemoUser_s1_aux\u001b[0m'}, {'rel': 'root', 'type': 'application/json', 'href': '\u001b[94mhttp://rs-server-catalog:8000/\u001b[0m'}, {'rel': 'self', 'type': 'application/geo+json', 'href': '\u001b[94mhttp://rs-server-catalog:8000/collections/DemoUser_s1_aux/items/DCS_04_S1A_20231121072204051312_ch2_DSDB_00060.raw\u001b[0m'}], 'assets': {'file': {'href': '\u001b[94mhttps://rs-server/catalog/DemoUser/collections/s1_aux/items/CADIPDCS_04_S1A_20231121072204051312_ch2_DSDB_00060.raw/download/file\u001b[0m', 'alternate': {'s3': {'href': 's3://final-catalog/stations/CADIPDCS_04_S1A_20231121072204051312_ch2_DSDB_00060.raw'}}, 'file:size': 28}}, 'geometry': {'type': 'Polygon', 'coordinates': [[[180, -90], [180, 90], [-180, 90], [-180, -90], [180, -90]]]}, 'collection': 'DemoUser_s1_aux', 'properties': {'owner': 'DemoUser', 'cadip:id': 'some_id_4', 'datetime': '2023-11-26T15:25:19.327Z', 'cadip:channel': 2, 'cadip:retransfer': False, 'cadip:session_id': 'some_session_id4', 'cadip:final_block': True, 'eviction_datetime': '2023-12-03T15:25:00Z', 'cadip:block_number': 60}, 'stac_version': '1.0.0', 'stac_extensions': ['\u001b[94mhttps://stac-extensions.github.io/file/v2.1.0/schema.json\u001b[0m', '\u001b[94mhttps://stac-extensions.github.io/alternate-assets/v1.1.0/schema.json\u001b[0m']}, {'id': 'DCS_04_S1A_20231121072204051312_ch2_DSDB_00046.raw', 'type': 'Feature', 'links': [{'rel': 'collection', 'type': 'application/json', 'href': '\u001b[94mhttp://rs-server-catalog:8000/collections/DemoUser_s1_aux\u001b[0m'}, {'rel': 'parent', 'type': 'application/json', 'href': '\u001b[94mhttp://rs-server-catalog:8000/collections/DemoUser_s1_aux\u001b[0m'}, {'rel': 'root', 'type': 'application/json', 'href': '\u001b[94mhttp://rs-server-catalog:8000/\u001b[0m'}, {'rel': 'self', 'type': 'application/geo+json', 'href': '\u001b[94mhttp://rs-server-catalog:8000/collections/DemoUser_s1_aux/items/DCS_04_S1A_20231121072204051312_ch2_DSDB_00046.raw\u001b[0m'}], 'assets': {'file': {'href': '\u001b[94mhttps://rs-server/catalog/DemoUser/collections/s1_aux/items/CADIPDCS_04_S1A_20231121072204051312_ch2_DSDB_00046.raw/download/file\u001b[0m', 'alternate': {'s3': {'href': 's3://final-catalog/stations/CADIPDCS_04_S1A_20231121072204051312_ch2_DSDB_00046.raw'}}, 'file:size': 12}}, 'geometry': {'type': 'Polygon', 'coordinates': [[[180, -90], [180, 90], [-180, 90], [-180, -90], [180, -90]]]}, 'collection': 'DemoUser_s1_aux', 'properties': {'owner': 'DemoUser', 'cadip:id': 'some_id_3', 'datetime': '2023-11-26T15:20:21.433Z', 'cadip:channel': 2, 'cadip:retransfer': False, 'cadip:session_id': 'some_session_id3', 'cadip:final_block': False, 'eviction_datetime': '2023-12-03T15:20:00Z', 'cadip:block_number': 46}, 'stac_version': '1.0.0', 'stac_extensions': ['\u001b[94mhttps://stac-extensions.github.io/file/v2.1.0/schema.json\u001b[0m', '\u001b[94mhttps://stac-extensions.github.io/alternate-assets/v1.1.0/schema.json\u001b[0m']}]\n"
      ]
     },
     "metadata": {},
     "output_type": "display_data"
    },
    {
     "data": {
      "text/html": [
       "<pre style=\"white-space:pre;overflow-x:auto;line-height:normal;font-family:Menlo,'DejaVu Sans Mono',consolas,'Courier New',monospace\">22:12:14.595 | <span style=\"color: #d7d700; text-decoration-color: #d7d700\">WARNING</span> | Flow run<span style=\"color: #800080; text-decoration-color: #800080\"> 'divergent-heron'</span> - No task will be started, the requested number of tasks is 0 !\n",
       "</pre>\n"
      ],
      "text/plain": [
       "22:12:14.595 | \u001b[38;5;184mWARNING\u001b[0m | Flow run\u001b[35m 'divergent-heron'\u001b[0m - No task will be started, the requested number of tasks is 0 !\n"
      ]
     },
     "metadata": {},
     "output_type": "display_data"
    },
    {
     "data": {
      "text/html": [
       "<pre style=\"white-space:pre;overflow-x:auto;line-height:normal;font-family:Menlo,'DejaVu Sans Mono',consolas,'Courier New',monospace\">22:12:14.597 | <span style=\"color: #008080; text-decoration-color: #008080\">INFO</span>    | Flow run<span style=\"color: #800080; text-decoration-color: #800080\"> 'divergent-heron'</span> - List with files to be downloaded (after filtering against the catalog)\n",
       "</pre>\n"
      ],
      "text/plain": [
       "22:12:14.597 | \u001b[36mINFO\u001b[0m    | Flow run\u001b[35m 'divergent-heron'\u001b[0m - List with files to be downloaded (after filtering against the catalog)\n"
      ]
     },
     "metadata": {},
     "output_type": "display_data"
    },
    {
     "data": {
      "text/html": [
       "<pre style=\"white-space:pre;overflow-x:auto;line-height:normal;font-family:Menlo,'DejaVu Sans Mono',consolas,'Courier New',monospace\">22:12:14.626 | <span style=\"color: #008080; text-decoration-color: #008080\">INFO</span>    | distributed.scheduler - Remove client Client-69f4ed9c-dff4-11ee-8072-0242c0a8a00a\n",
       "</pre>\n"
      ],
      "text/plain": [
       "22:12:14.626 | \u001b[36mINFO\u001b[0m    | distributed.scheduler - Remove client Client-69f4ed9c-dff4-11ee-8072-0242c0a8a00a\n"
      ]
     },
     "metadata": {},
     "output_type": "display_data"
    },
    {
     "data": {
      "text/html": [
       "<pre style=\"white-space:pre;overflow-x:auto;line-height:normal;font-family:Menlo,'DejaVu Sans Mono',consolas,'Courier New',monospace\">22:12:14.627 | <span style=\"color: #008080; text-decoration-color: #008080\">INFO</span>    | distributed.core - Received 'close-stream' from tcp://127.0.0.1:51064; closing.\n",
       "</pre>\n"
      ],
      "text/plain": [
       "22:12:14.627 | \u001b[36mINFO\u001b[0m    | distributed.core - Received 'close-stream' from tcp://127.0.0.1:51064; closing.\n"
      ]
     },
     "metadata": {},
     "output_type": "display_data"
    },
    {
     "data": {
      "text/html": [
       "<pre style=\"white-space:pre;overflow-x:auto;line-height:normal;font-family:Menlo,'DejaVu Sans Mono',consolas,'Courier New',monospace\">22:12:14.628 | <span style=\"color: #008080; text-decoration-color: #008080\">INFO</span>    | distributed.scheduler - Remove client Client-69f4ed9c-dff4-11ee-8072-0242c0a8a00a\n",
       "</pre>\n"
      ],
      "text/plain": [
       "22:12:14.628 | \u001b[36mINFO\u001b[0m    | distributed.scheduler - Remove client Client-69f4ed9c-dff4-11ee-8072-0242c0a8a00a\n"
      ]
     },
     "metadata": {},
     "output_type": "display_data"
    },
    {
     "data": {
      "text/html": [
       "<pre style=\"white-space:pre;overflow-x:auto;line-height:normal;font-family:Menlo,'DejaVu Sans Mono',consolas,'Courier New',monospace\">22:12:14.629 | <span style=\"color: #008080; text-decoration-color: #008080\">INFO</span>    | distributed.scheduler - Close client connection: Client-69f4ed9c-dff4-11ee-8072-0242c0a8a00a\n",
       "</pre>\n"
      ],
      "text/plain": [
       "22:12:14.629 | \u001b[36mINFO\u001b[0m    | distributed.scheduler - Close client connection: Client-69f4ed9c-dff4-11ee-8072-0242c0a8a00a\n"
      ]
     },
     "metadata": {},
     "output_type": "display_data"
    },
    {
     "data": {
      "text/html": [
       "<pre style=\"white-space:pre;overflow-x:auto;line-height:normal;font-family:Menlo,'DejaVu Sans Mono',consolas,'Courier New',monospace\">22:12:14.630 | <span style=\"color: #008080; text-decoration-color: #008080\">INFO</span>    | distributed.nanny - Closing Nanny at 'tcp://127.0.0.1:35591'. Reason: nanny-close\n",
       "</pre>\n"
      ],
      "text/plain": [
       "22:12:14.630 | \u001b[36mINFO\u001b[0m    | distributed.nanny - Closing Nanny at 'tcp://127.0.0.1:35591'. Reason: nanny-close\n"
      ]
     },
     "metadata": {},
     "output_type": "display_data"
    },
    {
     "data": {
      "text/html": [
       "<pre style=\"white-space:pre;overflow-x:auto;line-height:normal;font-family:Menlo,'DejaVu Sans Mono',consolas,'Courier New',monospace\">22:12:14.631 | <span style=\"color: #008080; text-decoration-color: #008080\">INFO</span>    | distributed.nanny - Nanny asking worker to close. Reason: nanny-close\n",
       "</pre>\n"
      ],
      "text/plain": [
       "22:12:14.631 | \u001b[36mINFO\u001b[0m    | distributed.nanny - Nanny asking worker to close. Reason: nanny-close\n"
      ]
     },
     "metadata": {},
     "output_type": "display_data"
    },
    {
     "data": {
      "text/html": [
       "<pre style=\"white-space:pre;overflow-x:auto;line-height:normal;font-family:Menlo,'DejaVu Sans Mono',consolas,'Courier New',monospace\">22:12:14.632 | <span style=\"color: #008080; text-decoration-color: #008080\">INFO</span>    | distributed.nanny - Closing Nanny at 'tcp://127.0.0.1:42533'. Reason: nanny-close\n",
       "</pre>\n"
      ],
      "text/plain": [
       "22:12:14.632 | \u001b[36mINFO\u001b[0m    | distributed.nanny - Closing Nanny at 'tcp://127.0.0.1:42533'. Reason: nanny-close\n"
      ]
     },
     "metadata": {},
     "output_type": "display_data"
    },
    {
     "data": {
      "text/html": [
       "<pre style=\"white-space:pre;overflow-x:auto;line-height:normal;font-family:Menlo,'DejaVu Sans Mono',consolas,'Courier New',monospace\">22:12:14.633 | <span style=\"color: #008080; text-decoration-color: #008080\">INFO</span>    | distributed.nanny - Nanny asking worker to close. Reason: nanny-close\n",
       "</pre>\n"
      ],
      "text/plain": [
       "22:12:14.633 | \u001b[36mINFO\u001b[0m    | distributed.nanny - Nanny asking worker to close. Reason: nanny-close\n"
      ]
     },
     "metadata": {},
     "output_type": "display_data"
    },
    {
     "data": {
      "text/html": [
       "<pre style=\"white-space:pre;overflow-x:auto;line-height:normal;font-family:Menlo,'DejaVu Sans Mono',consolas,'Courier New',monospace\">22:12:14.634 | <span style=\"color: #008080; text-decoration-color: #008080\">INFO</span>    | distributed.nanny - Closing Nanny at 'tcp://127.0.0.1:44383'. Reason: nanny-close\n",
       "</pre>\n"
      ],
      "text/plain": [
       "22:12:14.634 | \u001b[36mINFO\u001b[0m    | distributed.nanny - Closing Nanny at 'tcp://127.0.0.1:44383'. Reason: nanny-close\n"
      ]
     },
     "metadata": {},
     "output_type": "display_data"
    },
    {
     "data": {
      "text/html": [
       "<pre style=\"white-space:pre;overflow-x:auto;line-height:normal;font-family:Menlo,'DejaVu Sans Mono',consolas,'Courier New',monospace\">22:12:14.635 | <span style=\"color: #008080; text-decoration-color: #008080\">INFO</span>    | distributed.nanny - Nanny asking worker to close. Reason: nanny-close\n",
       "</pre>\n"
      ],
      "text/plain": [
       "22:12:14.635 | \u001b[36mINFO\u001b[0m    | distributed.nanny - Nanny asking worker to close. Reason: nanny-close\n"
      ]
     },
     "metadata": {},
     "output_type": "display_data"
    },
    {
     "data": {
      "text/html": [
       "<pre style=\"white-space:pre;overflow-x:auto;line-height:normal;font-family:Menlo,'DejaVu Sans Mono',consolas,'Courier New',monospace\">22:12:14.636 | <span style=\"color: #008080; text-decoration-color: #008080\">INFO</span>    | distributed.nanny - Closing Nanny at 'tcp://127.0.0.1:45015'. Reason: nanny-close\n",
       "</pre>\n"
      ],
      "text/plain": [
       "22:12:14.636 | \u001b[36mINFO\u001b[0m    | distributed.nanny - Closing Nanny at 'tcp://127.0.0.1:45015'. Reason: nanny-close\n"
      ]
     },
     "metadata": {},
     "output_type": "display_data"
    },
    {
     "data": {
      "text/html": [
       "<pre style=\"white-space:pre;overflow-x:auto;line-height:normal;font-family:Menlo,'DejaVu Sans Mono',consolas,'Courier New',monospace\">22:12:14.637 | <span style=\"color: #008080; text-decoration-color: #008080\">INFO</span>    | distributed.nanny - Nanny asking worker to close. Reason: nanny-close\n",
       "</pre>\n"
      ],
      "text/plain": [
       "22:12:14.637 | \u001b[36mINFO\u001b[0m    | distributed.nanny - Nanny asking worker to close. Reason: nanny-close\n"
      ]
     },
     "metadata": {},
     "output_type": "display_data"
    },
    {
     "data": {
      "text/html": [
       "<pre style=\"white-space:pre;overflow-x:auto;line-height:normal;font-family:Menlo,'DejaVu Sans Mono',consolas,'Courier New',monospace\">22:12:14.639 | <span style=\"color: #008080; text-decoration-color: #008080\">INFO</span>    | distributed.core - Received 'close-stream' from tcp://127.0.0.1:51024; closing.\n",
       "</pre>\n"
      ],
      "text/plain": [
       "22:12:14.639 | \u001b[36mINFO\u001b[0m    | distributed.core - Received 'close-stream' from tcp://127.0.0.1:51024; closing.\n"
      ]
     },
     "metadata": {},
     "output_type": "display_data"
    },
    {
     "data": {
      "text/html": [
       "<pre style=\"white-space:pre;overflow-x:auto;line-height:normal;font-family:Menlo,'DejaVu Sans Mono',consolas,'Courier New',monospace\">22:12:14.640 | <span style=\"color: #008080; text-decoration-color: #008080\">INFO</span>    | distributed.core - Received 'close-stream' from tcp://127.0.0.1:51048; closing.\n",
       "</pre>\n"
      ],
      "text/plain": [
       "22:12:14.640 | \u001b[36mINFO\u001b[0m    | distributed.core - Received 'close-stream' from tcp://127.0.0.1:51048; closing.\n"
      ]
     },
     "metadata": {},
     "output_type": "display_data"
    },
    {
     "data": {
      "text/html": [
       "<pre style=\"white-space:pre;overflow-x:auto;line-height:normal;font-family:Menlo,'DejaVu Sans Mono',consolas,'Courier New',monospace\">22:12:14.641 | <span style=\"color: #008080; text-decoration-color: #008080\">INFO</span>    | distributed.core - Received 'close-stream' from tcp://127.0.0.1:51032; closing.\n",
       "</pre>\n"
      ],
      "text/plain": [
       "22:12:14.641 | \u001b[36mINFO\u001b[0m    | distributed.core - Received 'close-stream' from tcp://127.0.0.1:51032; closing.\n"
      ]
     },
     "metadata": {},
     "output_type": "display_data"
    },
    {
     "data": {
      "text/html": [
       "<pre style=\"white-space:pre;overflow-x:auto;line-height:normal;font-family:Menlo,'DejaVu Sans Mono',consolas,'Courier New',monospace\">22:12:14.643 | <span style=\"color: #008080; text-decoration-color: #008080\">INFO</span>    | distributed.scheduler - Remove worker &lt;WorkerState 'tcp://127.0.0.1:40049', name: 0, status: closing, memory: 0, processing: 0&gt; (stimulus_id='handle-worker-cleanup-1710195134.642987')\n",
       "</pre>\n"
      ],
      "text/plain": [
       "22:12:14.643 | \u001b[36mINFO\u001b[0m    | distributed.scheduler - Remove worker <WorkerState 'tcp://127.0.0.1:40049', name: 0, status: closing, memory: 0, processing: 0> (stimulus_id='handle-worker-cleanup-1710195134.642987')\n"
      ]
     },
     "metadata": {},
     "output_type": "display_data"
    },
    {
     "data": {
      "text/html": [
       "<pre style=\"white-space:pre;overflow-x:auto;line-height:normal;font-family:Menlo,'DejaVu Sans Mono',consolas,'Courier New',monospace\">22:12:14.644 | <span style=\"color: #008080; text-decoration-color: #008080\">INFO</span>    | distributed.scheduler - Remove worker &lt;WorkerState 'tcp://127.0.0.1:43969', name: 1, status: closing, memory: 0, processing: 0&gt; (stimulus_id='handle-worker-cleanup-1710195134.644327')\n",
       "</pre>\n"
      ],
      "text/plain": [
       "22:12:14.644 | \u001b[36mINFO\u001b[0m    | distributed.scheduler - Remove worker <WorkerState 'tcp://127.0.0.1:43969', name: 1, status: closing, memory: 0, processing: 0> (stimulus_id='handle-worker-cleanup-1710195134.644327')\n"
      ]
     },
     "metadata": {},
     "output_type": "display_data"
    },
    {
     "data": {
      "text/html": [
       "<pre style=\"white-space:pre;overflow-x:auto;line-height:normal;font-family:Menlo,'DejaVu Sans Mono',consolas,'Courier New',monospace\">22:12:14.645 | <span style=\"color: #008080; text-decoration-color: #008080\">INFO</span>    | distributed.scheduler - Remove worker &lt;WorkerState 'tcp://127.0.0.1:34045', name: 2, status: closing, memory: 0, processing: 0&gt; (stimulus_id='handle-worker-cleanup-1710195134.6453936')\n",
       "</pre>\n"
      ],
      "text/plain": [
       "22:12:14.645 | \u001b[36mINFO\u001b[0m    | distributed.scheduler - Remove worker <WorkerState 'tcp://127.0.0.1:34045', name: 2, status: closing, memory: 0, processing: 0> (stimulus_id='handle-worker-cleanup-1710195134.6453936')\n"
      ]
     },
     "metadata": {},
     "output_type": "display_data"
    },
    {
     "data": {
      "text/html": [
       "<pre style=\"white-space:pre;overflow-x:auto;line-height:normal;font-family:Menlo,'DejaVu Sans Mono',consolas,'Courier New',monospace\">22:12:14.647 | <span style=\"color: #008080; text-decoration-color: #008080\">INFO</span>    | distributed.core - Received 'close-stream' from tcp://127.0.0.1:51030; closing.\n",
       "</pre>\n"
      ],
      "text/plain": [
       "22:12:14.647 | \u001b[36mINFO\u001b[0m    | distributed.core - Received 'close-stream' from tcp://127.0.0.1:51030; closing.\n"
      ]
     },
     "metadata": {},
     "output_type": "display_data"
    },
    {
     "data": {
      "text/html": [
       "<pre style=\"white-space:pre;overflow-x:auto;line-height:normal;font-family:Menlo,'DejaVu Sans Mono',consolas,'Courier New',monospace\">22:12:14.649 | <span style=\"color: #008080; text-decoration-color: #008080\">INFO</span>    | distributed.scheduler - Remove worker &lt;WorkerState 'tcp://127.0.0.1:34983', name: 3, status: closing, memory: 0, processing: 0&gt; (stimulus_id='handle-worker-cleanup-1710195134.649113')\n",
       "</pre>\n"
      ],
      "text/plain": [
       "22:12:14.649 | \u001b[36mINFO\u001b[0m    | distributed.scheduler - Remove worker <WorkerState 'tcp://127.0.0.1:34983', name: 3, status: closing, memory: 0, processing: 0> (stimulus_id='handle-worker-cleanup-1710195134.649113')\n"
      ]
     },
     "metadata": {},
     "output_type": "display_data"
    },
    {
     "data": {
      "text/html": [
       "<pre style=\"white-space:pre;overflow-x:auto;line-height:normal;font-family:Menlo,'DejaVu Sans Mono',consolas,'Courier New',monospace\">22:12:14.650 | <span style=\"color: #008080; text-decoration-color: #008080\">INFO</span>    | distributed.scheduler - Lost all workers\n",
       "</pre>\n"
      ],
      "text/plain": [
       "22:12:14.650 | \u001b[36mINFO\u001b[0m    | distributed.scheduler - Lost all workers\n"
      ]
     },
     "metadata": {},
     "output_type": "display_data"
    },
    {
     "data": {
      "text/html": [
       "<pre style=\"white-space:pre;overflow-x:auto;line-height:normal;font-family:Menlo,'DejaVu Sans Mono',consolas,'Courier New',monospace\">22:12:14.802 | <span style=\"color: #008080; text-decoration-color: #008080\">INFO</span>    | distributed.scheduler - Scheduler closing due to unknown reason...\n",
       "</pre>\n"
      ],
      "text/plain": [
       "22:12:14.802 | \u001b[36mINFO\u001b[0m    | distributed.scheduler - Scheduler closing due to unknown reason...\n"
      ]
     },
     "metadata": {},
     "output_type": "display_data"
    },
    {
     "data": {
      "text/html": [
       "<pre style=\"white-space:pre;overflow-x:auto;line-height:normal;font-family:Menlo,'DejaVu Sans Mono',consolas,'Courier New',monospace\">22:12:14.803 | <span style=\"color: #008080; text-decoration-color: #008080\">INFO</span>    | distributed.scheduler - Scheduler closing all comms\n",
       "</pre>\n"
      ],
      "text/plain": [
       "22:12:14.803 | \u001b[36mINFO\u001b[0m    | distributed.scheduler - Scheduler closing all comms\n"
      ]
     },
     "metadata": {},
     "output_type": "display_data"
    },
    {
     "data": {
      "text/html": [
       "<pre style=\"white-space:pre;overflow-x:auto;line-height:normal;font-family:Menlo,'DejaVu Sans Mono',consolas,'Courier New',monospace\">22:12:14.805 | <span style=\"color: #008080; text-decoration-color: #008080\">INFO</span>    | Flow run<span style=\"color: #800080; text-decoration-color: #800080\"> 'divergent-heron'</span> - Finished in state <span style=\"color: #008000; text-decoration-color: #008000\">Completed</span>()\n",
       "</pre>\n"
      ],
      "text/plain": [
       "22:12:14.805 | \u001b[36mINFO\u001b[0m    | Flow run\u001b[35m 'divergent-heron'\u001b[0m - Finished in state \u001b[32mCompleted\u001b[0m()\n"
      ]
     },
     "metadata": {},
     "output_type": "display_data"
    },
    {
     "data": {
      "text/html": [
       "<pre style=\"white-space:pre;overflow-x:auto;line-height:normal;font-family:Menlo,'DejaVu Sans Mono',consolas,'Courier New',monospace\">22:12:14.875 | <span style=\"color: #008080; text-decoration-color: #008080\">INFO</span>    | prefect.engine - Created flow run<span style=\"color: #800080; text-decoration-color: #800080\"> 'vigilant-lori'</span> for flow<span style=\"color: #800080; text-decoration-color: #800080; font-weight: bold\"> 'download-flow'</span>\n",
       "</pre>\n"
      ],
      "text/plain": [
       "22:12:14.875 | \u001b[36mINFO\u001b[0m    | prefect.engine - Created flow run\u001b[35m 'vigilant-lori'\u001b[0m for flow\u001b[1;35m 'download-flow'\u001b[0m\n"
      ]
     },
     "metadata": {},
     "output_type": "display_data"
    },
    {
     "data": {
      "text/html": [
       "<pre style=\"white-space:pre;overflow-x:auto;line-height:normal;font-family:Menlo,'DejaVu Sans Mono',consolas,'Courier New',monospace\">22:12:14.876 | <span style=\"color: #008080; text-decoration-color: #008080\">INFO</span>    | Flow run<span style=\"color: #800080; text-decoration-color: #800080\"> 'vigilant-lori'</span> - View at <span style=\"color: #0000ff; text-decoration-color: #0000ff\">http://prefect-server:4200/flow-runs/flow-run/ee4a3c38-4c4f-466f-925c-5ad0ac9834c7</span>\n",
       "</pre>\n"
      ],
      "text/plain": [
       "22:12:14.876 | \u001b[36mINFO\u001b[0m    | Flow run\u001b[35m 'vigilant-lori'\u001b[0m - View at \u001b[94mhttp://prefect-server:4200/flow-runs/flow-run/ee4a3c38-4c4f-466f-925c-5ad0ac9834c7\u001b[0m\n"
      ]
     },
     "metadata": {},
     "output_type": "display_data"
    },
    {
     "data": {
      "text/html": [
       "<pre style=\"white-space:pre;overflow-x:auto;line-height:normal;font-family:Menlo,'DejaVu Sans Mono',consolas,'Courier New',monospace\">22:12:14.877 | <span style=\"color: #008080; text-decoration-color: #008080\">INFO</span>    | prefect.task_runner.dask - Creating a new Dask cluster with `distributed.deploy.local.LocalCluster`\n",
       "</pre>\n"
      ],
      "text/plain": [
       "22:12:14.877 | \u001b[36mINFO\u001b[0m    | prefect.task_runner.dask - Creating a new Dask cluster with `distributed.deploy.local.LocalCluster`\n"
      ]
     },
     "metadata": {},
     "output_type": "display_data"
    },
    {
     "data": {
      "text/html": [
       "<pre style=\"white-space:pre;overflow-x:auto;line-height:normal;font-family:Menlo,'DejaVu Sans Mono',consolas,'Courier New',monospace\">22:12:14.880 | <span style=\"color: #008080; text-decoration-color: #008080\">INFO</span>    | distributed.scheduler - State start\n",
       "</pre>\n"
      ],
      "text/plain": [
       "22:12:14.880 | \u001b[36mINFO\u001b[0m    | distributed.scheduler - State start\n"
      ]
     },
     "metadata": {},
     "output_type": "display_data"
    },
    {
     "data": {
      "text/html": [
       "<pre style=\"white-space:pre;overflow-x:auto;line-height:normal;font-family:Menlo,'DejaVu Sans Mono',consolas,'Courier New',monospace\">22:12:14.885 | <span style=\"color: #008080; text-decoration-color: #008080\">INFO</span>    | distributed.scheduler -   Scheduler at:     tcp://127.0.0.1:41837\n",
       "</pre>\n"
      ],
      "text/plain": [
       "22:12:14.885 | \u001b[36mINFO\u001b[0m    | distributed.scheduler -   Scheduler at:     tcp://127.0.0.1:41837\n"
      ]
     },
     "metadata": {},
     "output_type": "display_data"
    },
    {
     "data": {
      "text/html": [
       "<pre style=\"white-space:pre;overflow-x:auto;line-height:normal;font-family:Menlo,'DejaVu Sans Mono',consolas,'Courier New',monospace\">22:12:14.886 | <span style=\"color: #008080; text-decoration-color: #008080\">INFO</span>    | distributed.scheduler -   dashboard at:  <span style=\"color: #0000ff; text-decoration-color: #0000ff\">http://127.0.0.1:8787/status</span>\n",
       "</pre>\n"
      ],
      "text/plain": [
       "22:12:14.886 | \u001b[36mINFO\u001b[0m    | distributed.scheduler -   dashboard at:  \u001b[94mhttp://127.0.0.1:8787/status\u001b[0m\n"
      ]
     },
     "metadata": {},
     "output_type": "display_data"
    },
    {
     "data": {
      "text/html": [
       "<pre style=\"white-space:pre;overflow-x:auto;line-height:normal;font-family:Menlo,'DejaVu Sans Mono',consolas,'Courier New',monospace\">22:12:14.887 | <span style=\"color: #008080; text-decoration-color: #008080\">INFO</span>    | distributed.scheduler - Registering Worker plugin shuffle\n",
       "</pre>\n"
      ],
      "text/plain": [
       "22:12:14.887 | \u001b[36mINFO\u001b[0m    | distributed.scheduler - Registering Worker plugin shuffle\n"
      ]
     },
     "metadata": {},
     "output_type": "display_data"
    },
    {
     "data": {
      "text/html": [
       "<pre style=\"white-space:pre;overflow-x:auto;line-height:normal;font-family:Menlo,'DejaVu Sans Mono',consolas,'Courier New',monospace\">22:12:14.904 | <span style=\"color: #008080; text-decoration-color: #008080\">INFO</span>    | distributed.nanny -         Start Nanny at: 'tcp://127.0.0.1:39315'\n",
       "</pre>\n"
      ],
      "text/plain": [
       "22:12:14.904 | \u001b[36mINFO\u001b[0m    | distributed.nanny -         Start Nanny at: 'tcp://127.0.0.1:39315'\n"
      ]
     },
     "metadata": {},
     "output_type": "display_data"
    },
    {
     "data": {
      "text/html": [
       "<pre style=\"white-space:pre;overflow-x:auto;line-height:normal;font-family:Menlo,'DejaVu Sans Mono',consolas,'Courier New',monospace\">22:12:14.907 | <span style=\"color: #008080; text-decoration-color: #008080\">INFO</span>    | distributed.nanny -         Start Nanny at: 'tcp://127.0.0.1:38757'\n",
       "</pre>\n"
      ],
      "text/plain": [
       "22:12:14.907 | \u001b[36mINFO\u001b[0m    | distributed.nanny -         Start Nanny at: 'tcp://127.0.0.1:38757'\n"
      ]
     },
     "metadata": {},
     "output_type": "display_data"
    },
    {
     "data": {
      "text/html": [
       "<pre style=\"white-space:pre;overflow-x:auto;line-height:normal;font-family:Menlo,'DejaVu Sans Mono',consolas,'Courier New',monospace\">22:12:14.910 | <span style=\"color: #008080; text-decoration-color: #008080\">INFO</span>    | distributed.nanny -         Start Nanny at: 'tcp://127.0.0.1:35973'\n",
       "</pre>\n"
      ],
      "text/plain": [
       "22:12:14.910 | \u001b[36mINFO\u001b[0m    | distributed.nanny -         Start Nanny at: 'tcp://127.0.0.1:35973'\n"
      ]
     },
     "metadata": {},
     "output_type": "display_data"
    },
    {
     "data": {
      "text/html": [
       "<pre style=\"white-space:pre;overflow-x:auto;line-height:normal;font-family:Menlo,'DejaVu Sans Mono',consolas,'Courier New',monospace\">22:12:14.913 | <span style=\"color: #008080; text-decoration-color: #008080\">INFO</span>    | distributed.nanny -         Start Nanny at: 'tcp://127.0.0.1:36473'\n",
       "</pre>\n"
      ],
      "text/plain": [
       "22:12:14.913 | \u001b[36mINFO\u001b[0m    | distributed.nanny -         Start Nanny at: 'tcp://127.0.0.1:36473'\n"
      ]
     },
     "metadata": {},
     "output_type": "display_data"
    },
    {
     "data": {
      "text/html": [
       "<pre style=\"white-space:pre;overflow-x:auto;line-height:normal;font-family:Menlo,'DejaVu Sans Mono',consolas,'Courier New',monospace\">22:12:15.349 | <span style=\"color: #008080; text-decoration-color: #008080\">INFO</span>    | distributed.scheduler - Register worker &lt;WorkerState 'tcp://127.0.0.1:36461', name: 2, status: init, memory: 0, processing: 0&gt;\n",
       "</pre>\n"
      ],
      "text/plain": [
       "22:12:15.349 | \u001b[36mINFO\u001b[0m    | distributed.scheduler - Register worker <WorkerState 'tcp://127.0.0.1:36461', name: 2, status: init, memory: 0, processing: 0>\n"
      ]
     },
     "metadata": {},
     "output_type": "display_data"
    },
    {
     "data": {
      "text/html": [
       "<pre style=\"white-space:pre;overflow-x:auto;line-height:normal;font-family:Menlo,'DejaVu Sans Mono',consolas,'Courier New',monospace\">22:12:15.352 | <span style=\"color: #008080; text-decoration-color: #008080\">INFO</span>    | distributed.scheduler - Starting worker compute stream, tcp://127.0.0.1:36461\n",
       "</pre>\n"
      ],
      "text/plain": [
       "22:12:15.352 | \u001b[36mINFO\u001b[0m    | distributed.scheduler - Starting worker compute stream, tcp://127.0.0.1:36461\n"
      ]
     },
     "metadata": {},
     "output_type": "display_data"
    },
    {
     "data": {
      "text/html": [
       "<pre style=\"white-space:pre;overflow-x:auto;line-height:normal;font-family:Menlo,'DejaVu Sans Mono',consolas,'Courier New',monospace\">22:12:15.353 | <span style=\"color: #008080; text-decoration-color: #008080\">INFO</span>    | distributed.core - Starting established connection to tcp://127.0.0.1:49682\n",
       "</pre>\n"
      ],
      "text/plain": [
       "22:12:15.353 | \u001b[36mINFO\u001b[0m    | distributed.core - Starting established connection to tcp://127.0.0.1:49682\n"
      ]
     },
     "metadata": {},
     "output_type": "display_data"
    },
    {
     "data": {
      "text/html": [
       "<pre style=\"white-space:pre;overflow-x:auto;line-height:normal;font-family:Menlo,'DejaVu Sans Mono',consolas,'Courier New',monospace\">22:12:15.365 | <span style=\"color: #008080; text-decoration-color: #008080\">INFO</span>    | distributed.scheduler - Register worker &lt;WorkerState 'tcp://127.0.0.1:33751', name: 1, status: init, memory: 0, processing: 0&gt;\n",
       "</pre>\n"
      ],
      "text/plain": [
       "22:12:15.365 | \u001b[36mINFO\u001b[0m    | distributed.scheduler - Register worker <WorkerState 'tcp://127.0.0.1:33751', name: 1, status: init, memory: 0, processing: 0>\n"
      ]
     },
     "metadata": {},
     "output_type": "display_data"
    },
    {
     "data": {
      "text/html": [
       "<pre style=\"white-space:pre;overflow-x:auto;line-height:normal;font-family:Menlo,'DejaVu Sans Mono',consolas,'Courier New',monospace\">22:12:15.367 | <span style=\"color: #008080; text-decoration-color: #008080\">INFO</span>    | distributed.scheduler - Starting worker compute stream, tcp://127.0.0.1:33751\n",
       "</pre>\n"
      ],
      "text/plain": [
       "22:12:15.367 | \u001b[36mINFO\u001b[0m    | distributed.scheduler - Starting worker compute stream, tcp://127.0.0.1:33751\n"
      ]
     },
     "metadata": {},
     "output_type": "display_data"
    },
    {
     "data": {
      "text/html": [
       "<pre style=\"white-space:pre;overflow-x:auto;line-height:normal;font-family:Menlo,'DejaVu Sans Mono',consolas,'Courier New',monospace\">22:12:15.368 | <span style=\"color: #008080; text-decoration-color: #008080\">INFO</span>    | distributed.core - Starting established connection to tcp://127.0.0.1:49698\n",
       "</pre>\n"
      ],
      "text/plain": [
       "22:12:15.368 | \u001b[36mINFO\u001b[0m    | distributed.core - Starting established connection to tcp://127.0.0.1:49698\n"
      ]
     },
     "metadata": {},
     "output_type": "display_data"
    },
    {
     "data": {
      "text/html": [
       "<pre style=\"white-space:pre;overflow-x:auto;line-height:normal;font-family:Menlo,'DejaVu Sans Mono',consolas,'Courier New',monospace\">22:12:15.369 | <span style=\"color: #008080; text-decoration-color: #008080\">INFO</span>    | distributed.scheduler - Register worker &lt;WorkerState 'tcp://127.0.0.1:46883', name: 0, status: init, memory: 0, processing: 0&gt;\n",
       "</pre>\n"
      ],
      "text/plain": [
       "22:12:15.369 | \u001b[36mINFO\u001b[0m    | distributed.scheduler - Register worker <WorkerState 'tcp://127.0.0.1:46883', name: 0, status: init, memory: 0, processing: 0>\n"
      ]
     },
     "metadata": {},
     "output_type": "display_data"
    },
    {
     "data": {
      "text/html": [
       "<pre style=\"white-space:pre;overflow-x:auto;line-height:normal;font-family:Menlo,'DejaVu Sans Mono',consolas,'Courier New',monospace\">22:12:15.371 | <span style=\"color: #008080; text-decoration-color: #008080\">INFO</span>    | distributed.scheduler - Starting worker compute stream, tcp://127.0.0.1:46883\n",
       "</pre>\n"
      ],
      "text/plain": [
       "22:12:15.371 | \u001b[36mINFO\u001b[0m    | distributed.scheduler - Starting worker compute stream, tcp://127.0.0.1:46883\n"
      ]
     },
     "metadata": {},
     "output_type": "display_data"
    },
    {
     "data": {
      "text/html": [
       "<pre style=\"white-space:pre;overflow-x:auto;line-height:normal;font-family:Menlo,'DejaVu Sans Mono',consolas,'Courier New',monospace\">22:12:15.372 | <span style=\"color: #008080; text-decoration-color: #008080\">INFO</span>    | distributed.core - Starting established connection to tcp://127.0.0.1:49706\n",
       "</pre>\n"
      ],
      "text/plain": [
       "22:12:15.372 | \u001b[36mINFO\u001b[0m    | distributed.core - Starting established connection to tcp://127.0.0.1:49706\n"
      ]
     },
     "metadata": {},
     "output_type": "display_data"
    },
    {
     "data": {
      "text/html": [
       "<pre style=\"white-space:pre;overflow-x:auto;line-height:normal;font-family:Menlo,'DejaVu Sans Mono',consolas,'Courier New',monospace\">22:12:15.395 | <span style=\"color: #008080; text-decoration-color: #008080\">INFO</span>    | distributed.scheduler - Register worker &lt;WorkerState 'tcp://127.0.0.1:36227', name: 3, status: init, memory: 0, processing: 0&gt;\n",
       "</pre>\n"
      ],
      "text/plain": [
       "22:12:15.395 | \u001b[36mINFO\u001b[0m    | distributed.scheduler - Register worker <WorkerState 'tcp://127.0.0.1:36227', name: 3, status: init, memory: 0, processing: 0>\n"
      ]
     },
     "metadata": {},
     "output_type": "display_data"
    },
    {
     "data": {
      "text/html": [
       "<pre style=\"white-space:pre;overflow-x:auto;line-height:normal;font-family:Menlo,'DejaVu Sans Mono',consolas,'Courier New',monospace\">22:12:15.397 | <span style=\"color: #008080; text-decoration-color: #008080\">INFO</span>    | distributed.scheduler - Starting worker compute stream, tcp://127.0.0.1:36227\n",
       "</pre>\n"
      ],
      "text/plain": [
       "22:12:15.397 | \u001b[36mINFO\u001b[0m    | distributed.scheduler - Starting worker compute stream, tcp://127.0.0.1:36227\n"
      ]
     },
     "metadata": {},
     "output_type": "display_data"
    },
    {
     "data": {
      "text/html": [
       "<pre style=\"white-space:pre;overflow-x:auto;line-height:normal;font-family:Menlo,'DejaVu Sans Mono',consolas,'Courier New',monospace\">22:12:15.398 | <span style=\"color: #008080; text-decoration-color: #008080\">INFO</span>    | distributed.core - Starting established connection to tcp://127.0.0.1:49712\n",
       "</pre>\n"
      ],
      "text/plain": [
       "22:12:15.398 | \u001b[36mINFO\u001b[0m    | distributed.core - Starting established connection to tcp://127.0.0.1:49712\n"
      ]
     },
     "metadata": {},
     "output_type": "display_data"
    },
    {
     "data": {
      "text/html": [
       "<pre style=\"white-space:pre;overflow-x:auto;line-height:normal;font-family:Menlo,'DejaVu Sans Mono',consolas,'Courier New',monospace\">22:12:15.415 | <span style=\"color: #008080; text-decoration-color: #008080\">INFO</span>    | distributed.scheduler - Receive client connection: Client-6aeefd36-dff4-11ee-8072-0242c0a8a00a\n",
       "</pre>\n"
      ],
      "text/plain": [
       "22:12:15.415 | \u001b[36mINFO\u001b[0m    | distributed.scheduler - Receive client connection: Client-6aeefd36-dff4-11ee-8072-0242c0a8a00a\n"
      ]
     },
     "metadata": {},
     "output_type": "display_data"
    },
    {
     "data": {
      "text/html": [
       "<pre style=\"white-space:pre;overflow-x:auto;line-height:normal;font-family:Menlo,'DejaVu Sans Mono',consolas,'Courier New',monospace\">22:12:15.416 | <span style=\"color: #008080; text-decoration-color: #008080\">INFO</span>    | distributed.core - Starting established connection to tcp://127.0.0.1:49728\n",
       "</pre>\n"
      ],
      "text/plain": [
       "22:12:15.416 | \u001b[36mINFO\u001b[0m    | distributed.core - Starting established connection to tcp://127.0.0.1:49728\n"
      ]
     },
     "metadata": {},
     "output_type": "display_data"
    },
    {
     "data": {
      "text/html": [
       "<pre style=\"white-space:pre;overflow-x:auto;line-height:normal;font-family:Menlo,'DejaVu Sans Mono',consolas,'Courier New',monospace\">22:12:15.418 | <span style=\"color: #008080; text-decoration-color: #008080\">INFO</span>    | prefect.task_runner.dask - The Dask dashboard is available at <span style=\"color: #0000ff; text-decoration-color: #0000ff\">http://127.0.0.1:8787/status</span>\n",
       "</pre>\n"
      ],
      "text/plain": [
       "22:12:15.418 | \u001b[36mINFO\u001b[0m    | prefect.task_runner.dask - The Dask dashboard is available at \u001b[94mhttp://127.0.0.1:8787/status\u001b[0m\n"
      ]
     },
     "metadata": {},
     "output_type": "display_data"
    },
    {
     "data": {
      "text/html": [
       "<pre style=\"white-space:pre;overflow-x:auto;line-height:normal;font-family:Menlo,'DejaVu Sans Mono',consolas,'Courier New',monospace\">22:12:17.267 | DEBUG   | Flow run<span style=\"color: #800080; text-decoration-color: #800080\"> 'vigilant-lori'</span> - request_params = {'collection': 's1_aux', 'ids': 'S2__OPER_AUX_ECMWFD_PDMC_20230216T120000_V20190217T090000_20190217T210000.TGZ,S2__OPER_AUX_ECMWFD_PDMC_20200216T120000_V20190217T090000_20190217T210000.TGZ,S2__OPER_AUX_ECMWFD_PDMC_20190216T120000_V20190217T090000_20190217T210000.TGZ', 'filter': \"owner_id='DemoUser'\"}\n",
       "</pre>\n"
      ],
      "text/plain": [
       "22:12:17.267 | DEBUG   | Flow run\u001b[35m 'vigilant-lori'\u001b[0m - request_params = {'collection': 's1_aux', 'ids': 'S2__OPER_AUX_ECMWFD_PDMC_20230216T120000_V20190217T090000_20190217T210000.TGZ,S2__OPER_AUX_ECMWFD_PDMC_20200216T120000_V20190217T090000_20190217T210000.TGZ,S2__OPER_AUX_ECMWFD_PDMC_20190216T120000_V20190217T090000_20190217T210000.TGZ', 'filter': \"owner_id='DemoUser'\"}\n"
      ]
     },
     "metadata": {},
     "output_type": "display_data"
    },
    {
     "data": {
      "text/html": [
       "<pre style=\"white-space:pre;overflow-x:auto;line-height:normal;font-family:Menlo,'DejaVu Sans Mono',consolas,'Courier New',monospace\">22:12:17.279 | DEBUG   | Flow run<span style=\"color: #800080; text-decoration-color: #800080\"> 'vigilant-lori'</span> - Search in catalog endpoint response.url = <span style=\"color: #0000ff; text-decoration-color: #0000ff\">http://rs-server-catalog:8000/catalog/search?collection=s1_aux&amp;ids=S2__OPER_AUX_ECMWFD_PDMC_20230216T120000_V20190217T090000_20190217T210000.TGZ%2CS2__OPER_AUX_ECMWFD_PDMC_20200216T120000_V20190217T090000_20190217T210000.TGZ%2CS2__OPER_AUX_ECMWFD_PDMC_20190216T120000_V20190217T090000_20190217T210000.TGZ&amp;filter=owner_id%3D%27DemoUser%27</span>\n",
       "</pre>\n"
      ],
      "text/plain": [
       "22:12:17.279 | DEBUG   | Flow run\u001b[35m 'vigilant-lori'\u001b[0m - Search in catalog endpoint response.url = \u001b[94mhttp://rs-server-catalog:8000/catalog/search?collection=s1_aux&ids=S2__OPER_AUX_ECMWFD_PDMC_20230216T120000_V20190217T090000_20190217T210000.TGZ%2CS2__OPER_AUX_ECMWFD_PDMC_20200216T120000_V20190217T090000_20190217T210000.TGZ%2CS2__OPER_AUX_ECMWFD_PDMC_20190216T120000_V20190217T090000_20190217T210000.TGZ&filter=owner_id%3D%27DemoUser%27\u001b[0m\n"
      ]
     },
     "metadata": {},
     "output_type": "display_data"
    },
    {
     "data": {
      "text/html": [
       "<pre style=\"white-space:pre;overflow-x:auto;line-height:normal;font-family:Menlo,'DejaVu Sans Mono',consolas,'Courier New',monospace\">22:12:17.281 | DEBUG   | Flow run<span style=\"color: #800080; text-decoration-color: #800080\"> 'vigilant-lori'</span> - Files found in the catalog (0): [] \n",
       "</pre>\n"
      ],
      "text/plain": [
       "22:12:17.281 | DEBUG   | Flow run\u001b[35m 'vigilant-lori'\u001b[0m - Files found in the catalog (0): [] \n"
      ]
     },
     "metadata": {},
     "output_type": "display_data"
    },
    {
     "data": {
      "text/html": [
       "<pre style=\"white-space:pre;overflow-x:auto;line-height:normal;font-family:Menlo,'DejaVu Sans Mono',consolas,'Courier New',monospace\">22:12:17.282 | <span style=\"color: #008080; text-decoration-color: #008080\">INFO</span>    | Flow run<span style=\"color: #800080; text-decoration-color: #800080\"> 'vigilant-lori'</span> - List with files to be downloaded (after filtering against the catalog)\n",
       "</pre>\n"
      ],
      "text/plain": [
       "22:12:17.282 | \u001b[36mINFO\u001b[0m    | Flow run\u001b[35m 'vigilant-lori'\u001b[0m - List with files to be downloaded (after filtering against the catalog)\n"
      ]
     },
     "metadata": {},
     "output_type": "display_data"
    },
    {
     "data": {
      "text/html": [
       "<pre style=\"white-space:pre;overflow-x:auto;line-height:normal;font-family:Menlo,'DejaVu Sans Mono',consolas,'Courier New',monospace\">22:12:17.283 | <span style=\"color: #008080; text-decoration-color: #008080\">INFO</span>    | Flow run<span style=\"color: #800080; text-decoration-color: #800080\"> 'vigilant-lori'</span> -       S2__OPER_AUX_ECMWFD_PDMC_20230216T120000_V20190217T090000_20190217T210000.TGZ\n",
       "</pre>\n"
      ],
      "text/plain": [
       "22:12:17.283 | \u001b[36mINFO\u001b[0m    | Flow run\u001b[35m 'vigilant-lori'\u001b[0m -       S2__OPER_AUX_ECMWFD_PDMC_20230216T120000_V20190217T090000_20190217T210000.TGZ\n"
      ]
     },
     "metadata": {},
     "output_type": "display_data"
    },
    {
     "data": {
      "text/html": [
       "<pre style=\"white-space:pre;overflow-x:auto;line-height:normal;font-family:Menlo,'DejaVu Sans Mono',consolas,'Courier New',monospace\">22:12:17.285 | <span style=\"color: #008080; text-decoration-color: #008080\">INFO</span>    | Flow run<span style=\"color: #800080; text-decoration-color: #800080\"> 'vigilant-lori'</span> -       S2__OPER_AUX_ECMWFD_PDMC_20200216T120000_V20190217T090000_20190217T210000.TGZ\n",
       "</pre>\n"
      ],
      "text/plain": [
       "22:12:17.285 | \u001b[36mINFO\u001b[0m    | Flow run\u001b[35m 'vigilant-lori'\u001b[0m -       S2__OPER_AUX_ECMWFD_PDMC_20200216T120000_V20190217T090000_20190217T210000.TGZ\n"
      ]
     },
     "metadata": {},
     "output_type": "display_data"
    },
    {
     "data": {
      "text/html": [
       "<pre style=\"white-space:pre;overflow-x:auto;line-height:normal;font-family:Menlo,'DejaVu Sans Mono',consolas,'Courier New',monospace\">22:12:17.286 | <span style=\"color: #008080; text-decoration-color: #008080\">INFO</span>    | Flow run<span style=\"color: #800080; text-decoration-color: #800080\"> 'vigilant-lori'</span> -       S2__OPER_AUX_ECMWFD_PDMC_20190216T120000_V20190217T090000_20190217T210000.TGZ\n",
       "</pre>\n"
      ],
      "text/plain": [
       "22:12:17.286 | \u001b[36mINFO\u001b[0m    | Flow run\u001b[35m 'vigilant-lori'\u001b[0m -       S2__OPER_AUX_ECMWFD_PDMC_20190216T120000_V20190217T090000_20190217T210000.TGZ\n"
      ]
     },
     "metadata": {},
     "output_type": "display_data"
    },
    {
     "data": {
      "text/html": [
       "<pre style=\"white-space:pre;overflow-x:auto;line-height:normal;font-family:Menlo,'DejaVu Sans Mono',consolas,'Courier New',monospace\">22:12:17.302 | <span style=\"color: #008080; text-decoration-color: #008080\">INFO</span>    | Flow run<span style=\"color: #800080; text-decoration-color: #800080\"> 'vigilant-lori'</span> - Created task run 'ingest_files-0' for task 'ingest_files'\n",
       "</pre>\n"
      ],
      "text/plain": [
       "22:12:17.302 | \u001b[36mINFO\u001b[0m    | Flow run\u001b[35m 'vigilant-lori'\u001b[0m - Created task run 'ingest_files-0' for task 'ingest_files'\n"
      ]
     },
     "metadata": {},
     "output_type": "display_data"
    },
    {
     "data": {
      "text/html": [
       "<pre style=\"white-space:pre;overflow-x:auto;line-height:normal;font-family:Menlo,'DejaVu Sans Mono',consolas,'Courier New',monospace\">22:12:17.307 | <span style=\"color: #008080; text-decoration-color: #008080\">INFO</span>    | Flow run<span style=\"color: #800080; text-decoration-color: #800080\"> 'vigilant-lori'</span> - Submitted task run 'ingest_files-0' for execution.\n",
       "</pre>\n"
      ],
      "text/plain": [
       "22:12:17.307 | \u001b[36mINFO\u001b[0m    | Flow run\u001b[35m 'vigilant-lori'\u001b[0m - Submitted task run 'ingest_files-0' for execution.\n"
      ]
     },
     "metadata": {},
     "output_type": "display_data"
    },
    {
     "name": "stderr",
     "output_type": "stream",
     "text": [
      "22:12:19.603 | \u001b[36mINFO\u001b[0m    | Task run 'ingest_files-0' - The download progress for file S2__OPER_AUX_ECMWFD_PDMC_20230216T120000_V20190217T090000_20190217T210000.TGZ is IN_PROGRESS\n",
      "22:12:20.624 | \u001b[36mINFO\u001b[0m    | Task run 'ingest_files-0' - File S2__OPER_AUX_ECMWFD_PDMC_20230216T120000_V20190217T090000_20190217T210000.TGZ has been properly downloaded...\n",
      "\n",
      "22:12:20.919 | \u001b[36mINFO\u001b[0m    | Task run 'ingest_files-0' - The download progress for file S2__OPER_AUX_ECMWFD_PDMC_20200216T120000_V20190217T090000_20190217T210000.TGZ is IN_PROGRESS\n",
      "22:12:21.938 | \u001b[36mINFO\u001b[0m    | Task run 'ingest_files-0' - File S2__OPER_AUX_ECMWFD_PDMC_20200216T120000_V20190217T090000_20190217T210000.TGZ has been properly downloaded...\n",
      "\n",
      "22:12:22.228 | \u001b[36mINFO\u001b[0m    | Task run 'ingest_files-0' - The download progress for file S2__OPER_AUX_ECMWFD_PDMC_20190216T120000_V20190217T090000_20190217T210000.TGZ is IN_PROGRESS\n",
      "22:12:23.247 | \u001b[36mINFO\u001b[0m    | Task run 'ingest_files-0' - File S2__OPER_AUX_ECMWFD_PDMC_20190216T120000_V20190217T090000_20190217T210000.TGZ has been properly downloaded...\n",
      "\n",
      "22:12:23.385 | \u001b[36mINFO\u001b[0m    | Task run 'ingest_files-0' - Finished in state \u001b[32mCompleted\u001b[0m()\n"
     ]
    },
    {
     "data": {
      "text/html": [
       "<pre style=\"white-space:pre;overflow-x:auto;line-height:normal;font-family:Menlo,'DejaVu Sans Mono',consolas,'Courier New',monospace\">22:12:23.420 | <span style=\"color: #008080; text-decoration-color: #008080\">INFO</span>    | distributed.scheduler - Remove client Client-6aeefd36-dff4-11ee-8072-0242c0a8a00a\n",
       "</pre>\n"
      ],
      "text/plain": [
       "22:12:23.420 | \u001b[36mINFO\u001b[0m    | distributed.scheduler - Remove client Client-6aeefd36-dff4-11ee-8072-0242c0a8a00a\n"
      ]
     },
     "metadata": {},
     "output_type": "display_data"
    },
    {
     "data": {
      "text/html": [
       "<pre style=\"white-space:pre;overflow-x:auto;line-height:normal;font-family:Menlo,'DejaVu Sans Mono',consolas,'Courier New',monospace\">22:12:23.421 | <span style=\"color: #008080; text-decoration-color: #008080\">INFO</span>    | distributed.core - Received 'close-stream' from tcp://127.0.0.1:49728; closing.\n",
       "</pre>\n"
      ],
      "text/plain": [
       "22:12:23.421 | \u001b[36mINFO\u001b[0m    | distributed.core - Received 'close-stream' from tcp://127.0.0.1:49728; closing.\n"
      ]
     },
     "metadata": {},
     "output_type": "display_data"
    },
    {
     "data": {
      "text/html": [
       "<pre style=\"white-space:pre;overflow-x:auto;line-height:normal;font-family:Menlo,'DejaVu Sans Mono',consolas,'Courier New',monospace\">22:12:23.422 | <span style=\"color: #008080; text-decoration-color: #008080\">INFO</span>    | distributed.scheduler - Remove client Client-6aeefd36-dff4-11ee-8072-0242c0a8a00a\n",
       "</pre>\n"
      ],
      "text/plain": [
       "22:12:23.422 | \u001b[36mINFO\u001b[0m    | distributed.scheduler - Remove client Client-6aeefd36-dff4-11ee-8072-0242c0a8a00a\n"
      ]
     },
     "metadata": {},
     "output_type": "display_data"
    },
    {
     "data": {
      "text/html": [
       "<pre style=\"white-space:pre;overflow-x:auto;line-height:normal;font-family:Menlo,'DejaVu Sans Mono',consolas,'Courier New',monospace\">22:12:23.423 | <span style=\"color: #008080; text-decoration-color: #008080\">INFO</span>    | distributed.scheduler - Close client connection: Client-6aeefd36-dff4-11ee-8072-0242c0a8a00a\n",
       "</pre>\n"
      ],
      "text/plain": [
       "22:12:23.423 | \u001b[36mINFO\u001b[0m    | distributed.scheduler - Close client connection: Client-6aeefd36-dff4-11ee-8072-0242c0a8a00a\n"
      ]
     },
     "metadata": {},
     "output_type": "display_data"
    },
    {
     "data": {
      "text/html": [
       "<pre style=\"white-space:pre;overflow-x:auto;line-height:normal;font-family:Menlo,'DejaVu Sans Mono',consolas,'Courier New',monospace\">22:12:23.426 | <span style=\"color: #008080; text-decoration-color: #008080\">INFO</span>    | distributed.nanny - Closing Nanny at 'tcp://127.0.0.1:39315'. Reason: nanny-close\n",
       "</pre>\n"
      ],
      "text/plain": [
       "22:12:23.426 | \u001b[36mINFO\u001b[0m    | distributed.nanny - Closing Nanny at 'tcp://127.0.0.1:39315'. Reason: nanny-close\n"
      ]
     },
     "metadata": {},
     "output_type": "display_data"
    },
    {
     "data": {
      "text/html": [
       "<pre style=\"white-space:pre;overflow-x:auto;line-height:normal;font-family:Menlo,'DejaVu Sans Mono',consolas,'Courier New',monospace\">22:12:23.427 | <span style=\"color: #008080; text-decoration-color: #008080\">INFO</span>    | distributed.nanny - Nanny asking worker to close. Reason: nanny-close\n",
       "</pre>\n"
      ],
      "text/plain": [
       "22:12:23.427 | \u001b[36mINFO\u001b[0m    | distributed.nanny - Nanny asking worker to close. Reason: nanny-close\n"
      ]
     },
     "metadata": {},
     "output_type": "display_data"
    },
    {
     "data": {
      "text/html": [
       "<pre style=\"white-space:pre;overflow-x:auto;line-height:normal;font-family:Menlo,'DejaVu Sans Mono',consolas,'Courier New',monospace\">22:12:23.427 | <span style=\"color: #008080; text-decoration-color: #008080\">INFO</span>    | distributed.nanny - Closing Nanny at 'tcp://127.0.0.1:38757'. Reason: nanny-close\n",
       "</pre>\n"
      ],
      "text/plain": [
       "22:12:23.427 | \u001b[36mINFO\u001b[0m    | distributed.nanny - Closing Nanny at 'tcp://127.0.0.1:38757'. Reason: nanny-close\n"
      ]
     },
     "metadata": {},
     "output_type": "display_data"
    },
    {
     "data": {
      "text/html": [
       "<pre style=\"white-space:pre;overflow-x:auto;line-height:normal;font-family:Menlo,'DejaVu Sans Mono',consolas,'Courier New',monospace\">22:12:23.429 | <span style=\"color: #008080; text-decoration-color: #008080\">INFO</span>    | distributed.nanny - Nanny asking worker to close. Reason: nanny-close\n",
       "</pre>\n"
      ],
      "text/plain": [
       "22:12:23.429 | \u001b[36mINFO\u001b[0m    | distributed.nanny - Nanny asking worker to close. Reason: nanny-close\n"
      ]
     },
     "metadata": {},
     "output_type": "display_data"
    },
    {
     "data": {
      "text/html": [
       "<pre style=\"white-space:pre;overflow-x:auto;line-height:normal;font-family:Menlo,'DejaVu Sans Mono',consolas,'Courier New',monospace\">22:12:23.429 | <span style=\"color: #008080; text-decoration-color: #008080\">INFO</span>    | distributed.nanny - Closing Nanny at 'tcp://127.0.0.1:35973'. Reason: nanny-close\n",
       "</pre>\n"
      ],
      "text/plain": [
       "22:12:23.429 | \u001b[36mINFO\u001b[0m    | distributed.nanny - Closing Nanny at 'tcp://127.0.0.1:35973'. Reason: nanny-close\n"
      ]
     },
     "metadata": {},
     "output_type": "display_data"
    },
    {
     "data": {
      "text/html": [
       "<pre style=\"white-space:pre;overflow-x:auto;line-height:normal;font-family:Menlo,'DejaVu Sans Mono',consolas,'Courier New',monospace\">22:12:23.431 | <span style=\"color: #008080; text-decoration-color: #008080\">INFO</span>    | distributed.nanny - Nanny asking worker to close. Reason: nanny-close\n",
       "</pre>\n"
      ],
      "text/plain": [
       "22:12:23.431 | \u001b[36mINFO\u001b[0m    | distributed.nanny - Nanny asking worker to close. Reason: nanny-close\n"
      ]
     },
     "metadata": {},
     "output_type": "display_data"
    },
    {
     "data": {
      "text/html": [
       "<pre style=\"white-space:pre;overflow-x:auto;line-height:normal;font-family:Menlo,'DejaVu Sans Mono',consolas,'Courier New',monospace\">22:12:23.432 | <span style=\"color: #008080; text-decoration-color: #008080\">INFO</span>    | distributed.nanny - Closing Nanny at 'tcp://127.0.0.1:36473'. Reason: nanny-close\n",
       "</pre>\n"
      ],
      "text/plain": [
       "22:12:23.432 | \u001b[36mINFO\u001b[0m    | distributed.nanny - Closing Nanny at 'tcp://127.0.0.1:36473'. Reason: nanny-close\n"
      ]
     },
     "metadata": {},
     "output_type": "display_data"
    },
    {
     "name": "stdout",
     "output_type": "stream",
     "text": [
      "b'{\"type\":\"Feature\",\"stac_version\":\"1.0.0\",\"stac_extensions\":[\"https://stac-extensions.github.io/file/v2.1.0/schema.json\",\"https://stac-extensions.github.io/alternate-assets/v1.1.0/schema.json\"],\"id\":\"S2__OPER_AUX_ECMWFD_PDMC_20230216T120000_V20190217T090000_20190217T210000.TGZ\",\"geometry\":{\"type\":\"Polygon\",\"coordinates\":[[[180,-90],[180,90],[-180,90],[-180,-90],[180,-90]]]},\"properties\":{\"adgs:id\":\"id3\",\"datetime\":\"2023-02-16T12:00:00.000Z\",\"start_datetime\":\"2023-02-17T09:00:00.000Z\",\"end_datetime\":\"2023-02-17T21:00:00.000Z\",\"owner\":\"DemoUser\"},\"links\":[{\"rel\":\"collection\",\"type\":\"application/json\",\"href\":\"http://rs-server-catalog:8000/collections/DemoUser_s1_aux\"},{\"rel\":\"parent\",\"type\":\"application/json\",\"href\":\"http://rs-server-catalog:8000/collections/DemoUser_s1_aux\"},{\"rel\":\"root\",\"type\":\"application/json\",\"href\":\"http://rs-server-catalog:8000/\"},{\"rel\":\"self\",\"type\":\"application/geo+json\",\"href\":\"http://rs-server-catalog:8000/collections/DemoUser_s1_aux/items/S2__OPER_AUX_ECMWF"
     ]
    },
    {
     "data": {
      "text/html": [
       "<pre style=\"white-space:pre;overflow-x:auto;line-height:normal;font-family:Menlo,'DejaVu Sans Mono',consolas,'Courier New',monospace\">22:12:23.433 | <span style=\"color: #008080; text-decoration-color: #008080\">INFO</span>    | distributed.nanny - Nanny asking worker to close. Reason: nanny-close\n",
       "</pre>\n"
      ],
      "text/plain": [
       "22:12:23.433 | \u001b[36mINFO\u001b[0m    | distributed.nanny - Nanny asking worker to close. Reason: nanny-close\n"
      ]
     },
     "metadata": {},
     "output_type": "display_data"
    },
    {
     "name": "stdout",
     "output_type": "stream",
     "text": [
      "D_PDMC_20230216T120000_V20190217T090000_20190217T210000.TGZ\"}],\"assets\":{\"file\":{\"file:size\":8326253,\"href\":\"https://rs-server/catalog/DemoUser/collections/s1_aux/items/ADGSS2__OPER_AUX_ECMWFD_PDMC_20230216T120000_V20190217T090000_20190217T210000.TGZ/download/file\",\"alternate\":{\"s3\":{\"href\":\"s3://final-catalog/stations/ADGSS2__OPER_AUX_ECMWFD_PDMC_20230216T120000_V20190217T090000_20190217T210000.TGZ\"}}}},\"collection\":\"DemoUser_s1_aux\"}'\n",
      "b'{\"type\":\"Feature\",\"stac_version\":\"1.0.0\",\"stac_extensions\":[\"https://stac-extensions.github.io/file/v2.1.0/schema.json\",\"https://stac-extensions.github.io/alternate-assets/v1.1.0/schema.json\"],\"id\":\"S2__OPER_AUX_ECMWFD_PDMC_20200216T120000_V20190217T090000_20190217T210000.TGZ\",\"geometry\":{\"type\":\"Polygon\",\"coordinates\":[[[180,-90],[180,90],[-180,90],[-180,-90],[180,-90]]]},\"properties\":{\"adgs:id\":\"id2\",\"datetime\":\"2020-02-16T12:00:00.000Z\",\"start_datetime\":\"2020-02-17T09:00:00.000Z\",\"end_datetime\":\"2020-02-17T21:00:00.000Z\",\"owner\":\"DemoUser\"},\"links\":[{\"rel\":\"collection\",\"type\":\"application/json\",\"href\":\"http://rs-server-catalog:8000/collections/DemoUser_s1_aux\"},{\"rel\":\"parent\",\"type\":\"application/json\",\"href\":\"http://rs-server-catalog:8000/collections/DemoUser_s1_aux\"},{\"rel\":\"root\",\"type\":\"application/json\",\"href\":\"http://rs-server-catalog:8000/\"},{\"rel\":\"self\",\"type\":\"application/geo+json\",\"href\":\"http://rs-server-catalog:8000/collections/DemoUser_s1_aux/items/S2__OPER_AUX_ECMWFD_PDMC_20200216T120000_V20190217T090000_20190217T210000.TGZ\"}],\"assets\":{\"file\":{\"file:size\":8326253,\"href\":\"https://rs-server/catalog/DemoUser/collections/s1_aux/items/ADGSS2__OPER_AUX_ECMWFD_PDMC_20200216T120000_V20190217T090000_20190217T210000.TGZ/download/file\",\"alternate\":{\"s3\":{\"href\":\"s3://final-catalog/stations/ADGSS2__OPER_AUX_ECMWFD_PDMC_20200216T120000_V20190217T090000_20190217T210000.TGZ\"}}}},\"collection\":\"DemoUser_s1_aux\"}'\n",
      "b'{\"type\":\"Feature\",\"stac_version\":\"1.0.0\",\"stac_extensions\":[\"https://stac-extensions.github.io/file/v2.1.0/schema.json\",\"https://stac-extensions.github.io/alternate-assets/v1.1.0/schema.json\"],\"id\":\"S2__OPER_AUX_ECMWFD_PDMC_20190216T120000_V20190217T090000_20190217T210000.TGZ\",\"geometry\":{\"type\":\"Polygon\",\"coordinates\":[[[180,-90],[180,90],[-180,90],[-180,-90],[180,-90]]]},\"properties\":{\"adgs:id\":\"2b17b57d-fff4-4645-b539-91f305c27c69\",\"datetime\":\"2019-02-16T12:00:00.000Z\",\"start_datetime\":\"2019-02-17T09:00:00.000Z\",\"end_datetime\":\"2019-02-17T21:00:00.000Z\",\"owner\":\"DemoUser\"},\"links\":[{\"rel\":\"collection\",\"type\":\"application/json\",\"href\":\"http://rs-server-catalog:8000/collections/DemoUser_s1_aux\"},{\"rel\":\"parent\",\"type\":\"application/json\",\"href\":\"http://rs-server-catalog:8000/collections/DemoUser_s1_aux\"},{\"rel\":\"root\",\"type\":\"application/json\",\"href\":\"http://rs-server-catalog:8000/\"},{\"rel\":\"self\",\"type\":\"application/geo+json\",\"href\":\"http://rs-server-catalog:8000/collections/DemoUser_s1_aux/items/S2__OPER_AUX_ECMWFD_PDMC_20190216T120000_V20190217T090000_20190217T210000.TGZ\"}],\"assets\":{\"file\":{\"file:size\":8326253,\"href\":\"https://rs-server/catalog/DemoUser/collections/s1_aux/items/ADGSS2__OPER_AUX_ECMWFD_PDMC_20190216T120000_V20190217T090000_20190217T210000.TGZ/download/file\",\"alternate\":{\"s3\":{\"href\":\"s3://final-catalog/stations/ADGSS2__OPER_AUX_ECMWFD_PDMC_20190216T120000_V20190217T090000_20190217T210000.TGZ\"}}}},\"collection\":\"DemoUser_s1_aux\"}'\n"
     ]
    },
    {
     "data": {
      "text/html": [
       "<pre style=\"white-space:pre;overflow-x:auto;line-height:normal;font-family:Menlo,'DejaVu Sans Mono',consolas,'Courier New',monospace\">22:12:23.437 | <span style=\"color: #008080; text-decoration-color: #008080\">INFO</span>    | distributed.core - Received 'close-stream' from tcp://127.0.0.1:49706; closing.\n",
       "</pre>\n"
      ],
      "text/plain": [
       "22:12:23.437 | \u001b[36mINFO\u001b[0m    | distributed.core - Received 'close-stream' from tcp://127.0.0.1:49706; closing.\n"
      ]
     },
     "metadata": {},
     "output_type": "display_data"
    },
    {
     "data": {
      "text/html": [
       "<pre style=\"white-space:pre;overflow-x:auto;line-height:normal;font-family:Menlo,'DejaVu Sans Mono',consolas,'Courier New',monospace\">22:12:23.439 | <span style=\"color: #008080; text-decoration-color: #008080\">INFO</span>    | distributed.core - Received 'close-stream' from tcp://127.0.0.1:49698; closing.\n",
       "</pre>\n"
      ],
      "text/plain": [
       "22:12:23.439 | \u001b[36mINFO\u001b[0m    | distributed.core - Received 'close-stream' from tcp://127.0.0.1:49698; closing.\n"
      ]
     },
     "metadata": {},
     "output_type": "display_data"
    },
    {
     "data": {
      "text/html": [
       "<pre style=\"white-space:pre;overflow-x:auto;line-height:normal;font-family:Menlo,'DejaVu Sans Mono',consolas,'Courier New',monospace\">22:12:23.440 | <span style=\"color: #008080; text-decoration-color: #008080\">INFO</span>    | distributed.core - Received 'close-stream' from tcp://127.0.0.1:49682; closing.\n",
       "</pre>\n"
      ],
      "text/plain": [
       "22:12:23.440 | \u001b[36mINFO\u001b[0m    | distributed.core - Received 'close-stream' from tcp://127.0.0.1:49682; closing.\n"
      ]
     },
     "metadata": {},
     "output_type": "display_data"
    },
    {
     "data": {
      "text/html": [
       "<pre style=\"white-space:pre;overflow-x:auto;line-height:normal;font-family:Menlo,'DejaVu Sans Mono',consolas,'Courier New',monospace\">22:12:23.442 | <span style=\"color: #008080; text-decoration-color: #008080\">INFO</span>    | distributed.scheduler - Remove worker &lt;WorkerState 'tcp://127.0.0.1:46883', name: 0, status: closing, memory: 0, processing: 0&gt; (stimulus_id='handle-worker-cleanup-1710195143.44242')\n",
       "</pre>\n"
      ],
      "text/plain": [
       "22:12:23.442 | \u001b[36mINFO\u001b[0m    | distributed.scheduler - Remove worker <WorkerState 'tcp://127.0.0.1:46883', name: 0, status: closing, memory: 0, processing: 0> (stimulus_id='handle-worker-cleanup-1710195143.44242')\n"
      ]
     },
     "metadata": {},
     "output_type": "display_data"
    },
    {
     "data": {
      "text/html": [
       "<pre style=\"white-space:pre;overflow-x:auto;line-height:normal;font-family:Menlo,'DejaVu Sans Mono',consolas,'Courier New',monospace\">22:12:23.444 | <span style=\"color: #008080; text-decoration-color: #008080\">INFO</span>    | distributed.scheduler - Remove worker &lt;WorkerState 'tcp://127.0.0.1:33751', name: 1, status: closing, memory: 0, processing: 0&gt; (stimulus_id='handle-worker-cleanup-1710195143.443991')\n",
       "</pre>\n"
      ],
      "text/plain": [
       "22:12:23.444 | \u001b[36mINFO\u001b[0m    | distributed.scheduler - Remove worker <WorkerState 'tcp://127.0.0.1:33751', name: 1, status: closing, memory: 0, processing: 0> (stimulus_id='handle-worker-cleanup-1710195143.443991')\n"
      ]
     },
     "metadata": {},
     "output_type": "display_data"
    },
    {
     "data": {
      "text/html": [
       "<pre style=\"white-space:pre;overflow-x:auto;line-height:normal;font-family:Menlo,'DejaVu Sans Mono',consolas,'Courier New',monospace\">22:12:23.445 | <span style=\"color: #008080; text-decoration-color: #008080\">INFO</span>    | distributed.scheduler - Remove worker &lt;WorkerState 'tcp://127.0.0.1:36461', name: 2, status: closing, memory: 0, processing: 0&gt; (stimulus_id='handle-worker-cleanup-1710195143.4457183')\n",
       "</pre>\n"
      ],
      "text/plain": [
       "22:12:23.445 | \u001b[36mINFO\u001b[0m    | distributed.scheduler - Remove worker <WorkerState 'tcp://127.0.0.1:36461', name: 2, status: closing, memory: 0, processing: 0> (stimulus_id='handle-worker-cleanup-1710195143.4457183')\n"
      ]
     },
     "metadata": {},
     "output_type": "display_data"
    },
    {
     "data": {
      "text/html": [
       "<pre style=\"white-space:pre;overflow-x:auto;line-height:normal;font-family:Menlo,'DejaVu Sans Mono',consolas,'Courier New',monospace\">22:12:23.448 | <span style=\"color: #008080; text-decoration-color: #008080\">INFO</span>    | distributed.core - Received 'close-stream' from tcp://127.0.0.1:49712; closing.\n",
       "</pre>\n"
      ],
      "text/plain": [
       "22:12:23.448 | \u001b[36mINFO\u001b[0m    | distributed.core - Received 'close-stream' from tcp://127.0.0.1:49712; closing.\n"
      ]
     },
     "metadata": {},
     "output_type": "display_data"
    },
    {
     "data": {
      "text/html": [
       "<pre style=\"white-space:pre;overflow-x:auto;line-height:normal;font-family:Menlo,'DejaVu Sans Mono',consolas,'Courier New',monospace\">22:12:23.450 | <span style=\"color: #008080; text-decoration-color: #008080\">INFO</span>    | distributed.scheduler - Remove worker &lt;WorkerState 'tcp://127.0.0.1:36227', name: 3, status: closing, memory: 0, processing: 0&gt; (stimulus_id='handle-worker-cleanup-1710195143.4502816')\n",
       "</pre>\n"
      ],
      "text/plain": [
       "22:12:23.450 | \u001b[36mINFO\u001b[0m    | distributed.scheduler - Remove worker <WorkerState 'tcp://127.0.0.1:36227', name: 3, status: closing, memory: 0, processing: 0> (stimulus_id='handle-worker-cleanup-1710195143.4502816')\n"
      ]
     },
     "metadata": {},
     "output_type": "display_data"
    },
    {
     "data": {
      "text/html": [
       "<pre style=\"white-space:pre;overflow-x:auto;line-height:normal;font-family:Menlo,'DejaVu Sans Mono',consolas,'Courier New',monospace\">22:12:23.451 | <span style=\"color: #008080; text-decoration-color: #008080\">INFO</span>    | distributed.scheduler - Lost all workers\n",
       "</pre>\n"
      ],
      "text/plain": [
       "22:12:23.451 | \u001b[36mINFO\u001b[0m    | distributed.scheduler - Lost all workers\n"
      ]
     },
     "metadata": {},
     "output_type": "display_data"
    },
    {
     "data": {
      "text/html": [
       "<pre style=\"white-space:pre;overflow-x:auto;line-height:normal;font-family:Menlo,'DejaVu Sans Mono',consolas,'Courier New',monospace\">22:12:24.041 | <span style=\"color: #008080; text-decoration-color: #008080\">INFO</span>    | distributed.scheduler - Scheduler closing due to unknown reason...\n",
       "</pre>\n"
      ],
      "text/plain": [
       "22:12:24.041 | \u001b[36mINFO\u001b[0m    | distributed.scheduler - Scheduler closing due to unknown reason...\n"
      ]
     },
     "metadata": {},
     "output_type": "display_data"
    },
    {
     "data": {
      "text/html": [
       "<pre style=\"white-space:pre;overflow-x:auto;line-height:normal;font-family:Menlo,'DejaVu Sans Mono',consolas,'Courier New',monospace\">22:12:24.042 | <span style=\"color: #008080; text-decoration-color: #008080\">INFO</span>    | distributed.scheduler - Scheduler closing all comms\n",
       "</pre>\n"
      ],
      "text/plain": [
       "22:12:24.042 | \u001b[36mINFO\u001b[0m    | distributed.scheduler - Scheduler closing all comms\n"
      ]
     },
     "metadata": {},
     "output_type": "display_data"
    },
    {
     "data": {
      "text/html": [
       "<pre style=\"white-space:pre;overflow-x:auto;line-height:normal;font-family:Menlo,'DejaVu Sans Mono',consolas,'Courier New',monospace\">22:12:24.044 | <span style=\"color: #008080; text-decoration-color: #008080\">INFO</span>    | Flow run<span style=\"color: #800080; text-decoration-color: #800080\"> 'vigilant-lori'</span> - Finished in state <span style=\"color: #008000; text-decoration-color: #008000\">Completed</span>()\n",
       "</pre>\n"
      ],
      "text/plain": [
       "22:12:24.044 | \u001b[36mINFO\u001b[0m    | Flow run\u001b[35m 'vigilant-lori'\u001b[0m - Finished in state \u001b[32mCompleted\u001b[0m()\n"
      ]
     },
     "metadata": {},
     "output_type": "display_data"
    }
   ],
   "source": [
    "\n",
    "\n",
    "from datetime import datetime\n",
    "\n",
    "from rs_workflows.common import (\n",
    "    PrefectFlowConfig,\n",
    "    download_flow,\n",
    ")\n",
    "    \n",
    "def run_flow(user, url, url_catalog, station, mission, tmp_local_download, bucket_url, no_of_tasks, start_date, stop_date):\n",
    "    # start the prefect flow\n",
    "    download_flow(PrefectFlowConfig(user,\n",
    "                                    url,\n",
    "                                    url_catalog,\n",
    "                                    station,\n",
    "                                    mission,\n",
    "                                    tmp_local_download,\n",
    "                                    bucket_url,\n",
    "                                    no_of_tasks,\n",
    "                                    datetime.strptime(start_date, \"%Y-%m-%dT%H:%M:%SZ\"),\n",
    "                                    datetime.strptime(stop_date, \"%Y-%m-%dT%H:%M:%SZ\"),                                   \n",
    "            )\n",
    ")\n",
    "\n",
    "\n",
    "stations = [\"CADIP\", \"ADGS\"]\n",
    "url = \"http://rs-server-{}:8000\"\n",
    "\n",
    "tmp_local_download = \"/tmp/{}_tmp\"\n",
    "no_of_tasks = 1\n",
    "\n",
    "\n",
    "\n",
    "for station in stations:\n",
    "    run_flow(user,\n",
    "             url.format(station.lower()),\n",
    "             url_catalog,\n",
    "             station,\n",
    "             mission,\n",
    "             tmp_local_download.format(station),\n",
    "             bucket_url + f\"/{station}\",\n",
    "             no_of_tasks,\n",
    "             \"2014-01-01T12:00:00Z\",\n",
    "             \"2024-02-20T12:00:00Z\",\n",
    "             )    \n",
    "    "
   ]
  }
 ],
 "metadata": {
  "kernelspec": {
   "display_name": "Python 3 (ipykernel)",
   "language": "python",
   "name": "python3"
  },
  "language_info": {
   "codemirror_mode": {
    "name": "ipython",
    "version": 3
   },
   "file_extension": ".py",
   "mimetype": "text/x-python",
   "name": "python",
   "nbconvert_exporter": "python",
   "pygments_lexer": "ipython3",
   "version": "3.11.6"
  }
 },
 "nbformat": 4,
 "nbformat_minor": 5
}

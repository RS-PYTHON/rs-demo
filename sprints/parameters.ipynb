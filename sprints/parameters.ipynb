{
 "cells": [
  {
   "cell_type": "markdown",
   "id": "9d73d99b-19b8-46a3-88eb-1cb5a56e7731",
   "metadata": {},
   "source": [
    "## Just to show how to use parameters (erase this notebook after)"
   ]
  },
  {
   "cell_type": "code",
   "execution_count": null,
   "id": "06424090-8110-4f12-8576-cfe32acb56de",
   "metadata": {},
   "outputs": [],
   "source": [
    "# In this cell (number 1) we initialize the parameters for CADIP\n",
    "endpoint=\"http://rs-server-cadip:8000/cadip/CADIP/cadu\"\n",
    "datetime=\"2014-01-01T12:00:00Z/2023-12-30T12:00:00Z\""
   ]
  },
  {
   "cell_type": "code",
   "execution_count": null,
   "id": "f47e5c9b-0256-44e3-8dbd-0b33b8eafce5",
   "metadata": {},
   "outputs": [],
   "source": [
    "# In this cell (number 2) we initialize the parameters for ADGS\n",
    "endpoint=\"http://rs-server-adgs:8000/adgs/aux\"\n",
    "datetime=\"2014-01-01T12:00:00Z/2023-12-30T12:00:00Z\" # this is the same datetime than CADIP but whatever"
   ]
  },
  {
   "cell_type": "code",
   "execution_count": null,
   "id": "7dba0fa0-07a7-4b78-bc71-f2ae27f1d7d1",
   "metadata": {},
   "outputs": [],
   "source": [
    "# In the next cells (number 3 and thereafter) we do the real processing\n",
    "!set -x && curl -X GET \"{endpoint}/search?datetime={datetime}\" -H \"accept: application/json\""
   ]
  },
  {
   "cell_type": "code",
   "execution_count": null,
   "id": "2632d8a4-4997-48d5-8816-a7fddc4e9fb0",
   "metadata": {},
   "outputs": [],
   "source": [
    "# Cell 4 and so on, whatever\n",
    "!set -x && curl -X GET \"{endpoint}/search?datetime={datetime}\" -H \"accept: application/json\""
   ]
  },
  {
   "cell_type": "markdown",
   "id": "0f219575-70c7-4703-9c7c-741c9a98e275",
   "metadata": {},
   "source": [
    "## So now the day of the demo, we play this demo 2 times: \n",
    "\n",
    "  * The first time for CADIP, we run the cells 1 (not 2), 3, 4 etc ...\n",
    "  * The second time for ADGS, we run the cells 2 (not 1), 3, 4 etc ..."
   ]
  },
  {
   "cell_type": "code",
   "execution_count": null,
   "id": "8d87df2c-fe42-4772-a445-15cd84305c0e",
   "metadata": {},
   "outputs": [],
   "source": []
  }
 ],
 "metadata": {
  "kernelspec": {
   "display_name": "Python 3 (ipykernel)",
   "language": "python",
   "name": "python3"
  },
  "language_info": {
   "codemirror_mode": {
    "name": "ipython",
    "version": 3
   },
   "file_extension": ".py",
   "mimetype": "text/x-python",
   "name": "python",
   "nbconvert_exporter": "python",
   "pygments_lexer": "ipython3",
   "version": "3.11.6"
  }
 },
 "nbformat": 4,
 "nbformat_minor": 5
}

{
 "cells": [
  {
   "cell_type": "code",
   "execution_count": null,
   "id": "faeee7bf-c2f5-4b5c-bcb6-55a05405b573",
   "metadata": {
    "jupyter": {
     "outputs_hidden": true
    }
   },
   "outputs": [],
   "source": [
    "!pip install prefect"
   ]
  },
  {
   "cell_type": "code",
   "execution_count": null,
   "id": "6b885a47-ee30-40be-8080-709dee13a125",
   "metadata": {
    "jupyter": {
     "outputs_hidden": true
    }
   },
   "outputs": [],
   "source": [
    "!pip install boto3"
   ]
  },
  {
   "cell_type": "code",
   "execution_count": null,
   "id": "0c0fb250-2557-418e-a505-0a2a0465cf20",
   "metadata": {},
   "outputs": [],
   "source": [
    "! prefect work-pool create --set-as-default -t \"prefect-agent\" \"my-first-work-pool\""
   ]
  },
  {
   "cell_type": "code",
   "execution_count": null,
   "id": "e791e7af-8174-4c36-a9d7-f8c6fcb4c516",
   "metadata": {},
   "outputs": [],
   "source": [
    "! prefect deployment build adgs_prefect.py:working --name \"demo\""
   ]
  },
  {
   "cell_type": "code",
   "execution_count": null,
   "id": "5d97790f-d918-4e79-8905-b2ab6a667df4",
   "metadata": {},
   "outputs": [],
   "source": [
    "! prefect deployment apply \"working-deployment.yaml\""
   ]
  },
  {
   "cell_type": "code",
   "execution_count": null,
   "id": "bde388f0-8445-45d2-ba72-fee41f10a319",
   "metadata": {},
   "outputs": [],
   "source": [
    "! prefect deployment run \"main_flow/demo\""
   ]
  }
 ],
 "metadata": {
  "kernelspec": {
   "display_name": "Python 3 (ipykernel)",
   "language": "python",
   "name": "python3"
  },
  "language_info": {
   "codemirror_mode": {
    "name": "ipython",
    "version": 3
   },
   "file_extension": ".py",
   "mimetype": "text/x-python",
   "name": "python",
   "nbconvert_exporter": "python",
   "pygments_lexer": "ipython3",
   "version": "3.11.6"
  }
 },
 "nbformat": 4,
 "nbformat_minor": 5
}

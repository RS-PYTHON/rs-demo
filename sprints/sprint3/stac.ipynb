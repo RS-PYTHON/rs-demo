{
 "cells": [
  {
   "cell_type": "code",
   "execution_count": null,
   "id": "3244ed46-d916-4102-bd79-96273563dcfa",
   "metadata": {},
   "outputs": [],
   "source": [
    "# pg stac url from inside the docker network\n",
    "stac_url=\"stac-fastapi-pgstac:8082\""
   ]
  },
  {
   "cell_type": "code",
   "execution_count": null,
   "id": "b546f724-dd28-4408-b576-4cf919514d80",
   "metadata": {},
   "outputs": [],
   "source": [
    "# TC 1: insert collection\n",
    "! wget https://raw.githubusercontent.com/stactools-packages/sentinel1/main/examples/grd/collection.json\n",
    "! curl -X POST -H \"Content-Type: application/json\" -d @collection.json http://{stac_url}/collections"
   ]
  },
  {
   "cell_type": "code",
   "execution_count": null,
   "id": "db22be44-63a6-4ef7-a027-b0e330b55397",
   "metadata": {},
   "outputs": [],
   "source": [
    "# TC2: Insert items into collection\n",
    "\n",
    "! wget https://raw.githubusercontent.com/stactools-packages/sentinel1/main/examples/grd/S1A_EW_GRDM_1SDH_20221130T014342_20221130T014446_046117_058549/S1A_EW_GRDM_1SDH_20221130T014342_20221130T014446_046117_058549.json\n",
    "! wget https://raw.githubusercontent.com/stactools-packages/sentinel1/main/examples/grd/S1A_IW_GRDH_1SDV_20210809T173953_20210809T174018_039156_049F13/S1A_IW_GRDH_1SDV_20210809T173953_20210809T174018_039156_049F13.json\n",
    "\n",
    "! curl -X POST -H \"Content-Type: application/json\" -d @S1A_EW_GRDM_1SDH_20221130T014342_20221130T014446_046117_058549.json http://{stac_url}/collections/sentinel1-grd/items\n",
    "! curl -X POST -H \"Content-Type: application/json\" -d @S1A_IW_GRDH_1SDV_20210809T173953_20210809T174018_039156_049F13.json http://{stac_url}/collections/sentinel1-grd/items"
   ]
  },
  {
   "cell_type": "markdown",
   "id": "994076c6-95a5-4b02-8408-ebef423cb21c",
   "metadata": {},
   "source": [
    "---\n",
    "**NOTE**\n",
    "\n",
    "STAC Swagger UI: http://localhost:8082/api.html\n",
    "\n",
    "STAC browser: http://localhost:8081 (then load the STAC Catalog or API: `http://localhost:8082`)\n",
    "\n",
    "---"
   ]
  },
  {
   "cell_type": "code",
   "execution_count": null,
   "id": "1b6b2ff7-28c6-4388-8411-956ebc5d2b66",
   "metadata": {},
   "outputs": [],
   "source": []
  }
 ],
 "metadata": {
  "kernelspec": {
   "display_name": "Python 3 (ipykernel)",
   "language": "python",
   "name": "python3"
  },
  "language_info": {
   "codemirror_mode": {
    "name": "ipython",
    "version": 3
   },
   "file_extension": ".py",
   "mimetype": "text/x-python",
   "name": "python",
   "nbconvert_exporter": "python",
   "pygments_lexer": "ipython3",
   "version": "3.11.6"
  }
 },
 "nbformat": 4,
 "nbformat_minor": 5
}

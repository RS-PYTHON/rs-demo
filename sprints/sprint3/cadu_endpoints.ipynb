{
 "cells": [
  {
   "cell_type": "markdown",
   "id": "2b445d78-b8ce-459c-a34e-11af313fe1e3",
   "metadata": {},
   "source": [
    "# CADU endpoints demo\n",
    "\n",
    "In this demo we will call the rs-server CADU HTTP endpoints:\n",
    "\n",
    "  * List available CADU products\n",
    "  * Download some products into local storage and S3 bucket\n",
    "  * Monitor the download status from the database."
   ]
  },
  {
   "cell_type": "code",
   "execution_count": 1,
   "id": "aa8f49d4-b62b-419a-8868-9072a40962f4",
   "metadata": {},
   "outputs": [],
   "source": [
    "# Define some variables\n",
    "endpoint=\"http://rs-server:8000/cadip/CADIP/cadu\" # rs-server host = the container name\n",
    "start=\"2014-01-01T12:00:00.000Z\"\n",
    "stop=\"2023-12-30T12:00:00.000Z\""
   ]
  },
  {
   "cell_type": "code",
   "execution_count": 2,
   "id": "50de3560-f30b-42b4-88ea-7ed93030fd9f",
   "metadata": {},
   "outputs": [
    {
     "name": "stdout",
     "output_type": "stream",
     "text": [
      "+ curl -X GET 'http://rs-server:8000/cadip/CADIP/cadu/list?start_date=2014-01-01T12:00:00.000Z&stop_date=2023-12-30T12:00:00.000Z' -H 'accept: application/json'\n",
      "{\"CADIP\":[[\"2b17b57d-fff4-4645-b539-91f305c27c69\",\"DCS_04_S1A_20231121072204051312_ch1_DSDB_00001.raw\"],[\"2b17b57d-fff4-4645-b539-91f305c27c60\",\"DCS_04_S1A_20231121072204051312_ch1_DSDB_00002.raw\"],[\"2b17b57d-fff4-4645-b539-91f305c27c61\",\"DCS_04_S1A_20231121072204051312_ch1_DSDB_00003.raw\"],[\"2b17b57d-fff4-4645-b539-91f305c27c62\",\"DCS_04_S1A_20231121072204051312_ch1_DSDB_00004.raw\"],[\"2b17b57d-fff4-4645-b539-91f305c27c63\",\"DCS_04_S1A_20231121072204051312_ch1_DSDB_00005.raw\"],[\"2b17b57d-fff4-4645-b539-91f305c27c64\",\"DCS_04_S1A_20231121072204051312_ch1_DSDB_00006.raw\"],[\"2b17b57d-fff4-4645-b539-91f305c27c65\",\"DCS_04_S1A_20231121072204051312_ch1_DSDB_00007.raw\"],[\"some_id_2\",\"DCS_04_S1A_20231121072204051312_ch1_DSDB_00060.raw\"],[\"some_id_3\",\"DCS_04_S1A_20231121072204051312_ch2_DSDB_00046.raw\"],[\"some_id_4\",\"DCS_04_S1A_20231121072204051312_ch2_DSDB_00060.raw\"]]}"
     ]
    }
   ],
   "source": [
    "# From a terminal, to list the available CADU products, we would use the curl command:\n",
    "!set -x && curl -X GET \"{endpoint}/list?start_date={start}&stop_date={stop}\" -H \"accept: application/json\""
   ]
  },
  {
   "cell_type": "code",
   "execution_count": 3,
   "id": "7e9e3adc-0ace-4343-8b47-3660aee4cd88",
   "metadata": {},
   "outputs": [
    {
     "name": "stdout",
     "output_type": "stream",
     "text": [
      "[   [   '2b17b57d-fff4-4645-b539-91f305c27c69',\n",
      "        'DCS_04_S1A_20231121072204051312_ch1_DSDB_00001.raw'],\n",
      "    [   '2b17b57d-fff4-4645-b539-91f305c27c60',\n",
      "        'DCS_04_S1A_20231121072204051312_ch1_DSDB_00002.raw'],\n",
      "    [   '2b17b57d-fff4-4645-b539-91f305c27c61',\n",
      "        'DCS_04_S1A_20231121072204051312_ch1_DSDB_00003.raw']]\n",
      "...\n"
     ]
    }
   ],
   "source": [
    "# But let's do it in python so it's easier to parse results\n",
    "import requests\n",
    "import pprint \n",
    "\n",
    "# Call the \"list\" endpoint\n",
    "data = requests.get(f\"{endpoint}/list\", {\"start_date\": start, \"stop_date\": stop})\n",
    "assert data.status_code == 200\n",
    "\n",
    "# Get the returned products as (id,name) lists\n",
    "products = data.json()[\"CADIP\"]\n",
    "assert len(products) == 10\n",
    "\n",
    "# Print the first n products\n",
    "pprint.PrettyPrinter(indent=4).pprint(products[:3])\n",
    "print(\"...\")\n",
    "\n",
    "# Keep only the names\n",
    "product_names = [name for id, name in products]"
   ]
  },
  {
   "cell_type": "code",
   "execution_count": 4,
   "id": "72ee015f-5e13-47bd-ad7d-81baff771a6e",
   "metadata": {},
   "outputs": [
    {
     "name": "stdout",
     "output_type": "stream",
     "text": [
      "[   {   'available_at_station': '2023-11-26T17:01:39.528000',\n",
      "        'cadu_id': '2b17b57d-fff4-4645-b539-91f305c27c69',\n",
      "        'db_id': 1,\n",
      "        'download_start': '2024-01-19T16:18:18.594013',\n",
      "        'download_stop': '2024-01-19T16:18:19.040469',\n",
      "        'name': 'DCS_04_S1A_20231121072204051312_ch1_DSDB_00001.raw',\n",
      "        'status': 'DONE',\n",
      "        'status_fail_message': None},\n",
      "    {   'available_at_station': '2023-11-26T17:01:39.528000',\n",
      "        'cadu_id': '2b17b57d-fff4-4645-b539-91f305c27c60',\n",
      "        'db_id': 2,\n",
      "        'download_start': '2024-01-19T16:18:18.701974',\n",
      "        'download_stop': '2024-01-19T16:18:19.067736',\n",
      "        'name': 'DCS_04_S1A_20231121072204051312_ch1_DSDB_00002.raw',\n",
      "        'status': 'DONE',\n",
      "        'status_fail_message': None}]\n",
      "...\n"
     ]
    }
   ],
   "source": [
    "# The \"list\" endpoint has initialised the database with the products info.\n",
    "# Call the \"status\" endpoint to get the info from the products name.\n",
    "all_status = []\n",
    "for name in product_names:\n",
    "    data = requests.get(f\"{endpoint}/status\", {\"name\": name})\n",
    "    assert data.status_code == 200\n",
    "    all_status.append (data.json())\n",
    "\n",
    "# Print the first n status\n",
    "pprint.PrettyPrinter(indent=4).pprint(all_status[:2])\n",
    "print(\"...\")"
   ]
  },
  {
   "cell_type": "markdown",
   "id": "6e03d397-7737-4d9d-ad11-235c4beed428",
   "metadata": {},
   "source": [
    "---\n",
    "**NOTE**\n",
    "\n",
    "You can also monitor the database using pgAdmin.\n",
    "\n",
    "---"
   ]
  },
  {
   "cell_type": "code",
   "execution_count": 5,
   "id": "fb527198-3896-4447-b758-ce54f2ae70e6",
   "metadata": {},
   "outputs": [
    {
     "name": "stdout",
     "output_type": "stream",
     "text": [
      "Requirement already satisfied: boto3 in /opt/conda/lib/python3.11/site-packages (1.34.22)\n",
      "Requirement already satisfied: botocore<1.35.0,>=1.34.22 in /opt/conda/lib/python3.11/site-packages (from boto3) (1.34.22)\n",
      "Requirement already satisfied: jmespath<2.0.0,>=0.7.1 in /opt/conda/lib/python3.11/site-packages (from boto3) (1.0.1)\n",
      "Requirement already satisfied: s3transfer<0.11.0,>=0.10.0 in /opt/conda/lib/python3.11/site-packages (from boto3) (0.10.0)\n",
      "Requirement already satisfied: python-dateutil<3.0.0,>=2.1 in /opt/conda/lib/python3.11/site-packages (from botocore<1.35.0,>=1.34.22->boto3) (2.8.2)\n",
      "Requirement already satisfied: urllib3<2.1,>=1.25.4 in /opt/conda/lib/python3.11/site-packages (from botocore<1.35.0,>=1.34.22->boto3) (2.0.7)\n",
      "Requirement already satisfied: six>=1.5 in /opt/conda/lib/python3.11/site-packages (from python-dateutil<3.0.0,>=2.1->botocore<1.35.0,>=1.34.22->boto3) (1.16.0)\n"
     ]
    }
   ],
   "source": [
    "# We'll use boto3 to monitor the s3 bucket.\n",
    "# Note: the S3_ACCESSKEY, S3_SECRETKEY and S3_ENDPOINT are given in the docker-compose.yml file.\n",
    "!pip install boto3\n",
    "import boto3\n",
    "import os\n",
    "\n",
    "s3_session = boto3.session.Session()\n",
    "s3_client = s3_session.client(\n",
    "    service_name=\"s3\",\n",
    "    aws_access_key_id=os.environ[\"S3_ACCESSKEY\"],\n",
    "    aws_secret_access_key=os.environ[\"S3_SECRETKEY\"],\n",
    "    endpoint_url=os.environ[\"S3_ENDPOINT\"],\n",
    ")"
   ]
  },
  {
   "cell_type": "code",
   "execution_count": 6,
   "id": "2064243b-e760-4e63-8cee-6696614caf1b",
   "metadata": {},
   "outputs": [],
   "source": [
    "# S3 bucket name\n",
    "bucket_name = \"test-data\"\n",
    "\n",
    "# If the s3 bucket already exist, remove the existing products from it\n",
    "if bucket_name in [bucket[\"Name\"] for bucket in s3_client.list_buckets()[\"Buckets\"]]:\n",
    "    for name in product_names:\n",
    "        s3_client.delete_object(Bucket=bucket_name, Key=name)\n",
    "\n",
    "# Else create the bucket\n",
    "else:\n",
    "    s3_client.create_bucket(Bucket=bucket_name)\n",
    "\n",
    "# The local download directory is passed as an environment variable\n",
    "local_download_dir = os.environ[\"RSPY_LOCAL_DOWNLOAD\"]\n",
    "\n",
    "# Remove all local files if they exist\n",
    "from pathlib import Path\n",
    "for name in product_names:\n",
    "    file = Path (local_download_dir) / name\n",
    "    if file.is_file():\n",
    "        file.unlink()"
   ]
  },
  {
   "cell_type": "code",
   "execution_count": 8,
   "id": "3549f2ca-cb6f-457f-a1cf-8b66e9426cbe",
   "metadata": {},
   "outputs": [
    {
     "name": "stdout",
     "output_type": "stream",
     "text": [
      "NOT_STARTED:0 / IN_PROGRESS:1 / FAILED:0 / DONE:9\n",
      "NOT_STARTED:0 / IN_PROGRESS:0 / FAILED:0 / DONE:10\n",
      "/local/download/DCS_04_S1A_20231121072204051312_ch1_DSDB_00001.raw exists\n",
      "/local/download/DCS_04_S1A_20231121072204051312_ch1_DSDB_00002.raw exists\n",
      "/local/download/DCS_04_S1A_20231121072204051312_ch1_DSDB_00003.raw exists\n",
      "/local/download/DCS_04_S1A_20231121072204051312_ch1_DSDB_00004.raw exists\n",
      "/local/download/DCS_04_S1A_20231121072204051312_ch1_DSDB_00005.raw exists\n",
      "/local/download/DCS_04_S1A_20231121072204051312_ch1_DSDB_00006.raw exists\n",
      "/local/download/DCS_04_S1A_20231121072204051312_ch1_DSDB_00007.raw exists\n",
      "/local/download/DCS_04_S1A_20231121072204051312_ch1_DSDB_00060.raw exists\n",
      "/local/download/DCS_04_S1A_20231121072204051312_ch2_DSDB_00046.raw exists\n",
      "/local/download/DCS_04_S1A_20231121072204051312_ch2_DSDB_00060.raw exists\n",
      "NOT_STARTED:0 / IN_PROGRESS:1 / FAILED:0 / DONE:9\n",
      "NOT_STARTED:0 / IN_PROGRESS:0 / FAILED:0 / DONE:10\n"
     ]
    }
   ],
   "source": [
    "import asyncio\n",
    "\n",
    "# Call the CADIP endpoint to download one product in background \n",
    "# and upload it (optional) to the S3 bucket.\n",
    "async def download_one(name: str, save_to_s3: bool):\n",
    "\n",
    "    params = {\"name\": name, \"local\": local_download_dir}\n",
    "    # obs = the bucket URL, if requested\n",
    "    if save_to_s3:\n",
    "        params[\"obs\"] = f\"s3://{bucket_name}\"\n",
    "\n",
    "    data = requests.get(endpoint, params)\n",
    "    assert data.status_code == 200\n",
    "\n",
    "# In parallel, call the \"status\" endpoint to get and print the download status.\n",
    "async def print_status():\n",
    "\n",
    "    # Wait a second if the staus need to be passed \n",
    "    # from DONE to NOT_STARTED if we download several times.\n",
    "    await asyncio.sleep(1)\n",
    "\n",
    "    all_done = False\n",
    "    while not all_done: \n",
    "\n",
    "        # Count the number of products not started, in progres etc ...\n",
    "        all_status = {\"NOT_STARTED\": 0, \"IN_PROGRESS\": 0, \"FAILED\": 0, \"DONE\": 0}\n",
    "        for name in product_names:\n",
    "            \n",
    "            # Call the \"status\" endpoint\n",
    "            data = requests.get(f\"{endpoint}/status\", {\"name\": name})\n",
    "            assert data.status_code == 200\n",
    "            all_status[(data.json())[\"status\"]] += 1\n",
    "\n",
    "        # Print result\n",
    "        print (\" / \".join ([f\"{status}:{count}\" for status, count in all_status.items()]))\n",
    "\n",
    "        if all_status[\"DONE\"] == len(product_names):\n",
    "            all_done = True\n",
    "        else:\n",
    "            await asyncio.sleep(1)\n",
    "\n",
    "# Call everything in parallel\n",
    "async def download_all(save_to_s3: bool):\n",
    "    async with asyncio.TaskGroup() as group:\n",
    "        group.create_task (print_status())\n",
    "        for name in product_names:\n",
    "            group.create_task(download_one (name, save_to_s3))\n",
    "\n",
    "# Download everything to the local directory, not s3\n",
    "await (download_all(save_to_s3=False))\n",
    "\n",
    "# Check that the local files exist. \n",
    "# Wait 1 second before that or sometimes it bugs.\n",
    "await asyncio.sleep(1)\n",
    "for name in product_names:\n",
    "    file = Path (local_download_dir) / name    \n",
    "    if not file.is_file():\n",
    "        raise RuntimeException (f\"{file} is missing\")\n",
    "    print (f\"{file} exists\")\n",
    "\n",
    "# Download everything again, but this time upload to S3\n",
    "await (download_all(save_to_s3=True))\n",
    "\n",
    "\n",
    "# for key in conn.list_objects(Bucket='bucket_name')['Contents']:\n",
    "#     print(key['Key'])"
   ]
  },
  {
   "cell_type": "markdown",
   "id": "fb5462b2-f0c8-476c-ad56-1a814af85dbe",
   "metadata": {},
   "source": [
    "---\n",
    "**NOTE**\n",
    "\n",
    "You can also monitor the s3 bucket using the minio console: http://127.0.0.1:9001/browser with:\n",
    "\n",
    "  * Username: _minio_\n",
    "  * Password: _Strong#Pass#1234_\n",
    "\n",
    "---"
   ]
  },
  {
   "cell_type": "code",
   "execution_count": 17,
   "id": "c8269298-b46e-4e61-ba14-e44edc99da86",
   "metadata": {},
   "outputs": [],
   "source": [
    "# Clean everything\n",
    "temp_dir.cleanup()"
   ]
  },
  {
   "cell_type": "code",
   "execution_count": null,
   "id": "d03b0a19-51eb-4ef1-ad1d-1fa739fd04b3",
   "metadata": {},
   "outputs": [],
   "source": []
  }
 ],
 "metadata": {
  "kernelspec": {
   "display_name": "Python 3 (ipykernel)",
   "language": "python",
   "name": "python3"
  },
  "language_info": {
   "codemirror_mode": {
    "name": "ipython",
    "version": 3
   },
   "file_extension": ".py",
   "mimetype": "text/x-python",
   "name": "python",
   "nbconvert_exporter": "python",
   "pygments_lexer": "ipython3",
   "version": "3.11.6"
  }
 },
 "nbformat": 4,
 "nbformat_minor": 5
}

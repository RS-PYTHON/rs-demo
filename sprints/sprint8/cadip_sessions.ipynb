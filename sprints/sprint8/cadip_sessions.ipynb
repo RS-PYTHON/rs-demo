{
 "cells": [
  {
   "cell_type": "markdown",
   "metadata": {},
   "source": [
    "# CADIP sessions endpoint demo\n",
    "\n",
    "In this demo we will call the rs-server CADIP session HTTP endpoints:\n",
    "\n",
    "  * List available sessions within a time range\n",
    "  * List available sessions with a specific satellite identifier\n",
    "  * List available session with a specific session ID."
   ]
  },
  {
   "cell_type": "code",
   "execution_count": null,
   "metadata": {},
   "outputs": [],
   "source": [
    "# Set local or cluster configuration\n",
    "import os\n",
    "import requests\n",
    "\n",
    "if os.getenv(\"RSPY_LOCAL_MODE\") == \"1\":\n",
    "    endpoint=f\"http://rs-server-cadip:8000/cadip/cadip/session?\"\n",
    "    HEADERS={}\n",
    "    local_mode = True\n",
    "else:\n",
    "    RS_SERVER_ROOT_URL = os.environ[\"RSPY_WEBSITE\"]\n",
    "    endpoint=f\"{RS_SERVER_ROOT_URL}/cadip/cadip/session?\"\n",
    "    HEADERS={\"headers\": {\"x-api-key\": os.environ[\"RSPY_APIKEY\"]}}\n",
    "    local_mode = False\n",
    "\n",
    "print(f\"Using: {endpoint}\")"
   ]
  },
  {
   "cell_type": "markdown",
   "metadata": {},
   "source": [
    "Select all sessions from 2020 to 2023 with S1A satellite"
   ]
  },
  {
   "cell_type": "code",
   "execution_count": null,
   "metadata": {},
   "outputs": [],
   "source": [
    "params = {\n",
    "    \"start_date\": \"2020-02-16T12:00:00Z\",\n",
    "    \"stop_date\": \"2023-02-16T12:00:00Z\",\n",
    "    \"platform\": \"S1A\"\n",
    "}\n",
    "requests.get(endpoint, params, **HEADERS).json()"
   ]
  },
  {
   "cell_type": "markdown",
   "metadata": {},
   "source": [
    "Select all sessions from 2020 to 2023 and satellite either S1A or S2B"
   ]
  },
  {
   "cell_type": "code",
   "execution_count": null,
   "metadata": {},
   "outputs": [],
   "source": [
    "params = {\n",
    "    \"start_date\": \"2020-02-16T12:00:00Z\",\n",
    "    \"stop_date\": \"2023-02-16T12:00:00Z\",\n",
    "    \"platform\": \"S1A,S2B\"\n",
    "}\n",
    "requests.get(endpoint, params, **HEADERS).json()"
   ]
  },
  {
   "cell_type": "markdown",
   "metadata": {},
   "source": [
    "How to select only sessionId from pickup point response"
   ]
  },
  {
   "cell_type": "code",
   "execution_count": null,
   "metadata": {},
   "outputs": [],
   "source": [
    "response = requests.get(endpoint, params, **HEADERS).json()\n",
    "for session in response['features']:\n",
    "    print(session['id'])"
   ]
  },
  {
   "cell_type": "markdown",
   "metadata": {},
   "source": [
    "Select session with ID S1A_20240328185208053186"
   ]
  },
  {
   "cell_type": "code",
   "execution_count": null,
   "metadata": {},
   "outputs": [],
   "source": [
    "params = {\n",
    "    \"id\": \"S1A_20240328185208053186\"\n",
    "}\n",
    "requests.get(endpoint, params, **HEADERS).json()"
   ]
  },
  {
   "cell_type": "markdown",
   "metadata": {},
   "source": [
    "Select all sessions from satellite S2B"
   ]
  },
  {
   "cell_type": "code",
   "execution_count": null,
   "metadata": {},
   "outputs": [],
   "source": [
    "params = {\n",
    "    \"platform\": \"S2B\"\n",
    "}\n",
    "requests.get(endpoint, params, **HEADERS).json()"
   ]
  },
  {
   "cell_type": "markdown",
   "metadata": {},
   "source": [
    "Select all sessions that have sessionId either S1A_20240328185208053186 *or* S1A_20240328185208053186 from station \"cadip\"."
   ]
  },
  {
   "cell_type": "code",
   "execution_count": null,
   "metadata": {},
   "outputs": [],
   "source": [
    "params = {\n",
    "    \"id\": \"S1A_20240328185208053186,S1A_20240328185208053186\"\n",
    "}\n",
    "requests.get(endpoint, params, **HEADERS).json()"
   ]
  },
  {
   "cell_type": "markdown",
   "metadata": {},
   "source": [
    "Select all sessions that have sessionId either S1A_20240328185208053186 *or* S1A_20240328185208053186 *and* satellite S1A *or* S2B from station \"cadip\"."
   ]
  },
  {
   "cell_type": "code",
   "execution_count": null,
   "metadata": {},
   "outputs": [],
   "source": [
    "params = {\n",
    "    \"id\": \"S1A_20240328185208053186,S1A_20240328185208053186\",\n",
    "    \"platform\": \"S1A,S2B\"\n",
    "}\n",
    "requests.get(endpoint, params, **HEADERS).json()"
   ]
  }
 ],
 "metadata": {
  "kernelspec": {
   "display_name": "Python 3 (ipykernel)",
   "language": "python",
   "name": "python3"
  },
  "language_info": {
   "codemirror_mode": {
    "name": "ipython",
    "version": 3
   },
   "file_extension": ".py",
   "mimetype": "text/x-python",
   "name": "python",
   "nbconvert_exporter": "python",
   "pygments_lexer": "ipython3",
   "version": "3.12.2"
  }
 },
 "nbformat": 4,
 "nbformat_minor": 4
}

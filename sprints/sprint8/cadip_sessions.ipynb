{
 "cells": [
  {
   "cell_type": "markdown",
   "metadata": {},
   "source": [
    "# CADIP sessions endpoint demo\n",
    "\n",
    "In this demo we will call the rs-server CADIP session HTTP endpoints:\n",
    "\n",
    "  * List available sessions"
   ]
  },
  {
   "cell_type": "code",
   "execution_count": null,
   "metadata": {},
   "outputs": [],
   "source": [
    "import requests\n",
    "endpoint=\"http://rs-server-cadip:8000/cadip/CADIP/session?\" # rs-server host = the container name"
   ]
  },
  {
   "cell_type": "markdown",
   "metadata": {},
   "source": [
    "Select session with ID S1A_20240328185208053186"
   ]
  },
  {
   "cell_type": "code",
   "execution_count": null,
   "metadata": {},
   "outputs": [],
   "source": [
    "requests.get(endpoint + \"id=S1A_20240328185208053186\").json()"
   ]
  },
  {
   "cell_type": "markdown",
   "metadata": {},
   "source": [
    "Select all sessions from satellite S2B"
   ]
  },
  {
   "cell_type": "code",
   "execution_count": null,
   "metadata": {},
   "outputs": [],
   "source": [
    "requests.get(endpoint + \"platform=S2B\").json()"
   ]
  },
  {
   "cell_type": "markdown",
   "metadata": {},
   "source": [
    "Select all sessions that have sessionId either S1A_20240328185208053186 *or* S1A_20240328185208053186 from station \"cadip\"."
   ]
  },
  {
   "cell_type": "code",
   "execution_count": null,
   "metadata": {},
   "outputs": [],
   "source": [
    "requests.get(endpoint + \"id=S1A_20240328185208053186,S1A_20240328185208053186\").json()"
   ]
  },
  {
   "cell_type": "markdown",
   "metadata": {},
   "source": [
    "Select all sessions that have sessionId either S1A_20240328185208053186 *or* S1A_20240328185208053186 *and* satellite S1A *or* S2B from station \"cadip\"."
   ]
  },
  {
   "cell_type": "code",
   "execution_count": null,
   "metadata": {},
   "outputs": [],
   "source": [
    "requests.get(endpoint + \"id=S1A_20240328185208053186,S1A_20240328185208053186&platform=S1A,S2B\").json()"
   ]
  },
  {
   "cell_type": "markdown",
   "metadata": {},
   "source": [
    "Select all sessions from 2020 to 2023 with S1A satellite"
   ]
  },
  {
   "cell_type": "code",
   "execution_count": null,
   "metadata": {},
   "outputs": [],
   "source": [
    "requests.get(endpoint + \"start_date=2020-02-16T12:00:00Z&stop_date=2023-02-16T12:00:00Z&platform=S1A\").json()"
   ]
  },
  {
   "cell_type": "markdown",
   "metadata": {},
   "source": [
    "Select all sessions from 2020 to 2023 and satellite either S1A or S2B"
   ]
  },
  {
   "cell_type": "code",
   "execution_count": null,
   "metadata": {},
   "outputs": [],
   "source": [
    "requests.get(endpoint + \"start_date=2020-02-16T12:00:00Z&stop_date=2023-02-16T12:00:00Z&platform=S1A,S2B\").json()"
   ]
  }
 ],
 "metadata": {
  "language_info": {
   "name": "python"
  }
 },
 "nbformat": 4,
 "nbformat_minor": 2
}

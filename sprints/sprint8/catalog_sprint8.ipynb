{
 "cells": [
  {
   "cell_type": "markdown",
   "id": "03d5dd16-26cd-451b-b248-f6e4ed9350a3",
   "metadata": {},
   "source": [
    "# Using the rs-server catalog\n",
    "\n",
    "This tutorial is meant the basic usage of the rs-server catalog service."
   ]
  },
  {
   "cell_type": "markdown",
   "id": "b756e1f7-c626-47c8-8d49-ca0373c4ca42",
   "metadata": {},
   "source": [
    "## Introduction\n",
    "\n",
    "The rs-server catalog service exposes a REST API \n",
    "on the /catalog endpoint of the rs-server.\n",
    "\n",
    "Each user owns a dedicated STAC catalog.\n",
    "It can be accessed at the /catalog/{user} endpoint.\n",
    "Each catalog is following the STAC API.\n",
    "\n",
    "Let's illustrate all this with some examples."
   ]
  },
  {
   "cell_type": "markdown",
   "id": "09dad3a1-6376-4738-9467-990e04d56c2f",
   "metadata": {
    "jp-MarkdownHeadingCollapsed": true
   },
   "source": [
    "## Quick links\n",
    "\n",
    "**Swagger UI**\n",
    "\n",
    "  * http://localhost:8003/api.html (local)\n",
    "  * https://dev-rspy.esa-copernicus.eu (cluster)\n",
    "\n",
    "**STAC browser**\n",
    "\n",
    "Open the STAC browser: http://localhost:8081 (only for local and hybrid mode)\n",
    "\n",
    "Then load the collections (at the end of this demo but before deleting them) from: \n",
    "\n",
    "  * `http://localhost:8003/catalog/any` (local)\n",
    "  * `https://dev-rspy.esa-copernicus.eu/catalog/any?api-key=your_api_key` (cluster)"
   ]
  },
  {
   "cell_type": "markdown",
   "id": "5dff0776-9619-4db7-9f61-fbd26647ec1e",
   "metadata": {},
   "source": [
    "## Configuration"
   ]
  },
  {
   "cell_type": "code",
   "execution_count": 1,
   "id": "6c4c9ed9-5db3-4e56-884b-0f90b22e7612",
   "metadata": {},
   "outputs": [
    {
     "name": "stdout",
     "output_type": "stream",
     "text": [
      "Defaulting to user installation because normal site-packages is not writeable\n",
      "Processing ./rs_client_libraries-0.0.0-py3-none-any.whl\n",
      "Requirement already satisfied: numpy<2.0.0,>=1.26.4 in /home/rspy/.local/lib/python3.11/site-packages (from rs-client-libraries==0.0.0) (1.26.4)\n",
      "Requirement already satisfied: prefect<3.0.0,>=2.14.21 in /home/rspy/.local/lib/python3.11/site-packages (from rs-client-libraries==0.0.0) (2.18.0)\n",
      "Requirement already satisfied: prefect-dask<0.3.0,>=0.2.6 in /home/rspy/.local/lib/python3.11/site-packages (from rs-client-libraries==0.0.0) (0.2.6)\n",
      "Requirement already satisfied: aiosqlite>=0.17.0 in /home/rspy/.local/lib/python3.11/site-packages (from prefect<3.0.0,>=2.14.21->rs-client-libraries==0.0.0) (0.20.0)\n",
      "Requirement already satisfied: alembic<2.0.0,>=1.7.5 in /home/rspy/.local/lib/python3.11/site-packages (from prefect<3.0.0,>=2.14.21->rs-client-libraries==0.0.0) (1.13.1)\n",
      "Requirement already satisfied: apprise<2.0.0,>=1.1.0 in /home/rspy/.local/lib/python3.11/site-packages (from prefect<3.0.0,>=2.14.21->rs-client-libraries==0.0.0) (1.7.6)\n",
      "Requirement already satisfied: asyncpg>=0.23 in /home/rspy/.local/lib/python3.11/site-packages (from prefect<3.0.0,>=2.14.21->rs-client-libraries==0.0.0) (0.29.0)\n",
      "Requirement already satisfied: click<8.2,>=8.0 in /home/rspy/.local/lib/python3.11/site-packages (from prefect<3.0.0,>=2.14.21->rs-client-libraries==0.0.0) (8.1.7)\n",
      "Requirement already satisfied: cryptography>=36.0.1 in /home/rspy/.local/lib/python3.11/site-packages (from prefect<3.0.0,>=2.14.21->rs-client-libraries==0.0.0) (42.0.5)\n",
      "Requirement already satisfied: dateparser<2.0.0,>=1.1.1 in /home/rspy/.local/lib/python3.11/site-packages (from prefect<3.0.0,>=2.14.21->rs-client-libraries==0.0.0) (1.2.0)\n",
      "Requirement already satisfied: docker<7.0,>=4.0 in /home/rspy/.local/lib/python3.11/site-packages (from prefect<3.0.0,>=2.14.21->rs-client-libraries==0.0.0) (6.1.3)\n",
      "Requirement already satisfied: graphviz>=0.20.1 in /home/rspy/.local/lib/python3.11/site-packages (from prefect<3.0.0,>=2.14.21->rs-client-libraries==0.0.0) (0.20.3)\n",
      "Requirement already satisfied: griffe>=0.20.0 in /home/rspy/.local/lib/python3.11/site-packages (from prefect<3.0.0,>=2.14.21->rs-client-libraries==0.0.0) (0.44.0)\n",
      "Requirement already satisfied: jinja2<4.0.0,>=3.0.0 in /home/rspy/.local/lib/python3.11/site-packages (from prefect<3.0.0,>=2.14.21->rs-client-libraries==0.0.0) (3.1.3)\n",
      "Requirement already satisfied: jinja2-humanize-extension>=0.4.0 in /home/rspy/.local/lib/python3.11/site-packages (from prefect<3.0.0,>=2.14.21->rs-client-libraries==0.0.0) (0.4.0)\n",
      "Requirement already satisfied: humanize>=4.9.0 in /home/rspy/.local/lib/python3.11/site-packages (from prefect<3.0.0,>=2.14.21->rs-client-libraries==0.0.0) (4.9.0)\n",
      "Requirement already satisfied: kubernetes<30.0.0,>=24.2.0 in /home/rspy/.local/lib/python3.11/site-packages (from prefect<3.0.0,>=2.14.21->rs-client-libraries==0.0.0) (29.0.0)\n",
      "Requirement already satisfied: pytz<2025,>=2021.1 in /home/rspy/.local/lib/python3.11/site-packages (from prefect<3.0.0,>=2.14.21->rs-client-libraries==0.0.0) (2024.1)\n",
      "Requirement already satisfied: readchar<5.0.0,>=4.0.0 in /home/rspy/.local/lib/python3.11/site-packages (from prefect<3.0.0,>=2.14.21->rs-client-libraries==0.0.0) (4.0.6)\n",
      "Requirement already satisfied: sqlalchemy!=1.4.33,<3.0.0,>=1.4.22 in /home/rspy/.local/lib/python3.11/site-packages (from sqlalchemy[asyncio]!=1.4.33,<3.0.0,>=1.4.22->prefect<3.0.0,>=2.14.21->rs-client-libraries==0.0.0) (2.0.29)\n",
      "Requirement already satisfied: typer!=0.12.2,<0.13.0,>=0.12.0 in /home/rspy/.local/lib/python3.11/site-packages (from prefect<3.0.0,>=2.14.21->rs-client-libraries==0.0.0) (0.12.3)\n",
      "Requirement already satisfied: anyio<4.0.0,>=3.7.1 in /home/rspy/.local/lib/python3.11/site-packages (from prefect<3.0.0,>=2.14.21->rs-client-libraries==0.0.0) (3.7.1)\n",
      "Requirement already satisfied: asgi-lifespan<3.0,>=1.0 in /home/rspy/.local/lib/python3.11/site-packages (from prefect<3.0.0,>=2.14.21->rs-client-libraries==0.0.0) (2.1.0)\n",
      "Requirement already satisfied: cachetools<6.0,>=5.3 in /home/rspy/.local/lib/python3.11/site-packages (from prefect<3.0.0,>=2.14.21->rs-client-libraries==0.0.0) (5.3.3)\n",
      "Requirement already satisfied: cloudpickle<4.0,>=2.0 in /home/rspy/.local/lib/python3.11/site-packages (from prefect<3.0.0,>=2.14.21->rs-client-libraries==0.0.0) (3.0.0)\n",
      "Requirement already satisfied: coolname<3.0.0,>=1.0.4 in /home/rspy/.local/lib/python3.11/site-packages (from prefect<3.0.0,>=2.14.21->rs-client-libraries==0.0.0) (2.2.0)\n",
      "Requirement already satisfied: croniter<3.0.0,>=1.0.12 in /home/rspy/.local/lib/python3.11/site-packages (from prefect<3.0.0,>=2.14.21->rs-client-libraries==0.0.0) (2.0.5)\n",
      "Requirement already satisfied: fsspec>=2022.5.0 in /home/rspy/.local/lib/python3.11/site-packages (from prefect<3.0.0,>=2.14.21->rs-client-libraries==0.0.0) (2024.3.1)\n",
      "Requirement already satisfied: httpcore<2.0.0,>=1.0.5 in /home/rspy/.local/lib/python3.11/site-packages (from prefect<3.0.0,>=2.14.21->rs-client-libraries==0.0.0) (1.0.5)\n",
      "Requirement already satisfied: httpx!=0.23.2,>=0.23 in /home/rspy/.local/lib/python3.11/site-packages (from httpx[http2]!=0.23.2,>=0.23->prefect<3.0.0,>=2.14.21->rs-client-libraries==0.0.0) (0.27.0)\n",
      "Requirement already satisfied: importlib-resources<6.2.0,>=6.1.3 in /home/rspy/.local/lib/python3.11/site-packages (from prefect<3.0.0,>=2.14.21->rs-client-libraries==0.0.0) (6.1.3)\n",
      "Requirement already satisfied: jsonpatch<2.0,>=1.32 in /home/rspy/.local/lib/python3.11/site-packages (from prefect<3.0.0,>=2.14.21->rs-client-libraries==0.0.0) (1.33)\n",
      "Requirement already satisfied: jsonschema<5.0.0,>=4.0.0 in /home/rspy/.local/lib/python3.11/site-packages (from prefect<3.0.0,>=2.14.21->rs-client-libraries==0.0.0) (4.21.1)\n",
      "Requirement already satisfied: orjson<4.0,>=3.7 in /home/rspy/.local/lib/python3.11/site-packages (from prefect<3.0.0,>=2.14.21->rs-client-libraries==0.0.0) (3.10.1)\n",
      "Requirement already satisfied: packaging<24.3,>=21.3 in /home/rspy/.local/lib/python3.11/site-packages (from prefect<3.0.0,>=2.14.21->rs-client-libraries==0.0.0) (24.0)\n",
      "Requirement already satisfied: pathspec>=0.8.0 in /home/rspy/.local/lib/python3.11/site-packages (from prefect<3.0.0,>=2.14.21->rs-client-libraries==0.0.0) (0.12.1)\n",
      "Requirement already satisfied: pydantic!=2.0.0,!=2.0.1,!=2.1.0,<3.0.0,>=1.10.0 in /home/rspy/.local/lib/python3.11/site-packages (from pydantic[email]!=2.0.0,!=2.0.1,!=2.1.0,<3.0.0,>=1.10.0->prefect<3.0.0,>=2.14.21->rs-client-libraries==0.0.0) (2.7.0)\n",
      "Requirement already satisfied: pydantic-core<3.0.0,>=2.12.0 in /home/rspy/.local/lib/python3.11/site-packages (from prefect<3.0.0,>=2.14.21->rs-client-libraries==0.0.0) (2.18.1)\n",
      "Requirement already satisfied: python-dateutil<3.0.0,>=2.8.2 in /home/rspy/.local/lib/python3.11/site-packages (from prefect<3.0.0,>=2.14.21->rs-client-libraries==0.0.0) (2.9.0.post0)\n",
      "Requirement already satisfied: python-slugify<9.0,>=5.0 in /home/rspy/.local/lib/python3.11/site-packages (from prefect<3.0.0,>=2.14.21->rs-client-libraries==0.0.0) (8.0.4)\n",
      "Requirement already satisfied: pyyaml<7.0.0,>=5.4.1 in /home/rspy/.local/lib/python3.11/site-packages (from prefect<3.0.0,>=2.14.21->rs-client-libraries==0.0.0) (6.0.1)\n",
      "Requirement already satisfied: rfc3339-validator<0.2.0,>=0.1.4 in /home/rspy/.local/lib/python3.11/site-packages (from prefect<3.0.0,>=2.14.21->rs-client-libraries==0.0.0) (0.1.4)\n",
      "Requirement already satisfied: rich<14.0,>=11.0 in /home/rspy/.local/lib/python3.11/site-packages (from prefect<3.0.0,>=2.14.21->rs-client-libraries==0.0.0) (13.7.1)\n",
      "Requirement already satisfied: ruamel.yaml>=0.17.0 in /home/rspy/.local/lib/python3.11/site-packages (from prefect<3.0.0,>=2.14.21->rs-client-libraries==0.0.0) (0.18.6)\n",
      "Requirement already satisfied: sniffio<2.0.0,>=1.3.0 in /home/rspy/.local/lib/python3.11/site-packages (from prefect<3.0.0,>=2.14.21->rs-client-libraries==0.0.0) (1.3.1)\n",
      "Requirement already satisfied: toml>=0.10.0 in /home/rspy/.local/lib/python3.11/site-packages (from prefect<3.0.0,>=2.14.21->rs-client-libraries==0.0.0) (0.10.2)\n",
      "Requirement already satisfied: typing-extensions<5.0.0,>=4.5.0 in /home/rspy/.local/lib/python3.11/site-packages (from prefect<3.0.0,>=2.14.21->rs-client-libraries==0.0.0) (4.11.0)\n",
      "Requirement already satisfied: ujson<6.0.0,>=5.8.0 in /home/rspy/.local/lib/python3.11/site-packages (from prefect<3.0.0,>=2.14.21->rs-client-libraries==0.0.0) (5.9.0)\n",
      "Requirement already satisfied: uvicorn<0.29.0,>=0.14.0 in /home/rspy/.local/lib/python3.11/site-packages (from prefect<3.0.0,>=2.14.21->rs-client-libraries==0.0.0) (0.28.1)\n",
      "Requirement already satisfied: websockets<13.0,>=10.4 in /home/rspy/.local/lib/python3.11/site-packages (from prefect<3.0.0,>=2.14.21->rs-client-libraries==0.0.0) (12.0)\n",
      "Requirement already satisfied: itsdangerous in /home/rspy/.local/lib/python3.11/site-packages (from prefect<3.0.0,>=2.14.21->rs-client-libraries==0.0.0) (2.2.0)\n",
      "Requirement already satisfied: python-multipart>=0.0.7 in /home/rspy/.local/lib/python3.11/site-packages (from prefect<3.0.0,>=2.14.21->rs-client-libraries==0.0.0) (0.0.9)\n",
      "Requirement already satisfied: pendulum<3.0 in /home/rspy/.local/lib/python3.11/site-packages (from prefect<3.0.0,>=2.14.21->rs-client-libraries==0.0.0) (2.1.2)\n",
      "Requirement already satisfied: distributed!=2023.3.2,!=2023.3.2.1,!=2023.4.*,!=2023.5.*,>=2022.5.0 in /home/rspy/.local/lib/python3.11/site-packages (from prefect-dask<0.3.0,>=0.2.6->rs-client-libraries==0.0.0) (2024.4.2)\n",
      "Requirement already satisfied: Mako in /home/rspy/.local/lib/python3.11/site-packages (from alembic<2.0.0,>=1.7.5->prefect<3.0.0,>=2.14.21->rs-client-libraries==0.0.0) (1.3.3)\n",
      "Requirement already satisfied: idna>=2.8 in /home/rspy/.local/lib/python3.11/site-packages (from anyio<4.0.0,>=3.7.1->prefect<3.0.0,>=2.14.21->rs-client-libraries==0.0.0) (3.7)\n",
      "Requirement already satisfied: certifi in /home/rspy/.local/lib/python3.11/site-packages (from apprise<2.0.0,>=1.1.0->prefect<3.0.0,>=2.14.21->rs-client-libraries==0.0.0) (2024.2.2)\n",
      "Requirement already satisfied: requests in /home/rspy/.local/lib/python3.11/site-packages (from apprise<2.0.0,>=1.1.0->prefect<3.0.0,>=2.14.21->rs-client-libraries==0.0.0) (2.31.0)\n",
      "Requirement already satisfied: requests-oauthlib in /home/rspy/.local/lib/python3.11/site-packages (from apprise<2.0.0,>=1.1.0->prefect<3.0.0,>=2.14.21->rs-client-libraries==0.0.0) (2.0.0)\n",
      "Requirement already satisfied: markdown in /home/rspy/.local/lib/python3.11/site-packages (from apprise<2.0.0,>=1.1.0->prefect<3.0.0,>=2.14.21->rs-client-libraries==0.0.0) (3.6)\n",
      "Requirement already satisfied: async-timeout>=4.0.3 in /home/rspy/.local/lib/python3.11/site-packages (from asyncpg>=0.23->prefect<3.0.0,>=2.14.21->rs-client-libraries==0.0.0) (4.0.3)\n",
      "Requirement already satisfied: cffi>=1.12 in /home/rspy/.local/lib/python3.11/site-packages (from cryptography>=36.0.1->prefect<3.0.0,>=2.14.21->rs-client-libraries==0.0.0) (1.16.0)\n",
      "Requirement already satisfied: regex!=2019.02.19,!=2021.8.27 in /home/rspy/.local/lib/python3.11/site-packages (from dateparser<2.0.0,>=1.1.1->prefect<3.0.0,>=2.14.21->rs-client-libraries==0.0.0) (2024.4.16)\n",
      "Requirement already satisfied: tzlocal in /home/rspy/.local/lib/python3.11/site-packages (from dateparser<2.0.0,>=1.1.1->prefect<3.0.0,>=2.14.21->rs-client-libraries==0.0.0) (5.2)\n",
      "Requirement already satisfied: dask==2024.4.2 in /home/rspy/.local/lib/python3.11/site-packages (from distributed!=2023.3.2,!=2023.3.2.1,!=2023.4.*,!=2023.5.*,>=2022.5.0->prefect-dask<0.3.0,>=0.2.6->rs-client-libraries==0.0.0) (2024.4.2)\n",
      "Requirement already satisfied: locket>=1.0.0 in /home/rspy/.local/lib/python3.11/site-packages (from distributed!=2023.3.2,!=2023.3.2.1,!=2023.4.*,!=2023.5.*,>=2022.5.0->prefect-dask<0.3.0,>=0.2.6->rs-client-libraries==0.0.0) (1.0.0)\n",
      "Requirement already satisfied: msgpack>=1.0.0 in /home/rspy/.local/lib/python3.11/site-packages (from distributed!=2023.3.2,!=2023.3.2.1,!=2023.4.*,!=2023.5.*,>=2022.5.0->prefect-dask<0.3.0,>=0.2.6->rs-client-libraries==0.0.0) (1.0.8)\n",
      "Requirement already satisfied: psutil>=5.7.2 in /home/rspy/.local/lib/python3.11/site-packages (from distributed!=2023.3.2,!=2023.3.2.1,!=2023.4.*,!=2023.5.*,>=2022.5.0->prefect-dask<0.3.0,>=0.2.6->rs-client-libraries==0.0.0) (5.9.8)\n",
      "Requirement already satisfied: sortedcontainers>=2.0.5 in /home/rspy/.local/lib/python3.11/site-packages (from distributed!=2023.3.2,!=2023.3.2.1,!=2023.4.*,!=2023.5.*,>=2022.5.0->prefect-dask<0.3.0,>=0.2.6->rs-client-libraries==0.0.0) (2.4.0)\n",
      "Requirement already satisfied: tblib>=1.6.0 in /home/rspy/.local/lib/python3.11/site-packages (from distributed!=2023.3.2,!=2023.3.2.1,!=2023.4.*,!=2023.5.*,>=2022.5.0->prefect-dask<0.3.0,>=0.2.6->rs-client-libraries==0.0.0) (3.0.0)\n",
      "Requirement already satisfied: toolz>=0.10.0 in /home/rspy/.local/lib/python3.11/site-packages (from distributed!=2023.3.2,!=2023.3.2.1,!=2023.4.*,!=2023.5.*,>=2022.5.0->prefect-dask<0.3.0,>=0.2.6->rs-client-libraries==0.0.0) (0.12.1)\n",
      "Requirement already satisfied: tornado>=6.0.4 in /home/rspy/.local/lib/python3.11/site-packages (from distributed!=2023.3.2,!=2023.3.2.1,!=2023.4.*,!=2023.5.*,>=2022.5.0->prefect-dask<0.3.0,>=0.2.6->rs-client-libraries==0.0.0) (6.4)\n",
      "Requirement already satisfied: urllib3>=1.24.3 in /home/rspy/.local/lib/python3.11/site-packages (from distributed!=2023.3.2,!=2023.3.2.1,!=2023.4.*,!=2023.5.*,>=2022.5.0->prefect-dask<0.3.0,>=0.2.6->rs-client-libraries==0.0.0) (2.2.1)\n",
      "Requirement already satisfied: zict>=3.0.0 in /home/rspy/.local/lib/python3.11/site-packages (from distributed!=2023.3.2,!=2023.3.2.1,!=2023.4.*,!=2023.5.*,>=2022.5.0->prefect-dask<0.3.0,>=0.2.6->rs-client-libraries==0.0.0) (3.0.0)\n",
      "Requirement already satisfied: partd>=1.2.0 in /home/rspy/.local/lib/python3.11/site-packages (from dask==2024.4.2->distributed!=2023.3.2,!=2023.3.2.1,!=2023.4.*,!=2023.5.*,>=2022.5.0->prefect-dask<0.3.0,>=0.2.6->rs-client-libraries==0.0.0) (1.4.1)\n",
      "Requirement already satisfied: importlib-metadata>=4.13.0 in /home/rspy/.local/lib/python3.11/site-packages (from dask==2024.4.2->distributed!=2023.3.2,!=2023.3.2.1,!=2023.4.*,!=2023.5.*,>=2022.5.0->prefect-dask<0.3.0,>=0.2.6->rs-client-libraries==0.0.0) (7.1.0)\n",
      "Requirement already satisfied: websocket-client>=0.32.0 in /home/rspy/.local/lib/python3.11/site-packages (from docker<7.0,>=4.0->prefect<3.0.0,>=2.14.21->rs-client-libraries==0.0.0) (1.7.0)\n",
      "Requirement already satisfied: colorama>=0.4 in /home/rspy/.local/lib/python3.11/site-packages (from griffe>=0.20.0->prefect<3.0.0,>=2.14.21->rs-client-libraries==0.0.0) (0.4.6)\n",
      "Requirement already satisfied: h11<0.15,>=0.13 in /home/rspy/.local/lib/python3.11/site-packages (from httpcore<2.0.0,>=1.0.5->prefect<3.0.0,>=2.14.21->rs-client-libraries==0.0.0) (0.14.0)\n",
      "Requirement already satisfied: h2<5,>=3 in /home/rspy/.local/lib/python3.11/site-packages (from httpx[http2]!=0.23.2,>=0.23->prefect<3.0.0,>=2.14.21->rs-client-libraries==0.0.0) (4.1.0)\n",
      "Requirement already satisfied: MarkupSafe>=2.0 in /home/rspy/.local/lib/python3.11/site-packages (from jinja2<4.0.0,>=3.0.0->prefect<3.0.0,>=2.14.21->rs-client-libraries==0.0.0) (2.1.5)\n",
      "Requirement already satisfied: jsonpointer>=1.9 in /home/rspy/.local/lib/python3.11/site-packages (from jsonpatch<2.0,>=1.32->prefect<3.0.0,>=2.14.21->rs-client-libraries==0.0.0) (2.4)\n",
      "Requirement already satisfied: attrs>=22.2.0 in /home/rspy/.local/lib/python3.11/site-packages (from jsonschema<5.0.0,>=4.0.0->prefect<3.0.0,>=2.14.21->rs-client-libraries==0.0.0) (23.2.0)\n",
      "Requirement already satisfied: jsonschema-specifications>=2023.03.6 in /home/rspy/.local/lib/python3.11/site-packages (from jsonschema<5.0.0,>=4.0.0->prefect<3.0.0,>=2.14.21->rs-client-libraries==0.0.0) (2023.12.1)\n",
      "Requirement already satisfied: referencing>=0.28.4 in /home/rspy/.local/lib/python3.11/site-packages (from jsonschema<5.0.0,>=4.0.0->prefect<3.0.0,>=2.14.21->rs-client-libraries==0.0.0) (0.34.0)\n",
      "Requirement already satisfied: rpds-py>=0.7.1 in /home/rspy/.local/lib/python3.11/site-packages (from jsonschema<5.0.0,>=4.0.0->prefect<3.0.0,>=2.14.21->rs-client-libraries==0.0.0) (0.18.0)\n",
      "Requirement already satisfied: six>=1.9.0 in /home/rspy/.local/lib/python3.11/site-packages (from kubernetes<30.0.0,>=24.2.0->prefect<3.0.0,>=2.14.21->rs-client-libraries==0.0.0) (1.16.0)\n",
      "Requirement already satisfied: google-auth>=1.0.1 in /home/rspy/.local/lib/python3.11/site-packages (from kubernetes<30.0.0,>=24.2.0->prefect<3.0.0,>=2.14.21->rs-client-libraries==0.0.0) (2.29.0)\n",
      "Requirement already satisfied: oauthlib>=3.2.2 in /home/rspy/.local/lib/python3.11/site-packages (from kubernetes<30.0.0,>=24.2.0->prefect<3.0.0,>=2.14.21->rs-client-libraries==0.0.0) (3.2.2)\n",
      "Requirement already satisfied: pytzdata>=2020.1 in /home/rspy/.local/lib/python3.11/site-packages (from pendulum<3.0->prefect<3.0.0,>=2.14.21->rs-client-libraries==0.0.0) (2020.1)\n",
      "Requirement already satisfied: annotated-types>=0.4.0 in /home/rspy/.local/lib/python3.11/site-packages (from pydantic!=2.0.0,!=2.0.1,!=2.1.0,<3.0.0,>=1.10.0->pydantic[email]!=2.0.0,!=2.0.1,!=2.1.0,<3.0.0,>=1.10.0->prefect<3.0.0,>=2.14.21->rs-client-libraries==0.0.0) (0.6.0)\n",
      "Requirement already satisfied: email-validator>=2.0.0 in /home/rspy/.local/lib/python3.11/site-packages (from pydantic[email]!=2.0.0,!=2.0.1,!=2.1.0,<3.0.0,>=1.10.0->prefect<3.0.0,>=2.14.21->rs-client-libraries==0.0.0) (2.1.1)\n",
      "Requirement already satisfied: text-unidecode>=1.3 in /home/rspy/.local/lib/python3.11/site-packages (from python-slugify<9.0,>=5.0->prefect<3.0.0,>=2.14.21->rs-client-libraries==0.0.0) (1.3)\n",
      "Requirement already satisfied: setuptools>=41.0 in /home/rspy/.local/lib/python3.11/site-packages (from readchar<5.0.0,>=4.0.0->prefect<3.0.0,>=2.14.21->rs-client-libraries==0.0.0) (69.5.1)\n",
      "Requirement already satisfied: markdown-it-py>=2.2.0 in /home/rspy/.local/lib/python3.11/site-packages (from rich<14.0,>=11.0->prefect<3.0.0,>=2.14.21->rs-client-libraries==0.0.0) (3.0.0)\n",
      "Requirement already satisfied: pygments<3.0.0,>=2.13.0 in /home/rspy/.local/lib/python3.11/site-packages (from rich<14.0,>=11.0->prefect<3.0.0,>=2.14.21->rs-client-libraries==0.0.0) (2.17.2)\n",
      "Requirement already satisfied: ruamel.yaml.clib>=0.2.7 in /home/rspy/.local/lib/python3.11/site-packages (from ruamel.yaml>=0.17.0->prefect<3.0.0,>=2.14.21->rs-client-libraries==0.0.0) (0.2.8)\n",
      "Requirement already satisfied: greenlet!=0.4.17 in /home/rspy/.local/lib/python3.11/site-packages (from sqlalchemy!=1.4.33,<3.0.0,>=1.4.22->sqlalchemy[asyncio]!=1.4.33,<3.0.0,>=1.4.22->prefect<3.0.0,>=2.14.21->rs-client-libraries==0.0.0) (3.0.3)\n",
      "Requirement already satisfied: shellingham>=1.3.0 in /home/rspy/.local/lib/python3.11/site-packages (from typer!=0.12.2,<0.13.0,>=0.12.0->prefect<3.0.0,>=2.14.21->rs-client-libraries==0.0.0) (1.5.4)\n",
      "Requirement already satisfied: pycparser in /home/rspy/.local/lib/python3.11/site-packages (from cffi>=1.12->cryptography>=36.0.1->prefect<3.0.0,>=2.14.21->rs-client-libraries==0.0.0) (2.22)\n",
      "Requirement already satisfied: dnspython>=2.0.0 in /home/rspy/.local/lib/python3.11/site-packages (from email-validator>=2.0.0->pydantic[email]!=2.0.0,!=2.0.1,!=2.1.0,<3.0.0,>=1.10.0->prefect<3.0.0,>=2.14.21->rs-client-libraries==0.0.0) (2.6.1)\n",
      "Requirement already satisfied: pyasn1-modules>=0.2.1 in /home/rspy/.local/lib/python3.11/site-packages (from google-auth>=1.0.1->kubernetes<30.0.0,>=24.2.0->prefect<3.0.0,>=2.14.21->rs-client-libraries==0.0.0) (0.4.0)\n",
      "Requirement already satisfied: rsa<5,>=3.1.4 in /home/rspy/.local/lib/python3.11/site-packages (from google-auth>=1.0.1->kubernetes<30.0.0,>=24.2.0->prefect<3.0.0,>=2.14.21->rs-client-libraries==0.0.0) (4.9)\n",
      "Requirement already satisfied: hyperframe<7,>=6.0 in /home/rspy/.local/lib/python3.11/site-packages (from h2<5,>=3->httpx[http2]!=0.23.2,>=0.23->prefect<3.0.0,>=2.14.21->rs-client-libraries==0.0.0) (6.0.1)\n",
      "Requirement already satisfied: hpack<5,>=4.0 in /home/rspy/.local/lib/python3.11/site-packages (from h2<5,>=3->httpx[http2]!=0.23.2,>=0.23->prefect<3.0.0,>=2.14.21->rs-client-libraries==0.0.0) (4.0.0)\n",
      "Requirement already satisfied: mdurl~=0.1 in /home/rspy/.local/lib/python3.11/site-packages (from markdown-it-py>=2.2.0->rich<14.0,>=11.0->prefect<3.0.0,>=2.14.21->rs-client-libraries==0.0.0) (0.1.2)\n",
      "Requirement already satisfied: charset-normalizer<4,>=2 in /home/rspy/.local/lib/python3.11/site-packages (from requests->apprise<2.0.0,>=1.1.0->prefect<3.0.0,>=2.14.21->rs-client-libraries==0.0.0) (3.3.2)\n",
      "Requirement already satisfied: zipp>=0.5 in /home/rspy/.local/lib/python3.11/site-packages (from importlib-metadata>=4.13.0->dask==2024.4.2->distributed!=2023.3.2,!=2023.3.2.1,!=2023.4.*,!=2023.5.*,>=2022.5.0->prefect-dask<0.3.0,>=0.2.6->rs-client-libraries==0.0.0) (3.18.1)\n",
      "Requirement already satisfied: pyasn1<0.7.0,>=0.4.6 in /home/rspy/.local/lib/python3.11/site-packages (from pyasn1-modules>=0.2.1->google-auth>=1.0.1->kubernetes<30.0.0,>=24.2.0->prefect<3.0.0,>=2.14.21->rs-client-libraries==0.0.0) (0.6.0)\n",
      "rs-client-libraries is already installed with the same version as the provided wheel. Use --force-reinstall to force an installation of the wheel.\n"
     ]
    },
    {
     "name": "stdin",
     "output_type": "stream",
     "text": [
      "Enter S3 access key for 'https://oss.eu-west-0.prod-cloud-ocb.orange-business.com': ········\n",
      "Enter S3 secret key for 'https://oss.eu-west-0.prod-cloud-ocb.orange-business.com': ········\n",
      "Enter your API key from 'https://dev-rspy.esa-copernicus.eu': ········\n"
     ]
    }
   ],
   "source": [
    "# Install rs-client-libraries\n",
    "!pip install rs_client_libraries-0.0.0-py3-none-any.whl\n",
    "\n",
    "import getpass\n",
    "import os\n",
    "\n",
    "# S3 access\n",
    "if not os.getenv(\"S3_ACCESSKEY\"):\n",
    "    os.environ[\"S3_ACCESSKEY\"] = getpass.getpass(f\"Enter S3 access key for {os.environ['S3_ENDPOINT']!r}:\")\n",
    "if not os.getenv(\"S3_SECRETKEY\"):\n",
    "    os.environ[\"S3_SECRETKEY\"] = getpass.getpass(f\"Enter S3 secret key for {os.environ['S3_ENDPOINT']!r}:\")\n",
    "\n",
    "# API key authentication (not on local mode)\n",
    "if (os.getenv(\"RSPY_LOCAL_MODE\") != \"1\") and (not os.getenv(\"RSPY_APIKEY\")):\n",
    "    os.environ[\"RSPY_APIKEY\"] = getpass.getpass(f\"Enter your API key from {os.environ['RSPY_WEBSITE']!r}:\")"
   ]
  },
  {
   "cell_type": "code",
   "execution_count": 2,
   "id": "14fdab95-2004-444d-bf47-d958221fa7df",
   "metadata": {},
   "outputs": [
    {
     "name": "stdout",
     "output_type": "stream",
     "text": [
      "Using: https://dev-rspy.esa-copernicus.eu\n"
     ]
    }
   ],
   "source": [
    "# Set local or cluster configuration\n",
    "import os\n",
    "\n",
    "if os.getenv(\"RSPY_LOCAL_MODE\") == \"1\":\n",
    "    RS_SERVER_ROOT_URL = \"http://rs-server-catalog:8000\"\n",
    "    HEADERS={}\n",
    "    local_mode = True\n",
    "else:\n",
    "    RS_SERVER_ROOT_URL = os.environ[\"RSPY_WEBSITE\"]\n",
    "    HEADERS={\"headers\": {\"x-api-key\": os.environ[\"RSPY_APIKEY\"]}}\n",
    "    local_mode = False\n",
    "\n",
    "print(f\"Using: {RS_SERVER_ROOT_URL}\")\n",
    "\n",
    "import requests\n",
    "import json"
   ]
  },
  {
   "cell_type": "code",
   "execution_count": 3,
   "id": "071eb060-e6ed-440d-9835-45f3782005ba",
   "metadata": {},
   "outputs": [
    {
     "name": "stdout",
     "output_type": "stream",
     "text": [
      "Defaulting to user installation because normal site-packages is not writeable\n",
      "Requirement already satisfied: boto3 in /home/rspy/.local/lib/python3.11/site-packages (1.34.87)\n",
      "Requirement already satisfied: botocore<1.35.0,>=1.34.87 in /home/rspy/.local/lib/python3.11/site-packages (from boto3) (1.34.87)\n",
      "Requirement already satisfied: jmespath<2.0.0,>=0.7.1 in /home/rspy/.local/lib/python3.11/site-packages (from boto3) (1.0.1)\n",
      "Requirement already satisfied: s3transfer<0.11.0,>=0.10.0 in /home/rspy/.local/lib/python3.11/site-packages (from boto3) (0.10.1)\n",
      "Requirement already satisfied: python-dateutil<3.0.0,>=2.1 in /home/rspy/.local/lib/python3.11/site-packages (from botocore<1.35.0,>=1.34.87->boto3) (2.9.0.post0)\n",
      "Requirement already satisfied: urllib3!=2.2.0,<3,>=1.25.4 in /home/rspy/.local/lib/python3.11/site-packages (from botocore<1.35.0,>=1.34.87->boto3) (2.2.1)\n",
      "Requirement already satisfied: six>=1.5 in /home/rspy/.local/lib/python3.11/site-packages (from python-dateutil<3.0.0,>=2.1->botocore<1.35.0,>=1.34.87->boto3) (1.16.0)\n"
     ]
    }
   ],
   "source": [
    "# Use boto3 for S3 operations\n",
    "\n",
    "TEMP_BUCKET = \"rs-cluster-temp\"\n",
    "FINAL_BUCKET = \"rs-cluster-catalog\"\n",
    "\n",
    "!pip install boto3\n",
    "import boto3\n",
    "import os\n",
    "s3_session = boto3.session.Session()\n",
    "\n",
    "s3_client = s3_session.client(\n",
    "    service_name=\"s3\",    \n",
    "    # Note: the S3_ACCESSKEY, S3_SECRETKEY and S3_ENDPOINT are given \n",
    "    # in the docker-compose.yml or ~/.s3cfg file.\n",
    "    aws_access_key_id=os.environ[\"S3_ACCESSKEY\"],\n",
    "    aws_secret_access_key=os.environ[\"S3_SECRETKEY\"],\n",
    "    endpoint_url=os.environ[\"S3_ENDPOINT\"],\n",
    "    region_name=os.environ[\"S3_REGION\"],\n",
    ")\n",
    "    \n",
    "# Create the buckets if they don't exist (only in local mode)\n",
    "if local_mode:\n",
    "    buckets = [TEMP_BUCKET, FINAL_BUCKET] # bucket names under S3_ENDPOINT\n",
    "    for b in buckets:\n",
    "        if b not in [bucket[\"Name\"] for bucket in s3_client.list_buckets()[\"Buckets\"]]:\n",
    "            s3_client.create_bucket(Bucket=b)"
   ]
  },
  {
   "cell_type": "code",
   "execution_count": 13,
   "id": "b1149d0d-113c-491a-8968-444c3937078f",
   "metadata": {},
   "outputs": [],
   "source": [
    "# Clean previous executions\n",
    "# Delete collections\n",
    "for collection in (\"jgaucher:S1_L1\", \"jgaucher:S1_L2\", \"DemoUser:S1_L1\", \"ycolera:S1_L1\"):\n",
    "    requests.delete(f\"{RS_SERVER_ROOT_URL}/catalog/collections/{collection}\", **HEADERS, stream=True)\n",
    "\n",
    "# Delete bucket files\n",
    "for item_name in (\"cadip/item1.dataset\", \"cadip/item2.dataset\"):\n",
    "    for bucket in (TEMP_BUCKET, FINAL_BUCKET):\n",
    "        s3_client.delete_object(Bucket=bucket, Key=item_name)"
   ]
  },
  {
   "cell_type": "code",
   "execution_count": 14,
   "id": "3f1af220",
   "metadata": {},
   "outputs": [],
   "source": [
    "# Create empty dummy data files for this demo\n",
    "import tempfile\n",
    "for item_name in (\"cadip/item1.dataset\", \"cadip/item2.dataset\"):\n",
    "    with tempfile.NamedTemporaryFile() as tmp:\n",
    "        s3_client.upload_file (tmp.name, TEMP_BUCKET, item_name)\n",
    "\n",
    "# Save the current datetime (no ms, no time zone)\n",
    "from datetime import datetime\n",
    "demo_start_time = datetime.now().replace(microsecond=0).astimezone()"
   ]
  },
  {
   "cell_type": "markdown",
   "id": "8c2d56ae-7bdb-4e86-9935-0b29b880c0bf",
   "metadata": {},
   "source": [
    "## Add the collection S1_L1 in the DemoUser catalog"
   ]
  },
  {
   "cell_type": "code",
   "execution_count": 15,
   "id": "47e6ff93-c4ee-4d7e-8d91-03a9c8ceea82",
   "metadata": {},
   "outputs": [
    {
     "data": {
      "text/plain": [
       "{'id': 'S1_L1',\n",
       " 'type': 'Collection',\n",
       " 'owner': 'DemoUser',\n",
       " 'description': 'The S1_L1 collection for DemoUser user.',\n",
       " 'stac_version': '1.0.0',\n",
       " 'links': [{'rel': 'items',\n",
       "   'type': 'application/geo+json',\n",
       "   'href': 'https://dev-rspy.esa-copernicus.eu/catalog/DemoUser/collections/S1_L1/items'},\n",
       "  {'rel': 'parent',\n",
       "   'type': 'application/json',\n",
       "   'href': 'https://dev-rspy.esa-copernicus.eu/catalog/DemoUser'},\n",
       "  {'rel': 'root',\n",
       "   'type': 'application/json',\n",
       "   'href': 'https://dev-rspy.esa-copernicus.eu/catalog/DemoUser'},\n",
       "  {'rel': 'self',\n",
       "   'type': 'application/json',\n",
       "   'href': 'https://dev-rspy.esa-copernicus.eu/catalog/DemoUser/collections/S1_L1'}]}"
      ]
     },
     "execution_count": 15,
     "metadata": {},
     "output_type": "execute_result"
    }
   ],
   "source": [
    "collection = {\n",
    "            \"id\": \"S1_L1\",\n",
    "            \"type\": \"Collection\",\n",
    "            \"description\": \"The S1_L1 collection for DemoUser user.\",\n",
    "            \"stac_version\": \"1.0.0\",\n",
    "            \"owner\": \"DemoUser\"\n",
    "        }\n",
    "\n",
    "post_response = requests.post(f\"{RS_SERVER_ROOT_URL}/catalog/collections\", json=collection, **HEADERS)\n",
    "post_response.raise_for_status()\n",
    "\n",
    "response = requests.get(f\"{RS_SERVER_ROOT_URL}/catalog/collections/DemoUser:S1_L1\", **HEADERS)\n",
    "response.raise_for_status()\n",
    "\n",
    "collection = json.loads(response.content)\n",
    "collection"
   ]
  },
  {
   "cell_type": "markdown",
   "id": "7071090a-d548-4202-9625-53c243269d3e",
   "metadata": {},
   "source": [
    "The previous commands create the S1_L1 collection in the esmeralda catalog.\n",
    "Then, it gets the esmeralda collections again.\n",
    "This time, there is the S1_L1 collection, previously added.\n",
    "\n",
    "As we can see, the user doesn't have to add the owner_id to the collection_id. It is automatically added during the post."
   ]
  },
  {
   "cell_type": "markdown",
   "id": "773ce9b2-b49a-4efc-b525-9a4a58c731c9",
   "metadata": {},
   "source": [
    "## Add the collection S1_L1 in the jgaucher catalog"
   ]
  },
  {
   "cell_type": "code",
   "execution_count": 16,
   "id": "e1da74fe-7bfd-4ad4-8077-3528391e67f0",
   "metadata": {},
   "outputs": [
    {
     "data": {
      "text/plain": [
       "{'id': 'S1_L1',\n",
       " 'type': 'Collection',\n",
       " 'owner': 'jgaucher',\n",
       " 'description': 'The S1_L1 collection for jgaucher user.',\n",
       " 'stac_version': '1.0.0',\n",
       " 'links': [{'rel': 'items',\n",
       "   'type': 'application/geo+json',\n",
       "   'href': 'https://dev-rspy.esa-copernicus.eu/catalog/jgaucher/collections/S1_L1/items'},\n",
       "  {'rel': 'parent',\n",
       "   'type': 'application/json',\n",
       "   'href': 'https://dev-rspy.esa-copernicus.eu/catalog/jgaucher'},\n",
       "  {'rel': 'root',\n",
       "   'type': 'application/json',\n",
       "   'href': 'https://dev-rspy.esa-copernicus.eu/catalog/jgaucher'},\n",
       "  {'rel': 'self',\n",
       "   'type': 'application/json',\n",
       "   'href': 'https://dev-rspy.esa-copernicus.eu/catalog/jgaucher/collections/S1_L1'}]}"
      ]
     },
     "execution_count": 16,
     "metadata": {},
     "output_type": "execute_result"
    }
   ],
   "source": [
    "collection = {\n",
    "            \"id\": \"S1_L1\",\n",
    "            \"type\": \"Collection\",\n",
    "            \"description\": \"The S1_L1 collection for jgaucher user.\",\n",
    "            \"stac_version\": \"1.0.0\",\n",
    "            \"owner\": \"jgaucher\"\n",
    "        }\n",
    "\n",
    "post_response = requests.post(f\"{RS_SERVER_ROOT_URL}/catalog/collections\", json=collection, **HEADERS)\n",
    "post_response.raise_for_status()\n",
    "\n",
    "response = requests.get(f\"{RS_SERVER_ROOT_URL}/catalog/collections/jgaucher:S1_L1\", **HEADERS)\n",
    "response.raise_for_status()\n",
    "\n",
    "collection = json.loads(response.content)\n",
    "collection"
   ]
  },
  {
   "cell_type": "markdown",
   "id": "a7e03db9-e032-4550-9784-1649b1c832d1",
   "metadata": {},
   "source": [
    "Preview the content of catalog and temporary bucket, pushing a feature will automatically transfer files to catalog bucket, and update links."
   ]
  },
  {
   "cell_type": "markdown",
   "id": "2985eb85-696e-47e0-b211-c697e2bc9427",
   "metadata": {},
   "source": [
    "## Add an item in the collection S1_L1 in the jgaucher catalog"
   ]
  },
  {
   "cell_type": "code",
   "execution_count": 17,
   "id": "6ea5dde8-cc6c-4dc0-b827-fcfef5e4ecee",
   "metadata": {},
   "outputs": [
    {
     "data": {
      "text/plain": [
       "{'type': 'FeatureCollection',\n",
       " 'context': {'limit': 10, 'returned': 1},\n",
       " 'features': [{'id': 'item_0',\n",
       "   'bbox': [-94.6334839, 37.0332547, -94.6005249, 37.0595608],\n",
       "   'type': 'Feature',\n",
       "   'assets': {'file': {'href': 'https://rs-server/catalog/jgaucher/collections/S1_L1/items/item1.dataset/download/file',\n",
       "     'type': 'image/tiff; application=geotiff; profile=cloud-optimized',\n",
       "     'title': 'NOAA STORM COG',\n",
       "     'alternate': {'s3': {'href': 's3://rs-cluster-catalog/cadip/item1.dataset'}}}},\n",
       "   'geometry': {'type': 'Polygon',\n",
       "    'coordinates': [[[-94.6334839, 37.0595608],\n",
       "      [-94.6334839, 37.0332547],\n",
       "      [-94.6005249, 37.0332547],\n",
       "      [-94.6005249, 37.0595608],\n",
       "      [-94.6334839, 37.0595608]]]},\n",
       "   'collection': 'S1_L1',\n",
       "   'properties': {'gsd': 0.5971642834779395,\n",
       "    'owner': 'jgaucher',\n",
       "    'width': 2500,\n",
       "    'height': 2500,\n",
       "    'datetime': '2000-02-02T00:00:00Z',\n",
       "    'owner_id': 'jgaucher',\n",
       "    'proj:epsg': 3857,\n",
       "    'orientation': 'nadir'},\n",
       "   'stac_extensions': ['https://stac-extensions.github.io/alternate-assets/v1.1.0/schema.json'],\n",
       "   'links': [{'rel': 'collection',\n",
       "     'type': 'application/json',\n",
       "     'href': 'https://dev-rspy.esa-copernicus.eu/catalog/jgaucher/collections/S1_L1'},\n",
       "    {'rel': 'parent',\n",
       "     'type': 'application/json',\n",
       "     'href': 'https://dev-rspy.esa-copernicus.eu/catalog/jgaucher/collections/S1_L1'},\n",
       "    {'rel': 'root',\n",
       "     'type': 'application/json',\n",
       "     'href': 'https://dev-rspy.esa-copernicus.eu/catalog/jgaucher'},\n",
       "    {'rel': 'self',\n",
       "     'type': 'application/geo+json',\n",
       "     'href': 'https://dev-rspy.esa-copernicus.eu/catalog/jgaucher/collections/S1_L1/items/item_0'}]}],\n",
       " 'links': [{'rel': 'collection',\n",
       "   'type': 'application/json',\n",
       "   'href': 'https://dev-rspy.esa-copernicus.eu/catalog/jgaucher/collections/S1_L1'},\n",
       "  {'rel': 'parent',\n",
       "   'type': 'application/json',\n",
       "   'href': 'https://dev-rspy.esa-copernicus.eu/catalog/jgaucher/collections/S1_L1'},\n",
       "  {'rel': 'root',\n",
       "   'type': 'application/json',\n",
       "   'href': 'https://dev-rspy.esa-copernicus.eu/catalog/jgaucher'},\n",
       "  {'rel': 'self',\n",
       "   'type': 'application/geo+json',\n",
       "   'href': 'https://dev-rspy.esa-copernicus.eu/catalog/jgaucher/collections/S1_L1/items'}]}"
      ]
     },
     "execution_count": 17,
     "metadata": {},
     "output_type": "execute_result"
    }
   ],
   "source": [
    "item_0 = {\n",
    "            \"id\": \"item_0\",\n",
    "            \"bbox\": [-94.6334839, 37.0332547, -94.6005249, 37.0595608],\n",
    "            \"type\": \"Feature\",\n",
    "            \"geometry\": {\n",
    "                \"type\": \"Polygon\",\n",
    "                \"coordinates\": [\n",
    "                    [\n",
    "                        [-94.6334839, 37.0595608],\n",
    "                        [-94.6334839, 37.0332547],\n",
    "                        [-94.6005249, 37.0332547],\n",
    "                        [-94.6005249, 37.0595608],\n",
    "                        [-94.6334839, 37.0595608],\n",
    "                    ]\n",
    "                ],\n",
    "            },\n",
    "            \"collection\": \"S1_L1\",\n",
    "            \"properties\": {\n",
    "                \"gsd\": 0.5971642834779395,\n",
    "                \"width\": 2500,\n",
    "                \"height\": 2500,\n",
    "                \"datetime\": \"2000-02-02T00:00:00Z\",\n",
    "                \"proj:epsg\": 3857,\n",
    "                \"orientation\": \"nadir\",\n",
    "                \"owner_id\": \"jgaucher\",\n",
    "            },\n",
    "            \"stac_extensions\": [],\n",
    "            \"assets\": {\n",
    "                \"file\": {\n",
    "                    \"href\": \"s3://rs-cluster-temp/cadip/item1.dataset\",\n",
    "                    \"type\": \"image/tiff; application=geotiff; profile=cloud-optimized\",\n",
    "                    \"title\": \"NOAA STORM COG\",\n",
    "                },\n",
    "            },\n",
    "        }\n",
    "\n",
    "post_response = requests.post(f\"{RS_SERVER_ROOT_URL}/catalog/collections/jgaucher:S1_L1/items\", json=item_0, **HEADERS)\n",
    "post_response.raise_for_status()\n",
    "\n",
    "item_response = requests.get(f\"{RS_SERVER_ROOT_URL}/catalog/collections/jgaucher:S1_L1/items\", **HEADERS)\n",
    "item_response.raise_for_status()\n",
    "\n",
    "item = json.loads(item_response.content)\n",
    "item"
   ]
  },
  {
   "cell_type": "markdown",
   "id": "88378dbc-c63a-4489-95ad-d7c8e58b9ebb",
   "metadata": {},
   "source": [
    "Preview again the content of buckets, to make sure that assests were moved."
   ]
  },
  {
   "cell_type": "code",
   "execution_count": 18,
   "id": "ff4a6a92-c136-4641-b34e-1733cec18375",
   "metadata": {},
   "outputs": [],
   "source": [
    "# Check that the asset was copied to the final catalog bucket\n",
    "item1_time = s3_client.head_object(Bucket=FINAL_BUCKET, Key=\"cadip/item1.dataset\")[\"LastModified\"]\n",
    "assert item1_time >= demo_start_time, \\\n",
    "       f\"'{item1_time}' should be >= '{demo_start_time}'\"\n",
    "\n",
    "# And was removed from the temp bucket\n",
    "assert \"Contents\" not in s3_client.list_objects(Bucket=TEMP_BUCKET, Prefix=\"cadip/item1.dataset\"), \\\n",
    "       \"Should have been removed from the temp bucket\""
   ]
  },
  {
   "cell_type": "markdown",
   "id": "b0bb4ddb-4687-4935-a22f-e68223234fa7",
   "metadata": {},
   "source": [
    "The previous commands create the first feature in the esmeralda S1_L1 collection. Then, it gets the the feature created.\n",
    "\n",
    "Let's look at its content."
   ]
  },
  {
   "cell_type": "markdown",
   "id": "82a7e3dc-f25b-4584-9d56-2c41989810e8",
   "metadata": {},
   "source": [
    "## Add an item in the collection S1_L1 in the DemoUser catalog"
   ]
  },
  {
   "cell_type": "code",
   "execution_count": 19,
   "id": "9f576bca-c072-46f9-b20f-76f9578497d2",
   "metadata": {},
   "outputs": [
    {
     "data": {
      "text/plain": [
       "{'type': 'FeatureCollection',\n",
       " 'context': {'limit': 10, 'returned': 1},\n",
       " 'features': [{'id': 'item_0',\n",
       "   'bbox': [-94.6334839, 37.0332547, -94.6005249, 37.0595608],\n",
       "   'type': 'Feature',\n",
       "   'assets': {'file': {'href': 'https://rs-server/catalog/DemoUser/collections/S1_L1/items/item2.dataset/download/file',\n",
       "     'type': 'image/tiff; application=geotiff; profile=cloud-optimized',\n",
       "     'title': 'NOAA STORM COG',\n",
       "     'alternate': {'s3': {'href': 's3://rs-cluster-catalog/cadip/item2.dataset'}}}},\n",
       "   'geometry': {'type': 'Polygon',\n",
       "    'coordinates': [[[-94.6334839, 37.0595608],\n",
       "      [-94.6334839, 37.0332547],\n",
       "      [-94.6005249, 37.0332547],\n",
       "      [-94.6005249, 37.0595608],\n",
       "      [-94.6334839, 37.0595608]]]},\n",
       "   'collection': 'S1_L1',\n",
       "   'properties': {'gsd': 0.5971642834779395,\n",
       "    'owner': 'DemoUser',\n",
       "    'width': 2500,\n",
       "    'height': 2500,\n",
       "    'datetime': '2000-02-02T00:00:00Z',\n",
       "    'owner_id': 'DemoUser',\n",
       "    'proj:epsg': 3857,\n",
       "    'orientation': 'nadir'},\n",
       "   'stac_extensions': ['https://stac-extensions.github.io/alternate-assets/v1.1.0/schema.json'],\n",
       "   'links': [{'rel': 'collection',\n",
       "     'type': 'application/json',\n",
       "     'href': 'https://dev-rspy.esa-copernicus.eu/catalog/DemoUser/collections/S1_L1'},\n",
       "    {'rel': 'parent',\n",
       "     'type': 'application/json',\n",
       "     'href': 'https://dev-rspy.esa-copernicus.eu/catalog/DemoUser/collections/S1_L1'},\n",
       "    {'rel': 'root',\n",
       "     'type': 'application/json',\n",
       "     'href': 'https://dev-rspy.esa-copernicus.eu/catalog/DemoUser'},\n",
       "    {'rel': 'self',\n",
       "     'type': 'application/geo+json',\n",
       "     'href': 'https://dev-rspy.esa-copernicus.eu/catalog/DemoUser/collections/S1_L1/items/item_0'}]}],\n",
       " 'links': [{'rel': 'collection',\n",
       "   'type': 'application/json',\n",
       "   'href': 'https://dev-rspy.esa-copernicus.eu/catalog/DemoUser/collections/S1_L1'},\n",
       "  {'rel': 'parent',\n",
       "   'type': 'application/json',\n",
       "   'href': 'https://dev-rspy.esa-copernicus.eu/catalog/DemoUser/collections/S1_L1'},\n",
       "  {'rel': 'root',\n",
       "   'type': 'application/json',\n",
       "   'href': 'https://dev-rspy.esa-copernicus.eu/catalog/DemoUser'},\n",
       "  {'rel': 'self',\n",
       "   'type': 'application/geo+json',\n",
       "   'href': 'https://dev-rspy.esa-copernicus.eu/catalog/DemoUser/collections/S1_L1/items'}]}"
      ]
     },
     "execution_count": 19,
     "metadata": {},
     "output_type": "execute_result"
    }
   ],
   "source": [
    "item_0 = {\n",
    "            \"id\": \"item_0\",\n",
    "            \"bbox\": [-94.6334839, 37.0332547, -94.6005249, 37.0595608],\n",
    "            \"type\": \"Feature\",\n",
    "            \"geometry\": {\n",
    "                \"type\": \"Polygon\",\n",
    "                \"coordinates\": [\n",
    "                    [\n",
    "                        [-94.6334839, 37.0595608],\n",
    "                        [-94.6334839, 37.0332547],\n",
    "                        [-94.6005249, 37.0332547],\n",
    "                        [-94.6005249, 37.0595608],\n",
    "                        [-94.6334839, 37.0595608],\n",
    "                    ]\n",
    "                ],\n",
    "            },\n",
    "            \"collection\": \"S1_L1\",\n",
    "            \"properties\": {\n",
    "                \"gsd\": 0.5971642834779395,\n",
    "                \"width\": 2500,\n",
    "                \"height\": 2500,\n",
    "                \"datetime\": \"2000-02-02T00:00:00Z\",\n",
    "                \"proj:epsg\": 3857,\n",
    "                \"orientation\": \"nadir\",\n",
    "                \"owner_id\": \"DemoUser\",\n",
    "            },\n",
    "            \"stac_extensions\": [],\n",
    "            \"assets\": {\n",
    "                \"file\": {\n",
    "                    \"href\": \"s3://rs-cluster-temp/cadip/item2.dataset\",\n",
    "                    \"type\": \"image/tiff; application=geotiff; profile=cloud-optimized\",\n",
    "                    \"title\": \"NOAA STORM COG\",\n",
    "                },\n",
    "            },\n",
    "        }\n",
    "\n",
    "post_response = requests.post(f\"{RS_SERVER_ROOT_URL}/catalog/collections/DemoUser:S1_L1/items\", json=item_0, **HEADERS)\n",
    "post_response.raise_for_status()\n",
    "\n",
    "item_response = requests.get(f\"{RS_SERVER_ROOT_URL}/catalog/collections/DemoUser:S1_L1/items\", **HEADERS)\n",
    "item_response.raise_for_status()\n",
    "\n",
    "item = json.loads(item_response.content)\n",
    "item"
   ]
  },
  {
   "cell_type": "markdown",
   "id": "47bc67e7-6d34-42ef-b001-5eaf813b5d72",
   "metadata": {},
   "source": [
    "## Get the first item from jgaucher S1_L1 collection"
   ]
  },
  {
   "cell_type": "code",
   "execution_count": 20,
   "id": "c0b5d26a-24fc-4c14-a997-735f91c5c12f",
   "metadata": {},
   "outputs": [
    {
     "data": {
      "text/plain": [
       "{'id': 'item_0',\n",
       " 'bbox': [-94.6334839, 37.0332547, -94.6005249, 37.0595608],\n",
       " 'type': 'Feature',\n",
       " 'assets': {'file': {'href': 'https://rs-server/catalog/jgaucher/collections/S1_L1/items/item1.dataset/download/file',\n",
       "   'type': 'image/tiff; application=geotiff; profile=cloud-optimized',\n",
       "   'title': 'NOAA STORM COG',\n",
       "   'alternate': {'s3': {'href': 's3://rs-cluster-catalog/cadip/item1.dataset'}}}},\n",
       " 'geometry': {'type': 'Polygon',\n",
       "  'coordinates': [[[-94.6334839, 37.0595608],\n",
       "    [-94.6334839, 37.0332547],\n",
       "    [-94.6005249, 37.0332547],\n",
       "    [-94.6005249, 37.0595608],\n",
       "    [-94.6334839, 37.0595608]]]},\n",
       " 'collection': 'S1_L1',\n",
       " 'properties': {'gsd': 0.5971642834779395,\n",
       "  'owner': 'jgaucher',\n",
       "  'width': 2500,\n",
       "  'height': 2500,\n",
       "  'datetime': '2000-02-02T00:00:00Z',\n",
       "  'owner_id': 'jgaucher',\n",
       "  'proj:epsg': 3857,\n",
       "  'orientation': 'nadir'},\n",
       " 'stac_extensions': ['https://stac-extensions.github.io/alternate-assets/v1.1.0/schema.json'],\n",
       " 'links': [{'rel': 'collection',\n",
       "   'type': 'application/json',\n",
       "   'href': 'https://dev-rspy.esa-copernicus.eu/catalog/jgaucher/collections/S1_L1'},\n",
       "  {'rel': 'parent',\n",
       "   'type': 'application/json',\n",
       "   'href': 'https://dev-rspy.esa-copernicus.eu/catalog/jgaucher/collections/S1_L1'},\n",
       "  {'rel': 'root',\n",
       "   'type': 'application/json',\n",
       "   'href': 'https://dev-rspy.esa-copernicus.eu/catalog/jgaucher'},\n",
       "  {'rel': 'self',\n",
       "   'type': 'application/geo+json',\n",
       "   'href': 'https://dev-rspy.esa-copernicus.eu/catalog/jgaucher/collections/S1_L1/items/item_0'}]}"
      ]
     },
     "execution_count": 20,
     "metadata": {},
     "output_type": "execute_result"
    }
   ],
   "source": [
    "import requests\n",
    "import json\n",
    "\n",
    "get_response = requests.get(f\"{RS_SERVER_ROOT_URL}/catalog/collections/jgaucher:S1_L1/items/item_0\", **HEADERS)\n",
    "get_response.raise_for_status()\n",
    "\n",
    "item = json.loads(get_response.content)\n",
    "item"
   ]
  },
  {
   "cell_type": "markdown",
   "id": "77290133-d0b5-476d-926a-08be8fac62c6",
   "metadata": {},
   "source": [
    "The previous commands will display a single item from esmeralda S1_L1 collection"
   ]
  },
  {
   "cell_type": "markdown",
   "id": "08434e7a-c96c-4b6a-bfde-a9e0ec2e47ba",
   "metadata": {},
   "source": [
    "## Add 2 new items in jgaucher S1_L1 collection and search all items with the datetime: "
   ]
  },
  {
   "cell_type": "code",
   "execution_count": 21,
   "id": "affc850d-455b-44bf-9155-91ffd439d009",
   "metadata": {},
   "outputs": [],
   "source": [
    "item_1 = {\n",
    "            \"id\": \"item_1\",\n",
    "            \"bbox\": [-94.6334839, 37.0332547, -94.6005249, 37.0595608],\n",
    "            \"type\": \"Feature\",\n",
    "            \"geometry\": {\n",
    "                \"type\": \"Polygon\",\n",
    "                \"coordinates\": [\n",
    "                    [\n",
    "                        [-94.6334839, 37.0595608],\n",
    "                        [-94.6334839, 37.0332547],\n",
    "                        [-94.6005249, 37.0332547],\n",
    "                        [-94.6005249, 37.0595608],\n",
    "                        [-94.6334839, 37.0595608],\n",
    "                    ]\n",
    "                ],\n",
    "            },\n",
    "            \"collection\": \"S1_L1\",\n",
    "            \"properties\": {\n",
    "                \"gsd\": 0.5971642834779395,\n",
    "                \"width\": 2500,\n",
    "                \"height\": 2500,\n",
    "                \"datetime\": \"2000-03-02T00:00:00Z\",\n",
    "                \"proj:epsg\": 3857,\n",
    "                \"orientation\": \"nadir\",\n",
    "                \"owner_id\": \"jgaucher\",\n",
    "            },\n",
    "            \"stac_extensions\": [],\n",
    "            \"assets\": {\n",
    "                \"file\": {\n",
    "                    \"href\": \"s3://rs-cluster-temp/cadip/item1.dataset\",\n",
    "                    \"type\": \"image/tiff; application=geotiff; profile=cloud-optimized\",\n",
    "                    \"title\": \"NOAA STORM COG\",\n",
    "                },\n",
    "            },\n",
    "        }\n",
    "\n",
    "item_2 = {\n",
    "            \"id\": \"item_2\",\n",
    "            \"bbox\": [-94.6334839, 37.0332547, -94.6005249, 37.0595608],\n",
    "            \"type\": \"Feature\",\n",
    "            \"geometry\": {\n",
    "                \"type\": \"Polygon\",\n",
    "                \"coordinates\": [\n",
    "                    [\n",
    "                        [-94.6334839, 37.0595608],\n",
    "                        [-94.6334839, 37.0332547],\n",
    "                        [-94.6005249, 37.0332547],\n",
    "                        [-94.6005249, 37.0595608],\n",
    "                        [-94.6334839, 37.0595608],\n",
    "                    ]\n",
    "                ],\n",
    "            },\n",
    "            \"collection\": \"S1_L1\",\n",
    "            \"properties\": {\n",
    "                \"gsd\": 0.5971642834779395,\n",
    "                \"width\": 2500,\n",
    "                \"height\": 2500,\n",
    "                \"datetime\": \"2000-03-02T00:00:00Z\",\n",
    "                \"proj:epsg\": 3857,\n",
    "                \"orientation\": \"nadir\",\n",
    "                \"owner_id\": \"jgaucher\",\n",
    "            },\n",
    "            \"stac_extensions\": [],\n",
    "            \"assets\": {\n",
    "                \"file\": {\n",
    "                    \"href\": \"s3://rs-cluster-temp/cadip/item2.dataset\",\n",
    "                    \"type\": \"image/tiff; application=geotiff; profile=cloud-optimized\",\n",
    "                    \"title\": \"NOAA STORM COG\",\n",
    "                },\n",
    "            },\n",
    "        }\n",
    "# Create empty dummy data files for this demo\n",
    "import tempfile\n",
    "for item_name in (\"cadip/item1.dataset\", \"cadip/item2.dataset\"):\n",
    "    with tempfile.NamedTemporaryFile() as tmp:\n",
    "        s3_client.upload_file (tmp.name, TEMP_BUCKET, item_name)\n",
    "\n",
    "# Save the current datetime (no ms, no time zone)\n",
    "from datetime import datetime\n",
    "demo_start_time = datetime.now().replace(microsecond=0).astimezone()\n",
    "post = requests.post(f\"{RS_SERVER_ROOT_URL}/catalog/collections/jgaucher:S1_L1/items\", json=item_1, **HEADERS)\n",
    "post.raise_for_status()\n",
    "post = requests.post(f\"{RS_SERVER_ROOT_URL}/catalog/collections/jgaucher:S1_L1/items\", json=item_2, **HEADERS)\n",
    "post.raise_for_status()"
   ]
  },
  {
   "cell_type": "code",
   "execution_count": 22,
   "id": "ac046642-65bd-4c09-a330-eec683d3691e",
   "metadata": {},
   "outputs": [
    {
     "data": {
      "text/plain": [
       "{'type': 'FeatureCollection',\n",
       " 'context': {'limit': 10, 'returned': 2},\n",
       " 'features': [{'id': 'item_2',\n",
       "   'bbox': [-94.6334839, 37.0332547, -94.6005249, 37.0595608],\n",
       "   'type': 'Feature',\n",
       "   'assets': {'file': {'href': 'https://rs-server/catalog/jgaucher/collections/S1_L1/items/item2.dataset/download/file',\n",
       "     'type': 'image/tiff; application=geotiff; profile=cloud-optimized',\n",
       "     'title': 'NOAA STORM COG',\n",
       "     'alternate': {'s3': {'href': 's3://rs-cluster-catalog/cadip/item2.dataset'}}}},\n",
       "   'geometry': {'type': 'Polygon',\n",
       "    'coordinates': [[[-94.6334839, 37.0595608],\n",
       "      [-94.6334839, 37.0332547],\n",
       "      [-94.6005249, 37.0332547],\n",
       "      [-94.6005249, 37.0595608],\n",
       "      [-94.6334839, 37.0595608]]]},\n",
       "   'collection': 'S1_L1',\n",
       "   'properties': {'gsd': 0.5971642834779395,\n",
       "    'owner': 'jgaucher',\n",
       "    'width': 2500,\n",
       "    'height': 2500,\n",
       "    'datetime': '2000-03-02T00:00:00Z',\n",
       "    'owner_id': 'jgaucher',\n",
       "    'proj:epsg': 3857,\n",
       "    'orientation': 'nadir'},\n",
       "   'stac_extensions': ['https://stac-extensions.github.io/alternate-assets/v1.1.0/schema.json'],\n",
       "   'links': [{'rel': 'collection',\n",
       "     'type': 'application/json',\n",
       "     'href': 'https://dev-rspy.esa-copernicus.eu/catalog/jgaucher/collections/S1_L1'},\n",
       "    {'rel': 'parent',\n",
       "     'type': 'application/json',\n",
       "     'href': 'https://dev-rspy.esa-copernicus.eu/catalog/jgaucher/collections/S1_L1'},\n",
       "    {'rel': 'root',\n",
       "     'type': 'application/json',\n",
       "     'href': 'https://dev-rspy.esa-copernicus.eu/catalog/jgaucher'},\n",
       "    {'rel': 'self',\n",
       "     'type': 'application/geo+json',\n",
       "     'href': 'https://dev-rspy.esa-copernicus.eu/catalog/jgaucher/collections/S1_L1/items/item_2'}]},\n",
       "  {'id': 'item_1',\n",
       "   'bbox': [-94.6334839, 37.0332547, -94.6005249, 37.0595608],\n",
       "   'type': 'Feature',\n",
       "   'assets': {'file': {'href': 'https://rs-server/catalog/jgaucher/collections/S1_L1/items/item1.dataset/download/file',\n",
       "     'type': 'image/tiff; application=geotiff; profile=cloud-optimized',\n",
       "     'title': 'NOAA STORM COG',\n",
       "     'alternate': {'s3': {'href': 's3://rs-cluster-catalog/cadip/item1.dataset'}}}},\n",
       "   'geometry': {'type': 'Polygon',\n",
       "    'coordinates': [[[-94.6334839, 37.0595608],\n",
       "      [-94.6334839, 37.0332547],\n",
       "      [-94.6005249, 37.0332547],\n",
       "      [-94.6005249, 37.0595608],\n",
       "      [-94.6334839, 37.0595608]]]},\n",
       "   'collection': 'S1_L1',\n",
       "   'properties': {'gsd': 0.5971642834779395,\n",
       "    'owner': 'jgaucher',\n",
       "    'width': 2500,\n",
       "    'height': 2500,\n",
       "    'datetime': '2000-03-02T00:00:00Z',\n",
       "    'owner_id': 'jgaucher',\n",
       "    'proj:epsg': 3857,\n",
       "    'orientation': 'nadir'},\n",
       "   'stac_extensions': ['https://stac-extensions.github.io/alternate-assets/v1.1.0/schema.json'],\n",
       "   'links': [{'rel': 'collection',\n",
       "     'type': 'application/json',\n",
       "     'href': 'https://dev-rspy.esa-copernicus.eu/catalog/jgaucher/collections/S1_L1'},\n",
       "    {'rel': 'parent',\n",
       "     'type': 'application/json',\n",
       "     'href': 'https://dev-rspy.esa-copernicus.eu/catalog/jgaucher/collections/S1_L1'},\n",
       "    {'rel': 'root',\n",
       "     'type': 'application/json',\n",
       "     'href': 'https://dev-rspy.esa-copernicus.eu/catalog/jgaucher'},\n",
       "    {'rel': 'self',\n",
       "     'type': 'application/geo+json',\n",
       "     'href': 'https://dev-rspy.esa-copernicus.eu/catalog/jgaucher/collections/S1_L1/items/item_1'}]}],\n",
       " 'links': [{'rel': 'root',\n",
       "   'type': 'application/json',\n",
       "   'href': 'https://dev-rspy.esa-copernicus.eu/catalog/jgaucher'},\n",
       "  {'rel': 'self',\n",
       "   'type': 'application/json',\n",
       "   'href': 'https://dev-rspy.esa-copernicus.eu/search?collections=jgaucher_S1_L1&filter=datetime%3D%272000-03-02T00%3A00%3A00Z%27+AND+owner_id%3D%27jgaucher%27&filter-lang=cql2-text'}]}"
      ]
     },
     "execution_count": 22,
     "metadata": {},
     "output_type": "execute_result"
    }
   ],
   "source": [
    "parameters = {\"collections\": [\"S1_L1\"], \"filter\": \"datetime='2000-03-02T00:00:00Z' AND owner_id='jgaucher'\"}\n",
    "search_response = requests.get(f\"{RS_SERVER_ROOT_URL}/catalog/search\", params=parameters, **HEADERS)\n",
    "search_response.raise_for_status()\n",
    "\n",
    "result = json.loads(search_response.content)\n",
    "result"
   ]
  },
  {
   "cell_type": "markdown",
   "id": "96116b94-2387-4eec-9342-0258714e35f5",
   "metadata": {},
   "source": [
    "The previous command will display the result from the search endpoint with specifics parameters such as the collection name or the datetime."
   ]
  },
  {
   "cell_type": "code",
   "execution_count": 23,
   "id": "29610333-39a0-4a0c-89e3-2707374c3aef",
   "metadata": {},
   "outputs": [
    {
     "data": {
      "text/plain": [
       "{'type': 'FeatureCollection',\n",
       " 'context': {'limit': 10, 'returned': 2},\n",
       " 'features': [{'id': 'item_2',\n",
       "   'bbox': [-94.6334839, 37.0332547, -94.6005249, 37.0595608],\n",
       "   'type': 'Feature',\n",
       "   'assets': {'file': {'href': 'https://rs-server/catalog/jgaucher/collections/S1_L1/items/item2.dataset/download/file',\n",
       "     'type': 'image/tiff; application=geotiff; profile=cloud-optimized',\n",
       "     'title': 'NOAA STORM COG',\n",
       "     'alternate': {'s3': {'href': 's3://rs-cluster-catalog/cadip/item2.dataset'}}}},\n",
       "   'geometry': {'type': 'Polygon',\n",
       "    'coordinates': [[[-94.6334839, 37.0595608],\n",
       "      [-94.6334839, 37.0332547],\n",
       "      [-94.6005249, 37.0332547],\n",
       "      [-94.6005249, 37.0595608],\n",
       "      [-94.6334839, 37.0595608]]]},\n",
       "   'collection': 'S1_L1',\n",
       "   'properties': {'gsd': 0.5971642834779395,\n",
       "    'owner': 'jgaucher',\n",
       "    'width': 2500,\n",
       "    'height': 2500,\n",
       "    'datetime': '2000-03-02T00:00:00Z',\n",
       "    'owner_id': 'jgaucher',\n",
       "    'proj:epsg': 3857,\n",
       "    'orientation': 'nadir'},\n",
       "   'stac_extensions': ['https://stac-extensions.github.io/alternate-assets/v1.1.0/schema.json'],\n",
       "   'links': [{'rel': 'collection',\n",
       "     'type': 'application/json',\n",
       "     'href': 'https://dev-rspy.esa-copernicus.eu/catalog/jgaucher/collections/S1_L1'},\n",
       "    {'rel': 'parent',\n",
       "     'type': 'application/json',\n",
       "     'href': 'https://dev-rspy.esa-copernicus.eu/catalog/jgaucher/collections/S1_L1'},\n",
       "    {'rel': 'root',\n",
       "     'type': 'application/json',\n",
       "     'href': 'https://dev-rspy.esa-copernicus.eu/catalog/jgaucher'},\n",
       "    {'rel': 'self',\n",
       "     'type': 'application/geo+json',\n",
       "     'href': 'https://dev-rspy.esa-copernicus.eu/catalog/jgaucher/collections/S1_L1/items/item_2'}]},\n",
       "  {'id': 'item_1',\n",
       "   'bbox': [-94.6334839, 37.0332547, -94.6005249, 37.0595608],\n",
       "   'type': 'Feature',\n",
       "   'assets': {'file': {'href': 'https://rs-server/catalog/jgaucher/collections/S1_L1/items/item1.dataset/download/file',\n",
       "     'type': 'image/tiff; application=geotiff; profile=cloud-optimized',\n",
       "     'title': 'NOAA STORM COG',\n",
       "     'alternate': {'s3': {'href': 's3://rs-cluster-catalog/cadip/item1.dataset'}}}},\n",
       "   'geometry': {'type': 'Polygon',\n",
       "    'coordinates': [[[-94.6334839, 37.0595608],\n",
       "      [-94.6334839, 37.0332547],\n",
       "      [-94.6005249, 37.0332547],\n",
       "      [-94.6005249, 37.0595608],\n",
       "      [-94.6334839, 37.0595608]]]},\n",
       "   'collection': 'S1_L1',\n",
       "   'properties': {'gsd': 0.5971642834779395,\n",
       "    'owner': 'jgaucher',\n",
       "    'width': 2500,\n",
       "    'height': 2500,\n",
       "    'datetime': '2000-03-02T00:00:00Z',\n",
       "    'owner_id': 'jgaucher',\n",
       "    'proj:epsg': 3857,\n",
       "    'orientation': 'nadir'},\n",
       "   'stac_extensions': ['https://stac-extensions.github.io/alternate-assets/v1.1.0/schema.json'],\n",
       "   'links': [{'rel': 'collection',\n",
       "     'type': 'application/json',\n",
       "     'href': 'https://dev-rspy.esa-copernicus.eu/catalog/jgaucher/collections/S1_L1'},\n",
       "    {'rel': 'parent',\n",
       "     'type': 'application/json',\n",
       "     'href': 'https://dev-rspy.esa-copernicus.eu/catalog/jgaucher/collections/S1_L1'},\n",
       "    {'rel': 'root',\n",
       "     'type': 'application/json',\n",
       "     'href': 'https://dev-rspy.esa-copernicus.eu/catalog/jgaucher'},\n",
       "    {'rel': 'self',\n",
       "     'type': 'application/geo+json',\n",
       "     'href': 'https://dev-rspy.esa-copernicus.eu/catalog/jgaucher/collections/S1_L1/items/item_1'}]}],\n",
       " 'links': [{'rel': 'root',\n",
       "   'type': 'application/json',\n",
       "   'href': 'https://dev-rspy.esa-copernicus.eu/catalog/jgaucher'},\n",
       "  {'rel': 'self',\n",
       "   'type': 'application/json',\n",
       "   'href': 'https://dev-rspy.esa-copernicus.eu/search'}]}"
      ]
     },
     "execution_count": 23,
     "metadata": {},
     "output_type": "execute_result"
    }
   ],
   "source": [
    "json_parameters = {\n",
    "    \"collections\": [\"S1_L1\"],\n",
    "    \"filter-lang\": \"cql2-json\",\n",
    "    \"filter\": {\n",
    "        \"op\": \"and\",\n",
    "        \"args\": [\n",
    "            {\"op\": \"=\", \"args\": [{\"property\": \"owner_id\"}, \"jgaucher\"]},\n",
    "            {\"op\": \"=\", \"args\": [{\"property\": \"datetime\"}, \"2000-03-02T00:00:00Z\"]},\n",
    "        ],\n",
    "    },\n",
    "}\n",
    "\n",
    "search_response = requests.post(f\"{RS_SERVER_ROOT_URL}/catalog/search\", json=json_parameters, **HEADERS)\n",
    "search_response.raise_for_status()\n",
    "\n",
    "result = json.loads(search_response.content)\n",
    "result"
   ]
  },
  {
   "cell_type": "markdown",
   "id": "09dee026-6bfc-450c-8828-b856786bbb60",
   "metadata": {},
   "source": [
    "We can do the same operation using a post request."
   ]
  },
  {
   "cell_type": "markdown",
   "id": "bf024175-a0d7-4ef2-b84d-8d59b7c43d7f",
   "metadata": {},
   "source": [
    "## Update the item_0 from the jgaucher S1_L1 collection"
   ]
  },
  {
   "cell_type": "code",
   "execution_count": 24,
   "id": "e6c73d49-13b3-42ca-b0d8-0d34ce726ac9",
   "metadata": {},
   "outputs": [
    {
     "data": {
      "text/plain": [
       "{'type': 'Feature',\n",
       " 'stac_extensions': ['https://stac-extensions.github.io/alternate-assets/v1.1.0/schema.json'],\n",
       " 'id': 'item_0',\n",
       " 'geometry': {'type': 'Polygon',\n",
       "  'coordinates': [[[-100, 37.0595608],\n",
       "    [-108, 37.0332547],\n",
       "    [-100, 37.0332547],\n",
       "    [-111, 37.0595608],\n",
       "    [-100, 37.0595608]]]},\n",
       " 'bbox': [-94.6334839, 37.0332547, -94.6005249, 37.0595608],\n",
       " 'properties': {'gsd': 0.5971642834779395,\n",
       "  'width': 5000,\n",
       "  'height': 2500,\n",
       "  'datetime': '2014-02-02T00:00:00Z',\n",
       "  'proj:epsg': 3857,\n",
       "  'orientation': 'nadir',\n",
       "  'owner_id': 'jgaucher',\n",
       "  'owner': 'jgaucher'},\n",
       " 'assets': {'file': {'href': 'https://rs-server/catalog/jgaucher/collections/S1_L1/items/item2.dataset/download/file',\n",
       "   'type': 'image/tiff; application=geotiff; profile=cloud-optimized',\n",
       "   'title': 'NOAA STORM COG',\n",
       "   'alternate': {'s3': {'href': 's3://rs-cluster-catalog/cadip/item2.dataset'}}}},\n",
       " 'collection': 'jgaucher_S1_L1',\n",
       " 'links': [{'rel': 'collection',\n",
       "   'type': 'application/json',\n",
       "   'href': 'https://dev-rspy.esa-copernicus.eu/collections/jgaucher_S1_L1'},\n",
       "  {'rel': 'parent',\n",
       "   'type': 'application/json',\n",
       "   'href': 'https://dev-rspy.esa-copernicus.eu/collections/jgaucher_S1_L1'},\n",
       "  {'rel': 'root',\n",
       "   'type': 'application/json',\n",
       "   'href': 'https://dev-rspy.esa-copernicus.eu/'},\n",
       "  {'rel': 'self',\n",
       "   'type': 'application/geo+json',\n",
       "   'href': 'https://dev-rspy.esa-copernicus.eu/collections/jgaucher_S1_L1/items/item_0'}]}"
      ]
     },
     "execution_count": 24,
     "metadata": {},
     "output_type": "execute_result"
    }
   ],
   "source": [
    "new_item_0 = {\n",
    "            \"id\": \"item_0\",\n",
    "            \"bbox\": [-94.6334839, 37.0332547, -94.6005249, 37.0595608],\n",
    "            \"type\": \"Feature\",\n",
    "            \"geometry\": {\n",
    "                \"type\": \"Polygon\",\n",
    "                \"coordinates\": [\n",
    "                    [\n",
    "                        [-100, 37.0595608],\n",
    "                        [-108, 37.0332547],\n",
    "                        [-100, 37.0332547],\n",
    "                        [-111, 37.0595608],\n",
    "                        [-100, 37.0595608],\n",
    "                    ]\n",
    "                ],\n",
    "            },\n",
    "            \"collection\": \"S1_L1\",\n",
    "            \"properties\": {\n",
    "                \"gsd\": 0.5971642834779395,\n",
    "                \"width\": 5000,\n",
    "                \"height\": 2500,\n",
    "                \"datetime\": \"2014-02-02T00:00:00Z\",\n",
    "                \"proj:epsg\": 3857,\n",
    "                \"orientation\": \"nadir\",\n",
    "                \"owner_id\": \"jgaucher\",\n",
    "            },\n",
    "            \"stac_extensions\": [],\n",
    "            \"assets\": {\n",
    "                \"file\": {\n",
    "                    \"href\": \"s3://rs-cluster-temp/cadip/item2.dataset\",\n",
    "                    \"type\": \"image/tiff; application=geotiff; profile=cloud-optimized\",\n",
    "                    \"title\": \"NOAA STORM COG\",\n",
    "                },\n",
    "            },\n",
    "        }\n",
    "# Create empty dummy data files for this demo\n",
    "import tempfile\n",
    "for item_name in (\"cadip/item1.dataset\", \"cadip/item2.dataset\"):\n",
    "    with tempfile.NamedTemporaryFile() as tmp:\n",
    "        s3_client.upload_file (tmp.name, TEMP_BUCKET, item_name)\n",
    "        \n",
    "update_response = requests.put(f\"{RS_SERVER_ROOT_URL}/catalog/collections/jgaucher:S1_L1/items/item_0\", json=new_item_0, **HEADERS)\n",
    "update_response.raise_for_status()\n",
    "\n",
    "result = json.loads(update_response.content)\n",
    "result"
   ]
  },
  {
   "cell_type": "markdown",
   "id": "54614d9c-e5cd-46ee-973b-49ac0cfffd5b",
   "metadata": {},
   "source": [
    "The previous command will update the item_0 from the Esmeralda S1_L1 collection by changing geometry, width and datetime."
   ]
  },
  {
   "cell_type": "code",
   "execution_count": 25,
   "id": "1683227f-0932-40f6-af56-a6c52b90491d",
   "metadata": {},
   "outputs": [],
   "source": [
    "# Check that the asset was copied to the final catalog bucket\n",
    "item1_time = s3_client.head_object(Bucket=FINAL_BUCKET, Key=\"cadip/item2.dataset\")[\"LastModified\"]\n",
    "assert item1_time >= demo_start_time, \\\n",
    "       f\"'{item1_time}' should be >= '{demo_start_time}'\"\n",
    "\n",
    "# And was removed from the temp bucket\n",
    "assert \"Contents\" not in s3_client.list_objects(Bucket=TEMP_BUCKET, Prefix=\"cadip/item2.dataset\"), \\\n",
    "       \"Should have been removed from the temp bucket\""
   ]
  },
  {
   "cell_type": "markdown",
   "id": "491fbcdf-a46e-4993-b167-813abae9f16f",
   "metadata": {},
   "source": [
    "## Update the collection S1_L1 from the jgaucher catalog"
   ]
  },
  {
   "cell_type": "code",
   "execution_count": 26,
   "id": "1bea3dac-b851-4cc1-8765-ff9545e51860",
   "metadata": {},
   "outputs": [
    {
     "data": {
      "text/plain": [
       "{'id': 'S1_L1',\n",
       " 'type': 'Collection',\n",
       " 'description': 'This is the new description for the S1_L1 collection for jgaucher user.',\n",
       " 'stac_version': '1.0.0',\n",
       " 'owner': 'jgaucher',\n",
       " 'links': [{'rel': 'items',\n",
       "   'type': 'application/geo+json',\n",
       "   'href': 'https://dev-rspy.esa-copernicus.eu/catalog/jgaucher/collections/S1_L1/items'},\n",
       "  {'rel': 'parent',\n",
       "   'type': 'application/json',\n",
       "   'href': 'https://dev-rspy.esa-copernicus.eu/catalog/jgaucher'},\n",
       "  {'rel': 'root',\n",
       "   'type': 'application/json',\n",
       "   'href': 'https://dev-rspy.esa-copernicus.eu/catalog/jgaucher'},\n",
       "  {'rel': 'self',\n",
       "   'type': 'application/json',\n",
       "   'href': 'https://dev-rspy.esa-copernicus.eu/catalog/jgaucher/collections/S1_L1'}]}"
      ]
     },
     "execution_count": 26,
     "metadata": {},
     "output_type": "execute_result"
    }
   ],
   "source": [
    "new_collection_S1_L1 = {\n",
    "            \"id\": \"S1_L1\",\n",
    "            \"type\": \"Collection\",\n",
    "            \"description\": \"This is the new description for the S1_L1 collection for jgaucher user.\",\n",
    "            \"stac_version\": \"1.0.0\",\n",
    "            \"owner\": \"jgaucher\"\n",
    "        }\n",
    "\n",
    "update_response = requests.put(f\"{RS_SERVER_ROOT_URL}/catalog/collections\", json=new_collection_S1_L1, **HEADERS)\n",
    "update_response.raise_for_status()\n",
    "\n",
    "result = json.loads(update_response.content)\n",
    "result"
   ]
  },
  {
   "cell_type": "markdown",
   "id": "ed15f73e-92e4-4d23-bae6-08eb1874057b",
   "metadata": {},
   "source": [
    "The previous command will update the collection S1_L1 from the Esmeralda catalog by changing the collection description."
   ]
  },
  {
   "cell_type": "markdown",
   "id": "1ae54cb5-52d6-440b-8e67-8618f00db054",
   "metadata": {},
   "source": [
    "## Get all the accessible collections from the user ycolera"
   ]
  },
  {
   "cell_type": "code",
   "execution_count": 27,
   "id": "c9cbfef2-5477-45dc-afe6-8df3134675be",
   "metadata": {
    "scrolled": true
   },
   "outputs": [
    {
     "data": {
      "text/plain": [
       "{'collections': [{'id': 'toto_sentinel1-grd',\n",
       "   'type': 'Collection',\n",
       "   'links': [{'rel': 'items',\n",
       "     'type': 'application/geo+json',\n",
       "     'href': 'https://dev-rspy.esa-copernicus.eu/collections/toto_sentinel1-grd/items'},\n",
       "    {'rel': 'parent',\n",
       "     'type': 'application/json',\n",
       "     'href': 'https://dev-rspy.esa-copernicus.eu/'},\n",
       "    {'rel': 'root',\n",
       "     'type': 'application/json',\n",
       "     'href': 'https://dev-rspy.esa-copernicus.eu/'},\n",
       "    {'rel': 'self',\n",
       "     'type': 'application/json',\n",
       "     'href': 'https://dev-rspy.esa-copernicus.eu/collections/toto_sentinel1-grd'},\n",
       "    {'rel': 'license',\n",
       "     'href': 'https://scihub.copernicus.eu/twiki/do/view/SciHubWebPortal/TermsConditions',\n",
       "     'title': 'Sentinel License'},\n",
       "    {'rel': 'about',\n",
       "     'href': 'https://sentinels.copernicus.eu/web/sentinel/technical-guides/sentinel-1-sar/products-algorithms/level-1-algorithms/ground-range-detected',\n",
       "     'title': 'Sentinel-1 Ground Range Detected (GRD) Technical Guide'}],\n",
       "   'title': 'Sentinel-1 GRD',\n",
       "   'extent': {'spatial': {'bbox': [[-180.0, -90.0, 180.0, 90.0]]},\n",
       "    'temporal': {'interval': [['2014-10-10T00:00:00Z', None]]}},\n",
       "   'license': 'proprietary',\n",
       "   'keywords': ['ground', 'sentinel', 'copernicus', 'esa', 'sar'],\n",
       "   'providers': [{'url': 'https://earth.esa.int/eogateway',\n",
       "     'name': 'ESA',\n",
       "     'roles': ['producer', 'processor', 'licensor']},\n",
       "    {'url': 'https://registry.opendata.aws/sentinel-1/',\n",
       "     'name': 'Sinergise',\n",
       "     'roles': ['host', 'processor', 'licensor']}],\n",
       "   'summaries': {'platform': ['sentinel-1a', 'sentinel-1b'],\n",
       "    'constellation': ['sentinel-1'],\n",
       "    'sar:looks_range': [2, 3, 5, 6],\n",
       "    'sat:orbit_state': ['ascending', 'descending'],\n",
       "    'sar:product_type': ['GRD'],\n",
       "    'sar:looks_azimuth': [1, 2, 6],\n",
       "    'sar:polarizations': ['HH', 'VV', 'HV', 'VH', ['HH', 'HV'], ['VV', 'VH']],\n",
       "    'sar:frequency_band': ['C'],\n",
       "    'sar:instrument_mode': ['IW', 'EW', 'SM'],\n",
       "    'sar:center_frequency': [5.405],\n",
       "    'sar:resolution_range': [9, 20, 23, 50, 93],\n",
       "    'sar:resolution_azimuth': [9, 22, 23, 50, 87],\n",
       "    'sar:pixel_spacing_range': [3.5, 10, 25, 40],\n",
       "    'sar:observation_direction': ['right'],\n",
       "    'sar:pixel_spacing_azimuth': [3.5, 10, 25, 40],\n",
       "    'sar:looks_equivalent_number': [3.7,\n",
       "     29.7,\n",
       "     398.4,\n",
       "     4.4,\n",
       "     81.8,\n",
       "     2.8,\n",
       "     10.7,\n",
       "     123.7]},\n",
       "   'description': 'Level-1 Ground Range Detected (GRD) products consist of focused SAR data that has been detected, multi-looked and projected to ground range using an Earth ellipsoid model. The ellipsoid projection of the GRD products is corrected using the terrain height specified in the product general annotation. The terrain height used varies in azimuth but is constant in range. Ground range coordinates are the slant range coordinates projected onto the ellipsoid of the Earth. Pixel values represent detected magnitude. Phase information is lost. The resulting product has approximately square spatial resolution and square pixel spacing with reduced speckle due to the multi-look processing. The noise vector annotation data set, within the product annotations, contains thermal noise vectors so that users can apply a thermal noise correction by subtracting the noise from the power detected image. The thermal noise correction is, for example, supported by the Sentinel-1 Toolbox (S1TBX). For the IW and EW GRD products, multi-looking is performed on each burst individually. All bursts in all sub-swaths are then seamlessly merged to form a single, contiguous, ground range detected image per polarization channel.GRD products are available in three resolutions, characterised by the acquisition mode and the level of multi-looking applied: Full Resolution (FR), High Resolution (HR), Medium Resolution (MR).',\n",
       "   'item_assets': {'hh': {'type': 'image/tiff; application=geotiff; profile=cloud-optimized',\n",
       "     'roles': ['data'],\n",
       "     'title': 'HH Data',\n",
       "     'description': 'HH polarization backscattering coefficient, 16-bit DN.'},\n",
       "    'hv': {'type': 'image/tiff; application=geotiff; profile=cloud-optimized',\n",
       "     'roles': ['data'],\n",
       "     'title': 'HV Data',\n",
       "     'description': 'HV polarization backscattering coefficient, 16-bit DN.'},\n",
       "    'vh': {'type': 'image/tiff; application=geotiff; profile=cloud-optimized',\n",
       "     'roles': ['data'],\n",
       "     'title': 'VH Data',\n",
       "     'description': 'VH polarization backscattering coefficient, 16-bit DN.'},\n",
       "    'vv': {'type': 'image/tiff; application=geotiff; profile=cloud-optimized',\n",
       "     'roles': ['data'],\n",
       "     'title': 'VV Data',\n",
       "     'description': 'VV polarization backscattering coefficient, 16-bit DN.'},\n",
       "    'thumbnail': {'type': 'image/png',\n",
       "     'roles': ['thumbnail'],\n",
       "     'title': 'Preview Image',\n",
       "     'description': 'An averaged, decimated preview image in PNG format. Single polarization products are represented with a grey scale image. Dual polarization products are represented by a single composite colour image in RGB with the red channel (R) representing the  co-polarization VV or HH), the green channel (G) represents the cross-polarization (VH or HV) and the blue channel (B) represents the ratio of the cross an co-polarizations.'},\n",
       "    'safe-manifest': {'type': 'application/xml',\n",
       "     'roles': ['metadata'],\n",
       "     'title': 'Manifest File',\n",
       "     'description': \"General product metadata in XML format. Contains a high-level textual description of the product and references to all of product's components, the product metadata, including the product identification and the resource references, and references to the physical location of each component file contained in the product.\"},\n",
       "    'schema-noise-hh': {'type': 'application/xml',\n",
       "     'roles': ['metadata'],\n",
       "     'title': 'HH Noise Schema',\n",
       "     'description': 'Estimated thermal noise look-up tables'},\n",
       "    'schema-noise-hv': {'type': 'application/xml',\n",
       "     'roles': ['metadata'],\n",
       "     'title': 'HV Noise Schema',\n",
       "     'description': 'Estimated thermal noise look-up tables'},\n",
       "    'schema-noise-vh': {'type': 'application/xml',\n",
       "     'roles': ['metadata'],\n",
       "     'title': 'VH Noise Schema',\n",
       "     'description': 'Estimated thermal noise look-up tables'},\n",
       "    'schema-noise-vv': {'type': 'application/xml',\n",
       "     'roles': ['metadata'],\n",
       "     'title': 'VV Noise Schema',\n",
       "     'description': 'Estimated thermal noise look-up tables'},\n",
       "    'schema-product-hh': {'type': 'application/xml',\n",
       "     'roles': ['metadata'],\n",
       "     'title': 'HH Product Schema',\n",
       "     'description': 'Describes the main characteristics corresponding to the band: state of the platform during acquisition, image properties, Doppler information, geographic location, etc.'},\n",
       "    'schema-product-hv': {'type': 'application/xml',\n",
       "     'roles': ['metadata'],\n",
       "     'title': 'HV Product Schema',\n",
       "     'description': 'Describes the main characteristics corresponding to the band: state of the platform during acquisition, image properties, Doppler information, geographic location, etc.'},\n",
       "    'schema-product-vh': {'type': 'application/xml',\n",
       "     'roles': ['metadata'],\n",
       "     'title': 'VH Product Schema',\n",
       "     'description': 'Describes the main characteristics corresponding to the band: state of the platform during acquisition, image properties, Doppler information, geographic location, etc.'},\n",
       "    'schema-product-vv': {'type': 'application/xml',\n",
       "     'roles': ['metadata'],\n",
       "     'title': 'VV Product Schema',\n",
       "     'description': 'Describes the main characteristics corresponding to the band: state of the platform during acquisition, image properties, Doppler information, geographic location, etc.'},\n",
       "    'schema-calibration-hh': {'type': 'application/xml',\n",
       "     'roles': ['metadata'],\n",
       "     'title': 'HH Calibration Schema',\n",
       "     'description': 'Calibration metadata including calibration information and the beta nought, sigma nought, gamma and digital number look-up tables that can be used for absolute product calibration.'},\n",
       "    'schema-calibration-hv': {'type': 'application/xml',\n",
       "     'roles': ['metadata'],\n",
       "     'title': 'HV Calibration Schema',\n",
       "     'description': 'Calibration metadata including calibration information and the beta nought, sigma nought, gamma and digital number look-up tables that can be used for absolute product calibration.'},\n",
       "    'schema-calibration-vh': {'type': 'application/xml',\n",
       "     'roles': ['metadata'],\n",
       "     'title': 'VH Calibration Schema',\n",
       "     'description': 'Calibration metadata including calibration information and the beta nought, sigma nought, gamma and digital number look-up tables that can be used for absolute product calibration.'},\n",
       "    'schema-calibration-vv': {'type': 'application/xml',\n",
       "     'roles': ['metadata'],\n",
       "     'title': 'VV Calibration Schema',\n",
       "     'description': 'Calibration metadata including calibration information and the beta nought, sigma nought, gamma and digital number look-up tables that can be used for absolute product calibration.'}},\n",
       "   'stac_version': '1.0.0',\n",
       "   'stac_extensions': ['https://stac-extensions.github.io/sar/v1.0.0/schema.json',\n",
       "    'https://stac-extensions.github.io/sat/v1.0.0/schema.json',\n",
       "    'https://stac-extensions.github.io/eo/v1.0.0/schema.json',\n",
       "    'https://stac-extensions.github.io/item-assets/v1.0.0/schema.json']},\n",
       "  {'id': 'DemoUser_s1_dpr',\n",
       "   'type': 'Collection',\n",
       "   'owner': 'DemoUser',\n",
       "   'description': 'test_description',\n",
       "   'stac_version': '1.0.0',\n",
       "   'links': [{'rel': 'items',\n",
       "     'type': 'application/geo+json',\n",
       "     'href': 'https://dev-rspy.esa-copernicus.eu/collections/DemoUser_s1_dpr/items'},\n",
       "    {'rel': 'parent',\n",
       "     'type': 'application/json',\n",
       "     'href': 'https://dev-rspy.esa-copernicus.eu/'},\n",
       "    {'rel': 'root',\n",
       "     'type': 'application/json',\n",
       "     'href': 'https://dev-rspy.esa-copernicus.eu/'},\n",
       "    {'rel': 'self',\n",
       "     'type': 'application/json',\n",
       "     'href': 'https://dev-rspy.esa-copernicus.eu/collections/DemoUser_s1_dpr'}]},\n",
       "  {'id': 'DemoUser_s1_chunk',\n",
       "   'type': 'Collection',\n",
       "   'links': [{'rel': 'items',\n",
       "     'type': 'application/geo+json',\n",
       "     'href': 'https://dev-rspy.esa-copernicus.eu/collections/DemoUser_s1_chunk/items'},\n",
       "    {'rel': 'parent',\n",
       "     'type': 'application/json',\n",
       "     'href': 'https://dev-rspy.esa-copernicus.eu/'},\n",
       "    {'rel': 'root',\n",
       "     'type': 'application/json',\n",
       "     'href': 'https://dev-rspy.esa-copernicus.eu/'},\n",
       "    {'rel': 'self',\n",
       "     'type': 'application/json',\n",
       "     'href': 'https://dev-rspy.esa-copernicus.eu/collections/DemoUser_s1_chunk'},\n",
       "    {'rel': 'items',\n",
       "     'href': 'http://localhost:8082/collections/s1_chunk/items',\n",
       "     'type': 'application/geo+json'},\n",
       "    {'rel': 'license',\n",
       "     'href': 'https://creativecommons.org/licenses/publicdomain/',\n",
       "     'title': 'public domain'}],\n",
       "   'owner': 'DemoUser',\n",
       "   'extent': {'spatial': {'bbox': [[-94.6911621,\n",
       "       37.0332547,\n",
       "       -94.402771,\n",
       "       37.1077651]]},\n",
       "    'temporal': {'interval': [['2000-02-01T00:00:00Z',\n",
       "       '2000-02-12T00:00:00Z']]}},\n",
       "   'license': 'public-domain',\n",
       "   'description': 'Some description',\n",
       "   'stac_version': '1.0.0'},\n",
       "  {'id': 'DemoUser_S1_L1',\n",
       "   'type': 'Collection',\n",
       "   'owner': 'DemoUser',\n",
       "   'description': 'The S1_L1 collection for DemoUser user.',\n",
       "   'stac_version': '1.0.0',\n",
       "   'links': [{'rel': 'items',\n",
       "     'type': 'application/geo+json',\n",
       "     'href': 'https://dev-rspy.esa-copernicus.eu/collections/DemoUser_S1_L1/items'},\n",
       "    {'rel': 'parent',\n",
       "     'type': 'application/json',\n",
       "     'href': 'https://dev-rspy.esa-copernicus.eu/'},\n",
       "    {'rel': 'root',\n",
       "     'type': 'application/json',\n",
       "     'href': 'https://dev-rspy.esa-copernicus.eu/'},\n",
       "    {'rel': 'self',\n",
       "     'type': 'application/json',\n",
       "     'href': 'https://dev-rspy.esa-copernicus.eu/collections/DemoUser_S1_L1'}]},\n",
       "  {'id': 'DemoUser_s1_aux',\n",
       "   'type': 'Collection',\n",
       "   'links': [{'rel': 'items',\n",
       "     'type': 'application/geo+json',\n",
       "     'href': 'https://dev-rspy.esa-copernicus.eu/collections/DemoUser_s1_aux/items'},\n",
       "    {'rel': 'parent',\n",
       "     'type': 'application/json',\n",
       "     'href': 'https://dev-rspy.esa-copernicus.eu/'},\n",
       "    {'rel': 'root',\n",
       "     'type': 'application/json',\n",
       "     'href': 'https://dev-rspy.esa-copernicus.eu/'},\n",
       "    {'rel': 'self',\n",
       "     'type': 'application/json',\n",
       "     'href': 'https://dev-rspy.esa-copernicus.eu/collections/DemoUser_s1_aux'},\n",
       "    {'rel': 'items',\n",
       "     'href': 'http://localhost:8082/collections/s1_aux/items',\n",
       "     'type': 'application/geo+json'},\n",
       "    {'rel': 'license',\n",
       "     'href': 'https://creativecommons.org/licenses/publicdomain/',\n",
       "     'title': 'public domain'}],\n",
       "   'owner': 'DemoUser',\n",
       "   'extent': {'spatial': {'bbox': [[-94.6911621,\n",
       "       37.0332547,\n",
       "       -94.402771,\n",
       "       37.1077651]]},\n",
       "    'temporal': {'interval': [['2000-02-01T00:00:00Z',\n",
       "       '2000-02-12T00:00:00Z']]}},\n",
       "   'license': 'public-domain',\n",
       "   'description': 'Some description',\n",
       "   'stac_version': '1.0.0'},\n",
       "  {'id': 'jgaucher_S1_L1',\n",
       "   'type': 'Collection',\n",
       "   'owner': 'jgaucher',\n",
       "   'description': 'This is the new description for the S1_L1 collection for jgaucher user.',\n",
       "   'stac_version': '1.0.0',\n",
       "   'links': [{'rel': 'items',\n",
       "     'type': 'application/geo+json',\n",
       "     'href': 'https://dev-rspy.esa-copernicus.eu/collections/jgaucher_S1_L1/items'},\n",
       "    {'rel': 'parent',\n",
       "     'type': 'application/json',\n",
       "     'href': 'https://dev-rspy.esa-copernicus.eu/'},\n",
       "    {'rel': 'root',\n",
       "     'type': 'application/json',\n",
       "     'href': 'https://dev-rspy.esa-copernicus.eu/'},\n",
       "    {'rel': 'self',\n",
       "     'type': 'application/json',\n",
       "     'href': 'https://dev-rspy.esa-copernicus.eu/collections/jgaucher_S1_L1'}]}],\n",
       " 'links': [{'rel': 'root',\n",
       "   'type': 'application/json',\n",
       "   'href': 'https://dev-rspy.esa-copernicus.eu/'},\n",
       "  {'rel': 'parent',\n",
       "   'type': 'application/json',\n",
       "   'href': 'https://dev-rspy.esa-copernicus.eu/'},\n",
       "  {'rel': 'self',\n",
       "   'type': 'application/json',\n",
       "   'href': 'https://dev-rspy.esa-copernicus.eu/collections'}]}"
      ]
     },
     "execution_count": 27,
     "metadata": {},
     "output_type": "execute_result"
    }
   ],
   "source": [
    "response = requests.get(f\"{RS_SERVER_ROOT_URL}/catalog/collections\", **HEADERS)\n",
    "response.raise_for_status()\n",
    "\n",
    "json.loads(response.content)"
   ]
  },
  {
   "cell_type": "markdown",
   "id": "94495df5-e092-45b5-8f89-95a5612ceb5c",
   "metadata": {},
   "source": [
    "The previous command show all the collection that the user \"ycolera\" has access to."
   ]
  },
  {
   "cell_type": "markdown",
   "id": "0305b082-8c1a-4e5d-9885-06c698aa4cb9",
   "metadata": {},
   "source": [
    "## Get the landing page"
   ]
  },
  {
   "cell_type": "code",
   "execution_count": 28,
   "id": "8adeaf87-c844-4b59-98b6-8bf400bc9fe8",
   "metadata": {
    "scrolled": true
   },
   "outputs": [
    {
     "data": {
      "text/plain": [
       "{'type': 'Catalog',\n",
       " 'id': 'stac-fastapi',\n",
       " 'title': 'stac-fastapi',\n",
       " 'description': 'stac-fastapi',\n",
       " 'stac_version': '1.0.0',\n",
       " 'conformsTo': ['https://api.stacspec.org/v1.0.0/ogcapi-features',\n",
       "  'https://api.stacspec.org/v1.0.0/item-search#fields',\n",
       "  'https://api.stacspec.org/v1.0.0/item-search',\n",
       "  'http://www.opengis.net/spec/cql2/1.0/conf/cql2-json',\n",
       "  'http://www.opengis.net/spec/cql2/1.0/conf/cql2-text',\n",
       "  'https://api.stacspec.org/v1.0.0/item-search#query',\n",
       "  'https://api.stacspec.org/v1.0.0/item-search#sort',\n",
       "  'https://api.stacspec.org/v1.0.0-rc.2/item-search#context',\n",
       "  'https://api.stacspec.org/v1.0.0/collections',\n",
       "  'http://www.opengis.net/spec/ogcapi-features-1/1.0/conf/core',\n",
       "  'https://api.stacspec.org/v1.0.0-rc.2/item-search#filter',\n",
       "  'http://www.opengis.net/spec/cql2/1.0/conf/basic-cql2',\n",
       "  'http://www.opengis.net/spec/ogcapi-features-3/1.0/conf/features-filter',\n",
       "  'https://api.stacspec.org/v1.0.0/core',\n",
       "  'https://api.stacspec.org/v1.0.0-rc.3/ogcapi-features/extensions/transaction',\n",
       "  'http://www.opengis.net/spec/ogcapi-features-3/1.0/conf/filter',\n",
       "  'http://www.opengis.net/spec/ogcapi-features-1/1.0/conf/geojson',\n",
       "  'http://www.opengis.net/spec/ogcapi-features-1/1.0/conf/oas30'],\n",
       " 'links': [{'rel': 'self',\n",
       "   'type': 'application/json',\n",
       "   'href': 'https://dev-rspy.esa-copernicus.eu/'},\n",
       "  {'rel': 'root',\n",
       "   'type': 'application/json',\n",
       "   'href': 'https://dev-rspy.esa-copernicus.eu/'},\n",
       "  {'rel': 'data',\n",
       "   'type': 'application/json',\n",
       "   'href': 'https://dev-rspy.esa-copernicus.eu/collections'},\n",
       "  {'rel': 'conformance',\n",
       "   'type': 'application/json',\n",
       "   'title': 'STAC/WFS3 conformance classes implemented by this server',\n",
       "   'href': 'https://dev-rspy.esa-copernicus.eu/conformance'},\n",
       "  {'rel': 'search',\n",
       "   'type': 'application/geo+json',\n",
       "   'title': 'STAC search',\n",
       "   'href': 'https://dev-rspy.esa-copernicus.eu/search',\n",
       "   'method': 'GET'},\n",
       "  {'rel': 'search',\n",
       "   'type': 'application/geo+json',\n",
       "   'title': 'STAC search',\n",
       "   'href': 'https://dev-rspy.esa-copernicus.eu/search',\n",
       "   'method': 'POST'},\n",
       "  {'rel': 'child',\n",
       "   'type': 'application/json',\n",
       "   'title': 'Sentinel-1 GRD',\n",
       "   'href': 'https://dev-rspy.esa-copernicus.eu/collections/toto_sentinel1-grd'},\n",
       "  {'rel': 'child',\n",
       "   'type': 'application/json',\n",
       "   'title': 'DemoUser_s1_dpr',\n",
       "   'href': 'https://dev-rspy.esa-copernicus.eu/collections/DemoUser_s1_dpr'},\n",
       "  {'rel': 'child',\n",
       "   'type': 'application/json',\n",
       "   'title': 'DemoUser_s1_chunk',\n",
       "   'href': 'https://dev-rspy.esa-copernicus.eu/collections/DemoUser_s1_chunk'},\n",
       "  {'rel': 'child',\n",
       "   'type': 'application/json',\n",
       "   'title': 'DemoUser_S1_L1',\n",
       "   'href': 'https://dev-rspy.esa-copernicus.eu/collections/DemoUser_S1_L1'},\n",
       "  {'rel': 'child',\n",
       "   'type': 'application/json',\n",
       "   'title': 'jgaucher_S1_L1',\n",
       "   'href': 'https://dev-rspy.esa-copernicus.eu/collections/jgaucher_S1_L1'},\n",
       "  {'rel': 'child',\n",
       "   'type': 'application/json',\n",
       "   'title': 'DemoUser_s1_aux',\n",
       "   'href': 'https://dev-rspy.esa-copernicus.eu/collections/DemoUser_s1_aux'},\n",
       "  {'rel': 'service-desc',\n",
       "   'type': 'application/vnd.oai.openapi+json;version=3.0',\n",
       "   'title': 'OpenAPI service description',\n",
       "   'href': 'https://dev-rspy.esa-copernicus.eu/api'},\n",
       "  {'rel': 'service-doc',\n",
       "   'type': 'text/html',\n",
       "   'title': 'OpenAPI service documentation',\n",
       "   'href': 'https://dev-rspy.esa-copernicus.eu/api.html'},\n",
       "  {'rel': 'child',\n",
       "   'type': 'application/json',\n",
       "   'href': 'https://dev-rspy.esa-copernicus.eu/catalog/DemoUser'},\n",
       "  {'rel': 'child',\n",
       "   'type': 'application/json',\n",
       "   'href': 'https://dev-rspy.esa-copernicus.eu/catalog/jgaucher'}],\n",
       " 'stac_extensions': []}"
      ]
     },
     "execution_count": 28,
     "metadata": {},
     "output_type": "execute_result"
    }
   ],
   "source": [
    "response = requests.get(f\"{RS_SERVER_ROOT_URL}/catalog/\", **HEADERS)\n",
    "response.raise_for_status()\n",
    "\n",
    "landing_page = json.loads(response.content)\n",
    "landing_page"
   ]
  },
  {
   "cell_type": "markdown",
   "id": "48fa3f87-70df-462b-8ab6-673daff98e84",
   "metadata": {},
   "source": [
    "The previous command loads the landing page of the user \"ycolera\". We can see all the collections and catalogs he has access to."
   ]
  },
  {
   "cell_type": "markdown",
   "id": "888768bb-5b97-4c14-a9f9-f99865bb4923",
   "metadata": {},
   "source": [
    "## Using an endpoint without being authenticated"
   ]
  },
  {
   "cell_type": "code",
   "execution_count": 29,
   "id": "75e4c2f3-ac32-498b-9b2b-35eeb06c319d",
   "metadata": {},
   "outputs": [
    {
     "data": {
      "text/plain": [
       "{'code': 'HTTPException', 'description': '403: Not authenticated'}"
      ]
     },
     "execution_count": 29,
     "metadata": {},
     "output_type": "execute_result"
    }
   ],
   "source": [
    "response = requests.get(f\"{RS_SERVER_ROOT_URL}/catalog/\")\n",
    "\n",
    "landing_page = json.loads(response.content)\n",
    "landing_page"
   ]
  },
  {
   "cell_type": "markdown",
   "id": "f7d957e2-a9d8-4f20-9f1b-6c764963f8b2",
   "metadata": {},
   "source": [
    "## Using an endpoint without being authorized"
   ]
  },
  {
   "cell_type": "code",
   "execution_count": 30,
   "id": "20be2361-8058-4df1-95c4-bee4f77d07a7",
   "metadata": {},
   "outputs": [
    {
     "data": {
      "text/plain": [
       "{'error': 'Unauthorized access.'}"
      ]
     },
     "execution_count": 30,
     "metadata": {},
     "output_type": "execute_result"
    }
   ],
   "source": [
    "toto_S1_L1 = {\n",
    "            \"id\": \"S1_L1\",\n",
    "            \"type\": \"Collection\",\n",
    "            \"description\": \"This is the new description for the S1_L1 collection for toto user.\",\n",
    "            \"stac_version\": \"1.0.0\",\n",
    "            \"owner\": \"toto\"\n",
    "        }\n",
    "\n",
    "response = requests.post(f\"{RS_SERVER_ROOT_URL}/catalog/collections\", json=toto_S1_L1, **HEADERS)\n",
    "\n",
    "content = json.loads(response.content)\n",
    "content"
   ]
  },
  {
   "cell_type": "markdown",
   "id": "d4c33dad-a55e-46d3-9b6f-8e4e3d671c8b",
   "metadata": {},
   "source": [
    "## Get the jgaucher catalog"
   ]
  },
  {
   "cell_type": "code",
   "execution_count": 31,
   "id": "d33c75f3-e108-41e2-aa00-321b03317989",
   "metadata": {
    "scrolled": true
   },
   "outputs": [
    {
     "data": {
      "text/plain": [
       "{'type': 'Catalog',\n",
       " 'id': 'stac-fastapi',\n",
       " 'title': 'stac-fastapi',\n",
       " 'description': 'stac-fastapi',\n",
       " 'stac_version': '1.0.0',\n",
       " 'conformsTo': ['https://api.stacspec.org/v1.0.0/ogcapi-features',\n",
       "  'https://api.stacspec.org/v1.0.0/item-search#fields',\n",
       "  'https://api.stacspec.org/v1.0.0/item-search',\n",
       "  'http://www.opengis.net/spec/cql2/1.0/conf/cql2-json',\n",
       "  'http://www.opengis.net/spec/cql2/1.0/conf/cql2-text',\n",
       "  'https://api.stacspec.org/v1.0.0/item-search#query',\n",
       "  'https://api.stacspec.org/v1.0.0/item-search#sort',\n",
       "  'https://api.stacspec.org/v1.0.0-rc.2/item-search#context',\n",
       "  'https://api.stacspec.org/v1.0.0/collections',\n",
       "  'http://www.opengis.net/spec/ogcapi-features-1/1.0/conf/core',\n",
       "  'https://api.stacspec.org/v1.0.0-rc.2/item-search#filter',\n",
       "  'http://www.opengis.net/spec/cql2/1.0/conf/basic-cql2',\n",
       "  'http://www.opengis.net/spec/ogcapi-features-3/1.0/conf/features-filter',\n",
       "  'https://api.stacspec.org/v1.0.0/core',\n",
       "  'https://api.stacspec.org/v1.0.0-rc.3/ogcapi-features/extensions/transaction',\n",
       "  'http://www.opengis.net/spec/ogcapi-features-3/1.0/conf/filter',\n",
       "  'http://www.opengis.net/spec/ogcapi-features-1/1.0/conf/geojson',\n",
       "  'http://www.opengis.net/spec/ogcapi-features-1/1.0/conf/oas30'],\n",
       " 'links': [{'rel': 'self',\n",
       "   'type': 'application/json',\n",
       "   'href': 'https://dev-rspy.esa-copernicus.eu/'},\n",
       "  {'rel': 'root',\n",
       "   'type': 'application/json',\n",
       "   'href': 'https://dev-rspy.esa-copernicus.eu/'},\n",
       "  {'rel': 'data',\n",
       "   'type': 'application/json',\n",
       "   'href': 'https://dev-rspy.esa-copernicus.eu/collections'},\n",
       "  {'rel': 'conformance',\n",
       "   'type': 'application/json',\n",
       "   'title': 'STAC/WFS3 conformance classes implemented by this server',\n",
       "   'href': 'https://dev-rspy.esa-copernicus.eu/conformance'},\n",
       "  {'rel': 'search',\n",
       "   'type': 'application/geo+json',\n",
       "   'title': 'STAC search',\n",
       "   'href': 'https://dev-rspy.esa-copernicus.eu/search',\n",
       "   'method': 'GET'},\n",
       "  {'rel': 'search',\n",
       "   'type': 'application/geo+json',\n",
       "   'title': 'STAC search',\n",
       "   'href': 'https://dev-rspy.esa-copernicus.eu/search',\n",
       "   'method': 'POST'},\n",
       "  {'rel': 'child',\n",
       "   'type': 'application/json',\n",
       "   'title': 'jgaucher_S1_L1',\n",
       "   'href': 'https://dev-rspy.esa-copernicus.eu/collections/jgaucher_S1_L1'},\n",
       "  {'rel': 'service-desc',\n",
       "   'type': 'application/vnd.oai.openapi+json;version=3.0',\n",
       "   'title': 'OpenAPI service description',\n",
       "   'href': 'https://dev-rspy.esa-copernicus.eu/api'},\n",
       "  {'rel': 'service-doc',\n",
       "   'type': 'text/html',\n",
       "   'title': 'OpenAPI service documentation',\n",
       "   'href': 'https://dev-rspy.esa-copernicus.eu/api.html'}],\n",
       " 'stac_extensions': []}"
      ]
     },
     "execution_count": 31,
     "metadata": {},
     "output_type": "execute_result"
    }
   ],
   "source": [
    "response = requests.get(f\"{RS_SERVER_ROOT_URL}/catalog/catalogs/jgaucher\", **HEADERS)\n",
    "response.raise_for_status()\n",
    "\n",
    "catalog_jgaucher = json.loads(response.content)\n",
    "catalog_jgaucher"
   ]
  },
  {
   "cell_type": "markdown",
   "id": "23d6c7bf-f6a8-4d96-9e61-1b9d4a2a7f34",
   "metadata": {},
   "source": [
    "## Get an unauthorized catalog"
   ]
  },
  {
   "cell_type": "code",
   "execution_count": 32,
   "id": "0d7f4198-5f2e-415d-ad4b-a8a29753a763",
   "metadata": {},
   "outputs": [
    {
     "data": {
      "text/plain": [
       "{'error': 'Unauthorized access.'}"
      ]
     },
     "execution_count": 32,
     "metadata": {},
     "output_type": "execute_result"
    }
   ],
   "source": [
    "response = requests.get(f\"{RS_SERVER_ROOT_URL}/catalog/catalogs/titi\", **HEADERS)\n",
    "\n",
    "catalog_jgaucher = json.loads(response.content)\n",
    "catalog_jgaucher"
   ]
  },
  {
   "cell_type": "markdown",
   "id": "03dd77da-dab6-450c-8400-c81f4ab448f4",
   "metadata": {},
   "source": [
    "## The user_login linked to the API key has implicit roles on his own catalog"
   ]
  },
  {
   "cell_type": "code",
   "execution_count": 33,
   "id": "55669db4-e58a-49a7-affb-e78c0e71d2e4",
   "metadata": {},
   "outputs": [],
   "source": [
    "ycolera_collection = {\n",
    "            \"id\": \"S1_L1\",\n",
    "            \"type\": \"Collection\",\n",
    "            \"description\": \"This is the  description for the S1_L1 collection for ycolera user.\",\n",
    "            \"stac_version\": \"1.0.0\",\n",
    "            \"owner\": \"ycolera\"\n",
    "        }\n",
    "post_new_collection = requests.post(f\"{RS_SERVER_ROOT_URL}/catalog/collections\", json=ycolera_collection, **HEADERS)\n",
    "post_new_collection.raise_for_status()"
   ]
  },
  {
   "cell_type": "code",
   "execution_count": 34,
   "id": "11d3a870-936f-4b02-9ef5-477c66830272",
   "metadata": {},
   "outputs": [
    {
     "data": {
      "text/plain": [
       "{'id': 'S1_L1',\n",
       " 'type': 'Collection',\n",
       " 'owner': 'ycolera',\n",
       " 'description': 'This is the  description for the S1_L1 collection for ycolera user.',\n",
       " 'stac_version': '1.0.0',\n",
       " 'links': [{'rel': 'items',\n",
       "   'type': 'application/geo+json',\n",
       "   'href': 'https://dev-rspy.esa-copernicus.eu/catalog/ycolera/collections/S1_L1/items'},\n",
       "  {'rel': 'parent',\n",
       "   'type': 'application/json',\n",
       "   'href': 'https://dev-rspy.esa-copernicus.eu/catalog/ycolera'},\n",
       "  {'rel': 'root',\n",
       "   'type': 'application/json',\n",
       "   'href': 'https://dev-rspy.esa-copernicus.eu/catalog/ycolera'},\n",
       "  {'rel': 'self',\n",
       "   'type': 'application/json',\n",
       "   'href': 'https://dev-rspy.esa-copernicus.eu/catalog/ycolera/collections/S1_L1'}]}"
      ]
     },
     "execution_count": 34,
     "metadata": {},
     "output_type": "execute_result"
    }
   ],
   "source": [
    "response = requests.get(f\"{RS_SERVER_ROOT_URL}/catalog/collections/ycolera:S1_L1\", **HEADERS)\n",
    "response.raise_for_status()\n",
    "\n",
    "content = json.loads(response.content)\n",
    "content"
   ]
  },
  {
   "cell_type": "markdown",
   "id": "dd95498a-13a3-4240-b75d-803bf0ef5fa1",
   "metadata": {},
   "source": [
    "## Delete an item from the jgaucher S1_L1 collection"
   ]
  },
  {
   "cell_type": "code",
   "execution_count": 35,
   "id": "ada1dbc9-886a-41a2-b0ad-62130e503837",
   "metadata": {},
   "outputs": [
    {
     "data": {
      "text/plain": [
       "{'deleted item': 'item_2'}"
      ]
     },
     "execution_count": 35,
     "metadata": {},
     "output_type": "execute_result"
    }
   ],
   "source": [
    "delete_response = requests.delete(f\"{RS_SERVER_ROOT_URL}/catalog/collections/jgaucher:S1_L1/items/item_2\", **HEADERS)\n",
    "delete_response.raise_for_status()\n",
    "\n",
    "result = json.loads(delete_response.content)\n",
    "result"
   ]
  },
  {
   "cell_type": "markdown",
   "id": "7299b7b7-6cdd-4da8-81ad-1a38fb36e3cd",
   "metadata": {},
   "source": [
    "## Delete the collection S1_L1 from the jgaucher catalog"
   ]
  },
  {
   "cell_type": "code",
   "execution_count": 36,
   "id": "d9f1f714-6fd5-409f-a14c-6a479923f6ef",
   "metadata": {},
   "outputs": [
    {
     "data": {
      "text/plain": [
       "{'deleted collection': 'jgaucher_S1_L1'}"
      ]
     },
     "execution_count": 36,
     "metadata": {},
     "output_type": "execute_result"
    }
   ],
   "source": [
    "delete_response = requests.delete(f\"{RS_SERVER_ROOT_URL}/catalog/collections/jgaucher:S1_L1\", **HEADERS)\n",
    "delete_response.raise_for_status()\n",
    "\n",
    "result = json.loads(delete_response.content)\n",
    "result"
   ]
  },
  {
   "cell_type": "markdown",
   "id": "42a402e7-2014-47f2-9454-db4b946a135c",
   "metadata": {},
   "source": [
    "## Delete the collection S1_L1 from the DemoUser catalog"
   ]
  },
  {
   "cell_type": "code",
   "execution_count": 39,
   "id": "bd7fbb78-d9c6-4a56-bc54-99594234fd39",
   "metadata": {},
   "outputs": [
    {
     "ename": "ChunkedEncodingError",
     "evalue": "('Connection broken: IncompleteRead(0 bytes read, 41 more expected)', IncompleteRead(0 bytes read, 41 more expected))",
     "output_type": "error",
     "traceback": [
      "\u001b[0;31m---------------------------------------------------------------------------\u001b[0m",
      "\u001b[0;31mIncompleteRead\u001b[0m                            Traceback (most recent call last)",
      "File \u001b[0;32m~/.local/lib/python3.11/site-packages/urllib3/response.py:737\u001b[0m, in \u001b[0;36mHTTPResponse._error_catcher\u001b[0;34m(self)\u001b[0m\n\u001b[1;32m    736\u001b[0m \u001b[38;5;28;01mtry\u001b[39;00m:\n\u001b[0;32m--> 737\u001b[0m     \u001b[38;5;28;01myield\u001b[39;00m\n\u001b[1;32m    739\u001b[0m \u001b[38;5;28;01mexcept\u001b[39;00m SocketTimeout \u001b[38;5;28;01mas\u001b[39;00m e:\n\u001b[1;32m    740\u001b[0m     \u001b[38;5;66;03m# FIXME: Ideally we'd like to include the url in the ReadTimeoutError but\u001b[39;00m\n\u001b[1;32m    741\u001b[0m     \u001b[38;5;66;03m# there is yet no clean way to get at it from this context.\u001b[39;00m\n",
      "File \u001b[0;32m~/.local/lib/python3.11/site-packages/urllib3/response.py:883\u001b[0m, in \u001b[0;36mHTTPResponse._raw_read\u001b[0;34m(self, amt, read1)\u001b[0m\n\u001b[1;32m    873\u001b[0m     \u001b[38;5;28;01mif\u001b[39;00m (\n\u001b[1;32m    874\u001b[0m         \u001b[38;5;28mself\u001b[39m\u001b[38;5;241m.\u001b[39menforce_content_length\n\u001b[1;32m    875\u001b[0m         \u001b[38;5;129;01mand\u001b[39;00m \u001b[38;5;28mself\u001b[39m\u001b[38;5;241m.\u001b[39mlength_remaining \u001b[38;5;129;01mis\u001b[39;00m \u001b[38;5;129;01mnot\u001b[39;00m \u001b[38;5;28;01mNone\u001b[39;00m\n\u001b[0;32m   (...)\u001b[0m\n\u001b[1;32m    881\u001b[0m         \u001b[38;5;66;03m# raised during streaming, so all calls with incorrect\u001b[39;00m\n\u001b[1;32m    882\u001b[0m         \u001b[38;5;66;03m# Content-Length are caught.\u001b[39;00m\n\u001b[0;32m--> 883\u001b[0m         \u001b[38;5;28;01mraise\u001b[39;00m IncompleteRead(\u001b[38;5;28mself\u001b[39m\u001b[38;5;241m.\u001b[39m_fp_bytes_read, \u001b[38;5;28mself\u001b[39m\u001b[38;5;241m.\u001b[39mlength_remaining)\n\u001b[1;32m    884\u001b[0m \u001b[38;5;28;01melif\u001b[39;00m read1 \u001b[38;5;129;01mand\u001b[39;00m (\n\u001b[1;32m    885\u001b[0m     (amt \u001b[38;5;241m!=\u001b[39m \u001b[38;5;241m0\u001b[39m \u001b[38;5;129;01mand\u001b[39;00m \u001b[38;5;129;01mnot\u001b[39;00m data) \u001b[38;5;129;01mor\u001b[39;00m \u001b[38;5;28mself\u001b[39m\u001b[38;5;241m.\u001b[39mlength_remaining \u001b[38;5;241m==\u001b[39m \u001b[38;5;28mlen\u001b[39m(data)\n\u001b[1;32m    886\u001b[0m ):\n\u001b[0;32m   (...)\u001b[0m\n\u001b[1;32m    889\u001b[0m     \u001b[38;5;66;03m# `http.client.HTTPResponse`, so we close it here.\u001b[39;00m\n\u001b[1;32m    890\u001b[0m     \u001b[38;5;66;03m# See https://github.com/python/cpython/issues/113199\u001b[39;00m\n",
      "\u001b[0;31mIncompleteRead\u001b[0m: IncompleteRead(0 bytes read, 41 more expected)",
      "\nThe above exception was the direct cause of the following exception:\n",
      "\u001b[0;31mProtocolError\u001b[0m                             Traceback (most recent call last)",
      "File \u001b[0;32m~/.local/lib/python3.11/site-packages/requests/models.py:816\u001b[0m, in \u001b[0;36mResponse.iter_content.<locals>.generate\u001b[0;34m()\u001b[0m\n\u001b[1;32m    815\u001b[0m \u001b[38;5;28;01mtry\u001b[39;00m:\n\u001b[0;32m--> 816\u001b[0m     \u001b[38;5;28;01myield from\u001b[39;00m \u001b[38;5;28mself\u001b[39m\u001b[38;5;241m.\u001b[39mraw\u001b[38;5;241m.\u001b[39mstream(chunk_size, decode_content\u001b[38;5;241m=\u001b[39m\u001b[38;5;28;01mTrue\u001b[39;00m)\n\u001b[1;32m    817\u001b[0m \u001b[38;5;28;01mexcept\u001b[39;00m ProtocolError \u001b[38;5;28;01mas\u001b[39;00m e:\n",
      "File \u001b[0;32m~/.local/lib/python3.11/site-packages/urllib3/response.py:1043\u001b[0m, in \u001b[0;36mHTTPResponse.stream\u001b[0;34m(self, amt, decode_content)\u001b[0m\n\u001b[1;32m   1042\u001b[0m \u001b[38;5;28;01mwhile\u001b[39;00m \u001b[38;5;129;01mnot\u001b[39;00m is_fp_closed(\u001b[38;5;28mself\u001b[39m\u001b[38;5;241m.\u001b[39m_fp) \u001b[38;5;129;01mor\u001b[39;00m \u001b[38;5;28mlen\u001b[39m(\u001b[38;5;28mself\u001b[39m\u001b[38;5;241m.\u001b[39m_decoded_buffer) \u001b[38;5;241m>\u001b[39m \u001b[38;5;241m0\u001b[39m:\n\u001b[0;32m-> 1043\u001b[0m     data \u001b[38;5;241m=\u001b[39m \u001b[38;5;28;43mself\u001b[39;49m\u001b[38;5;241;43m.\u001b[39;49m\u001b[43mread\u001b[49m\u001b[43m(\u001b[49m\u001b[43mamt\u001b[49m\u001b[38;5;241;43m=\u001b[39;49m\u001b[43mamt\u001b[49m\u001b[43m,\u001b[49m\u001b[43m \u001b[49m\u001b[43mdecode_content\u001b[49m\u001b[38;5;241;43m=\u001b[39;49m\u001b[43mdecode_content\u001b[49m\u001b[43m)\u001b[49m\n\u001b[1;32m   1045\u001b[0m     \u001b[38;5;28;01mif\u001b[39;00m data:\n",
      "File \u001b[0;32m~/.local/lib/python3.11/site-packages/urllib3/response.py:935\u001b[0m, in \u001b[0;36mHTTPResponse.read\u001b[0;34m(self, amt, decode_content, cache_content)\u001b[0m\n\u001b[1;32m    933\u001b[0m         \u001b[38;5;28;01mreturn\u001b[39;00m \u001b[38;5;28mself\u001b[39m\u001b[38;5;241m.\u001b[39m_decoded_buffer\u001b[38;5;241m.\u001b[39mget(amt)\n\u001b[0;32m--> 935\u001b[0m data \u001b[38;5;241m=\u001b[39m \u001b[38;5;28;43mself\u001b[39;49m\u001b[38;5;241;43m.\u001b[39;49m\u001b[43m_raw_read\u001b[49m\u001b[43m(\u001b[49m\u001b[43mamt\u001b[49m\u001b[43m)\u001b[49m\n\u001b[1;32m    937\u001b[0m flush_decoder \u001b[38;5;241m=\u001b[39m amt \u001b[38;5;129;01mis\u001b[39;00m \u001b[38;5;28;01mNone\u001b[39;00m \u001b[38;5;129;01mor\u001b[39;00m (amt \u001b[38;5;241m!=\u001b[39m \u001b[38;5;241m0\u001b[39m \u001b[38;5;129;01mand\u001b[39;00m \u001b[38;5;129;01mnot\u001b[39;00m data)\n",
      "File \u001b[0;32m~/.local/lib/python3.11/site-packages/urllib3/response.py:861\u001b[0m, in \u001b[0;36mHTTPResponse._raw_read\u001b[0;34m(self, amt, read1)\u001b[0m\n\u001b[1;32m    859\u001b[0m fp_closed \u001b[38;5;241m=\u001b[39m \u001b[38;5;28mgetattr\u001b[39m(\u001b[38;5;28mself\u001b[39m\u001b[38;5;241m.\u001b[39m_fp, \u001b[38;5;124m\"\u001b[39m\u001b[38;5;124mclosed\u001b[39m\u001b[38;5;124m\"\u001b[39m, \u001b[38;5;28;01mFalse\u001b[39;00m)\n\u001b[0;32m--> 861\u001b[0m \u001b[43m\u001b[49m\u001b[38;5;28;43;01mwith\u001b[39;49;00m\u001b[43m \u001b[49m\u001b[38;5;28;43mself\u001b[39;49m\u001b[38;5;241;43m.\u001b[39;49m\u001b[43m_error_catcher\u001b[49m\u001b[43m(\u001b[49m\u001b[43m)\u001b[49m\u001b[43m:\u001b[49m\n\u001b[1;32m    862\u001b[0m \u001b[43m    \u001b[49m\u001b[43mdata\u001b[49m\u001b[43m \u001b[49m\u001b[38;5;241;43m=\u001b[39;49m\u001b[43m \u001b[49m\u001b[38;5;28;43mself\u001b[39;49m\u001b[38;5;241;43m.\u001b[39;49m\u001b[43m_fp_read\u001b[49m\u001b[43m(\u001b[49m\u001b[43mamt\u001b[49m\u001b[43m,\u001b[49m\u001b[43m \u001b[49m\u001b[43mread1\u001b[49m\u001b[38;5;241;43m=\u001b[39;49m\u001b[43mread1\u001b[49m\u001b[43m)\u001b[49m\u001b[43m \u001b[49m\u001b[38;5;28;43;01mif\u001b[39;49;00m\u001b[43m \u001b[49m\u001b[38;5;129;43;01mnot\u001b[39;49;00m\u001b[43m \u001b[49m\u001b[43mfp_closed\u001b[49m\u001b[43m \u001b[49m\u001b[38;5;28;43;01melse\u001b[39;49;00m\u001b[43m \u001b[49m\u001b[38;5;124;43mb\u001b[39;49m\u001b[38;5;124;43m\"\u001b[39;49m\u001b[38;5;124;43m\"\u001b[39;49m\n",
      "File \u001b[0;32m/opt/conda/lib/python3.11/contextlib.py:158\u001b[0m, in \u001b[0;36m_GeneratorContextManager.__exit__\u001b[0;34m(self, typ, value, traceback)\u001b[0m\n\u001b[1;32m    157\u001b[0m \u001b[38;5;28;01mtry\u001b[39;00m:\n\u001b[0;32m--> 158\u001b[0m     \u001b[38;5;28mself\u001b[39m\u001b[38;5;241m.\u001b[39mgen\u001b[38;5;241m.\u001b[39mthrow(typ, value, traceback)\n\u001b[1;32m    159\u001b[0m \u001b[38;5;28;01mexcept\u001b[39;00m \u001b[38;5;167;01mStopIteration\u001b[39;00m \u001b[38;5;28;01mas\u001b[39;00m exc:\n\u001b[1;32m    160\u001b[0m     \u001b[38;5;66;03m# Suppress StopIteration *unless* it's the same exception that\u001b[39;00m\n\u001b[1;32m    161\u001b[0m     \u001b[38;5;66;03m# was passed to throw().  This prevents a StopIteration\u001b[39;00m\n\u001b[1;32m    162\u001b[0m     \u001b[38;5;66;03m# raised inside the \"with\" statement from being suppressed.\u001b[39;00m\n",
      "File \u001b[0;32m~/.local/lib/python3.11/site-packages/urllib3/response.py:761\u001b[0m, in \u001b[0;36mHTTPResponse._error_catcher\u001b[0;34m(self)\u001b[0m\n\u001b[1;32m    760\u001b[0m         arg \u001b[38;5;241m=\u001b[39m \u001b[38;5;124mf\u001b[39m\u001b[38;5;124m\"\u001b[39m\u001b[38;5;124mConnection broken: \u001b[39m\u001b[38;5;132;01m{\u001b[39;00me\u001b[38;5;132;01m!r}\u001b[39;00m\u001b[38;5;124m\"\u001b[39m\n\u001b[0;32m--> 761\u001b[0m     \u001b[38;5;28;01mraise\u001b[39;00m ProtocolError(arg, e) \u001b[38;5;28;01mfrom\u001b[39;00m \u001b[38;5;21;01me\u001b[39;00m\n\u001b[1;32m    763\u001b[0m \u001b[38;5;28;01mexcept\u001b[39;00m (HTTPException, \u001b[38;5;167;01mOSError\u001b[39;00m) \u001b[38;5;28;01mas\u001b[39;00m e:\n",
      "\u001b[0;31mProtocolError\u001b[0m: ('Connection broken: IncompleteRead(0 bytes read, 41 more expected)', IncompleteRead(0 bytes read, 41 more expected))",
      "\nDuring handling of the above exception, another exception occurred:\n",
      "\u001b[0;31mChunkedEncodingError\u001b[0m                      Traceback (most recent call last)",
      "Cell \u001b[0;32mIn[39], line 1\u001b[0m\n\u001b[0;32m----> 1\u001b[0m delete_response \u001b[38;5;241m=\u001b[39m \u001b[43mrequests\u001b[49m\u001b[38;5;241;43m.\u001b[39;49m\u001b[43mdelete\u001b[49m\u001b[43m(\u001b[49m\u001b[38;5;124;43mf\u001b[39;49m\u001b[38;5;124;43m\"\u001b[39;49m\u001b[38;5;132;43;01m{\u001b[39;49;00m\u001b[43mRS_SERVER_ROOT_URL\u001b[49m\u001b[38;5;132;43;01m}\u001b[39;49;00m\u001b[38;5;124;43m/catalog/collections/DemoUser:S1_L1\u001b[39;49m\u001b[38;5;124;43m\"\u001b[39;49m\u001b[43m,\u001b[49m\u001b[43m \u001b[49m\u001b[38;5;241;43m*\u001b[39;49m\u001b[38;5;241;43m*\u001b[39;49m\u001b[43mHEADERS\u001b[49m\u001b[43m)\u001b[49m\n\u001b[1;32m      2\u001b[0m delete_response\u001b[38;5;241m.\u001b[39mraise_for_status()\n\u001b[1;32m      4\u001b[0m result \u001b[38;5;241m=\u001b[39m json\u001b[38;5;241m.\u001b[39mloads(delete_response\u001b[38;5;241m.\u001b[39mcontent)\n",
      "File \u001b[0;32m~/.local/lib/python3.11/site-packages/requests/api.py:157\u001b[0m, in \u001b[0;36mdelete\u001b[0;34m(url, **kwargs)\u001b[0m\n\u001b[1;32m    148\u001b[0m \u001b[38;5;28;01mdef\u001b[39;00m \u001b[38;5;21mdelete\u001b[39m(url, \u001b[38;5;241m*\u001b[39m\u001b[38;5;241m*\u001b[39mkwargs):\n\u001b[1;32m    149\u001b[0m \u001b[38;5;250m    \u001b[39m\u001b[38;5;124mr\u001b[39m\u001b[38;5;124;03m\"\"\"Sends a DELETE request.\u001b[39;00m\n\u001b[1;32m    150\u001b[0m \n\u001b[1;32m    151\u001b[0m \u001b[38;5;124;03m    :param url: URL for the new :class:`Request` object.\u001b[39;00m\n\u001b[0;32m   (...)\u001b[0m\n\u001b[1;32m    154\u001b[0m \u001b[38;5;124;03m    :rtype: requests.Response\u001b[39;00m\n\u001b[1;32m    155\u001b[0m \u001b[38;5;124;03m    \"\"\"\u001b[39;00m\n\u001b[0;32m--> 157\u001b[0m     \u001b[38;5;28;01mreturn\u001b[39;00m \u001b[43mrequest\u001b[49m\u001b[43m(\u001b[49m\u001b[38;5;124;43m\"\u001b[39;49m\u001b[38;5;124;43mdelete\u001b[39;49m\u001b[38;5;124;43m\"\u001b[39;49m\u001b[43m,\u001b[49m\u001b[43m \u001b[49m\u001b[43murl\u001b[49m\u001b[43m,\u001b[49m\u001b[43m \u001b[49m\u001b[38;5;241;43m*\u001b[39;49m\u001b[38;5;241;43m*\u001b[39;49m\u001b[43mkwargs\u001b[49m\u001b[43m)\u001b[49m\n",
      "File \u001b[0;32m~/.local/lib/python3.11/site-packages/requests/api.py:59\u001b[0m, in \u001b[0;36mrequest\u001b[0;34m(method, url, **kwargs)\u001b[0m\n\u001b[1;32m     55\u001b[0m \u001b[38;5;66;03m# By using the 'with' statement we are sure the session is closed, thus we\u001b[39;00m\n\u001b[1;32m     56\u001b[0m \u001b[38;5;66;03m# avoid leaving sockets open which can trigger a ResourceWarning in some\u001b[39;00m\n\u001b[1;32m     57\u001b[0m \u001b[38;5;66;03m# cases, and look like a memory leak in others.\u001b[39;00m\n\u001b[1;32m     58\u001b[0m \u001b[38;5;28;01mwith\u001b[39;00m sessions\u001b[38;5;241m.\u001b[39mSession() \u001b[38;5;28;01mas\u001b[39;00m session:\n\u001b[0;32m---> 59\u001b[0m     \u001b[38;5;28;01mreturn\u001b[39;00m \u001b[43msession\u001b[49m\u001b[38;5;241;43m.\u001b[39;49m\u001b[43mrequest\u001b[49m\u001b[43m(\u001b[49m\u001b[43mmethod\u001b[49m\u001b[38;5;241;43m=\u001b[39;49m\u001b[43mmethod\u001b[49m\u001b[43m,\u001b[49m\u001b[43m \u001b[49m\u001b[43murl\u001b[49m\u001b[38;5;241;43m=\u001b[39;49m\u001b[43murl\u001b[49m\u001b[43m,\u001b[49m\u001b[43m \u001b[49m\u001b[38;5;241;43m*\u001b[39;49m\u001b[38;5;241;43m*\u001b[39;49m\u001b[43mkwargs\u001b[49m\u001b[43m)\u001b[49m\n",
      "File \u001b[0;32m~/.local/lib/python3.11/site-packages/requests/sessions.py:589\u001b[0m, in \u001b[0;36mSession.request\u001b[0;34m(self, method, url, params, data, headers, cookies, files, auth, timeout, allow_redirects, proxies, hooks, stream, verify, cert, json)\u001b[0m\n\u001b[1;32m    584\u001b[0m send_kwargs \u001b[38;5;241m=\u001b[39m {\n\u001b[1;32m    585\u001b[0m     \u001b[38;5;124m\"\u001b[39m\u001b[38;5;124mtimeout\u001b[39m\u001b[38;5;124m\"\u001b[39m: timeout,\n\u001b[1;32m    586\u001b[0m     \u001b[38;5;124m\"\u001b[39m\u001b[38;5;124mallow_redirects\u001b[39m\u001b[38;5;124m\"\u001b[39m: allow_redirects,\n\u001b[1;32m    587\u001b[0m }\n\u001b[1;32m    588\u001b[0m send_kwargs\u001b[38;5;241m.\u001b[39mupdate(settings)\n\u001b[0;32m--> 589\u001b[0m resp \u001b[38;5;241m=\u001b[39m \u001b[38;5;28;43mself\u001b[39;49m\u001b[38;5;241;43m.\u001b[39;49m\u001b[43msend\u001b[49m\u001b[43m(\u001b[49m\u001b[43mprep\u001b[49m\u001b[43m,\u001b[49m\u001b[43m \u001b[49m\u001b[38;5;241;43m*\u001b[39;49m\u001b[38;5;241;43m*\u001b[39;49m\u001b[43msend_kwargs\u001b[49m\u001b[43m)\u001b[49m\n\u001b[1;32m    591\u001b[0m \u001b[38;5;28;01mreturn\u001b[39;00m resp\n",
      "File \u001b[0;32m~/.local/lib/python3.11/site-packages/requests/sessions.py:747\u001b[0m, in \u001b[0;36mSession.send\u001b[0;34m(self, request, **kwargs)\u001b[0m\n\u001b[1;32m    744\u001b[0m         \u001b[38;5;28;01mpass\u001b[39;00m\n\u001b[1;32m    746\u001b[0m \u001b[38;5;28;01mif\u001b[39;00m \u001b[38;5;129;01mnot\u001b[39;00m stream:\n\u001b[0;32m--> 747\u001b[0m     \u001b[43mr\u001b[49m\u001b[38;5;241;43m.\u001b[39;49m\u001b[43mcontent\u001b[49m\n\u001b[1;32m    749\u001b[0m \u001b[38;5;28;01mreturn\u001b[39;00m r\n",
      "File \u001b[0;32m~/.local/lib/python3.11/site-packages/requests/models.py:899\u001b[0m, in \u001b[0;36mResponse.content\u001b[0;34m(self)\u001b[0m\n\u001b[1;32m    897\u001b[0m         \u001b[38;5;28mself\u001b[39m\u001b[38;5;241m.\u001b[39m_content \u001b[38;5;241m=\u001b[39m \u001b[38;5;28;01mNone\u001b[39;00m\n\u001b[1;32m    898\u001b[0m     \u001b[38;5;28;01melse\u001b[39;00m:\n\u001b[0;32m--> 899\u001b[0m         \u001b[38;5;28mself\u001b[39m\u001b[38;5;241m.\u001b[39m_content \u001b[38;5;241m=\u001b[39m \u001b[38;5;124mb\u001b[39m\u001b[38;5;124m\"\u001b[39m\u001b[38;5;124m\"\u001b[39m\u001b[38;5;241m.\u001b[39mjoin(\u001b[38;5;28mself\u001b[39m\u001b[38;5;241m.\u001b[39miter_content(CONTENT_CHUNK_SIZE)) \u001b[38;5;129;01mor\u001b[39;00m \u001b[38;5;124mb\u001b[39m\u001b[38;5;124m\"\u001b[39m\u001b[38;5;124m\"\u001b[39m\n\u001b[1;32m    901\u001b[0m \u001b[38;5;28mself\u001b[39m\u001b[38;5;241m.\u001b[39m_content_consumed \u001b[38;5;241m=\u001b[39m \u001b[38;5;28;01mTrue\u001b[39;00m\n\u001b[1;32m    902\u001b[0m \u001b[38;5;66;03m# don't need to release the connection; that's been handled by urllib3\u001b[39;00m\n\u001b[1;32m    903\u001b[0m \u001b[38;5;66;03m# since we exhausted the data.\u001b[39;00m\n",
      "File \u001b[0;32m~/.local/lib/python3.11/site-packages/requests/models.py:818\u001b[0m, in \u001b[0;36mResponse.iter_content.<locals>.generate\u001b[0;34m()\u001b[0m\n\u001b[1;32m    816\u001b[0m     \u001b[38;5;28;01myield from\u001b[39;00m \u001b[38;5;28mself\u001b[39m\u001b[38;5;241m.\u001b[39mraw\u001b[38;5;241m.\u001b[39mstream(chunk_size, decode_content\u001b[38;5;241m=\u001b[39m\u001b[38;5;28;01mTrue\u001b[39;00m)\n\u001b[1;32m    817\u001b[0m \u001b[38;5;28;01mexcept\u001b[39;00m ProtocolError \u001b[38;5;28;01mas\u001b[39;00m e:\n\u001b[0;32m--> 818\u001b[0m     \u001b[38;5;28;01mraise\u001b[39;00m ChunkedEncodingError(e)\n\u001b[1;32m    819\u001b[0m \u001b[38;5;28;01mexcept\u001b[39;00m DecodeError \u001b[38;5;28;01mas\u001b[39;00m e:\n\u001b[1;32m    820\u001b[0m     \u001b[38;5;28;01mraise\u001b[39;00m ContentDecodingError(e)\n",
      "\u001b[0;31mChunkedEncodingError\u001b[0m: ('Connection broken: IncompleteRead(0 bytes read, 41 more expected)', IncompleteRead(0 bytes read, 41 more expected))"
     ]
    }
   ],
   "source": [
    "delete_response = requests.delete(f\"{RS_SERVER_ROOT_URL}/catalog/collections/DemoUser:S1_L1\", **HEADERS)\n",
    "delete_response.raise_for_status()\n",
    "\n",
    "result = json.loads(delete_response.content)\n",
    "result"
   ]
  },
  {
   "cell_type": "markdown",
   "id": "6a323f71-b1ff-4a83-b104-682a3fa52d82",
   "metadata": {},
   "source": [
    "## Clear files from catalog bucket"
   ]
  },
  {
   "cell_type": "code",
   "execution_count": 38,
   "id": "d6c0f95a-5145-4d08-b2fa-49ff05dea56c",
   "metadata": {},
   "outputs": [],
   "source": [
    "for item_name in (\"cadip/item1.dataset\", \"cadip/item2.dataset\"):\n",
    "    for bucket in (TEMP_BUCKET, FINAL_BUCKET):\n",
    "        s3_client.delete_object(Bucket=bucket, Key=item_name)"
   ]
  },
  {
   "cell_type": "code",
   "execution_count": null,
   "id": "e77571b1-4943-4441-be1d-c400ee650a12",
   "metadata": {},
   "outputs": [],
   "source": []
  }
 ],
 "metadata": {
  "kernelspec": {
   "display_name": "Python 3 (ipykernel)",
   "language": "python",
   "name": "python3"
  },
  "language_info": {
   "codemirror_mode": {
    "name": "ipython",
    "version": 3
   },
   "file_extension": ".py",
   "mimetype": "text/x-python",
   "name": "python",
   "nbconvert_exporter": "python",
   "pygments_lexer": "ipython3",
   "version": "3.11.8"
  }
 },
 "nbformat": 4,
 "nbformat_minor": 5
}

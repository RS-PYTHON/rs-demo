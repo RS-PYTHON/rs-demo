{
 "cells": [
  {
   "cell_type": "markdown",
   "id": "03d5dd16-26cd-451b-b248-f6e4ed9350a3",
   "metadata": {},
   "source": [
    "# Using the rs-server catalog\n",
    "\n",
    "This tutorial is meant the basic usage of the rs-server catalog service."
   ]
  },
  {
   "cell_type": "markdown",
   "id": "b756e1f7-c626-47c8-8d49-ca0373c4ca42",
   "metadata": {},
   "source": [
    "## Introduction\n",
    "\n",
    "The rs-server catalog service exposes a REST API \n",
    "on the /catalog endpoint of the rs-server.\n",
    "\n",
    "Each user owns a dedicated STAC catalog.\n",
    "It can be accessed at the /catalog/{user} endpoint.\n",
    "Each catalog is following the STAC API.\n",
    "\n",
    "Let's illustrate all this with some examples."
   ]
  },
  {
   "cell_type": "markdown",
   "id": "09dad3a1-6376-4738-9467-990e04d56c2f",
   "metadata": {
    "jp-MarkdownHeadingCollapsed": true
   },
   "source": [
    "## Quick links\n",
    "\n",
    "**Swagger UI**\n",
    "\n",
    "  * http://localhost:8003/api.html (local)\n",
    "  * https://dev-rspy.esa-copernicus.eu (cluster)\n",
    "\n",
    "**STAC browser**\n",
    "\n",
    "Open the STAC browser: http://localhost:8081 (only for local and hybrid mode)\n",
    "\n",
    "Then load the collections (at the end of this demo but before deleting them) from: \n",
    "\n",
    "  * `http://localhost:8003/catalog/any` (local)\n",
    "  * `https://dev-rspy.esa-copernicus.eu/catalog/any?api-key=your_api_key` (cluster)"
   ]
  },
  {
   "cell_type": "markdown",
   "id": "5dff0776-9619-4db7-9f61-fbd26647ec1e",
   "metadata": {},
   "source": [
    "## Configuration"
   ]
  },
  {
   "cell_type": "code",
   "execution_count": null,
   "id": "6c4c9ed9-5db3-4e56-884b-0f90b22e7612",
   "metadata": {},
   "outputs": [],
   "source": [
    "# Install rs-client-libraries\n",
    "!pip install rs_client_libraries-0.0.0-py3-none-any.whl\n",
    "\n",
    "import getpass\n",
    "import os\n",
    "\n",
    "# S3 access\n",
    "if not os.getenv(\"S3_ACCESSKEY\"):\n",
    "    os.environ[\"S3_ACCESSKEY\"] = getpass.getpass(f\"Enter S3 access key for {os.environ['S3_ENDPOINT']!r}:\")\n",
    "if not os.getenv(\"S3_SECRETKEY\"):\n",
    "    os.environ[\"S3_SECRETKEY\"] = getpass.getpass(f\"Enter S3 secret key for {os.environ['S3_ENDPOINT']!r}:\")\n",
    "\n",
    "# API key authentication (not on local mode)\n",
    "if (os.getenv(\"RSPY_LOCAL_MODE\") != \"1\") and (not os.getenv(\"RSPY_APIKEY\")):\n",
    "    os.environ[\"RSPY_APIKEY\"] = getpass.getpass(f\"Enter your API key from {os.environ['RSPY_WEBSITE']!r}:\")"
   ]
  },
  {
   "cell_type": "code",
   "execution_count": null,
   "id": "14fdab95-2004-444d-bf47-d958221fa7df",
   "metadata": {},
   "outputs": [],
   "source": [
    "# Set local or cluster configuration\n",
    "import os\n",
    "\n",
    "if os.getenv(\"RSPY_LOCAL_MODE\") == \"1\":\n",
    "    RS_SERVER_ROOT_URL = \"http://rs-server-catalog:8000\"\n",
    "    HEADERS={}\n",
    "    local_mode = True\n",
    "else:\n",
    "    RS_SERVER_ROOT_URL = os.environ[\"RSPY_WEBSITE\"]\n",
    "    HEADERS={\"headers\": {\"x-api-key\": os.environ[\"RSPY_APIKEY\"]}}\n",
    "    local_mode = False\n",
    "\n",
    "print(f\"Using: {RS_SERVER_ROOT_URL}\")\n",
    "\n",
    "import requests\n",
    "import json"
   ]
  },
  {
   "cell_type": "code",
   "execution_count": null,
   "id": "071eb060-e6ed-440d-9835-45f3782005ba",
   "metadata": {},
   "outputs": [],
   "source": [
    "# Use boto3 for S3 operations\n",
    "\n",
    "TEMP_BUCKET = \"rs-cluster-temp\"\n",
    "FINAL_BUCKET = \"rs-cluster-catalog\"\n",
    "\n",
    "!pip install boto3\n",
    "import boto3\n",
    "import os\n",
    "s3_session = boto3.session.Session()\n",
    "\n",
    "s3_client = s3_session.client(\n",
    "    service_name=\"s3\",    \n",
    "    # Note: the S3_ACCESSKEY, S3_SECRETKEY and S3_ENDPOINT are given \n",
    "    # in the docker-compose.yml or ~/.s3cfg file.\n",
    "    aws_access_key_id=os.environ[\"S3_ACCESSKEY\"],\n",
    "    aws_secret_access_key=os.environ[\"S3_SECRETKEY\"],\n",
    "    endpoint_url=os.environ[\"S3_ENDPOINT\"],\n",
    "    region_name=os.environ[\"S3_REGION\"],\n",
    ")\n",
    "    \n",
    "# Create the buckets if they don't exist (only in local mode)\n",
    "if local_mode:\n",
    "    buckets = [TEMP_BUCKET, FINAL_BUCKET] # bucket names under S3_ENDPOINT\n",
    "    for b in buckets:\n",
    "        if b not in [bucket[\"Name\"] for bucket in s3_client.list_buckets()[\"Buckets\"]]:\n",
    "            s3_client.create_bucket(Bucket=b)"
   ]
  },
  {
   "cell_type": "code",
   "execution_count": null,
   "id": "b1149d0d-113c-491a-8968-444c3937078f",
   "metadata": {},
   "outputs": [],
   "source": [
    "# Clean previous executions\n",
    "# Delete collections\n",
    "for collection in (\"jgaucher:S1_L1\", \"jgaucher:S1_L2\", \"DemoUser:S1_L1\", \"ycolera:S1_L1\"):\n",
    "    requests.delete(f\"{RS_SERVER_ROOT_URL}/catalog/collections/{collection}\", **HEADERS, stream=True)\n",
    "\n",
    "# Delete bucket files\n",
    "for item_name in (\"cadip/item1.dataset\", \"cadip/item2.dataset\"):\n",
    "    for bucket in (TEMP_BUCKET, FINAL_BUCKET):\n",
    "        s3_client.delete_object(Bucket=bucket, Key=item_name)"
   ]
  },
  {
   "cell_type": "code",
   "execution_count": null,
   "id": "3f1af220",
   "metadata": {},
   "outputs": [],
   "source": [
    "# Create empty dummy data files for this demo\n",
    "import tempfile\n",
    "for item_name in (\"cadip/item1.dataset\", \"cadip/item2.dataset\"):\n",
    "    with tempfile.NamedTemporaryFile() as tmp:\n",
    "        s3_client.upload_file (tmp.name, TEMP_BUCKET, item_name)\n",
    "\n",
    "# Save the current datetime (no ms, no time zone)\n",
    "from datetime import datetime\n",
    "demo_start_time = datetime.now().replace(microsecond=0).astimezone()"
   ]
  },
  {
   "cell_type": "markdown",
   "id": "8c2d56ae-7bdb-4e86-9935-0b29b880c0bf",
   "metadata": {},
   "source": [
    "## Add the collection S1_L1 in the DemoUser catalog"
   ]
  },
  {
   "cell_type": "code",
   "execution_count": null,
   "id": "47e6ff93-c4ee-4d7e-8d91-03a9c8ceea82",
   "metadata": {},
   "outputs": [],
   "source": [
    "collection = {\n",
    "            \"id\": \"S1_L1\",\n",
    "            \"type\": \"Collection\",\n",
    "            \"description\": \"The S1_L1 collection for DemoUser user.\",\n",
    "            \"stac_version\": \"1.0.0\",\n",
    "            \"owner\": \"DemoUser\"\n",
    "        }\n",
    "\n",
    "post_response = requests.post(f\"{RS_SERVER_ROOT_URL}/catalog/collections\", json=collection, **HEADERS)\n",
    "post_response.raise_for_status()\n",
    "\n",
    "response = requests.get(f\"{RS_SERVER_ROOT_URL}/catalog/collections/DemoUser:S1_L1\", **HEADERS)\n",
    "response.raise_for_status()\n",
    "\n",
    "collection = json.loads(response.content)\n",
    "collection"
   ]
  },
  {
   "cell_type": "markdown",
   "id": "7071090a-d548-4202-9625-53c243269d3e",
   "metadata": {},
   "source": [
    "The previous commands create the S1_L1 collection in the esmeralda catalog.\n",
    "Then, it gets the esmeralda collections again.\n",
    "This time, there is the S1_L1 collection, previously added.\n",
    "\n",
    "As we can see, the user doesn't have to add the owner_id to the collection_id. It is automatically added during the post."
   ]
  },
  {
   "cell_type": "markdown",
   "id": "773ce9b2-b49a-4efc-b525-9a4a58c731c9",
   "metadata": {},
   "source": [
    "## Add the collection S1_L1 in the jgaucher catalog"
   ]
  },
  {
   "cell_type": "code",
   "execution_count": null,
   "id": "e1da74fe-7bfd-4ad4-8077-3528391e67f0",
   "metadata": {},
   "outputs": [],
   "source": [
    "collection = {\n",
    "            \"id\": \"S1_L1\",\n",
    "            \"type\": \"Collection\",\n",
    "            \"description\": \"The S1_L1 collection for jgaucher user.\",\n",
    "            \"stac_version\": \"1.0.0\",\n",
    "            \"owner\": \"jgaucher\"\n",
    "        }\n",
    "\n",
    "post_response = requests.post(f\"{RS_SERVER_ROOT_URL}/catalog/collections\", json=collection, **HEADERS)\n",
    "post_response.raise_for_status()\n",
    "\n",
    "response = requests.get(f\"{RS_SERVER_ROOT_URL}/catalog/collections/jgaucher:S1_L1\", **HEADERS)\n",
    "response.raise_for_status()\n",
    "\n",
    "collection = json.loads(response.content)\n",
    "collection"
   ]
  },
  {
   "cell_type": "markdown",
   "id": "a7e03db9-e032-4550-9784-1649b1c832d1",
   "metadata": {},
   "source": [
    "Preview the content of catalog and temporary bucket, pushing a feature will automatically transfer files to catalog bucket, and update links."
   ]
  },
  {
   "cell_type": "markdown",
   "id": "2985eb85-696e-47e0-b211-c697e2bc9427",
   "metadata": {},
   "source": [
    "## Add an item in the collection S1_L1 in the jgaucher catalog"
   ]
  },
  {
   "cell_type": "code",
   "execution_count": null,
   "id": "6ea5dde8-cc6c-4dc0-b827-fcfef5e4ecee",
   "metadata": {},
   "outputs": [],
   "source": [
    "item_0 = {\n",
    "            \"id\": \"item_0\",\n",
    "            \"bbox\": [-94.6334839, 37.0332547, -94.6005249, 37.0595608],\n",
    "            \"type\": \"Feature\",\n",
    "            \"geometry\": {\n",
    "                \"type\": \"Polygon\",\n",
    "                \"coordinates\": [\n",
    "                    [\n",
    "                        [-94.6334839, 37.0595608],\n",
    "                        [-94.6334839, 37.0332547],\n",
    "                        [-94.6005249, 37.0332547],\n",
    "                        [-94.6005249, 37.0595608],\n",
    "                        [-94.6334839, 37.0595608],\n",
    "                    ]\n",
    "                ],\n",
    "            },\n",
    "            \"collection\": \"S1_L1\",\n",
    "            \"properties\": {\n",
    "                \"gsd\": 0.5971642834779395,\n",
    "                \"width\": 2500,\n",
    "                \"height\": 2500,\n",
    "                \"datetime\": \"2000-02-02T00:00:00Z\",\n",
    "                \"proj:epsg\": 3857,\n",
    "                \"orientation\": \"nadir\",\n",
    "                \"owner_id\": \"jgaucher\",\n",
    "            },\n",
    "            \"stac_extensions\": [],\n",
    "            \"assets\": {\n",
    "                \"file\": {\n",
    "                    \"href\": \"s3://rs-cluster-temp/cadip/item1.dataset\",\n",
    "                    \"type\": \"image/tiff; application=geotiff; profile=cloud-optimized\",\n",
    "                    \"title\": \"NOAA STORM COG\",\n",
    "                },\n",
    "            },\n",
    "        }\n",
    "\n",
    "post_response = requests.post(f\"{RS_SERVER_ROOT_URL}/catalog/collections/jgaucher:S1_L1/items\", json=item_0, **HEADERS)\n",
    "post_response.raise_for_status()\n",
    "\n",
    "item_response = requests.get(f\"{RS_SERVER_ROOT_URL}/catalog/collections/jgaucher:S1_L1/items\", **HEADERS)\n",
    "item_response.raise_for_status()\n",
    "\n",
    "item = json.loads(item_response.content)\n",
    "item"
   ]
  },
  {
   "cell_type": "markdown",
   "id": "88378dbc-c63a-4489-95ad-d7c8e58b9ebb",
   "metadata": {},
   "source": [
    "Preview again the content of buckets, to make sure that assests were moved."
   ]
  },
  {
   "cell_type": "code",
   "execution_count": null,
   "id": "ff4a6a92-c136-4641-b34e-1733cec18375",
   "metadata": {},
   "outputs": [],
   "source": [
    "# Check that the asset was copied to the final catalog bucket\n",
    "item1_time = s3_client.head_object(Bucket=FINAL_BUCKET, Key=\"cadip/item1.dataset\")[\"LastModified\"]\n",
    "assert item1_time >= demo_start_time, \\\n",
    "       f\"'{item1_time}' should be >= '{demo_start_time}'\"\n",
    "\n",
    "# And was removed from the temp bucket\n",
    "assert \"Contents\" not in s3_client.list_objects(Bucket=TEMP_BUCKET, Prefix=\"cadip/item1.dataset\"), \\\n",
    "       \"Should have been removed from the temp bucket\""
   ]
  },
  {
   "cell_type": "markdown",
   "id": "b0bb4ddb-4687-4935-a22f-e68223234fa7",
   "metadata": {},
   "source": [
    "The previous commands create the first feature in the esmeralda S1_L1 collection. Then, it gets the the feature created.\n",
    "\n",
    "Let's look at its content."
   ]
  },
  {
   "cell_type": "markdown",
   "id": "82a7e3dc-f25b-4584-9d56-2c41989810e8",
   "metadata": {},
   "source": [
    "## Add an item in the collection S1_L1 in the DemoUser catalog"
   ]
  },
  {
   "cell_type": "code",
   "execution_count": null,
   "id": "9f576bca-c072-46f9-b20f-76f9578497d2",
   "metadata": {},
   "outputs": [],
   "source": [
    "item_0 = {\n",
    "            \"id\": \"item_0\",\n",
    "            \"bbox\": [-94.6334839, 37.0332547, -94.6005249, 37.0595608],\n",
    "            \"type\": \"Feature\",\n",
    "            \"geometry\": {\n",
    "                \"type\": \"Polygon\",\n",
    "                \"coordinates\": [\n",
    "                    [\n",
    "                        [-94.6334839, 37.0595608],\n",
    "                        [-94.6334839, 37.0332547],\n",
    "                        [-94.6005249, 37.0332547],\n",
    "                        [-94.6005249, 37.0595608],\n",
    "                        [-94.6334839, 37.0595608],\n",
    "                    ]\n",
    "                ],\n",
    "            },\n",
    "            \"collection\": \"S1_L1\",\n",
    "            \"properties\": {\n",
    "                \"gsd\": 0.5971642834779395,\n",
    "                \"width\": 2500,\n",
    "                \"height\": 2500,\n",
    "                \"datetime\": \"2000-02-02T00:00:00Z\",\n",
    "                \"proj:epsg\": 3857,\n",
    "                \"orientation\": \"nadir\",\n",
    "                \"owner_id\": \"DemoUser\",\n",
    "            },\n",
    "            \"stac_extensions\": [],\n",
    "            \"assets\": {\n",
    "                \"file\": {\n",
    "                    \"href\": \"s3://rs-cluster-temp/cadip/item2.dataset\",\n",
    "                    \"type\": \"image/tiff; application=geotiff; profile=cloud-optimized\",\n",
    "                    \"title\": \"NOAA STORM COG\",\n",
    "                },\n",
    "            },\n",
    "        }\n",
    "\n",
    "post_response = requests.post(f\"{RS_SERVER_ROOT_URL}/catalog/collections/DemoUser:S1_L1/items\", json=item_0, **HEADERS)\n",
    "post_response.raise_for_status()\n",
    "\n",
    "item_response = requests.get(f\"{RS_SERVER_ROOT_URL}/catalog/collections/DemoUser:S1_L1/items\", **HEADERS)\n",
    "item_response.raise_for_status()\n",
    "\n",
    "item = json.loads(item_response.content)\n",
    "item"
   ]
  },
  {
   "cell_type": "markdown",
   "id": "47bc67e7-6d34-42ef-b001-5eaf813b5d72",
   "metadata": {},
   "source": [
    "## Get the first item from jgaucher S1_L1 collection"
   ]
  },
  {
   "cell_type": "code",
   "execution_count": null,
   "id": "c0b5d26a-24fc-4c14-a997-735f91c5c12f",
   "metadata": {},
   "outputs": [],
   "source": [
    "import requests\n",
    "import json\n",
    "\n",
    "get_response = requests.get(f\"{RS_SERVER_ROOT_URL}/catalog/collections/jgaucher:S1_L1/items/item_0\", **HEADERS)\n",
    "get_response.raise_for_status()\n",
    "\n",
    "item = json.loads(get_response.content)\n",
    "item"
   ]
  },
  {
   "cell_type": "markdown",
   "id": "77290133-d0b5-476d-926a-08be8fac62c6",
   "metadata": {},
   "source": [
    "The previous commands will display a single item from esmeralda S1_L1 collection"
   ]
  },
  {
   "cell_type": "markdown",
   "id": "08434e7a-c96c-4b6a-bfde-a9e0ec2e47ba",
   "metadata": {},
   "source": [
    "## Add 2 new items in jgaucher S1_L1 collection and search all items with the datetime: "
   ]
  },
  {
   "cell_type": "code",
   "execution_count": null,
   "id": "affc850d-455b-44bf-9155-91ffd439d009",
   "metadata": {},
   "outputs": [],
   "source": [
    "item_1 = {\n",
    "            \"id\": \"item_1\",\n",
    "            \"bbox\": [-94.6334839, 37.0332547, -94.6005249, 37.0595608],\n",
    "            \"type\": \"Feature\",\n",
    "            \"geometry\": {\n",
    "                \"type\": \"Polygon\",\n",
    "                \"coordinates\": [\n",
    "                    [\n",
    "                        [-94.6334839, 37.0595608],\n",
    "                        [-94.6334839, 37.0332547],\n",
    "                        [-94.6005249, 37.0332547],\n",
    "                        [-94.6005249, 37.0595608],\n",
    "                        [-94.6334839, 37.0595608],\n",
    "                    ]\n",
    "                ],\n",
    "            },\n",
    "            \"collection\": \"S1_L1\",\n",
    "            \"properties\": {\n",
    "                \"gsd\": 0.5971642834779395,\n",
    "                \"width\": 2500,\n",
    "                \"height\": 2500,\n",
    "                \"datetime\": \"2000-03-02T00:00:00Z\",\n",
    "                \"proj:epsg\": 3857,\n",
    "                \"orientation\": \"nadir\",\n",
    "                \"owner_id\": \"jgaucher\",\n",
    "            },\n",
    "            \"stac_extensions\": [],\n",
    "            \"assets\": {\n",
    "                \"file\": {\n",
    "                    \"href\": \"s3://rs-cluster-temp/cadip/item1.dataset\",\n",
    "                    \"type\": \"image/tiff; application=geotiff; profile=cloud-optimized\",\n",
    "                    \"title\": \"NOAA STORM COG\",\n",
    "                },\n",
    "            },\n",
    "        }\n",
    "\n",
    "item_2 = {\n",
    "            \"id\": \"item_2\",\n",
    "            \"bbox\": [-94.6334839, 37.0332547, -94.6005249, 37.0595608],\n",
    "            \"type\": \"Feature\",\n",
    "            \"geometry\": {\n",
    "                \"type\": \"Polygon\",\n",
    "                \"coordinates\": [\n",
    "                    [\n",
    "                        [-94.6334839, 37.0595608],\n",
    "                        [-94.6334839, 37.0332547],\n",
    "                        [-94.6005249, 37.0332547],\n",
    "                        [-94.6005249, 37.0595608],\n",
    "                        [-94.6334839, 37.0595608],\n",
    "                    ]\n",
    "                ],\n",
    "            },\n",
    "            \"collection\": \"S1_L1\",\n",
    "            \"properties\": {\n",
    "                \"gsd\": 0.5971642834779395,\n",
    "                \"width\": 2500,\n",
    "                \"height\": 2500,\n",
    "                \"datetime\": \"2000-03-02T00:00:00Z\",\n",
    "                \"proj:epsg\": 3857,\n",
    "                \"orientation\": \"nadir\",\n",
    "                \"owner_id\": \"jgaucher\",\n",
    "            },\n",
    "            \"stac_extensions\": [],\n",
    "            \"assets\": {\n",
    "                \"file\": {\n",
    "                    \"href\": \"s3://rs-cluster-temp/cadip/item2.dataset\",\n",
    "                    \"type\": \"image/tiff; application=geotiff; profile=cloud-optimized\",\n",
    "                    \"title\": \"NOAA STORM COG\",\n",
    "                },\n",
    "            },\n",
    "        }\n",
    "# Create empty dummy data files for this demo\n",
    "import tempfile\n",
    "for item_name in (\"cadip/item1.dataset\", \"cadip/item2.dataset\"):\n",
    "    with tempfile.NamedTemporaryFile() as tmp:\n",
    "        s3_client.upload_file (tmp.name, TEMP_BUCKET, item_name)\n",
    "\n",
    "# Save the current datetime (no ms, no time zone)\n",
    "from datetime import datetime\n",
    "demo_start_time = datetime.now().replace(microsecond=0).astimezone()\n",
    "post = requests.post(f\"{RS_SERVER_ROOT_URL}/catalog/collections/jgaucher:S1_L1/items\", json=item_1, **HEADERS)\n",
    "post.raise_for_status()\n",
    "post = requests.post(f\"{RS_SERVER_ROOT_URL}/catalog/collections/jgaucher:S1_L1/items\", json=item_2, **HEADERS)\n",
    "post.raise_for_status()"
   ]
  },
  {
   "cell_type": "code",
   "execution_count": null,
   "id": "ac046642-65bd-4c09-a330-eec683d3691e",
   "metadata": {},
   "outputs": [],
   "source": [
    "parameters = {\"collections\": [\"S1_L1\"], \"filter\": \"datetime='2000-03-02T00:00:00Z' AND owner_id='jgaucher'\"}\n",
    "search_response = requests.get(f\"{RS_SERVER_ROOT_URL}/catalog/search\", params=parameters, **HEADERS)\n",
    "search_response.raise_for_status()\n",
    "\n",
    "result = json.loads(search_response.content)\n",
    "result"
   ]
  },
  {
   "cell_type": "markdown",
   "id": "96116b94-2387-4eec-9342-0258714e35f5",
   "metadata": {},
   "source": [
    "The previous command will display the result from the search endpoint with specifics parameters such as the collection name or the datetime."
   ]
  },
  {
   "cell_type": "code",
   "execution_count": null,
   "id": "29610333-39a0-4a0c-89e3-2707374c3aef",
   "metadata": {},
   "outputs": [],
   "source": [
    "json_parameters = {\n",
    "    \"collections\": [\"S1_L1\"],\n",
    "    \"filter-lang\": \"cql2-json\",\n",
    "    \"filter\": {\n",
    "        \"op\": \"and\",\n",
    "        \"args\": [\n",
    "            {\"op\": \"=\", \"args\": [{\"property\": \"owner_id\"}, \"jgaucher\"]},\n",
    "            {\"op\": \"=\", \"args\": [{\"property\": \"datetime\"}, \"2000-03-02T00:00:00Z\"]},\n",
    "        ],\n",
    "    },\n",
    "}\n",
    "\n",
    "search_response = requests.post(f\"{RS_SERVER_ROOT_URL}/catalog/search\", json=json_parameters, **HEADERS)\n",
    "search_response.raise_for_status()\n",
    "\n",
    "result = json.loads(search_response.content)\n",
    "result"
   ]
  },
  {
   "cell_type": "markdown",
   "id": "09dee026-6bfc-450c-8828-b856786bbb60",
   "metadata": {},
   "source": [
    "We can do the same operation using a post request."
   ]
  },
  {
   "cell_type": "markdown",
   "id": "bf024175-a0d7-4ef2-b84d-8d59b7c43d7f",
   "metadata": {},
   "source": [
    "## Update the item_0 from the jgaucher S1_L1 collection"
   ]
  },
  {
   "cell_type": "code",
   "execution_count": null,
   "id": "e6c73d49-13b3-42ca-b0d8-0d34ce726ac9",
   "metadata": {},
   "outputs": [],
   "source": [
    "new_item_0 = {\n",
    "            \"id\": \"item_0\",\n",
    "            \"bbox\": [-94.6334839, 37.0332547, -94.6005249, 37.0595608],\n",
    "            \"type\": \"Feature\",\n",
    "            \"geometry\": {\n",
    "                \"type\": \"Polygon\",\n",
    "                \"coordinates\": [\n",
    "                    [\n",
    "                        [-100, 37.0595608],\n",
    "                        [-108, 37.0332547],\n",
    "                        [-100, 37.0332547],\n",
    "                        [-111, 37.0595608],\n",
    "                        [-100, 37.0595608],\n",
    "                    ]\n",
    "                ],\n",
    "            },\n",
    "            \"collection\": \"S1_L1\",\n",
    "            \"properties\": {\n",
    "                \"gsd\": 0.5971642834779395,\n",
    "                \"width\": 5000,\n",
    "                \"height\": 2500,\n",
    "                \"datetime\": \"2014-02-02T00:00:00Z\",\n",
    "                \"proj:epsg\": 3857,\n",
    "                \"orientation\": \"nadir\",\n",
    "                \"owner_id\": \"jgaucher\",\n",
    "            },\n",
    "            \"stac_extensions\": [],\n",
    "            \"assets\": {\n",
    "                \"file\": {\n",
    "                    \"href\": \"s3://rs-cluster-temp/cadip/item2.dataset\",\n",
    "                    \"type\": \"image/tiff; application=geotiff; profile=cloud-optimized\",\n",
    "                    \"title\": \"NOAA STORM COG\",\n",
    "                },\n",
    "            },\n",
    "        }\n",
    "# Create empty dummy data files for this demo\n",
    "import tempfile\n",
    "for item_name in (\"cadip/item1.dataset\", \"cadip/item2.dataset\"):\n",
    "    with tempfile.NamedTemporaryFile() as tmp:\n",
    "        s3_client.upload_file (tmp.name, TEMP_BUCKET, item_name)\n",
    "        \n",
    "update_response = requests.put(f\"{RS_SERVER_ROOT_URL}/catalog/collections/jgaucher:S1_L1/items/item_0\", json=new_item_0, **HEADERS)\n",
    "update_response.raise_for_status()\n",
    "\n",
    "result = json.loads(update_response.content)\n",
    "result"
   ]
  },
  {
   "cell_type": "markdown",
   "id": "54614d9c-e5cd-46ee-973b-49ac0cfffd5b",
   "metadata": {},
   "source": [
    "The previous command will update the item_0 from the Esmeralda S1_L1 collection by changing geometry, width and datetime."
   ]
  },
  {
   "cell_type": "code",
   "execution_count": null,
   "id": "1683227f-0932-40f6-af56-a6c52b90491d",
   "metadata": {},
   "outputs": [],
   "source": [
    "# Check that the asset was copied to the final catalog bucket\n",
    "item1_time = s3_client.head_object(Bucket=FINAL_BUCKET, Key=\"cadip/item2.dataset\")[\"LastModified\"]\n",
    "assert item1_time >= demo_start_time, \\\n",
    "       f\"'{item1_time}' should be >= '{demo_start_time}'\"\n",
    "\n",
    "# And was removed from the temp bucket\n",
    "assert \"Contents\" not in s3_client.list_objects(Bucket=TEMP_BUCKET, Prefix=\"cadip/item2.dataset\"), \\\n",
    "       \"Should have been removed from the temp bucket\""
   ]
  },
  {
   "cell_type": "markdown",
   "id": "491fbcdf-a46e-4993-b167-813abae9f16f",
   "metadata": {},
   "source": [
    "## Update the collection S1_L1 from the jgaucher catalog"
   ]
  },
  {
   "cell_type": "code",
   "execution_count": null,
   "id": "1bea3dac-b851-4cc1-8765-ff9545e51860",
   "metadata": {},
   "outputs": [],
   "source": [
    "new_collection_S1_L1 = {\n",
    "            \"id\": \"S1_L1\",\n",
    "            \"type\": \"Collection\",\n",
    "            \"description\": \"This is the new description for the S1_L1 collection for jgaucher user.\",\n",
    "            \"stac_version\": \"1.0.0\",\n",
    "            \"owner\": \"jgaucher\"\n",
    "        }\n",
    "\n",
    "update_response = requests.put(f\"{RS_SERVER_ROOT_URL}/catalog/collections\", json=new_collection_S1_L1, **HEADERS)\n",
    "update_response.raise_for_status()\n",
    "\n",
    "result = json.loads(update_response.content)\n",
    "result"
   ]
  },
  {
   "cell_type": "markdown",
   "id": "ed15f73e-92e4-4d23-bae6-08eb1874057b",
   "metadata": {},
   "source": [
    "The previous command will update the collection S1_L1 from the Esmeralda catalog by changing the collection description."
   ]
  },
  {
   "cell_type": "markdown",
   "id": "1ae54cb5-52d6-440b-8e67-8618f00db054",
   "metadata": {},
   "source": [
    "## Get all the accessible collections from the user ycolera"
   ]
  },
  {
   "cell_type": "code",
   "execution_count": null,
   "id": "c9cbfef2-5477-45dc-afe6-8df3134675be",
   "metadata": {},
   "outputs": [],
   "source": [
    "response = requests.get(f\"{RS_SERVER_ROOT_URL}/catalog/collections\", **HEADERS)\n",
    "response.raise_for_status()\n",
    "\n",
    "json.loads(response.content)"
   ]
  },
  {
   "cell_type": "markdown",
   "id": "94495df5-e092-45b5-8f89-95a5612ceb5c",
   "metadata": {},
   "source": [
    "The previous command show all the collection that the user \"ycolera\" has access to."
   ]
  },
  {
   "cell_type": "markdown",
   "id": "0305b082-8c1a-4e5d-9885-06c698aa4cb9",
   "metadata": {},
   "source": [
    "## Get the landing page"
   ]
  },
  {
   "cell_type": "code",
   "execution_count": null,
   "id": "8adeaf87-c844-4b59-98b6-8bf400bc9fe8",
   "metadata": {},
   "outputs": [],
   "source": [
    "response = requests.get(f\"{RS_SERVER_ROOT_URL}/catalog/\", **HEADERS)\n",
    "response.raise_for_status()\n",
    "\n",
    "landing_page = json.loads(response.content)\n",
    "landing_page"
   ]
  },
  {
   "cell_type": "markdown",
   "id": "48fa3f87-70df-462b-8ab6-673daff98e84",
   "metadata": {},
   "source": [
    "The previous command loads the landing page of the user \"ycolera\". We can see all the collections and catalogs he has access to."
   ]
  },
  {
   "cell_type": "markdown",
   "id": "888768bb-5b97-4c14-a9f9-f99865bb4923",
   "metadata": {},
   "source": [
    "## Using an endpoint without being authenticated"
   ]
  },
  {
   "cell_type": "code",
   "execution_count": null,
   "id": "75e4c2f3-ac32-498b-9b2b-35eeb06c319d",
   "metadata": {},
   "outputs": [],
   "source": [
    "response = requests.get(f\"{RS_SERVER_ROOT_URL}/catalog/\")\n",
    "\n",
    "landing_page = json.loads(response.content)\n",
    "landing_page"
   ]
  },
  {
   "cell_type": "markdown",
   "id": "f7d957e2-a9d8-4f20-9f1b-6c764963f8b2",
   "metadata": {},
   "source": [
    "## Using an endpoint without being authorized"
   ]
  },
  {
   "cell_type": "code",
   "execution_count": null,
   "id": "20be2361-8058-4df1-95c4-bee4f77d07a7",
   "metadata": {},
   "outputs": [],
   "source": [
    "toto_S1_L1 = {\n",
    "            \"id\": \"S1_L1\",\n",
    "            \"type\": \"Collection\",\n",
    "            \"description\": \"This is the new description for the S1_L1 collection for toto user.\",\n",
    "            \"stac_version\": \"1.0.0\",\n",
    "            \"owner\": \"toto\"\n",
    "        }\n",
    "\n",
    "response = requests.post(f\"{RS_SERVER_ROOT_URL}/catalog/collections\", json=toto_S1_L1, **HEADERS)\n",
    "\n",
    "content = json.loads(response.content)\n",
    "content"
   ]
  },
  {
   "cell_type": "markdown",
   "id": "d4c33dad-a55e-46d3-9b6f-8e4e3d671c8b",
   "metadata": {},
   "source": [
    "## Get the jgaucher catalog"
   ]
  },
  {
   "cell_type": "code",
   "execution_count": null,
   "id": "d33c75f3-e108-41e2-aa00-321b03317989",
   "metadata": {},
   "outputs": [],
   "source": [
    "response = requests.get(f\"{RS_SERVER_ROOT_URL}/catalog/catalogs/jgaucher\", **HEADERS)\n",
    "response.raise_for_status()\n",
    "\n",
    "catalog_jgaucher = json.loads(response.content)\n",
    "catalog_jgaucher"
   ]
  },
  {
   "cell_type": "markdown",
   "id": "23d6c7bf-f6a8-4d96-9e61-1b9d4a2a7f34",
   "metadata": {},
   "source": [
    "## Get an unauthorized catalog"
   ]
  },
  {
   "cell_type": "code",
   "execution_count": null,
   "id": "0d7f4198-5f2e-415d-ad4b-a8a29753a763",
   "metadata": {},
   "outputs": [],
   "source": [
    "response = requests.get(f\"{RS_SERVER_ROOT_URL}/catalog/catalogs/titi\", **HEADERS)\n",
    "\n",
    "catalog_jgaucher = json.loads(response.content)\n",
    "catalog_jgaucher"
   ]
  },
  {
   "cell_type": "markdown",
   "id": "03dd77da-dab6-450c-8400-c81f4ab448f4",
   "metadata": {},
   "source": [
    "## The user_login linked to the API key has implicit roles on his own catalog"
   ]
  },
  {
   "cell_type": "code",
   "execution_count": null,
   "id": "55669db4-e58a-49a7-affb-e78c0e71d2e4",
   "metadata": {},
   "outputs": [],
   "source": [
    "ycolera_collection = {\n",
    "            \"id\": \"S1_L1\",\n",
    "            \"type\": \"Collection\",\n",
    "            \"description\": \"This is the  description for the S1_L1 collection for ycolera user.\",\n",
    "            \"stac_version\": \"1.0.0\",\n",
    "            \"owner\": \"ycolera\"\n",
    "        }\n",
    "post_new_collection = requests.post(f\"{RS_SERVER_ROOT_URL}/catalog/collections\", json=ycolera_collection, **HEADERS)\n",
    "post_new_collection.raise_for_status()"
   ]
  },
  {
   "cell_type": "code",
   "execution_count": null,
   "id": "11d3a870-936f-4b02-9ef5-477c66830272",
   "metadata": {},
   "outputs": [],
   "source": [
    "response = requests.get(f\"{RS_SERVER_ROOT_URL}/catalog/collections/ycolera:S1_L1\", **HEADERS)\n",
    "response.raise_for_status()\n",
    "\n",
    "content = json.loads(response.content)\n",
    "content"
   ]
  },
  {
   "cell_type": "markdown",
   "id": "dd95498a-13a3-4240-b75d-803bf0ef5fa1",
   "metadata": {},
   "source": [
    "## Delete an item from the jgaucher S1_L1 collection"
   ]
  },
  {
   "cell_type": "code",
   "execution_count": null,
   "id": "ada1dbc9-886a-41a2-b0ad-62130e503837",
   "metadata": {},
   "outputs": [],
   "source": [
    "delete_response = requests.delete(f\"{RS_SERVER_ROOT_URL}/catalog/collections/jgaucher:S1_L1/items/item_2\", **HEADERS)\n",
    "delete_response.raise_for_status()\n",
    "\n",
    "result = json.loads(delete_response.content)\n",
    "result"
   ]
  },
  {
   "cell_type": "markdown",
   "id": "7299b7b7-6cdd-4da8-81ad-1a38fb36e3cd",
   "metadata": {},
   "source": [
    "## Delete the collection S1_L1 from the jgaucher catalog"
   ]
  },
  {
   "cell_type": "code",
   "execution_count": null,
   "id": "d9f1f714-6fd5-409f-a14c-6a479923f6ef",
   "metadata": {},
   "outputs": [],
   "source": [
    "delete_response = requests.delete(f\"{RS_SERVER_ROOT_URL}/catalog/collections/jgaucher:S1_L1\", **HEADERS)\n",
    "delete_response.raise_for_status()\n",
    "\n",
    "result = json.loads(delete_response.content)\n",
    "result"
   ]
  },
  {
   "cell_type": "markdown",
   "id": "42a402e7-2014-47f2-9454-db4b946a135c",
   "metadata": {},
   "source": [
    "## Delete the collection S1_L1 from the DemoUser catalog"
   ]
  },
  {
   "cell_type": "code",
   "execution_count": null,
   "id": "bd7fbb78-d9c6-4a56-bc54-99594234fd39",
   "metadata": {},
   "outputs": [],
   "source": [
    "delete_response = requests.delete(f\"{RS_SERVER_ROOT_URL}/catalog/collections/DemoUser:S1_L1\", **HEADERS)\n",
    "delete_response.raise_for_status()\n",
    "\n",
    "result = json.loads(delete_response.content)\n",
    "result"
   ]
  },
  {
   "cell_type": "markdown",
   "id": "6a323f71-b1ff-4a83-b104-682a3fa52d82",
   "metadata": {},
   "source": [
    "## Clear files from catalog bucket"
   ]
  },
  {
   "cell_type": "code",
   "execution_count": null,
   "id": "d6c0f95a-5145-4d08-b2fa-49ff05dea56c",
   "metadata": {},
   "outputs": [],
   "source": [
    "for item_name in (\"cadip/item1.dataset\", \"cadip/item2.dataset\"):\n",
    "    for bucket in (TEMP_BUCKET, FINAL_BUCKET):\n",
    "        s3_client.delete_object(Bucket=bucket, Key=item_name)"
   ]
  },
  {
   "cell_type": "code",
   "execution_count": null,
   "id": "e77571b1-4943-4441-be1d-c400ee650a12",
   "metadata": {},
   "outputs": [],
   "source": []
  }
 ],
 "metadata": {
  "kernelspec": {
   "display_name": "Python 3 (ipykernel)",
   "language": "python",
   "name": "python3"
  },
  "language_info": {
   "codemirror_mode": {
    "name": "ipython",
    "version": 3
   },
   "file_extension": ".py",
   "mimetype": "text/x-python",
   "name": "python",
   "nbconvert_exporter": "python",
   "pygments_lexer": "ipython3",
   "version": "3.11"
  }
 },
 "nbformat": 4,
 "nbformat_minor": 5
}

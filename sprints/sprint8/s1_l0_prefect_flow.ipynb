{
 "cells": [
  {
   "cell_type": "markdown",
   "id": "d398824b",
   "metadata": {},
   "source": [
    "This demo uses the implemented story RSPY-120.\n",
    "\n",
    "ASSUMPTION: All the files from CADIP and ADGS mockup stations are already ingested and well published in the catalog. The ingestion of these files can be performed by running the demo prefect_flows_with_catalog_support from sprint_7 prior running this demo"
   ]
  },
  {
   "cell_type": "markdown",
   "id": "45a6fd57-cb01-4ed4-a9ba-fcd0a99c2a41",
   "metadata": {},
   "source": [
    "## Configuration"
   ]
  },
  {
   "cell_type": "code",
   "execution_count": null,
   "id": "8db61817",
   "metadata": {},
   "outputs": [],
   "source": [
    "import getpass\n",
    "import os\n",
    "\n",
    "# S3 access\n",
    "if not os.getenv(\"S3_ACCESSKEY\"):\n",
    "    os.environ[\"S3_ACCESSKEY\"] = getpass.getpass(f\"Enter S3 access key for {os.environ['S3_ENDPOINT']!r}:\")\n",
    "if not os.getenv(\"S3_SECRETKEY\"):\n",
    "    os.environ[\"S3_SECRETKEY\"] = getpass.getpass(f\"Enter S3 secret key for {os.environ['S3_ENDPOINT']!r}:\")\n",
    "    \n",
    "# API key authentication (not on local mode)\n",
    "if (os.getenv(\"RSPY_LOCAL_MODE\") != \"1\") and (not os.getenv(\"RSPY_APIKEY\")):\n",
    "    os.environ[\"RSPY_APIKEY\"] = getpass.getpass(f\"Enter your API key from {os.environ['RSPY_WEBSITE']!r}:\")\n"
   ]
  },
  {
   "cell_type": "code",
   "execution_count": null,
   "id": "640d32d1-54e8-4ab2-9b6b-c0af28d2c620",
   "metadata": {},
   "outputs": [],
   "source": [
    "# Set local or cluster configuration\n",
    "import os\n",
    "\n",
    "if os.getenv(\"RSPY_LOCAL_MODE\") == \"1\":\n",
    "    url_catalog = \"http://rs-server-catalog:8000\"\n",
    "    url_dpr_sim = \"http://dpr-simulator:8000\"\n",
    "    HEADERS={}\n",
    "    local_mode = True\n",
    "else:\n",
    "    url_catalog = os.environ[\"RSPY_WEBSITE\"]\n",
    "    # the dpr mockup can be run inside the cluster only\n",
    "    url_dpr_sim = \"http://mockup-processor-dpr-svc.processing.svc.cluster.local:8080\"\n",
    "    HEADERS={\"headers\": {\"x-api-key\": os.environ[\"RSPY_APIKEY\"]}}\n",
    "    local_mode = False\n",
    "\n",
    "print(f\"Using url for catalog: {url_catalog}\")\n",
    "print(f\"Using url for dpr-simulator: {url_dpr_sim}\")\n",
    "\n",
    "import requests\n",
    "import json"
   ]
  },
  {
   "cell_type": "markdown",
   "id": "0aaca0c8",
   "metadata": {},
   "source": [
    "Install the needed libraries"
   ]
  },
  {
   "cell_type": "code",
   "execution_count": null,
   "id": "ee59e71a",
   "metadata": {},
   "outputs": [],
   "source": [
    "!pip install boto3\n",
    "if local_mode:\n",
    "    try:\n",
    "        import rs_workflows\n",
    "    except ModuleNotFoundError:\n",
    "        !(cd $RSPY_WHL_DIR && pip install rs_client_libraries-*.whl) # install rs-client if missing\n",
    "        !opentelemetry-bootstrap -a install # install opentelemetry instrumentation for deps"
   ]
  },
  {
   "cell_type": "code",
   "execution_count": null,
   "id": "66feca8c-8437-433f-a752-0c7f092014ae",
   "metadata": {},
   "outputs": [],
   "source": [
    "# Instrument these notebook cells with OpenTelemetry (optional)\n",
    "from opentelemetry import trace\n",
    "otel_tracer = trace.get_tracer(\"my.notebook.trace\")"
   ]
  },
  {
   "cell_type": "code",
   "execution_count": null,
   "id": "3fe21c69",
   "metadata": {},
   "outputs": [],
   "source": [
    "# Check if there are the same products as this demo will process in the final catalog bucket\n",
    "\n",
    "import boto3\n",
    "import os\n",
    "\n",
    "if local_mode:\n",
    "    delete_files = True\n",
    "else:\n",
    "    delete_files = input(\"Before running the demo, check if previous results are in the final bucket. If these are to be found, should they be removed (optional)? (y/n): \").lower().strip() == 'y'\n",
    "\n",
    "s3_dir = \"PRODUCTS_DEMO_SPRINT_8\"\n",
    "\n",
    "s3_session = boto3.session.Session()\n",
    "s3_client = s3_session.client(\n",
    "    service_name=\"s3\",\n",
    "    aws_access_key_id=os.environ[\"S3_ACCESSKEY\"],\n",
    "    aws_secret_access_key=os.environ[\"S3_SECRETKEY\"],\n",
    "    endpoint_url=os.environ[\"S3_ENDPOINT\"],\n",
    "    region_name=os.environ[\"S3_REGION\"],\n",
    ")\n",
    "\n",
    "bucket_name = \"rs-cluster-catalog\"\n",
    "none_found = True\n",
    "for bucket in s3_client.list_buckets()[\"Buckets\"]:\n",
    "    if bucket_name != bucket[\"Name\"]:\n",
    "        continue\n",
    "    if 'Contents' in s3_client.list_objects(Bucket=bucket_name):\n",
    "        objects = s3_client.list_objects(Bucket=bucket_name)['Contents']\n",
    "        for obj in objects:\n",
    "            if s3_dir in obj[\"Key\"]:                \n",
    "                if delete_files:\n",
    "                    print(f\"Deleting {obj['Key']}\")\n",
    "                    s3_client.delete_object(Bucket=bucket_name, Key=obj['Key'])\n",
    "                else:                          \n",
    "                    print(f\"{obj['Key']} modified on {obj['LastModified']}\") \n",
    "                    none_found = False\n",
    "print(\"No products found in the catalog bucket\") if none_found else print(\"\\nProducts found in the catalog bucket\")"
   ]
  },
  {
   "cell_type": "code",
   "execution_count": null,
   "id": "61ab23ff-b2e7-4b16-a590-6a036cc4f116",
   "metadata": {},
   "outputs": [],
   "source": [
    "# Clean previous executions\n",
    "requests.delete(f\"{url_catalog}/catalog/collections/DemoUser:s1_dpr\", **HEADERS)"
   ]
  },
  {
   "cell_type": "code",
   "execution_count": null,
   "id": "78f7263f-b07d-4673-b6d3-301b035e76f9",
   "metadata": {},
   "outputs": [],
   "source": [
    "# Assumption: all the files from CADIP and ADGS server are well ingested in the catalog  as well as in the buckets\n",
    "# Note: the S3_ACCESSKEY, S3_SECRETKEY and S3_ENDPOINT are given in the docker-compose.yml file.\n",
    "with otel_tracer.start_as_current_span(\"nb.run-flow-s1_l0\") as span:\n",
    "    from rs_workflows.s1_l0 import (\n",
    "        s1_l0_flow,\n",
    "        PrefectS1L0FlowConfig,\n",
    "    )\n",
    "    user = \"DemoUser\"\n",
    "    mission = \"s1\"\n",
    "    session_id = \"S1A_20200105072204051312\"\n",
    "    s3_storage = f\"s3://rs-cluster-final/{s3_dir}/\"\n",
    "    temp_s3_storage = f\"s3://rs-cluster-temp/{s3_dir}/\"\n",
    "    # the type of the prducts that the DPR should process\n",
    "    product_types = [\"S1SEWRAW\", \"S1SIWRAW\", \"S1SSMRAW\", \"S1SWVRAW\"]\n",
    "    s1_l0_flow(\n",
    "            PrefectS1L0FlowConfig(\n",
    "                user,\n",
    "                url_catalog,\n",
    "                url_dpr_sim,\n",
    "                mission,\n",
    "                session_id,\n",
    "                product_types,\n",
    "                s3_storage,\n",
    "                temp_s3_storage,\n",
    "                os.environ.get(\"RSPY_APIKEY\", None),\n",
    "            ),\n",
    "        )"
   ]
  },
  {
   "cell_type": "code",
   "execution_count": null,
   "id": "715391d5-7a12-4a8f-bd33-4ec37e3b304b",
   "metadata": {},
   "outputs": [],
   "source": []
  }
 ],
 "metadata": {
  "kernelspec": {
   "display_name": "Python 3 (ipykernel)",
   "language": "python",
   "name": "python3"
  },
  "language_info": {
   "codemirror_mode": {
    "name": "ipython",
    "version": 3
   },
   "file_extension": ".py",
   "mimetype": "text/x-python",
   "name": "python",
   "nbconvert_exporter": "python",
   "pygments_lexer": "ipython3",
   "version": "3.11"
  }
 },
 "nbformat": 4,
 "nbformat_minor": 5
}

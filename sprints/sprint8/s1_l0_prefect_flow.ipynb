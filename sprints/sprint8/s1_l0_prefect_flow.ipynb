{
 "cells": [
  {
   "cell_type": "markdown",
   "id": "d398824b",
   "metadata": {},
   "source": [
    "This demo uses the implemented story RSPY-120"
   ]
  },
  {
   "cell_type": "markdown",
   "id": "45a6fd57-cb01-4ed4-a9ba-fcd0a99c2a41",
   "metadata": {},
   "source": [
    "## Configuration"
   ]
  },
  {
   "cell_type": "code",
   "execution_count": null,
   "id": "8db61817",
   "metadata": {},
   "outputs": [],
   "source": [
    "import getpass\n",
    "import os\n",
    " \n",
    "# S3 access\n",
    "if not os.getenv(\"S3_ACCESSKEY\"):\n",
    "    os.environ[\"S3_ACCESSKEY\"] = getpass.getpass(f\"Enter S3 access key for {os.environ['S3_ENDPOINT']!r}:\")\n",
    "if not os.getenv(\"S3_SECRETKEY\"):\n",
    "    os.environ[\"S3_SECRETKEY\"] = getpass.getpass(f\"Enter S3 secret key for {os.environ['S3_ENDPOINT']!r}:\")\n",
    "    \n",
    "# API key authentication (not on local mode)\n",
    "if (os.getenv(\"RSPY_LOCAL_MODE\") != \"1\") and (not os.getenv(\"RSPY_APIKEY\")):\n",
    "    os.environ[\"RSPY_APIKEY\"] = getpass.getpass(f\"Enter your API key from {os.environ['RSPY_WEBSITE']!r}:\")\n"
   ]
  },
  {
   "cell_type": "code",
   "execution_count": null,
   "id": "640d32d1-54e8-4ab2-9b6b-c0af28d2c620",
   "metadata": {},
   "outputs": [],
   "source": [
    "# Set local or cluster configuration\n",
    "import os\n",
    "\n",
    "if os.getenv(\"RSPY_LOCAL_MODE\") == \"1\":\n",
    "    url_catalog = \"http://rs-server-catalog:8000\"\n",
    "    url_dpr_sim = \"http://dpr-simulator:8000\"\n",
    "    HEADERS={}\n",
    "    local_mode = True\n",
    "else:\n",
    "    url_catalog = os.environ[\"RSPY_WEBSITE\"]\n",
    "    url_dpr_sim = os.environ[\"RSPY_WEBSITE\"]\n",
    "    #url_dpr_sim = \"http://mockup-processor-dpr-svc.processing.svc.cluster.local:8080\"\n",
    "    HEADERS={\"headers\": {\"x-api-key\": os.environ[\"RSPY_APIKEY\"]}}\n",
    "    local_mode = False\n",
    "\n",
    "print(f\"Using url for catalog: {url_catalog}\")\n",
    "print(f\"Using url for dpr-simulator: {url_dpr_sim}\")\n",
    "\n",
    "import requests\n",
    "import json"
   ]
  },
  {
   "cell_type": "code",
   "execution_count": null,
   "id": "61ab23ff-b2e7-4b16-a590-6a036cc4f116",
   "metadata": {},
   "outputs": [],
   "source": [
    "# Clean previous executions\n",
    "requests.delete(f\"{url_catalog}/catalog/collections/DemoUser:s1_dpr\", **HEADERS)"
   ]
  },
  {
   "cell_type": "code",
   "execution_count": null,
   "id": "78f7263f-b07d-4673-b6d3-301b035e76f9",
   "metadata": {},
   "outputs": [],
   "source": [
    "# Assumption: all the files from CADIP and ADGS server are well ingested in the catalog  as well as in the buckets\n",
    "# Note: the S3_ACCESSKEY, S3_SECRETKEY and S3_ENDPOINT are given in the docker-compose.yml file.\n",
    "from rs_workflows.s1_l0 import (\n",
    "    s1_l0_flow,\n",
    "    PrefectS1L0FlowConfig,\n",
    ")\n",
    "user = \"DemoUser\"\n",
    "mission = \"s1\"\n",
    "session_id = \"S1A_20200105072204051312\"\n",
    "s3_storage = \"s3://rs-cluster-final/PRODUCTS/\"\n",
    "temp_s3_storage = \"s3://rs-cluster-temp/PRODUCTS/\"\n",
    "s1_l0_flow(\n",
    "        PrefectS1L0FlowConfig(\n",
    "            user,\n",
    "            url_catalog,\n",
    "            url_dpr_sim,\n",
    "            mission,\n",
    "            session_id,\n",
    "            s3_storage,\n",
    "            temp_s3_storage,\n",
    "            os.environ.get(\"RSPY_APIKEY\", None),\n",
    "        ),\n",
    "    )"
   ]
  },
  {
   "cell_type": "code",
   "execution_count": null,
   "id": "715391d5-7a12-4a8f-bd33-4ec37e3b304b",
   "metadata": {},
   "outputs": [],
   "source": []
  }
 ],
 "metadata": {
  "kernelspec": {
   "display_name": "Python 3 (ipykernel)",
   "language": "python",
   "name": "python3"
  },
  "language_info": {
   "codemirror_mode": {
    "name": "ipython",
    "version": 3
   },
   "file_extension": ".py",
   "mimetype": "text/x-python",
   "name": "python",
   "nbconvert_exporter": "python",
   "pygments_lexer": "ipython3",
   "version": "3.11"
  }
 },
 "nbformat": 4,
 "nbformat_minor": 5
}

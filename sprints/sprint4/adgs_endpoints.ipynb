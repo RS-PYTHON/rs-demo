{
 "cells": [
  {
   "cell_type": "markdown",
   "id": "2b445d78-b8ce-459c-a34e-11af313fe1e3",
   "metadata": {},
   "source": [
    "# ADGS endpoints demo\n",
    "\n",
    "In this demo we will call the rs-server ADGS HTTP endpoints:\n",
    "\n",
    "  * List available ADGS products\n",
    "  * Download some products into local storage and S3 bucket\n",
    "  * Monitor the download status from the database."
   ]
  },
  {
   "cell_type": "markdown",
   "id": "3ed706ce-f9f3-49e9-b961-9555f415ec2d",
   "metadata": {},
   "source": [
    "## Quick links\n",
    "\n",
    "**Swagger UI**\n",
    "\n",
    "  * http://localhost:8001/docs (local)\n",
    "  * https://dev-rspy.esa-copernicus.eu (cluster)"
   ]
  },
  {
   "cell_type": "code",
   "execution_count": 1,
   "id": "90dfbc8f-ba3b-470b-b8e5-9b8110d92523",
   "metadata": {},
   "outputs": [
    {
     "name": "stdout",
     "output_type": "stream",
     "text": [
      "Using: http://rs-server-adgs:8000\n"
     ]
    }
   ],
   "source": [
    "# Set local or cluster configuration\n",
    "import os\n",
    "\n",
    "if os.getenv(\"RSPY_LOCAL_MODE\") == \"1\":\n",
    "    RS_SERVER_ROOT_URL = \"http://rs-server-adgs:8000\"\n",
    "    HEADERS={}\n",
    "    local_mode = True\n",
    "else:\n",
    "    RS_SERVER_ROOT_URL = os.environ[\"RSPY_WEBSITE\"]\n",
    "    HEADERS={\"headers\": {\"x-api-key\": os.environ[\"RSPY_APIKEY\"]}}\n",
    "    local_mode = False\n",
    "\n",
    "print(f\"Using: {RS_SERVER_ROOT_URL}\")\n",
    "\n",
    "# Define some variables\n",
    "endpoint=f\"{RS_SERVER_ROOT_URL}/adgs/aux\"\n",
    "datetime=\"2014-01-01T12:00:00Z/2023-12-30T12:00:00Z\""
   ]
  },
  {
   "cell_type": "code",
   "execution_count": 2,
   "id": "7e9e3adc-0ace-4343-8b47-3660aee4cd88",
   "metadata": {},
   "outputs": [
    {
     "name": "stdout",
     "output_type": "stream",
     "text": [
      "Call: 'http://rs-server-adgs:8000/adgs/aux/search' with: datetime='2014-01-01T12:00:00Z/2023-12-30T12:00:00Z'\n",
      "Result:\n",
      "[\n",
      "  {\n",
      "    \"stac_version\": \"1.0.0\",\n",
      "    \"stac_extensions\": [\n",
      "      \"https://stac-extensions.github.io/file/v2.1.0/schema.json\"\n",
      "    ],\n",
      "    \"type\": \"Feature\",\n",
      "    \"id\": \"S2__OPER_AUX_ECMWFD_PDMC_20230216T120000_V20190217T090000_20190217T210000.TGZ\",\n",
      "    \"geometry\": null,\n",
      "    \"properties\": {\n",
      "      \"adgs:id\": \"id3\",\n",
      "      \"datetime\": \"2023-02-17T09:00:00.000Z\",\n",
      "      \"start_datetime\": \"2023-02-17T09:00:00.000Z\",\n",
      "      \"end_datetime\": \"2023-02-17T21:00:00.000Z\",\n",
      "      \"created\": \"2023-02-16T12:00:00.000Z\"\n",
      "    },\n",
      "    \"links\": [],\n",
      "    \"assets\": {\n",
      "      \"file\": {\n",
      "        \"file:size\": 8326253\n",
      "      }\n",
      "    }\n",
      "  },\n",
      "  {\n",
      "    \"stac_version\": \"1.0.0\",\n",
      "    \"stac_extensions\": [\n",
      "      \"https://stac-extensions.github.io/file/v2.1.0/schema.json\"\n",
      "    ],\n",
      "    \"type\": \"Feature\",\n",
      "    \"id\": \"S2__OPER_AUX_ECMWFD_PDMC_20200216T120000_V20190217T090000_20190217T210000.TGZ\",\n",
      "    \"geometry\": null,\n",
      "    \"properties\": {\n",
      "      \"adgs:id\": \"id2\",\n",
      "      \"datetime\": \"2020-02-17T09:00:00.000Z\",\n",
      "      \"start_datetime\": \"2020-02-17T09:00:00.000Z\",\n",
      "      \"end_datetime\": \"2020-02-17T21:00:00.000Z\",\n",
      "      \"created\": \"2020-02-16T12:00:00.000Z\"\n",
      "    },\n",
      "    \"links\": [],\n",
      "    \"assets\": {\n",
      "      \"file\": {\n",
      "        \"file:size\": 8326253\n",
      "      }\n",
      "    }\n",
      "  },\n",
      "  {\n",
      "    \"stac_version\": \"1.0.0\",\n",
      "    \"stac_extensions\": [\n",
      "      \"https://stac-extensions.github.io/file/v2.1.0/schema.json\"\n",
      "    ],\n",
      "    \"type\": \"Feature\",\n",
      "    \"id\": \"S2__OPER_AUX_ECMWFD_PDMC_20190216T120000_V20190217T090000_20190217T210000.TGZ\",\n",
      "    \"geometry\": null,\n",
      "    \"properties\": {\n",
      "      \"adgs:id\": \"2b17b57d-fff4-4645-b539-91f305c27c69\",\n",
      "      \"datetime\": \"2019-02-17T09:00:00.000Z\",\n",
      "      \"start_datetime\": \"2019-02-17T09:00:00.000Z\",\n",
      "      \"end_datetime\": \"2019-02-17T21:00:00.000Z\",\n",
      "      \"created\": \"2019-02-16T12:00:00.000Z\"\n",
      "    },\n",
      "    \"links\": [],\n",
      "    \"assets\": {\n",
      "      \"file\": {\n",
      "        \"file:size\": 8326253\n",
      "      }\n",
      "    }\n",
      "  }\n",
      "]\n",
      "...\n"
     ]
    }
   ],
   "source": [
    "import requests\n",
    "import json\n",
    "\n",
    "# Call the \"search\" endpoint\n",
    "print (f\"Call: '{endpoint}/search' with: datetime={datetime!r}\")\n",
    "payload = {\n",
    "    \"datetime\":datetime,    \n",
    "    \"limit\": 3\n",
    "}\n",
    "data = requests.get(f\"{endpoint}/search\", payload, **HEADERS)\n",
    "data.raise_for_status()\n",
    "\n",
    "# Get the returned products as (id,name) lists\n",
    "products = data.json()[\"features\"]\n",
    "assert len(products) == 3\n",
    "\n",
    "# Print the first n products\n",
    "print (\"Result:\")\n",
    "print(json.dumps(products[:3], indent=2))\n",
    "print(\"...\")\n",
    "\n",
    "# Keep only the names\n",
    "product_names = []\n",
    "for product in products:\n",
    "    product_names.append(product[\"id\"])"
   ]
  },
  {
   "cell_type": "code",
   "execution_count": 3,
   "id": "5b57335f",
   "metadata": {},
   "outputs": [
    {
     "name": "stdout",
     "output_type": "stream",
     "text": [
      "Call: 'http://rs-server-adgs:8000/adgs/aux/search' with: datetime='2014-01-01T12:00:00Z/2023-12-30T12:00:00Z'&limit=1\n",
      "Result:\n",
      "[\n",
      "  {\n",
      "    \"stac_version\": \"1.0.0\",\n",
      "    \"stac_extensions\": [\n",
      "      \"https://stac-extensions.github.io/file/v2.1.0/schema.json\"\n",
      "    ],\n",
      "    \"type\": \"Feature\",\n",
      "    \"id\": \"S2__OPER_AUX_ECMWFD_PDMC_20190216T120000_V20190217T090000_20190217T210000.TGZ\",\n",
      "    \"geometry\": null,\n",
      "    \"properties\": {\n",
      "      \"adgs:id\": \"2b17b57d-fff4-4645-b539-91f305c27c69\",\n",
      "      \"datetime\": \"2019-02-17T09:00:00.000Z\",\n",
      "      \"start_datetime\": \"2019-02-17T09:00:00.000Z\",\n",
      "      \"end_datetime\": \"2019-02-17T21:00:00.000Z\",\n",
      "      \"created\": \"2019-02-16T12:00:00.000Z\"\n",
      "    },\n",
      "    \"links\": [],\n",
      "    \"assets\": {\n",
      "      \"file\": {\n",
      "        \"file:size\": 8326253\n",
      "      }\n",
      "    }\n",
      "  }\n",
      "]\n",
      "...\n"
     ]
    }
   ],
   "source": [
    "# We can also take one product only\n",
    "# Call the \"search\" endpoint\n",
    "print (f\"Call: '{endpoint}/search' with: datetime={datetime!r}&limit=1\")\n",
    "payload = {\n",
    "    \"datetime\": datetime,   \n",
    "    \"limit\": 1, \n",
    "}\n",
    "data = requests.get(f\"{endpoint}/search\", payload, **HEADERS)\n",
    "data.raise_for_status()\n",
    "\n",
    "# Get the returned products as (id,name) lists\n",
    "products = data.json()[\"features\"]\n",
    "assert len(products) == 1\n",
    "\n",
    "# Print the result\n",
    "print (\"Result:\")\n",
    "print(json.dumps(products, indent=2))\n",
    "print(\"...\")"
   ]
  },
  {
   "cell_type": "code",
   "execution_count": 4,
   "id": "72ee015f-5e13-47bd-ad7d-81baff771a6e",
   "metadata": {},
   "outputs": [
    {
     "name": "stdout",
     "output_type": "stream",
     "text": [
      "Call: 'http://rs-server-adgs:8000/adgs/aux/status' with: name='...'\n",
      "Result:\n",
      "[\n",
      "  {\n",
      "    \"product_id\": \"id3\",\n",
      "    \"name\": \"S2__OPER_AUX_ECMWFD_PDMC_20230216T120000_V20190217T090000_20190217T210000.TGZ\",\n",
      "    \"available_at_station\": \"2023-02-16T12:00:00.000000\",\n",
      "    \"db_id\": 3,\n",
      "    \"download_start\": null,\n",
      "    \"download_stop\": null,\n",
      "    \"status\": \"NOT_STARTED\",\n",
      "    \"status_fail_message\": null\n",
      "  },\n",
      "  {\n",
      "    \"product_id\": \"id2\",\n",
      "    \"name\": \"S2__OPER_AUX_ECMWFD_PDMC_20200216T120000_V20190217T090000_20190217T210000.TGZ\",\n",
      "    \"available_at_station\": \"2020-02-16T12:00:00.000000\",\n",
      "    \"db_id\": 2,\n",
      "    \"download_start\": null,\n",
      "    \"download_stop\": null,\n",
      "    \"status\": \"NOT_STARTED\",\n",
      "    \"status_fail_message\": null\n",
      "  },\n",
      "  {\n",
      "    \"product_id\": \"2b17b57d-fff4-4645-b539-91f305c27c69\",\n",
      "    \"name\": \"S2__OPER_AUX_ECMWFD_PDMC_20190216T120000_V20190217T090000_20190217T210000.TGZ\",\n",
      "    \"available_at_station\": \"2019-02-16T12:00:00.000000\",\n",
      "    \"db_id\": 1,\n",
      "    \"download_start\": null,\n",
      "    \"download_stop\": null,\n",
      "    \"status\": \"NOT_STARTED\",\n",
      "    \"status_fail_message\": null\n",
      "  }\n",
      "]\n",
      "...\n"
     ]
    }
   ],
   "source": [
    "# The \"search\" endpoint has initialised the database with the products info.\n",
    "# Call the \"status\" endpoint to get the info from the products name.\n",
    "all_status = []\n",
    "print (f\"Call: '{endpoint}/status' with: name='...'\")\n",
    "for name in product_names:\n",
    "    data = requests.get(f\"{endpoint}/status\", {\"name\": name}, **HEADERS)\n",
    "    data.raise_for_status()\n",
    "    all_status.append (data.json())\n",
    "\n",
    "# Print the first n status\n",
    "print (\"Result:\")\n",
    "print(json.dumps(all_status[:5], indent=2))\n",
    "print(\"...\")"
   ]
  },
  {
   "cell_type": "markdown",
   "id": "6e03d397-7737-4d9d-ad11-235c4beed428",
   "metadata": {},
   "source": [
    "---\n",
    "**NOTE**\n",
    "\n",
    "In local mode, you can also monitor the database using pgAdmin.\n",
    "\n",
    "---"
   ]
  },
  {
   "cell_type": "code",
   "execution_count": 5,
   "id": "fb527198-3896-4447-b758-ce54f2ae70e6",
   "metadata": {},
   "outputs": [
    {
     "name": "stdout",
     "output_type": "stream",
     "text": [
      "Requirement already satisfied: boto3 in /opt/conda/lib/python3.11/site-packages (1.34.84)\n",
      "Requirement already satisfied: botocore<1.35.0,>=1.34.84 in /opt/conda/lib/python3.11/site-packages (from boto3) (1.34.84)\n",
      "Requirement already satisfied: jmespath<2.0.0,>=0.7.1 in /opt/conda/lib/python3.11/site-packages (from boto3) (1.0.1)\n",
      "Requirement already satisfied: s3transfer<0.11.0,>=0.10.0 in /opt/conda/lib/python3.11/site-packages (from boto3) (0.10.1)\n",
      "Requirement already satisfied: python-dateutil<3.0.0,>=2.1 in /opt/conda/lib/python3.11/site-packages (from botocore<1.35.0,>=1.34.84->boto3) (2.8.2)\n",
      "Requirement already satisfied: urllib3!=2.2.0,<3,>=1.25.4 in /opt/conda/lib/python3.11/site-packages (from botocore<1.35.0,>=1.34.84->boto3) (2.0.7)\n",
      "Requirement already satisfied: six>=1.5 in /opt/conda/lib/python3.11/site-packages (from python-dateutil<3.0.0,>=2.1->botocore<1.35.0,>=1.34.84->boto3) (1.16.0)\n"
     ]
    }
   ],
   "source": [
    "# We'll use boto3 to monitor the s3 bucket.\n",
    "# Note: the S3_ACCESSKEY, S3_SECRETKEY and S3_ENDPOINT are given \n",
    "# in the docker-compose.yml or ~/.s3cfg file.\n",
    "!pip install boto3\n",
    "import boto3\n",
    "import os\n",
    "\n",
    "s3_session = boto3.session.Session()\n",
    "s3_client = s3_session.client(\n",
    "    service_name=\"s3\",\n",
    "    aws_access_key_id=os.environ[\"S3_ACCESSKEY\"],\n",
    "    aws_secret_access_key=os.environ[\"S3_SECRETKEY\"],\n",
    "    endpoint_url=os.environ[\"S3_ENDPOINT\"],\n",
    "    region_name=os.environ[\"S3_REGION\"],\n",
    ")"
   ]
  },
  {
   "cell_type": "code",
   "execution_count": 6,
   "id": "2064243b-e760-4e63-8cee-6696614caf1b",
   "metadata": {},
   "outputs": [],
   "source": [
    "# S3 bucket name and sub-directories\n",
    "bucket_name = \"test-data\"\n",
    "bucket_dir = \"adgs/data\"\n",
    "\n",
    "# Full bucket name + subdirs\n",
    "bucket_url = f\"s3://{bucket_name}/{bucket_dir}\"\n",
    "\n",
    "# The local download directory is passed as an environment variable\n",
    "if local_mode:\n",
    "    from pathlib import Path\n",
    "    local_download_dir = Path (os.environ[\"RSPY_WORKING_DIR\"]) / bucket_dir\n",
    "else:\n",
    "    local_download_dir = \"\"\n",
    "\n",
    "# Clean existing files\n",
    "def clean_existing():\n",
    "\n",
    "    # If the s3 bucket already exist, remove the existing products from it\n",
    "    if bucket_name in [bucket[\"Name\"] for bucket in s3_client.list_buckets()[\"Buckets\"]]:\n",
    "        for name in product_names:\n",
    "            s3_client.delete_object(Bucket=bucket_name, Key=f\"{bucket_dir}/{name}\")\n",
    "    \n",
    "    # Else create the bucket\n",
    "    else:\n",
    "        s3_client.create_bucket(Bucket=bucket_name)\n",
    "    \n",
    "    # Create the local download dif if missing\n",
    "    if local_mode:\n",
    "        local_download_dir.mkdir(parents=True, exist_ok=True)\n",
    "        \n",
    "        # Remove all local files if they exist\n",
    "        for name in product_names:\n",
    "            file = local_download_dir / name\n",
    "            if file.is_file():\n",
    "                file.unlink()\n",
    "\n",
    "import time\n",
    "\n",
    "# Check that the files were downloaded locally\n",
    "def check_existing_local():\n",
    "    \n",
    "    # Wait 1 second before that or sometimes it bugs.\n",
    "    time.sleep(1)\n",
    "    for name in product_names:\n",
    "        file = Path (local_download_dir) / name    \n",
    "        if not file.is_file():\n",
    "            raise RuntimeError (f\"{file} is missing locally\")\n",
    "        print (f\"{file} exists\")\n",
    "\n",
    "# Check that the files were uploaded into the S3 bucket.\n",
    "# This time the local files are not kept.\n",
    "def check_existing_s3():\n",
    "    time.sleep(1)\n",
    "    try:\n",
    "        all_s3_files = [key[\"Key\"] for key in s3_client.list_objects(Bucket=bucket_name)['Contents']]\n",
    "    except KeyError:\n",
    "        all_s3_files = []\n",
    "    for name in product_names:\n",
    "        bucket_file = f\"{bucket_dir}/{name}\"\n",
    "        if not bucket_file in all_s3_files:\n",
    "            raise RuntimeError (f\"s3://{bucket_name}/{bucket_file} is missing from the S3 bucket\")\n",
    "        print (f\"s3://{bucket_name}/{bucket_file} exists\")"
   ]
  },
  {
   "cell_type": "markdown",
   "id": "fb5462b2-f0c8-476c-ad56-1a814af85dbe",
   "metadata": {},
   "source": [
    "---\n",
    "**NOTE**\n",
    "\n",
    "In local mode, you can also monitor the s3 bucket using the minio console: http://127.0.0.1:9001/browser with:\n",
    "\n",
    "  * Username: _minio_\n",
    "  * Password: _Strong#Pass#1234_\n",
    "\n",
    "---"
   ]
  },
  {
   "cell_type": "code",
   "execution_count": 7,
   "id": "11229535-95d3-4cd8-9199-532e5ba9b5e7",
   "metadata": {},
   "outputs": [
    {
     "name": "stdout",
     "output_type": "stream",
     "text": [
      "Call: 'http://rs-server-adgs:8000/adgs/aux' with: name='...' local=PosixPath('/rspy/working/dir/adgs/data') obs='s3://test-data/adgs/data'\n",
      "Download everything to the local directory, not s3:\n",
      "NOT_STARTED:0 / IN_PROGRESS:3 / FAILED:0 / DONE:0\n",
      "NOT_STARTED:0 / IN_PROGRESS:0 / FAILED:0 / DONE:3\n",
      "/rspy/working/dir/adgs/data/S2__OPER_AUX_ECMWFD_PDMC_20230216T120000_V20190217T090000_20190217T210000.TGZ exists\n",
      "/rspy/working/dir/adgs/data/S2__OPER_AUX_ECMWFD_PDMC_20200216T120000_V20190217T090000_20190217T210000.TGZ exists\n",
      "/rspy/working/dir/adgs/data/S2__OPER_AUX_ECMWFD_PDMC_20190216T120000_V20190217T090000_20190217T210000.TGZ exists\n",
      "\n",
      "Download everything and upload to S3:\n",
      "NOT_STARTED:0 / IN_PROGRESS:3 / FAILED:0 / DONE:0\n",
      "NOT_STARTED:0 / IN_PROGRESS:0 / FAILED:0 / DONE:3\n",
      "s3://test-data/adgs/data/S2__OPER_AUX_ECMWFD_PDMC_20230216T120000_V20190217T090000_20190217T210000.TGZ exists\n",
      "s3://test-data/adgs/data/S2__OPER_AUX_ECMWFD_PDMC_20200216T120000_V20190217T090000_20190217T210000.TGZ exists\n",
      "s3://test-data/adgs/data/S2__OPER_AUX_ECMWFD_PDMC_20190216T120000_V20190217T090000_20190217T210000.TGZ exists\n"
     ]
    }
   ],
   "source": [
    "import asyncio\n",
    "from typing import Callable\n",
    "\n",
    "print (f\"Call: '{endpoint}' with: name='...' local={local_download_dir!r} obs={bucket_url!r}\")\n",
    "\n",
    "# Call the ADGS endpoint to download one product in background \n",
    "# and upload it (optional) to the S3 bucket.\n",
    "async def download_one(name: str, save_to_s3: bool):\n",
    "\n",
    "    params = {\"name\": name, \"local\": local_download_dir}\n",
    "    if save_to_s3:\n",
    "        params[\"obs\"] = bucket_url\n",
    "\n",
    "    data = requests.get(endpoint, params, **HEADERS)\n",
    "    data.raise_for_status()\n",
    "\n",
    "# Download everything in parallel\n",
    "async def download_all(save_to_s3: bool, download_one: Callable=download_one):\n",
    "    async with asyncio.TaskGroup() as group:\n",
    "        for name in product_names:\n",
    "            group.create_task(download_one (name, save_to_s3))\n",
    "\n",
    "    #\n",
    "    # In the meantime, call the \"status\" endpoint to get and print the download status.\n",
    "    #\n",
    "\n",
    "    all_done = False\n",
    "    while not all_done: \n",
    "\n",
    "        # Count the number of products not started, in progres etc ...\n",
    "        all_status = {\"NOT_STARTED\": 0, \"IN_PROGRESS\": 0, \"FAILED\": 0, \"DONE\": 0}\n",
    "        for name in product_names:\n",
    "            \n",
    "            # Call the \"status\" endpoint\n",
    "            data = requests.get(f\"{endpoint}/status\", {\"name\": name}, **HEADERS)\n",
    "            data.raise_for_status()\n",
    "            all_status[(data.json())[\"status\"]] += 1\n",
    "\n",
    "        # Print result\n",
    "        print (\" / \".join ([f\"{status}:{count}\" for status, count in all_status.items()]))\n",
    "\n",
    "        if (all_status[\"DONE\"] + all_status[\"FAILED\"]) >= len(product_names):\n",
    "            all_done = True\n",
    "        else:\n",
    "            time.sleep(1)\n",
    "\n",
    "clean_existing()\n",
    "\n",
    "if local_mode:\n",
    "    print (\"Download everything to the local directory, not s3:\")\n",
    "    await (download_all(save_to_s3=False))    \n",
    "    check_existing_local()\n",
    "\n",
    "print (\"\\nDownload everything and upload to S3:\")\n",
    "await (download_all(save_to_s3=True))\n",
    "check_existing_s3()"
   ]
  },
  {
   "cell_type": "code",
   "execution_count": 8,
   "id": "466ae747-188f-44c1-858a-17f0861efdec",
   "metadata": {},
   "outputs": [
    {
     "name": "stdout",
     "output_type": "stream",
     "text": [
      "Requirement already satisfied: prefect in /opt/conda/lib/python3.11/site-packages (2.17.1)\n",
      "Requirement already satisfied: aiosqlite>=0.17.0 in /opt/conda/lib/python3.11/site-packages (from prefect) (0.20.0)\n",
      "Requirement already satisfied: alembic<2.0.0,>=1.7.5 in /opt/conda/lib/python3.11/site-packages (from prefect) (1.12.0)\n",
      "Requirement already satisfied: apprise<2.0.0,>=1.1.0 in /opt/conda/lib/python3.11/site-packages (from prefect) (1.7.6)\n",
      "Requirement already satisfied: asyncpg>=0.23 in /opt/conda/lib/python3.11/site-packages (from prefect) (0.29.0)\n",
      "Requirement already satisfied: click<8.2,>=8.0 in /opt/conda/lib/python3.11/site-packages (from prefect) (8.1.7)\n",
      "Requirement already satisfied: cryptography>=36.0.1 in /opt/conda/lib/python3.11/site-packages (from prefect) (41.0.4)\n",
      "Requirement already satisfied: dateparser<2.0.0,>=1.1.1 in /opt/conda/lib/python3.11/site-packages (from prefect) (1.2.0)\n",
      "Requirement already satisfied: docker<7.0,>=4.0 in /opt/conda/lib/python3.11/site-packages (from prefect) (6.1.3)\n",
      "Requirement already satisfied: graphviz>=0.20.1 in /opt/conda/lib/python3.11/site-packages (from prefect) (0.20.3)\n",
      "Requirement already satisfied: griffe>=0.20.0 in /opt/conda/lib/python3.11/site-packages (from prefect) (0.42.1)\n",
      "Requirement already satisfied: jinja2<4.0.0,>=3.0.0 in /opt/conda/lib/python3.11/site-packages (from prefect) (3.1.2)\n",
      "Requirement already satisfied: jinja2-humanize-extension>=0.4.0 in /opt/conda/lib/python3.11/site-packages (from prefect) (0.4.0)\n",
      "Requirement already satisfied: humanize>=4.9.0 in /opt/conda/lib/python3.11/site-packages (from prefect) (4.9.0)\n",
      "Requirement already satisfied: kubernetes<30.0.0,>=24.2.0 in /opt/conda/lib/python3.11/site-packages (from prefect) (29.0.0)\n",
      "Requirement already satisfied: pytz<2025,>=2021.1 in /opt/conda/lib/python3.11/site-packages (from prefect) (2023.3.post1)\n",
      "Requirement already satisfied: readchar<5.0.0,>=4.0.0 in /opt/conda/lib/python3.11/site-packages (from prefect) (4.0.6)\n",
      "Requirement already satisfied: sqlalchemy!=1.4.33,<3.0.0,>=1.4.22 in /opt/conda/lib/python3.11/site-packages (from sqlalchemy[asyncio]!=1.4.33,<3.0.0,>=1.4.22->prefect) (2.0.22)\n",
      "Requirement already satisfied: typer!=0.12.2,<0.13.0,>=0.12.0 in /opt/conda/lib/python3.11/site-packages (from prefect) (0.12.3)\n",
      "Requirement already satisfied: anyio<4.0.0,>=3.7.1 in /opt/conda/lib/python3.11/site-packages (from prefect) (3.7.1)\n",
      "Requirement already satisfied: asgi-lifespan<3.0,>=1.0 in /opt/conda/lib/python3.11/site-packages (from prefect) (2.1.0)\n",
      "Requirement already satisfied: cachetools<6.0,>=5.3 in /opt/conda/lib/python3.11/site-packages (from prefect) (5.3.3)\n",
      "Requirement already satisfied: cloudpickle<4.0,>=2.0 in /opt/conda/lib/python3.11/site-packages (from prefect) (3.0.0)\n",
      "Requirement already satisfied: coolname<3.0.0,>=1.0.4 in /opt/conda/lib/python3.11/site-packages (from prefect) (2.2.0)\n",
      "Requirement already satisfied: croniter<3.0.0,>=1.0.12 in /opt/conda/lib/python3.11/site-packages (from prefect) (2.0.3)\n",
      "Requirement already satisfied: fsspec>=2022.5.0 in /opt/conda/lib/python3.11/site-packages (from prefect) (2024.3.1)\n",
      "Requirement already satisfied: httpcore<2.0.0,>=1.0.5 in /opt/conda/lib/python3.11/site-packages (from prefect) (1.0.5)\n",
      "Requirement already satisfied: httpx!=0.23.2,>=0.23 in /opt/conda/lib/python3.11/site-packages (from httpx[http2]!=0.23.2,>=0.23->prefect) (0.27.0)\n",
      "Requirement already satisfied: importlib-resources<6.2.0,>=6.1.3 in /opt/conda/lib/python3.11/site-packages (from prefect) (6.1.3)\n",
      "Requirement already satisfied: jsonpatch<2.0,>=1.32 in /opt/conda/lib/python3.11/site-packages (from prefect) (1.33)\n",
      "Requirement already satisfied: jsonschema<5.0.0,>=4.0.0 in /opt/conda/lib/python3.11/site-packages (from prefect) (4.19.1)\n",
      "Requirement already satisfied: orjson<4.0,>=3.7 in /opt/conda/lib/python3.11/site-packages (from prefect) (3.10.0)\n",
      "Requirement already satisfied: packaging<24.3,>=21.3 in /opt/conda/lib/python3.11/site-packages (from prefect) (23.2)\n",
      "Requirement already satisfied: pathspec>=0.8.0 in /opt/conda/lib/python3.11/site-packages (from prefect) (0.12.1)\n",
      "Requirement already satisfied: pydantic!=2.0.0,!=2.0.1,!=2.1.0,<3.0.0,>=1.10.0 in /opt/conda/lib/python3.11/site-packages (from pydantic[email]!=2.0.0,!=2.0.1,!=2.1.0,<3.0.0,>=1.10.0->prefect) (2.7.0)\n",
      "Requirement already satisfied: pydantic-core<3.0.0,>=2.12.0 in /opt/conda/lib/python3.11/site-packages (from prefect) (2.18.1)\n",
      "Requirement already satisfied: python-dateutil<3.0.0,>=2.8.2 in /opt/conda/lib/python3.11/site-packages (from prefect) (2.8.2)\n",
      "Requirement already satisfied: python-slugify<9.0,>=5.0 in /opt/conda/lib/python3.11/site-packages (from prefect) (8.0.4)\n",
      "Requirement already satisfied: pyyaml<7.0.0,>=5.4.1 in /opt/conda/lib/python3.11/site-packages (from prefect) (6.0.1)\n",
      "Requirement already satisfied: rfc3339-validator<0.2.0,>=0.1.4 in /opt/conda/lib/python3.11/site-packages (from prefect) (0.1.4)\n",
      "Requirement already satisfied: rich<14.0,>=11.0 in /opt/conda/lib/python3.11/site-packages (from prefect) (13.7.1)\n",
      "Requirement already satisfied: ruamel.yaml>=0.17.0 in /opt/conda/lib/python3.11/site-packages (from prefect) (0.17.39)\n",
      "Requirement already satisfied: sniffio<2.0.0,>=1.3.0 in /opt/conda/lib/python3.11/site-packages (from prefect) (1.3.0)\n",
      "Requirement already satisfied: toml>=0.10.0 in /opt/conda/lib/python3.11/site-packages (from prefect) (0.10.2)\n",
      "Requirement already satisfied: typing-extensions<5.0.0,>=4.5.0 in /opt/conda/lib/python3.11/site-packages (from prefect) (4.8.0)\n",
      "Requirement already satisfied: ujson<6.0.0,>=5.8.0 in /opt/conda/lib/python3.11/site-packages (from prefect) (5.9.0)\n",
      "Requirement already satisfied: uvicorn<0.29.0,>=0.14.0 in /opt/conda/lib/python3.11/site-packages (from prefect) (0.28.1)\n",
      "Requirement already satisfied: websockets<13.0,>=10.4 in /opt/conda/lib/python3.11/site-packages (from prefect) (12.0)\n",
      "Requirement already satisfied: itsdangerous in /opt/conda/lib/python3.11/site-packages (from prefect) (2.1.2)\n",
      "Requirement already satisfied: python-multipart>=0.0.7 in /opt/conda/lib/python3.11/site-packages (from prefect) (0.0.9)\n",
      "Requirement already satisfied: pendulum<3.0 in /opt/conda/lib/python3.11/site-packages (from prefect) (2.1.2)\n",
      "Requirement already satisfied: Mako in /opt/conda/lib/python3.11/site-packages (from alembic<2.0.0,>=1.7.5->prefect) (1.2.4)\n",
      "Requirement already satisfied: idna>=2.8 in /opt/conda/lib/python3.11/site-packages (from anyio<4.0.0,>=3.7.1->prefect) (3.4)\n",
      "Requirement already satisfied: certifi in /opt/conda/lib/python3.11/site-packages (from apprise<2.0.0,>=1.1.0->prefect) (2023.7.22)\n",
      "Requirement already satisfied: requests in /opt/conda/lib/python3.11/site-packages (from apprise<2.0.0,>=1.1.0->prefect) (2.31.0)\n",
      "Requirement already satisfied: requests-oauthlib in /opt/conda/lib/python3.11/site-packages (from apprise<2.0.0,>=1.1.0->prefect) (2.0.0)\n",
      "Requirement already satisfied: markdown in /opt/conda/lib/python3.11/site-packages (from apprise<2.0.0,>=1.1.0->prefect) (3.6)\n",
      "Requirement already satisfied: async-timeout>=4.0.3 in /opt/conda/lib/python3.11/site-packages (from asyncpg>=0.23->prefect) (4.0.3)\n",
      "Requirement already satisfied: cffi>=1.12 in /opt/conda/lib/python3.11/site-packages (from cryptography>=36.0.1->prefect) (1.16.0)\n",
      "Requirement already satisfied: regex!=2019.02.19,!=2021.8.27 in /opt/conda/lib/python3.11/site-packages (from dateparser<2.0.0,>=1.1.1->prefect) (2023.12.25)\n",
      "Requirement already satisfied: tzlocal in /opt/conda/lib/python3.11/site-packages (from dateparser<2.0.0,>=1.1.1->prefect) (5.2)\n",
      "Requirement already satisfied: urllib3>=1.26.0 in /opt/conda/lib/python3.11/site-packages (from docker<7.0,>=4.0->prefect) (2.0.7)\n",
      "Requirement already satisfied: websocket-client>=0.32.0 in /opt/conda/lib/python3.11/site-packages (from docker<7.0,>=4.0->prefect) (1.6.4)\n",
      "Requirement already satisfied: colorama>=0.4 in /opt/conda/lib/python3.11/site-packages (from griffe>=0.20.0->prefect) (0.4.6)\n",
      "Requirement already satisfied: h11<0.15,>=0.13 in /opt/conda/lib/python3.11/site-packages (from httpcore<2.0.0,>=1.0.5->prefect) (0.14.0)\n",
      "Requirement already satisfied: h2<5,>=3 in /opt/conda/lib/python3.11/site-packages (from httpx[http2]!=0.23.2,>=0.23->prefect) (4.1.0)\n",
      "Requirement already satisfied: MarkupSafe>=2.0 in /opt/conda/lib/python3.11/site-packages (from jinja2<4.0.0,>=3.0.0->prefect) (2.1.3)\n",
      "Requirement already satisfied: jsonpointer>=1.9 in /opt/conda/lib/python3.11/site-packages (from jsonpatch<2.0,>=1.32->prefect) (2.4)\n",
      "Requirement already satisfied: attrs>=22.2.0 in /opt/conda/lib/python3.11/site-packages (from jsonschema<5.0.0,>=4.0.0->prefect) (23.1.0)\n",
      "Requirement already satisfied: jsonschema-specifications>=2023.03.6 in /opt/conda/lib/python3.11/site-packages (from jsonschema<5.0.0,>=4.0.0->prefect) (2023.7.1)\n",
      "Requirement already satisfied: referencing>=0.28.4 in /opt/conda/lib/python3.11/site-packages (from jsonschema<5.0.0,>=4.0.0->prefect) (0.30.2)\n",
      "Requirement already satisfied: rpds-py>=0.7.1 in /opt/conda/lib/python3.11/site-packages (from jsonschema<5.0.0,>=4.0.0->prefect) (0.10.6)\n",
      "Requirement already satisfied: six>=1.9.0 in /opt/conda/lib/python3.11/site-packages (from kubernetes<30.0.0,>=24.2.0->prefect) (1.16.0)\n",
      "Requirement already satisfied: google-auth>=1.0.1 in /opt/conda/lib/python3.11/site-packages (from kubernetes<30.0.0,>=24.2.0->prefect) (2.29.0)\n",
      "Requirement already satisfied: oauthlib>=3.2.2 in /opt/conda/lib/python3.11/site-packages (from kubernetes<30.0.0,>=24.2.0->prefect) (3.2.2)\n",
      "Requirement already satisfied: pytzdata>=2020.1 in /opt/conda/lib/python3.11/site-packages (from pendulum<3.0->prefect) (2020.1)\n",
      "Requirement already satisfied: annotated-types>=0.4.0 in /opt/conda/lib/python3.11/site-packages (from pydantic!=2.0.0,!=2.0.1,!=2.1.0,<3.0.0,>=1.10.0->pydantic[email]!=2.0.0,!=2.0.1,!=2.1.0,<3.0.0,>=1.10.0->prefect) (0.6.0)\n",
      "Requirement already satisfied: email-validator>=2.0.0 in /opt/conda/lib/python3.11/site-packages (from pydantic[email]!=2.0.0,!=2.0.1,!=2.1.0,<3.0.0,>=1.10.0->prefect) (2.1.1)\n",
      "Requirement already satisfied: text-unidecode>=1.3 in /opt/conda/lib/python3.11/site-packages (from python-slugify<9.0,>=5.0->prefect) (1.3)\n",
      "Requirement already satisfied: setuptools>=41.0 in /opt/conda/lib/python3.11/site-packages (from readchar<5.0.0,>=4.0.0->prefect) (68.2.2)\n",
      "Requirement already satisfied: markdown-it-py>=2.2.0 in /opt/conda/lib/python3.11/site-packages (from rich<14.0,>=11.0->prefect) (3.0.0)\n",
      "Requirement already satisfied: pygments<3.0.0,>=2.13.0 in /opt/conda/lib/python3.11/site-packages (from rich<14.0,>=11.0->prefect) (2.16.1)\n",
      "Requirement already satisfied: ruamel.yaml.clib>=0.2.7 in /opt/conda/lib/python3.11/site-packages (from ruamel.yaml>=0.17.0->prefect) (0.2.7)\n",
      "Requirement already satisfied: greenlet!=0.4.17 in /opt/conda/lib/python3.11/site-packages (from sqlalchemy!=1.4.33,<3.0.0,>=1.4.22->sqlalchemy[asyncio]!=1.4.33,<3.0.0,>=1.4.22->prefect) (3.0.0)\n",
      "Requirement already satisfied: shellingham>=1.3.0 in /opt/conda/lib/python3.11/site-packages (from typer!=0.12.2,<0.13.0,>=0.12.0->prefect) (1.5.4)\n",
      "Requirement already satisfied: pycparser in /opt/conda/lib/python3.11/site-packages (from cffi>=1.12->cryptography>=36.0.1->prefect) (2.21)\n",
      "Requirement already satisfied: dnspython>=2.0.0 in /opt/conda/lib/python3.11/site-packages (from email-validator>=2.0.0->pydantic[email]!=2.0.0,!=2.0.1,!=2.1.0,<3.0.0,>=1.10.0->prefect) (2.6.1)\n",
      "Requirement already satisfied: pyasn1-modules>=0.2.1 in /opt/conda/lib/python3.11/site-packages (from google-auth>=1.0.1->kubernetes<30.0.0,>=24.2.0->prefect) (0.4.0)\n",
      "Requirement already satisfied: rsa<5,>=3.1.4 in /opt/conda/lib/python3.11/site-packages (from google-auth>=1.0.1->kubernetes<30.0.0,>=24.2.0->prefect) (4.9)\n",
      "Requirement already satisfied: hyperframe<7,>=6.0 in /opt/conda/lib/python3.11/site-packages (from h2<5,>=3->httpx[http2]!=0.23.2,>=0.23->prefect) (6.0.1)\n",
      "Requirement already satisfied: hpack<5,>=4.0 in /opt/conda/lib/python3.11/site-packages (from h2<5,>=3->httpx[http2]!=0.23.2,>=0.23->prefect) (4.0.0)\n",
      "Requirement already satisfied: mdurl~=0.1 in /opt/conda/lib/python3.11/site-packages (from markdown-it-py>=2.2.0->rich<14.0,>=11.0->prefect) (0.1.2)\n",
      "Requirement already satisfied: charset-normalizer<4,>=2 in /opt/conda/lib/python3.11/site-packages (from requests->apprise<2.0.0,>=1.1.0->prefect) (3.3.0)\n",
      "Requirement already satisfied: pyasn1<0.7.0,>=0.4.6 in /opt/conda/lib/python3.11/site-packages (from pyasn1-modules>=0.2.1->google-auth>=1.0.1->kubernetes<30.0.0,>=24.2.0->prefect) (0.6.0)\n",
      "[Prefect] Download everything to the local directory, not s3:\n"
     ]
    },
    {
     "data": {
      "text/html": [
       "<pre style=\"white-space:pre;overflow-x:auto;line-height:normal;font-family:Menlo,'DejaVu Sans Mono',consolas,'Courier New',monospace\">08:03:45.184 | <span style=\"color: #008080; text-decoration-color: #008080\">INFO</span>    | prefect.engine - Created flow run<span style=\"color: #800080; text-decoration-color: #800080\"> 'noisy-jaguar'</span> for flow<span style=\"color: #800080; text-decoration-color: #800080; font-weight: bold\"> 'download adgs products'</span>\n",
       "</pre>\n"
      ],
      "text/plain": [
       "08:03:45.184 | \u001b[36mINFO\u001b[0m    | prefect.engine - Created flow run\u001b[35m 'noisy-jaguar'\u001b[0m for flow\u001b[1;35m 'download adgs products'\u001b[0m\n"
      ]
     },
     "metadata": {},
     "output_type": "display_data"
    },
    {
     "data": {
      "text/html": [
       "<pre style=\"white-space:pre;overflow-x:auto;line-height:normal;font-family:Menlo,'DejaVu Sans Mono',consolas,'Courier New',monospace\">08:03:45.186 | <span style=\"color: #008080; text-decoration-color: #008080\">INFO</span>    | Flow run<span style=\"color: #800080; text-decoration-color: #800080\"> 'noisy-jaguar'</span> - View at <span style=\"color: #0000ff; text-decoration-color: #0000ff\">http://prefect-server:4200/flow-runs/flow-run/3816173c-d809-4905-8a32-4bb485930886</span>\n",
       "</pre>\n"
      ],
      "text/plain": [
       "08:03:45.186 | \u001b[36mINFO\u001b[0m    | Flow run\u001b[35m 'noisy-jaguar'\u001b[0m - View at \u001b[94mhttp://prefect-server:4200/flow-runs/flow-run/3816173c-d809-4905-8a32-4bb485930886\u001b[0m\n"
      ]
     },
     "metadata": {},
     "output_type": "display_data"
    },
    {
     "data": {
      "text/html": [
       "<pre style=\"white-space:pre;overflow-x:auto;line-height:normal;font-family:Menlo,'DejaVu Sans Mono',consolas,'Courier New',monospace\">08:03:45.222 | <span style=\"color: #008080; text-decoration-color: #008080\">INFO</span>    | Flow run<span style=\"color: #800080; text-decoration-color: #800080\"> 'noisy-jaguar'</span> - Created task run 'download_one_with_prefect-0' for task 'download_one_with_prefect'\n",
       "</pre>\n"
      ],
      "text/plain": [
       "08:03:45.222 | \u001b[36mINFO\u001b[0m    | Flow run\u001b[35m 'noisy-jaguar'\u001b[0m - Created task run 'download_one_with_prefect-0' for task 'download_one_with_prefect'\n"
      ]
     },
     "metadata": {},
     "output_type": "display_data"
    },
    {
     "data": {
      "text/html": [
       "<pre style=\"white-space:pre;overflow-x:auto;line-height:normal;font-family:Menlo,'DejaVu Sans Mono',consolas,'Courier New',monospace\">08:03:45.223 | <span style=\"color: #008080; text-decoration-color: #008080\">INFO</span>    | Flow run<span style=\"color: #800080; text-decoration-color: #800080\"> 'noisy-jaguar'</span> - Executing 'download_one_with_prefect-0' immediately...\n",
       "</pre>\n"
      ],
      "text/plain": [
       "08:03:45.223 | \u001b[36mINFO\u001b[0m    | Flow run\u001b[35m 'noisy-jaguar'\u001b[0m - Executing 'download_one_with_prefect-0' immediately...\n"
      ]
     },
     "metadata": {},
     "output_type": "display_data"
    },
    {
     "data": {
      "text/html": [
       "<pre style=\"white-space:pre;overflow-x:auto;line-height:normal;font-family:Menlo,'DejaVu Sans Mono',consolas,'Courier New',monospace\">08:03:45.233 | <span style=\"color: #008080; text-decoration-color: #008080\">INFO</span>    | Flow run<span style=\"color: #800080; text-decoration-color: #800080\"> 'noisy-jaguar'</span> - Created task run 'download_one_with_prefect-2' for task 'download_one_with_prefect'\n",
       "</pre>\n"
      ],
      "text/plain": [
       "08:03:45.233 | \u001b[36mINFO\u001b[0m    | Flow run\u001b[35m 'noisy-jaguar'\u001b[0m - Created task run 'download_one_with_prefect-2' for task 'download_one_with_prefect'\n"
      ]
     },
     "metadata": {},
     "output_type": "display_data"
    },
    {
     "data": {
      "text/html": [
       "<pre style=\"white-space:pre;overflow-x:auto;line-height:normal;font-family:Menlo,'DejaVu Sans Mono',consolas,'Courier New',monospace\">08:03:45.234 | <span style=\"color: #008080; text-decoration-color: #008080\">INFO</span>    | Flow run<span style=\"color: #800080; text-decoration-color: #800080\"> 'noisy-jaguar'</span> - Executing 'download_one_with_prefect-2' immediately...\n",
       "</pre>\n"
      ],
      "text/plain": [
       "08:03:45.234 | \u001b[36mINFO\u001b[0m    | Flow run\u001b[35m 'noisy-jaguar'\u001b[0m - Executing 'download_one_with_prefect-2' immediately...\n"
      ]
     },
     "metadata": {},
     "output_type": "display_data"
    },
    {
     "data": {
      "text/html": [
       "<pre style=\"white-space:pre;overflow-x:auto;line-height:normal;font-family:Menlo,'DejaVu Sans Mono',consolas,'Courier New',monospace\">08:03:45.236 | <span style=\"color: #008080; text-decoration-color: #008080\">INFO</span>    | Flow run<span style=\"color: #800080; text-decoration-color: #800080\"> 'noisy-jaguar'</span> - Created task run 'download_one_with_prefect-1' for task 'download_one_with_prefect'\n",
       "</pre>\n"
      ],
      "text/plain": [
       "08:03:45.236 | \u001b[36mINFO\u001b[0m    | Flow run\u001b[35m 'noisy-jaguar'\u001b[0m - Created task run 'download_one_with_prefect-1' for task 'download_one_with_prefect'\n"
      ]
     },
     "metadata": {},
     "output_type": "display_data"
    },
    {
     "data": {
      "text/html": [
       "<pre style=\"white-space:pre;overflow-x:auto;line-height:normal;font-family:Menlo,'DejaVu Sans Mono',consolas,'Courier New',monospace\">08:03:45.237 | <span style=\"color: #008080; text-decoration-color: #008080\">INFO</span>    | Flow run<span style=\"color: #800080; text-decoration-color: #800080\"> 'noisy-jaguar'</span> - Executing 'download_one_with_prefect-1' immediately...\n",
       "</pre>\n"
      ],
      "text/plain": [
       "08:03:45.237 | \u001b[36mINFO\u001b[0m    | Flow run\u001b[35m 'noisy-jaguar'\u001b[0m - Executing 'download_one_with_prefect-1' immediately...\n"
      ]
     },
     "metadata": {},
     "output_type": "display_data"
    },
    {
     "data": {
      "text/html": [
       "<pre style=\"white-space:pre;overflow-x:auto;line-height:normal;font-family:Menlo,'DejaVu Sans Mono',consolas,'Courier New',monospace\">08:03:45.380 | <span style=\"color: #008080; text-decoration-color: #008080\">INFO</span>    | Task run 'download_one_with_prefect-0' - Finished in state <span style=\"color: #008000; text-decoration-color: #008000\">Completed</span>()\n",
       "</pre>\n"
      ],
      "text/plain": [
       "08:03:45.380 | \u001b[36mINFO\u001b[0m    | Task run 'download_one_with_prefect-0' - Finished in state \u001b[32mCompleted\u001b[0m()\n"
      ]
     },
     "metadata": {},
     "output_type": "display_data"
    },
    {
     "data": {
      "text/html": [
       "<pre style=\"white-space:pre;overflow-x:auto;line-height:normal;font-family:Menlo,'DejaVu Sans Mono',consolas,'Courier New',monospace\">08:03:45.392 | <span style=\"color: #008080; text-decoration-color: #008080\">INFO</span>    | Task run 'download_one_with_prefect-2' - Finished in state <span style=\"color: #008000; text-decoration-color: #008000\">Completed</span>()\n",
       "</pre>\n"
      ],
      "text/plain": [
       "08:03:45.392 | \u001b[36mINFO\u001b[0m    | Task run 'download_one_with_prefect-2' - Finished in state \u001b[32mCompleted\u001b[0m()\n"
      ]
     },
     "metadata": {},
     "output_type": "display_data"
    },
    {
     "data": {
      "text/html": [
       "<pre style=\"white-space:pre;overflow-x:auto;line-height:normal;font-family:Menlo,'DejaVu Sans Mono',consolas,'Courier New',monospace\">08:03:45.412 | <span style=\"color: #008080; text-decoration-color: #008080\">INFO</span>    | Task run 'download_one_with_prefect-1' - Finished in state <span style=\"color: #008000; text-decoration-color: #008000\">Completed</span>()\n",
       "</pre>\n"
      ],
      "text/plain": [
       "08:03:45.412 | \u001b[36mINFO\u001b[0m    | Task run 'download_one_with_prefect-1' - Finished in state \u001b[32mCompleted\u001b[0m()\n"
      ]
     },
     "metadata": {},
     "output_type": "display_data"
    },
    {
     "name": "stdout",
     "output_type": "stream",
     "text": [
      "NOT_STARTED:0 / IN_PROGRESS:3 / FAILED:0 / DONE:0\n",
      "NOT_STARTED:0 / IN_PROGRESS:0 / FAILED:0 / DONE:3\n"
     ]
    },
    {
     "data": {
      "text/html": [
       "<pre style=\"white-space:pre;overflow-x:auto;line-height:normal;font-family:Menlo,'DejaVu Sans Mono',consolas,'Courier New',monospace\">08:03:46.586 | <span style=\"color: #008080; text-decoration-color: #008080\">INFO</span>    | Flow run<span style=\"color: #800080; text-decoration-color: #800080\"> 'noisy-jaguar'</span> - Finished in state <span style=\"color: #008000; text-decoration-color: #008000\">Completed</span>('All states completed.')\n",
       "</pre>\n"
      ],
      "text/plain": [
       "08:03:46.586 | \u001b[36mINFO\u001b[0m    | Flow run\u001b[35m 'noisy-jaguar'\u001b[0m - Finished in state \u001b[32mCompleted\u001b[0m('All states completed.')\n"
      ]
     },
     "metadata": {},
     "output_type": "display_data"
    },
    {
     "name": "stdout",
     "output_type": "stream",
     "text": [
      "/rspy/working/dir/adgs/data/S2__OPER_AUX_ECMWFD_PDMC_20230216T120000_V20190217T090000_20190217T210000.TGZ exists\n",
      "/rspy/working/dir/adgs/data/S2__OPER_AUX_ECMWFD_PDMC_20200216T120000_V20190217T090000_20190217T210000.TGZ exists\n",
      "/rspy/working/dir/adgs/data/S2__OPER_AUX_ECMWFD_PDMC_20190216T120000_V20190217T090000_20190217T210000.TGZ exists\n",
      "\n",
      "[Prefect] Download everything again and upload to S3:\n"
     ]
    },
    {
     "data": {
      "text/html": [
       "<pre style=\"white-space:pre;overflow-x:auto;line-height:normal;font-family:Menlo,'DejaVu Sans Mono',consolas,'Courier New',monospace\">08:03:47.677 | <span style=\"color: #008080; text-decoration-color: #008080\">INFO</span>    | prefect.engine - Created flow run<span style=\"color: #800080; text-decoration-color: #800080\"> 'space-tanuki'</span> for flow<span style=\"color: #800080; text-decoration-color: #800080; font-weight: bold\"> 'download adgs products'</span>\n",
       "</pre>\n"
      ],
      "text/plain": [
       "08:03:47.677 | \u001b[36mINFO\u001b[0m    | prefect.engine - Created flow run\u001b[35m 'space-tanuki'\u001b[0m for flow\u001b[1;35m 'download adgs products'\u001b[0m\n"
      ]
     },
     "metadata": {},
     "output_type": "display_data"
    },
    {
     "data": {
      "text/html": [
       "<pre style=\"white-space:pre;overflow-x:auto;line-height:normal;font-family:Menlo,'DejaVu Sans Mono',consolas,'Courier New',monospace\">08:03:47.678 | <span style=\"color: #008080; text-decoration-color: #008080\">INFO</span>    | Flow run<span style=\"color: #800080; text-decoration-color: #800080\"> 'space-tanuki'</span> - View at <span style=\"color: #0000ff; text-decoration-color: #0000ff\">http://prefect-server:4200/flow-runs/flow-run/561dc2e1-bfda-4424-bcf3-0ee372d62216</span>\n",
       "</pre>\n"
      ],
      "text/plain": [
       "08:03:47.678 | \u001b[36mINFO\u001b[0m    | Flow run\u001b[35m 'space-tanuki'\u001b[0m - View at \u001b[94mhttp://prefect-server:4200/flow-runs/flow-run/561dc2e1-bfda-4424-bcf3-0ee372d62216\u001b[0m\n"
      ]
     },
     "metadata": {},
     "output_type": "display_data"
    },
    {
     "data": {
      "text/html": [
       "<pre style=\"white-space:pre;overflow-x:auto;line-height:normal;font-family:Menlo,'DejaVu Sans Mono',consolas,'Courier New',monospace\">08:03:47.704 | <span style=\"color: #008080; text-decoration-color: #008080\">INFO</span>    | Flow run<span style=\"color: #800080; text-decoration-color: #800080\"> 'space-tanuki'</span> - Created task run 'download_one_with_prefect-0' for task 'download_one_with_prefect'\n",
       "</pre>\n"
      ],
      "text/plain": [
       "08:03:47.704 | \u001b[36mINFO\u001b[0m    | Flow run\u001b[35m 'space-tanuki'\u001b[0m - Created task run 'download_one_with_prefect-0' for task 'download_one_with_prefect'\n"
      ]
     },
     "metadata": {},
     "output_type": "display_data"
    },
    {
     "data": {
      "text/html": [
       "<pre style=\"white-space:pre;overflow-x:auto;line-height:normal;font-family:Menlo,'DejaVu Sans Mono',consolas,'Courier New',monospace\">08:03:47.705 | <span style=\"color: #008080; text-decoration-color: #008080\">INFO</span>    | Flow run<span style=\"color: #800080; text-decoration-color: #800080\"> 'space-tanuki'</span> - Executing 'download_one_with_prefect-0' immediately...\n",
       "</pre>\n"
      ],
      "text/plain": [
       "08:03:47.705 | \u001b[36mINFO\u001b[0m    | Flow run\u001b[35m 'space-tanuki'\u001b[0m - Executing 'download_one_with_prefect-0' immediately...\n"
      ]
     },
     "metadata": {},
     "output_type": "display_data"
    },
    {
     "data": {
      "text/html": [
       "<pre style=\"white-space:pre;overflow-x:auto;line-height:normal;font-family:Menlo,'DejaVu Sans Mono',consolas,'Courier New',monospace\">08:03:47.714 | <span style=\"color: #008080; text-decoration-color: #008080\">INFO</span>    | Flow run<span style=\"color: #800080; text-decoration-color: #800080\"> 'space-tanuki'</span> - Created task run 'download_one_with_prefect-2' for task 'download_one_with_prefect'\n",
       "</pre>\n"
      ],
      "text/plain": [
       "08:03:47.714 | \u001b[36mINFO\u001b[0m    | Flow run\u001b[35m 'space-tanuki'\u001b[0m - Created task run 'download_one_with_prefect-2' for task 'download_one_with_prefect'\n"
      ]
     },
     "metadata": {},
     "output_type": "display_data"
    },
    {
     "data": {
      "text/html": [
       "<pre style=\"white-space:pre;overflow-x:auto;line-height:normal;font-family:Menlo,'DejaVu Sans Mono',consolas,'Courier New',monospace\">08:03:47.715 | <span style=\"color: #008080; text-decoration-color: #008080\">INFO</span>    | Flow run<span style=\"color: #800080; text-decoration-color: #800080\"> 'space-tanuki'</span> - Executing 'download_one_with_prefect-2' immediately...\n",
       "</pre>\n"
      ],
      "text/plain": [
       "08:03:47.715 | \u001b[36mINFO\u001b[0m    | Flow run\u001b[35m 'space-tanuki'\u001b[0m - Executing 'download_one_with_prefect-2' immediately...\n"
      ]
     },
     "metadata": {},
     "output_type": "display_data"
    },
    {
     "data": {
      "text/html": [
       "<pre style=\"white-space:pre;overflow-x:auto;line-height:normal;font-family:Menlo,'DejaVu Sans Mono',consolas,'Courier New',monospace\">08:03:47.717 | <span style=\"color: #008080; text-decoration-color: #008080\">INFO</span>    | Flow run<span style=\"color: #800080; text-decoration-color: #800080\"> 'space-tanuki'</span> - Created task run 'download_one_with_prefect-1' for task 'download_one_with_prefect'\n",
       "</pre>\n"
      ],
      "text/plain": [
       "08:03:47.717 | \u001b[36mINFO\u001b[0m    | Flow run\u001b[35m 'space-tanuki'\u001b[0m - Created task run 'download_one_with_prefect-1' for task 'download_one_with_prefect'\n"
      ]
     },
     "metadata": {},
     "output_type": "display_data"
    },
    {
     "data": {
      "text/html": [
       "<pre style=\"white-space:pre;overflow-x:auto;line-height:normal;font-family:Menlo,'DejaVu Sans Mono',consolas,'Courier New',monospace\">08:03:47.718 | <span style=\"color: #008080; text-decoration-color: #008080\">INFO</span>    | Flow run<span style=\"color: #800080; text-decoration-color: #800080\"> 'space-tanuki'</span> - Executing 'download_one_with_prefect-1' immediately...\n",
       "</pre>\n"
      ],
      "text/plain": [
       "08:03:47.718 | \u001b[36mINFO\u001b[0m    | Flow run\u001b[35m 'space-tanuki'\u001b[0m - Executing 'download_one_with_prefect-1' immediately...\n"
      ]
     },
     "metadata": {},
     "output_type": "display_data"
    },
    {
     "data": {
      "text/html": [
       "<pre style=\"white-space:pre;overflow-x:auto;line-height:normal;font-family:Menlo,'DejaVu Sans Mono',consolas,'Courier New',monospace\">08:03:47.835 | <span style=\"color: #008080; text-decoration-color: #008080\">INFO</span>    | Task run 'download_one_with_prefect-0' - Finished in state <span style=\"color: #008000; text-decoration-color: #008000\">Completed</span>()\n",
       "</pre>\n"
      ],
      "text/plain": [
       "08:03:47.835 | \u001b[36mINFO\u001b[0m    | Task run 'download_one_with_prefect-0' - Finished in state \u001b[32mCompleted\u001b[0m()\n"
      ]
     },
     "metadata": {},
     "output_type": "display_data"
    },
    {
     "data": {
      "text/html": [
       "<pre style=\"white-space:pre;overflow-x:auto;line-height:normal;font-family:Menlo,'DejaVu Sans Mono',consolas,'Courier New',monospace\">08:03:47.872 | <span style=\"color: #008080; text-decoration-color: #008080\">INFO</span>    | Task run 'download_one_with_prefect-1' - Finished in state <span style=\"color: #008000; text-decoration-color: #008000\">Completed</span>()\n",
       "</pre>\n"
      ],
      "text/plain": [
       "08:03:47.872 | \u001b[36mINFO\u001b[0m    | Task run 'download_one_with_prefect-1' - Finished in state \u001b[32mCompleted\u001b[0m()\n"
      ]
     },
     "metadata": {},
     "output_type": "display_data"
    },
    {
     "data": {
      "text/html": [
       "<pre style=\"white-space:pre;overflow-x:auto;line-height:normal;font-family:Menlo,'DejaVu Sans Mono',consolas,'Courier New',monospace\">08:03:47.874 | <span style=\"color: #008080; text-decoration-color: #008080\">INFO</span>    | Task run 'download_one_with_prefect-2' - Finished in state <span style=\"color: #008000; text-decoration-color: #008000\">Completed</span>()\n",
       "</pre>\n"
      ],
      "text/plain": [
       "08:03:47.874 | \u001b[36mINFO\u001b[0m    | Task run 'download_one_with_prefect-2' - Finished in state \u001b[32mCompleted\u001b[0m()\n"
      ]
     },
     "metadata": {},
     "output_type": "display_data"
    },
    {
     "name": "stdout",
     "output_type": "stream",
     "text": [
      "NOT_STARTED:0 / IN_PROGRESS:3 / FAILED:0 / DONE:0\n",
      "NOT_STARTED:0 / IN_PROGRESS:0 / FAILED:0 / DONE:3\n"
     ]
    },
    {
     "data": {
      "text/html": [
       "<pre style=\"white-space:pre;overflow-x:auto;line-height:normal;font-family:Menlo,'DejaVu Sans Mono',consolas,'Courier New',monospace\">08:03:49.028 | <span style=\"color: #008080; text-decoration-color: #008080\">INFO</span>    | Flow run<span style=\"color: #800080; text-decoration-color: #800080\"> 'space-tanuki'</span> - Finished in state <span style=\"color: #008000; text-decoration-color: #008000\">Completed</span>('All states completed.')\n",
       "</pre>\n"
      ],
      "text/plain": [
       "08:03:49.028 | \u001b[36mINFO\u001b[0m    | Flow run\u001b[35m 'space-tanuki'\u001b[0m - Finished in state \u001b[32mCompleted\u001b[0m('All states completed.')\n"
      ]
     },
     "metadata": {},
     "output_type": "display_data"
    },
    {
     "name": "stdout",
     "output_type": "stream",
     "text": [
      "s3://test-data/adgs/data/S2__OPER_AUX_ECMWFD_PDMC_20230216T120000_V20190217T090000_20190217T210000.TGZ exists\n",
      "s3://test-data/adgs/data/S2__OPER_AUX_ECMWFD_PDMC_20200216T120000_V20190217T090000_20190217T210000.TGZ exists\n",
      "s3://test-data/adgs/data/S2__OPER_AUX_ECMWFD_PDMC_20190216T120000_V20190217T090000_20190217T210000.TGZ exists\n"
     ]
    }
   ],
   "source": [
    "# Do the same with prefect\n",
    "!pip install prefect\n",
    "from prefect import flow, task\n",
    "\n",
    "@task\n",
    "async def download_one_with_prefect(name: str, save_to_s3: bool):\n",
    "    return await download_one(name, save_to_s3)\n",
    "\n",
    "@flow(name=\"download adgs products\")\n",
    "async def download_all_with_prefect(save_to_s3: bool):\n",
    "    return await download_all(save_to_s3, download_one_with_prefect)\n",
    "\n",
    "clean_existing()\n",
    "\n",
    "if local_mode:\n",
    "    print (\"[Prefect] Download everything to the local directory, not s3:\")\n",
    "    await (download_all_with_prefect(save_to_s3=False))\n",
    "    check_existing_local()\n",
    "\n",
    "print (\"\\n[Prefect] Download everything again and upload to S3:\")\n",
    "await (download_all_with_prefect(save_to_s3=True))\n",
    "check_existing_s3()"
   ]
  },
  {
   "cell_type": "markdown",
   "id": "d135f5fe-3d7a-449a-9f6d-d6132dfc2148",
   "metadata": {},
   "source": [
    "---\n",
    "**NOTE**\n",
    "\n",
    "In local mode, open the Prefect dashboard: http://127.0.0.1:4200\n",
    "\n",
    "---"
   ]
  },
  {
   "cell_type": "code",
   "execution_count": 9,
   "id": "aa5d4303-1b6e-4472-9489-a028d318cad1",
   "metadata": {},
   "outputs": [
    {
     "name": "stdout",
     "output_type": "stream",
     "text": [
      "Timeliness for:\n",
      "  - S2__OPER_AUX_ECMWFD_PDMC_20230216T120000_V20190217T090000_20190217T210000.TGZ: 423 days, 20:03:48.274816\n",
      "  - S2__OPER_AUX_ECMWFD_PDMC_20200216T120000_V20190217T090000_20190217T210000.TGZ: 1519 days, 20:03:48.395554\n",
      "  - S2__OPER_AUX_ECMWFD_PDMC_20190216T120000_V20190217T090000_20190217T210000.TGZ: 1884 days, 20:03:48.498062\n"
     ]
    }
   ],
   "source": [
    "from datetime import datetime\n",
    "\n",
    "dt_format = \"%Y-%m-%dT%H:%M:%S.%f\" # %z\n",
    "\n",
    "# Check timeliness by substracting download stop date - publishing date.\n",
    "# Call the \"status\" endpoint.\n",
    "print (\"Timeliness for:\")\n",
    "for name in product_names:    \n",
    "    data = requests.get(f\"{endpoint}/status\", {\"name\": name}, **HEADERS)\n",
    "    data.raise_for_status()\n",
    "    values = data.json()\n",
    "    publication = datetime.strptime (values[\"available_at_station\"], dt_format)\n",
    "    stop = datetime.strptime (values[\"download_stop\"], dt_format)\n",
    "    timeliness = stop - publication\n",
    "    print (f\"  - {name}: {timeliness}\")"
   ]
  },
  {
   "cell_type": "code",
   "execution_count": null,
   "id": "ceddfd8e-e32c-4f01-97ff-35d80c4d6900",
   "metadata": {},
   "outputs": [],
   "source": []
  }
 ],
 "metadata": {
  "kernelspec": {
   "display_name": "Python 3 (ipykernel)",
   "language": "python",
   "name": "python3"
  },
  "language_info": {
   "codemirror_mode": {
    "name": "ipython",
    "version": 3
   },
   "file_extension": ".py",
   "mimetype": "text/x-python",
   "name": "python",
   "nbconvert_exporter": "python",
   "pygments_lexer": "ipython3",
   "version": "3.11.6"
  }
 },
 "nbformat": 4,
 "nbformat_minor": 5
}

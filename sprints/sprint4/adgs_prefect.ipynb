{
 "cells": [
  {
   "cell_type": "markdown",
   "id": "2b445d78-b8ce-459c-a34e-11af313fe1e3",
   "metadata": {},
   "source": [
    "# CADU endpoints demo\n",
    "\n",
    "In this demo we will call the rs-server CADU HTTP endpoints:\n",
    "\n",
    "  * List available CADU products\n",
    "  * Download some products into local storage and S3 bucket\n",
    "  * Monitor the download status from the database."
   ]
  },
  {
   "cell_type": "code",
   "execution_count": 1,
   "id": "aa8f49d4-b62b-419a-8868-9072a40962f4",
   "metadata": {},
   "outputs": [],
   "source": [
    "# Define some variables\n",
    "endpoint=\"http://rs-server:8000/cadip/CADIP/cadu\" # rs-server host = the container name\n",
    "start=\"2014-01-01T12:00:00.000Z\"\n",
    "stop=\"2023-12-30T12:00:00.000Z\""
   ]
  },
  {
   "cell_type": "code",
   "execution_count": 2,
   "id": "50de3560-f30b-42b4-88ea-7ed93030fd9f",
   "metadata": {},
   "outputs": [
    {
     "name": "stdout",
     "output_type": "stream",
     "text": [
      "+ curl -X GET 'http://rs-server:8000/cadip/CADIP/cadu/list?start_date=2014-01-01T12:00:00.000Z&stop_date=2023-12-30T12:00:00.000Z' -H 'accept: application/json'\n",
      "{\"CADIP\":[[\"2b17b57d-fff4-4645-b539-91f305c27c69\",\"DCS_04_S1A_20231121072204051312_ch1_DSDB_00001.raw\"],[\"2b17b57d-fff4-4645-b539-91f305c27c60\",\"DCS_04_S1A_20231121072204051312_ch1_DSDB_00002.raw\"],[\"2b17b57d-fff4-4645-b539-91f305c27c61\",\"DCS_04_S1A_20231121072204051312_ch1_DSDB_00003.raw\"],[\"2b17b57d-fff4-4645-b539-91f305c27c62\",\"DCS_04_S1A_20231121072204051312_ch1_DSDB_00004.raw\"],[\"2b17b57d-fff4-4645-b539-91f305c27c63\",\"DCS_04_S1A_20231121072204051312_ch1_DSDB_00005.raw\"],[\"2b17b57d-fff4-4645-b539-91f305c27c64\",\"DCS_04_S1A_20231121072204051312_ch1_DSDB_00006.raw\"],[\"2b17b57d-fff4-4645-b539-91f305c27c65\",\"DCS_04_S1A_20231121072204051312_ch1_DSDB_00007.raw\"],[\"some_id_2\",\"DCS_04_S1A_20231121072204051312_ch1_DSDB_00060.raw\"],[\"some_id_3\",\"DCS_04_S1A_20231121072204051312_ch2_DSDB_00046.raw\"],[\"some_id_4\",\"DCS_04_S1A_20231121072204051312_ch2_DSDB_00060.raw\"]]}"
     ]
    }
   ],
   "source": [
    "# From a terminal, to list the available CADU products, we would use the curl command:\n",
    "!set -x && curl -X GET \"{endpoint}/list?start_date={start}&stop_date={stop}\" -H \"accept: application/json\""
   ]
  },
  {
   "cell_type": "code",
   "execution_count": 3,
   "id": "7e9e3adc-0ace-4343-8b47-3660aee4cd88",
   "metadata": {},
   "outputs": [
    {
     "name": "stdout",
     "output_type": "stream",
     "text": [
      "[   [   '2b17b57d-fff4-4645-b539-91f305c27c69',\n",
      "        'DCS_04_S1A_20231121072204051312_ch1_DSDB_00001.raw'],\n",
      "    [   '2b17b57d-fff4-4645-b539-91f305c27c60',\n",
      "        'DCS_04_S1A_20231121072204051312_ch1_DSDB_00002.raw'],\n",
      "    [   '2b17b57d-fff4-4645-b539-91f305c27c61',\n",
      "        'DCS_04_S1A_20231121072204051312_ch1_DSDB_00003.raw']]\n",
      "...\n"
     ]
    }
   ],
   "source": [
    "# But let's do it in python so it's easier to parse results\n",
    "import requests\n",
    "import pprint \n",
    "\n",
    "# Call the \"list\" endpoint\n",
    "data = requests.get(f\"{endpoint}/list\", {\"start_date\": start, \"stop_date\": stop})\n",
    "assert data.status_code == 200\n",
    "\n",
    "# Get the returned products as (id,name) lists\n",
    "products = data.json()[\"CADIP\"]\n",
    "assert len(products) == 10\n",
    "\n",
    "# Print the first n products\n",
    "pprint.PrettyPrinter(indent=4).pprint(products[:3])\n",
    "print(\"...\")\n",
    "\n",
    "# Keep only the names\n",
    "product_names = [name for id, name in products]"
   ]
  },
  {
   "cell_type": "code",
   "execution_count": 4,
   "id": "72ee015f-5e13-47bd-ad7d-81baff771a6e",
   "metadata": {},
   "outputs": [
    {
     "name": "stdout",
     "output_type": "stream",
     "text": [
      "[   {   'available_at_station': '2023-11-26T17:01:39.528000',\n",
      "        'cadu_id': '2b17b57d-fff4-4645-b539-91f305c27c69',\n",
      "        'db_id': 1,\n",
      "        'download_start': None,\n",
      "        'download_stop': None,\n",
      "        'name': 'DCS_04_S1A_20231121072204051312_ch1_DSDB_00001.raw',\n",
      "        'status': 'NOT_STARTED',\n",
      "        'status_fail_message': None},\n",
      "    {   'available_at_station': '2023-11-26T17:01:39.528000',\n",
      "        'cadu_id': '2b17b57d-fff4-4645-b539-91f305c27c60',\n",
      "        'db_id': 2,\n",
      "        'download_start': None,\n",
      "        'download_stop': None,\n",
      "        'name': 'DCS_04_S1A_20231121072204051312_ch1_DSDB_00002.raw',\n",
      "        'status': 'NOT_STARTED',\n",
      "        'status_fail_message': None}]\n",
      "...\n"
     ]
    }
   ],
   "source": [
    "# The \"list\" endpoint has initialised the database with the products info.\n",
    "# Call the \"status\" endpoint to get the info from the products name.\n",
    "all_status = []\n",
    "for name in product_names:\n",
    "    data = requests.get(f\"{endpoint}/status\", {\"name\": name})\n",
    "    assert data.status_code == 200\n",
    "    all_status.append (data.json())\n",
    "\n",
    "# Print the first n status\n",
    "pprint.PrettyPrinter(indent=4).pprint(all_status[:2])\n",
    "print(\"...\")"
   ]
  },
  {
   "cell_type": "markdown",
   "id": "6e03d397-7737-4d9d-ad11-235c4beed428",
   "metadata": {},
   "source": [
    "---\n",
    "**NOTE**\n",
    "\n",
    "You can also monitor the database using pgAdmin.\n",
    "\n",
    "---"
   ]
  },
  {
   "cell_type": "code",
   "execution_count": 1,
   "id": "fb527198-3896-4447-b758-ce54f2ae70e6",
   "metadata": {},
   "outputs": [
    {
     "name": "stdout",
     "output_type": "stream",
     "text": [
      "Requirement already satisfied: boto3 in /opt/conda/lib/python3.11/site-packages (1.34.26)\n",
      "Requirement already satisfied: botocore<1.35.0,>=1.34.26 in /opt/conda/lib/python3.11/site-packages (from boto3) (1.34.26)\n",
      "Requirement already satisfied: jmespath<2.0.0,>=0.7.1 in /opt/conda/lib/python3.11/site-packages (from boto3) (1.0.1)\n",
      "Requirement already satisfied: s3transfer<0.11.0,>=0.10.0 in /opt/conda/lib/python3.11/site-packages (from boto3) (0.10.0)\n",
      "Requirement already satisfied: python-dateutil<3.0.0,>=2.1 in /opt/conda/lib/python3.11/site-packages (from botocore<1.35.0,>=1.34.26->boto3) (2.8.2)\n",
      "Requirement already satisfied: urllib3<2.1,>=1.25.4 in /opt/conda/lib/python3.11/site-packages (from botocore<1.35.0,>=1.34.26->boto3) (2.0.7)\n",
      "Requirement already satisfied: six>=1.5 in /opt/conda/lib/python3.11/site-packages (from python-dateutil<3.0.0,>=2.1->botocore<1.35.0,>=1.34.26->boto3) (1.16.0)\n"
     ]
    }
   ],
   "source": [
    "# We'll use boto3 to monitor the s3 bucket.\n",
    "# Note: the S3_ACCESSKEY, S3_SECRETKEY and S3_ENDPOINT are given in the docker-compose.yml file.\n",
    "!pip install boto3\n",
    "import boto3\n",
    "import os\n",
    "\n",
    "s3_session = boto3.session.Session()\n",
    "s3_client = s3_session.client(\n",
    "    service_name=\"s3\",\n",
    "    aws_access_key_id=os.environ[\"S3_ACCESSKEY\"],\n",
    "    aws_secret_access_key=os.environ[\"S3_SECRETKEY\"],\n",
    "    endpoint_url=os.environ[\"S3_ENDPOINT\"],\n",
    ")"
   ]
  },
  {
   "cell_type": "code",
   "execution_count": 7,
   "id": "2064243b-e760-4e63-8cee-6696614caf1b",
   "metadata": {},
   "outputs": [],
   "source": [
    "# S3 bucket name\n",
    "bucket_name = \"test-data\"\n",
    "\n",
    "# If the s3 bucket already exist, remove the existing products from it\n",
    "if bucket_name in [bucket[\"Name\"] for bucket in s3_client.list_buckets()[\"Buckets\"]]:\n",
    "    for name in product_names:\n",
    "        s3_client.delete_object(Bucket=bucket_name, Key=name)\n",
    "\n",
    "# Else create the bucket\n",
    "else:\n",
    "    s3_client.create_bucket(Bucket=bucket_name)\n",
    "\n",
    "# The local download directory is passed as an environment variable\n",
    "local_download_dir = os.environ[\"RSPY_LOCAL_DOWNLOAD\"]\n",
    "\n",
    "# Remove all local files if they exist\n",
    "from pathlib import Path\n",
    "for name in product_names:\n",
    "    file = Path (local_download_dir) / name\n",
    "    if file.is_file():\n",
    "        file.unlink()"
   ]
  },
  {
   "cell_type": "code",
   "execution_count": 8,
   "id": "3549f2ca-cb6f-457f-a1cf-8b66e9426cbe",
   "metadata": {},
   "outputs": [
    {
     "name": "stdout",
     "output_type": "stream",
     "text": [
      "Download everything to the local directory, not s3:\n",
      "NOT_STARTED:0 / IN_PROGRESS:1 / FAILED:0 / DONE:9\n",
      "NOT_STARTED:0 / IN_PROGRESS:0 / FAILED:0 / DONE:10\n",
      "/local/download/DCS_04_S1A_20231121072204051312_ch1_DSDB_00001.raw exists\n",
      "/local/download/DCS_04_S1A_20231121072204051312_ch1_DSDB_00002.raw exists\n",
      "/local/download/DCS_04_S1A_20231121072204051312_ch1_DSDB_00003.raw exists\n",
      "/local/download/DCS_04_S1A_20231121072204051312_ch1_DSDB_00004.raw exists\n",
      "/local/download/DCS_04_S1A_20231121072204051312_ch1_DSDB_00005.raw exists\n",
      "/local/download/DCS_04_S1A_20231121072204051312_ch1_DSDB_00006.raw exists\n",
      "/local/download/DCS_04_S1A_20231121072204051312_ch1_DSDB_00007.raw exists\n",
      "/local/download/DCS_04_S1A_20231121072204051312_ch1_DSDB_00060.raw exists\n",
      "/local/download/DCS_04_S1A_20231121072204051312_ch2_DSDB_00046.raw exists\n",
      "/local/download/DCS_04_S1A_20231121072204051312_ch2_DSDB_00060.raw exists\n",
      "\n",
      "Download everything again, but this time upload to S3:\n",
      "NOT_STARTED:0 / IN_PROGRESS:1 / FAILED:0 / DONE:9\n",
      "NOT_STARTED:0 / IN_PROGRESS:0 / FAILED:0 / DONE:10\n",
      "s3://test-data/DCS_04_S1A_20231121072204051312_ch1_DSDB_00001.raw exists\n",
      "s3://test-data/DCS_04_S1A_20231121072204051312_ch1_DSDB_00002.raw exists\n",
      "s3://test-data/DCS_04_S1A_20231121072204051312_ch1_DSDB_00003.raw exists\n",
      "s3://test-data/DCS_04_S1A_20231121072204051312_ch1_DSDB_00004.raw exists\n",
      "s3://test-data/DCS_04_S1A_20231121072204051312_ch1_DSDB_00005.raw exists\n",
      "s3://test-data/DCS_04_S1A_20231121072204051312_ch1_DSDB_00006.raw exists\n",
      "s3://test-data/DCS_04_S1A_20231121072204051312_ch1_DSDB_00007.raw exists\n",
      "s3://test-data/DCS_04_S1A_20231121072204051312_ch1_DSDB_00060.raw exists\n",
      "s3://test-data/DCS_04_S1A_20231121072204051312_ch2_DSDB_00046.raw exists\n",
      "s3://test-data/DCS_04_S1A_20231121072204051312_ch2_DSDB_00060.raw exists\n"
     ]
    }
   ],
   "source": [
    "import asyncio\n",
    "\n",
    "# Call the CADIP endpoint to download one product in background \n",
    "# and upload it (optional) to the S3 bucket.\n",
    "async def download_one(name: str, save_to_s3: bool):\n",
    "\n",
    "    params = {\"name\": name, \"local\": local_download_dir}\n",
    "    # obs = the bucket URL, if requested\n",
    "    if save_to_s3:\n",
    "        params[\"obs\"] = f\"s3://{bucket_name}\"\n",
    "\n",
    "    data = requests.get(endpoint, params)\n",
    "    assert data.status_code == 200\n",
    "\n",
    "# In parallel, call the \"status\" endpoint to get and print the download status.\n",
    "async def print_status():\n",
    "\n",
    "    # Wait a second if the staus need to be passed \n",
    "    # from DONE to NOT_STARTED if we download several times.\n",
    "    await asyncio.sleep(1)\n",
    "\n",
    "    all_done = False\n",
    "    while not all_done: \n",
    "\n",
    "        # Count the number of products not started, in progres etc ...\n",
    "        all_status = {\"NOT_STARTED\": 0, \"IN_PROGRESS\": 0, \"FAILED\": 0, \"DONE\": 0}\n",
    "        for name in product_names:\n",
    "            \n",
    "            # Call the \"status\" endpoint\n",
    "            data = requests.get(f\"{endpoint}/status\", {\"name\": name})\n",
    "            assert data.status_code == 200\n",
    "            all_status[(data.json())[\"status\"]] += 1\n",
    "\n",
    "        # Print result\n",
    "        print (\" / \".join ([f\"{status}:{count}\" for status, count in all_status.items()]))\n",
    "\n",
    "        if all_status[\"DONE\"] == len(product_names):\n",
    "            all_done = True\n",
    "        else:\n",
    "            await asyncio.sleep(1)\n",
    "\n",
    "# Call everything in parallel\n",
    "async def download_all(save_to_s3: bool):\n",
    "    async with asyncio.TaskGroup() as group:\n",
    "        group.create_task (print_status())\n",
    "        for name in product_names:\n",
    "            group.create_task(download_one (name, save_to_s3))\n",
    "\n",
    "print (\"Download everything to the local directory, not s3:\")\n",
    "await (download_all(save_to_s3=False))\n",
    "\n",
    "# Check that the local files exist. \n",
    "# Wait 1 second before that or sometimes it bugs.\n",
    "await asyncio.sleep(1)\n",
    "for name in product_names:\n",
    "    file = Path (local_download_dir) / name    \n",
    "    if not file.is_file():\n",
    "        raise RuntimeException (f\"{file} is missing locally\")\n",
    "    print (f\"{file} exists\")\n",
    "\n",
    "print (\"\\nDownload everything again, but this time upload to S3:\")\n",
    "await (download_all(save_to_s3=True))\n",
    "\n",
    "# This time the local files are not kept locally, \n",
    "# but they should be uploaded into the S3 bucket.\n",
    "await asyncio.sleep(1)\n",
    "all_s3_filenames = [key[\"Key\"] for key in s3_client.list_objects(Bucket=bucket_name)['Contents']]\n",
    "for name in product_names:    \n",
    "    if not name in all_s3_filenames:\n",
    "        raise RuntimeException (f\"{file} is missing from the S3 bucket\")\n",
    "    print (f\"s3://{bucket_name}/{name} exists\")"
   ]
  },
  {
   "cell_type": "markdown",
   "id": "fb5462b2-f0c8-476c-ad56-1a814af85dbe",
   "metadata": {},
   "source": [
    "---\n",
    "**NOTE**\n",
    "\n",
    "You can also monitor the s3 bucket using the minio console: http://127.0.0.1:9001/browser with:\n",
    "\n",
    "  * Username: _minio_\n",
    "  * Password: _Strong#Pass#1234_\n",
    "\n",
    "---"
   ]
  },
  {
   "cell_type": "code",
   "execution_count": 9,
   "id": "aa5d4303-1b6e-4472-9489-a028d318cad1",
   "metadata": {},
   "outputs": [
    {
     "name": "stdout",
     "output_type": "stream",
     "text": [
      "Timeliness for:\n",
      "  - DCS_04_S1A_20231121072204051312_ch1_DSDB_00001.raw: 58 days, 20:14:59.914655\n",
      "  - DCS_04_S1A_20231121072204051312_ch1_DSDB_00002.raw: 58 days, 20:14:59.912772\n",
      "  - DCS_04_S1A_20231121072204051312_ch1_DSDB_00003.raw: 58 days, 20:14:59.912088\n",
      "  - DCS_04_S1A_20231121072204051312_ch1_DSDB_00004.raw: 58 days, 20:15:00.031535\n",
      "  - DCS_04_S1A_20231121072204051312_ch1_DSDB_00005.raw: 58 days, 20:15:00.304013\n",
      "  - DCS_04_S1A_20231121072204051312_ch1_DSDB_00006.raw: 58 days, 20:15:00.375393\n",
      "  - DCS_04_S1A_20231121072204051312_ch1_DSDB_00007.raw: 58 days, 20:14:59.915409\n",
      "  - DCS_04_S1A_20231121072204051312_ch1_DSDB_00060.raw: 58 days, 20:15:00.157170\n",
      "  - DCS_04_S1A_20231121072204051312_ch2_DSDB_00046.raw: 58 days, 21:56:18.531328\n",
      "  - DCS_04_S1A_20231121072204051312_ch2_DSDB_00060.raw: 58 days, 21:51:20.854928\n"
     ]
    }
   ],
   "source": [
    "from datetime import datetime\n",
    "\n",
    "dt_format = \"%Y-%m-%dT%H:%M:%S.%f\" # %z\n",
    "\n",
    "# Check timeliness by substracting download stop date - publishing date.\n",
    "# Call the \"status\" endpoint.\n",
    "print (\"Timeliness for:\")\n",
    "for name in product_names:    \n",
    "    data = requests.get(f\"{endpoint}/status\", {\"name\": name})\n",
    "    assert data.status_code == 200\n",
    "    values = data.json()\n",
    "    publication = datetime.strptime (values[\"available_at_station\"], dt_format)\n",
    "    stop = datetime.strptime (values[\"download_stop\"], dt_format)\n",
    "    timeliness = stop - publication\n",
    "    print (f\"  - {name}: {timeliness}\")"
   ]
  },
  {
   "cell_type": "code",
   "execution_count": 1,
   "id": "989ec4dc-8a2f-41bc-b113-0ba34f8a68ce",
   "metadata": {
    "collapsed": true,
    "jupyter": {
     "outputs_hidden": true
    }
   },
   "outputs": [
    {
     "name": "stdout",
     "output_type": "stream",
     "text": [
      "Collecting prefect\n",
      "  Downloading prefect-2.14.16-py3-none-any.whl.metadata (10 kB)\n",
      "Collecting aiosqlite>=0.17.0 (from prefect)\n",
      "  Downloading aiosqlite-0.19.0-py3-none-any.whl (15 kB)\n",
      "Requirement already satisfied: alembic<2.0.0,>=1.7.5 in /opt/conda/lib/python3.11/site-packages (from prefect) (1.12.0)\n",
      "Collecting apprise<2.0.0,>=1.1.0 (from prefect)\n",
      "  Downloading apprise-1.7.1-py3-none-any.whl.metadata (44 kB)\n",
      "\u001b[2K     \u001b[90m━━━━━━━━━━━━━━━━━━━━━━━━━━━━━━━━━━━━━━━\u001b[0m \u001b[32m44.0/44.0 kB\u001b[0m \u001b[31m878.5 kB/s\u001b[0m eta \u001b[36m0:00:00\u001b[0m \u001b[36m0:00:01\u001b[0m\n",
      "\u001b[?25hCollecting asyncpg>=0.23 (from prefect)\n",
      "  Downloading asyncpg-0.29.0-cp311-cp311-manylinux_2_17_x86_64.manylinux2014_x86_64.whl.metadata (4.4 kB)\n",
      "Collecting click<8.2,>=8.0 (from prefect)\n",
      "  Downloading click-8.1.7-py3-none-any.whl.metadata (3.0 kB)\n",
      "Requirement already satisfied: cryptography>=36.0.1 in /opt/conda/lib/python3.11/site-packages (from prefect) (41.0.4)\n",
      "Collecting dateparser<2.0.0,>=1.1.1 (from prefect)\n",
      "  Downloading dateparser-1.2.0-py2.py3-none-any.whl.metadata (28 kB)\n",
      "Collecting docker<7.0,>=4.0 (from prefect)\n",
      "  Downloading docker-6.1.3-py3-none-any.whl.metadata (3.5 kB)\n",
      "Collecting graphviz>=0.20.1 (from prefect)\n",
      "  Downloading graphviz-0.20.1-py3-none-any.whl (47 kB)\n",
      "\u001b[2K     \u001b[90m━━━━━━━━━━━━━━━━━━━━━━━━━━━━━━━━━━━━━━━━\u001b[0m \u001b[32m47.0/47.0 kB\u001b[0m \u001b[31m1.2 MB/s\u001b[0m eta \u001b[36m0:00:00\u001b[0m\n",
      "\u001b[?25hCollecting griffe>=0.20.0 (from prefect)\n",
      "  Downloading griffe-0.39.1-py3-none-any.whl.metadata (6.2 kB)\n",
      "Requirement already satisfied: jinja2<4.0.0,>=3.0.0 in /opt/conda/lib/python3.11/site-packages (from prefect) (3.1.2)\n",
      "Collecting kubernetes<30.0.0,>=24.2.0 (from prefect)\n",
      "  Downloading kubernetes-29.0.0-py2.py3-none-any.whl.metadata (1.5 kB)\n",
      "Requirement already satisfied: pytz<2024,>=2021.1 in /opt/conda/lib/python3.11/site-packages (from prefect) (2023.3.post1)\n",
      "Collecting readchar<5.0.0,>=4.0.0 (from prefect)\n",
      "  Downloading readchar-4.0.5-py3-none-any.whl (8.5 kB)\n",
      "Requirement already satisfied: sqlalchemy!=1.4.33,<3.0.0,>=1.4.22 in /opt/conda/lib/python3.11/site-packages (from sqlalchemy[asyncio]!=1.4.33,<3.0.0,>=1.4.22->prefect) (2.0.22)\n",
      "Collecting typer>=0.4.2 (from prefect)\n",
      "  Downloading typer-0.9.0-py3-none-any.whl (45 kB)\n",
      "\u001b[2K     \u001b[90m━━━━━━━━━━━━━━━━━━━━━━━━━━━━━━━━━━━━━━━━\u001b[0m \u001b[32m45.9/45.9 kB\u001b[0m \u001b[31m1.4 MB/s\u001b[0m eta \u001b[36m0:00:00\u001b[0m\n",
      "\u001b[?25hCollecting anyio<4.0.0,>=3.7.1 (from prefect)\n",
      "  Downloading anyio-3.7.1-py3-none-any.whl.metadata (4.7 kB)\n",
      "Collecting asgi-lifespan<3.0,>=1.0 (from prefect)\n",
      "  Downloading asgi_lifespan-2.1.0-py3-none-any.whl (10 kB)\n",
      "Collecting cachetools<6.0,>=5.3 (from prefect)\n",
      "  Downloading cachetools-5.3.2-py3-none-any.whl.metadata (5.2 kB)\n",
      "Collecting cloudpickle<4.0,>=2.0 (from prefect)\n",
      "  Downloading cloudpickle-3.0.0-py3-none-any.whl.metadata (7.0 kB)\n",
      "Collecting coolname<3.0.0,>=1.0.4 (from prefect)\n",
      "  Downloading coolname-2.2.0-py2.py3-none-any.whl (37 kB)\n",
      "Collecting croniter<3.0.0,>=1.0.12 (from prefect)\n",
      "  Downloading croniter-2.0.1-py2.py3-none-any.whl.metadata (24 kB)\n",
      "Collecting fsspec>=2022.5.0 (from prefect)\n",
      "  Downloading fsspec-2023.12.2-py3-none-any.whl.metadata (6.8 kB)\n",
      "Collecting httpcore<2.0.0,>=0.15.0 (from prefect)\n",
      "  Downloading httpcore-1.0.2-py3-none-any.whl.metadata (20 kB)\n",
      "Collecting httpx!=0.23.2,>=0.23 (from httpx[http2]!=0.23.2,>=0.23->prefect)\n",
      "  Downloading httpx-0.26.0-py3-none-any.whl.metadata (7.6 kB)\n",
      "Requirement already satisfied: jsonpatch<2.0,>=1.32 in /opt/conda/lib/python3.11/site-packages (from prefect) (1.33)\n",
      "Requirement already satisfied: jsonschema<5.0.0,>=3.2.0 in /opt/conda/lib/python3.11/site-packages (from prefect) (4.19.1)\n",
      "Collecting orjson<4.0,>=3.7 (from prefect)\n",
      "  Downloading orjson-3.9.12-cp311-cp311-manylinux_2_17_x86_64.manylinux2014_x86_64.whl.metadata (49 kB)\n",
      "\u001b[2K     \u001b[90m━━━━━━━━━━━━━━━━━━━━━━━━━━━━━━━━━━━━━━━━\u001b[0m \u001b[32m49.4/49.4 kB\u001b[0m \u001b[31m1.2 MB/s\u001b[0m eta \u001b[36m0:00:00\u001b[0ma \u001b[36m0:00:01\u001b[0m\n",
      "\u001b[?25hRequirement already satisfied: packaging<24.3,>=21.3 in /opt/conda/lib/python3.11/site-packages (from prefect) (23.2)\n",
      "Collecting pathspec>=0.8.0 (from prefect)\n",
      "  Downloading pathspec-0.12.1-py3-none-any.whl.metadata (21 kB)\n",
      "Collecting pydantic!=2.0.0,!=2.0.1,!=2.1.0,<3.0.0,>=1.10.0 (from pydantic[email]!=2.0.0,!=2.0.1,!=2.1.0,<3.0.0,>=1.10.0->prefect)\n",
      "  Downloading pydantic-2.5.3-py3-none-any.whl.metadata (65 kB)\n",
      "\u001b[2K     \u001b[90m━━━━━━━━━━━━━━━━━━━━━━━━━━━━━━━━━━━━━━━━\u001b[0m \u001b[32m65.6/65.6 kB\u001b[0m \u001b[31m1.4 MB/s\u001b[0m eta \u001b[36m0:00:00\u001b[0ma \u001b[36m0:00:01\u001b[0m\n",
      "\u001b[?25hRequirement already satisfied: python-dateutil<3.0.0,>=2.8.2 in /opt/conda/lib/python3.11/site-packages (from prefect) (2.8.2)\n",
      "Collecting python-slugify<9.0,>=5.0 (from prefect)\n",
      "  Downloading python_slugify-8.0.1-py2.py3-none-any.whl (9.7 kB)\n",
      "Requirement already satisfied: pyyaml<7.0.0,>=5.4.1 in /opt/conda/lib/python3.11/site-packages (from prefect) (6.0.1)\n",
      "Collecting rich<14.0,>=11.0 (from prefect)\n",
      "  Downloading rich-13.7.0-py3-none-any.whl.metadata (18 kB)\n",
      "Requirement already satisfied: ruamel.yaml>=0.17.0 in /opt/conda/lib/python3.11/site-packages (from prefect) (0.17.39)\n",
      "Requirement already satisfied: sniffio<2.0.0,>=1.3.0 in /opt/conda/lib/python3.11/site-packages (from prefect) (1.3.0)\n",
      "Collecting starlette<0.33.0,>=0.27.0 (from prefect)\n",
      "  Downloading starlette-0.32.0.post1-py3-none-any.whl.metadata (5.8 kB)\n",
      "Collecting toml>=0.10.0 (from prefect)\n",
      "  Downloading toml-0.10.2-py2.py3-none-any.whl (16 kB)\n",
      "Requirement already satisfied: typing-extensions<5.0.0,>=4.5.0 in /opt/conda/lib/python3.11/site-packages (from prefect) (4.8.0)\n",
      "Collecting ujson<6.0.0,>=5.8.0 (from prefect)\n",
      "  Downloading ujson-5.9.0-cp311-cp311-manylinux_2_17_x86_64.manylinux2014_x86_64.whl.metadata (8.7 kB)\n",
      "Collecting uvicorn>=0.14.0 (from prefect)\n",
      "  Downloading uvicorn-0.27.0-py3-none-any.whl.metadata (6.4 kB)\n",
      "Collecting websockets<13.0,>=10.4 (from prefect)\n",
      "  Downloading websockets-12.0-cp311-cp311-manylinux_2_5_x86_64.manylinux1_x86_64.manylinux_2_17_x86_64.manylinux2014_x86_64.whl.metadata (6.6 kB)\n",
      "Collecting pendulum<3.0 (from prefect)\n",
      "  Downloading pendulum-2.1.2.tar.gz (81 kB)\n",
      "\u001b[2K     \u001b[90m━━━━━━━━━━━━━━━━━━━━━━━━━━━━━━━━━━━━━━━━\u001b[0m \u001b[32m81.2/81.2 kB\u001b[0m \u001b[31m1.6 MB/s\u001b[0m eta \u001b[36m0:00:00\u001b[0ma \u001b[36m0:00:01\u001b[0m\n",
      "\u001b[?25h  Installing build dependencies ... \u001b[?25ldone\n",
      "\u001b[?25h  Getting requirements to build wheel ... \u001b[?25ldone\n",
      "\u001b[?25h  Preparing metadata (pyproject.toml) ... \u001b[?25ldone\n",
      "\u001b[?25hRequirement already satisfied: Mako in /opt/conda/lib/python3.11/site-packages (from alembic<2.0.0,>=1.7.5->prefect) (1.2.4)\n",
      "Requirement already satisfied: idna>=2.8 in /opt/conda/lib/python3.11/site-packages (from anyio<4.0.0,>=3.7.1->prefect) (3.4)\n",
      "Requirement already satisfied: certifi in /opt/conda/lib/python3.11/site-packages (from apprise<2.0.0,>=1.1.0->prefect) (2023.7.22)\n",
      "Requirement already satisfied: requests in /opt/conda/lib/python3.11/site-packages (from apprise<2.0.0,>=1.1.0->prefect) (2.31.0)\n",
      "Collecting requests-oauthlib (from apprise<2.0.0,>=1.1.0->prefect)\n",
      "  Downloading requests_oauthlib-1.3.1-py2.py3-none-any.whl (23 kB)\n",
      "Collecting markdown (from apprise<2.0.0,>=1.1.0->prefect)\n",
      "  Downloading Markdown-3.5.2-py3-none-any.whl.metadata (7.0 kB)\n",
      "Collecting async-timeout>=4.0.3 (from asyncpg>=0.23->prefect)\n",
      "  Downloading async_timeout-4.0.3-py3-none-any.whl.metadata (4.2 kB)\n",
      "Requirement already satisfied: cffi>=1.12 in /opt/conda/lib/python3.11/site-packages (from cryptography>=36.0.1->prefect) (1.16.0)\n",
      "Collecting regex!=2019.02.19,!=2021.8.27 (from dateparser<2.0.0,>=1.1.1->prefect)\n",
      "  Downloading regex-2023.12.25-cp311-cp311-manylinux_2_17_x86_64.manylinux2014_x86_64.whl.metadata (40 kB)\n",
      "\u001b[2K     \u001b[90m━━━━━━━━━━━━━━━━━━━━━━━━━━━━━━━━━━━━━━━━\u001b[0m \u001b[32m40.9/40.9 kB\u001b[0m \u001b[31m1.7 MB/s\u001b[0m eta \u001b[36m0:00:00\u001b[0m\n",
      "\u001b[?25hCollecting tzlocal (from dateparser<2.0.0,>=1.1.1->prefect)\n",
      "  Downloading tzlocal-5.2-py3-none-any.whl.metadata (7.8 kB)\n",
      "Requirement already satisfied: urllib3>=1.26.0 in /opt/conda/lib/python3.11/site-packages (from docker<7.0,>=4.0->prefect) (2.0.7)\n",
      "Requirement already satisfied: websocket-client>=0.32.0 in /opt/conda/lib/python3.11/site-packages (from docker<7.0,>=4.0->prefect) (1.6.4)\n",
      "Requirement already satisfied: colorama>=0.4 in /opt/conda/lib/python3.11/site-packages (from griffe>=0.20.0->prefect) (0.4.6)\n",
      "Collecting h11<0.15,>=0.13 (from httpcore<2.0.0,>=0.15.0->prefect)\n",
      "  Downloading h11-0.14.0-py3-none-any.whl (58 kB)\n",
      "\u001b[2K     \u001b[90m━━━━━━━━━━━━━━━━━━━━━━━━━━━━━━━━━━━━━━━━\u001b[0m \u001b[32m58.3/58.3 kB\u001b[0m \u001b[31m2.0 MB/s\u001b[0m eta \u001b[36m0:00:00\u001b[0m\n",
      "\u001b[?25hCollecting h2<5,>=3 (from httpx[http2]!=0.23.2,>=0.23->prefect)\n",
      "  Downloading h2-4.1.0-py3-none-any.whl (57 kB)\n",
      "\u001b[2K     \u001b[90m━━━━━━━━━━━━━━━━━━━━━━━━━━━━━━━━━━━━━━━━\u001b[0m \u001b[32m57.5/57.5 kB\u001b[0m \u001b[31m1.8 MB/s\u001b[0m eta \u001b[36m0:00:00\u001b[0m\n",
      "\u001b[?25hRequirement already satisfied: MarkupSafe>=2.0 in /opt/conda/lib/python3.11/site-packages (from jinja2<4.0.0,>=3.0.0->prefect) (2.1.3)\n",
      "Requirement already satisfied: jsonpointer>=1.9 in /opt/conda/lib/python3.11/site-packages (from jsonpatch<2.0,>=1.32->prefect) (2.4)\n",
      "Requirement already satisfied: attrs>=22.2.0 in /opt/conda/lib/python3.11/site-packages (from jsonschema<5.0.0,>=3.2.0->prefect) (23.1.0)\n",
      "Requirement already satisfied: jsonschema-specifications>=2023.03.6 in /opt/conda/lib/python3.11/site-packages (from jsonschema<5.0.0,>=3.2.0->prefect) (2023.7.1)\n",
      "Requirement already satisfied: referencing>=0.28.4 in /opt/conda/lib/python3.11/site-packages (from jsonschema<5.0.0,>=3.2.0->prefect) (0.30.2)\n",
      "Requirement already satisfied: rpds-py>=0.7.1 in /opt/conda/lib/python3.11/site-packages (from jsonschema<5.0.0,>=3.2.0->prefect) (0.10.6)\n",
      "Requirement already satisfied: six>=1.9.0 in /opt/conda/lib/python3.11/site-packages (from kubernetes<30.0.0,>=24.2.0->prefect) (1.16.0)\n",
      "Collecting google-auth>=1.0.1 (from kubernetes<30.0.0,>=24.2.0->prefect)\n",
      "  Downloading google_auth-2.26.2-py2.py3-none-any.whl.metadata (4.7 kB)\n",
      "Requirement already satisfied: oauthlib>=3.2.2 in /opt/conda/lib/python3.11/site-packages (from kubernetes<30.0.0,>=24.2.0->prefect) (3.2.2)\n",
      "Collecting pytzdata>=2020.1 (from pendulum<3.0->prefect)\n",
      "  Downloading pytzdata-2020.1-py2.py3-none-any.whl (489 kB)\n",
      "\u001b[2K     \u001b[90m━━━━━━━━━━━━━━━━━━━━━━━━━━━━━━━━━━━━━━━\u001b[0m \u001b[32m490.0/490.0 kB\u001b[0m \u001b[31m1.4 MB/s\u001b[0m eta \u001b[36m0:00:00\u001b[0ma \u001b[36m0:00:01\u001b[0m\n",
      "\u001b[?25hCollecting annotated-types>=0.4.0 (from pydantic!=2.0.0,!=2.0.1,!=2.1.0,<3.0.0,>=1.10.0->pydantic[email]!=2.0.0,!=2.0.1,!=2.1.0,<3.0.0,>=1.10.0->prefect)\n",
      "  Downloading annotated_types-0.6.0-py3-none-any.whl.metadata (12 kB)\n",
      "Collecting pydantic-core==2.14.6 (from pydantic!=2.0.0,!=2.0.1,!=2.1.0,<3.0.0,>=1.10.0->pydantic[email]!=2.0.0,!=2.0.1,!=2.1.0,<3.0.0,>=1.10.0->prefect)\n",
      "  Downloading pydantic_core-2.14.6-cp311-cp311-manylinux_2_17_x86_64.manylinux2014_x86_64.whl.metadata (6.5 kB)\n",
      "Collecting email-validator>=2.0.0 (from pydantic[email]!=2.0.0,!=2.0.1,!=2.1.0,<3.0.0,>=1.10.0->prefect)\n",
      "  Downloading email_validator-2.1.0.post1-py3-none-any.whl.metadata (25 kB)\n",
      "Collecting text-unidecode>=1.3 (from python-slugify<9.0,>=5.0->prefect)\n",
      "  Downloading text_unidecode-1.3-py2.py3-none-any.whl (78 kB)\n",
      "\u001b[2K     \u001b[90m━━━━━━━━━━━━━━━━━━━━━━━━━━━━━━━━━━━━━━━━\u001b[0m \u001b[32m78.2/78.2 kB\u001b[0m \u001b[31m1.4 MB/s\u001b[0m eta \u001b[36m0:00:00\u001b[0ma \u001b[36m0:00:01\u001b[0m\n",
      "\u001b[?25hRequirement already satisfied: setuptools>=41.0 in /opt/conda/lib/python3.11/site-packages (from readchar<5.0.0,>=4.0.0->prefect) (68.2.2)\n",
      "Collecting markdown-it-py>=2.2.0 (from rich<14.0,>=11.0->prefect)\n",
      "  Downloading markdown_it_py-3.0.0-py3-none-any.whl.metadata (6.9 kB)\n",
      "Requirement already satisfied: pygments<3.0.0,>=2.13.0 in /opt/conda/lib/python3.11/site-packages (from rich<14.0,>=11.0->prefect) (2.16.1)\n",
      "Requirement already satisfied: ruamel.yaml.clib>=0.2.7 in /opt/conda/lib/python3.11/site-packages (from ruamel.yaml>=0.17.0->prefect) (0.2.7)\n",
      "Requirement already satisfied: greenlet!=0.4.17 in /opt/conda/lib/python3.11/site-packages (from sqlalchemy!=1.4.33,<3.0.0,>=1.4.22->sqlalchemy[asyncio]!=1.4.33,<3.0.0,>=1.4.22->prefect) (3.0.0)\n",
      "Requirement already satisfied: pycparser in /opt/conda/lib/python3.11/site-packages (from cffi>=1.12->cryptography>=36.0.1->prefect) (2.21)\n",
      "Collecting dnspython>=2.0.0 (from email-validator>=2.0.0->pydantic[email]!=2.0.0,!=2.0.1,!=2.1.0,<3.0.0,>=1.10.0->prefect)\n",
      "  Downloading dnspython-2.5.0-py3-none-any.whl.metadata (5.8 kB)\n",
      "Collecting pyasn1-modules>=0.2.1 (from google-auth>=1.0.1->kubernetes<30.0.0,>=24.2.0->prefect)\n",
      "  Downloading pyasn1_modules-0.3.0-py2.py3-none-any.whl (181 kB)\n",
      "\u001b[2K     \u001b[90m━━━━━━━━━━━━━━━━━━━━━━━━━━━━━━━━━━━━━━━\u001b[0m \u001b[32m181.3/181.3 kB\u001b[0m \u001b[31m1.2 MB/s\u001b[0m eta \u001b[36m0:00:00\u001b[0ma \u001b[36m0:00:01\u001b[0m\n",
      "\u001b[?25hCollecting rsa<5,>=3.1.4 (from google-auth>=1.0.1->kubernetes<30.0.0,>=24.2.0->prefect)\n",
      "  Downloading rsa-4.9-py3-none-any.whl (34 kB)\n",
      "Collecting hyperframe<7,>=6.0 (from h2<5,>=3->httpx[http2]!=0.23.2,>=0.23->prefect)\n",
      "  Downloading hyperframe-6.0.1-py3-none-any.whl (12 kB)\n",
      "Collecting hpack<5,>=4.0 (from h2<5,>=3->httpx[http2]!=0.23.2,>=0.23->prefect)\n",
      "  Downloading hpack-4.0.0-py3-none-any.whl (32 kB)\n",
      "Collecting mdurl~=0.1 (from markdown-it-py>=2.2.0->rich<14.0,>=11.0->prefect)\n",
      "  Downloading mdurl-0.1.2-py3-none-any.whl (10.0 kB)\n",
      "Requirement already satisfied: charset-normalizer<4,>=2 in /opt/conda/lib/python3.11/site-packages (from requests->apprise<2.0.0,>=1.1.0->prefect) (3.3.0)\n",
      "Collecting pyasn1<0.6.0,>=0.4.6 (from pyasn1-modules>=0.2.1->google-auth>=1.0.1->kubernetes<30.0.0,>=24.2.0->prefect)\n",
      "  Downloading pyasn1-0.5.1-py2.py3-none-any.whl.metadata (8.6 kB)\n",
      "Downloading prefect-2.14.16-py3-none-any.whl (2.8 MB)\n",
      "\u001b[2K   \u001b[90m━━━━━━━━━━━━━━━━━━━━━━━━━━━━━━━━━━━━━━━━\u001b[0m \u001b[32m2.8/2.8 MB\u001b[0m \u001b[31m1.7 MB/s\u001b[0m eta \u001b[36m0:00:00\u001b[0m00:01\u001b[0m00:01\u001b[0m\n",
      "\u001b[?25hDownloading anyio-3.7.1-py3-none-any.whl (80 kB)\n",
      "\u001b[2K   \u001b[90m━━━━━━━━━━━━━━━━━━━━━━━━━━━━━━━━━━━━━━━━\u001b[0m \u001b[32m80.9/80.9 kB\u001b[0m \u001b[31m1.5 MB/s\u001b[0m eta \u001b[36m0:00:00\u001b[0ma \u001b[36m0:00:01\u001b[0m\n",
      "\u001b[?25hDownloading apprise-1.7.1-py3-none-any.whl (1.2 MB)\n",
      "\u001b[2K   \u001b[90m━━━━━━━━━━━━━━━━━━━━━━━━━━━━━━━━━━━━━━━━\u001b[0m \u001b[32m1.2/1.2 MB\u001b[0m \u001b[31m1.5 MB/s\u001b[0m eta \u001b[36m0:00:00\u001b[0m00:01\u001b[0m00:01\u001b[0m\n",
      "\u001b[?25hDownloading asyncpg-0.29.0-cp311-cp311-manylinux_2_17_x86_64.manylinux2014_x86_64.whl (2.8 MB)\n",
      "\u001b[2K   \u001b[90m━━━━━━━━━━━━━━━━━━━━━━━━━━━━━━━━━━━━━━━━\u001b[0m \u001b[32m2.8/2.8 MB\u001b[0m \u001b[31m1.3 MB/s\u001b[0m eta \u001b[36m0:00:00\u001b[0m00:01\u001b[0m00:01\u001b[0m\n",
      "\u001b[?25hDownloading cachetools-5.3.2-py3-none-any.whl (9.3 kB)\n",
      "Downloading click-8.1.7-py3-none-any.whl (97 kB)\n",
      "\u001b[2K   \u001b[90m━━━━━━━━━━━━━━━━━━━━━━━━━━━━━━━━━━━━━━━━\u001b[0m \u001b[32m97.9/97.9 kB\u001b[0m \u001b[31m1.6 MB/s\u001b[0m eta \u001b[36m0:00:00\u001b[0ma \u001b[36m0:00:01\u001b[0m\n",
      "\u001b[?25hDownloading cloudpickle-3.0.0-py3-none-any.whl (20 kB)\n",
      "Downloading croniter-2.0.1-py2.py3-none-any.whl (19 kB)\n",
      "Downloading dateparser-1.2.0-py2.py3-none-any.whl (294 kB)\n",
      "\u001b[2K   \u001b[90m━━━━━━━━━━━━━━━━━━━━━━━━━━━━━━━━━━━━━━━━\u001b[0m \u001b[32m295.0/295.0 kB\u001b[0m \u001b[31m1.5 MB/s\u001b[0m eta \u001b[36m0:00:00\u001b[0ma \u001b[36m0:00:01\u001b[0m\n",
      "\u001b[?25hDownloading docker-6.1.3-py3-none-any.whl (148 kB)\n",
      "\u001b[2K   \u001b[90m━━━━━━━━━━━━━━━━━━━━━━━━━━━━━━━━━━━━━━━\u001b[0m \u001b[32m148.1/148.1 kB\u001b[0m \u001b[31m921.4 kB/s\u001b[0m eta \u001b[36m0:00:00\u001b[0m \u001b[36m0:00:01\u001b[0mm\n",
      "\u001b[?25hDownloading fsspec-2023.12.2-py3-none-any.whl (168 kB)\n",
      "\u001b[2K   \u001b[90m━━━━━━━━━━━━━━━━━━━━━━━━━━━━━━━━━━━━━━━━\u001b[0m \u001b[32m169.0/169.0 kB\u001b[0m \u001b[31m1.7 MB/s\u001b[0m eta \u001b[36m0:00:00\u001b[0ma \u001b[36m0:00:01\u001b[0m\n",
      "\u001b[?25hDownloading griffe-0.39.1-py3-none-any.whl (1.1 MB)\n",
      "\u001b[2K   \u001b[90m━━━━━━━━━━━━━━━━━━━━━━━━━━━━━━━━━━━━━━━━\u001b[0m \u001b[32m1.1/1.1 MB\u001b[0m \u001b[31m1.8 MB/s\u001b[0m eta \u001b[36m0:00:00\u001b[0ma \u001b[36m0:00:01\u001b[0m\n",
      "\u001b[?25hDownloading httpcore-1.0.2-py3-none-any.whl (76 kB)\n",
      "\u001b[2K   \u001b[90m━━━━━━━━━━━━━━━━━━━━━━━━━━━━━━━━━━━━━━━━\u001b[0m \u001b[32m76.9/76.9 kB\u001b[0m \u001b[31m1.7 MB/s\u001b[0m eta \u001b[36m0:00:00\u001b[0ma \u001b[36m0:00:01\u001b[0m\n",
      "\u001b[?25hDownloading httpx-0.26.0-py3-none-any.whl (75 kB)\n",
      "\u001b[2K   \u001b[90m━━━━━━━━━━━━━━━━━━━━━━━━━━━━━━━━━━━━━━━━\u001b[0m \u001b[32m75.9/75.9 kB\u001b[0m \u001b[31m1.5 MB/s\u001b[0m eta \u001b[36m0:00:00\u001b[0ma \u001b[36m0:00:01\u001b[0m\n",
      "\u001b[?25hDownloading kubernetes-29.0.0-py2.py3-none-any.whl (1.6 MB)\n",
      "\u001b[2K   \u001b[90m━━━━━━━━━━━━━━━━━━━━━━━━━━━━━━━━━━━━━━━━\u001b[0m \u001b[32m1.6/1.6 MB\u001b[0m \u001b[31m1.4 MB/s\u001b[0m eta \u001b[36m0:00:00\u001b[0m00:01\u001b[0m00:01\u001b[0m\n",
      "\u001b[?25hDownloading orjson-3.9.12-cp311-cp311-manylinux_2_17_x86_64.manylinux2014_x86_64.whl (139 kB)\n",
      "\u001b[2K   \u001b[90m━━━━━━━━━━━━━━━━━━━━━━━━━━━━━━━━━━━━━━━\u001b[0m \u001b[32m139.8/139.8 kB\u001b[0m \u001b[31m408.6 kB/s\u001b[0m eta \u001b[36m0:00:00\u001b[0ma \u001b[36m0:00:01\u001b[0m\n",
      "\u001b[?25hDownloading pathspec-0.12.1-py3-none-any.whl (31 kB)\n",
      "Downloading pydantic-2.5.3-py3-none-any.whl (381 kB)\n",
      "\u001b[2K   \u001b[90m━━━━━━━━━━━━━━━━━━━━━━━━━━━━━━━━━━━━━━━━\u001b[0m \u001b[32m381.9/381.9 kB\u001b[0m \u001b[31m1.7 MB/s\u001b[0m eta \u001b[36m0:00:00\u001b[0m00:01\u001b[0m00:01\u001b[0m\n",
      "\u001b[?25hDownloading pydantic_core-2.14.6-cp311-cp311-manylinux_2_17_x86_64.manylinux2014_x86_64.whl (2.1 MB)\n",
      "\u001b[2K   \u001b[90m━━━━━━━━━━━━━━━━━━━━━━━━━━━━━━━━━━━━━━━━\u001b[0m \u001b[32m2.1/2.1 MB\u001b[0m \u001b[31m1.4 MB/s\u001b[0m eta \u001b[36m0:00:00\u001b[0m00:01\u001b[0m00:01\u001b[0m0m\n",
      "\u001b[?25hDownloading rich-13.7.0-py3-none-any.whl (240 kB)\n",
      "\u001b[2K   \u001b[90m━━━━━━━━━━━━━━━━━━━━━━━━━━━━━━━━━━━━━━━━\u001b[0m \u001b[32m240.6/240.6 kB\u001b[0m \u001b[31m1.7 MB/s\u001b[0m eta \u001b[36m0:00:00\u001b[0m00:01\u001b[0m00:01\u001b[0m\n",
      "\u001b[?25hDownloading starlette-0.32.0.post1-py3-none-any.whl (70 kB)\n",
      "\u001b[2K   \u001b[90m━━━━━━━━━━━━━━━━━━━━━━━━━━━━━━━━━━━━━━━━\u001b[0m \u001b[32m70.0/70.0 kB\u001b[0m \u001b[31m1.6 MB/s\u001b[0m eta \u001b[36m0:00:00\u001b[0ma \u001b[36m0:00:01\u001b[0m\n",
      "\u001b[?25hDownloading ujson-5.9.0-cp311-cp311-manylinux_2_17_x86_64.manylinux2014_x86_64.whl (53 kB)\n",
      "\u001b[2K   \u001b[90m━━━━━━━━━━━━━━━━━━━━━━━━━━━━━━━━━━━━━━━━\u001b[0m \u001b[32m53.2/53.2 kB\u001b[0m \u001b[31m1.6 MB/s\u001b[0m eta \u001b[36m0:00:00\u001b[0m\n",
      "\u001b[?25hDownloading uvicorn-0.27.0-py3-none-any.whl (60 kB)\n",
      "\u001b[2K   \u001b[90m━━━━━━━━━━━━━━━━━━━━━━━━━━━━━━━━━━━━━━━━\u001b[0m \u001b[32m60.6/60.6 kB\u001b[0m \u001b[31m1.5 MB/s\u001b[0m eta \u001b[36m0:00:00\u001b[0ma \u001b[36m0:00:01\u001b[0m\n",
      "\u001b[?25hDownloading websockets-12.0-cp311-cp311-manylinux_2_5_x86_64.manylinux1_x86_64.manylinux_2_17_x86_64.manylinux2014_x86_64.whl (130 kB)\n",
      "\u001b[2K   \u001b[90m━━━━━━━━━━━━━━━━━━━━━━━━━━━━━━━━━━━━━━━━\u001b[0m \u001b[32m130.9/130.9 kB\u001b[0m \u001b[31m1.9 MB/s\u001b[0m eta \u001b[36m0:00:00\u001b[0m \u001b[36m0:00:01\u001b[0m\n",
      "\u001b[?25hDownloading annotated_types-0.6.0-py3-none-any.whl (12 kB)\n",
      "Downloading async_timeout-4.0.3-py3-none-any.whl (5.7 kB)\n",
      "Downloading email_validator-2.1.0.post1-py3-none-any.whl (32 kB)\n",
      "Downloading google_auth-2.26.2-py2.py3-none-any.whl (186 kB)\n",
      "\u001b[2K   \u001b[90m━━━━━━━━━━━━━━━━━━━━━━━━━━━━━━━━━━━━━━━━\u001b[0m \u001b[32m186.5/186.5 kB\u001b[0m \u001b[31m1.9 MB/s\u001b[0m eta \u001b[36m0:00:00\u001b[0ma \u001b[36m0:00:01\u001b[0m\n",
      "\u001b[?25hDownloading markdown_it_py-3.0.0-py3-none-any.whl (87 kB)\n",
      "\u001b[2K   \u001b[90m━━━━━━━━━━━━━━━━━━━━━━━━━━━━━━━━━━━━━━━━\u001b[0m \u001b[32m87.5/87.5 kB\u001b[0m \u001b[31m1.7 MB/s\u001b[0m eta \u001b[36m0:00:00\u001b[0ma \u001b[36m0:00:01\u001b[0m\n",
      "\u001b[?25hDownloading regex-2023.12.25-cp311-cp311-manylinux_2_17_x86_64.manylinux2014_x86_64.whl (785 kB)\n",
      "\u001b[2K   \u001b[90m━━━━━━━━━━━━━━━━━━━━━━━━━━━━━━━━━━━━━━━━\u001b[0m \u001b[32m785.1/785.1 kB\u001b[0m \u001b[31m1.8 MB/s\u001b[0m eta \u001b[36m0:00:00\u001b[0ma \u001b[36m0:00:01\u001b[0m\n",
      "\u001b[?25hDownloading Markdown-3.5.2-py3-none-any.whl (103 kB)\n",
      "\u001b[2K   \u001b[90m━━━━━━━━━━━━━━━━━━━━━━━━━━━━━━━━━━━━━━━━\u001b[0m \u001b[32m103.9/103.9 kB\u001b[0m \u001b[31m1.6 MB/s\u001b[0m eta \u001b[36m0:00:00\u001b[0m \u001b[36m0:00:01\u001b[0m\n",
      "\u001b[?25hDownloading tzlocal-5.2-py3-none-any.whl (17 kB)\n",
      "Downloading dnspython-2.5.0-py3-none-any.whl (305 kB)\n",
      "\u001b[2K   \u001b[90m━━━━━━━━━━━━━━━━━━━━━━━━━━━━━━━━━━━━━━━━\u001b[0m \u001b[32m305.4/305.4 kB\u001b[0m \u001b[31m1.4 MB/s\u001b[0m eta \u001b[36m0:00:00\u001b[0ma \u001b[36m0:00:01\u001b[0m\n",
      "\u001b[?25hDownloading pyasn1-0.5.1-py2.py3-none-any.whl (84 kB)\n",
      "\u001b[2K   \u001b[90m━━━━━━━━━━━━━━━━━━━━━━━━━━━━━━━━━━━━━━━━\u001b[0m \u001b[32m84.9/84.9 kB\u001b[0m \u001b[31m1.1 MB/s\u001b[0m eta \u001b[36m0:00:00\u001b[0ma \u001b[36m0:00:01\u001b[0m\n",
      "\u001b[?25hBuilding wheels for collected packages: pendulum\n",
      "  Building wheel for pendulum (pyproject.toml) ... \u001b[?25ldone\n",
      "\u001b[?25h  Created wheel for pendulum: filename=pendulum-2.1.2-cp311-cp311-manylinux_2_35_x86_64.whl size=109780 sha256=ca66b48a2fce32a142095e2ff62d79e593acbe1adb8db7feaef8b80092e4ab64\n",
      "  Stored in directory: /home/jovyan/.cache/pip/wheels/a4/b7/10/a86f4f49b1bdf8a0cf3da42d48f499e4cb7529ebab7aad3550\n",
      "Successfully built pendulum\n",
      "Installing collected packages: text-unidecode, coolname, websockets, ujson, tzlocal, toml, regex, readchar, pytzdata, python-slugify, pydantic-core, pyasn1, pathspec, orjson, mdurl, markdown, hyperframe, hpack, h11, griffe, graphviz, fsspec, dnspython, cloudpickle, click, cachetools, async-timeout, asgi-lifespan, anyio, annotated-types, aiosqlite, uvicorn, typer, starlette, rsa, requests-oauthlib, pydantic, pyasn1-modules, pendulum, markdown-it-py, httpcore, h2, email-validator, docker, dateparser, croniter, asyncpg, rich, httpx, google-auth, apprise, kubernetes, prefect\n",
      "  Attempting uninstall: anyio\n",
      "    Found existing installation: anyio 4.0.0\n",
      "    Uninstalling anyio-4.0.0:\n",
      "      Successfully uninstalled anyio-4.0.0\n",
      "Successfully installed aiosqlite-0.19.0 annotated-types-0.6.0 anyio-3.7.1 apprise-1.7.1 asgi-lifespan-2.1.0 async-timeout-4.0.3 asyncpg-0.29.0 cachetools-5.3.2 click-8.1.7 cloudpickle-3.0.0 coolname-2.2.0 croniter-2.0.1 dateparser-1.2.0 dnspython-2.5.0 docker-6.1.3 email-validator-2.1.0.post1 fsspec-2023.12.2 google-auth-2.26.2 graphviz-0.20.1 griffe-0.39.1 h11-0.14.0 h2-4.1.0 hpack-4.0.0 httpcore-1.0.2 httpx-0.26.0 hyperframe-6.0.1 kubernetes-29.0.0 markdown-3.5.2 markdown-it-py-3.0.0 mdurl-0.1.2 orjson-3.9.12 pathspec-0.12.1 pendulum-2.1.2 prefect-2.14.16 pyasn1-0.5.1 pyasn1-modules-0.3.0 pydantic-2.5.3 pydantic-core-2.14.6 python-slugify-8.0.1 pytzdata-2020.1 readchar-4.0.5 regex-2023.12.25 requests-oauthlib-1.3.1 rich-13.7.0 rsa-4.9 starlette-0.32.0.post1 text-unidecode-1.3 toml-0.10.2 typer-0.9.0 tzlocal-5.2 ujson-5.9.0 uvicorn-0.27.0 websockets-12.0\n"
     ]
    }
   ],
   "source": [
    "!pip install prefect"
   ]
  },
  {
   "cell_type": "code",
   "execution_count": 19,
   "id": "b76dae95-cb96-4905-bf6d-ce3a18cc2aaa",
   "metadata": {},
   "outputs": [
    {
     "name": "stderr",
     "output_type": "stream",
     "text": [
      "/opt/conda/lib/python3.11/site-packages/prefect/flows.py:338: UserWarning: A flow named 'get-repo-info' and defined at '/tmp/ipykernel_861/3267665314.py:5' conflicts with another flow. Consider specifying a unique `name` parameter in the flow definition:\n",
      "\n",
      " `@flow(name='my_unique_name', ...)`\n",
      "  warnings.warn(\n"
     ]
    },
    {
     "data": {
      "text/html": [
       "<pre style=\"white-space:pre;overflow-x:auto;line-height:normal;font-family:Menlo,'DejaVu Sans Mono',consolas,'Courier New',monospace\">14:39:36.112 | <span style=\"color: #008080; text-decoration-color: #008080\">INFO</span>    | prefect.engine - Created flow run<span style=\"color: #800080; text-decoration-color: #800080\"> 'excellent-fulmar'</span> for flow<span style=\"color: #800080; text-decoration-color: #800080; font-weight: bold\"> 'get-repo-info'</span>\n",
       "</pre>\n"
      ],
      "text/plain": [
       "14:39:36.112 | \u001b[36mINFO\u001b[0m    | prefect.engine - Created flow run\u001b[35m 'excellent-fulmar'\u001b[0m for flow\u001b[1;35m 'get-repo-info'\u001b[0m\n"
      ]
     },
     "metadata": {},
     "output_type": "display_data"
    },
    {
     "data": {
      "text/html": [
       "<pre style=\"white-space:pre;overflow-x:auto;line-height:normal;font-family:Menlo,'DejaVu Sans Mono',consolas,'Courier New',monospace\">14:39:36.707 | <span style=\"color: #008080; text-decoration-color: #008080\">INFO</span>    | Flow run<span style=\"color: #800080; text-decoration-color: #800080\"> 'excellent-fulmar'</span> - PrefectHQ/prefect repository statistics 🤓:\n",
       "</pre>\n"
      ],
      "text/plain": [
       "14:39:36.707 | \u001b[36mINFO\u001b[0m    | Flow run\u001b[35m 'excellent-fulmar'\u001b[0m - PrefectHQ/prefect repository statistics 🤓:\n"
      ]
     },
     "metadata": {},
     "output_type": "display_data"
    },
    {
     "data": {
      "text/html": [
       "<pre style=\"white-space:pre;overflow-x:auto;line-height:normal;font-family:Menlo,'DejaVu Sans Mono',consolas,'Courier New',monospace\">14:39:36.711 | <span style=\"color: #008080; text-decoration-color: #008080\">INFO</span>    | Flow run<span style=\"color: #800080; text-decoration-color: #800080\"> 'excellent-fulmar'</span> - Stars 🌠 : 13872\n",
       "</pre>\n"
      ],
      "text/plain": [
       "14:39:36.711 | \u001b[36mINFO\u001b[0m    | Flow run\u001b[35m 'excellent-fulmar'\u001b[0m - Stars 🌠 : 13872\n"
      ]
     },
     "metadata": {},
     "output_type": "display_data"
    },
    {
     "data": {
      "text/html": [
       "<pre style=\"white-space:pre;overflow-x:auto;line-height:normal;font-family:Menlo,'DejaVu Sans Mono',consolas,'Courier New',monospace\">14:39:36.713 | <span style=\"color: #008080; text-decoration-color: #008080\">INFO</span>    | Flow run<span style=\"color: #800080; text-decoration-color: #800080\"> 'excellent-fulmar'</span> - Forks 🍴 : 1418\n",
       "</pre>\n"
      ],
      "text/plain": [
       "14:39:36.713 | \u001b[36mINFO\u001b[0m    | Flow run\u001b[35m 'excellent-fulmar'\u001b[0m - Forks 🍴 : 1418\n"
      ]
     },
     "metadata": {},
     "output_type": "display_data"
    },
    {
     "data": {
      "text/html": [
       "<pre style=\"white-space:pre;overflow-x:auto;line-height:normal;font-family:Menlo,'DejaVu Sans Mono',consolas,'Courier New',monospace\">14:39:36.753 | <span style=\"color: #008080; text-decoration-color: #008080\">INFO</span>    | Flow run<span style=\"color: #800080; text-decoration-color: #800080\"> 'excellent-fulmar'</span> - Finished in state <span style=\"color: #008000; text-decoration-color: #008000\">Completed</span>()\n",
       "</pre>\n"
      ],
      "text/plain": [
       "14:39:36.753 | \u001b[36mINFO\u001b[0m    | Flow run\u001b[35m 'excellent-fulmar'\u001b[0m - Finished in state \u001b[32mCompleted\u001b[0m()\n"
      ]
     },
     "metadata": {},
     "output_type": "display_data"
    }
   ],
   "source": [
    "import httpx\n",
    "from prefect import flow\n",
    "\n",
    "\n",
    "@flow(retries=3, retry_delay_seconds=5, log_prints=True)\n",
    "def get_repo_info(repo_name: str = \"PrefectHQ/prefect\"):\n",
    "    url = f\"https://api.github.com/repos/{repo_name}\"\n",
    "    response = httpx.get(url)\n",
    "    response.raise_for_status()\n",
    "    repo = response.json()\n",
    "    print(f\"{repo_name} repository statistics 🤓:\")\n",
    "    print(f\"Stars 🌠 : {repo['stargazers_count']}\")\n",
    "    print(f\"Forks 🍴 : {repo['forks_count']}\")\n",
    "\n",
    "if __name__ == \"__main__\":\n",
    "    get_repo_info()\n"
   ]
  },
  {
   "cell_type": "code",
   "execution_count": 40,
   "id": "d21c002f-6453-43ae-82db-a4e08b911c22",
   "metadata": {},
   "outputs": [
    {
     "name": "stderr",
     "output_type": "stream",
     "text": [
      "/opt/conda/lib/python3.11/site-packages/prefect/tasks.py:337: UserWarning: A task named 'search_cadu_task' and defined at '/tmp/ipykernel_135/891934588.py:13' conflicts with another task. Consider specifying a unique `name` parameter in the task definition:\n",
      "\n",
      " `@task(name='my_unique_name', ...)`\n",
      "  warnings.warn(\n",
      "/opt/conda/lib/python3.11/site-packages/prefect/tasks.py:337: UserWarning: A task named 'download_one_task' and defined at '/tmp/ipykernel_135/891934588.py:22' conflicts with another task. Consider specifying a unique `name` parameter in the task definition:\n",
      "\n",
      " `@task(name='my_unique_name', ...)`\n",
      "  warnings.warn(\n",
      "/opt/conda/lib/python3.11/site-packages/prefect/tasks.py:337: UserWarning: A task named 'print_status_task' and defined at '/tmp/ipykernel_135/891934588.py:32' conflicts with another task. Consider specifying a unique `name` parameter in the task definition:\n",
      "\n",
      " `@task(name='my_unique_name', ...)`\n",
      "  warnings.warn(\n",
      "/opt/conda/lib/python3.11/site-packages/prefect/tasks.py:337: UserWarning: A task named 'download_all_task' and defined at '/tmp/ipykernel_135/891934588.py:54' conflicts with another task. Consider specifying a unique `name` parameter in the task definition:\n",
      "\n",
      " `@task(name='my_unique_name', ...)`\n",
      "  warnings.warn(\n",
      "/opt/conda/lib/python3.11/site-packages/prefect/tasks.py:337: UserWarning: A task named 'download_cadu_task' and defined at '/tmp/ipykernel_135/891934588.py:63' conflicts with another task. Consider specifying a unique `name` parameter in the task definition:\n",
      "\n",
      " `@task(name='my_unique_name', ...)`\n",
      "  warnings.warn(\n",
      "/opt/conda/lib/python3.11/site-packages/prefect/flows.py:338: UserWarning: A flow named 'main_flow' and defined at '/tmp/ipykernel_135/891934588.py:112' conflicts with another flow. Consider specifying a unique `name` parameter in the flow definition:\n",
      "\n",
      " `@flow(name='my_unique_name', ...)`\n",
      "  warnings.warn(\n"
     ]
    },
    {
     "data": {
      "text/html": [
       "<pre style=\"white-space:pre;overflow-x:auto;line-height:normal;font-family:Menlo,'DejaVu Sans Mono',consolas,'Courier New',monospace\">12:29:10.502 | <span style=\"color: #008080; text-decoration-color: #008080\">INFO</span>    | prefect.engine - Created flow run<span style=\"color: #800080; text-decoration-color: #800080\"> 'lurking-tarantula'</span> for flow<span style=\"color: #800080; text-decoration-color: #800080; font-weight: bold\"> 'main_flow'</span>\n",
       "</pre>\n"
      ],
      "text/plain": [
       "12:29:10.502 | \u001b[36mINFO\u001b[0m    | prefect.engine - Created flow run\u001b[35m 'lurking-tarantula'\u001b[0m for flow\u001b[1;35m 'main_flow'\u001b[0m\n"
      ]
     },
     "metadata": {},
     "output_type": "display_data"
    },
    {
     "data": {
      "text/html": [
       "<pre style=\"white-space:pre;overflow-x:auto;line-height:normal;font-family:Menlo,'DejaVu Sans Mono',consolas,'Courier New',monospace\">12:29:10.564 | <span style=\"color: #008080; text-decoration-color: #008080\">INFO</span>    | Flow run<span style=\"color: #800080; text-decoration-color: #800080\"> 'lurking-tarantula'</span> - Save to S3: False.\n",
       "</pre>\n"
      ],
      "text/plain": [
       "12:29:10.564 | \u001b[36mINFO\u001b[0m    | Flow run\u001b[35m 'lurking-tarantula'\u001b[0m - Save to S3: False.\n"
      ]
     },
     "metadata": {},
     "output_type": "display_data"
    },
    {
     "data": {
      "text/html": [
       "<pre style=\"white-space:pre;overflow-x:auto;line-height:normal;font-family:Menlo,'DejaVu Sans Mono',consolas,'Courier New',monospace\">12:29:10.608 | <span style=\"color: #008080; text-decoration-color: #008080\">INFO</span>    | Flow run<span style=\"color: #800080; text-decoration-color: #800080\"> 'lurking-tarantula'</span> - Created task run 'search_cadu_task-0' for task 'search_cadu_task'\n",
       "</pre>\n"
      ],
      "text/plain": [
       "12:29:10.608 | \u001b[36mINFO\u001b[0m    | Flow run\u001b[35m 'lurking-tarantula'\u001b[0m - Created task run 'search_cadu_task-0' for task 'search_cadu_task'\n"
      ]
     },
     "metadata": {},
     "output_type": "display_data"
    },
    {
     "data": {
      "text/html": [
       "<pre style=\"white-space:pre;overflow-x:auto;line-height:normal;font-family:Menlo,'DejaVu Sans Mono',consolas,'Courier New',monospace\">12:29:10.611 | <span style=\"color: #008080; text-decoration-color: #008080\">INFO</span>    | Flow run<span style=\"color: #800080; text-decoration-color: #800080\"> 'lurking-tarantula'</span> - Executing 'search_cadu_task-0' immediately...\n",
       "</pre>\n"
      ],
      "text/plain": [
       "12:29:10.611 | \u001b[36mINFO\u001b[0m    | Flow run\u001b[35m 'lurking-tarantula'\u001b[0m - Executing 'search_cadu_task-0' immediately...\n"
      ]
     },
     "metadata": {},
     "output_type": "display_data"
    },
    {
     "data": {
      "text/html": [
       "<pre style=\"white-space:pre;overflow-x:auto;line-height:normal;font-family:Menlo,'DejaVu Sans Mono',consolas,'Courier New',monospace\">12:29:10.682 | <span style=\"color: #008080; text-decoration-color: #008080\">INFO</span>    | Task run 'search_cadu_task-0' - Searching products between 2014-01-01T12:00:00.000Z and 2023-12-30T12:00:00.000Z\n",
       "</pre>\n"
      ],
      "text/plain": [
       "12:29:10.682 | \u001b[36mINFO\u001b[0m    | Task run 'search_cadu_task-0' - Searching products between 2014-01-01T12:00:00.000Z and 2023-12-30T12:00:00.000Z\n"
      ]
     },
     "metadata": {},
     "output_type": "display_data"
    },
    {
     "data": {
      "text/html": [
       "<pre style=\"white-space:pre;overflow-x:auto;line-height:normal;font-family:Menlo,'DejaVu Sans Mono',consolas,'Courier New',monospace\">12:29:11.371 | <span style=\"color: #008080; text-decoration-color: #008080\">INFO</span>    | Task run 'search_cadu_task-0' - Here is the list of products found: [['2b17b57d-fff4-4645-b539-91f305c27c69', 'DCS_04_S1A_20231121072204051312_ch1_DSDB_00001.raw'], ['2b17b57d-fff4-4645-b539-91f305c27c60', 'DCS_04_S1A_20231121072204051312_ch1_DSDB_00002.raw'], ['2b17b57d-fff4-4645-b539-91f305c27c61', 'DCS_04_S1A_20231121072204051312_ch1_DSDB_00003.raw'], ['2b17b57d-fff4-4645-b539-91f305c27c62', 'DCS_04_S1A_20231121072204051312_ch1_DSDB_00004.raw'], ['2b17b57d-fff4-4645-b539-91f305c27c63', 'DCS_04_S1A_20231121072204051312_ch1_DSDB_00005.raw'], ['2b17b57d-fff4-4645-b539-91f305c27c64', 'DCS_04_S1A_20231121072204051312_ch1_DSDB_00006.raw'], ['2b17b57d-fff4-4645-b539-91f305c27c65', 'DCS_04_S1A_20231121072204051312_ch1_DSDB_00007.raw'], ['some_id_2', 'DCS_04_S1A_20231121072204051312_ch1_DSDB_00060.raw'], ['some_id_3', 'DCS_04_S1A_20231121072204051312_ch2_DSDB_00046.raw'], ['some_id_4', 'DCS_04_S1A_20231121072204051312_ch2_DSDB_00060.raw']]\n",
       "</pre>\n"
      ],
      "text/plain": [
       "12:29:11.371 | \u001b[36mINFO\u001b[0m    | Task run 'search_cadu_task-0' - Here is the list of products found: [['2b17b57d-fff4-4645-b539-91f305c27c69', 'DCS_04_S1A_20231121072204051312_ch1_DSDB_00001.raw'], ['2b17b57d-fff4-4645-b539-91f305c27c60', 'DCS_04_S1A_20231121072204051312_ch1_DSDB_00002.raw'], ['2b17b57d-fff4-4645-b539-91f305c27c61', 'DCS_04_S1A_20231121072204051312_ch1_DSDB_00003.raw'], ['2b17b57d-fff4-4645-b539-91f305c27c62', 'DCS_04_S1A_20231121072204051312_ch1_DSDB_00004.raw'], ['2b17b57d-fff4-4645-b539-91f305c27c63', 'DCS_04_S1A_20231121072204051312_ch1_DSDB_00005.raw'], ['2b17b57d-fff4-4645-b539-91f305c27c64', 'DCS_04_S1A_20231121072204051312_ch1_DSDB_00006.raw'], ['2b17b57d-fff4-4645-b539-91f305c27c65', 'DCS_04_S1A_20231121072204051312_ch1_DSDB_00007.raw'], ['some_id_2', 'DCS_04_S1A_20231121072204051312_ch1_DSDB_00060.raw'], ['some_id_3', 'DCS_04_S1A_20231121072204051312_ch2_DSDB_00046.raw'], ['some_id_4', 'DCS_04_S1A_20231121072204051312_ch2_DSDB_00060.raw']]\n"
      ]
     },
     "metadata": {},
     "output_type": "display_data"
    },
    {
     "data": {
      "text/html": [
       "<pre style=\"white-space:pre;overflow-x:auto;line-height:normal;font-family:Menlo,'DejaVu Sans Mono',consolas,'Courier New',monospace\">12:29:11.410 | <span style=\"color: #008080; text-decoration-color: #008080\">INFO</span>    | Task run 'search_cadu_task-0' - Finished in state <span style=\"color: #008000; text-decoration-color: #008000\">Completed</span>()\n",
       "</pre>\n"
      ],
      "text/plain": [
       "12:29:11.410 | \u001b[36mINFO\u001b[0m    | Task run 'search_cadu_task-0' - Finished in state \u001b[32mCompleted\u001b[0m()\n"
      ]
     },
     "metadata": {},
     "output_type": "display_data"
    },
    {
     "data": {
      "text/html": [
       "<pre style=\"white-space:pre;overflow-x:auto;line-height:normal;font-family:Menlo,'DejaVu Sans Mono',consolas,'Courier New',monospace\">12:29:11.448 | <span style=\"color: #008080; text-decoration-color: #008080\">INFO</span>    | Flow run<span style=\"color: #800080; text-decoration-color: #800080\"> 'lurking-tarantula'</span> - Created task run 'download_cadu_task-0' for task 'download_cadu_task'\n",
       "</pre>\n"
      ],
      "text/plain": [
       "12:29:11.448 | \u001b[36mINFO\u001b[0m    | Flow run\u001b[35m 'lurking-tarantula'\u001b[0m - Created task run 'download_cadu_task-0' for task 'download_cadu_task'\n"
      ]
     },
     "metadata": {},
     "output_type": "display_data"
    },
    {
     "data": {
      "text/html": [
       "<pre style=\"white-space:pre;overflow-x:auto;line-height:normal;font-family:Menlo,'DejaVu Sans Mono',consolas,'Courier New',monospace\">12:29:11.451 | <span style=\"color: #008080; text-decoration-color: #008080\">INFO</span>    | Flow run<span style=\"color: #800080; text-decoration-color: #800080\"> 'lurking-tarantula'</span> - Executing 'download_cadu_task-0' immediately...\n",
       "</pre>\n"
      ],
      "text/plain": [
       "12:29:11.451 | \u001b[36mINFO\u001b[0m    | Flow run\u001b[35m 'lurking-tarantula'\u001b[0m - Executing 'download_cadu_task-0' immediately...\n"
      ]
     },
     "metadata": {},
     "output_type": "display_data"
    },
    {
     "data": {
      "text/html": [
       "<pre style=\"white-space:pre;overflow-x:auto;line-height:normal;font-family:Menlo,'DejaVu Sans Mono',consolas,'Courier New',monospace\">12:29:11.509 | <span style=\"color: #008080; text-decoration-color: #008080\">INFO</span>    | Task run 'download_cadu_task-0' - The bucket test-data already exists, removing the existing products from it ...\n",
       "</pre>\n"
      ],
      "text/plain": [
       "12:29:11.509 | \u001b[36mINFO\u001b[0m    | Task run 'download_cadu_task-0' - The bucket test-data already exists, removing the existing products from it ...\n"
      ]
     },
     "metadata": {},
     "output_type": "display_data"
    },
    {
     "data": {
      "text/html": [
       "<pre style=\"white-space:pre;overflow-x:auto;line-height:normal;font-family:Menlo,'DejaVu Sans Mono',consolas,'Courier New',monospace\">12:29:11.514 | <span style=\"color: #008080; text-decoration-color: #008080\">INFO</span>    | Task run 'download_cadu_task-0' - Bucket test-data is clear !\n",
       "</pre>\n"
      ],
      "text/plain": [
       "12:29:11.514 | \u001b[36mINFO\u001b[0m    | Task run 'download_cadu_task-0' - Bucket test-data is clear !\n"
      ]
     },
     "metadata": {},
     "output_type": "display_data"
    },
    {
     "data": {
      "text/html": [
       "<pre style=\"white-space:pre;overflow-x:auto;line-height:normal;font-family:Menlo,'DejaVu Sans Mono',consolas,'Courier New',monospace\">12:29:11.516 | <span style=\"color: #008080; text-decoration-color: #008080\">INFO</span>    | Task run 'download_cadu_task-0' - Removing all local files if they exist ...\n",
       "</pre>\n"
      ],
      "text/plain": [
       "12:29:11.516 | \u001b[36mINFO\u001b[0m    | Task run 'download_cadu_task-0' - Removing all local files if they exist ...\n"
      ]
     },
     "metadata": {},
     "output_type": "display_data"
    },
    {
     "data": {
      "text/html": [
       "<pre style=\"white-space:pre;overflow-x:auto;line-height:normal;font-family:Menlo,'DejaVu Sans Mono',consolas,'Courier New',monospace\">12:29:11.518 | <span style=\"color: #008080; text-decoration-color: #008080\">INFO</span>    | Task run 'download_cadu_task-0' - local download directory is clear !\n",
       "</pre>\n"
      ],
      "text/plain": [
       "12:29:11.518 | \u001b[36mINFO\u001b[0m    | Task run 'download_cadu_task-0' - local download directory is clear !\n"
      ]
     },
     "metadata": {},
     "output_type": "display_data"
    },
    {
     "data": {
      "text/html": [
       "<pre style=\"white-space:pre;overflow-x:auto;line-height:normal;font-family:Menlo,'DejaVu Sans Mono',consolas,'Courier New',monospace\">12:29:11.520 | <span style=\"color: #008080; text-decoration-color: #008080\">INFO</span>    | Task run 'download_cadu_task-0' - Downloading DCS_04_S1A_20231121072204051312_ch1_DSDB_00001.raw\n",
       "</pre>\n"
      ],
      "text/plain": [
       "12:29:11.520 | \u001b[36mINFO\u001b[0m    | Task run 'download_cadu_task-0' - Downloading DCS_04_S1A_20231121072204051312_ch1_DSDB_00001.raw\n"
      ]
     },
     "metadata": {},
     "output_type": "display_data"
    },
    {
     "data": {
      "text/html": [
       "<pre style=\"white-space:pre;overflow-x:auto;line-height:normal;font-family:Menlo,'DejaVu Sans Mono',consolas,'Courier New',monospace\">12:29:11.522 | <span style=\"color: #008080; text-decoration-color: #008080\">INFO</span>    | Task run 'download_cadu_task-0' - DCS_04_S1A_20231121072204051312_ch1_DSDB_00001.raw has been downloaded !\n",
       "</pre>\n"
      ],
      "text/plain": [
       "12:29:11.522 | \u001b[36mINFO\u001b[0m    | Task run 'download_cadu_task-0' - DCS_04_S1A_20231121072204051312_ch1_DSDB_00001.raw has been downloaded !\n"
      ]
     },
     "metadata": {},
     "output_type": "display_data"
    },
    {
     "data": {
      "text/html": [
       "<pre style=\"white-space:pre;overflow-x:auto;line-height:normal;font-family:Menlo,'DejaVu Sans Mono',consolas,'Courier New',monospace\">12:29:11.524 | <span style=\"color: #008080; text-decoration-color: #008080\">INFO</span>    | Task run 'download_cadu_task-0' - Downloading DCS_04_S1A_20231121072204051312_ch1_DSDB_00002.raw\n",
       "</pre>\n"
      ],
      "text/plain": [
       "12:29:11.524 | \u001b[36mINFO\u001b[0m    | Task run 'download_cadu_task-0' - Downloading DCS_04_S1A_20231121072204051312_ch1_DSDB_00002.raw\n"
      ]
     },
     "metadata": {},
     "output_type": "display_data"
    },
    {
     "data": {
      "text/html": [
       "<pre style=\"white-space:pre;overflow-x:auto;line-height:normal;font-family:Menlo,'DejaVu Sans Mono',consolas,'Courier New',monospace\">12:29:11.526 | <span style=\"color: #008080; text-decoration-color: #008080\">INFO</span>    | Task run 'download_cadu_task-0' - DCS_04_S1A_20231121072204051312_ch1_DSDB_00002.raw has been downloaded !\n",
       "</pre>\n"
      ],
      "text/plain": [
       "12:29:11.526 | \u001b[36mINFO\u001b[0m    | Task run 'download_cadu_task-0' - DCS_04_S1A_20231121072204051312_ch1_DSDB_00002.raw has been downloaded !\n"
      ]
     },
     "metadata": {},
     "output_type": "display_data"
    },
    {
     "data": {
      "text/html": [
       "<pre style=\"white-space:pre;overflow-x:auto;line-height:normal;font-family:Menlo,'DejaVu Sans Mono',consolas,'Courier New',monospace\">12:29:11.527 | <span style=\"color: #008080; text-decoration-color: #008080\">INFO</span>    | Task run 'download_cadu_task-0' - Downloading DCS_04_S1A_20231121072204051312_ch1_DSDB_00003.raw\n",
       "</pre>\n"
      ],
      "text/plain": [
       "12:29:11.527 | \u001b[36mINFO\u001b[0m    | Task run 'download_cadu_task-0' - Downloading DCS_04_S1A_20231121072204051312_ch1_DSDB_00003.raw\n"
      ]
     },
     "metadata": {},
     "output_type": "display_data"
    },
    {
     "data": {
      "text/html": [
       "<pre style=\"white-space:pre;overflow-x:auto;line-height:normal;font-family:Menlo,'DejaVu Sans Mono',consolas,'Courier New',monospace\">12:29:11.529 | <span style=\"color: #008080; text-decoration-color: #008080\">INFO</span>    | Task run 'download_cadu_task-0' - DCS_04_S1A_20231121072204051312_ch1_DSDB_00003.raw has been downloaded !\n",
       "</pre>\n"
      ],
      "text/plain": [
       "12:29:11.529 | \u001b[36mINFO\u001b[0m    | Task run 'download_cadu_task-0' - DCS_04_S1A_20231121072204051312_ch1_DSDB_00003.raw has been downloaded !\n"
      ]
     },
     "metadata": {},
     "output_type": "display_data"
    },
    {
     "data": {
      "text/html": [
       "<pre style=\"white-space:pre;overflow-x:auto;line-height:normal;font-family:Menlo,'DejaVu Sans Mono',consolas,'Courier New',monospace\">12:29:11.531 | <span style=\"color: #008080; text-decoration-color: #008080\">INFO</span>    | Task run 'download_cadu_task-0' - Downloading DCS_04_S1A_20231121072204051312_ch1_DSDB_00004.raw\n",
       "</pre>\n"
      ],
      "text/plain": [
       "12:29:11.531 | \u001b[36mINFO\u001b[0m    | Task run 'download_cadu_task-0' - Downloading DCS_04_S1A_20231121072204051312_ch1_DSDB_00004.raw\n"
      ]
     },
     "metadata": {},
     "output_type": "display_data"
    },
    {
     "data": {
      "text/html": [
       "<pre style=\"white-space:pre;overflow-x:auto;line-height:normal;font-family:Menlo,'DejaVu Sans Mono',consolas,'Courier New',monospace\">12:29:11.533 | <span style=\"color: #008080; text-decoration-color: #008080\">INFO</span>    | Task run 'download_cadu_task-0' - DCS_04_S1A_20231121072204051312_ch1_DSDB_00004.raw has been downloaded !\n",
       "</pre>\n"
      ],
      "text/plain": [
       "12:29:11.533 | \u001b[36mINFO\u001b[0m    | Task run 'download_cadu_task-0' - DCS_04_S1A_20231121072204051312_ch1_DSDB_00004.raw has been downloaded !\n"
      ]
     },
     "metadata": {},
     "output_type": "display_data"
    },
    {
     "data": {
      "text/html": [
       "<pre style=\"white-space:pre;overflow-x:auto;line-height:normal;font-family:Menlo,'DejaVu Sans Mono',consolas,'Courier New',monospace\">12:29:11.534 | <span style=\"color: #008080; text-decoration-color: #008080\">INFO</span>    | Task run 'download_cadu_task-0' - Downloading DCS_04_S1A_20231121072204051312_ch1_DSDB_00005.raw\n",
       "</pre>\n"
      ],
      "text/plain": [
       "12:29:11.534 | \u001b[36mINFO\u001b[0m    | Task run 'download_cadu_task-0' - Downloading DCS_04_S1A_20231121072204051312_ch1_DSDB_00005.raw\n"
      ]
     },
     "metadata": {},
     "output_type": "display_data"
    },
    {
     "data": {
      "text/html": [
       "<pre style=\"white-space:pre;overflow-x:auto;line-height:normal;font-family:Menlo,'DejaVu Sans Mono',consolas,'Courier New',monospace\">12:29:11.536 | <span style=\"color: #008080; text-decoration-color: #008080\">INFO</span>    | Task run 'download_cadu_task-0' - DCS_04_S1A_20231121072204051312_ch1_DSDB_00005.raw has been downloaded !\n",
       "</pre>\n"
      ],
      "text/plain": [
       "12:29:11.536 | \u001b[36mINFO\u001b[0m    | Task run 'download_cadu_task-0' - DCS_04_S1A_20231121072204051312_ch1_DSDB_00005.raw has been downloaded !\n"
      ]
     },
     "metadata": {},
     "output_type": "display_data"
    },
    {
     "data": {
      "text/html": [
       "<pre style=\"white-space:pre;overflow-x:auto;line-height:normal;font-family:Menlo,'DejaVu Sans Mono',consolas,'Courier New',monospace\">12:29:11.538 | <span style=\"color: #008080; text-decoration-color: #008080\">INFO</span>    | Task run 'download_cadu_task-0' - Downloading DCS_04_S1A_20231121072204051312_ch1_DSDB_00006.raw\n",
       "</pre>\n"
      ],
      "text/plain": [
       "12:29:11.538 | \u001b[36mINFO\u001b[0m    | Task run 'download_cadu_task-0' - Downloading DCS_04_S1A_20231121072204051312_ch1_DSDB_00006.raw\n"
      ]
     },
     "metadata": {},
     "output_type": "display_data"
    },
    {
     "data": {
      "text/html": [
       "<pre style=\"white-space:pre;overflow-x:auto;line-height:normal;font-family:Menlo,'DejaVu Sans Mono',consolas,'Courier New',monospace\">12:29:11.540 | <span style=\"color: #008080; text-decoration-color: #008080\">INFO</span>    | Task run 'download_cadu_task-0' - DCS_04_S1A_20231121072204051312_ch1_DSDB_00006.raw has been downloaded !\n",
       "</pre>\n"
      ],
      "text/plain": [
       "12:29:11.540 | \u001b[36mINFO\u001b[0m    | Task run 'download_cadu_task-0' - DCS_04_S1A_20231121072204051312_ch1_DSDB_00006.raw has been downloaded !\n"
      ]
     },
     "metadata": {},
     "output_type": "display_data"
    },
    {
     "data": {
      "text/html": [
       "<pre style=\"white-space:pre;overflow-x:auto;line-height:normal;font-family:Menlo,'DejaVu Sans Mono',consolas,'Courier New',monospace\">12:29:11.542 | <span style=\"color: #008080; text-decoration-color: #008080\">INFO</span>    | Task run 'download_cadu_task-0' - Downloading DCS_04_S1A_20231121072204051312_ch1_DSDB_00007.raw\n",
       "</pre>\n"
      ],
      "text/plain": [
       "12:29:11.542 | \u001b[36mINFO\u001b[0m    | Task run 'download_cadu_task-0' - Downloading DCS_04_S1A_20231121072204051312_ch1_DSDB_00007.raw\n"
      ]
     },
     "metadata": {},
     "output_type": "display_data"
    },
    {
     "data": {
      "text/html": [
       "<pre style=\"white-space:pre;overflow-x:auto;line-height:normal;font-family:Menlo,'DejaVu Sans Mono',consolas,'Courier New',monospace\">12:29:11.543 | <span style=\"color: #008080; text-decoration-color: #008080\">INFO</span>    | Task run 'download_cadu_task-0' - DCS_04_S1A_20231121072204051312_ch1_DSDB_00007.raw has been downloaded !\n",
       "</pre>\n"
      ],
      "text/plain": [
       "12:29:11.543 | \u001b[36mINFO\u001b[0m    | Task run 'download_cadu_task-0' - DCS_04_S1A_20231121072204051312_ch1_DSDB_00007.raw has been downloaded !\n"
      ]
     },
     "metadata": {},
     "output_type": "display_data"
    },
    {
     "data": {
      "text/html": [
       "<pre style=\"white-space:pre;overflow-x:auto;line-height:normal;font-family:Menlo,'DejaVu Sans Mono',consolas,'Courier New',monospace\">12:29:11.545 | <span style=\"color: #008080; text-decoration-color: #008080\">INFO</span>    | Task run 'download_cadu_task-0' - Downloading DCS_04_S1A_20231121072204051312_ch1_DSDB_00060.raw\n",
       "</pre>\n"
      ],
      "text/plain": [
       "12:29:11.545 | \u001b[36mINFO\u001b[0m    | Task run 'download_cadu_task-0' - Downloading DCS_04_S1A_20231121072204051312_ch1_DSDB_00060.raw\n"
      ]
     },
     "metadata": {},
     "output_type": "display_data"
    },
    {
     "data": {
      "text/html": [
       "<pre style=\"white-space:pre;overflow-x:auto;line-height:normal;font-family:Menlo,'DejaVu Sans Mono',consolas,'Courier New',monospace\">12:29:11.548 | <span style=\"color: #008080; text-decoration-color: #008080\">INFO</span>    | Task run 'download_cadu_task-0' - DCS_04_S1A_20231121072204051312_ch1_DSDB_00060.raw has been downloaded !\n",
       "</pre>\n"
      ],
      "text/plain": [
       "12:29:11.548 | \u001b[36mINFO\u001b[0m    | Task run 'download_cadu_task-0' - DCS_04_S1A_20231121072204051312_ch1_DSDB_00060.raw has been downloaded !\n"
      ]
     },
     "metadata": {},
     "output_type": "display_data"
    },
    {
     "data": {
      "text/html": [
       "<pre style=\"white-space:pre;overflow-x:auto;line-height:normal;font-family:Menlo,'DejaVu Sans Mono',consolas,'Courier New',monospace\">12:29:11.551 | <span style=\"color: #008080; text-decoration-color: #008080\">INFO</span>    | Task run 'download_cadu_task-0' - Downloading DCS_04_S1A_20231121072204051312_ch2_DSDB_00046.raw\n",
       "</pre>\n"
      ],
      "text/plain": [
       "12:29:11.551 | \u001b[36mINFO\u001b[0m    | Task run 'download_cadu_task-0' - Downloading DCS_04_S1A_20231121072204051312_ch2_DSDB_00046.raw\n"
      ]
     },
     "metadata": {},
     "output_type": "display_data"
    },
    {
     "data": {
      "text/html": [
       "<pre style=\"white-space:pre;overflow-x:auto;line-height:normal;font-family:Menlo,'DejaVu Sans Mono',consolas,'Courier New',monospace\">12:29:11.553 | <span style=\"color: #008080; text-decoration-color: #008080\">INFO</span>    | Task run 'download_cadu_task-0' - DCS_04_S1A_20231121072204051312_ch2_DSDB_00046.raw has been downloaded !\n",
       "</pre>\n"
      ],
      "text/plain": [
       "12:29:11.553 | \u001b[36mINFO\u001b[0m    | Task run 'download_cadu_task-0' - DCS_04_S1A_20231121072204051312_ch2_DSDB_00046.raw has been downloaded !\n"
      ]
     },
     "metadata": {},
     "output_type": "display_data"
    },
    {
     "data": {
      "text/html": [
       "<pre style=\"white-space:pre;overflow-x:auto;line-height:normal;font-family:Menlo,'DejaVu Sans Mono',consolas,'Courier New',monospace\">12:29:11.555 | <span style=\"color: #008080; text-decoration-color: #008080\">INFO</span>    | Task run 'download_cadu_task-0' - Downloading DCS_04_S1A_20231121072204051312_ch2_DSDB_00060.raw\n",
       "</pre>\n"
      ],
      "text/plain": [
       "12:29:11.555 | \u001b[36mINFO\u001b[0m    | Task run 'download_cadu_task-0' - Downloading DCS_04_S1A_20231121072204051312_ch2_DSDB_00060.raw\n"
      ]
     },
     "metadata": {},
     "output_type": "display_data"
    },
    {
     "data": {
      "text/html": [
       "<pre style=\"white-space:pre;overflow-x:auto;line-height:normal;font-family:Menlo,'DejaVu Sans Mono',consolas,'Courier New',monospace\">12:29:11.557 | <span style=\"color: #008080; text-decoration-color: #008080\">INFO</span>    | Task run 'download_cadu_task-0' - DCS_04_S1A_20231121072204051312_ch2_DSDB_00060.raw has been downloaded !\n",
       "</pre>\n"
      ],
      "text/plain": [
       "12:29:11.557 | \u001b[36mINFO\u001b[0m    | Task run 'download_cadu_task-0' - DCS_04_S1A_20231121072204051312_ch2_DSDB_00060.raw has been downloaded !\n"
      ]
     },
     "metadata": {},
     "output_type": "display_data"
    },
    {
     "data": {
      "text/html": [
       "<pre style=\"white-space:pre;overflow-x:auto;line-height:normal;font-family:Menlo,'DejaVu Sans Mono',consolas,'Courier New',monospace\">12:29:13.603 | <span style=\"color: #008080; text-decoration-color: #008080\">INFO</span>    | Task run 'download_cadu_task-0' - NOT_STARTED:0 / IN_PROGRESS:1 / FAILED:0 / DONE:9\n",
       "</pre>\n"
      ],
      "text/plain": [
       "12:29:13.603 | \u001b[36mINFO\u001b[0m    | Task run 'download_cadu_task-0' - NOT_STARTED:0 / IN_PROGRESS:1 / FAILED:0 / DONE:9\n"
      ]
     },
     "metadata": {},
     "output_type": "display_data"
    },
    {
     "data": {
      "text/html": [
       "<pre style=\"white-space:pre;overflow-x:auto;line-height:normal;font-family:Menlo,'DejaVu Sans Mono',consolas,'Courier New',monospace\">12:29:14.787 | <span style=\"color: #008080; text-decoration-color: #008080\">INFO</span>    | Task run 'download_cadu_task-0' - NOT_STARTED:0 / IN_PROGRESS:0 / FAILED:0 / DONE:10\n",
       "</pre>\n"
      ],
      "text/plain": [
       "12:29:14.787 | \u001b[36mINFO\u001b[0m    | Task run 'download_cadu_task-0' - NOT_STARTED:0 / IN_PROGRESS:0 / FAILED:0 / DONE:10\n"
      ]
     },
     "metadata": {},
     "output_type": "display_data"
    },
    {
     "data": {
      "text/html": [
       "<pre style=\"white-space:pre;overflow-x:auto;line-height:normal;font-family:Menlo,'DejaVu Sans Mono',consolas,'Courier New',monospace\">12:29:15.789 | <span style=\"color: #008080; text-decoration-color: #008080\">INFO</span>    | Task run 'download_cadu_task-0' - /local/download/DCS_04_S1A_20231121072204051312_ch1_DSDB_00001.raw exists\n",
       "</pre>\n"
      ],
      "text/plain": [
       "12:29:15.789 | \u001b[36mINFO\u001b[0m    | Task run 'download_cadu_task-0' - /local/download/DCS_04_S1A_20231121072204051312_ch1_DSDB_00001.raw exists\n"
      ]
     },
     "metadata": {},
     "output_type": "display_data"
    },
    {
     "data": {
      "text/html": [
       "<pre style=\"white-space:pre;overflow-x:auto;line-height:normal;font-family:Menlo,'DejaVu Sans Mono',consolas,'Courier New',monospace\">12:29:15.795 | <span style=\"color: #008080; text-decoration-color: #008080\">INFO</span>    | Task run 'download_cadu_task-0' - /local/download/DCS_04_S1A_20231121072204051312_ch1_DSDB_00002.raw exists\n",
       "</pre>\n"
      ],
      "text/plain": [
       "12:29:15.795 | \u001b[36mINFO\u001b[0m    | Task run 'download_cadu_task-0' - /local/download/DCS_04_S1A_20231121072204051312_ch1_DSDB_00002.raw exists\n"
      ]
     },
     "metadata": {},
     "output_type": "display_data"
    },
    {
     "data": {
      "text/html": [
       "<pre style=\"white-space:pre;overflow-x:auto;line-height:normal;font-family:Menlo,'DejaVu Sans Mono',consolas,'Courier New',monospace\">12:29:15.798 | <span style=\"color: #008080; text-decoration-color: #008080\">INFO</span>    | Task run 'download_cadu_task-0' - /local/download/DCS_04_S1A_20231121072204051312_ch1_DSDB_00003.raw exists\n",
       "</pre>\n"
      ],
      "text/plain": [
       "12:29:15.798 | \u001b[36mINFO\u001b[0m    | Task run 'download_cadu_task-0' - /local/download/DCS_04_S1A_20231121072204051312_ch1_DSDB_00003.raw exists\n"
      ]
     },
     "metadata": {},
     "output_type": "display_data"
    },
    {
     "data": {
      "text/html": [
       "<pre style=\"white-space:pre;overflow-x:auto;line-height:normal;font-family:Menlo,'DejaVu Sans Mono',consolas,'Courier New',monospace\">12:29:15.800 | <span style=\"color: #008080; text-decoration-color: #008080\">INFO</span>    | Task run 'download_cadu_task-0' - /local/download/DCS_04_S1A_20231121072204051312_ch1_DSDB_00004.raw exists\n",
       "</pre>\n"
      ],
      "text/plain": [
       "12:29:15.800 | \u001b[36mINFO\u001b[0m    | Task run 'download_cadu_task-0' - /local/download/DCS_04_S1A_20231121072204051312_ch1_DSDB_00004.raw exists\n"
      ]
     },
     "metadata": {},
     "output_type": "display_data"
    },
    {
     "data": {
      "text/html": [
       "<pre style=\"white-space:pre;overflow-x:auto;line-height:normal;font-family:Menlo,'DejaVu Sans Mono',consolas,'Courier New',monospace\">12:29:15.803 | <span style=\"color: #008080; text-decoration-color: #008080\">INFO</span>    | Task run 'download_cadu_task-0' - /local/download/DCS_04_S1A_20231121072204051312_ch1_DSDB_00005.raw exists\n",
       "</pre>\n"
      ],
      "text/plain": [
       "12:29:15.803 | \u001b[36mINFO\u001b[0m    | Task run 'download_cadu_task-0' - /local/download/DCS_04_S1A_20231121072204051312_ch1_DSDB_00005.raw exists\n"
      ]
     },
     "metadata": {},
     "output_type": "display_data"
    },
    {
     "data": {
      "text/html": [
       "<pre style=\"white-space:pre;overflow-x:auto;line-height:normal;font-family:Menlo,'DejaVu Sans Mono',consolas,'Courier New',monospace\">12:29:15.805 | <span style=\"color: #008080; text-decoration-color: #008080\">INFO</span>    | Task run 'download_cadu_task-0' - /local/download/DCS_04_S1A_20231121072204051312_ch1_DSDB_00006.raw exists\n",
       "</pre>\n"
      ],
      "text/plain": [
       "12:29:15.805 | \u001b[36mINFO\u001b[0m    | Task run 'download_cadu_task-0' - /local/download/DCS_04_S1A_20231121072204051312_ch1_DSDB_00006.raw exists\n"
      ]
     },
     "metadata": {},
     "output_type": "display_data"
    },
    {
     "data": {
      "text/html": [
       "<pre style=\"white-space:pre;overflow-x:auto;line-height:normal;font-family:Menlo,'DejaVu Sans Mono',consolas,'Courier New',monospace\">12:29:15.808 | <span style=\"color: #008080; text-decoration-color: #008080\">INFO</span>    | Task run 'download_cadu_task-0' - /local/download/DCS_04_S1A_20231121072204051312_ch1_DSDB_00007.raw exists\n",
       "</pre>\n"
      ],
      "text/plain": [
       "12:29:15.808 | \u001b[36mINFO\u001b[0m    | Task run 'download_cadu_task-0' - /local/download/DCS_04_S1A_20231121072204051312_ch1_DSDB_00007.raw exists\n"
      ]
     },
     "metadata": {},
     "output_type": "display_data"
    },
    {
     "data": {
      "text/html": [
       "<pre style=\"white-space:pre;overflow-x:auto;line-height:normal;font-family:Menlo,'DejaVu Sans Mono',consolas,'Courier New',monospace\">12:29:15.813 | <span style=\"color: #008080; text-decoration-color: #008080\">INFO</span>    | Task run 'download_cadu_task-0' - /local/download/DCS_04_S1A_20231121072204051312_ch1_DSDB_00060.raw exists\n",
       "</pre>\n"
      ],
      "text/plain": [
       "12:29:15.813 | \u001b[36mINFO\u001b[0m    | Task run 'download_cadu_task-0' - /local/download/DCS_04_S1A_20231121072204051312_ch1_DSDB_00060.raw exists\n"
      ]
     },
     "metadata": {},
     "output_type": "display_data"
    },
    {
     "data": {
      "text/html": [
       "<pre style=\"white-space:pre;overflow-x:auto;line-height:normal;font-family:Menlo,'DejaVu Sans Mono',consolas,'Courier New',monospace\">12:29:15.816 | <span style=\"color: #008080; text-decoration-color: #008080\">INFO</span>    | Task run 'download_cadu_task-0' - /local/download/DCS_04_S1A_20231121072204051312_ch2_DSDB_00046.raw exists\n",
       "</pre>\n"
      ],
      "text/plain": [
       "12:29:15.816 | \u001b[36mINFO\u001b[0m    | Task run 'download_cadu_task-0' - /local/download/DCS_04_S1A_20231121072204051312_ch2_DSDB_00046.raw exists\n"
      ]
     },
     "metadata": {},
     "output_type": "display_data"
    },
    {
     "data": {
      "text/html": [
       "<pre style=\"white-space:pre;overflow-x:auto;line-height:normal;font-family:Menlo,'DejaVu Sans Mono',consolas,'Courier New',monospace\">12:29:15.819 | <span style=\"color: #008080; text-decoration-color: #008080\">INFO</span>    | Task run 'download_cadu_task-0' - /local/download/DCS_04_S1A_20231121072204051312_ch2_DSDB_00060.raw exists\n",
       "</pre>\n"
      ],
      "text/plain": [
       "12:29:15.819 | \u001b[36mINFO\u001b[0m    | Task run 'download_cadu_task-0' - /local/download/DCS_04_S1A_20231121072204051312_ch2_DSDB_00060.raw exists\n"
      ]
     },
     "metadata": {},
     "output_type": "display_data"
    },
    {
     "data": {
      "text/html": [
       "<pre style=\"white-space:pre;overflow-x:auto;line-height:normal;font-family:Menlo,'DejaVu Sans Mono',consolas,'Courier New',monospace\">12:29:15.872 | <span style=\"color: #008080; text-decoration-color: #008080\">INFO</span>    | Task run 'download_cadu_task-0' - Finished in state <span style=\"color: #008000; text-decoration-color: #008000\">Completed</span>()\n",
       "</pre>\n"
      ],
      "text/plain": [
       "12:29:15.872 | \u001b[36mINFO\u001b[0m    | Task run 'download_cadu_task-0' - Finished in state \u001b[32mCompleted\u001b[0m()\n"
      ]
     },
     "metadata": {},
     "output_type": "display_data"
    },
    {
     "data": {
      "text/html": [
       "<pre style=\"white-space:pre;overflow-x:auto;line-height:normal;font-family:Menlo,'DejaVu Sans Mono',consolas,'Courier New',monospace\">12:29:15.912 | <span style=\"color: #008080; text-decoration-color: #008080\">INFO</span>    | Flow run<span style=\"color: #800080; text-decoration-color: #800080\"> 'lurking-tarantula'</span> - Finished in state <span style=\"color: #008000; text-decoration-color: #008000\">Completed</span>('All states completed.')\n",
       "</pre>\n"
      ],
      "text/plain": [
       "12:29:15.912 | \u001b[36mINFO\u001b[0m    | Flow run\u001b[35m 'lurking-tarantula'\u001b[0m - Finished in state \u001b[32mCompleted\u001b[0m('All states completed.')\n"
      ]
     },
     "metadata": {},
     "output_type": "display_data"
    },
    {
     "data": {
      "text/plain": [
       "[Completed(message=None, type=COMPLETED, result=UnpersistedResult(type='unpersisted', artifact_type='result', artifact_description='Unpersisted result of type `list`')),\n",
       " Completed(message=None, type=COMPLETED, result=UnpersistedResult(type='unpersisted', artifact_type='result', artifact_description='Unpersisted result of type `NoneType`'))]"
      ]
     },
     "execution_count": 40,
     "metadata": {},
     "output_type": "execute_result"
    }
   ],
   "source": [
    "from prefect import flow, task\n",
    "import requests\n",
    "import asyncio\n",
    "from pathlib import Path\n",
    "\n",
    "# Define some variables\n",
    "endpoint=\"http://rs-server:8000/cadip/CADIP/cadu\" # rs-server host = the container name\n",
    "start=\"2014-01-01T12:00:00.000Z\"\n",
    "stop=\"2023-12-30T12:00:00.000Z\"\n",
    "bucket_name = \"test-data\"\n",
    "local_download_dir = os.environ[\"RSPY_LOCAL_DOWNLOAD\"]\n",
    "\n",
    "@task(name='search_cadu_task')\n",
    "def search_cadu(date_start: str, date_end: str):\n",
    "    print(f\"Searching products between {date_start} and {date_end}\")\n",
    "    data = requests.get(f\"{endpoint}/list\", {\"start_date\": start, \"stop_date\": stop})\n",
    "    products = data.json()[\"CADIP\"]\n",
    "    print(f\"Here is the list of products found: {products}\")\n",
    "    product_names = [name for id, name in products]\n",
    "    return product_names\n",
    "\n",
    "@task(name='download_one_task')\n",
    "async def download_one(name: str, save_to_s3: bool):\n",
    "    params = {\"name\": name, \"local\": local_download_dir}\n",
    "    # obs = the bucket URL, if requested\n",
    "    if save_to_s3:\n",
    "        print(f\"pushing {name} to the bucket {bucket_name} ...\")\n",
    "        params[\"obs\"] = f\"s3://{bucket_name}/Cadip_products\"\n",
    "    data = requests.get(endpoint, params)\n",
    "    assert data.status_code == 200\n",
    "\n",
    "@task(name='print_status_task')\n",
    "async def print_status(product_names: list):\n",
    "    # Wait a second if the staus need to be passed \n",
    "    # from DONE to NOT_STARTED if we download several times.\n",
    "    await asyncio.sleep(1)\n",
    "    all_done = False\n",
    "    while not all_done: \n",
    "        # Count the number of products not started, in progres etc ...\n",
    "        all_status = {\"NOT_STARTED\": 0, \"IN_PROGRESS\": 0, \"FAILED\": 0, \"DONE\": 0}\n",
    "        for name in product_names:           \n",
    "            # Call the \"status\" endpoint\n",
    "            data = requests.get(f\"{endpoint}/status\", {\"name\": name})\n",
    "            assert data.status_code == 200\n",
    "            all_status[(data.json())[\"status\"]] += 1\n",
    "        # Print result\n",
    "        print (\" / \".join ([f\"{status}:{count}\" for status, count in all_status.items()]))\n",
    "        if all_status[\"DONE\"] == len(product_names):\n",
    "            all_done = True\n",
    "        else:\n",
    "            await asyncio.sleep(1)\n",
    "\n",
    "    \n",
    "@task(name='download_all_task')\n",
    "async def download_all(save_to_s3: bool, product_names: list):\n",
    "    async with asyncio.TaskGroup() as group:\n",
    "        group.create_task (print_status.fn(product_names))\n",
    "        for name in product_names:\n",
    "            print(f\"Downloading {name}\")\n",
    "            group.create_task(download_one.fn(name, save_to_s3))\n",
    "            print(f\"{name} has been downloaded !\")\n",
    "\n",
    "@task(name='download_cadu_task')\n",
    "async def download_cadu(save_to_s3: bool, product_names: list):\n",
    "    # S3 bucket name\n",
    "    bucket_name = \"test-data\"\n",
    "    # Check if the s3 bucket already exist\n",
    "    if bucket_name in [bucket[\"Name\"] for bucket in s3_client.list_buckets()[\"Buckets\"]]:\n",
    "        print(f\"The bucket {bucket_name} already exists, removing the existing products from it ...\")\n",
    "        bucket_content = s3_client.list_objects(Bucket=bucket_name)\n",
    "        print(f\"Bucket {bucket_name} is clear !\")\n",
    "        # Check if the bucket is not empty\n",
    "        if 'Contents' in bucket_content:\n",
    "            all_s3_filenames = [key[\"Key\"] for key in s3_client.list_objects(Bucket=bucket_name)['Contents']]\n",
    "            # Remove the existing products from it\n",
    "            for file in all_s3_filenames:\n",
    "                s3_client.delete_object(Bucket=bucket_name, Key=file)\n",
    "    # Else create the bucket\n",
    "    else:\n",
    "        print(f\"The bucket {bucket_name} does not exist, creating the bucket {bucket_name} ...\")\n",
    "        s3_client.create_bucket(Bucket=bucket_name)\n",
    "        print(f\"The bucket {bucket_name} has beeen created !\")\n",
    "    # Remove all local files if they exist\n",
    "    print(\"Removing all local files if they exist ...\")\n",
    "    for name in product_names:\n",
    "        file = Path (local_download_dir) / name\n",
    "        if file.is_file():\n",
    "            file.unlink()\n",
    "    print(\"local download directory is clear !\")\n",
    "    await download_all.fn(save_to_s3, product_names)\n",
    "    await asyncio.sleep(1)\n",
    "    # If value save_to_s3 is True, download all the products and upload it on the bucket s3\n",
    "    if save_to_s3:\n",
    "        await asyncio.sleep(1)\n",
    "        all_s3_filenames = [key[\"Key\"] for key in s3_client.list_objects(Bucket=bucket_name)['Contents']]\n",
    "        for name in product_names:\n",
    "            is_missing = True\n",
    "            for filename in all_s3_filenames:\n",
    "                if name in filename:\n",
    "                    is_missing = False\n",
    "            if is_missing:\n",
    "                raise RuntimeError (f\"{name} is missing from the S3 bucket\")\n",
    "            print (f\"s3://{bucket_name}/{name} exists\")\n",
    "    # If value save_to_s3 is False, download all the products locally\n",
    "    else:\n",
    "        for name in product_names:\n",
    "            file = Path (local_download_dir) / name    \n",
    "            if not file.is_file():\n",
    "                raise RuntimeError (f\"{name} is missing locally\")\n",
    "            print (f\"{file} exists\")\n",
    "\n",
    "@flow(name='main_flow', log_prints=True)\n",
    "def working(save_to_s3: bool, date_start: str, date_end: str):\n",
    "    print(f\"Save to S3: {save_to_s3}.\")\n",
    "    product_names = search_cadu(date_start, date_end)\n",
    "    download_cadu(save_to_s3, product_names)\n",
    "\n",
    "working(False, start, stop)"
   ]
  },
  {
   "cell_type": "code",
   "execution_count": 39,
   "id": "7b1eea57-d4c3-48a8-932b-61fff0df39b3",
   "metadata": {},
   "outputs": [
    {
     "name": "stdout",
     "output_type": "stream",
     "text": [
      "\n",
      " ___ ___ ___ ___ ___ ___ _____ \n",
      "| _ \\ _ \\ __| __| __/ __|_   _| \n",
      "|  _/   / _|| _|| _| (__  | |  \n",
      "|_| |_|_\\___|_| |___\\___| |_|  \n",
      "\n",
      "Configure Prefect to communicate with the server with:\n",
      "\n",
      "    prefect config set PREFECT_API_URL=http://127.0.0.1:4200/api\n",
      "\n",
      "View the API reference documentation at http://127.0.0.1:4200/docs\n",
      "\n",
      "Check out the dashboard at http://127.0.0.1:4200\n",
      "\n",
      "\n",
      "\n",
      "[Errno 98] error while attempting to bind on address ('127.0.0.1', 4200): address already in use\n",
      "Server stopped!\n"
     ]
    }
   ],
   "source": [
    "!prefect server start"
   ]
  },
  {
   "cell_type": "code",
   "execution_count": 29,
   "id": "ceddfd8e-e32c-4f01-97ff-35d80c4d6900",
   "metadata": {},
   "outputs": [
    {
     "data": {
      "text/plain": [
       "['Cadip_products/DCS_04_S1A_20231121072204051312_ch1_DSDB_00001.raw',\n",
       " 'Cadip_products/DCS_04_S1A_20231121072204051312_ch1_DSDB_00002.raw',\n",
       " 'Cadip_products/DCS_04_S1A_20231121072204051312_ch1_DSDB_00003.raw',\n",
       " 'Cadip_products/DCS_04_S1A_20231121072204051312_ch1_DSDB_00004.raw',\n",
       " 'Cadip_products/DCS_04_S1A_20231121072204051312_ch1_DSDB_00005.raw',\n",
       " 'Cadip_products/DCS_04_S1A_20231121072204051312_ch1_DSDB_00006.raw',\n",
       " 'Cadip_products/DCS_04_S1A_20231121072204051312_ch1_DSDB_00007.raw',\n",
       " 'Cadip_products/DCS_04_S1A_20231121072204051312_ch1_DSDB_00060.raw',\n",
       " 'Cadip_products/DCS_04_S1A_20231121072204051312_ch2_DSDB_00046.raw',\n",
       " 'Cadip_products/DCS_04_S1A_20231121072204051312_ch2_DSDB_00060.raw']"
      ]
     },
     "execution_count": 29,
     "metadata": {},
     "output_type": "execute_result"
    }
   ],
   "source": [
    "all_s3_filenames = [key[\"Key\"] for key in s3_client.list_objects(Bucket=bucket_name)['Contents']]\n",
    "all_s3_filenames"
   ]
  },
  {
   "cell_type": "code",
   "execution_count": 19,
   "id": "e6aac532-45ac-4929-8c40-3223d5bc9056",
   "metadata": {},
   "outputs": [
    {
     "data": {
      "text/plain": [
       "False"
      ]
     },
     "execution_count": 19,
     "metadata": {},
     "output_type": "execute_result"
    }
   ],
   "source": [
    "count = s3_client.list_objects(Bucket=bucket_name)\n",
    "is_content = \"Contents\" in count\n",
    "is_content"
   ]
  }
 ],
 "metadata": {
  "kernelspec": {
   "display_name": "Python 3 (ipykernel)",
   "language": "python",
   "name": "python3"
  },
  "language_info": {
   "codemirror_mode": {
    "name": "ipython",
    "version": 3
   },
   "file_extension": ".py",
   "mimetype": "text/x-python",
   "name": "python",
   "nbconvert_exporter": "python",
   "pygments_lexer": "ipython3",
   "version": "3.11.6"
  }
 },
 "nbformat": 4,
 "nbformat_minor": 5
}
